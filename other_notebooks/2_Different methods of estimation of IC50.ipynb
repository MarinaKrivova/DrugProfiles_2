{
 "cells": [
  {
   "cell_type": "markdown",
   "metadata": {},
   "source": [
    "## Fitting drug response curves with sigmoid function"
   ]
  },
  {
   "cell_type": "markdown",
   "metadata": {},
   "source": [
    "1. Test different fitting function:\n",
    "2. visualise fitting and analyse errors\n",
    "3. Make visualisation of absolute and relative methods of estimaton of IC50"
   ]
  },
  {
   "cell_type": "code",
   "execution_count": 1,
   "metadata": {},
   "outputs": [],
   "source": [
    "import pandas as pd\n",
    "import numpy as np\n",
    "\n",
    "\n",
    "from tqdm import tqdm\n",
    "import warnings\n",
    "from fitting import *\n",
    "\n",
    "warnings.filterwarnings(\"ignore\")\n",
    "_FOLDER = \"data/\"\n",
    "_FOLDER_2 = \"figures/\""
   ]
  },
  {
   "cell_type": "code",
   "execution_count": 2,
   "metadata": {},
   "outputs": [
    {
     "data": {
      "text/plain": [
       "['filt_auc_limit_02.csv',\n",
       " 'filt_1234.csv',\n",
       " 'filt_auc_limit_06.csv',\n",
       " 'filt_123.csv',\n",
       " 'filt_auc_limit_04.csv']"
      ]
     },
     "execution_count": 2,
     "metadata": {},
     "output_type": "execute_result"
    }
   ],
   "source": [
    "import os\n",
    "os.listdir(\"results\")"
   ]
  },
  {
   "cell_type": "markdown",
   "metadata": {},
   "source": [
    "## Fitting data"
   ]
  },
  {
   "cell_type": "code",
   "execution_count": 3,
   "metadata": {},
   "outputs": [],
   "source": [
    "df = pd.read_csv(\"results/filt_123.csv\")\n",
    "conc_columns= [\"fd_num_\"+str(i) for i in range(10)]\n",
    "response_norm = ['norm_cells_'+str(i) for i in range(10)]"
   ]
  },
  {
   "cell_type": "markdown",
   "metadata": {},
   "source": [
    "### sigmoid_4_param"
   ]
  },
  {
   "cell_type": "code",
   "execution_count": 4,
   "metadata": {},
   "outputs": [
    {
     "name": "stderr",
     "output_type": "stream",
     "text": [
      "100%|██████████| 2776/2776 [00:03<00:00, 732.46it/s]"
     ]
    },
    {
     "name": "stdout",
     "output_type": "stream",
     "text": [
      "R2>0: (2724, 32)\n",
      "R2>0.9 2672\n",
      "Number of samples with fitting <0.1: 32\n",
      "\n",
      "CPU times: user 3.79 s, sys: 37 ms, total: 3.83 s\n",
      "Wall time: 3.81 s\n"
     ]
    },
    {
     "name": "stderr",
     "output_type": "stream",
     "text": [
      "\n"
     ]
    }
   ],
   "source": [
    "%%time\n",
    "fitting_function = \"sigmoid_4_param\"\n",
    "r2, fit_param = FittingColumn(df, df.index, x_columns=conc_columns, y_columns= response_norm,\n",
    "                               fitting_function = fitting_function, default_param=True)\n",
    "df[fitting_function+\"_r2\"] = r2\n",
    "df[fitting_function] = fit_param\n",
    "df= df[df[fitting_function+\"_r2\"]>0]\n",
    "print(\"R2>0:\", df.shape)\n",
    "print(\"R2>0.9\", df[df[fitting_function+\"_r2\"]>0.9].shape[0])\n",
    "print(\"Number of samples with fitting <0.1:\", df[df[fitting_function+\"_r2\"]<0.1].shape[0])\n",
    "print(\"\")"
   ]
  },
  {
   "cell_type": "markdown",
   "metadata": {},
   "source": [
    "## Illustration of different methods of estimation of IC50"
   ]
  },
  {
   "cell_type": "code",
   "execution_count": 5,
   "metadata": {},
   "outputs": [
    {
     "data": {
      "image/png": "[encoded data removed]",
      "text/plain": [
       "<Figure size 288x216 with 1 Axes>"
      ]
     },
     "metadata": {
      "needs_background": "light"
     },
     "output_type": "display_data"
    }
   ],
   "source": [
    "plt.figure(figsize=(4,3))\n",
    "ind =int(df[(df[\"DRUG_ID\"]==274)& (df[\"COSMIC_ID\"]==1240223)].index[0])\n",
    "fitting_parameters =fitting_function\n",
    "\n",
    "x = df.loc[ind, conc_columns].astype(\"float32\")\n",
    "y = df.loc[ind, response_norm].astype(\"float32\")\n",
    "plt.scatter(x, y)\n",
    "plt.tick_params(labelsize=11)\n",
    "plt.xlabel(\"Scaled dosage\", fontsize=12)\n",
    "plt.ylabel(\"Normalised Response\", fontsize=12)\n",
    "\n",
    "fit_param = df.loc[ind, fitting_parameters]\n",
    "y_fit = sigmoid_4_param(x, *fit_param)\n",
    "r2 = r2_score(y, y_fit)\n",
    "plt.plot(x, y_fit)\n",
    "plt.xlim([0,1.02])\n",
    "plt.ylim([0,1.02])\n",
    "#horisontal line\n",
    "x2 = np.linspace(0, 0.4, 5)\n",
    "y2 = np.array([0.5]*5)\n",
    "#vertical line\n",
    "x3= np.array([0.4]*5)\n",
    "y3=np.linspace(0, 0.5, 5)\n",
    "plt.plot(x2, y2, \"red\", linewidth = 1, linestyle='dashed')\n",
    "plt.plot(x3, y3, \"red\", linewidth = 1, linestyle='dashed', label =\"1\")\n",
    "\n",
    "#upper plateu\n",
    "x4 = np.linspace(0, 0.5, 5)\n",
    "y4 = np.array([0.95]*5)\n",
    "\n",
    "#lower plateu\n",
    "x5 = np.linspace(0.5, 1, 5)\n",
    "y5 = np.array([0.05]*5)\n",
    "#vertical line - difference between plateus\n",
    "x6= np.array([0.5]*5)\n",
    "y6=np.linspace(0.05, 0.95, 5)\n",
    "\n",
    "#horisontal line - 50% response\n",
    "x7 = np.linspace(0, 0.5, 5)\n",
    "y7 = np.array([0.45]*5)\n",
    "#vertical line \n",
    "x8= np.array([0.43]*5)\n",
    "y8=np.linspace(0, 0.45, 5)\n",
    "plt.plot(x4, y4, \"blue\", linewidth = 1, linestyle='dashed')\n",
    "plt.plot(x5, y5, \"blue\", linewidth = 1, linestyle='dashed')\n",
    "plt.plot(x6, y6, \"blue\", linewidth = 1, linestyle='dashed')\n",
    "plt.plot(x7, y7, \"green\", linewidth = 1, linestyle='dashed')\n",
    "plt.plot(x8, y8, \"green\", linewidth = 1, linestyle='dashed', label = \"2\")\n",
    "plt.legend()\n",
    "\n",
    "plt.savefig(_FOLDER_2+\"IC50_methods.png\", bbox_inches='tight', dpi=300);"
   ]
  },
  {
   "cell_type": "code",
   "execution_count": null,
   "metadata": {},
   "outputs": [],
   "source": []
  }
 ],
 "metadata": {
  "kernelspec": {
   "display_name": "Python 3",
   "language": "python",
   "name": "python3"
  },
  "language_info": {
   "codemirror_mode": {
    "name": "ipython",
    "version": 3
   },
   "file_extension": ".py",
   "mimetype": "text/x-python",
   "name": "python",
   "nbconvert_exporter": "python",
   "pygments_lexer": "ipython3",
   "version": "3.7.9"
  }
 },
 "nbformat": 4,
 "nbformat_minor": 2
}
