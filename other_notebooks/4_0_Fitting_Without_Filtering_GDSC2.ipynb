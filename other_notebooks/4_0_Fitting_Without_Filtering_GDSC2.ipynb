{
 "cells": [
  {
   "cell_type": "markdown",
   "metadata": {},
   "source": [
    "## Fitting drug response curves with sigmoid function"
   ]
  },
  {
   "cell_type": "code",
   "execution_count": 1,
   "metadata": {},
   "outputs": [],
   "source": [
    "import pandas as pd\n",
    "import numpy as np\n",
    "\n",
    "import matplotlib.pyplot as plt\n",
    "\n",
    "from scipy.optimize import curve_fit\n",
    "from sklearn.metrics import r2_score\n",
    "\n",
    "from tqdm import tqdm\n",
    "# import warnings\n",
    "# warnings.filterwarnings(\"ignore\")\n",
    "\n",
    "import os, sys\n",
    "\n",
    "if not sys.warnoptions:\n",
    "    import warnings\n",
    "    warnings.simplefilter(\"ignore\")\n",
    "os.environ[\"PYTHONWARNINGS\"] = \"ignore\"\n",
    "\n",
    "_FOLDER = \"data/\"\n",
    "_FOLDER_2 = \"figures/\"\n",
    "_FOLDER_3 = \"results/\"\n",
    "from fitting import *\n",
    "from filtering import *"
   ]
  },
  {
   "cell_type": "markdown",
   "metadata": {},
   "source": [
    "## Fitting data"
   ]
  },
  {
   "cell_type": "code",
   "execution_count": 2,
   "metadata": {},
   "outputs": [
    {
     "data": {
      "text/plain": [
       "(212349, 33)"
      ]
     },
     "execution_count": 2,
     "metadata": {},
     "output_type": "execute_result"
    }
   ],
   "source": [
    "drug_curves = pd.read_csv(_FOLDER+\"normalised_dose_response_data_GDCS2_EC_conc.csv\", sep = \"\\t\")\n",
    "\n",
    "if \"Unnamed: 0\" in drug_curves:\n",
    "    drug_curves.drop(\"Unnamed: 0\", axis=1, inplace =True)\n",
    "\n",
    "conc_columns= [\"fd_num_\"+str(i) for i in range(8)]\n",
    "response_norm = ['norm_cells_'+str(i) for i in range(8)]\n",
    "\n",
    "CCL_names = dict(zip(drug_curves[\"COSMIC_ID\"], drug_curves[\"CELL_LINE_NAME\"]))\n",
    "df= pd.read_csv(_FOLDER+'Drug_Features.csv')\n",
    "drug_names = dict(zip(df[\"Drug ID\"].values, df[\"Drug Name\"].values))\n",
    "del df\n",
    "drug_curves[\"drug_name\"] = drug_curves[\"DRUG_ID\"].map(drug_names)\n",
    "drug_curves[\"CCL_name\"] = drug_curves[\"COSMIC_ID\"].map(CCL_names)\n",
    "drug_curves.shape"
   ]
  },
  {
   "cell_type": "markdown",
   "metadata": {},
   "source": [
    "## Comparison of fitting models"
   ]
  },
  {
   "cell_type": "code",
   "execution_count": 3,
   "metadata": {},
   "outputs": [],
   "source": [
    "functions = [\n",
    "             \"fsigmoid\", \n",
    "             \"sigmoid_2_param\",\n",
    "             \"sigmoid_3_param\",\n",
    "             \"sigmoid_4_param\",\n",
    "             \"logistic_4_param\",\n",
    "            \"ll4_4_param\",\n",
    "            \"ll4R_4_param\",\n",
    "            \"logLogist_3_param\"]"
   ]
  },
  {
   "cell_type": "markdown",
   "metadata": {},
   "source": [
    "### What if don't use any filtering"
   ]
  },
  {
   "cell_type": "code",
   "execution_count": 4,
   "metadata": {},
   "outputs": [
    {
     "name": "stderr",
     "output_type": "stream",
     "text": [
      "\r",
      "  0%|          | 0/212349 [00:00<?, ?it/s]"
     ]
    },
    {
     "name": "stdout",
     "output_type": "stream",
     "text": [
      "(212349, 33)\n",
      "\n",
      " fsigmoid\n"
     ]
    },
    {
     "name": "stderr",
     "output_type": "stream",
     "text": [
      "100%|██████████| 212349/212349 [07:36<00:00, 464.69it/s]\n"
     ]
    },
    {
     "name": "stdout",
     "output_type": "stream",
     "text": [
      "<function fsigmoid at 0x7f9045ac9598>\n",
      "\n",
      " sigmoid_2_param\n"
     ]
    },
    {
     "name": "stderr",
     "output_type": "stream",
     "text": [
      "100%|██████████| 212349/212349 [05:44<00:00, 615.62it/s]\n"
     ]
    },
    {
     "name": "stdout",
     "output_type": "stream",
     "text": [
      "<function sigmoid_2_param at 0x7f9045ac9510>\n",
      "\n",
      " sigmoid_3_param\n"
     ]
    },
    {
     "name": "stderr",
     "output_type": "stream",
     "text": [
      "100%|██████████| 212349/212349 [21:59<00:00, 160.93it/s]  \n"
     ]
    },
    {
     "name": "stdout",
     "output_type": "stream",
     "text": [
      "<function sigmoid_3_param at 0x7f9045ac9620>\n",
      "\n",
      " sigmoid_4_param\n"
     ]
    },
    {
     "name": "stderr",
     "output_type": "stream",
     "text": [
      "100%|██████████| 212349/212349 [22:46<00:00, 155.44it/s] \n"
     ]
    },
    {
     "name": "stdout",
     "output_type": "stream",
     "text": [
      "<function sigmoid_4_param at 0x7f9045ac96a8>\n",
      "\n",
      " logistic_4_param\n"
     ]
    },
    {
     "name": "stderr",
     "output_type": "stream",
     "text": [
      "100%|██████████| 212349/212349 [31:26<00:00, 112.57it/s]  \n"
     ]
    },
    {
     "name": "stdout",
     "output_type": "stream",
     "text": [
      "<function logistic_4_param at 0x7f9045ac9840>\n",
      "\n",
      " ll4_4_param\n"
     ]
    },
    {
     "name": "stderr",
     "output_type": "stream",
     "text": [
      "100%|██████████| 212349/212349 [28:49<00:00, 122.81it/s] \n"
     ]
    },
    {
     "name": "stdout",
     "output_type": "stream",
     "text": [
      "<function ll4_4_param at 0x7f9045ac9730>\n",
      "\n",
      " ll4R_4_param\n"
     ]
    },
    {
     "name": "stderr",
     "output_type": "stream",
     "text": [
      "100%|██████████| 212349/212349 [18:32<00:00, 190.82it/s]\n"
     ]
    },
    {
     "name": "stdout",
     "output_type": "stream",
     "text": [
      "<function ll4R_4_param at 0x7f9045ac97b8>\n",
      "\n",
      " logLogist_3_param\n"
     ]
    },
    {
     "name": "stderr",
     "output_type": "stream",
     "text": [
      "100%|██████████| 212349/212349 [25:01<00:00, 141.46it/s]\n"
     ]
    },
    {
     "name": "stdout",
     "output_type": "stream",
     "text": [
      "<function logLogist_3_param at 0x7f9045ac98c8>\n",
      "\n",
      "\n"
     ]
    },
    {
     "data": {
      "text/html": [
       "<div>\n",
       "<style scoped>\n",
       "    .dataframe tbody tr th:only-of-type {\n",
       "        vertical-align: middle;\n",
       "    }\n",
       "\n",
       "    .dataframe tbody tr th {\n",
       "        vertical-align: top;\n",
       "    }\n",
       "\n",
       "    .dataframe thead th {\n",
       "        text-align: right;\n",
       "    }\n",
       "</style>\n",
       "<table border=\"1\" class=\"dataframe\">\n",
       "  <thead>\n",
       "    <tr style=\"text-align: right;\">\n",
       "      <th></th>\n",
       "      <th>best_fitting_count</th>\n",
       "      <th>min</th>\n",
       "      <th>max</th>\n",
       "      <th>r2&gt;0</th>\n",
       "      <th>r2&gt;0.8</th>\n",
       "      <th>r2&gt;0.9</th>\n",
       "      <th>r2&gt;0.99</th>\n",
       "    </tr>\n",
       "  </thead>\n",
       "  <tbody>\n",
       "    <tr>\n",
       "      <th>fsigmoid</th>\n",
       "      <td>242.0</td>\n",
       "      <td>-483.626782</td>\n",
       "      <td>0.999798</td>\n",
       "      <td>175791.0</td>\n",
       "      <td>69820.0</td>\n",
       "      <td>39968.0</td>\n",
       "      <td>39968.0</td>\n",
       "    </tr>\n",
       "    <tr>\n",
       "      <th>sigmoid_2_param</th>\n",
       "      <td>553.0</td>\n",
       "      <td>-6.800888</td>\n",
       "      <td>0.999798</td>\n",
       "      <td>168211.0</td>\n",
       "      <td>69741.0</td>\n",
       "      <td>39887.0</td>\n",
       "      <td>39887.0</td>\n",
       "    </tr>\n",
       "    <tr>\n",
       "      <th>sigmoid_3_param</th>\n",
       "      <td>12222.0</td>\n",
       "      <td>-1.017457</td>\n",
       "      <td>0.999905</td>\n",
       "      <td>210517.0</td>\n",
       "      <td>87327.0</td>\n",
       "      <td>56530.0</td>\n",
       "      <td>56530.0</td>\n",
       "    </tr>\n",
       "    <tr>\n",
       "      <th>sigmoid_4_param</th>\n",
       "      <td>29864.0</td>\n",
       "      <td>-0.101671</td>\n",
       "      <td>0.999933</td>\n",
       "      <td>186159.0</td>\n",
       "      <td>83364.0</td>\n",
       "      <td>62506.0</td>\n",
       "      <td>62506.0</td>\n",
       "    </tr>\n",
       "    <tr>\n",
       "      <th>logistic_4_param</th>\n",
       "      <td>34511.0</td>\n",
       "      <td>-0.031318</td>\n",
       "      <td>0.999969</td>\n",
       "      <td>198848.0</td>\n",
       "      <td>98245.0</td>\n",
       "      <td>70961.0</td>\n",
       "      <td>70961.0</td>\n",
       "    </tr>\n",
       "    <tr>\n",
       "      <th>ll4_4_param</th>\n",
       "      <td>35413.0</td>\n",
       "      <td>-0.046725</td>\n",
       "      <td>0.999979</td>\n",
       "      <td>198464.0</td>\n",
       "      <td>98074.0</td>\n",
       "      <td>70917.0</td>\n",
       "      <td>70917.0</td>\n",
       "    </tr>\n",
       "    <tr>\n",
       "      <th>ll4R_4_param</th>\n",
       "      <td>44580.0</td>\n",
       "      <td>-0.682404</td>\n",
       "      <td>0.999969</td>\n",
       "      <td>204257.0</td>\n",
       "      <td>97933.0</td>\n",
       "      <td>70729.0</td>\n",
       "      <td>70729.0</td>\n",
       "    </tr>\n",
       "    <tr>\n",
       "      <th>logLogist_3_param</th>\n",
       "      <td>54964.0</td>\n",
       "      <td>-5.742577</td>\n",
       "      <td>0.999987</td>\n",
       "      <td>185051.0</td>\n",
       "      <td>89565.0</td>\n",
       "      <td>63249.0</td>\n",
       "      <td>63249.0</td>\n",
       "    </tr>\n",
       "  </tbody>\n",
       "</table>\n",
       "</div>"
      ],
      "text/plain": [
       "                   best_fitting_count         min       max      r2>0  \\\n",
       "fsigmoid                        242.0 -483.626782  0.999798  175791.0   \n",
       "sigmoid_2_param                 553.0   -6.800888  0.999798  168211.0   \n",
       "sigmoid_3_param               12222.0   -1.017457  0.999905  210517.0   \n",
       "sigmoid_4_param               29864.0   -0.101671  0.999933  186159.0   \n",
       "logistic_4_param              34511.0   -0.031318  0.999969  198848.0   \n",
       "ll4_4_param                   35413.0   -0.046725  0.999979  198464.0   \n",
       "ll4R_4_param                  44580.0   -0.682404  0.999969  204257.0   \n",
       "logLogist_3_param             54964.0   -5.742577  0.999987  185051.0   \n",
       "\n",
       "                    r2>0.8   r2>0.9  r2>0.99  \n",
       "fsigmoid           69820.0  39968.0  39968.0  \n",
       "sigmoid_2_param    69741.0  39887.0  39887.0  \n",
       "sigmoid_3_param    87327.0  56530.0  56530.0  \n",
       "sigmoid_4_param    83364.0  62506.0  62506.0  \n",
       "logistic_4_param   98245.0  70961.0  70961.0  \n",
       "ll4_4_param        98074.0  70917.0  70917.0  \n",
       "ll4R_4_param       97933.0  70729.0  70729.0  \n",
       "logLogist_3_param  89565.0  63249.0  63249.0  "
      ]
     },
     "metadata": {},
     "output_type": "display_data"
    },
    {
     "name": "stdout",
     "output_type": "stream",
     "text": [
      "\n",
      "Examples of bad fitting with sigmoid_4_param (r2<0.61): 108498\n"
     ]
    },
    {
     "data": {
      "text/html": [
       "<div>\n",
       "<style scoped>\n",
       "    .dataframe tbody tr th:only-of-type {\n",
       "        vertical-align: middle;\n",
       "    }\n",
       "\n",
       "    .dataframe tbody tr th {\n",
       "        vertical-align: top;\n",
       "    }\n",
       "\n",
       "    .dataframe thead th {\n",
       "        text-align: right;\n",
       "    }\n",
       "</style>\n",
       "<table border=\"1\" class=\"dataframe\">\n",
       "  <thead>\n",
       "    <tr style=\"text-align: right;\">\n",
       "      <th></th>\n",
       "      <th>COSMIC_ID</th>\n",
       "      <th>DRUG_ID</th>\n",
       "      <th>fsigmoid_r2</th>\n",
       "      <th>sigmoid_2_param_r2</th>\n",
       "      <th>sigmoid_3_param_r2</th>\n",
       "      <th>sigmoid_4_param_r2</th>\n",
       "      <th>logistic_4_param_r2</th>\n",
       "      <th>ll4_4_param_r2</th>\n",
       "      <th>ll4R_4_param_r2</th>\n",
       "      <th>logLogist_3_param_r2</th>\n",
       "      <th>better_fitting</th>\n",
       "    </tr>\n",
       "  </thead>\n",
       "  <tbody>\n",
       "    <tr>\n",
       "      <th>5</th>\n",
       "      <td>924100</td>\n",
       "      <td>1005</td>\n",
       "      <td>0.845425</td>\n",
       "      <td>0.845425</td>\n",
       "      <td>0.551665</td>\n",
       "      <td>7.057422e-09</td>\n",
       "      <td>0.883194</td>\n",
       "      <td>0.886702</td>\n",
       "      <td>0.886702</td>\n",
       "      <td>0.856996</td>\n",
       "      <td>ll4_4_param</td>\n",
       "    </tr>\n",
       "    <tr>\n",
       "      <th>6</th>\n",
       "      <td>924100</td>\n",
       "      <td>1005</td>\n",
       "      <td>0.196062</td>\n",
       "      <td>0.196062</td>\n",
       "      <td>0.246722</td>\n",
       "      <td>2.183123e-01</td>\n",
       "      <td>0.367059</td>\n",
       "      <td>0.367062</td>\n",
       "      <td>0.367062</td>\n",
       "      <td>0.314096</td>\n",
       "      <td>ll4_4_param</td>\n",
       "    </tr>\n",
       "    <tr>\n",
       "      <th>7</th>\n",
       "      <td>924100</td>\n",
       "      <td>1005</td>\n",
       "      <td>0.805569</td>\n",
       "      <td>0.805569</td>\n",
       "      <td>0.809687</td>\n",
       "      <td>2.881323e-01</td>\n",
       "      <td>0.814873</td>\n",
       "      <td>0.812688</td>\n",
       "      <td>0.838101</td>\n",
       "      <td>0.768592</td>\n",
       "      <td>ll4R_4_param</td>\n",
       "    </tr>\n",
       "    <tr>\n",
       "      <th>8</th>\n",
       "      <td>924100</td>\n",
       "      <td>1006</td>\n",
       "      <td>0.258827</td>\n",
       "      <td>0.258826</td>\n",
       "      <td>0.006678</td>\n",
       "      <td>3.444313e-03</td>\n",
       "      <td>0.285134</td>\n",
       "      <td>0.285046</td>\n",
       "      <td>0.285412</td>\n",
       "      <td>0.152983</td>\n",
       "      <td>ll4R_4_param</td>\n",
       "    </tr>\n",
       "    <tr>\n",
       "      <th>9</th>\n",
       "      <td>924100</td>\n",
       "      <td>1007</td>\n",
       "      <td>0.717247</td>\n",
       "      <td>0.717247</td>\n",
       "      <td>0.717958</td>\n",
       "      <td>0.000000e+00</td>\n",
       "      <td>0.819205</td>\n",
       "      <td>0.819206</td>\n",
       "      <td>0.819205</td>\n",
       "      <td>0.807878</td>\n",
       "      <td>ll4_4_param</td>\n",
       "    </tr>\n",
       "  </tbody>\n",
       "</table>\n",
       "</div>"
      ],
      "text/plain": [
       "   COSMIC_ID  DRUG_ID  fsigmoid_r2  sigmoid_2_param_r2  sigmoid_3_param_r2  \\\n",
       "5     924100     1005     0.845425            0.845425            0.551665   \n",
       "6     924100     1005     0.196062            0.196062            0.246722   \n",
       "7     924100     1005     0.805569            0.805569            0.809687   \n",
       "8     924100     1006     0.258827            0.258826            0.006678   \n",
       "9     924100     1007     0.717247            0.717247            0.717958   \n",
       "\n",
       "   sigmoid_4_param_r2  logistic_4_param_r2  ll4_4_param_r2  ll4R_4_param_r2  \\\n",
       "5        7.057422e-09             0.883194        0.886702         0.886702   \n",
       "6        2.183123e-01             0.367059        0.367062         0.367062   \n",
       "7        2.881323e-01             0.814873        0.812688         0.838101   \n",
       "8        3.444313e-03             0.285134        0.285046         0.285412   \n",
       "9        0.000000e+00             0.819205        0.819206         0.819205   \n",
       "\n",
       "   logLogist_3_param_r2 better_fitting  \n",
       "5              0.856996    ll4_4_param  \n",
       "6              0.314096    ll4_4_param  \n",
       "7              0.768592   ll4R_4_param  \n",
       "8              0.152983   ll4R_4_param  \n",
       "9              0.807878    ll4_4_param  "
      ]
     },
     "metadata": {},
     "output_type": "display_data"
    },
    {
     "name": "stdout",
     "output_type": "stream",
     "text": [
      "CPU times: user 2h 18min 38s, sys: 9min 24s, total: 2h 28min 3s\n",
      "Wall time: 2h 45min 58s\n"
     ]
    }
   ],
   "source": [
    "%%time\n",
    "df = CompareFittingFunctions(drug_curves, functions, conc_columns, response_norm, save_file_name = _FOLDER+\"fit_no_filt_gdsc2.csv\")"
   ]
  },
  {
   "cell_type": "code",
   "execution_count": 15,
   "metadata": {},
   "outputs": [],
   "source": [
    "df1 = pd.read_csv(_FOLDER+\"fit_no_filt_gdsc1.csv\")\n",
    "df2 = pd.read_csv(_FOLDER+\"fit_no_filt_gdsc2.csv\")"
   ]
  },
  {
   "cell_type": "code",
   "execution_count": 17,
   "metadata": {},
   "outputs": [
    {
     "name": "stdout",
     "output_type": "stream",
     "text": [
      "GDSC1: 225384\n"
     ]
    },
    {
     "data": {
      "text/html": [
       "<div>\n",
       "<style scoped>\n",
       "    .dataframe tbody tr th:only-of-type {\n",
       "        vertical-align: middle;\n",
       "    }\n",
       "\n",
       "    .dataframe tbody tr th {\n",
       "        vertical-align: top;\n",
       "    }\n",
       "\n",
       "    .dataframe thead th {\n",
       "        text-align: right;\n",
       "    }\n",
       "</style>\n",
       "<table border=\"1\" class=\"dataframe\">\n",
       "  <thead>\n",
       "    <tr style=\"text-align: right;\">\n",
       "      <th></th>\n",
       "      <th>r2&gt;0.9</th>\n",
       "      <th>r2&gt;0.99</th>\n",
       "    </tr>\n",
       "  </thead>\n",
       "  <tbody>\n",
       "    <tr>\n",
       "      <th>fsigmoid</th>\n",
       "      <td>53091</td>\n",
       "      <td>6638</td>\n",
       "    </tr>\n",
       "    <tr>\n",
       "      <th>sigmoid_2_param</th>\n",
       "      <td>53063</td>\n",
       "      <td>6612</td>\n",
       "    </tr>\n",
       "    <tr>\n",
       "      <th>sigmoid_3_param</th>\n",
       "      <td>70557</td>\n",
       "      <td>11402</td>\n",
       "    </tr>\n",
       "    <tr>\n",
       "      <th>sigmoid_4_param</th>\n",
       "      <td>53848</td>\n",
       "      <td>15166</td>\n",
       "    </tr>\n",
       "    <tr>\n",
       "      <th>logistic_4_param</th>\n",
       "      <td>73123</td>\n",
       "      <td>16752</td>\n",
       "    </tr>\n",
       "    <tr>\n",
       "      <th>ll4_4_param</th>\n",
       "      <td>73155</td>\n",
       "      <td>17082</td>\n",
       "    </tr>\n",
       "    <tr>\n",
       "      <th>ll4R_4_param</th>\n",
       "      <td>67847</td>\n",
       "      <td>16614</td>\n",
       "    </tr>\n",
       "    <tr>\n",
       "      <th>logLogist_3_param</th>\n",
       "      <td>72883</td>\n",
       "      <td>16215</td>\n",
       "    </tr>\n",
       "  </tbody>\n",
       "</table>\n",
       "</div>"
      ],
      "text/plain": [
       "                  r2>0.9 r2>0.99\n",
       "fsigmoid           53091    6638\n",
       "sigmoid_2_param    53063    6612\n",
       "sigmoid_3_param    70557   11402\n",
       "sigmoid_4_param    53848   15166\n",
       "logistic_4_param   73123   16752\n",
       "ll4_4_param        73155   17082\n",
       "ll4R_4_param       67847   16614\n",
       "logLogist_3_param  72883   16215"
      ]
     },
     "execution_count": 17,
     "metadata": {},
     "output_type": "execute_result"
    }
   ],
   "source": [
    "#GDSC1\n",
    "print(\"GDSC1:\", df1.shape[0])\n",
    "stat =  pd.DataFrame(index =  functions, columns = [\"r2>0.9\", \"r2>0.99\"])\n",
    "for func in stat.index:\n",
    "    for col in stat.columns:\n",
    "        r2 = float(col.split(\">\")[-1])\n",
    "        stat.loc[func, col] = df1[df1[func+\"_r2\"]>= r2].shape[0]\n",
    "stat"
   ]
  },
  {
   "cell_type": "code",
   "execution_count": 19,
   "metadata": {},
   "outputs": [
    {
     "name": "stdout",
     "output_type": "stream",
     "text": [
      "GDSC2: 212349\n"
     ]
    },
    {
     "data": {
      "text/html": [
       "<div>\n",
       "<style scoped>\n",
       "    .dataframe tbody tr th:only-of-type {\n",
       "        vertical-align: middle;\n",
       "    }\n",
       "\n",
       "    .dataframe tbody tr th {\n",
       "        vertical-align: top;\n",
       "    }\n",
       "\n",
       "    .dataframe thead th {\n",
       "        text-align: right;\n",
       "    }\n",
       "</style>\n",
       "<table border=\"1\" class=\"dataframe\">\n",
       "  <thead>\n",
       "    <tr style=\"text-align: right;\">\n",
       "      <th></th>\n",
       "      <th>r2&gt;0.9</th>\n",
       "      <th>r2&gt;0.99</th>\n",
       "    </tr>\n",
       "  </thead>\n",
       "  <tbody>\n",
       "    <tr>\n",
       "      <th>fsigmoid</th>\n",
       "      <td>39968</td>\n",
       "      <td>1475</td>\n",
       "    </tr>\n",
       "    <tr>\n",
       "      <th>sigmoid_2_param</th>\n",
       "      <td>39887</td>\n",
       "      <td>1465</td>\n",
       "    </tr>\n",
       "    <tr>\n",
       "      <th>sigmoid_3_param</th>\n",
       "      <td>56530</td>\n",
       "      <td>3908</td>\n",
       "    </tr>\n",
       "    <tr>\n",
       "      <th>sigmoid_4_param</th>\n",
       "      <td>62506</td>\n",
       "      <td>7857</td>\n",
       "    </tr>\n",
       "    <tr>\n",
       "      <th>logistic_4_param</th>\n",
       "      <td>70961</td>\n",
       "      <td>8856</td>\n",
       "    </tr>\n",
       "    <tr>\n",
       "      <th>ll4_4_param</th>\n",
       "      <td>70917</td>\n",
       "      <td>8867</td>\n",
       "    </tr>\n",
       "    <tr>\n",
       "      <th>ll4R_4_param</th>\n",
       "      <td>70729</td>\n",
       "      <td>8811</td>\n",
       "    </tr>\n",
       "    <tr>\n",
       "      <th>logLogist_3_param</th>\n",
       "      <td>63249</td>\n",
       "      <td>6942</td>\n",
       "    </tr>\n",
       "  </tbody>\n",
       "</table>\n",
       "</div>"
      ],
      "text/plain": [
       "                  r2>0.9 r2>0.99\n",
       "fsigmoid           39968    1475\n",
       "sigmoid_2_param    39887    1465\n",
       "sigmoid_3_param    56530    3908\n",
       "sigmoid_4_param    62506    7857\n",
       "logistic_4_param   70961    8856\n",
       "ll4_4_param        70917    8867\n",
       "ll4R_4_param       70729    8811\n",
       "logLogist_3_param  63249    6942"
      ]
     },
     "execution_count": 19,
     "metadata": {},
     "output_type": "execute_result"
    }
   ],
   "source": [
    "#GDSC2\n",
    "print(\"GDSC2:\", df2.shape[0])\n",
    "stat =  pd.DataFrame(index =  functions, columns = [\"r2>0.9\", \"r2>0.99\"])\n",
    "for func in stat.index:\n",
    "    for col in stat.columns:\n",
    "        r2 = float(col.split(\">\")[-1])\n",
    "        stat.loc[func, col] = df2[df2[func+\"_r2\"]>= r2].shape[0]\n",
    "stat"
   ]
  },
  {
   "cell_type": "code",
   "execution_count": null,
   "metadata": {},
   "outputs": [],
   "source": []
  }
 ],
 "metadata": {
  "kernelspec": {
   "display_name": "Python 3",
   "language": "python",
   "name": "python3"
  },
  "language_info": {
   "codemirror_mode": {
    "name": "ipython",
    "version": 3
   },
   "file_extension": ".py",
   "mimetype": "text/x-python",
   "name": "python",
   "nbconvert_exporter": "python",
   "pygments_lexer": "ipython3",
   "version": "3.6.10"
  }
 },
 "nbformat": 4,
 "nbformat_minor": 2
}
