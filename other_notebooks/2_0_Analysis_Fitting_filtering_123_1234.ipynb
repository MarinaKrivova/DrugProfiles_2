{
 "cells": [
  {
   "cell_type": "markdown",
   "metadata": {},
   "source": [
    "## Fitting drug response curves with sigmoid function"
   ]
  },
  {
   "cell_type": "code",
   "execution_count": 1,
   "metadata": {},
   "outputs": [],
   "source": [
    "import pandas as pd\n",
    "import numpy as np\n",
    "import matplotlib.pyplot as plt\n",
    "from scipy.optimize import curve_fit\n",
    "from sklearn.metrics import r2_score\n",
    "from tqdm import tqdm\n",
    "import warnings\n",
    "warnings.filterwarnings(\"ignore\")\n",
    "import os, sys\n",
    "sys.path.insert(1, os.path.relpath(\"../functions\"))\n",
    "from fitting import *\n",
    "from filtering import *\n",
    "\n",
    "_FOLDER = \"../data/\"\n",
    "_FOLDER_2 = \"../figures/\"\n",
    "_FOLDER_3 = \"../results/\"\n",
    "SAVE_FIGURES = False"
   ]
  },
  {
   "cell_type": "markdown",
   "metadata": {},
   "source": [
    "## Fitting data"
   ]
  },
  {
   "cell_type": "code",
   "execution_count": 2,
   "metadata": {},
   "outputs": [],
   "source": [
    "drug_curves = pd.read_csv(_FOLDER+\"normalised_dose_response_data.csv\")\n",
    "\n",
    "conc_columns= [\"fd_num_\"+str(i) for i in range(10)]\n",
    "response_norm = ['norm_cells_'+str(i) for i in range(10)]"
   ]
  },
  {
   "cell_type": "markdown",
   "metadata": {},
   "source": [
    "## Comparison of fitting models"
   ]
  },
  {
   "cell_type": "code",
   "execution_count": 3,
   "metadata": {},
   "outputs": [],
   "source": [
    "functions = [\n",
    "             \"fsigmoid\", \n",
    "             \"sigmoid_2_param\",\n",
    "             \"sigmoid_3_param\",\n",
    "             \"sigmoid_4_param\",\n",
    "             \"logistic_4_param\",\n",
    "            \"ll4_4_param\",\n",
    "            \"ll4R_4_param\",\n",
    "            \"logLogist_3_param\"]"
   ]
  },
  {
   "cell_type": "markdown",
   "metadata": {},
   "source": [
    "### Which function gives the best fitting?"
   ]
  },
  {
   "cell_type": "code",
   "execution_count": 4,
   "metadata": {},
   "outputs": [
    {
     "name": "stdout",
     "output_type": "stream",
     "text": [
      "Original dataset: (225384, 44)\n"
     ]
    },
    {
     "name": "stderr",
     "output_type": "stream",
     "text": [
      "\r",
      "  0%|          | 0/2776 [00:00<?, ?it/s]"
     ]
    },
    {
     "name": "stdout",
     "output_type": "stream",
     "text": [
      "1st filtration (Ensure that all the response are less than 1): Filtered dataset: (63325, 44)\n",
      "2d filtration (Ensure that first and last points form plateus): Filtered dataset: (6321, 46)\n",
      "3d stage filtration (Specified location of the plateus): Filtered dataset: (2776, 46)\n",
      "(2776, 46)\n",
      "\n",
      " fsigmoid\n"
     ]
    },
    {
     "name": "stderr",
     "output_type": "stream",
     "text": [
      "100%|██████████| 2776/2776 [00:04<00:00, 561.98it/s]\n",
      "  2%|▏         | 44/2776 [00:00<00:06, 438.64it/s]"
     ]
    },
    {
     "name": "stdout",
     "output_type": "stream",
     "text": [
      "<function fsigmoid at 0x7ffe7f2cc9d8>\n",
      "\n",
      " sigmoid_2_param\n"
     ]
    },
    {
     "name": "stderr",
     "output_type": "stream",
     "text": [
      "100%|██████████| 2776/2776 [00:04<00:00, 578.58it/s]\n",
      "  1%|          | 32/2776 [00:00<00:08, 318.97it/s]"
     ]
    },
    {
     "name": "stdout",
     "output_type": "stream",
     "text": [
      "<function sigmoid_2_param at 0x7ffe7f2cc950>\n",
      "\n",
      " sigmoid_3_param\n"
     ]
    },
    {
     "name": "stderr",
     "output_type": "stream",
     "text": [
      "100%|██████████| 2776/2776 [00:08<00:00, 321.70it/s]\n",
      "  1%|          | 30/2776 [00:00<00:09, 296.38it/s]"
     ]
    },
    {
     "name": "stdout",
     "output_type": "stream",
     "text": [
      "<function sigmoid_3_param at 0x7ffe7f2cca60>\n",
      "\n",
      " sigmoid_4_param\n"
     ]
    },
    {
     "name": "stderr",
     "output_type": "stream",
     "text": [
      "100%|██████████| 2776/2776 [00:10<00:00, 259.42it/s]\n",
      "  1%|          | 22/2776 [00:00<00:12, 219.84it/s]"
     ]
    },
    {
     "name": "stdout",
     "output_type": "stream",
     "text": [
      "<function sigmoid_4_param at 0x7ffe7f2ccae8>\n",
      "\n",
      " logistic_4_param\n"
     ]
    },
    {
     "name": "stderr",
     "output_type": "stream",
     "text": [
      "100%|██████████| 2776/2776 [00:10<00:00, 265.56it/s]\n",
      "  1%|          | 19/2776 [00:00<00:15, 179.85it/s]"
     ]
    },
    {
     "name": "stdout",
     "output_type": "stream",
     "text": [
      "<function logistic_4_param at 0x7ffe7f2ccc80>\n",
      "\n",
      " ll4_4_param\n"
     ]
    },
    {
     "name": "stderr",
     "output_type": "stream",
     "text": [
      "100%|██████████| 2776/2776 [00:11<00:00, 234.59it/s]\n",
      "  1%|          | 22/2776 [00:00<00:12, 213.35it/s]"
     ]
    },
    {
     "name": "stdout",
     "output_type": "stream",
     "text": [
      "<function ll4_4_param at 0x7ffe7f2ccb70>\n",
      "\n",
      " ll4R_4_param\n"
     ]
    },
    {
     "name": "stderr",
     "output_type": "stream",
     "text": [
      "100%|██████████| 2776/2776 [00:11<00:00, 250.20it/s]\n",
      "  1%|          | 20/2776 [00:00<00:14, 189.45it/s]"
     ]
    },
    {
     "name": "stdout",
     "output_type": "stream",
     "text": [
      "<function ll4R_4_param at 0x7ffe7f2ccbf8>\n",
      "\n",
      " logLogist_3_param\n"
     ]
    },
    {
     "name": "stderr",
     "output_type": "stream",
     "text": [
      "100%|██████████| 2776/2776 [00:09<00:00, 288.87it/s]\n"
     ]
    },
    {
     "name": "stdout",
     "output_type": "stream",
     "text": [
      "<function logLogist_3_param at 0x7ffe7f2ccd08>\n",
      "\n",
      "\n"
     ]
    },
    {
     "data": {
      "text/html": [
       "<div>\n",
       "<style scoped>\n",
       "    .dataframe tbody tr th:only-of-type {\n",
       "        vertical-align: middle;\n",
       "    }\n",
       "\n",
       "    .dataframe tbody tr th {\n",
       "        vertical-align: top;\n",
       "    }\n",
       "\n",
       "    .dataframe thead th {\n",
       "        text-align: right;\n",
       "    }\n",
       "</style>\n",
       "<table border=\"1\" class=\"dataframe\">\n",
       "  <thead>\n",
       "    <tr style=\"text-align: right;\">\n",
       "      <th></th>\n",
       "      <th>best_fitting_count</th>\n",
       "      <th>min</th>\n",
       "      <th>max</th>\n",
       "      <th>r2&gt;0</th>\n",
       "      <th>r2&gt;0.8</th>\n",
       "      <th>r2&gt;0.9</th>\n",
       "      <th>r2&gt;0.99</th>\n",
       "    </tr>\n",
       "  </thead>\n",
       "  <tbody>\n",
       "    <tr>\n",
       "      <th>fsigmoid</th>\n",
       "      <td>0.0</td>\n",
       "      <td>4.051079e-01</td>\n",
       "      <td>0.999899</td>\n",
       "      <td>2776.0</td>\n",
       "      <td>2709.0</td>\n",
       "      <td>2472.0</td>\n",
       "      <td>2472.0</td>\n",
       "    </tr>\n",
       "    <tr>\n",
       "      <th>sigmoid_2_param</th>\n",
       "      <td>0.0</td>\n",
       "      <td>4.051077e-01</td>\n",
       "      <td>0.999899</td>\n",
       "      <td>2776.0</td>\n",
       "      <td>2709.0</td>\n",
       "      <td>2472.0</td>\n",
       "      <td>2472.0</td>\n",
       "    </tr>\n",
       "    <tr>\n",
       "      <th>sigmoid_3_param</th>\n",
       "      <td>3.0</td>\n",
       "      <td>4.169985e-01</td>\n",
       "      <td>0.999926</td>\n",
       "      <td>2776.0</td>\n",
       "      <td>2759.0</td>\n",
       "      <td>2702.0</td>\n",
       "      <td>2702.0</td>\n",
       "    </tr>\n",
       "    <tr>\n",
       "      <th>sigmoid_4_param</th>\n",
       "      <td>1122.0</td>\n",
       "      <td>-4.195295e-07</td>\n",
       "      <td>0.999981</td>\n",
       "      <td>2755.0</td>\n",
       "      <td>2721.0</td>\n",
       "      <td>2703.0</td>\n",
       "      <td>2703.0</td>\n",
       "    </tr>\n",
       "    <tr>\n",
       "      <th>logistic_4_param</th>\n",
       "      <td>302.0</td>\n",
       "      <td>4.033435e-01</td>\n",
       "      <td>0.999981</td>\n",
       "      <td>2776.0</td>\n",
       "      <td>2761.0</td>\n",
       "      <td>2739.0</td>\n",
       "      <td>2739.0</td>\n",
       "    </tr>\n",
       "    <tr>\n",
       "      <th>ll4_4_param</th>\n",
       "      <td>265.0</td>\n",
       "      <td>4.035149e-01</td>\n",
       "      <td>0.999981</td>\n",
       "      <td>2776.0</td>\n",
       "      <td>2761.0</td>\n",
       "      <td>2740.0</td>\n",
       "      <td>2740.0</td>\n",
       "    </tr>\n",
       "    <tr>\n",
       "      <th>ll4R_4_param</th>\n",
       "      <td>278.0</td>\n",
       "      <td>9.126042e-08</td>\n",
       "      <td>0.999981</td>\n",
       "      <td>2776.0</td>\n",
       "      <td>2759.0</td>\n",
       "      <td>2735.0</td>\n",
       "      <td>2735.0</td>\n",
       "    </tr>\n",
       "    <tr>\n",
       "      <th>logLogist_3_param</th>\n",
       "      <td>806.0</td>\n",
       "      <td>4.683318e-01</td>\n",
       "      <td>0.999978</td>\n",
       "      <td>2776.0</td>\n",
       "      <td>2760.0</td>\n",
       "      <td>2734.0</td>\n",
       "      <td>2734.0</td>\n",
       "    </tr>\n",
       "  </tbody>\n",
       "</table>\n",
       "</div>"
      ],
      "text/plain": [
       "                   best_fitting_count           min       max    r2>0  r2>0.8  \\\n",
       "fsigmoid                          0.0  4.051079e-01  0.999899  2776.0  2709.0   \n",
       "sigmoid_2_param                   0.0  4.051077e-01  0.999899  2776.0  2709.0   \n",
       "sigmoid_3_param                   3.0  4.169985e-01  0.999926  2776.0  2759.0   \n",
       "sigmoid_4_param                1122.0 -4.195295e-07  0.999981  2755.0  2721.0   \n",
       "logistic_4_param                302.0  4.033435e-01  0.999981  2776.0  2761.0   \n",
       "ll4_4_param                     265.0  4.035149e-01  0.999981  2776.0  2761.0   \n",
       "ll4R_4_param                    278.0  9.126042e-08  0.999981  2776.0  2759.0   \n",
       "logLogist_3_param               806.0  4.683318e-01  0.999978  2776.0  2760.0   \n",
       "\n",
       "                   r2>0.9  r2>0.99  \n",
       "fsigmoid           2472.0   2472.0  \n",
       "sigmoid_2_param    2472.0   2472.0  \n",
       "sigmoid_3_param    2702.0   2702.0  \n",
       "sigmoid_4_param    2703.0   2703.0  \n",
       "logistic_4_param   2739.0   2739.0  \n",
       "ll4_4_param        2740.0   2740.0  \n",
       "ll4R_4_param       2735.0   2735.0  \n",
       "logLogist_3_param  2734.0   2734.0  "
      ]
     },
     "metadata": {},
     "output_type": "display_data"
    },
    {
     "name": "stdout",
     "output_type": "stream",
     "text": [
      "\n",
      "Examples of bad fitting with sigmoid_4_param (r2<0.61): 46\n"
     ]
    },
    {
     "data": {
      "text/html": [
       "<div>\n",
       "<style scoped>\n",
       "    .dataframe tbody tr th:only-of-type {\n",
       "        vertical-align: middle;\n",
       "    }\n",
       "\n",
       "    .dataframe tbody tr th {\n",
       "        vertical-align: top;\n",
       "    }\n",
       "\n",
       "    .dataframe thead th {\n",
       "        text-align: right;\n",
       "    }\n",
       "</style>\n",
       "<table border=\"1\" class=\"dataframe\">\n",
       "  <thead>\n",
       "    <tr style=\"text-align: right;\">\n",
       "      <th></th>\n",
       "      <th>COSMIC_ID</th>\n",
       "      <th>DRUG_ID</th>\n",
       "      <th>fsigmoid_r2</th>\n",
       "      <th>sigmoid_2_param_r2</th>\n",
       "      <th>sigmoid_3_param_r2</th>\n",
       "      <th>sigmoid_4_param_r2</th>\n",
       "      <th>logistic_4_param_r2</th>\n",
       "      <th>ll4_4_param_r2</th>\n",
       "      <th>ll4R_4_param_r2</th>\n",
       "      <th>logLogist_3_param_r2</th>\n",
       "      <th>better_fitting</th>\n",
       "    </tr>\n",
       "  </thead>\n",
       "  <tbody>\n",
       "    <tr>\n",
       "      <th>570</th>\n",
       "      <td>910851</td>\n",
       "      <td>170</td>\n",
       "      <td>0.991346</td>\n",
       "      <td>0.991346</td>\n",
       "      <td>0.995994</td>\n",
       "      <td>0.000000e+00</td>\n",
       "      <td>0.998188</td>\n",
       "      <td>0.998188</td>\n",
       "      <td>0.998188</td>\n",
       "      <td>0.997637</td>\n",
       "      <td>ll4_4_param</td>\n",
       "    </tr>\n",
       "    <tr>\n",
       "      <th>2311</th>\n",
       "      <td>1290724</td>\n",
       "      <td>268</td>\n",
       "      <td>0.948049</td>\n",
       "      <td>0.948049</td>\n",
       "      <td>0.985379</td>\n",
       "      <td>2.473649e-08</td>\n",
       "      <td>0.992273</td>\n",
       "      <td>0.992273</td>\n",
       "      <td>0.992273</td>\n",
       "      <td>0.989404</td>\n",
       "      <td>logistic_4_param</td>\n",
       "    </tr>\n",
       "    <tr>\n",
       "      <th>134042</th>\n",
       "      <td>910700</td>\n",
       "      <td>83</td>\n",
       "      <td>0.482058</td>\n",
       "      <td>0.482058</td>\n",
       "      <td>0.539801</td>\n",
       "      <td>5.493351e-01</td>\n",
       "      <td>0.549078</td>\n",
       "      <td>0.552771</td>\n",
       "      <td>0.552771</td>\n",
       "      <td>0.536839</td>\n",
       "      <td>ll4_4_param</td>\n",
       "    </tr>\n",
       "    <tr>\n",
       "      <th>3576</th>\n",
       "      <td>907064</td>\n",
       "      <td>180</td>\n",
       "      <td>0.988098</td>\n",
       "      <td>0.988098</td>\n",
       "      <td>0.996652</td>\n",
       "      <td>3.555965e-08</td>\n",
       "      <td>0.997866</td>\n",
       "      <td>0.997866</td>\n",
       "      <td>0.997866</td>\n",
       "      <td>0.997858</td>\n",
       "      <td>ll4R_4_param</td>\n",
       "    </tr>\n",
       "    <tr>\n",
       "      <th>6957</th>\n",
       "      <td>1240150</td>\n",
       "      <td>180</td>\n",
       "      <td>0.781777</td>\n",
       "      <td>0.781777</td>\n",
       "      <td>0.957028</td>\n",
       "      <td>8.791738e-10</td>\n",
       "      <td>0.981340</td>\n",
       "      <td>0.981340</td>\n",
       "      <td>0.981340</td>\n",
       "      <td>0.981363</td>\n",
       "      <td>logLogist_3_param</td>\n",
       "    </tr>\n",
       "  </tbody>\n",
       "</table>\n",
       "</div>"
      ],
      "text/plain": [
       "        COSMIC_ID  DRUG_ID  fsigmoid_r2  sigmoid_2_param_r2  \\\n",
       "570        910851      170     0.991346            0.991346   \n",
       "2311      1290724      268     0.948049            0.948049   \n",
       "134042     910700       83     0.482058            0.482058   \n",
       "3576       907064      180     0.988098            0.988098   \n",
       "6957      1240150      180     0.781777            0.781777   \n",
       "\n",
       "        sigmoid_3_param_r2  sigmoid_4_param_r2  logistic_4_param_r2  \\\n",
       "570               0.995994        0.000000e+00             0.998188   \n",
       "2311              0.985379        2.473649e-08             0.992273   \n",
       "134042            0.539801        5.493351e-01             0.549078   \n",
       "3576              0.996652        3.555965e-08             0.997866   \n",
       "6957              0.957028        8.791738e-10             0.981340   \n",
       "\n",
       "        ll4_4_param_r2  ll4R_4_param_r2  logLogist_3_param_r2  \\\n",
       "570           0.998188         0.998188              0.997637   \n",
       "2311          0.992273         0.992273              0.989404   \n",
       "134042        0.552771         0.552771              0.536839   \n",
       "3576          0.997866         0.997866              0.997858   \n",
       "6957          0.981340         0.981340              0.981363   \n",
       "\n",
       "           better_fitting  \n",
       "570           ll4_4_param  \n",
       "2311     logistic_4_param  \n",
       "134042        ll4_4_param  \n",
       "3576         ll4R_4_param  \n",
       "6957    logLogist_3_param  "
      ]
     },
     "metadata": {},
     "output_type": "display_data"
    },
    {
     "name": "stdout",
     "output_type": "stream",
     "text": [
      "CPU times: user 1min 5s, sys: 3.34 s, total: 1min 9s\n",
      "Wall time: 1min 13s\n"
     ]
    },
    {
     "data": {
      "text/html": [
       "<div>\n",
       "<style scoped>\n",
       "    .dataframe tbody tr th:only-of-type {\n",
       "        vertical-align: middle;\n",
       "    }\n",
       "\n",
       "    .dataframe tbody tr th {\n",
       "        vertical-align: top;\n",
       "    }\n",
       "\n",
       "    .dataframe thead th {\n",
       "        text-align: right;\n",
       "    }\n",
       "</style>\n",
       "<table border=\"1\" class=\"dataframe\">\n",
       "  <thead>\n",
       "    <tr style=\"text-align: right;\">\n",
       "      <th></th>\n",
       "      <th>Unnamed: 0</th>\n",
       "      <th>CELL_LINE_NAME</th>\n",
       "      <th>COSMIC_ID</th>\n",
       "      <th>DRUG_ID</th>\n",
       "      <th>DRUGID_COSMICID</th>\n",
       "      <th>FOLD_DILUTION</th>\n",
       "      <th>MAX_CONC</th>\n",
       "      <th>fd_num_0</th>\n",
       "      <th>fd_num_1</th>\n",
       "      <th>fd_num_2</th>\n",
       "      <th>...</th>\n",
       "      <th>sigmoid_4_param</th>\n",
       "      <th>logistic_4_param_r2</th>\n",
       "      <th>logistic_4_param</th>\n",
       "      <th>ll4_4_param_r2</th>\n",
       "      <th>ll4_4_param</th>\n",
       "      <th>ll4R_4_param_r2</th>\n",
       "      <th>ll4R_4_param</th>\n",
       "      <th>logLogist_3_param_r2</th>\n",
       "      <th>logLogist_3_param</th>\n",
       "      <th>better_fitting</th>\n",
       "    </tr>\n",
       "  </thead>\n",
       "  <tbody>\n",
       "    <tr>\n",
       "      <th>131120</th>\n",
       "      <td>131120</td>\n",
       "      <td>RT-112</td>\n",
       "      <td>909704</td>\n",
       "      <td>308</td>\n",
       "      <td>308_909704</td>\n",
       "      <td>2</td>\n",
       "      <td>5.120</td>\n",
       "      <td>0</td>\n",
       "      <td>0.111111</td>\n",
       "      <td>0.222222</td>\n",
       "      <td>...</td>\n",
       "      <td>[0.5388407101879351, 1.0220900365062462, -9.91...</td>\n",
       "      <td>0.993608</td>\n",
       "      <td>[0.9499440222036498, 5.265479350113211, 0.5498...</td>\n",
       "      <td>0.993608</td>\n",
       "      <td>[0.5498776871869252, 0.9499671273390975, 5.262...</td>\n",
       "      <td>0.993608</td>\n",
       "      <td>[-3.1485463193774037, 0.9499346064095069, 5.26...</td>\n",
       "      <td>0.996330</td>\n",
       "      <td>[-0.2730232757001648, -3.0751168846767736, 0.0...</td>\n",
       "      <td>sigmoid_4_param</td>\n",
       "    </tr>\n",
       "    <tr>\n",
       "      <th>60</th>\n",
       "      <td>60</td>\n",
       "      <td>NMC-G1</td>\n",
       "      <td>908449</td>\n",
       "      <td>157</td>\n",
       "      <td>157_908449</td>\n",
       "      <td>2</td>\n",
       "      <td>5.120</td>\n",
       "      <td>0</td>\n",
       "      <td>0.111111</td>\n",
       "      <td>0.222222</td>\n",
       "      <td>...</td>\n",
       "      <td>[0.44916330528823867, 1.6141738404728152, -11....</td>\n",
       "      <td>0.978230</td>\n",
       "      <td>[0.9760242387663421, 5.344787715121362, 0.4950...</td>\n",
       "      <td>0.978230</td>\n",
       "      <td>[0.4950055057252244, 0.9760268376801783, 5.344...</td>\n",
       "      <td>0.978230</td>\n",
       "      <td>[-3.75865202541188, 0.9760210302353007, 5.3450...</td>\n",
       "      <td>0.977584</td>\n",
       "      <td>[-0.31193681085226505, -3.743764860967184, 0.3...</td>\n",
       "      <td>sigmoid_4_param</td>\n",
       "    </tr>\n",
       "    <tr>\n",
       "      <th>85</th>\n",
       "      <td>85</td>\n",
       "      <td>NMC-G1</td>\n",
       "      <td>908449</td>\n",
       "      <td>170</td>\n",
       "      <td>170_908449</td>\n",
       "      <td>2</td>\n",
       "      <td>16.000</td>\n",
       "      <td>0</td>\n",
       "      <td>0.111111</td>\n",
       "      <td>0.222222</td>\n",
       "      <td>...</td>\n",
       "      <td>[0.5765692420823216, 1.057662608448003, -29.29...</td>\n",
       "      <td>0.997801</td>\n",
       "      <td>[0.9680061035648554, 17.35700335698762, 0.5773...</td>\n",
       "      <td>0.997801</td>\n",
       "      <td>[0.5774000844520921, 0.9680086022395827, 17.35...</td>\n",
       "      <td>0.997801</td>\n",
       "      <td>[-9.531430728153335, 0.9680080430738064, 17.35...</td>\n",
       "      <td>0.995329</td>\n",
       "      <td>[-0.23833516322333678, -8.324890823123262, 0.0...</td>\n",
       "      <td>ll4R_4_param</td>\n",
       "    </tr>\n",
       "    <tr>\n",
       "      <th>131171</th>\n",
       "      <td>131171</td>\n",
       "      <td>SBC-3</td>\n",
       "      <td>753610</td>\n",
       "      <td>135</td>\n",
       "      <td>135_753610</td>\n",
       "      <td>2</td>\n",
       "      <td>1.024</td>\n",
       "      <td>0</td>\n",
       "      <td>0.111111</td>\n",
       "      <td>0.222222</td>\n",
       "      <td>...</td>\n",
       "      <td>[0.28074939111766495, 1.0142226726079246, -14....</td>\n",
       "      <td>0.997515</td>\n",
       "      <td>[1.003472745532983, 4.056254626734951, 0.28126...</td>\n",
       "      <td>0.997515</td>\n",
       "      <td>[0.28126191496167485, 1.0034873841392906, 4.05...</td>\n",
       "      <td>0.997515</td>\n",
       "      <td>[-5.14457571692183, 1.003487815474793, 4.05576...</td>\n",
       "      <td>0.997399</td>\n",
       "      <td>[-0.5426272034188002, -5.25838888528962, 0.053...</td>\n",
       "      <td>ll4R_4_param</td>\n",
       "    </tr>\n",
       "    <tr>\n",
       "      <th>112</th>\n",
       "      <td>112</td>\n",
       "      <td>NMC-G1</td>\n",
       "      <td>908449</td>\n",
       "      <td>331</td>\n",
       "      <td>331_908449</td>\n",
       "      <td>2</td>\n",
       "      <td>10.240</td>\n",
       "      <td>0</td>\n",
       "      <td>0.111111</td>\n",
       "      <td>0.222222</td>\n",
       "      <td>...</td>\n",
       "      <td>[0.5298126208219924, 1.2484879660399013, -10.3...</td>\n",
       "      <td>0.987341</td>\n",
       "      <td>[0.9660489414392239, 5.499998145333257, 0.5592...</td>\n",
       "      <td>0.987341</td>\n",
       "      <td>[0.559215030741002, 0.9660167132931493, 5.5035...</td>\n",
       "      <td>0.987341</td>\n",
       "      <td>[-3.2003483194365345, 0.9659922340993805, 5.50...</td>\n",
       "      <td>0.993016</td>\n",
       "      <td>[-0.26379238134562094, -3.2640737010503202, 0....</td>\n",
       "      <td>logLogist_3_param</td>\n",
       "    </tr>\n",
       "    <tr>\n",
       "      <th>...</th>\n",
       "      <td>...</td>\n",
       "      <td>...</td>\n",
       "      <td>...</td>\n",
       "      <td>...</td>\n",
       "      <td>...</td>\n",
       "      <td>...</td>\n",
       "      <td>...</td>\n",
       "      <td>...</td>\n",
       "      <td>...</td>\n",
       "      <td>...</td>\n",
       "      <td>...</td>\n",
       "      <td>...</td>\n",
       "      <td>...</td>\n",
       "      <td>...</td>\n",
       "      <td>...</td>\n",
       "      <td>...</td>\n",
       "      <td>...</td>\n",
       "      <td>...</td>\n",
       "      <td>...</td>\n",
       "      <td>...</td>\n",
       "      <td>...</td>\n",
       "    </tr>\n",
       "    <tr>\n",
       "      <th>130643</th>\n",
       "      <td>130643</td>\n",
       "      <td>DB</td>\n",
       "      <td>906832</td>\n",
       "      <td>173</td>\n",
       "      <td>173_906832</td>\n",
       "      <td>2</td>\n",
       "      <td>32.000</td>\n",
       "      <td>0</td>\n",
       "      <td>0.111111</td>\n",
       "      <td>0.222222</td>\n",
       "      <td>...</td>\n",
       "      <td>[0.7009035325597803, 1.0857667771616113, -24.7...</td>\n",
       "      <td>0.994765</td>\n",
       "      <td>[0.9538518129133037, 18.202109932063415, 0.703...</td>\n",
       "      <td>0.994765</td>\n",
       "      <td>[0.7030048035913561, 0.9538463978062721, 18.20...</td>\n",
       "      <td>0.994765</td>\n",
       "      <td>[-6.416199024563913, 0.9538439927006769, 18.20...</td>\n",
       "      <td>0.992120</td>\n",
       "      <td>[-0.15391645014987543, -4.9077358533114905, 0....</td>\n",
       "      <td>sigmoid_4_param</td>\n",
       "    </tr>\n",
       "    <tr>\n",
       "      <th>130792</th>\n",
       "      <td>130792</td>\n",
       "      <td>HEL</td>\n",
       "      <td>907053</td>\n",
       "      <td>282</td>\n",
       "      <td>282_907053</td>\n",
       "      <td>2</td>\n",
       "      <td>2.500</td>\n",
       "      <td>0</td>\n",
       "      <td>0.111111</td>\n",
       "      <td>0.222222</td>\n",
       "      <td>...</td>\n",
       "      <td>[0.37648878670093167, 1.0276203656041658, -6.9...</td>\n",
       "      <td>0.992649</td>\n",
       "      <td>[0.9939681258670652, 2.7068418779699615, 0.422...</td>\n",
       "      <td>0.992649</td>\n",
       "      <td>[0.4224512961768246, 0.9939315888298301, 2.708...</td>\n",
       "      <td>0.992649</td>\n",
       "      <td>[-2.33191259159534, 0.9939591038398309, 2.7069...</td>\n",
       "      <td>0.990073</td>\n",
       "      <td>[-0.39897024843272316, -2.9031687975418476, 0....</td>\n",
       "      <td>ll4R_4_param</td>\n",
       "    </tr>\n",
       "    <tr>\n",
       "      <th>130905</th>\n",
       "      <td>130905</td>\n",
       "      <td>DG-75</td>\n",
       "      <td>906838</td>\n",
       "      <td>219</td>\n",
       "      <td>219_906838</td>\n",
       "      <td>2</td>\n",
       "      <td>10.240</td>\n",
       "      <td>0</td>\n",
       "      <td>0.111111</td>\n",
       "      <td>0.222222</td>\n",
       "      <td>...</td>\n",
       "      <td>[0.335618070252703, 1.447503365424917, -32.531...</td>\n",
       "      <td>0.999467</td>\n",
       "      <td>[0.984302837081754, 12.760155753946105, 0.3455...</td>\n",
       "      <td>0.999467</td>\n",
       "      <td>[0.3455431269237231, 0.9843038243811012, 12.75...</td>\n",
       "      <td>0.999467</td>\n",
       "      <td>[-13.555232068175291, 0.9843047570022433, 12.7...</td>\n",
       "      <td>0.999151</td>\n",
       "      <td>[-0.46072669395670707, -11.16258051602129, 0.2...</td>\n",
       "      <td>sigmoid_4_param</td>\n",
       "    </tr>\n",
       "    <tr>\n",
       "      <th>130920</th>\n",
       "      <td>130920</td>\n",
       "      <td>LOXIMVI</td>\n",
       "      <td>905974</td>\n",
       "      <td>272</td>\n",
       "      <td>272_905974</td>\n",
       "      <td>2</td>\n",
       "      <td>5.120</td>\n",
       "      <td>0</td>\n",
       "      <td>0.111111</td>\n",
       "      <td>0.222222</td>\n",
       "      <td>...</td>\n",
       "      <td>[0.6682109926590216, 1.08264381562275, -13.453...</td>\n",
       "      <td>0.995683</td>\n",
       "      <td>[0.9665638803468148, 8.610632031168175, 0.6765...</td>\n",
       "      <td>0.995683</td>\n",
       "      <td>[0.6765943712466973, 0.9665863059468612, 8.606...</td>\n",
       "      <td>0.995683</td>\n",
       "      <td>[-3.3641468159146326, 0.9665753474786415, 8.61...</td>\n",
       "      <td>0.996278</td>\n",
       "      <td>[-0.17427757396255364, -3.4285686412115886, 0....</td>\n",
       "      <td>sigmoid_4_param</td>\n",
       "    </tr>\n",
       "    <tr>\n",
       "      <th>130989</th>\n",
       "      <td>130989</td>\n",
       "      <td>RS4-11</td>\n",
       "      <td>909703</td>\n",
       "      <td>178</td>\n",
       "      <td>178_909703</td>\n",
       "      <td>2</td>\n",
       "      <td>8.000</td>\n",
       "      <td>0</td>\n",
       "      <td>0.111111</td>\n",
       "      <td>0.222222</td>\n",
       "      <td>...</td>\n",
       "      <td>[0.6437845420384805, 1.2493267428595918, -11.7...</td>\n",
       "      <td>0.997104</td>\n",
       "      <td>[0.9605323667103322, 7.459280356607426, 0.6670...</td>\n",
       "      <td>0.997104</td>\n",
       "      <td>[0.6670221358865236, 0.9605317793984095, 7.460...</td>\n",
       "      <td>0.997104</td>\n",
       "      <td>[-3.0210979486001017, 0.9605299286009312, 7.46...</td>\n",
       "      <td>0.995678</td>\n",
       "      <td>[-0.1837938175390558, -2.964099272360281, 0.19...</td>\n",
       "      <td>sigmoid_4_param</td>\n",
       "    </tr>\n",
       "  </tbody>\n",
       "</table>\n",
       "<p>2776 rows × 63 columns</p>\n",
       "</div>"
      ],
      "text/plain": [
       "        Unnamed: 0 CELL_LINE_NAME  COSMIC_ID  DRUG_ID DRUGID_COSMICID  \\\n",
       "131120      131120         RT-112     909704      308      308_909704   \n",
       "60              60         NMC-G1     908449      157      157_908449   \n",
       "85              85         NMC-G1     908449      170      170_908449   \n",
       "131171      131171          SBC-3     753610      135      135_753610   \n",
       "112            112         NMC-G1     908449      331      331_908449   \n",
       "...            ...            ...        ...      ...             ...   \n",
       "130643      130643             DB     906832      173      173_906832   \n",
       "130792      130792            HEL     907053      282      282_907053   \n",
       "130905      130905          DG-75     906838      219      219_906838   \n",
       "130920      130920        LOXIMVI     905974      272      272_905974   \n",
       "130989      130989         RS4-11     909703      178      178_909703   \n",
       "\n",
       "        FOLD_DILUTION  MAX_CONC  fd_num_0  fd_num_1  fd_num_2  ...  \\\n",
       "131120              2     5.120         0  0.111111  0.222222  ...   \n",
       "60                  2     5.120         0  0.111111  0.222222  ...   \n",
       "85                  2    16.000         0  0.111111  0.222222  ...   \n",
       "131171              2     1.024         0  0.111111  0.222222  ...   \n",
       "112                 2    10.240         0  0.111111  0.222222  ...   \n",
       "...               ...       ...       ...       ...       ...  ...   \n",
       "130643              2    32.000         0  0.111111  0.222222  ...   \n",
       "130792              2     2.500         0  0.111111  0.222222  ...   \n",
       "130905              2    10.240         0  0.111111  0.222222  ...   \n",
       "130920              2     5.120         0  0.111111  0.222222  ...   \n",
       "130989              2     8.000         0  0.111111  0.222222  ...   \n",
       "\n",
       "                                          sigmoid_4_param  \\\n",
       "131120  [0.5388407101879351, 1.0220900365062462, -9.91...   \n",
       "60      [0.44916330528823867, 1.6141738404728152, -11....   \n",
       "85      [0.5765692420823216, 1.057662608448003, -29.29...   \n",
       "131171  [0.28074939111766495, 1.0142226726079246, -14....   \n",
       "112     [0.5298126208219924, 1.2484879660399013, -10.3...   \n",
       "...                                                   ...   \n",
       "130643  [0.7009035325597803, 1.0857667771616113, -24.7...   \n",
       "130792  [0.37648878670093167, 1.0276203656041658, -6.9...   \n",
       "130905  [0.335618070252703, 1.447503365424917, -32.531...   \n",
       "130920  [0.6682109926590216, 1.08264381562275, -13.453...   \n",
       "130989  [0.6437845420384805, 1.2493267428595918, -11.7...   \n",
       "\n",
       "        logistic_4_param_r2  \\\n",
       "131120             0.993608   \n",
       "60                 0.978230   \n",
       "85                 0.997801   \n",
       "131171             0.997515   \n",
       "112                0.987341   \n",
       "...                     ...   \n",
       "130643             0.994765   \n",
       "130792             0.992649   \n",
       "130905             0.999467   \n",
       "130920             0.995683   \n",
       "130989             0.997104   \n",
       "\n",
       "                                         logistic_4_param  ll4_4_param_r2  \\\n",
       "131120  [0.9499440222036498, 5.265479350113211, 0.5498...        0.993608   \n",
       "60      [0.9760242387663421, 5.344787715121362, 0.4950...        0.978230   \n",
       "85      [0.9680061035648554, 17.35700335698762, 0.5773...        0.997801   \n",
       "131171  [1.003472745532983, 4.056254626734951, 0.28126...        0.997515   \n",
       "112     [0.9660489414392239, 5.499998145333257, 0.5592...        0.987341   \n",
       "...                                                   ...             ...   \n",
       "130643  [0.9538518129133037, 18.202109932063415, 0.703...        0.994765   \n",
       "130792  [0.9939681258670652, 2.7068418779699615, 0.422...        0.992649   \n",
       "130905  [0.984302837081754, 12.760155753946105, 0.3455...        0.999467   \n",
       "130920  [0.9665638803468148, 8.610632031168175, 0.6765...        0.995683   \n",
       "130989  [0.9605323667103322, 7.459280356607426, 0.6670...        0.997104   \n",
       "\n",
       "                                              ll4_4_param  ll4R_4_param_r2  \\\n",
       "131120  [0.5498776871869252, 0.9499671273390975, 5.262...         0.993608   \n",
       "60      [0.4950055057252244, 0.9760268376801783, 5.344...         0.978230   \n",
       "85      [0.5774000844520921, 0.9680086022395827, 17.35...         0.997801   \n",
       "131171  [0.28126191496167485, 1.0034873841392906, 4.05...         0.997515   \n",
       "112     [0.559215030741002, 0.9660167132931493, 5.5035...         0.987341   \n",
       "...                                                   ...              ...   \n",
       "130643  [0.7030048035913561, 0.9538463978062721, 18.20...         0.994765   \n",
       "130792  [0.4224512961768246, 0.9939315888298301, 2.708...         0.992649   \n",
       "130905  [0.3455431269237231, 0.9843038243811012, 12.75...         0.999467   \n",
       "130920  [0.6765943712466973, 0.9665863059468612, 8.606...         0.995683   \n",
       "130989  [0.6670221358865236, 0.9605317793984095, 7.460...         0.997104   \n",
       "\n",
       "                                             ll4R_4_param  \\\n",
       "131120  [-3.1485463193774037, 0.9499346064095069, 5.26...   \n",
       "60      [-3.75865202541188, 0.9760210302353007, 5.3450...   \n",
       "85      [-9.531430728153335, 0.9680080430738064, 17.35...   \n",
       "131171  [-5.14457571692183, 1.003487815474793, 4.05576...   \n",
       "112     [-3.2003483194365345, 0.9659922340993805, 5.50...   \n",
       "...                                                   ...   \n",
       "130643  [-6.416199024563913, 0.9538439927006769, 18.20...   \n",
       "130792  [-2.33191259159534, 0.9939591038398309, 2.7069...   \n",
       "130905  [-13.555232068175291, 0.9843047570022433, 12.7...   \n",
       "130920  [-3.3641468159146326, 0.9665753474786415, 8.61...   \n",
       "130989  [-3.0210979486001017, 0.9605299286009312, 7.46...   \n",
       "\n",
       "        logLogist_3_param_r2  \\\n",
       "131120              0.996330   \n",
       "60                  0.977584   \n",
       "85                  0.995329   \n",
       "131171              0.997399   \n",
       "112                 0.993016   \n",
       "...                      ...   \n",
       "130643              0.992120   \n",
       "130792              0.990073   \n",
       "130905              0.999151   \n",
       "130920              0.996278   \n",
       "130989              0.995678   \n",
       "\n",
       "                                        logLogist_3_param     better_fitting  \n",
       "131120  [-0.2730232757001648, -3.0751168846767736, 0.0...    sigmoid_4_param  \n",
       "60      [-0.31193681085226505, -3.743764860967184, 0.3...    sigmoid_4_param  \n",
       "85      [-0.23833516322333678, -8.324890823123262, 0.0...       ll4R_4_param  \n",
       "131171  [-0.5426272034188002, -5.25838888528962, 0.053...       ll4R_4_param  \n",
       "112     [-0.26379238134562094, -3.2640737010503202, 0....  logLogist_3_param  \n",
       "...                                                   ...                ...  \n",
       "130643  [-0.15391645014987543, -4.9077358533114905, 0....    sigmoid_4_param  \n",
       "130792  [-0.39897024843272316, -2.9031687975418476, 0....       ll4R_4_param  \n",
       "130905  [-0.46072669395670707, -11.16258051602129, 0.2...    sigmoid_4_param  \n",
       "130920  [-0.17427757396255364, -3.4285686412115886, 0....    sigmoid_4_param  \n",
       "130989  [-0.1837938175390558, -2.964099272360281, 0.19...    sigmoid_4_param  \n",
       "\n",
       "[2776 rows x 63 columns]"
      ]
     },
     "execution_count": 4,
     "metadata": {},
     "output_type": "execute_result"
    }
   ],
   "source": [
    "%%time\n",
    "df_123_04 = filtering_sigmoid_curves(drug_curves, filtering_scenario=[1,2,3], \\\n",
    "                        response_columns = response_norm, \\\n",
    "                        first_points_lower_limit = 0.8, last_points_upper_limit = 0.4)\n",
    "\n",
    "compare_fitting_functions(df_123_04, functions, conc_columns, response_norm)"
   ]
  },
  {
   "cell_type": "code",
   "execution_count": 5,
   "metadata": {},
   "outputs": [
    {
     "name": "stdout",
     "output_type": "stream",
     "text": [
      "Original dataset: (225384, 44)\n"
     ]
    },
    {
     "name": "stderr",
     "output_type": "stream",
     "text": [
      "  3%|▎         | 69/2152 [00:00<00:03, 687.63it/s]"
     ]
    },
    {
     "name": "stdout",
     "output_type": "stream",
     "text": [
      "1st filtration (Ensure that all the response are less than 1): Filtered dataset: (63325, 44)\n",
      "2d filtration (Ensure that first and last points form plateus): Filtered dataset: (6321, 46)\n",
      "3d stage filtration (Specified location of the plateus): Filtered dataset: (2152, 46)\n",
      "(2152, 46)\n"
     ]
    },
    {
     "name": "stderr",
     "output_type": "stream",
     "text": [
      "100%|██████████| 2152/2152 [00:03<00:00, 666.72it/s]\n",
      "  3%|▎         | 74/2152 [00:00<00:02, 734.64it/s]"
     ]
    },
    {
     "name": "stdout",
     "output_type": "stream",
     "text": [
      "<function fsigmoid at 0x7f86253c7598>\n"
     ]
    },
    {
     "name": "stderr",
     "output_type": "stream",
     "text": [
      "100%|██████████| 2152/2152 [00:03<00:00, 713.55it/s]\n",
      "  2%|▏         | 50/2152 [00:00<00:04, 491.54it/s]"
     ]
    },
    {
     "name": "stdout",
     "output_type": "stream",
     "text": [
      "<function sigmoid_2_param at 0x7f86253c7510>\n"
     ]
    },
    {
     "name": "stderr",
     "output_type": "stream",
     "text": [
      "100%|██████████| 2152/2152 [00:04<00:00, 442.53it/s]\n",
      "  2%|▏         | 43/2152 [00:00<00:04, 429.58it/s]"
     ]
    },
    {
     "name": "stdout",
     "output_type": "stream",
     "text": [
      "<function sigmoid_3_param at 0x7f86253c7620>\n"
     ]
    },
    {
     "name": "stderr",
     "output_type": "stream",
     "text": [
      "100%|██████████| 2152/2152 [00:05<00:00, 384.74it/s]\n",
      "  2%|▏         | 42/2152 [00:00<00:05, 417.61it/s]"
     ]
    },
    {
     "name": "stdout",
     "output_type": "stream",
     "text": [
      "<function sigmoid_4_param at 0x7f86253c76a8>\n"
     ]
    },
    {
     "name": "stderr",
     "output_type": "stream",
     "text": [
      "100%|██████████| 2152/2152 [00:05<00:00, 373.62it/s]\n",
      "  2%|▏         | 35/2152 [00:00<00:06, 343.92it/s]"
     ]
    },
    {
     "name": "stdout",
     "output_type": "stream",
     "text": [
      "<function logistic_4_param at 0x7f86253c7840>\n"
     ]
    },
    {
     "name": "stderr",
     "output_type": "stream",
     "text": [
      "100%|██████████| 2152/2152 [00:06<00:00, 307.90it/s]\n",
      "  2%|▏         | 36/2152 [00:00<00:05, 355.00it/s]"
     ]
    },
    {
     "name": "stdout",
     "output_type": "stream",
     "text": [
      "<function ll4_4_param at 0x7f86253c7730>\n"
     ]
    },
    {
     "name": "stderr",
     "output_type": "stream",
     "text": [
      "100%|██████████| 2152/2152 [00:06<00:00, 316.71it/s]\n",
      "  1%|▏         | 32/2152 [00:00<00:06, 312.69it/s]"
     ]
    },
    {
     "name": "stdout",
     "output_type": "stream",
     "text": [
      "<function ll4R_4_param at 0x7f86253c77b8>\n"
     ]
    },
    {
     "name": "stderr",
     "output_type": "stream",
     "text": [
      "100%|██████████| 2152/2152 [00:06<00:00, 336.80it/s]"
     ]
    },
    {
     "name": "stdout",
     "output_type": "stream",
     "text": [
      "<function logLogist_3_param at 0x7f86253c78c8>\n",
      "\n"
     ]
    },
    {
     "name": "stderr",
     "output_type": "stream",
     "text": [
      "\n"
     ]
    },
    {
     "data": {
      "text/html": [
       "<div>\n",
       "<style scoped>\n",
       "    .dataframe tbody tr th:only-of-type {\n",
       "        vertical-align: middle;\n",
       "    }\n",
       "\n",
       "    .dataframe tbody tr th {\n",
       "        vertical-align: top;\n",
       "    }\n",
       "\n",
       "    .dataframe thead th {\n",
       "        text-align: right;\n",
       "    }\n",
       "</style>\n",
       "<table border=\"1\" class=\"dataframe\">\n",
       "  <thead>\n",
       "    <tr style=\"text-align: right;\">\n",
       "      <th></th>\n",
       "      <th>best_fitting_count</th>\n",
       "      <th>min</th>\n",
       "      <th>max</th>\n",
       "      <th>r2&gt;0</th>\n",
       "      <th>r2&gt;0.8</th>\n",
       "      <th>r2&gt;0.9</th>\n",
       "    </tr>\n",
       "  </thead>\n",
       "  <tbody>\n",
       "    <tr>\n",
       "      <th>fsigmoid</th>\n",
       "      <td>0.0</td>\n",
       "      <td>4.602484e-01</td>\n",
       "      <td>0.999899</td>\n",
       "      <td>2152.0</td>\n",
       "      <td>2135.0</td>\n",
       "      <td>2074.0</td>\n",
       "    </tr>\n",
       "    <tr>\n",
       "      <th>sigmoid_2_param</th>\n",
       "      <td>0.0</td>\n",
       "      <td>4.602485e-01</td>\n",
       "      <td>0.999899</td>\n",
       "      <td>2152.0</td>\n",
       "      <td>2135.0</td>\n",
       "      <td>2074.0</td>\n",
       "    </tr>\n",
       "    <tr>\n",
       "      <th>sigmoid_3_param</th>\n",
       "      <td>3.0</td>\n",
       "      <td>5.922767e-01</td>\n",
       "      <td>0.999926</td>\n",
       "      <td>2152.0</td>\n",
       "      <td>2139.0</td>\n",
       "      <td>2118.0</td>\n",
       "    </tr>\n",
       "    <tr>\n",
       "      <th>sigmoid_4_param</th>\n",
       "      <td>899.0</td>\n",
       "      <td>-4.195295e-07</td>\n",
       "      <td>0.999981</td>\n",
       "      <td>2133.0</td>\n",
       "      <td>2105.0</td>\n",
       "      <td>2094.0</td>\n",
       "    </tr>\n",
       "    <tr>\n",
       "      <th>logistic_4_param</th>\n",
       "      <td>218.0</td>\n",
       "      <td>6.016469e-01</td>\n",
       "      <td>0.999981</td>\n",
       "      <td>2152.0</td>\n",
       "      <td>2141.0</td>\n",
       "      <td>2126.0</td>\n",
       "    </tr>\n",
       "    <tr>\n",
       "      <th>ll4_4_param</th>\n",
       "      <td>195.0</td>\n",
       "      <td>6.016469e-01</td>\n",
       "      <td>0.999981</td>\n",
       "      <td>2152.0</td>\n",
       "      <td>2141.0</td>\n",
       "      <td>2127.0</td>\n",
       "    </tr>\n",
       "    <tr>\n",
       "      <th>ll4R_4_param</th>\n",
       "      <td>204.0</td>\n",
       "      <td>9.126042e-08</td>\n",
       "      <td>0.999981</td>\n",
       "      <td>2152.0</td>\n",
       "      <td>2139.0</td>\n",
       "      <td>2122.0</td>\n",
       "    </tr>\n",
       "    <tr>\n",
       "      <th>logLogist_3_param</th>\n",
       "      <td>633.0</td>\n",
       "      <td>4.998448e-01</td>\n",
       "      <td>0.999978</td>\n",
       "      <td>2152.0</td>\n",
       "      <td>2140.0</td>\n",
       "      <td>2122.0</td>\n",
       "    </tr>\n",
       "  </tbody>\n",
       "</table>\n",
       "</div>"
      ],
      "text/plain": [
       "                   best_fitting_count           min       max    r2>0  r2>0.8  \\\n",
       "fsigmoid                          0.0  4.602484e-01  0.999899  2152.0  2135.0   \n",
       "sigmoid_2_param                   0.0  4.602485e-01  0.999899  2152.0  2135.0   \n",
       "sigmoid_3_param                   3.0  5.922767e-01  0.999926  2152.0  2139.0   \n",
       "sigmoid_4_param                 899.0 -4.195295e-07  0.999981  2133.0  2105.0   \n",
       "logistic_4_param                218.0  6.016469e-01  0.999981  2152.0  2141.0   \n",
       "ll4_4_param                     195.0  6.016469e-01  0.999981  2152.0  2141.0   \n",
       "ll4R_4_param                    204.0  9.126042e-08  0.999981  2152.0  2139.0   \n",
       "logLogist_3_param               633.0  4.998448e-01  0.999978  2152.0  2140.0   \n",
       "\n",
       "                   r2>0.9  \n",
       "fsigmoid           2074.0  \n",
       "sigmoid_2_param    2074.0  \n",
       "sigmoid_3_param    2118.0  \n",
       "sigmoid_4_param    2094.0  \n",
       "logistic_4_param   2126.0  \n",
       "ll4_4_param        2127.0  \n",
       "ll4R_4_param       2122.0  \n",
       "logLogist_3_param  2122.0  "
      ]
     },
     "metadata": {},
     "output_type": "display_data"
    },
    {
     "name": "stdout",
     "output_type": "stream",
     "text": [
      "\n",
      "Examples of bad fitting with sigmoid_4_param (r2<0.61): 39\n"
     ]
    },
    {
     "data": {
      "text/html": [
       "<div>\n",
       "<style scoped>\n",
       "    .dataframe tbody tr th:only-of-type {\n",
       "        vertical-align: middle;\n",
       "    }\n",
       "\n",
       "    .dataframe tbody tr th {\n",
       "        vertical-align: top;\n",
       "    }\n",
       "\n",
       "    .dataframe thead th {\n",
       "        text-align: right;\n",
       "    }\n",
       "</style>\n",
       "<table border=\"1\" class=\"dataframe\">\n",
       "  <thead>\n",
       "    <tr style=\"text-align: right;\">\n",
       "      <th></th>\n",
       "      <th>COSMIC_ID</th>\n",
       "      <th>DRUG_ID</th>\n",
       "      <th>fsigmoid_r2</th>\n",
       "      <th>sigmoid_2_param_r2</th>\n",
       "      <th>sigmoid_3_param_r2</th>\n",
       "      <th>sigmoid_4_param_r2</th>\n",
       "      <th>logistic_4_param_r2</th>\n",
       "      <th>ll4_4_param_r2</th>\n",
       "      <th>ll4R_4_param_r2</th>\n",
       "      <th>logLogist_3_param_r2</th>\n",
       "      <th>better_fitting</th>\n",
       "    </tr>\n",
       "  </thead>\n",
       "  <tbody>\n",
       "    <tr>\n",
       "      <th>570</th>\n",
       "      <td>910851</td>\n",
       "      <td>170</td>\n",
       "      <td>0.991346</td>\n",
       "      <td>0.991346</td>\n",
       "      <td>0.995994</td>\n",
       "      <td>0.000000e+00</td>\n",
       "      <td>0.998188</td>\n",
       "      <td>0.998188</td>\n",
       "      <td>0.998188</td>\n",
       "      <td>0.997637</td>\n",
       "      <td>ll4_4_param</td>\n",
       "    </tr>\n",
       "    <tr>\n",
       "      <th>2311</th>\n",
       "      <td>1290724</td>\n",
       "      <td>268</td>\n",
       "      <td>0.948049</td>\n",
       "      <td>0.948049</td>\n",
       "      <td>0.985379</td>\n",
       "      <td>2.473649e-08</td>\n",
       "      <td>0.992273</td>\n",
       "      <td>0.992273</td>\n",
       "      <td>0.992273</td>\n",
       "      <td>0.989404</td>\n",
       "      <td>logistic_4_param</td>\n",
       "    </tr>\n",
       "    <tr>\n",
       "      <th>3576</th>\n",
       "      <td>907064</td>\n",
       "      <td>180</td>\n",
       "      <td>0.988098</td>\n",
       "      <td>0.988098</td>\n",
       "      <td>0.996652</td>\n",
       "      <td>3.555965e-08</td>\n",
       "      <td>0.997866</td>\n",
       "      <td>0.997866</td>\n",
       "      <td>0.997866</td>\n",
       "      <td>0.997858</td>\n",
       "      <td>ll4R_4_param</td>\n",
       "    </tr>\n",
       "    <tr>\n",
       "      <th>138632</th>\n",
       "      <td>949174</td>\n",
       "      <td>272</td>\n",
       "      <td>0.728071</td>\n",
       "      <td>0.728071</td>\n",
       "      <td>0.878181</td>\n",
       "      <td>1.551885e-08</td>\n",
       "      <td>0.898704</td>\n",
       "      <td>0.898704</td>\n",
       "      <td>0.898704</td>\n",
       "      <td>0.898869</td>\n",
       "      <td>logLogist_3_param</td>\n",
       "    </tr>\n",
       "    <tr>\n",
       "      <th>7905</th>\n",
       "      <td>910549</td>\n",
       "      <td>272</td>\n",
       "      <td>0.589601</td>\n",
       "      <td>0.589601</td>\n",
       "      <td>0.592277</td>\n",
       "      <td>6.034818e-01</td>\n",
       "      <td>0.602828</td>\n",
       "      <td>0.603021</td>\n",
       "      <td>0.602919</td>\n",
       "      <td>0.597047</td>\n",
       "      <td>sigmoid_4_param</td>\n",
       "    </tr>\n",
       "  </tbody>\n",
       "</table>\n",
       "</div>"
      ],
      "text/plain": [
       "        COSMIC_ID  DRUG_ID  fsigmoid_r2  sigmoid_2_param_r2  \\\n",
       "570        910851      170     0.991346            0.991346   \n",
       "2311      1290724      268     0.948049            0.948049   \n",
       "3576       907064      180     0.988098            0.988098   \n",
       "138632     949174      272     0.728071            0.728071   \n",
       "7905       910549      272     0.589601            0.589601   \n",
       "\n",
       "        sigmoid_3_param_r2  sigmoid_4_param_r2  logistic_4_param_r2  \\\n",
       "570               0.995994        0.000000e+00             0.998188   \n",
       "2311              0.985379        2.473649e-08             0.992273   \n",
       "3576              0.996652        3.555965e-08             0.997866   \n",
       "138632            0.878181        1.551885e-08             0.898704   \n",
       "7905              0.592277        6.034818e-01             0.602828   \n",
       "\n",
       "        ll4_4_param_r2  ll4R_4_param_r2  logLogist_3_param_r2  \\\n",
       "570           0.998188         0.998188              0.997637   \n",
       "2311          0.992273         0.992273              0.989404   \n",
       "3576          0.997866         0.997866              0.997858   \n",
       "138632        0.898704         0.898704              0.898869   \n",
       "7905          0.603021         0.602919              0.597047   \n",
       "\n",
       "           better_fitting  \n",
       "570           ll4_4_param  \n",
       "2311     logistic_4_param  \n",
       "3576         ll4R_4_param  \n",
       "138632  logLogist_3_param  \n",
       "7905      sigmoid_4_param  "
      ]
     },
     "metadata": {},
     "output_type": "display_data"
    },
    {
     "name": "stdout",
     "output_type": "stream",
     "text": [
      "CPU times: user 42.6 s, sys: 1.77 s, total: 44.4 s\n",
      "Wall time: 43.7 s\n"
     ]
    }
   ],
   "source": [
    "%%time\n",
    "df_123_02 = filtering_sigmoid_curves(drug_curves, filtering_scenario=[1,2,3], \\\n",
    "                        response_columns = response_norm, \\\n",
    "                        first_points_lower_limit = 0.8, last_points_upper_limit = 0.2)\n",
    "\n",
    "compare_fitting_functions(df_123_02, functions, conc_columns, response_norm)"
   ]
  },
  {
   "cell_type": "code",
   "execution_count": 6,
   "metadata": {},
   "outputs": [
    {
     "name": "stdout",
     "output_type": "stream",
     "text": [
      "Original dataset: (225384, 44)\n"
     ]
    },
    {
     "name": "stderr",
     "output_type": "stream",
     "text": [
      "  3%|▎         | 72/2719 [00:00<00:03, 716.16it/s]"
     ]
    },
    {
     "name": "stdout",
     "output_type": "stream",
     "text": [
      "1st filtration (Ensure that all the response are less than 1): Filtered dataset: (63325, 44)\n",
      "2d filtration (Ensure that first and last points form plateus): Filtered dataset: (6321, 46)\n",
      "3d stage filtration (Specified location of the plateus): Filtered dataset: (2776, 46)\n",
      "4th stage filtration (Cut off high ancedent points): Filtered dataset: (2719, 46)\n",
      "(2719, 46)\n"
     ]
    },
    {
     "name": "stderr",
     "output_type": "stream",
     "text": [
      "100%|██████████| 2719/2719 [00:04<00:00, 667.08it/s]\n",
      "  2%|▏         | 67/2719 [00:00<00:03, 666.17it/s]"
     ]
    },
    {
     "name": "stdout",
     "output_type": "stream",
     "text": [
      "<function fsigmoid at 0x7f86253c7598>\n"
     ]
    },
    {
     "name": "stderr",
     "output_type": "stream",
     "text": [
      "100%|██████████| 2719/2719 [00:03<00:00, 711.69it/s]\n",
      "  2%|▏         | 53/2719 [00:00<00:05, 523.88it/s]"
     ]
    },
    {
     "name": "stdout",
     "output_type": "stream",
     "text": [
      "<function sigmoid_2_param at 0x7f86253c7510>\n"
     ]
    },
    {
     "name": "stderr",
     "output_type": "stream",
     "text": [
      "100%|██████████| 2719/2719 [00:05<00:00, 455.70it/s]\n",
      "  2%|▏         | 43/2719 [00:00<00:06, 428.95it/s]"
     ]
    },
    {
     "name": "stdout",
     "output_type": "stream",
     "text": [
      "<function sigmoid_3_param at 0x7f86253c7620>\n"
     ]
    },
    {
     "name": "stderr",
     "output_type": "stream",
     "text": [
      "100%|██████████| 2719/2719 [00:07<00:00, 384.77it/s]\n",
      "  2%|▏         | 42/2719 [00:00<00:06, 411.53it/s]"
     ]
    },
    {
     "name": "stdout",
     "output_type": "stream",
     "text": [
      "<function sigmoid_4_param at 0x7f86253c76a8>\n"
     ]
    },
    {
     "name": "stderr",
     "output_type": "stream",
     "text": [
      "100%|██████████| 2719/2719 [00:07<00:00, 375.27it/s]\n",
      "  1%|          | 32/2719 [00:00<00:08, 313.67it/s]"
     ]
    },
    {
     "name": "stdout",
     "output_type": "stream",
     "text": [
      "<function logistic_4_param at 0x7f86253c7840>\n"
     ]
    },
    {
     "name": "stderr",
     "output_type": "stream",
     "text": [
      "100%|██████████| 2719/2719 [00:08<00:00, 309.68it/s]\n",
      "  1%|          | 33/2719 [00:00<00:08, 324.88it/s]"
     ]
    },
    {
     "name": "stdout",
     "output_type": "stream",
     "text": [
      "<function ll4_4_param at 0x7f86253c7730>\n"
     ]
    },
    {
     "name": "stderr",
     "output_type": "stream",
     "text": [
      "100%|██████████| 2719/2719 [00:08<00:00, 320.17it/s]\n",
      "  1%|▏         | 36/2719 [00:00<00:07, 353.97it/s]"
     ]
    },
    {
     "name": "stdout",
     "output_type": "stream",
     "text": [
      "<function ll4R_4_param at 0x7f86253c77b8>\n"
     ]
    },
    {
     "name": "stderr",
     "output_type": "stream",
     "text": [
      "100%|██████████| 2719/2719 [00:08<00:00, 337.15it/s]\n"
     ]
    },
    {
     "name": "stdout",
     "output_type": "stream",
     "text": [
      "<function logLogist_3_param at 0x7f86253c78c8>\n",
      "\n"
     ]
    },
    {
     "data": {
      "text/html": [
       "<div>\n",
       "<style scoped>\n",
       "    .dataframe tbody tr th:only-of-type {\n",
       "        vertical-align: middle;\n",
       "    }\n",
       "\n",
       "    .dataframe tbody tr th {\n",
       "        vertical-align: top;\n",
       "    }\n",
       "\n",
       "    .dataframe thead th {\n",
       "        text-align: right;\n",
       "    }\n",
       "</style>\n",
       "<table border=\"1\" class=\"dataframe\">\n",
       "  <thead>\n",
       "    <tr style=\"text-align: right;\">\n",
       "      <th></th>\n",
       "      <th>best_fitting_count</th>\n",
       "      <th>min</th>\n",
       "      <th>max</th>\n",
       "      <th>r2&gt;0</th>\n",
       "      <th>r2&gt;0.8</th>\n",
       "      <th>r2&gt;0.9</th>\n",
       "    </tr>\n",
       "  </thead>\n",
       "  <tbody>\n",
       "    <tr>\n",
       "      <th>fsigmoid</th>\n",
       "      <td>0.0</td>\n",
       "      <td>4.503432e-01</td>\n",
       "      <td>0.999899</td>\n",
       "      <td>2719.0</td>\n",
       "      <td>2671.0</td>\n",
       "      <td>2456.0</td>\n",
       "    </tr>\n",
       "    <tr>\n",
       "      <th>sigmoid_2_param</th>\n",
       "      <td>0.0</td>\n",
       "      <td>4.503431e-01</td>\n",
       "      <td>0.999899</td>\n",
       "      <td>2719.0</td>\n",
       "      <td>2671.0</td>\n",
       "      <td>2456.0</td>\n",
       "    </tr>\n",
       "    <tr>\n",
       "      <th>sigmoid_3_param</th>\n",
       "      <td>2.0</td>\n",
       "      <td>8.127070e-01</td>\n",
       "      <td>0.999926</td>\n",
       "      <td>2719.0</td>\n",
       "      <td>2719.0</td>\n",
       "      <td>2681.0</td>\n",
       "    </tr>\n",
       "    <tr>\n",
       "      <th>sigmoid_4_param</th>\n",
       "      <td>1109.0</td>\n",
       "      <td>-4.195295e-07</td>\n",
       "      <td>0.999981</td>\n",
       "      <td>2699.0</td>\n",
       "      <td>2680.0</td>\n",
       "      <td>2675.0</td>\n",
       "    </tr>\n",
       "    <tr>\n",
       "      <th>logistic_4_param</th>\n",
       "      <td>292.0</td>\n",
       "      <td>8.453735e-01</td>\n",
       "      <td>0.999981</td>\n",
       "      <td>2719.0</td>\n",
       "      <td>2719.0</td>\n",
       "      <td>2712.0</td>\n",
       "    </tr>\n",
       "    <tr>\n",
       "      <th>ll4_4_param</th>\n",
       "      <td>257.0</td>\n",
       "      <td>8.453634e-01</td>\n",
       "      <td>0.999981</td>\n",
       "      <td>2719.0</td>\n",
       "      <td>2719.0</td>\n",
       "      <td>2712.0</td>\n",
       "    </tr>\n",
       "    <tr>\n",
       "      <th>ll4R_4_param</th>\n",
       "      <td>269.0</td>\n",
       "      <td>9.126042e-08</td>\n",
       "      <td>0.999981</td>\n",
       "      <td>2719.0</td>\n",
       "      <td>2717.0</td>\n",
       "      <td>2708.0</td>\n",
       "    </tr>\n",
       "    <tr>\n",
       "      <th>logLogist_3_param</th>\n",
       "      <td>790.0</td>\n",
       "      <td>8.272879e-01</td>\n",
       "      <td>0.999978</td>\n",
       "      <td>2719.0</td>\n",
       "      <td>2719.0</td>\n",
       "      <td>2707.0</td>\n",
       "    </tr>\n",
       "  </tbody>\n",
       "</table>\n",
       "</div>"
      ],
      "text/plain": [
       "                   best_fitting_count           min       max    r2>0  r2>0.8  \\\n",
       "fsigmoid                          0.0  4.503432e-01  0.999899  2719.0  2671.0   \n",
       "sigmoid_2_param                   0.0  4.503431e-01  0.999899  2719.0  2671.0   \n",
       "sigmoid_3_param                   2.0  8.127070e-01  0.999926  2719.0  2719.0   \n",
       "sigmoid_4_param                1109.0 -4.195295e-07  0.999981  2699.0  2680.0   \n",
       "logistic_4_param                292.0  8.453735e-01  0.999981  2719.0  2719.0   \n",
       "ll4_4_param                     257.0  8.453634e-01  0.999981  2719.0  2719.0   \n",
       "ll4R_4_param                    269.0  9.126042e-08  0.999981  2719.0  2717.0   \n",
       "logLogist_3_param               790.0  8.272879e-01  0.999978  2719.0  2719.0   \n",
       "\n",
       "                   r2>0.9  \n",
       "fsigmoid           2456.0  \n",
       "sigmoid_2_param    2456.0  \n",
       "sigmoid_3_param    2681.0  \n",
       "sigmoid_4_param    2675.0  \n",
       "logistic_4_param   2712.0  \n",
       "ll4_4_param        2712.0  \n",
       "ll4R_4_param       2708.0  \n",
       "logLogist_3_param  2707.0  "
      ]
     },
     "metadata": {},
     "output_type": "display_data"
    },
    {
     "name": "stdout",
     "output_type": "stream",
     "text": [
      "\n",
      "Examples of bad fitting with sigmoid_4_param (r2<0.61): 39\n"
     ]
    },
    {
     "data": {
      "text/html": [
       "<div>\n",
       "<style scoped>\n",
       "    .dataframe tbody tr th:only-of-type {\n",
       "        vertical-align: middle;\n",
       "    }\n",
       "\n",
       "    .dataframe tbody tr th {\n",
       "        vertical-align: top;\n",
       "    }\n",
       "\n",
       "    .dataframe thead th {\n",
       "        text-align: right;\n",
       "    }\n",
       "</style>\n",
       "<table border=\"1\" class=\"dataframe\">\n",
       "  <thead>\n",
       "    <tr style=\"text-align: right;\">\n",
       "      <th></th>\n",
       "      <th>COSMIC_ID</th>\n",
       "      <th>DRUG_ID</th>\n",
       "      <th>fsigmoid_r2</th>\n",
       "      <th>sigmoid_2_param_r2</th>\n",
       "      <th>sigmoid_3_param_r2</th>\n",
       "      <th>sigmoid_4_param_r2</th>\n",
       "      <th>logistic_4_param_r2</th>\n",
       "      <th>ll4_4_param_r2</th>\n",
       "      <th>ll4R_4_param_r2</th>\n",
       "      <th>logLogist_3_param_r2</th>\n",
       "      <th>better_fitting</th>\n",
       "    </tr>\n",
       "  </thead>\n",
       "  <tbody>\n",
       "    <tr>\n",
       "      <th>155787</th>\n",
       "      <td>1287706</td>\n",
       "      <td>1014</td>\n",
       "      <td>0.882047</td>\n",
       "      <td>0.882047</td>\n",
       "      <td>0.983959</td>\n",
       "      <td>2.261360e-09</td>\n",
       "      <td>0.995356</td>\n",
       "      <td>0.995356</td>\n",
       "      <td>0.995356</td>\n",
       "      <td>0.987962</td>\n",
       "      <td>ll4_4_param</td>\n",
       "    </tr>\n",
       "    <tr>\n",
       "      <th>570</th>\n",
       "      <td>910851</td>\n",
       "      <td>170</td>\n",
       "      <td>0.991346</td>\n",
       "      <td>0.991346</td>\n",
       "      <td>0.995994</td>\n",
       "      <td>0.000000e+00</td>\n",
       "      <td>0.998188</td>\n",
       "      <td>0.998188</td>\n",
       "      <td>0.998188</td>\n",
       "      <td>0.997637</td>\n",
       "      <td>ll4_4_param</td>\n",
       "    </tr>\n",
       "    <tr>\n",
       "      <th>74484</th>\n",
       "      <td>724878</td>\n",
       "      <td>268</td>\n",
       "      <td>0.982274</td>\n",
       "      <td>0.982274</td>\n",
       "      <td>0.993826</td>\n",
       "      <td>2.606711e-08</td>\n",
       "      <td>0.995748</td>\n",
       "      <td>0.995748</td>\n",
       "      <td>0.995748</td>\n",
       "      <td>0.995376</td>\n",
       "      <td>logistic_4_param</td>\n",
       "    </tr>\n",
       "    <tr>\n",
       "      <th>82744</th>\n",
       "      <td>907172</td>\n",
       "      <td>344</td>\n",
       "      <td>0.998927</td>\n",
       "      <td>0.998927</td>\n",
       "      <td>0.999046</td>\n",
       "      <td>-1.189043e-08</td>\n",
       "      <td>0.999478</td>\n",
       "      <td>0.999478</td>\n",
       "      <td>0.999478</td>\n",
       "      <td>0.999058</td>\n",
       "      <td>ll4_4_param</td>\n",
       "    </tr>\n",
       "    <tr>\n",
       "      <th>107980</th>\n",
       "      <td>909706</td>\n",
       "      <td>182</td>\n",
       "      <td>0.971662</td>\n",
       "      <td>0.971662</td>\n",
       "      <td>0.988824</td>\n",
       "      <td>-1.532584e-08</td>\n",
       "      <td>0.994402</td>\n",
       "      <td>0.994402</td>\n",
       "      <td>0.994402</td>\n",
       "      <td>0.990529</td>\n",
       "      <td>ll4_4_param</td>\n",
       "    </tr>\n",
       "  </tbody>\n",
       "</table>\n",
       "</div>"
      ],
      "text/plain": [
       "        COSMIC_ID  DRUG_ID  fsigmoid_r2  sigmoid_2_param_r2  \\\n",
       "155787    1287706     1014     0.882047            0.882047   \n",
       "570        910851      170     0.991346            0.991346   \n",
       "74484      724878      268     0.982274            0.982274   \n",
       "82744      907172      344     0.998927            0.998927   \n",
       "107980     909706      182     0.971662            0.971662   \n",
       "\n",
       "        sigmoid_3_param_r2  sigmoid_4_param_r2  logistic_4_param_r2  \\\n",
       "155787            0.983959        2.261360e-09             0.995356   \n",
       "570               0.995994        0.000000e+00             0.998188   \n",
       "74484             0.993826        2.606711e-08             0.995748   \n",
       "82744             0.999046       -1.189043e-08             0.999478   \n",
       "107980            0.988824       -1.532584e-08             0.994402   \n",
       "\n",
       "        ll4_4_param_r2  ll4R_4_param_r2  logLogist_3_param_r2  \\\n",
       "155787        0.995356         0.995356              0.987962   \n",
       "570           0.998188         0.998188              0.997637   \n",
       "74484         0.995748         0.995748              0.995376   \n",
       "82744         0.999478         0.999478              0.999058   \n",
       "107980        0.994402         0.994402              0.990529   \n",
       "\n",
       "          better_fitting  \n",
       "155787       ll4_4_param  \n",
       "570          ll4_4_param  \n",
       "74484   logistic_4_param  \n",
       "82744        ll4_4_param  \n",
       "107980       ll4_4_param  "
      ]
     },
     "metadata": {},
     "output_type": "display_data"
    },
    {
     "name": "stdout",
     "output_type": "stream",
     "text": [
      "CPU times: user 53.3 s, sys: 2.19 s, total: 55.5 s\n",
      "Wall time: 54.6 s\n"
     ]
    }
   ],
   "source": [
    "%%time\n",
    "df_1234_04 = filtering_sigmoid_curves(drug_curves, filtering_scenario=[1,2,3,4], \\\n",
    "                        response_columns = response_norm, \\\n",
    "                        first_points_lower_limit = 0.8, \n",
    "                        last_points_upper_limit = 0.4, \n",
    "                        middle_points_limit = -0.2)\n",
    "\n",
    "compare_fitting_functions(df_1234_04, functions, conc_columns, response_norm)"
   ]
  },
  {
   "cell_type": "code",
   "execution_count": 7,
   "metadata": {},
   "outputs": [
    {
     "name": "stdout",
     "output_type": "stream",
     "text": [
      "Original dataset: (225384, 44)\n"
     ]
    },
    {
     "name": "stderr",
     "output_type": "stream",
     "text": [
      "  3%|▎         | 64/2108 [00:00<00:03, 632.32it/s]"
     ]
    },
    {
     "name": "stdout",
     "output_type": "stream",
     "text": [
      "1st filtration (Ensure that all the response are less than 1): Filtered dataset: (63325, 44)\n",
      "2d filtration (Ensure that first and last points form plateus): Filtered dataset: (6321, 46)\n",
      "3d stage filtration (Specified location of the plateus): Filtered dataset: (2152, 46)\n",
      "4th stage filtration (Cut off high ancedent points): Filtered dataset: (2108, 46)\n",
      "(2108, 46)\n"
     ]
    },
    {
     "name": "stderr",
     "output_type": "stream",
     "text": [
      "100%|██████████| 2108/2108 [00:03<00:00, 655.88it/s]\n",
      "  4%|▎         | 76/2108 [00:00<00:02, 758.43it/s]"
     ]
    },
    {
     "name": "stdout",
     "output_type": "stream",
     "text": [
      "<function fsigmoid at 0x7f86253c7598>\n"
     ]
    },
    {
     "name": "stderr",
     "output_type": "stream",
     "text": [
      "100%|██████████| 2108/2108 [00:02<00:00, 711.63it/s]\n",
      "  2%|▏         | 49/2108 [00:00<00:04, 488.64it/s]"
     ]
    },
    {
     "name": "stdout",
     "output_type": "stream",
     "text": [
      "<function sigmoid_2_param at 0x7f86253c7510>\n"
     ]
    },
    {
     "name": "stderr",
     "output_type": "stream",
     "text": [
      "100%|██████████| 2108/2108 [00:04<00:00, 457.72it/s]\n",
      "  2%|▏         | 43/2108 [00:00<00:04, 427.33it/s]"
     ]
    },
    {
     "name": "stdout",
     "output_type": "stream",
     "text": [
      "<function sigmoid_3_param at 0x7f86253c7620>\n"
     ]
    },
    {
     "name": "stderr",
     "output_type": "stream",
     "text": [
      "100%|██████████| 2108/2108 [00:05<00:00, 374.09it/s]\n",
      "  2%|▏         | 37/2108 [00:00<00:05, 362.11it/s]"
     ]
    },
    {
     "name": "stdout",
     "output_type": "stream",
     "text": [
      "<function sigmoid_4_param at 0x7f86253c76a8>\n"
     ]
    },
    {
     "name": "stderr",
     "output_type": "stream",
     "text": [
      "100%|██████████| 2108/2108 [00:05<00:00, 377.98it/s]\n",
      "  1%|▏         | 31/2108 [00:00<00:06, 305.66it/s]"
     ]
    },
    {
     "name": "stdout",
     "output_type": "stream",
     "text": [
      "<function logistic_4_param at 0x7f86253c7840>\n"
     ]
    },
    {
     "name": "stderr",
     "output_type": "stream",
     "text": [
      "100%|██████████| 2108/2108 [00:06<00:00, 311.18it/s]\n",
      "  2%|▏         | 32/2108 [00:00<00:06, 314.78it/s]"
     ]
    },
    {
     "name": "stdout",
     "output_type": "stream",
     "text": [
      "<function ll4_4_param at 0x7f86253c7730>\n"
     ]
    },
    {
     "name": "stderr",
     "output_type": "stream",
     "text": [
      "100%|██████████| 2108/2108 [00:06<00:00, 305.93it/s]\n",
      "  2%|▏         | 34/2108 [00:00<00:06, 338.80it/s]"
     ]
    },
    {
     "name": "stdout",
     "output_type": "stream",
     "text": [
      "<function ll4R_4_param at 0x7f86253c77b8>\n"
     ]
    },
    {
     "name": "stderr",
     "output_type": "stream",
     "text": [
      "100%|██████████| 2108/2108 [00:06<00:00, 342.47it/s]"
     ]
    },
    {
     "name": "stdout",
     "output_type": "stream",
     "text": [
      "<function logLogist_3_param at 0x7f86253c78c8>\n",
      "\n"
     ]
    },
    {
     "name": "stderr",
     "output_type": "stream",
     "text": [
      "\n"
     ]
    },
    {
     "data": {
      "text/html": [
       "<div>\n",
       "<style scoped>\n",
       "    .dataframe tbody tr th:only-of-type {\n",
       "        vertical-align: middle;\n",
       "    }\n",
       "\n",
       "    .dataframe tbody tr th {\n",
       "        vertical-align: top;\n",
       "    }\n",
       "\n",
       "    .dataframe thead th {\n",
       "        text-align: right;\n",
       "    }\n",
       "</style>\n",
       "<table border=\"1\" class=\"dataframe\">\n",
       "  <thead>\n",
       "    <tr style=\"text-align: right;\">\n",
       "      <th></th>\n",
       "      <th>best_fitting_count</th>\n",
       "      <th>min</th>\n",
       "      <th>max</th>\n",
       "      <th>r2&gt;0</th>\n",
       "      <th>r2&gt;0.8</th>\n",
       "      <th>r2&gt;0.9</th>\n",
       "    </tr>\n",
       "  </thead>\n",
       "  <tbody>\n",
       "    <tr>\n",
       "      <th>fsigmoid</th>\n",
       "      <td>0.0</td>\n",
       "      <td>7.768212e-01</td>\n",
       "      <td>0.999899</td>\n",
       "      <td>2108.0</td>\n",
       "      <td>2105.0</td>\n",
       "      <td>2058.0</td>\n",
       "    </tr>\n",
       "    <tr>\n",
       "      <th>sigmoid_2_param</th>\n",
       "      <td>0.0</td>\n",
       "      <td>7.768212e-01</td>\n",
       "      <td>0.999899</td>\n",
       "      <td>2108.0</td>\n",
       "      <td>2105.0</td>\n",
       "      <td>2058.0</td>\n",
       "    </tr>\n",
       "    <tr>\n",
       "      <th>sigmoid_3_param</th>\n",
       "      <td>2.0</td>\n",
       "      <td>8.127070e-01</td>\n",
       "      <td>0.999926</td>\n",
       "      <td>2108.0</td>\n",
       "      <td>2108.0</td>\n",
       "      <td>2098.0</td>\n",
       "    </tr>\n",
       "    <tr>\n",
       "      <th>sigmoid_4_param</th>\n",
       "      <td>886.0</td>\n",
       "      <td>-4.195295e-07</td>\n",
       "      <td>0.999981</td>\n",
       "      <td>2090.0</td>\n",
       "      <td>2073.0</td>\n",
       "      <td>2070.0</td>\n",
       "    </tr>\n",
       "    <tr>\n",
       "      <th>logistic_4_param</th>\n",
       "      <td>213.0</td>\n",
       "      <td>8.453735e-01</td>\n",
       "      <td>0.999981</td>\n",
       "      <td>2108.0</td>\n",
       "      <td>2108.0</td>\n",
       "      <td>2103.0</td>\n",
       "    </tr>\n",
       "    <tr>\n",
       "      <th>ll4_4_param</th>\n",
       "      <td>189.0</td>\n",
       "      <td>8.453634e-01</td>\n",
       "      <td>0.999981</td>\n",
       "      <td>2108.0</td>\n",
       "      <td>2108.0</td>\n",
       "      <td>2103.0</td>\n",
       "    </tr>\n",
       "    <tr>\n",
       "      <th>ll4R_4_param</th>\n",
       "      <td>195.0</td>\n",
       "      <td>9.126042e-08</td>\n",
       "      <td>0.999981</td>\n",
       "      <td>2108.0</td>\n",
       "      <td>2106.0</td>\n",
       "      <td>2099.0</td>\n",
       "    </tr>\n",
       "    <tr>\n",
       "      <th>logLogist_3_param</th>\n",
       "      <td>623.0</td>\n",
       "      <td>8.272879e-01</td>\n",
       "      <td>0.999978</td>\n",
       "      <td>2108.0</td>\n",
       "      <td>2108.0</td>\n",
       "      <td>2100.0</td>\n",
       "    </tr>\n",
       "  </tbody>\n",
       "</table>\n",
       "</div>"
      ],
      "text/plain": [
       "                   best_fitting_count           min       max    r2>0  r2>0.8  \\\n",
       "fsigmoid                          0.0  7.768212e-01  0.999899  2108.0  2105.0   \n",
       "sigmoid_2_param                   0.0  7.768212e-01  0.999899  2108.0  2105.0   \n",
       "sigmoid_3_param                   2.0  8.127070e-01  0.999926  2108.0  2108.0   \n",
       "sigmoid_4_param                 886.0 -4.195295e-07  0.999981  2090.0  2073.0   \n",
       "logistic_4_param                213.0  8.453735e-01  0.999981  2108.0  2108.0   \n",
       "ll4_4_param                     189.0  8.453634e-01  0.999981  2108.0  2108.0   \n",
       "ll4R_4_param                    195.0  9.126042e-08  0.999981  2108.0  2106.0   \n",
       "logLogist_3_param               623.0  8.272879e-01  0.999978  2108.0  2108.0   \n",
       "\n",
       "                   r2>0.9  \n",
       "fsigmoid           2058.0  \n",
       "sigmoid_2_param    2058.0  \n",
       "sigmoid_3_param    2098.0  \n",
       "sigmoid_4_param    2070.0  \n",
       "logistic_4_param   2103.0  \n",
       "ll4_4_param        2103.0  \n",
       "ll4R_4_param       2099.0  \n",
       "logLogist_3_param  2100.0  "
      ]
     },
     "metadata": {},
     "output_type": "display_data"
    },
    {
     "name": "stdout",
     "output_type": "stream",
     "text": [
      "\n",
      "Examples of bad fitting with sigmoid_4_param (r2<0.61): 35\n"
     ]
    },
    {
     "data": {
      "text/html": [
       "<div>\n",
       "<style scoped>\n",
       "    .dataframe tbody tr th:only-of-type {\n",
       "        vertical-align: middle;\n",
       "    }\n",
       "\n",
       "    .dataframe tbody tr th {\n",
       "        vertical-align: top;\n",
       "    }\n",
       "\n",
       "    .dataframe thead th {\n",
       "        text-align: right;\n",
       "    }\n",
       "</style>\n",
       "<table border=\"1\" class=\"dataframe\">\n",
       "  <thead>\n",
       "    <tr style=\"text-align: right;\">\n",
       "      <th></th>\n",
       "      <th>COSMIC_ID</th>\n",
       "      <th>DRUG_ID</th>\n",
       "      <th>fsigmoid_r2</th>\n",
       "      <th>sigmoid_2_param_r2</th>\n",
       "      <th>sigmoid_3_param_r2</th>\n",
       "      <th>sigmoid_4_param_r2</th>\n",
       "      <th>logistic_4_param_r2</th>\n",
       "      <th>ll4_4_param_r2</th>\n",
       "      <th>ll4R_4_param_r2</th>\n",
       "      <th>logLogist_3_param_r2</th>\n",
       "      <th>better_fitting</th>\n",
       "    </tr>\n",
       "  </thead>\n",
       "  <tbody>\n",
       "    <tr>\n",
       "      <th>155787</th>\n",
       "      <td>1287706</td>\n",
       "      <td>1014</td>\n",
       "      <td>0.882047</td>\n",
       "      <td>0.882047</td>\n",
       "      <td>0.983959</td>\n",
       "      <td>2.261360e-09</td>\n",
       "      <td>0.995356</td>\n",
       "      <td>0.995356</td>\n",
       "      <td>0.995356</td>\n",
       "      <td>0.987962</td>\n",
       "      <td>ll4_4_param</td>\n",
       "    </tr>\n",
       "    <tr>\n",
       "      <th>570</th>\n",
       "      <td>910851</td>\n",
       "      <td>170</td>\n",
       "      <td>0.991346</td>\n",
       "      <td>0.991346</td>\n",
       "      <td>0.995994</td>\n",
       "      <td>0.000000e+00</td>\n",
       "      <td>0.998188</td>\n",
       "      <td>0.998188</td>\n",
       "      <td>0.998188</td>\n",
       "      <td>0.997637</td>\n",
       "      <td>ll4_4_param</td>\n",
       "    </tr>\n",
       "    <tr>\n",
       "      <th>74484</th>\n",
       "      <td>724878</td>\n",
       "      <td>268</td>\n",
       "      <td>0.982274</td>\n",
       "      <td>0.982274</td>\n",
       "      <td>0.993826</td>\n",
       "      <td>2.606711e-08</td>\n",
       "      <td>0.995748</td>\n",
       "      <td>0.995748</td>\n",
       "      <td>0.995748</td>\n",
       "      <td>0.995376</td>\n",
       "      <td>logistic_4_param</td>\n",
       "    </tr>\n",
       "    <tr>\n",
       "      <th>82744</th>\n",
       "      <td>907172</td>\n",
       "      <td>344</td>\n",
       "      <td>0.998927</td>\n",
       "      <td>0.998927</td>\n",
       "      <td>0.999046</td>\n",
       "      <td>-1.189043e-08</td>\n",
       "      <td>0.999478</td>\n",
       "      <td>0.999478</td>\n",
       "      <td>0.999478</td>\n",
       "      <td>0.999058</td>\n",
       "      <td>ll4_4_param</td>\n",
       "    </tr>\n",
       "    <tr>\n",
       "      <th>107980</th>\n",
       "      <td>909706</td>\n",
       "      <td>182</td>\n",
       "      <td>0.971662</td>\n",
       "      <td>0.971662</td>\n",
       "      <td>0.988824</td>\n",
       "      <td>-1.532584e-08</td>\n",
       "      <td>0.994402</td>\n",
       "      <td>0.994402</td>\n",
       "      <td>0.994402</td>\n",
       "      <td>0.990529</td>\n",
       "      <td>ll4_4_param</td>\n",
       "    </tr>\n",
       "  </tbody>\n",
       "</table>\n",
       "</div>"
      ],
      "text/plain": [
       "        COSMIC_ID  DRUG_ID  fsigmoid_r2  sigmoid_2_param_r2  \\\n",
       "155787    1287706     1014     0.882047            0.882047   \n",
       "570        910851      170     0.991346            0.991346   \n",
       "74484      724878      268     0.982274            0.982274   \n",
       "82744      907172      344     0.998927            0.998927   \n",
       "107980     909706      182     0.971662            0.971662   \n",
       "\n",
       "        sigmoid_3_param_r2  sigmoid_4_param_r2  logistic_4_param_r2  \\\n",
       "155787            0.983959        2.261360e-09             0.995356   \n",
       "570               0.995994        0.000000e+00             0.998188   \n",
       "74484             0.993826        2.606711e-08             0.995748   \n",
       "82744             0.999046       -1.189043e-08             0.999478   \n",
       "107980            0.988824       -1.532584e-08             0.994402   \n",
       "\n",
       "        ll4_4_param_r2  ll4R_4_param_r2  logLogist_3_param_r2  \\\n",
       "155787        0.995356         0.995356              0.987962   \n",
       "570           0.998188         0.998188              0.997637   \n",
       "74484         0.995748         0.995748              0.995376   \n",
       "82744         0.999478         0.999478              0.999058   \n",
       "107980        0.994402         0.994402              0.990529   \n",
       "\n",
       "          better_fitting  \n",
       "155787       ll4_4_param  \n",
       "570          ll4_4_param  \n",
       "74484   logistic_4_param  \n",
       "82744        ll4_4_param  \n",
       "107980       ll4_4_param  "
      ]
     },
     "metadata": {},
     "output_type": "display_data"
    },
    {
     "name": "stdout",
     "output_type": "stream",
     "text": [
      "CPU times: user 41.8 s, sys: 1.76 s, total: 43.6 s\n",
      "Wall time: 42.9 s\n"
     ]
    }
   ],
   "source": [
    "%%time\n",
    "df_1234_02 = filtering_sigmoid_curves(drug_curves, filtering_scenario=[1,2,3,4], \\\n",
    "                        response_columns = response_norm, \\\n",
    "                        first_points_lower_limit = 0.8, \n",
    "                        last_points_upper_limit = 0.2,\n",
    "                        middle_points_limit = -0.2)\n",
    "\n",
    "compare_fitting_functions(df_1234_02, functions, conc_columns, response_norm)"
   ]
  },
  {
   "cell_type": "code",
   "execution_count": 8,
   "metadata": {},
   "outputs": [
    {
     "name": "stdout",
     "output_type": "stream",
     "text": [
      "Original dataset: (225384, 44)\n"
     ]
    },
    {
     "name": "stderr",
     "output_type": "stream",
     "text": [
      "  0%|          | 62/18415 [00:00<00:30, 610.48it/s]"
     ]
    },
    {
     "name": "stdout",
     "output_type": "stream",
     "text": [
      "1st filtration (Ensure that all the response are less than 1): Filtered dataset: (63325, 44)\n",
      "3d stage filtration (Specified location of the plateus): Filtered dataset: (19037, 44)\n",
      "4th stage filtration (Cut off high ancedent points): Filtered dataset: (18415, 44)\n",
      "(18415, 44)\n"
     ]
    },
    {
     "name": "stderr",
     "output_type": "stream",
     "text": [
      "100%|██████████| 18415/18415 [00:32<00:00, 570.94it/s]\n",
      "  0%|          | 68/18415 [00:00<00:27, 675.74it/s]"
     ]
    },
    {
     "name": "stdout",
     "output_type": "stream",
     "text": [
      "<function fsigmoid at 0x7f86253c7598>\n"
     ]
    },
    {
     "name": "stderr",
     "output_type": "stream",
     "text": [
      "100%|██████████| 18415/18415 [00:26<00:00, 701.68it/s]\n",
      "  0%|          | 41/18415 [00:00<00:45, 403.85it/s]"
     ]
    },
    {
     "name": "stdout",
     "output_type": "stream",
     "text": [
      "<function sigmoid_2_param at 0x7f86253c7510>\n"
     ]
    },
    {
     "name": "stderr",
     "output_type": "stream",
     "text": [
      "100%|██████████| 18415/18415 [00:39<00:00, 465.47it/s]\n",
      "  0%|          | 15/18415 [00:00<02:14, 136.67it/s]"
     ]
    },
    {
     "name": "stdout",
     "output_type": "stream",
     "text": [
      "<function sigmoid_3_param at 0x7f86253c7620>\n"
     ]
    },
    {
     "name": "stderr",
     "output_type": "stream",
     "text": [
      "100%|██████████| 18415/18415 [01:21<00:00, 225.60it/s]\n",
      "  0%|          | 32/18415 [00:00<00:58, 313.19it/s]"
     ]
    },
    {
     "name": "stdout",
     "output_type": "stream",
     "text": [
      "<function sigmoid_4_param at 0x7f86253c76a8>\n"
     ]
    },
    {
     "name": "stderr",
     "output_type": "stream",
     "text": [
      "100%|██████████| 18415/18415 [00:56<00:00, 328.81it/s]\n",
      "  0%|          | 23/18415 [00:00<01:20, 228.15it/s]"
     ]
    },
    {
     "name": "stdout",
     "output_type": "stream",
     "text": [
      "<function logistic_4_param at 0x7f86253c7840>\n"
     ]
    },
    {
     "name": "stderr",
     "output_type": "stream",
     "text": [
      "100%|██████████| 18415/18415 [01:11<00:00, 259.17it/s]\n",
      "  0%|          | 25/18415 [00:00<01:14, 247.52it/s]"
     ]
    },
    {
     "name": "stdout",
     "output_type": "stream",
     "text": [
      "<function ll4_4_param at 0x7f86253c7730>\n"
     ]
    },
    {
     "name": "stderr",
     "output_type": "stream",
     "text": [
      "100%|██████████| 18415/18415 [01:08<00:00, 268.64it/s]\n",
      "  0%|          | 20/18415 [00:00<01:32, 199.85it/s]"
     ]
    },
    {
     "name": "stdout",
     "output_type": "stream",
     "text": [
      "<function ll4R_4_param at 0x7f86253c77b8>\n"
     ]
    },
    {
     "name": "stderr",
     "output_type": "stream",
     "text": [
      "100%|██████████| 18415/18415 [01:00<00:00, 305.08it/s]\n"
     ]
    },
    {
     "name": "stdout",
     "output_type": "stream",
     "text": [
      "<function logLogist_3_param at 0x7f86253c78c8>\n",
      "\n"
     ]
    },
    {
     "data": {
      "text/html": [
       "<div>\n",
       "<style scoped>\n",
       "    .dataframe tbody tr th:only-of-type {\n",
       "        vertical-align: middle;\n",
       "    }\n",
       "\n",
       "    .dataframe tbody tr th {\n",
       "        vertical-align: top;\n",
       "    }\n",
       "\n",
       "    .dataframe thead th {\n",
       "        text-align: right;\n",
       "    }\n",
       "</style>\n",
       "<table border=\"1\" class=\"dataframe\">\n",
       "  <thead>\n",
       "    <tr style=\"text-align: right;\">\n",
       "      <th></th>\n",
       "      <th>best_fitting_count</th>\n",
       "      <th>min</th>\n",
       "      <th>max</th>\n",
       "      <th>r2&gt;0</th>\n",
       "      <th>r2&gt;0.8</th>\n",
       "      <th>r2&gt;0.9</th>\n",
       "    </tr>\n",
       "  </thead>\n",
       "  <tbody>\n",
       "    <tr>\n",
       "      <th>fsigmoid</th>\n",
       "      <td>1.0</td>\n",
       "      <td>2.755202e-01</td>\n",
       "      <td>0.999938</td>\n",
       "      <td>18415.0</td>\n",
       "      <td>17174.0</td>\n",
       "      <td>14274.0</td>\n",
       "    </tr>\n",
       "    <tr>\n",
       "      <th>sigmoid_2_param</th>\n",
       "      <td>1.0</td>\n",
       "      <td>2.755201e-01</td>\n",
       "      <td>0.999938</td>\n",
       "      <td>18415.0</td>\n",
       "      <td>17172.0</td>\n",
       "      <td>14271.0</td>\n",
       "    </tr>\n",
       "    <tr>\n",
       "      <th>sigmoid_3_param</th>\n",
       "      <td>90.0</td>\n",
       "      <td>-2.047581e-04</td>\n",
       "      <td>0.999998</td>\n",
       "      <td>18414.0</td>\n",
       "      <td>18219.0</td>\n",
       "      <td>16928.0</td>\n",
       "    </tr>\n",
       "    <tr>\n",
       "      <th>sigmoid_4_param</th>\n",
       "      <td>5843.0</td>\n",
       "      <td>-7.220099e-06</td>\n",
       "      <td>0.999981</td>\n",
       "      <td>17333.0</td>\n",
       "      <td>16350.0</td>\n",
       "      <td>15635.0</td>\n",
       "    </tr>\n",
       "    <tr>\n",
       "      <th>logistic_4_param</th>\n",
       "      <td>1733.0</td>\n",
       "      <td>0.000000e+00</td>\n",
       "      <td>0.999981</td>\n",
       "      <td>18414.0</td>\n",
       "      <td>18270.0</td>\n",
       "      <td>17399.0</td>\n",
       "    </tr>\n",
       "    <tr>\n",
       "      <th>ll4_4_param</th>\n",
       "      <td>1603.0</td>\n",
       "      <td>0.000000e+00</td>\n",
       "      <td>0.999981</td>\n",
       "      <td>18413.0</td>\n",
       "      <td>18268.0</td>\n",
       "      <td>17396.0</td>\n",
       "    </tr>\n",
       "    <tr>\n",
       "      <th>ll4R_4_param</th>\n",
       "      <td>1488.0</td>\n",
       "      <td>-5.176513e-07</td>\n",
       "      <td>0.999981</td>\n",
       "      <td>18411.0</td>\n",
       "      <td>18262.0</td>\n",
       "      <td>17384.0</td>\n",
       "    </tr>\n",
       "    <tr>\n",
       "      <th>logLogist_3_param</th>\n",
       "      <td>7656.0</td>\n",
       "      <td>6.058932e-01</td>\n",
       "      <td>0.999996</td>\n",
       "      <td>18415.0</td>\n",
       "      <td>18372.0</td>\n",
       "      <td>17906.0</td>\n",
       "    </tr>\n",
       "  </tbody>\n",
       "</table>\n",
       "</div>"
      ],
      "text/plain": [
       "                   best_fitting_count           min       max     r2>0  \\\n",
       "fsigmoid                          1.0  2.755202e-01  0.999938  18415.0   \n",
       "sigmoid_2_param                   1.0  2.755201e-01  0.999938  18415.0   \n",
       "sigmoid_3_param                  90.0 -2.047581e-04  0.999998  18414.0   \n",
       "sigmoid_4_param                5843.0 -7.220099e-06  0.999981  17333.0   \n",
       "logistic_4_param               1733.0  0.000000e+00  0.999981  18414.0   \n",
       "ll4_4_param                    1603.0  0.000000e+00  0.999981  18413.0   \n",
       "ll4R_4_param                   1488.0 -5.176513e-07  0.999981  18411.0   \n",
       "logLogist_3_param              7656.0  6.058932e-01  0.999996  18415.0   \n",
       "\n",
       "                    r2>0.8   r2>0.9  \n",
       "fsigmoid           17174.0  14274.0  \n",
       "sigmoid_2_param    17172.0  14271.0  \n",
       "sigmoid_3_param    18219.0  16928.0  \n",
       "sigmoid_4_param    16350.0  15635.0  \n",
       "logistic_4_param   18270.0  17399.0  \n",
       "ll4_4_param        18268.0  17396.0  \n",
       "ll4R_4_param       18262.0  17384.0  \n",
       "logLogist_3_param  18372.0  17906.0  "
      ]
     },
     "metadata": {},
     "output_type": "display_data"
    },
    {
     "name": "stdout",
     "output_type": "stream",
     "text": [
      "\n",
      "Examples of bad fitting with sigmoid_4_param (r2<0.61): 1941\n"
     ]
    },
    {
     "data": {
      "text/html": [
       "<div>\n",
       "<style scoped>\n",
       "    .dataframe tbody tr th:only-of-type {\n",
       "        vertical-align: middle;\n",
       "    }\n",
       "\n",
       "    .dataframe tbody tr th {\n",
       "        vertical-align: top;\n",
       "    }\n",
       "\n",
       "    .dataframe thead th {\n",
       "        text-align: right;\n",
       "    }\n",
       "</style>\n",
       "<table border=\"1\" class=\"dataframe\">\n",
       "  <thead>\n",
       "    <tr style=\"text-align: right;\">\n",
       "      <th></th>\n",
       "      <th>COSMIC_ID</th>\n",
       "      <th>DRUG_ID</th>\n",
       "      <th>fsigmoid_r2</th>\n",
       "      <th>sigmoid_2_param_r2</th>\n",
       "      <th>sigmoid_3_param_r2</th>\n",
       "      <th>sigmoid_4_param_r2</th>\n",
       "      <th>logistic_4_param_r2</th>\n",
       "      <th>ll4_4_param_r2</th>\n",
       "      <th>ll4R_4_param_r2</th>\n",
       "      <th>logLogist_3_param_r2</th>\n",
       "      <th>better_fitting</th>\n",
       "    </tr>\n",
       "  </thead>\n",
       "  <tbody>\n",
       "    <tr>\n",
       "      <th>131092</th>\n",
       "      <td>909726</td>\n",
       "      <td>252</td>\n",
       "      <td>0.896614</td>\n",
       "      <td>0.896614</td>\n",
       "      <td>0.931205</td>\n",
       "      <td>0.000000e+00</td>\n",
       "      <td>0.947938</td>\n",
       "      <td>0.947661</td>\n",
       "      <td>0.947523</td>\n",
       "      <td>0.965033</td>\n",
       "      <td>logLogist_3_param</td>\n",
       "    </tr>\n",
       "    <tr>\n",
       "      <th>131122</th>\n",
       "      <td>753584</td>\n",
       "      <td>222</td>\n",
       "      <td>0.974394</td>\n",
       "      <td>0.974394</td>\n",
       "      <td>0.984243</td>\n",
       "      <td>-7.183103e-09</td>\n",
       "      <td>0.985092</td>\n",
       "      <td>0.985121</td>\n",
       "      <td>0.985073</td>\n",
       "      <td>0.993008</td>\n",
       "      <td>logLogist_3_param</td>\n",
       "    </tr>\n",
       "    <tr>\n",
       "      <th>72</th>\n",
       "      <td>908449</td>\n",
       "      <td>273</td>\n",
       "      <td>0.989093</td>\n",
       "      <td>0.989093</td>\n",
       "      <td>0.994160</td>\n",
       "      <td>4.094162e-08</td>\n",
       "      <td>0.995272</td>\n",
       "      <td>0.995272</td>\n",
       "      <td>0.995272</td>\n",
       "      <td>0.991522</td>\n",
       "      <td>logistic_4_param</td>\n",
       "    </tr>\n",
       "    <tr>\n",
       "      <th>65611</th>\n",
       "      <td>688010</td>\n",
       "      <td>134</td>\n",
       "      <td>0.921392</td>\n",
       "      <td>0.921392</td>\n",
       "      <td>0.940102</td>\n",
       "      <td>6.746451e-10</td>\n",
       "      <td>0.933921</td>\n",
       "      <td>0.933869</td>\n",
       "      <td>0.933904</td>\n",
       "      <td>0.947732</td>\n",
       "      <td>logLogist_3_param</td>\n",
       "    </tr>\n",
       "    <tr>\n",
       "      <th>65620</th>\n",
       "      <td>1330996</td>\n",
       "      <td>235</td>\n",
       "      <td>0.943544</td>\n",
       "      <td>0.943544</td>\n",
       "      <td>0.968856</td>\n",
       "      <td>1.278982e-07</td>\n",
       "      <td>0.969390</td>\n",
       "      <td>0.969390</td>\n",
       "      <td>0.969388</td>\n",
       "      <td>0.962382</td>\n",
       "      <td>logistic_4_param</td>\n",
       "    </tr>\n",
       "  </tbody>\n",
       "</table>\n",
       "</div>"
      ],
      "text/plain": [
       "        COSMIC_ID  DRUG_ID  fsigmoid_r2  sigmoid_2_param_r2  \\\n",
       "131092     909726      252     0.896614            0.896614   \n",
       "131122     753584      222     0.974394            0.974394   \n",
       "72         908449      273     0.989093            0.989093   \n",
       "65611      688010      134     0.921392            0.921392   \n",
       "65620     1330996      235     0.943544            0.943544   \n",
       "\n",
       "        sigmoid_3_param_r2  sigmoid_4_param_r2  logistic_4_param_r2  \\\n",
       "131092            0.931205        0.000000e+00             0.947938   \n",
       "131122            0.984243       -7.183103e-09             0.985092   \n",
       "72                0.994160        4.094162e-08             0.995272   \n",
       "65611             0.940102        6.746451e-10             0.933921   \n",
       "65620             0.968856        1.278982e-07             0.969390   \n",
       "\n",
       "        ll4_4_param_r2  ll4R_4_param_r2  logLogist_3_param_r2  \\\n",
       "131092        0.947661         0.947523              0.965033   \n",
       "131122        0.985121         0.985073              0.993008   \n",
       "72            0.995272         0.995272              0.991522   \n",
       "65611         0.933869         0.933904              0.947732   \n",
       "65620         0.969390         0.969388              0.962382   \n",
       "\n",
       "           better_fitting  \n",
       "131092  logLogist_3_param  \n",
       "131122  logLogist_3_param  \n",
       "72       logistic_4_param  \n",
       "65611   logLogist_3_param  \n",
       "65620    logistic_4_param  "
      ]
     },
     "metadata": {},
     "output_type": "display_data"
    },
    {
     "name": "stdout",
     "output_type": "stream",
     "text": [
      "CPU times: user 7min 7s, sys: 19 s, total: 7min 26s\n",
      "Wall time: 7min 17s\n"
     ]
    }
   ],
   "source": [
    "%%time\n",
    "df_134_04 = filtering_sigmoid_curves(drug_curves, filtering_scenario=[1,3,4], \\\n",
    "                        response_columns = response_norm, \\\n",
    "                        first_points_lower_limit = 0.8, last_points_upper_limit = 0.4,\n",
    "                        middle_points_limit =-0.2)\n",
    "\n",
    "compare_fitting_functions(df_134_04, functions, conc_columns, response_norm)"
   ]
  },
  {
   "cell_type": "code",
   "execution_count": 9,
   "metadata": {},
   "outputs": [
    {
     "name": "stdout",
     "output_type": "stream",
     "text": [
      "Original dataset: (225384, 44)\n"
     ]
    },
    {
     "name": "stderr",
     "output_type": "stream",
     "text": [
      "  1%|          | 63/11997 [00:00<00:19, 627.27it/s]"
     ]
    },
    {
     "name": "stdout",
     "output_type": "stream",
     "text": [
      "1st filtration (Ensure that all the response are less than 1): Filtered dataset: (63325, 44)\n",
      "3d stage filtration (Specified location of the plateus): Filtered dataset: (12355, 44)\n",
      "4th stage filtration (Cut off high ancedent points): Filtered dataset: (11997, 44)\n",
      "(11997, 44)\n"
     ]
    },
    {
     "name": "stderr",
     "output_type": "stream",
     "text": [
      "100%|██████████| 11997/11997 [00:18<00:00, 638.87it/s]\n",
      "  1%|          | 68/11997 [00:00<00:17, 676.23it/s]"
     ]
    },
    {
     "name": "stdout",
     "output_type": "stream",
     "text": [
      "<function fsigmoid at 0x7f86253c7598>\n"
     ]
    },
    {
     "name": "stderr",
     "output_type": "stream",
     "text": [
      "100%|██████████| 11997/11997 [00:17<00:00, 702.34it/s]\n",
      "  0%|          | 45/11997 [00:00<00:26, 443.95it/s]"
     ]
    },
    {
     "name": "stdout",
     "output_type": "stream",
     "text": [
      "<function sigmoid_2_param at 0x7f86253c7510>\n"
     ]
    },
    {
     "name": "stderr",
     "output_type": "stream",
     "text": [
      "100%|██████████| 11997/11997 [00:25<00:00, 461.67it/s]\n",
      "  0%|          | 25/11997 [00:00<00:48, 244.99it/s]"
     ]
    },
    {
     "name": "stdout",
     "output_type": "stream",
     "text": [
      "<function sigmoid_3_param at 0x7f86253c7620>\n"
     ]
    },
    {
     "name": "stderr",
     "output_type": "stream",
     "text": [
      "100%|██████████| 11997/11997 [00:49<00:00, 243.46it/s]\n",
      "  0%|          | 37/11997 [00:00<00:32, 363.75it/s]"
     ]
    },
    {
     "name": "stdout",
     "output_type": "stream",
     "text": [
      "<function sigmoid_4_param at 0x7f86253c76a8>\n"
     ]
    },
    {
     "name": "stderr",
     "output_type": "stream",
     "text": [
      "100%|██████████| 11997/11997 [00:36<00:00, 326.06it/s]\n",
      "  0%|          | 21/11997 [00:00<00:57, 206.97it/s]"
     ]
    },
    {
     "name": "stdout",
     "output_type": "stream",
     "text": [
      "<function logistic_4_param at 0x7f86253c7840>\n"
     ]
    },
    {
     "name": "stderr",
     "output_type": "stream",
     "text": [
      "100%|██████████| 11997/11997 [00:46<00:00, 259.96it/s]\n",
      "  0%|          | 26/11997 [00:00<00:46, 255.63it/s]"
     ]
    },
    {
     "name": "stdout",
     "output_type": "stream",
     "text": [
      "<function ll4_4_param at 0x7f86253c7730>\n"
     ]
    },
    {
     "name": "stderr",
     "output_type": "stream",
     "text": [
      "100%|██████████| 11997/11997 [00:47<00:00, 251.97it/s]\n",
      "  0%|          | 26/11997 [00:00<00:46, 256.27it/s]"
     ]
    },
    {
     "name": "stdout",
     "output_type": "stream",
     "text": [
      "<function ll4R_4_param at 0x7f86253c77b8>\n"
     ]
    },
    {
     "name": "stderr",
     "output_type": "stream",
     "text": [
      "100%|██████████| 11997/11997 [00:41<00:00, 286.68it/s]\n"
     ]
    },
    {
     "name": "stdout",
     "output_type": "stream",
     "text": [
      "<function logLogist_3_param at 0x7f86253c78c8>\n",
      "\n"
     ]
    },
    {
     "data": {
      "text/html": [
       "<div>\n",
       "<style scoped>\n",
       "    .dataframe tbody tr th:only-of-type {\n",
       "        vertical-align: middle;\n",
       "    }\n",
       "\n",
       "    .dataframe tbody tr th {\n",
       "        vertical-align: top;\n",
       "    }\n",
       "\n",
       "    .dataframe thead th {\n",
       "        text-align: right;\n",
       "    }\n",
       "</style>\n",
       "<table border=\"1\" class=\"dataframe\">\n",
       "  <thead>\n",
       "    <tr style=\"text-align: right;\">\n",
       "      <th></th>\n",
       "      <th>best_fitting_count</th>\n",
       "      <th>min</th>\n",
       "      <th>max</th>\n",
       "      <th>r2&gt;0</th>\n",
       "      <th>r2&gt;0.8</th>\n",
       "      <th>r2&gt;0.9</th>\n",
       "    </tr>\n",
       "  </thead>\n",
       "  <tbody>\n",
       "    <tr>\n",
       "      <th>fsigmoid</th>\n",
       "      <td>0.0</td>\n",
       "      <td>2.788415e-01</td>\n",
       "      <td>0.999938</td>\n",
       "      <td>11997.0</td>\n",
       "      <td>11520.0</td>\n",
       "      <td>10282.0</td>\n",
       "    </tr>\n",
       "    <tr>\n",
       "      <th>sigmoid_2_param</th>\n",
       "      <td>1.0</td>\n",
       "      <td>2.788415e-01</td>\n",
       "      <td>0.999938</td>\n",
       "      <td>11997.0</td>\n",
       "      <td>11520.0</td>\n",
       "      <td>10282.0</td>\n",
       "    </tr>\n",
       "    <tr>\n",
       "      <th>sigmoid_3_param</th>\n",
       "      <td>61.0</td>\n",
       "      <td>-2.047581e-04</td>\n",
       "      <td>0.999998</td>\n",
       "      <td>11996.0</td>\n",
       "      <td>11927.0</td>\n",
       "      <td>11378.0</td>\n",
       "    </tr>\n",
       "    <tr>\n",
       "      <th>sigmoid_4_param</th>\n",
       "      <td>4271.0</td>\n",
       "      <td>-4.170810e-06</td>\n",
       "      <td>0.999981</td>\n",
       "      <td>11358.0</td>\n",
       "      <td>10828.0</td>\n",
       "      <td>10556.0</td>\n",
       "    </tr>\n",
       "    <tr>\n",
       "      <th>logistic_4_param</th>\n",
       "      <td>1109.0</td>\n",
       "      <td>5.782919e-01</td>\n",
       "      <td>0.999981</td>\n",
       "      <td>11997.0</td>\n",
       "      <td>11958.0</td>\n",
       "      <td>11603.0</td>\n",
       "    </tr>\n",
       "    <tr>\n",
       "      <th>ll4_4_param</th>\n",
       "      <td>1031.0</td>\n",
       "      <td>0.000000e+00</td>\n",
       "      <td>0.999981</td>\n",
       "      <td>11996.0</td>\n",
       "      <td>11957.0</td>\n",
       "      <td>11601.0</td>\n",
       "    </tr>\n",
       "    <tr>\n",
       "      <th>ll4R_4_param</th>\n",
       "      <td>931.0</td>\n",
       "      <td>-5.176513e-07</td>\n",
       "      <td>0.999981</td>\n",
       "      <td>11994.0</td>\n",
       "      <td>11951.0</td>\n",
       "      <td>11592.0</td>\n",
       "    </tr>\n",
       "    <tr>\n",
       "      <th>logLogist_3_param</th>\n",
       "      <td>4593.0</td>\n",
       "      <td>7.085231e-01</td>\n",
       "      <td>0.999996</td>\n",
       "      <td>11997.0</td>\n",
       "      <td>11989.0</td>\n",
       "      <td>11840.0</td>\n",
       "    </tr>\n",
       "  </tbody>\n",
       "</table>\n",
       "</div>"
      ],
      "text/plain": [
       "                   best_fitting_count           min       max     r2>0  \\\n",
       "fsigmoid                          0.0  2.788415e-01  0.999938  11997.0   \n",
       "sigmoid_2_param                   1.0  2.788415e-01  0.999938  11997.0   \n",
       "sigmoid_3_param                  61.0 -2.047581e-04  0.999998  11996.0   \n",
       "sigmoid_4_param                4271.0 -4.170810e-06  0.999981  11358.0   \n",
       "logistic_4_param               1109.0  5.782919e-01  0.999981  11997.0   \n",
       "ll4_4_param                    1031.0  0.000000e+00  0.999981  11996.0   \n",
       "ll4R_4_param                    931.0 -5.176513e-07  0.999981  11994.0   \n",
       "logLogist_3_param              4593.0  7.085231e-01  0.999996  11997.0   \n",
       "\n",
       "                    r2>0.8   r2>0.9  \n",
       "fsigmoid           11520.0  10282.0  \n",
       "sigmoid_2_param    11520.0  10282.0  \n",
       "sigmoid_3_param    11927.0  11378.0  \n",
       "sigmoid_4_param    10828.0  10556.0  \n",
       "logistic_4_param   11958.0  11603.0  \n",
       "ll4_4_param        11957.0  11601.0  \n",
       "ll4R_4_param       11951.0  11592.0  \n",
       "logLogist_3_param  11989.0  11840.0  "
      ]
     },
     "metadata": {},
     "output_type": "display_data"
    },
    {
     "name": "stdout",
     "output_type": "stream",
     "text": [
      "\n",
      "Examples of bad fitting with sigmoid_4_param (r2<0.61): 1136\n"
     ]
    },
    {
     "data": {
      "text/html": [
       "<div>\n",
       "<style scoped>\n",
       "    .dataframe tbody tr th:only-of-type {\n",
       "        vertical-align: middle;\n",
       "    }\n",
       "\n",
       "    .dataframe tbody tr th {\n",
       "        vertical-align: top;\n",
       "    }\n",
       "\n",
       "    .dataframe thead th {\n",
       "        text-align: right;\n",
       "    }\n",
       "</style>\n",
       "<table border=\"1\" class=\"dataframe\">\n",
       "  <thead>\n",
       "    <tr style=\"text-align: right;\">\n",
       "      <th></th>\n",
       "      <th>COSMIC_ID</th>\n",
       "      <th>DRUG_ID</th>\n",
       "      <th>fsigmoid_r2</th>\n",
       "      <th>sigmoid_2_param_r2</th>\n",
       "      <th>sigmoid_3_param_r2</th>\n",
       "      <th>sigmoid_4_param_r2</th>\n",
       "      <th>logistic_4_param_r2</th>\n",
       "      <th>ll4_4_param_r2</th>\n",
       "      <th>ll4R_4_param_r2</th>\n",
       "      <th>logLogist_3_param_r2</th>\n",
       "      <th>better_fitting</th>\n",
       "    </tr>\n",
       "  </thead>\n",
       "  <tbody>\n",
       "    <tr>\n",
       "      <th>131092</th>\n",
       "      <td>909726</td>\n",
       "      <td>252</td>\n",
       "      <td>0.896614</td>\n",
       "      <td>0.896614</td>\n",
       "      <td>0.931205</td>\n",
       "      <td>0.000000e+00</td>\n",
       "      <td>0.947938</td>\n",
       "      <td>0.947661</td>\n",
       "      <td>0.947523</td>\n",
       "      <td>0.965033</td>\n",
       "      <td>logLogist_3_param</td>\n",
       "    </tr>\n",
       "    <tr>\n",
       "      <th>98368</th>\n",
       "      <td>908443</td>\n",
       "      <td>225</td>\n",
       "      <td>0.797873</td>\n",
       "      <td>0.797873</td>\n",
       "      <td>0.904829</td>\n",
       "      <td>-3.237209e-08</td>\n",
       "      <td>0.916889</td>\n",
       "      <td>0.916862</td>\n",
       "      <td>0.916749</td>\n",
       "      <td>0.978779</td>\n",
       "      <td>logLogist_3_param</td>\n",
       "    </tr>\n",
       "    <tr>\n",
       "      <th>72</th>\n",
       "      <td>908449</td>\n",
       "      <td>273</td>\n",
       "      <td>0.989093</td>\n",
       "      <td>0.989093</td>\n",
       "      <td>0.994160</td>\n",
       "      <td>4.094162e-08</td>\n",
       "      <td>0.995272</td>\n",
       "      <td>0.995272</td>\n",
       "      <td>0.995272</td>\n",
       "      <td>0.991522</td>\n",
       "      <td>logistic_4_param</td>\n",
       "    </tr>\n",
       "    <tr>\n",
       "      <th>65639</th>\n",
       "      <td>907053</td>\n",
       "      <td>257</td>\n",
       "      <td>0.819013</td>\n",
       "      <td>0.819013</td>\n",
       "      <td>0.931013</td>\n",
       "      <td>0.000000e+00</td>\n",
       "      <td>0.931033</td>\n",
       "      <td>0.931024</td>\n",
       "      <td>0.931012</td>\n",
       "      <td>0.944819</td>\n",
       "      <td>logLogist_3_param</td>\n",
       "    </tr>\n",
       "    <tr>\n",
       "      <th>65655</th>\n",
       "      <td>1290801</td>\n",
       "      <td>346</td>\n",
       "      <td>0.969306</td>\n",
       "      <td>0.969306</td>\n",
       "      <td>0.970429</td>\n",
       "      <td>0.000000e+00</td>\n",
       "      <td>0.985486</td>\n",
       "      <td>0.985486</td>\n",
       "      <td>0.985486</td>\n",
       "      <td>0.973734</td>\n",
       "      <td>ll4R_4_param</td>\n",
       "    </tr>\n",
       "  </tbody>\n",
       "</table>\n",
       "</div>"
      ],
      "text/plain": [
       "        COSMIC_ID  DRUG_ID  fsigmoid_r2  sigmoid_2_param_r2  \\\n",
       "131092     909726      252     0.896614            0.896614   \n",
       "98368      908443      225     0.797873            0.797873   \n",
       "72         908449      273     0.989093            0.989093   \n",
       "65639      907053      257     0.819013            0.819013   \n",
       "65655     1290801      346     0.969306            0.969306   \n",
       "\n",
       "        sigmoid_3_param_r2  sigmoid_4_param_r2  logistic_4_param_r2  \\\n",
       "131092            0.931205        0.000000e+00             0.947938   \n",
       "98368             0.904829       -3.237209e-08             0.916889   \n",
       "72                0.994160        4.094162e-08             0.995272   \n",
       "65639             0.931013        0.000000e+00             0.931033   \n",
       "65655             0.970429        0.000000e+00             0.985486   \n",
       "\n",
       "        ll4_4_param_r2  ll4R_4_param_r2  logLogist_3_param_r2  \\\n",
       "131092        0.947661         0.947523              0.965033   \n",
       "98368         0.916862         0.916749              0.978779   \n",
       "72            0.995272         0.995272              0.991522   \n",
       "65639         0.931024         0.931012              0.944819   \n",
       "65655         0.985486         0.985486              0.973734   \n",
       "\n",
       "           better_fitting  \n",
       "131092  logLogist_3_param  \n",
       "98368   logLogist_3_param  \n",
       "72       logistic_4_param  \n",
       "65639   logLogist_3_param  \n",
       "65655        ll4R_4_param  "
      ]
     },
     "metadata": {},
     "output_type": "display_data"
    },
    {
     "name": "stdout",
     "output_type": "stream",
     "text": [
      "CPU times: user 4min 35s, sys: 12 s, total: 4min 47s\n",
      "Wall time: 4min 44s\n"
     ]
    }
   ],
   "source": [
    "%%time\n",
    "df_134_02 = filtering_sigmoid_curves(drug_curves, filtering_scenario=[1,3,4], \\\n",
    "                        response_columns = response_norm, \\\n",
    "                        first_points_lower_limit = 0.8, \n",
    "                        last_points_upper_limit = 0.2,\n",
    "                        middle_points_limit = -0.2)\n",
    "\n",
    "compare_fitting_functions(df_134_02, functions, conc_columns, response_norm)"
   ]
  },
  {
   "cell_type": "code",
   "execution_count": 10,
   "metadata": {},
   "outputs": [
    {
     "data": {
      "image/png": "[encoded data removed]",
      "text/plain": [
       "<Figure size 1008x792 with 9 Axes>"
      ]
     },
     "metadata": {
      "needs_background": "light"
     },
     "output_type": "display_data"
    }
   ],
   "source": [
    "new_df = df_134_02[df_134_02[\"sigmoid_4_param_r2\"]>0.9]\n",
    "show_response_curves(new_df, plots_in_row=3, plots_in_column=3, \\\n",
    "                   x_columns=conc_columns, y_columns=response_norm, indexes=new_df.index[:9])\n"
   ]
  },
  {
   "cell_type": "markdown",
   "metadata": {},
   "source": [
    "### What if don't use any filtering"
   ]
  },
  {
   "cell_type": "code",
   "execution_count": 11,
   "metadata": {},
   "outputs": [
    {
     "name": "stderr",
     "output_type": "stream",
     "text": [
      "\r",
      "  0%|          | 0/225384 [00:00<?, ?it/s]"
     ]
    },
    {
     "name": "stdout",
     "output_type": "stream",
     "text": [
      "(225384, 44)\n"
     ]
    },
    {
     "name": "stderr",
     "output_type": "stream",
     "text": [
      "100%|██████████| 225384/225384 [06:30<00:00, 577.46it/s] \n"
     ]
    },
    {
     "name": "stdout",
     "output_type": "stream",
     "text": [
      "<function fsigmoid at 0x7f86253c7598>\n"
     ]
    },
    {
     "name": "stderr",
     "output_type": "stream",
     "text": [
      "100%|██████████| 225384/225384 [05:41<00:00, 660.18it/s] \n"
     ]
    },
    {
     "name": "stdout",
     "output_type": "stream",
     "text": [
      "<function sigmoid_2_param at 0x7f86253c7510>\n"
     ]
    },
    {
     "name": "stderr",
     "output_type": "stream",
     "text": [
      "100%|██████████| 225384/225384 [09:26<00:00, 397.85it/s] \n"
     ]
    },
    {
     "name": "stdout",
     "output_type": "stream",
     "text": [
      "<function sigmoid_3_param at 0x7f86253c7620>\n"
     ]
    },
    {
     "name": "stderr",
     "output_type": "stream",
     "text": [
      "100%|██████████| 225384/225384 [1:02:44<00:00, 59.88it/s]    \n"
     ]
    },
    {
     "name": "stdout",
     "output_type": "stream",
     "text": [
      "<function sigmoid_4_param at 0x7f86253c76a8>\n"
     ]
    },
    {
     "name": "stderr",
     "output_type": "stream",
     "text": [
      "100%|██████████| 225384/225384 [3:21:50<00:00, 18.61it/s]    \n"
     ]
    },
    {
     "name": "stdout",
     "output_type": "stream",
     "text": [
      "<function logistic_4_param at 0x7f86253c7840>\n"
     ]
    },
    {
     "name": "stderr",
     "output_type": "stream",
     "text": [
      "100%|██████████| 225384/225384 [33:00<00:00, 113.79it/s]   \n"
     ]
    },
    {
     "name": "stdout",
     "output_type": "stream",
     "text": [
      "<function ll4_4_param at 0x7f86253c7730>\n"
     ]
    },
    {
     "name": "stderr",
     "output_type": "stream",
     "text": [
      "100%|██████████| 225384/225384 [1:31:08<00:00, 41.22it/s]    \n"
     ]
    },
    {
     "name": "stdout",
     "output_type": "stream",
     "text": [
      "<function ll4R_4_param at 0x7f86253c77b8>\n"
     ]
    },
    {
     "name": "stderr",
     "output_type": "stream",
     "text": [
      "100%|██████████| 225384/225384 [38:13<00:00, 98.25it/s]   \n"
     ]
    },
    {
     "name": "stdout",
     "output_type": "stream",
     "text": [
      "<function logLogist_3_param at 0x7f86253c78c8>\n",
      "\n"
     ]
    },
    {
     "data": {
      "text/html": [
       "<div>\n",
       "<style scoped>\n",
       "    .dataframe tbody tr th:only-of-type {\n",
       "        vertical-align: middle;\n",
       "    }\n",
       "\n",
       "    .dataframe tbody tr th {\n",
       "        vertical-align: top;\n",
       "    }\n",
       "\n",
       "    .dataframe thead th {\n",
       "        text-align: right;\n",
       "    }\n",
       "</style>\n",
       "<table border=\"1\" class=\"dataframe\">\n",
       "  <thead>\n",
       "    <tr style=\"text-align: right;\">\n",
       "      <th></th>\n",
       "      <th>best_fitting_count</th>\n",
       "      <th>min</th>\n",
       "      <th>max</th>\n",
       "      <th>r2&gt;0</th>\n",
       "      <th>r2&gt;0.8</th>\n",
       "      <th>r2&gt;0.9</th>\n",
       "    </tr>\n",
       "  </thead>\n",
       "  <tbody>\n",
       "    <tr>\n",
       "      <th>fsigmoid</th>\n",
       "      <td>34024.0</td>\n",
       "      <td>-794.650193</td>\n",
       "      <td>0.999988</td>\n",
       "      <td>154078.0</td>\n",
       "      <td>78135.0</td>\n",
       "      <td>53108.0</td>\n",
       "    </tr>\n",
       "    <tr>\n",
       "      <th>sigmoid_2_param</th>\n",
       "      <td>372.0</td>\n",
       "      <td>-8.680730</td>\n",
       "      <td>0.999988</td>\n",
       "      <td>147301.0</td>\n",
       "      <td>78052.0</td>\n",
       "      <td>53016.0</td>\n",
       "    </tr>\n",
       "    <tr>\n",
       "      <th>sigmoid_3_param</th>\n",
       "      <td>10074.0</td>\n",
       "      <td>-4.204919</td>\n",
       "      <td>0.999998</td>\n",
       "      <td>189861.0</td>\n",
       "      <td>94438.0</td>\n",
       "      <td>70277.0</td>\n",
       "    </tr>\n",
       "    <tr>\n",
       "      <th>sigmoid_4_param</th>\n",
       "      <td>30058.0</td>\n",
       "      <td>-0.051301</td>\n",
       "      <td>0.999981</td>\n",
       "      <td>168543.0</td>\n",
       "      <td>81792.0</td>\n",
       "      <td>65700.0</td>\n",
       "    </tr>\n",
       "    <tr>\n",
       "      <th>logistic_4_param</th>\n",
       "      <td>31543.0</td>\n",
       "      <td>-0.030124</td>\n",
       "      <td>0.999999</td>\n",
       "      <td>182648.0</td>\n",
       "      <td>101579.0</td>\n",
       "      <td>78979.0</td>\n",
       "    </tr>\n",
       "    <tr>\n",
       "      <th>ll4_4_param</th>\n",
       "      <td>31552.0</td>\n",
       "      <td>-0.046189</td>\n",
       "      <td>1.000000</td>\n",
       "      <td>182050.0</td>\n",
       "      <td>101237.0</td>\n",
       "      <td>78843.0</td>\n",
       "    </tr>\n",
       "    <tr>\n",
       "      <th>ll4R_4_param</th>\n",
       "      <td>33135.0</td>\n",
       "      <td>-0.716794</td>\n",
       "      <td>0.999998</td>\n",
       "      <td>183161.0</td>\n",
       "      <td>100964.0</td>\n",
       "      <td>78654.0</td>\n",
       "    </tr>\n",
       "    <tr>\n",
       "      <th>logLogist_3_param</th>\n",
       "      <td>54626.0</td>\n",
       "      <td>-7.161534</td>\n",
       "      <td>1.000000</td>\n",
       "      <td>167680.0</td>\n",
       "      <td>94818.0</td>\n",
       "      <td>75034.0</td>\n",
       "    </tr>\n",
       "  </tbody>\n",
       "</table>\n",
       "</div>"
      ],
      "text/plain": [
       "                   best_fitting_count         min       max      r2>0  \\\n",
       "fsigmoid                      34024.0 -794.650193  0.999988  154078.0   \n",
       "sigmoid_2_param                 372.0   -8.680730  0.999988  147301.0   \n",
       "sigmoid_3_param               10074.0   -4.204919  0.999998  189861.0   \n",
       "sigmoid_4_param               30058.0   -0.051301  0.999981  168543.0   \n",
       "logistic_4_param              31543.0   -0.030124  0.999999  182648.0   \n",
       "ll4_4_param                   31552.0   -0.046189  1.000000  182050.0   \n",
       "ll4R_4_param                  33135.0   -0.716794  0.999998  183161.0   \n",
       "logLogist_3_param             54626.0   -7.161534  1.000000  167680.0   \n",
       "\n",
       "                     r2>0.8   r2>0.9  \n",
       "fsigmoid            78135.0  53108.0  \n",
       "sigmoid_2_param     78052.0  53016.0  \n",
       "sigmoid_3_param     94438.0  70277.0  \n",
       "sigmoid_4_param     81792.0  65700.0  \n",
       "logistic_4_param   101579.0  78979.0  \n",
       "ll4_4_param        101237.0  78843.0  \n",
       "ll4R_4_param       100964.0  78654.0  \n",
       "logLogist_3_param   94818.0  75034.0  "
      ]
     },
     "metadata": {},
     "output_type": "display_data"
    },
    {
     "name": "stdout",
     "output_type": "stream",
     "text": [
      "\n",
      "Examples of bad fitting with sigmoid_4_param (r2<0.61): 127328\n"
     ]
    },
    {
     "data": {
      "text/html": [
       "<div>\n",
       "<style scoped>\n",
       "    .dataframe tbody tr th:only-of-type {\n",
       "        vertical-align: middle;\n",
       "    }\n",
       "\n",
       "    .dataframe tbody tr th {\n",
       "        vertical-align: top;\n",
       "    }\n",
       "\n",
       "    .dataframe thead th {\n",
       "        text-align: right;\n",
       "    }\n",
       "</style>\n",
       "<table border=\"1\" class=\"dataframe\">\n",
       "  <thead>\n",
       "    <tr style=\"text-align: right;\">\n",
       "      <th></th>\n",
       "      <th>COSMIC_ID</th>\n",
       "      <th>DRUG_ID</th>\n",
       "      <th>fsigmoid_r2</th>\n",
       "      <th>sigmoid_2_param_r2</th>\n",
       "      <th>sigmoid_3_param_r2</th>\n",
       "      <th>sigmoid_4_param_r2</th>\n",
       "      <th>logistic_4_param_r2</th>\n",
       "      <th>ll4_4_param_r2</th>\n",
       "      <th>ll4R_4_param_r2</th>\n",
       "      <th>logLogist_3_param_r2</th>\n",
       "      <th>better_fitting</th>\n",
       "    </tr>\n",
       "  </thead>\n",
       "  <tbody>\n",
       "    <tr>\n",
       "      <th>0</th>\n",
       "      <td>1290922</td>\n",
       "      <td>332</td>\n",
       "      <td>-0.356727</td>\n",
       "      <td>-0.356736</td>\n",
       "      <td>0.019575</td>\n",
       "      <td>2.141371e-02</td>\n",
       "      <td>0.041759</td>\n",
       "      <td>0.041535</td>\n",
       "      <td>0.041783</td>\n",
       "      <td>0.203697</td>\n",
       "      <td>logLogist_3_param</td>\n",
       "    </tr>\n",
       "    <tr>\n",
       "      <th>1</th>\n",
       "      <td>1290922</td>\n",
       "      <td>257</td>\n",
       "      <td>0.816939</td>\n",
       "      <td>0.816947</td>\n",
       "      <td>0.878794</td>\n",
       "      <td>-4.012587e-08</td>\n",
       "      <td>0.878716</td>\n",
       "      <td>0.878772</td>\n",
       "      <td>0.878688</td>\n",
       "      <td>0.816946</td>\n",
       "      <td>sigmoid_3_param</td>\n",
       "    </tr>\n",
       "    <tr>\n",
       "      <th>4</th>\n",
       "      <td>1290922</td>\n",
       "      <td>192</td>\n",
       "      <td>-0.362288</td>\n",
       "      <td>-0.362288</td>\n",
       "      <td>0.215762</td>\n",
       "      <td>2.154624e-01</td>\n",
       "      <td>0.000000</td>\n",
       "      <td>0.501654</td>\n",
       "      <td>0.501660</td>\n",
       "      <td>0.496301</td>\n",
       "      <td>ll4R_4_param</td>\n",
       "    </tr>\n",
       "    <tr>\n",
       "      <th>7</th>\n",
       "      <td>1290922</td>\n",
       "      <td>306</td>\n",
       "      <td>0.717135</td>\n",
       "      <td>0.717145</td>\n",
       "      <td>0.774391</td>\n",
       "      <td>-4.530186e-09</td>\n",
       "      <td>0.774385</td>\n",
       "      <td>0.774389</td>\n",
       "      <td>0.774384</td>\n",
       "      <td>0.717137</td>\n",
       "      <td>sigmoid_3_param</td>\n",
       "    </tr>\n",
       "    <tr>\n",
       "      <th>9</th>\n",
       "      <td>1290922</td>\n",
       "      <td>277</td>\n",
       "      <td>0.542245</td>\n",
       "      <td>0.542245</td>\n",
       "      <td>0.147251</td>\n",
       "      <td>-4.932537e-07</td>\n",
       "      <td>0.668754</td>\n",
       "      <td>0.668780</td>\n",
       "      <td>0.668759</td>\n",
       "      <td>0.533027</td>\n",
       "      <td>ll4_4_param</td>\n",
       "    </tr>\n",
       "  </tbody>\n",
       "</table>\n",
       "</div>"
      ],
      "text/plain": [
       "   COSMIC_ID  DRUG_ID  fsigmoid_r2  sigmoid_2_param_r2  sigmoid_3_param_r2  \\\n",
       "0    1290922      332    -0.356727           -0.356736            0.019575   \n",
       "1    1290922      257     0.816939            0.816947            0.878794   \n",
       "4    1290922      192    -0.362288           -0.362288            0.215762   \n",
       "7    1290922      306     0.717135            0.717145            0.774391   \n",
       "9    1290922      277     0.542245            0.542245            0.147251   \n",
       "\n",
       "   sigmoid_4_param_r2  logistic_4_param_r2  ll4_4_param_r2  ll4R_4_param_r2  \\\n",
       "0        2.141371e-02             0.041759        0.041535         0.041783   \n",
       "1       -4.012587e-08             0.878716        0.878772         0.878688   \n",
       "4        2.154624e-01             0.000000        0.501654         0.501660   \n",
       "7       -4.530186e-09             0.774385        0.774389         0.774384   \n",
       "9       -4.932537e-07             0.668754        0.668780         0.668759   \n",
       "\n",
       "   logLogist_3_param_r2     better_fitting  \n",
       "0              0.203697  logLogist_3_param  \n",
       "1              0.816946    sigmoid_3_param  \n",
       "4              0.496301       ll4R_4_param  \n",
       "7              0.717137    sigmoid_3_param  \n",
       "9              0.533027        ll4_4_param  "
      ]
     },
     "metadata": {},
     "output_type": "display_data"
    },
    {
     "name": "stdout",
     "output_type": "stream",
     "text": [
      "CPU times: user 1h 57min, sys: 7min, total: 2h 4min\n",
      "Wall time: 7h 28min 42s\n"
     ]
    }
   ],
   "source": [
    "%%time\n",
    "compare_fitting_functions(drug_curves, functions, conc_columns, response_norm)"
   ]
  },
  {
   "cell_type": "markdown",
   "metadata": {},
   "source": [
    "### df_123_04 was used in the MSc project"
   ]
  },
  {
   "cell_type": "code",
   "execution_count": 12,
   "metadata": {},
   "outputs": [],
   "source": [
    "df = df_123_04.copy()"
   ]
  },
  {
   "cell_type": "code",
   "execution_count": null,
   "metadata": {},
   "outputs": [],
   "source": []
  }
 ],
 "metadata": {
  "kernelspec": {
   "display_name": "Python 3",
   "language": "python",
   "name": "python3"
  },
  "language_info": {
   "codemirror_mode": {
    "name": "ipython",
    "version": 3
   },
   "file_extension": ".py",
   "mimetype": "text/x-python",
   "name": "python",
   "nbconvert_exporter": "python",
   "pygments_lexer": "ipython3",
   "version": "3.6.10"
  }
 },
 "nbformat": 4,
 "nbformat_minor": 2
}
