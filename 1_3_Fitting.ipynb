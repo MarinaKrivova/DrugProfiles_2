{
 "cells": [
  {
   "cell_type": "markdown",
   "metadata": {},
   "source": [
    "## Fitting drug response curves with sigmoid function"
   ]
  },
  {
   "cell_type": "code",
   "execution_count": 1,
   "metadata": {},
   "outputs": [],
   "source": [
    "import pandas as pd\n",
    "import numpy as np\n",
    "from tqdm import tqdm\n",
    "import warnings\n",
    "warnings.filterwarnings(\"ignore\")\n",
    "import os, sys\n",
    "sys.path.insert(1, os.path.relpath(\"functions\"))\n",
    "from fitting import *\n",
    "from plotting import *\n",
    "R2_limit = 0.99\n",
    "\n",
    "_FOLDER = \"results/\"\n",
    "_FOLDER_2 = \"data/\""
   ]
  },
  {
   "cell_type": "markdown",
   "metadata": {},
   "source": [
    "## Fitting data"
   ]
  },
  {
   "cell_type": "code",
   "execution_count": 2,
   "metadata": {},
   "outputs": [
    {
     "data": {
      "text/plain": [
       "((14084, 31), (2108, 30), (225384, 44))"
      ]
     },
     "execution_count": 2,
     "metadata": {},
     "output_type": "execute_result"
    }
   ],
   "source": [
    "df_auc = pd.read_csv(_FOLDER+\"filt_auc_02.csv\")\n",
    "df_1234 = pd.read_csv(_FOLDER+\"filt_1234_02.csv\")\n",
    "drug_curves = pd.read_csv(_FOLDER_2+\"normalised_dose_response_data.csv\")\n",
    "conc_columns= [\"fd_num_\"+str(i) for i in range(10)]\n",
    "response_norm = ['norm_cells_'+str(i) for i in range(10)]\n",
    "\n",
    "df_auc.shape, df_1234.shape, drug_curves.shape"
   ]
  },
  {
   "cell_type": "code",
   "execution_count": 3,
   "metadata": {},
   "outputs": [],
   "source": [
    "functions = [\n",
    "    \"fsigmoid\", \n",
    "    \"sigmoid_2_param\",\n",
    "    \"sigmoid_3_param\",\n",
    "    \"sigmoid_4_param\",\n",
    "    \"logistic_4_param\",\n",
    "    \"ll4_4_param\",\n",
    "    \"ll4R_4_param\",\n",
    "    \"logLogist_3_param\"\n",
    "]"
   ]
  },
  {
   "cell_type": "code",
   "execution_count": 4,
   "metadata": {},
   "outputs": [],
   "source": [
    "def compare_fitting(df_raw, fitting_functions_list):\n",
    "    df_results = pd.DataFrame(columns= [\"R2>0.9\", \"R2>0.95\", \"R2>0.99\"])\n",
    "    for fitting_function in fitting_functions_list:\n",
    "        df = df_raw.copy()\n",
    "        print(\"\\n\", fitting_function)\n",
    "        r2, fit_param = fitting_column(df, df.index, x_columns=conc_columns, y_columns= response_norm,\n",
    "                               fitting_function = fitting_function, default_param=True)\n",
    "        df[fitting_function+\"_r2\"] = r2\n",
    "        df[fitting_function] = fit_param\n",
    "#         df= df[df[fitting_function+\"_r2\"]>0]\n",
    "        print(\"R2>0:\", df.shape)\n",
    "        print(\"R2>\", R2_limit, df[df[fitting_function+\"_r2\"]>R2_limit].shape[0])\n",
    "        df_results.loc[fitting_function, \"R2>0.9\"] = df[df[fitting_function+\"_r2\"]>0.9].shape[0]\n",
    "        df_results.loc[fitting_function, \"R2>0.95\"] = df[df[fitting_function+\"_r2\"]>0.95].shape[0]\n",
    "        df_results.loc[fitting_function, \"R2>0.99\"] = df[df[fitting_function+\"_r2\"]>0.99].shape[0]\n",
    "        print(\"Number of samples with fitting <0.1:\", df[df[fitting_function+\"_r2\"]<0.1].shape[0])\n",
    "        print(\"\")\n",
    "    return df, df_results"
   ]
  },
  {
   "cell_type": "code",
   "execution_count": 5,
   "metadata": {},
   "outputs": [
    {
     "name": "stderr",
     "output_type": "stream",
     "text": [
      "  0%|          | 21/14084 [00:00<01:07, 208.56it/s]"
     ]
    },
    {
     "name": "stdout",
     "output_type": "stream",
     "text": [
      "\n",
      " fsigmoid\n"
     ]
    },
    {
     "name": "stderr",
     "output_type": "stream",
     "text": [
      "100%|██████████| 14084/14084 [00:48<00:00, 287.83it/s]\n",
      "  0%|          | 0/14084 [00:00<?, ?it/s]"
     ]
    },
    {
     "name": "stdout",
     "output_type": "stream",
     "text": [
      "<function fsigmoid at 0x7f86482d6c80>\n",
      "R2>0: (14067, 33)\n",
      "R2> 0.99 1423\n",
      "Number of samples with fitting <0.1: 4\n",
      "\n",
      "\n",
      " sigmoid_2_param\n"
     ]
    },
    {
     "name": "stderr",
     "output_type": "stream",
     "text": [
      "100%|██████████| 14084/14084 [01:22<00:00, 171.12it/s]\n",
      "  0%|          | 24/14084 [00:00<00:59, 236.99it/s]"
     ]
    },
    {
     "name": "stdout",
     "output_type": "stream",
     "text": [
      "<function sigmoid_2_param at 0x7f86482d69d8>\n",
      "R2>0: (14073, 33)\n",
      "R2> 0.99 1388\n",
      "Number of samples with fitting <0.1: 7\n",
      "\n",
      "\n",
      " sigmoid_3_param\n"
     ]
    },
    {
     "name": "stderr",
     "output_type": "stream",
     "text": [
      "100%|██████████| 14084/14084 [01:13<00:00, 190.34it/s]\n",
      "  0%|          | 0/14084 [00:00<?, ?it/s]"
     ]
    },
    {
     "name": "stdout",
     "output_type": "stream",
     "text": [
      "<function sigmoid_3_param at 0x7f86482d6d08>\n",
      "R2>0: (14055, 33)\n",
      "R2> 0.99 2510\n",
      "Number of samples with fitting <0.1: 9\n",
      "\n",
      "\n",
      " sigmoid_4_param\n"
     ]
    },
    {
     "name": "stderr",
     "output_type": "stream",
     "text": [
      "100%|██████████| 14084/14084 [02:37<00:00, 89.17it/s] \n",
      "  0%|          | 18/14084 [00:00<01:18, 180.00it/s]"
     ]
    },
    {
     "name": "stdout",
     "output_type": "stream",
     "text": [
      "<function sigmoid_4_param at 0x7f86482d6d90>\n",
      "R2>0: (13158, 33)\n",
      "R2> 0.99 3620\n",
      "Number of samples with fitting <0.1: 616\n",
      "\n",
      "\n",
      " logistic_4_param\n"
     ]
    },
    {
     "name": "stderr",
     "output_type": "stream",
     "text": [
      "100%|██████████| 14084/14084 [01:21<00:00, 172.64it/s]\n",
      "  0%|          | 9/14084 [00:00<02:39, 88.38it/s]"
     ]
    },
    {
     "name": "stdout",
     "output_type": "stream",
     "text": [
      "<function logistic_4_param at 0x7f86482d6f28>\n",
      "R2>0: (14078, 33)\n",
      "R2> 0.99 3635\n",
      "Number of samples with fitting <0.1: 10\n",
      "\n",
      "\n",
      " ll4_4_param\n"
     ]
    },
    {
     "name": "stderr",
     "output_type": "stream",
     "text": [
      "100%|██████████| 14084/14084 [01:34<00:00, 148.60it/s]\n",
      "  0%|          | 10/14084 [00:00<02:48, 83.74it/s]"
     ]
    },
    {
     "name": "stdout",
     "output_type": "stream",
     "text": [
      "<function ll4_4_param at 0x7f86482d6e18>\n",
      "R2>0: (14076, 33)\n",
      "R2> 0.99 3636\n",
      "Number of samples with fitting <0.1: 11\n",
      "\n",
      "\n",
      " ll4R_4_param\n"
     ]
    },
    {
     "name": "stderr",
     "output_type": "stream",
     "text": [
      "100%|██████████| 14084/14084 [01:17<00:00, 181.57it/s]\n",
      "  0%|          | 16/14084 [00:00<01:28, 158.76it/s]"
     ]
    },
    {
     "name": "stdout",
     "output_type": "stream",
     "text": [
      "<function ll4R_4_param at 0x7f86482d6ea0>\n",
      "R2>0: (14081, 33)\n",
      "R2> 0.99 3622\n",
      "Number of samples with fitting <0.1: 12\n",
      "\n",
      "\n",
      " logLogist_3_param\n"
     ]
    },
    {
     "name": "stderr",
     "output_type": "stream",
     "text": [
      "100%|██████████| 14084/14084 [01:35<00:00, 147.32it/s]"
     ]
    },
    {
     "name": "stdout",
     "output_type": "stream",
     "text": [
      "<function logLogist_3_param at 0x7f86482e0048>\n",
      "R2>0: (14072, 33)\n",
      "R2> 0.99 3027\n",
      "Number of samples with fitting <0.1: 0\n",
      "\n",
      "CPU times: user 8min 54s, sys: 31.2 s, total: 9min 26s\n",
      "Wall time: 11min 53s\n"
     ]
    },
    {
     "name": "stderr",
     "output_type": "stream",
     "text": [
      "\n"
     ]
    }
   ],
   "source": [
    "%%time\n",
    "df, df_results = compare_fitting(df_auc, functions)\n",
    "df_results.to_csv(_FOLDER+\"fit_auc_02_compare.csv\", index=False)\n",
    "df.to_csv(_FOLDER+\"filt_auc_02_fit.csv\", index=False)"
   ]
  },
  {
   "cell_type": "code",
   "execution_count": 6,
   "metadata": {},
   "outputs": [
    {
     "name": "stderr",
     "output_type": "stream",
     "text": [
      "\r",
      "  0%|          | 0/2108 [00:00<?, ?it/s]"
     ]
    },
    {
     "name": "stdout",
     "output_type": "stream",
     "text": [
      "\n",
      " fsigmoid\n"
     ]
    },
    {
     "name": "stderr",
     "output_type": "stream",
     "text": [
      "100%|██████████| 2108/2108 [00:03<00:00, 574.79it/s]\n",
      "  3%|▎         | 59/2108 [00:00<00:03, 587.30it/s]"
     ]
    },
    {
     "name": "stdout",
     "output_type": "stream",
     "text": [
      "<function fsigmoid at 0x7fc8e9ad59d8>\n",
      "R2>0: (2108, 32)\n",
      "R2> 0.99 921\n",
      "Number of samples with fitting <0.1: 0\n",
      "\n",
      "\n",
      " sigmoid_2_param\n"
     ]
    },
    {
     "name": "stderr",
     "output_type": "stream",
     "text": [
      "100%|██████████| 2108/2108 [00:03<00:00, 542.88it/s]\n",
      "  2%|▏         | 42/2108 [00:00<00:04, 417.69it/s]"
     ]
    },
    {
     "name": "stdout",
     "output_type": "stream",
     "text": [
      "<function sigmoid_2_param at 0x7fc8e9ad5730>\n",
      "R2>0: (2108, 32)\n",
      "R2> 0.99 921\n",
      "Number of samples with fitting <0.1: 0\n",
      "\n",
      "\n",
      " sigmoid_3_param\n"
     ]
    },
    {
     "name": "stderr",
     "output_type": "stream",
     "text": [
      "100%|██████████| 2108/2108 [00:05<00:00, 398.65it/s]\n",
      "  1%|▏         | 29/2108 [00:00<00:07, 284.70it/s]"
     ]
    },
    {
     "name": "stdout",
     "output_type": "stream",
     "text": [
      "<function sigmoid_3_param at 0x7fc8e9ad5a60>\n",
      "R2>0: (2108, 32)\n",
      "R2> 0.99 1220\n",
      "Number of samples with fitting <0.1: 0\n",
      "\n",
      "\n",
      " sigmoid_4_param\n"
     ]
    },
    {
     "name": "stderr",
     "output_type": "stream",
     "text": [
      "100%|██████████| 2108/2108 [00:06<00:00, 335.71it/s]\n",
      "  1%|▏         | 31/2108 [00:00<00:06, 305.84it/s]"
     ]
    },
    {
     "name": "stdout",
     "output_type": "stream",
     "text": [
      "<function sigmoid_4_param at 0x7fc8e9ad5ae8>\n",
      "R2>0: (2090, 32)\n",
      "R2> 0.99 1531\n",
      "Number of samples with fitting <0.1: 17\n",
      "\n",
      "\n",
      " logistic_4_param\n"
     ]
    },
    {
     "name": "stderr",
     "output_type": "stream",
     "text": [
      "100%|██████████| 2108/2108 [00:06<00:00, 333.81it/s]\n",
      "  1%|▏         | 28/2108 [00:00<00:07, 273.74it/s]"
     ]
    },
    {
     "name": "stdout",
     "output_type": "stream",
     "text": [
      "<function logistic_4_param at 0x7fc8e9ad5c80>\n",
      "R2>0: (2108, 32)\n",
      "R2> 0.99 1473\n",
      "Number of samples with fitting <0.1: 0\n",
      "\n",
      "\n",
      " ll4_4_param\n"
     ]
    },
    {
     "name": "stderr",
     "output_type": "stream",
     "text": [
      "100%|██████████| 2108/2108 [00:07<00:00, 269.47it/s]\n",
      "  1%|▏         | 27/2108 [00:00<00:07, 266.27it/s]"
     ]
    },
    {
     "name": "stdout",
     "output_type": "stream",
     "text": [
      "<function ll4_4_param at 0x7fc8e9ad5b70>\n",
      "R2>0: (2108, 32)\n",
      "R2> 0.99 1472\n",
      "Number of samples with fitting <0.1: 0\n",
      "\n",
      "\n",
      " ll4R_4_param\n"
     ]
    },
    {
     "name": "stderr",
     "output_type": "stream",
     "text": [
      "100%|██████████| 2108/2108 [00:07<00:00, 287.35it/s]\n",
      "  1%|▏         | 31/2108 [00:00<00:06, 309.32it/s]"
     ]
    },
    {
     "name": "stdout",
     "output_type": "stream",
     "text": [
      "<function ll4R_4_param at 0x7fc8e9ad5bf8>\n",
      "R2>0: (2108, 32)\n",
      "R2> 0.99 1469\n",
      "Number of samples with fitting <0.1: 2\n",
      "\n",
      "\n",
      " logLogist_3_param\n"
     ]
    },
    {
     "name": "stderr",
     "output_type": "stream",
     "text": [
      "100%|██████████| 2108/2108 [00:07<00:00, 284.29it/s]"
     ]
    },
    {
     "name": "stdout",
     "output_type": "stream",
     "text": [
      "<function logLogist_3_param at 0x7fc8e9ad5d08>\n",
      "R2>0: (2108, 32)\n",
      "R2> 0.99 1465\n",
      "Number of samples with fitting <0.1: 0\n",
      "\n",
      "CPU times: user 45.5 s, sys: 2.07 s, total: 47.6 s\n",
      "Wall time: 48.3 s\n"
     ]
    },
    {
     "name": "stderr",
     "output_type": "stream",
     "text": [
      "\n"
     ]
    }
   ],
   "source": [
    "%%time\n",
    "df, df_results_2 = compare_fitting(df_1234, functions)\n",
    "df_results_2.to_csv(_FOLDER+\"fit_1234_compare.csv\", index=False)\n",
    "df.to_csv(_FOLDER+\"filt_1234_fit.csv\", index=False)"
   ]
  },
  {
   "cell_type": "code",
   "execution_count": 7,
   "metadata": {},
   "outputs": [
    {
     "name": "stderr",
     "output_type": "stream",
     "text": [
      "\r",
      "  0%|          | 0/225384 [00:00<?, ?it/s]"
     ]
    },
    {
     "name": "stdout",
     "output_type": "stream",
     "text": [
      "\n",
      " fsigmoid\n"
     ]
    },
    {
     "name": "stderr",
     "output_type": "stream",
     "text": [
      "100%|██████████| 225384/225384 [07:26<00:00, 505.23it/s] \n"
     ]
    },
    {
     "name": "stdout",
     "output_type": "stream",
     "text": [
      "<function fsigmoid at 0x7fc8e9ad59d8>\n",
      "R2>0: (154078, 46)\n",
      "R2> 0.99 6639\n",
      "Number of samples with fitting <0.1: 14455\n",
      "\n"
     ]
    },
    {
     "name": "stderr",
     "output_type": "stream",
     "text": [
      "\r",
      "  0%|          | 0/225384 [00:00<?, ?it/s]"
     ]
    },
    {
     "name": "stdout",
     "output_type": "stream",
     "text": [
      "\n",
      " sigmoid_2_param\n"
     ]
    },
    {
     "name": "stderr",
     "output_type": "stream",
     "text": [
      "100%|██████████| 225384/225384 [07:11<00:00, 521.93it/s] \n"
     ]
    },
    {
     "name": "stdout",
     "output_type": "stream",
     "text": [
      "<function sigmoid_2_param at 0x7fc8e9ad5730>\n",
      "R2>0: (147301, 46)\n",
      "R2> 0.99 6586\n",
      "Number of samples with fitting <0.1: 10227\n",
      "\n"
     ]
    },
    {
     "name": "stderr",
     "output_type": "stream",
     "text": [
      "\r",
      "  0%|          | 0/225384 [00:00<?, ?it/s]"
     ]
    },
    {
     "name": "stdout",
     "output_type": "stream",
     "text": [
      "\n",
      " sigmoid_3_param\n"
     ]
    },
    {
     "name": "stderr",
     "output_type": "stream",
     "text": [
      "100%|██████████| 225384/225384 [13:48<00:00, 271.89it/s] \n"
     ]
    },
    {
     "name": "stdout",
     "output_type": "stream",
     "text": [
      "<function sigmoid_3_param at 0x7fc8e9ad5a60>\n",
      "R2>0: (189861, 46)\n",
      "R2> 0.99 11404\n",
      "Number of samples with fitting <0.1: 26775\n",
      "\n"
     ]
    },
    {
     "name": "stderr",
     "output_type": "stream",
     "text": [
      "\r",
      "  0%|          | 0/225384 [00:00<?, ?it/s]"
     ]
    },
    {
     "name": "stdout",
     "output_type": "stream",
     "text": [
      "\n",
      " sigmoid_4_param\n"
     ]
    },
    {
     "name": "stderr",
     "output_type": "stream",
     "text": [
      "100%|██████████| 225384/225384 [21:03<00:00, 178.44it/s] \n"
     ]
    },
    {
     "name": "stdout",
     "output_type": "stream",
     "text": [
      "<function sigmoid_4_param at 0x7fc8e9ad5ae8>\n",
      "R2>0: (168543, 46)\n",
      "R2> 0.99 16322\n",
      "Number of samples with fitting <0.1: 35444\n",
      "\n"
     ]
    },
    {
     "name": "stderr",
     "output_type": "stream",
     "text": [
      "\r",
      "  0%|          | 0/225384 [00:00<?, ?it/s]"
     ]
    },
    {
     "name": "stdout",
     "output_type": "stream",
     "text": [
      "\n",
      " logistic_4_param\n"
     ]
    },
    {
     "name": "stderr",
     "output_type": "stream",
     "text": [
      "100%|██████████| 225384/225384 [25:15<00:00, 148.67it/s] \n"
     ]
    },
    {
     "name": "stdout",
     "output_type": "stream",
     "text": [
      "<function logistic_4_param at 0x7fc8e9ad5c80>\n",
      "R2>0: (182648, 46)\n",
      "R2> 0.99 18227\n",
      "Number of samples with fitting <0.1: 11737\n",
      "\n"
     ]
    },
    {
     "name": "stderr",
     "output_type": "stream",
     "text": [
      "\r",
      "  0%|          | 0/225384 [00:00<?, ?it/s]"
     ]
    },
    {
     "name": "stdout",
     "output_type": "stream",
     "text": [
      "\n",
      " ll4_4_param\n"
     ]
    },
    {
     "name": "stderr",
     "output_type": "stream",
     "text": [
      "100%|██████████| 225384/225384 [31:53<00:00, 117.81it/s] \n"
     ]
    },
    {
     "name": "stdout",
     "output_type": "stream",
     "text": [
      "<function ll4_4_param at 0x7fc8e9ad5b70>\n",
      "R2>0: (182050, 46)\n",
      "R2> 0.99 18250\n",
      "Number of samples with fitting <0.1: 13623\n",
      "\n"
     ]
    },
    {
     "name": "stderr",
     "output_type": "stream",
     "text": [
      "\r",
      "  0%|          | 0/225384 [00:00<?, ?it/s]"
     ]
    },
    {
     "name": "stdout",
     "output_type": "stream",
     "text": [
      "\n",
      " ll4R_4_param\n"
     ]
    },
    {
     "name": "stderr",
     "output_type": "stream",
     "text": [
      "100%|██████████| 225384/225384 [5:30:56<00:00, 11.35it/s]      \n"
     ]
    },
    {
     "name": "stdout",
     "output_type": "stream",
     "text": [
      "<function ll4R_4_param at 0x7fc8e9ad5bf8>\n",
      "R2>0: (183161, 46)\n",
      "R2> 0.99 18190\n",
      "Number of samples with fitting <0.1: 14135\n",
      "\n"
     ]
    },
    {
     "name": "stderr",
     "output_type": "stream",
     "text": [
      "\r",
      "  0%|          | 0/225384 [00:00<?, ?it/s]"
     ]
    },
    {
     "name": "stdout",
     "output_type": "stream",
     "text": [
      "\n",
      " logLogist_3_param\n"
     ]
    },
    {
     "name": "stderr",
     "output_type": "stream",
     "text": [
      "100%|██████████| 225384/225384 [4:10:29<00:00, 15.00it/s]        \n"
     ]
    },
    {
     "name": "stdout",
     "output_type": "stream",
     "text": [
      "<function logLogist_3_param at 0x7fc8e9ad5d08>\n",
      "R2>0: (167680, 46)\n",
      "R2> 0.99 16457\n",
      "Number of samples with fitting <0.1: 15654\n",
      "\n",
      "CPU times: user 2h 32min 12s, sys: 10min 25s, total: 2h 42min 38s\n",
      "Wall time: 11h 28min 19s\n"
     ]
    }
   ],
   "source": [
    "%%time\n",
    "df, df_results_3 = compare_fitting(drug_curves, functions)\n",
    "df_results_3.to_csv(_FOLDER+\"fit_no_filt_compare.csv\", index=False)\n",
    "df.to_csv(_FOLDER+\"filt_fit.csv\", index=False)"
   ]
  },
  {
   "cell_type": "code",
   "execution_count": null,
   "metadata": {},
   "outputs": [],
   "source": [
    "df_results"
   ]
  },
  {
   "cell_type": "code",
   "execution_count": 6,
   "metadata": {},
   "outputs": [
    {
     "data": {
      "text/html": [
       "<div>\n",
       "<style scoped>\n",
       "    .dataframe tbody tr th:only-of-type {\n",
       "        vertical-align: middle;\n",
       "    }\n",
       "\n",
       "    .dataframe tbody tr th {\n",
       "        vertical-align: top;\n",
       "    }\n",
       "\n",
       "    .dataframe thead th {\n",
       "        text-align: right;\n",
       "    }\n",
       "</style>\n",
       "<table border=\"1\" class=\"dataframe\">\n",
       "  <thead>\n",
       "    <tr style=\"text-align: right;\">\n",
       "      <th></th>\n",
       "      <th>R2&gt;0.9</th>\n",
       "      <th>R2&gt;0.95</th>\n",
       "      <th>R2&gt;0.99</th>\n",
       "    </tr>\n",
       "  </thead>\n",
       "  <tbody>\n",
       "    <tr>\n",
       "      <th>sigmoid_2_param</th>\n",
       "      <td>10353</td>\n",
       "      <td>7215</td>\n",
       "      <td>1388</td>\n",
       "    </tr>\n",
       "    <tr>\n",
       "      <th>fsigmoid</th>\n",
       "      <td>10396</td>\n",
       "      <td>7280</td>\n",
       "      <td>1423</td>\n",
       "    </tr>\n",
       "    <tr>\n",
       "      <th>sigmoid_3_param</th>\n",
       "      <td>11991</td>\n",
       "      <td>9378</td>\n",
       "      <td>2510</td>\n",
       "    </tr>\n",
       "    <tr>\n",
       "      <th>logLogist_3_param</th>\n",
       "      <td>12039</td>\n",
       "      <td>9724</td>\n",
       "      <td>3027</td>\n",
       "    </tr>\n",
       "    <tr>\n",
       "      <th>sigmoid_4_param</th>\n",
       "      <td>11204</td>\n",
       "      <td>9549</td>\n",
       "      <td>3620</td>\n",
       "    </tr>\n",
       "    <tr>\n",
       "      <th>ll4R_4_param</th>\n",
       "      <td>12421</td>\n",
       "      <td>10275</td>\n",
       "      <td>3622</td>\n",
       "    </tr>\n",
       "    <tr>\n",
       "      <th>logistic_4_param</th>\n",
       "      <td>12428</td>\n",
       "      <td>10286</td>\n",
       "      <td>3635</td>\n",
       "    </tr>\n",
       "    <tr>\n",
       "      <th>ll4_4_param</th>\n",
       "      <td>12428</td>\n",
       "      <td>10287</td>\n",
       "      <td>3636</td>\n",
       "    </tr>\n",
       "  </tbody>\n",
       "</table>\n",
       "</div>"
      ],
      "text/plain": [
       "                  R2>0.9 R2>0.95 R2>0.99\n",
       "sigmoid_2_param    10353    7215    1388\n",
       "fsigmoid           10396    7280    1423\n",
       "sigmoid_3_param    11991    9378    2510\n",
       "logLogist_3_param  12039    9724    3027\n",
       "sigmoid_4_param    11204    9549    3620\n",
       "ll4R_4_param       12421   10275    3622\n",
       "logistic_4_param   12428   10286    3635\n",
       "ll4_4_param        12428   10287    3636"
      ]
     },
     "execution_count": 6,
     "metadata": {},
     "output_type": "execute_result"
    }
   ],
   "source": [
    "df_results.sort_values(\"R2>0.99\")"
   ]
  },
  {
   "cell_type": "code",
   "execution_count": null,
   "metadata": {},
   "outputs": [],
   "source": [
    "df_results_2"
   ]
  },
  {
   "cell_type": "code",
   "execution_count": 9,
   "metadata": {},
   "outputs": [
    {
     "data": {
      "text/html": [
       "<div>\n",
       "<style scoped>\n",
       "    .dataframe tbody tr th:only-of-type {\n",
       "        vertical-align: middle;\n",
       "    }\n",
       "\n",
       "    .dataframe tbody tr th {\n",
       "        vertical-align: top;\n",
       "    }\n",
       "\n",
       "    .dataframe thead th {\n",
       "        text-align: right;\n",
       "    }\n",
       "</style>\n",
       "<table border=\"1\" class=\"dataframe\">\n",
       "  <thead>\n",
       "    <tr style=\"text-align: right;\">\n",
       "      <th></th>\n",
       "      <th>R2&gt;0.9</th>\n",
       "      <th>R2&gt;0.95</th>\n",
       "      <th>R2&gt;0.99</th>\n",
       "    </tr>\n",
       "  </thead>\n",
       "  <tbody>\n",
       "    <tr>\n",
       "      <th>fsigmoid</th>\n",
       "      <td>2058</td>\n",
       "      <td>1874</td>\n",
       "      <td>921</td>\n",
       "    </tr>\n",
       "    <tr>\n",
       "      <th>sigmoid_2_param</th>\n",
       "      <td>2058</td>\n",
       "      <td>1874</td>\n",
       "      <td>921</td>\n",
       "    </tr>\n",
       "    <tr>\n",
       "      <th>sigmoid_3_param</th>\n",
       "      <td>2098</td>\n",
       "      <td>2031</td>\n",
       "      <td>1220</td>\n",
       "    </tr>\n",
       "    <tr>\n",
       "      <th>logLogist_3_param</th>\n",
       "      <td>2100</td>\n",
       "      <td>2051</td>\n",
       "      <td>1465</td>\n",
       "    </tr>\n",
       "    <tr>\n",
       "      <th>ll4R_4_param</th>\n",
       "      <td>2099</td>\n",
       "      <td>2057</td>\n",
       "      <td>1469</td>\n",
       "    </tr>\n",
       "    <tr>\n",
       "      <th>ll4_4_param</th>\n",
       "      <td>2103</td>\n",
       "      <td>2063</td>\n",
       "      <td>1472</td>\n",
       "    </tr>\n",
       "    <tr>\n",
       "      <th>logistic_4_param</th>\n",
       "      <td>2103</td>\n",
       "      <td>2063</td>\n",
       "      <td>1473</td>\n",
       "    </tr>\n",
       "    <tr>\n",
       "      <th>sigmoid_4_param</th>\n",
       "      <td>2070</td>\n",
       "      <td>2030</td>\n",
       "      <td>1531</td>\n",
       "    </tr>\n",
       "  </tbody>\n",
       "</table>\n",
       "</div>"
      ],
      "text/plain": [
       "                  R2>0.9 R2>0.95 R2>0.99\n",
       "fsigmoid            2058    1874     921\n",
       "sigmoid_2_param     2058    1874     921\n",
       "sigmoid_3_param     2098    2031    1220\n",
       "logLogist_3_param   2100    2051    1465\n",
       "ll4R_4_param        2099    2057    1469\n",
       "ll4_4_param         2103    2063    1472\n",
       "logistic_4_param    2103    2063    1473\n",
       "sigmoid_4_param     2070    2030    1531"
      ]
     },
     "execution_count": 9,
     "metadata": {},
     "output_type": "execute_result"
    }
   ],
   "source": [
    "df_results_2.sort_values(\"R2>0.99\")"
   ]
  },
  {
   "cell_type": "code",
   "execution_count": null,
   "metadata": {},
   "outputs": [],
   "source": [
    "df_results_3"
   ]
  },
  {
   "cell_type": "code",
   "execution_count": 10,
   "metadata": {},
   "outputs": [
    {
     "data": {
      "text/html": [
       "<div>\n",
       "<style scoped>\n",
       "    .dataframe tbody tr th:only-of-type {\n",
       "        vertical-align: middle;\n",
       "    }\n",
       "\n",
       "    .dataframe tbody tr th {\n",
       "        vertical-align: top;\n",
       "    }\n",
       "\n",
       "    .dataframe thead th {\n",
       "        text-align: right;\n",
       "    }\n",
       "</style>\n",
       "<table border=\"1\" class=\"dataframe\">\n",
       "  <thead>\n",
       "    <tr style=\"text-align: right;\">\n",
       "      <th></th>\n",
       "      <th>R2&gt;0.9</th>\n",
       "      <th>R2&gt;0.95</th>\n",
       "      <th>R2&gt;0.99</th>\n",
       "    </tr>\n",
       "  </thead>\n",
       "  <tbody>\n",
       "    <tr>\n",
       "      <th>sigmoid_2_param</th>\n",
       "      <td>53016</td>\n",
       "      <td>32148</td>\n",
       "      <td>6586</td>\n",
       "    </tr>\n",
       "    <tr>\n",
       "      <th>fsigmoid</th>\n",
       "      <td>53108</td>\n",
       "      <td>32254</td>\n",
       "      <td>6639</td>\n",
       "    </tr>\n",
       "    <tr>\n",
       "      <th>sigmoid_3_param</th>\n",
       "      <td>70277</td>\n",
       "      <td>46814</td>\n",
       "      <td>11404</td>\n",
       "    </tr>\n",
       "    <tr>\n",
       "      <th>sigmoid_4_param</th>\n",
       "      <td>65700</td>\n",
       "      <td>49231</td>\n",
       "      <td>16322</td>\n",
       "    </tr>\n",
       "    <tr>\n",
       "      <th>logLogist_3_param</th>\n",
       "      <td>75034</td>\n",
       "      <td>54864</td>\n",
       "      <td>16457</td>\n",
       "    </tr>\n",
       "    <tr>\n",
       "      <th>ll4R_4_param</th>\n",
       "      <td>78654</td>\n",
       "      <td>57503</td>\n",
       "      <td>18190</td>\n",
       "    </tr>\n",
       "    <tr>\n",
       "      <th>logistic_4_param</th>\n",
       "      <td>78979</td>\n",
       "      <td>57688</td>\n",
       "      <td>18227</td>\n",
       "    </tr>\n",
       "    <tr>\n",
       "      <th>ll4_4_param</th>\n",
       "      <td>78843</td>\n",
       "      <td>57668</td>\n",
       "      <td>18250</td>\n",
       "    </tr>\n",
       "  </tbody>\n",
       "</table>\n",
       "</div>"
      ],
      "text/plain": [
       "                  R2>0.9 R2>0.95 R2>0.99\n",
       "sigmoid_2_param    53016   32148    6586\n",
       "fsigmoid           53108   32254    6639\n",
       "sigmoid_3_param    70277   46814   11404\n",
       "sigmoid_4_param    65700   49231   16322\n",
       "logLogist_3_param  75034   54864   16457\n",
       "ll4R_4_param       78654   57503   18190\n",
       "logistic_4_param   78979   57688   18227\n",
       "ll4_4_param        78843   57668   18250"
      ]
     },
     "execution_count": 10,
     "metadata": {},
     "output_type": "execute_result"
    }
   ],
   "source": [
    "df_results_3.sort_values(\"R2>0.99\")"
   ]
  },
  {
   "cell_type": "code",
   "execution_count": null,
   "metadata": {},
   "outputs": [],
   "source": []
  }
 ],
 "metadata": {
  "kernelspec": {
   "display_name": "Python 3",
   "language": "python",
   "name": "python3"
  },
  "language_info": {
   "codemirror_mode": {
    "name": "ipython",
    "version": 3
   },
   "file_extension": ".py",
   "mimetype": "text/x-python",
   "name": "python",
   "nbconvert_exporter": "python",
   "pygments_lexer": "ipython3",
   "version": "3.6.10"
  }
 },
 "nbformat": 4,
 "nbformat_minor": 2
}
