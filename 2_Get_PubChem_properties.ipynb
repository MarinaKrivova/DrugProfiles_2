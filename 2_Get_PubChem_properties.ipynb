{
 "cells": [
  {
   "cell_type": "markdown",
   "metadata": {},
   "source": [
    "## Get Pubchem drug feautures"
   ]
  },
  {
   "cell_type": "markdown",
   "metadata": {},
   "source": [
    "1. finding corresponding Pubchem ids for the drugs \n",
    "2. call Pubchem to get chemical properties of the drugs\n",
    "3. Preprocess text Drug description from the original datasets\n",
    "4. Preprocess some text characteristics from PubChem properties"
   ]
  },
  {
   "cell_type": "code",
   "execution_count": 1,
   "metadata": {},
   "outputs": [],
   "source": [
    "import pandas as pd\n",
    "import numpy as np\n",
    "import os\n",
    "# pip install PubChemPy\n",
    "import pubchempy as pcp\n",
    "import re\n",
    "from pubchempy import Compound\n",
    "import warnings\n",
    "warnings.filterwarnings(\"ignore\")\n",
    "import time\n",
    "from tqdm import tqdm\n",
    "import pickle\n",
    "from functions.drug_features import *\n",
    "\n",
    "_FOLDER = \"data/\"\n",
    "_FOLDER_2 = \"results/\""
   ]
  },
  {
   "cell_type": "code",
   "execution_count": 2,
   "metadata": {},
   "outputs": [
    {
     "name": "stdout",
     "output_type": "stream",
     "text": [
      "(265, 5)\n"
     ]
    },
    {
     "data": {
      "text/html": [
       "<div>\n",
       "<style scoped>\n",
       "    .dataframe tbody tr th:only-of-type {\n",
       "        vertical-align: middle;\n",
       "    }\n",
       "\n",
       "    .dataframe tbody tr th {\n",
       "        vertical-align: top;\n",
       "    }\n",
       "\n",
       "    .dataframe thead th {\n",
       "        text-align: right;\n",
       "    }\n",
       "</style>\n",
       "<table border=\"1\" class=\"dataframe\">\n",
       "  <thead>\n",
       "    <tr style=\"text-align: right;\">\n",
       "      <th></th>\n",
       "      <th>DRUG_ID</th>\n",
       "      <th>Drug_Name</th>\n",
       "      <th>Synonyms</th>\n",
       "      <th>Target</th>\n",
       "      <th>Target_Pathway</th>\n",
       "    </tr>\n",
       "  </thead>\n",
       "  <tbody>\n",
       "    <tr>\n",
       "      <th>0</th>\n",
       "      <td>1</td>\n",
       "      <td>Erlotinib</td>\n",
       "      <td>Tarceva, RG-1415, CP-358774, OSI-774, Ro-50823...</td>\n",
       "      <td>EGFR</td>\n",
       "      <td>EGFR signaling</td>\n",
       "    </tr>\n",
       "    <tr>\n",
       "      <th>1</th>\n",
       "      <td>3</td>\n",
       "      <td>Rapamycin</td>\n",
       "      <td>AY-22989, Sirolimus, WY-090217, Torisel, Rapamune</td>\n",
       "      <td>MTORC1</td>\n",
       "      <td>PI3K/MTOR signaling</td>\n",
       "    </tr>\n",
       "    <tr>\n",
       "      <th>2</th>\n",
       "      <td>5</td>\n",
       "      <td>Sunitinib</td>\n",
       "      <td>Sutent, Sunitinib Malate, SU-11248</td>\n",
       "      <td>PDGFR, KIT, VEGFR, FLT3, RET, CSF1R</td>\n",
       "      <td>RTK signaling</td>\n",
       "    </tr>\n",
       "    <tr>\n",
       "      <th>3</th>\n",
       "      <td>6</td>\n",
       "      <td>PHA-665752</td>\n",
       "      <td>PHA665752, PHA 665752</td>\n",
       "      <td>MET</td>\n",
       "      <td>RTK signaling</td>\n",
       "    </tr>\n",
       "    <tr>\n",
       "      <th>4</th>\n",
       "      <td>9</td>\n",
       "      <td>MG-132</td>\n",
       "      <td>LLL cpd, MG 132, MG132</td>\n",
       "      <td>Proteasome, CAPN1</td>\n",
       "      <td>Protein stability and degradation</td>\n",
       "    </tr>\n",
       "  </tbody>\n",
       "</table>\n",
       "</div>"
      ],
      "text/plain": [
       "   DRUG_ID   Drug_Name                                           Synonyms  \\\n",
       "0        1   Erlotinib  Tarceva, RG-1415, CP-358774, OSI-774, Ro-50823...   \n",
       "1        3   Rapamycin  AY-22989, Sirolimus, WY-090217, Torisel, Rapamune   \n",
       "2        5   Sunitinib                 Sutent, Sunitinib Malate, SU-11248   \n",
       "3        6  PHA-665752                              PHA665752, PHA 665752   \n",
       "4        9      MG-132                             LLL cpd, MG 132, MG132   \n",
       "\n",
       "                                Target                     Target_Pathway  \n",
       "0                                 EGFR                     EGFR signaling  \n",
       "1                               MTORC1                PI3K/MTOR signaling  \n",
       "2  PDGFR, KIT, VEGFR, FLT3, RET, CSF1R                      RTK signaling  \n",
       "3                                  MET                      RTK signaling  \n",
       "4                    Proteasome, CAPN1  Protein stability and degradation  "
      ]
     },
     "execution_count": 2,
     "metadata": {},
     "output_type": "execute_result"
    }
   ],
   "source": [
    "drug_features = pd.read_csv(_FOLDER + \"Drug_Features.csv\").rename(columns={\"Drug ID\": \"DRUG_ID\", \n",
    "                                                                           \"Drug Name\": \"Drug_Name\",\n",
    "                                                                          \"Target Pathway\": \"Target_Pathway\"})\n",
    "#drug_features.set_index(\"DRUG_ID\", inplace= True)\n",
    "df = pd.read_csv(_FOLDER+'Drug_Features.csv')\n",
    "ind_wrong_name = df[df[\"Drug Name\"]==\"Lestauritinib\"].index\n",
    "df.loc[ind_wrong_name, \"Drug Name\"] = \"Lestaurtinib\"\n",
    "print(drug_features.shape)\n",
    "drug_features.head()"
   ]
  },
  {
   "cell_type": "markdown",
   "metadata": {},
   "source": [
    "## Part 1: Get PubChem ids"
   ]
  },
  {
   "cell_type": "code",
   "execution_count": 4,
   "metadata": {},
   "outputs": [],
   "source": [
    "#the most recent data on drugs properties\n",
    "#https://www.cancerrxgene.org/downloads/anova?screening_set=GDSC1\n",
    "drugs_1 = pd.read_csv(_FOLDER+'drugs_gdsc1.csv')\n",
    "drug_features = pd.read_csv(_FOLDER + \"Drug_Features.csv\").rename(columns={\"Drug ID\": \"DRUG_ID\", \n",
    "                                                                           \"Drug Name\": \"Drug_Name\",\n",
    "                                                                          \"Target Pathway\": \"Target_Pathway\"})\n",
    "\n",
    "drug_names_dict = dict(zip(drug_features[\"DRUG_ID\"], drug_features[\"Drug_Name\"]))"
   ]
  },
  {
   "cell_type": "code",
   "execution_count": 5,
   "metadata": {},
   "outputs": [
    {
     "data": {
      "text/html": [
       "<div>\n",
       "<style scoped>\n",
       "    .dataframe tbody tr th:only-of-type {\n",
       "        vertical-align: middle;\n",
       "    }\n",
       "\n",
       "    .dataframe tbody tr th {\n",
       "        vertical-align: top;\n",
       "    }\n",
       "\n",
       "    .dataframe thead th {\n",
       "        text-align: right;\n",
       "    }\n",
       "</style>\n",
       "<table border=\"1\" class=\"dataframe\">\n",
       "  <thead>\n",
       "    <tr style=\"text-align: right;\">\n",
       "      <th></th>\n",
       "      <th>drug_id</th>\n",
       "      <th>drug_name</th>\n",
       "      <th>synonyms</th>\n",
       "      <th>pathway_name</th>\n",
       "      <th>targets</th>\n",
       "      <th>pubchem</th>\n",
       "    </tr>\n",
       "  </thead>\n",
       "  <tbody>\n",
       "    <tr>\n",
       "      <th>0</th>\n",
       "      <td>1050</td>\n",
       "      <td>ZM447439</td>\n",
       "      <td>ZM-447439, ZM 447439</td>\n",
       "      <td>Mitosis</td>\n",
       "      <td>AURKA, AURKB</td>\n",
       "      <td>9914412</td>\n",
       "    </tr>\n",
       "    <tr>\n",
       "      <th>1</th>\n",
       "      <td>1058</td>\n",
       "      <td>Pictilisib</td>\n",
       "      <td>GDC-0941, GDC0941, RG-7621</td>\n",
       "      <td>PI3K/MTOR signaling</td>\n",
       "      <td>PI3K (class 1)</td>\n",
       "      <td>17755052</td>\n",
       "    </tr>\n",
       "    <tr>\n",
       "      <th>2</th>\n",
       "      <td>1194</td>\n",
       "      <td>SB505124</td>\n",
       "      <td>SB 505124, SB505124</td>\n",
       "      <td>RTK signaling</td>\n",
       "      <td>TGFBR1, ACVR1B, ACVR1C</td>\n",
       "      <td>9858940</td>\n",
       "    </tr>\n",
       "    <tr>\n",
       "      <th>3</th>\n",
       "      <td>1236</td>\n",
       "      <td>UNC0638</td>\n",
       "      <td>UNC-0638, UNC 0683</td>\n",
       "      <td>Chromatin histone methylation</td>\n",
       "      <td>G9a and GLP methyltransferases</td>\n",
       "      <td>46224516</td>\n",
       "    </tr>\n",
       "    <tr>\n",
       "      <th>4</th>\n",
       "      <td>1266</td>\n",
       "      <td>ICL1100013</td>\n",
       "      <td>-</td>\n",
       "      <td>Other</td>\n",
       "      <td>N-myristoyltransferase 1/2</td>\n",
       "      <td>-</td>\n",
       "    </tr>\n",
       "  </tbody>\n",
       "</table>\n",
       "</div>"
      ],
      "text/plain": [
       "   drug_id   drug_name                    synonyms  \\\n",
       "0     1050    ZM447439        ZM-447439, ZM 447439   \n",
       "1     1058  Pictilisib  GDC-0941, GDC0941, RG-7621   \n",
       "2     1194    SB505124         SB 505124, SB505124   \n",
       "3     1236     UNC0638          UNC-0638, UNC 0683   \n",
       "4     1266  ICL1100013                           -   \n",
       "\n",
       "                    pathway_name                         targets   pubchem  \n",
       "0                        Mitosis                    AURKA, AURKB   9914412  \n",
       "1            PI3K/MTOR signaling                  PI3K (class 1)  17755052  \n",
       "2                  RTK signaling          TGFBR1, ACVR1B, ACVR1C   9858940  \n",
       "3  Chromatin histone methylation  G9a and GLP methyltransferases  46224516  \n",
       "4                          Other      N-myristoyltransferase 1/2         -  "
      ]
     },
     "execution_count": 5,
     "metadata": {},
     "output_type": "execute_result"
    }
   ],
   "source": [
    "drugs_1.head()"
   ]
  },
  {
   "cell_type": "code",
   "execution_count": 6,
   "metadata": {},
   "outputs": [
    {
     "data": {
      "text/html": [
       "<div>\n",
       "<style scoped>\n",
       "    .dataframe tbody tr th:only-of-type {\n",
       "        vertical-align: middle;\n",
       "    }\n",
       "\n",
       "    .dataframe tbody tr th {\n",
       "        vertical-align: top;\n",
       "    }\n",
       "\n",
       "    .dataframe thead th {\n",
       "        text-align: right;\n",
       "    }\n",
       "</style>\n",
       "<table border=\"1\" class=\"dataframe\">\n",
       "  <thead>\n",
       "    <tr style=\"text-align: right;\">\n",
       "      <th></th>\n",
       "      <th>DRUG_ID</th>\n",
       "      <th>Drug_Name</th>\n",
       "      <th>Synonyms</th>\n",
       "      <th>Target</th>\n",
       "      <th>Target_Pathway</th>\n",
       "    </tr>\n",
       "  </thead>\n",
       "  <tbody>\n",
       "    <tr>\n",
       "      <th>0</th>\n",
       "      <td>1</td>\n",
       "      <td>Erlotinib</td>\n",
       "      <td>Tarceva, RG-1415, CP-358774, OSI-774, Ro-50823...</td>\n",
       "      <td>EGFR</td>\n",
       "      <td>EGFR signaling</td>\n",
       "    </tr>\n",
       "    <tr>\n",
       "      <th>1</th>\n",
       "      <td>3</td>\n",
       "      <td>Rapamycin</td>\n",
       "      <td>AY-22989, Sirolimus, WY-090217, Torisel, Rapamune</td>\n",
       "      <td>MTORC1</td>\n",
       "      <td>PI3K/MTOR signaling</td>\n",
       "    </tr>\n",
       "    <tr>\n",
       "      <th>2</th>\n",
       "      <td>5</td>\n",
       "      <td>Sunitinib</td>\n",
       "      <td>Sutent, Sunitinib Malate, SU-11248</td>\n",
       "      <td>PDGFR, KIT, VEGFR, FLT3, RET, CSF1R</td>\n",
       "      <td>RTK signaling</td>\n",
       "    </tr>\n",
       "    <tr>\n",
       "      <th>3</th>\n",
       "      <td>6</td>\n",
       "      <td>PHA-665752</td>\n",
       "      <td>PHA665752, PHA 665752</td>\n",
       "      <td>MET</td>\n",
       "      <td>RTK signaling</td>\n",
       "    </tr>\n",
       "    <tr>\n",
       "      <th>4</th>\n",
       "      <td>9</td>\n",
       "      <td>MG-132</td>\n",
       "      <td>LLL cpd, MG 132, MG132</td>\n",
       "      <td>Proteasome, CAPN1</td>\n",
       "      <td>Protein stability and degradation</td>\n",
       "    </tr>\n",
       "  </tbody>\n",
       "</table>\n",
       "</div>"
      ],
      "text/plain": [
       "   DRUG_ID   Drug_Name                                           Synonyms  \\\n",
       "0        1   Erlotinib  Tarceva, RG-1415, CP-358774, OSI-774, Ro-50823...   \n",
       "1        3   Rapamycin  AY-22989, Sirolimus, WY-090217, Torisel, Rapamune   \n",
       "2        5   Sunitinib                 Sutent, Sunitinib Malate, SU-11248   \n",
       "3        6  PHA-665752                              PHA665752, PHA 665752   \n",
       "4        9      MG-132                             LLL cpd, MG 132, MG132   \n",
       "\n",
       "                                Target                     Target_Pathway  \n",
       "0                                 EGFR                     EGFR signaling  \n",
       "1                               MTORC1                PI3K/MTOR signaling  \n",
       "2  PDGFR, KIT, VEGFR, FLT3, RET, CSF1R                      RTK signaling  \n",
       "3                                  MET                      RTK signaling  \n",
       "4                    Proteasome, CAPN1  Protein stability and degradation  "
      ]
     },
     "execution_count": 6,
     "metadata": {},
     "output_type": "execute_result"
    }
   ],
   "source": [
    "drug_features.head()"
   ]
  },
  {
   "cell_type": "code",
   "execution_count": 7,
   "metadata": {},
   "outputs": [
    {
     "data": {
      "text/plain": [
       "-           101\n",
       "none         25\n",
       "several       3\n",
       "46907787      2\n",
       "46883536      2\n",
       "Name: pubchem, dtype: int64"
      ]
     },
     "execution_count": 7,
     "metadata": {},
     "output_type": "execute_result"
    }
   ],
   "source": [
    "# drug_ids are not the same in both datasets,\n",
    "# but we can take mapping of drugname and pubchemid\n",
    "\n",
    "drugs_1[\"pubchem\"].value_counts().head()"
   ]
  },
  {
   "cell_type": "code",
   "execution_count": 8,
   "metadata": {},
   "outputs": [
    {
     "data": {
      "text/html": [
       "<div>\n",
       "<style scoped>\n",
       "    .dataframe tbody tr th:only-of-type {\n",
       "        vertical-align: middle;\n",
       "    }\n",
       "\n",
       "    .dataframe tbody tr th {\n",
       "        vertical-align: top;\n",
       "    }\n",
       "\n",
       "    .dataframe thead th {\n",
       "        text-align: right;\n",
       "    }\n",
       "</style>\n",
       "<table border=\"1\" class=\"dataframe\">\n",
       "  <thead>\n",
       "    <tr style=\"text-align: right;\">\n",
       "      <th></th>\n",
       "      <th>drug_id</th>\n",
       "      <th>drug_name</th>\n",
       "      <th>synonyms</th>\n",
       "      <th>pathway_name</th>\n",
       "      <th>targets</th>\n",
       "      <th>pubchem</th>\n",
       "    </tr>\n",
       "  </thead>\n",
       "  <tbody>\n",
       "    <tr>\n",
       "      <th>63</th>\n",
       "      <td>163</td>\n",
       "      <td>JQ1</td>\n",
       "      <td>JQ-1, (+)-JQ-1</td>\n",
       "      <td>Chromatin other</td>\n",
       "      <td>BRD2, BRD3, BRD4, BRDT</td>\n",
       "      <td>46907787</td>\n",
       "    </tr>\n",
       "    <tr>\n",
       "      <th>220</th>\n",
       "      <td>1218</td>\n",
       "      <td>JQ1</td>\n",
       "      <td>JQ-1, (+)-JQ-1</td>\n",
       "      <td>Chromatin other</td>\n",
       "      <td>BRD2, BRD3, BRD4, BRDT</td>\n",
       "      <td>46907787</td>\n",
       "    </tr>\n",
       "  </tbody>\n",
       "</table>\n",
       "</div>"
      ],
      "text/plain": [
       "     drug_id drug_name        synonyms     pathway_name  \\\n",
       "63       163       JQ1  JQ-1, (+)-JQ-1  Chromatin other   \n",
       "220     1218       JQ1  JQ-1, (+)-JQ-1  Chromatin other   \n",
       "\n",
       "                    targets   pubchem  \n",
       "63   BRD2, BRD3, BRD4, BRDT  46907787  \n",
       "220  BRD2, BRD3, BRD4, BRDT  46907787  "
      ]
     },
     "execution_count": 8,
     "metadata": {},
     "output_type": "execute_result"
    }
   ],
   "source": [
    "# several drug_id can refer to the same drug with the same pubchemid\n",
    "drugs_1[drugs_1[\"pubchem\"]==\"46907787\"]"
   ]
  },
  {
   "cell_type": "code",
   "execution_count": 9,
   "metadata": {},
   "outputs": [
    {
     "name": "stderr",
     "output_type": "stream",
     "text": [
      "\r",
      "  0%|          | 0/33 [00:00<?, ?it/s]"
     ]
    },
    {
     "name": "stdout",
     "output_type": "stream",
     "text": [
      "All drugs in gdsc1: 367, With pubchem_ids: 238\n",
      "Number of drugs in drug_features: 265\n",
      "Number of missing data: 33\n"
     ]
    },
    {
     "name": "stderr",
     "output_type": "stream",
     "text": [
      "100%|██████████| 33/33 [00:30<00:00,  1.07it/s]\n"
     ]
    }
   ],
   "source": [
    "df = drugs_1[(drugs_1[\"pubchem\"]!= \"-\") & (drugs_1[\"pubchem\"] != \"none\") & (drugs_1[\"pubchem\"] != \"several\")]\n",
    "print(\"All drugs in gdsc1: %d, With pubchem_ids: %d\" % (drugs_1.shape[0], df.shape[0]))\n",
    "\n",
    "print(\"Number of drugs in drug_features:\", drug_features.shape[0])\n",
    "\n",
    "# match drug name and pubchem_id based on availble data\n",
    "drug_pubchem_dict = dict(zip(df[\"drug_name\"], df[\"pubchem\"]))\n",
    "drug_features[\"pubchem_id\"] = drug_features[\"Drug_Name\"].map(drug_pubchem_dict)\n",
    "\n",
    "print(\"Number of missing data:\", drug_features[\"pubchem_id\"].isnull().sum())\n",
    "\n",
    "# run function calling pubchem to get pubchem ids for drug names\n",
    "missing_drug_ids = drug_features[drug_features[\"pubchem_id\"].isnull()][\"DRUG_ID\"].values\n",
    "pubchem_ids_good, pubchem_ids_bad = get_pubchem_id(missing_drug_ids, drug_names_dict)"
   ]
  },
  {
   "cell_type": "code",
   "execution_count": 10,
   "metadata": {},
   "outputs": [
    {
     "name": "stdout",
     "output_type": "stream",
     "text": [
      "Number of found ids 8, Number of not found: 25\n"
     ]
    }
   ],
   "source": [
    "# run corrections\n",
    "print(\"Number of found ids %d, Number of not found: %d\" % (len(pubchem_ids_good), len(pubchem_ids_bad)))\n",
    "\n",
    "if \"DRUG_ID\" in drug_features.columns:\n",
    "    drug_features.set_index(\"DRUG_ID\", inplace = True)\n",
    "\n",
    "for drug_id in pubchem_ids_good:\n",
    "    drug_features.loc[drug_id, \"pubchem_id\"] = pubchem_ids_good[drug_id]"
   ]
  },
  {
   "cell_type": "code",
   "execution_count": 34,
   "metadata": {},
   "outputs": [
    {
     "name": "stdout",
     "output_type": "stream",
     "text": [
      "Total number of drugs: 25\n",
      "Total number of drugs for correction: 15\n",
      "Number of corrected drugs: 0\n",
      "Number of not found drugs: 15\n",
      "Final number of drugs with PubChem id: 25\n",
      "\n",
      "Number of found ids found after manual corrections 10, Number of not found: 15\n"
     ]
    }
   ],
   "source": [
    "pubchem_ids_good, not_identified_drugs = run_manual_corrections(pubchem_ids_bad, drop_not_found_drugs = False)\n",
    "\n",
    "for drug_id in pubchem_ids_good:\n",
    "    drug_features.loc[drug_id, \"pubchem_id\"] = pubchem_ids_good[drug_id]\n",
    "    \n",
    "print(\"\\nNumber of found ids found after manual corrections %d, Number of not found: %d\" % (len(pubchem_ids_good), len(not_identified_drugs)))"
   ]
  },
  {
   "cell_type": "code",
   "execution_count": 38,
   "metadata": {},
   "outputs": [
    {
     "data": {
      "text/html": [
       "<div>\n",
       "<style scoped>\n",
       "    .dataframe tbody tr th:only-of-type {\n",
       "        vertical-align: middle;\n",
       "    }\n",
       "\n",
       "    .dataframe tbody tr th {\n",
       "        vertical-align: top;\n",
       "    }\n",
       "\n",
       "    .dataframe thead th {\n",
       "        text-align: right;\n",
       "    }\n",
       "</style>\n",
       "<table border=\"1\" class=\"dataframe\">\n",
       "  <thead>\n",
       "    <tr style=\"text-align: right;\">\n",
       "      <th></th>\n",
       "      <th>Drug_Name</th>\n",
       "      <th>Synonyms</th>\n",
       "      <th>Target</th>\n",
       "      <th>Target_Pathway</th>\n",
       "      <th>pubchem_id</th>\n",
       "    </tr>\n",
       "    <tr>\n",
       "      <th>DRUG_ID</th>\n",
       "      <th></th>\n",
       "      <th></th>\n",
       "      <th></th>\n",
       "      <th></th>\n",
       "      <th></th>\n",
       "    </tr>\n",
       "  </thead>\n",
       "  <tbody>\n",
       "    <tr>\n",
       "      <th>164</th>\n",
       "      <td>JQ12</td>\n",
       "      <td>-</td>\n",
       "      <td>HDAC1, HDAC2</td>\n",
       "      <td>Chromatin histone acetylation</td>\n",
       "      <td>NaN</td>\n",
       "    </tr>\n",
       "    <tr>\n",
       "      <th>211</th>\n",
       "      <td>TL-2-105</td>\n",
       "      <td>-</td>\n",
       "      <td>not defined</td>\n",
       "      <td>ERK MAPK signaling</td>\n",
       "      <td>NaN</td>\n",
       "    </tr>\n",
       "    <tr>\n",
       "      <th>225</th>\n",
       "      <td>Genentech Cpd 10</td>\n",
       "      <td>-</td>\n",
       "      <td>AURKA, AURKB</td>\n",
       "      <td>Mitosis</td>\n",
       "      <td>NaN</td>\n",
       "    </tr>\n",
       "    <tr>\n",
       "      <th>253</th>\n",
       "      <td>XMD14-99</td>\n",
       "      <td>-</td>\n",
       "      <td>ALK, CDK7, LTK, others</td>\n",
       "      <td>Other</td>\n",
       "      <td>NaN</td>\n",
       "    </tr>\n",
       "    <tr>\n",
       "      <th>261</th>\n",
       "      <td>TL-1-85</td>\n",
       "      <td>-</td>\n",
       "      <td>TAK</td>\n",
       "      <td>Other, kinases</td>\n",
       "      <td>NaN</td>\n",
       "    </tr>\n",
       "    <tr>\n",
       "      <th>286</th>\n",
       "      <td>KIN001-236</td>\n",
       "      <td>-</td>\n",
       "      <td>Angiopoietin-1 receptor</td>\n",
       "      <td>Other</td>\n",
       "      <td>NaN</td>\n",
       "    </tr>\n",
       "    <tr>\n",
       "      <th>330</th>\n",
       "      <td>XMD13-2</td>\n",
       "      <td>-</td>\n",
       "      <td>RIPK1</td>\n",
       "      <td>Apoptosis regulation</td>\n",
       "      <td>NaN</td>\n",
       "    </tr>\n",
       "    <tr>\n",
       "      <th>332</th>\n",
       "      <td>XMD15-27</td>\n",
       "      <td>-</td>\n",
       "      <td>CAMK2</td>\n",
       "      <td>Other, kinases</td>\n",
       "      <td>NaN</td>\n",
       "    </tr>\n",
       "    <tr>\n",
       "      <th>1037</th>\n",
       "      <td>BX796</td>\n",
       "      <td>BX-796</td>\n",
       "      <td>TBK1, PDK1 (PDPK1), IKK, AURKB, AURKC</td>\n",
       "      <td>Other</td>\n",
       "      <td>NaN</td>\n",
       "    </tr>\n",
       "    <tr>\n",
       "      <th>1142</th>\n",
       "      <td>HG-5-113-01</td>\n",
       "      <td>-</td>\n",
       "      <td>LOK, LTK, TRCB, ABL(T315I)</td>\n",
       "      <td>Other</td>\n",
       "      <td>NaN</td>\n",
       "    </tr>\n",
       "    <tr>\n",
       "      <th>1143</th>\n",
       "      <td>HG-5-88-01</td>\n",
       "      <td>-</td>\n",
       "      <td>EGFR, ADCK4</td>\n",
       "      <td>Other, kinases</td>\n",
       "      <td>NaN</td>\n",
       "    </tr>\n",
       "    <tr>\n",
       "      <th>1158</th>\n",
       "      <td>XMD11-85h</td>\n",
       "      <td>-</td>\n",
       "      <td>BRSK2, FLT4, MARK4, PRKCD, RET, SPRK1</td>\n",
       "      <td>Other</td>\n",
       "      <td>NaN</td>\n",
       "    </tr>\n",
       "    <tr>\n",
       "      <th>1166</th>\n",
       "      <td>QL-VIII-58</td>\n",
       "      <td>-</td>\n",
       "      <td>MTOR, ATR</td>\n",
       "      <td>Other</td>\n",
       "      <td>NaN</td>\n",
       "    </tr>\n",
       "    <tr>\n",
       "      <th>1203</th>\n",
       "      <td>QL-XII-61</td>\n",
       "      <td>-</td>\n",
       "      <td>BMX, BTK</td>\n",
       "      <td>Other, kinases</td>\n",
       "      <td>NaN</td>\n",
       "    </tr>\n",
       "    <tr>\n",
       "      <th>1261</th>\n",
       "      <td>rTRAIL</td>\n",
       "      <td>-</td>\n",
       "      <td>TRAIL receptor agonist</td>\n",
       "      <td>Apoptosis regulation</td>\n",
       "      <td>NaN</td>\n",
       "    </tr>\n",
       "  </tbody>\n",
       "</table>\n",
       "</div>"
      ],
      "text/plain": [
       "                Drug_Name Synonyms                                 Target  \\\n",
       "DRUG_ID                                                                     \n",
       "164                  JQ12        -                           HDAC1, HDAC2   \n",
       "211              TL-2-105        -                            not defined   \n",
       "225      Genentech Cpd 10        -                           AURKA, AURKB   \n",
       "253              XMD14-99        -                 ALK, CDK7, LTK, others   \n",
       "261               TL-1-85        -                                    TAK   \n",
       "286            KIN001-236        -                Angiopoietin-1 receptor   \n",
       "330               XMD13-2        -                                  RIPK1   \n",
       "332              XMD15-27        -                                  CAMK2   \n",
       "1037                BX796   BX-796  TBK1, PDK1 (PDPK1), IKK, AURKB, AURKC   \n",
       "1142          HG-5-113-01        -             LOK, LTK, TRCB, ABL(T315I)   \n",
       "1143           HG-5-88-01        -                            EGFR, ADCK4   \n",
       "1158            XMD11-85h        -  BRSK2, FLT4, MARK4, PRKCD, RET, SPRK1   \n",
       "1166           QL-VIII-58        -                              MTOR, ATR   \n",
       "1203            QL-XII-61        -                               BMX, BTK   \n",
       "1261               rTRAIL        -                 TRAIL receptor agonist   \n",
       "\n",
       "                        Target_Pathway pubchem_id  \n",
       "DRUG_ID                                            \n",
       "164      Chromatin histone acetylation        NaN  \n",
       "211                 ERK MAPK signaling        NaN  \n",
       "225                            Mitosis        NaN  \n",
       "253                              Other        NaN  \n",
       "261                     Other, kinases        NaN  \n",
       "286                              Other        NaN  \n",
       "330               Apoptosis regulation        NaN  \n",
       "332                     Other, kinases        NaN  \n",
       "1037                             Other        NaN  \n",
       "1142                             Other        NaN  \n",
       "1143                    Other, kinases        NaN  \n",
       "1158                             Other        NaN  \n",
       "1166                             Other        NaN  \n",
       "1203                    Other, kinases        NaN  \n",
       "1261              Apoptosis regulation        NaN  "
      ]
     },
     "execution_count": 38,
     "metadata": {},
     "output_type": "execute_result"
    }
   ],
   "source": [
    "drug_features[drug_features[\"pubchem_id\"].isnull()]"
   ]
  },
  {
   "cell_type": "code",
   "execution_count": 40,
   "metadata": {},
   "outputs": [
    {
     "data": {
      "text/plain": [
       "(250, 5)"
      ]
     },
     "execution_count": 40,
     "metadata": {},
     "output_type": "execute_result"
    }
   ],
   "source": [
    "drug_features = drug_features[~drug_features[\"pubchem_id\"].isnull()]\n",
    "drug_features.shape"
   ]
  },
  {
   "cell_type": "markdown",
   "metadata": {},
   "source": [
    "**15 drugs from 265 can't be assesed and will not be used in further modelling**"
   ]
  },
  {
   "cell_type": "markdown",
   "metadata": {},
   "source": [
    "## Part 2 :Getting properties by PubChem API"
   ]
  },
  {
   "cell_type": "code",
   "execution_count": 41,
   "metadata": {},
   "outputs": [
    {
     "name": "stderr",
     "output_type": "stream",
     "text": [
      "100%|██████████| 250/250 [04:21<00:00,  1.04s/it]"
     ]
    },
    {
     "name": "stdout",
     "output_type": "stream",
     "text": [
      "CPU times: user 8.31 s, sys: 841 ms, total: 9.15 s\n",
      "Wall time: 4min 21s\n"
     ]
    },
    {
     "name": "stderr",
     "output_type": "stream",
     "text": [
      "\n"
     ]
    }
   ],
   "source": [
    "%%time\n",
    "drug_features, drugs_to_drop = get_pubchem_properties(drug_features)"
   ]
  },
  {
   "cell_type": "code",
   "execution_count": 42,
   "metadata": {},
   "outputs": [
    {
     "data": {
      "text/plain": [
       "0"
      ]
     },
     "execution_count": 42,
     "metadata": {},
     "output_type": "execute_result"
    }
   ],
   "source": [
    "len(drugs_to_drop)"
   ]
  },
  {
   "cell_type": "code",
   "execution_count": 43,
   "metadata": {},
   "outputs": [],
   "source": [
    "drug_features.drop(drugs_to_drop, axis=0).to_csv(_FOLDER_2 + \"drug_features_raw.csv\")"
   ]
  },
  {
   "cell_type": "markdown",
   "metadata": {},
   "source": [
    "## End of Part 2: Read prepared data"
   ]
  },
  {
   "cell_type": "code",
   "execution_count": 44,
   "metadata": {},
   "outputs": [
    {
     "name": "stdout",
     "output_type": "stream",
     "text": [
      "(250, 26)\n"
     ]
    }
   ],
   "source": [
    "drug_features = pd.read_csv(_FOLDER_2+ \"drug_features_raw.csv\").set_index(\"DRUG_ID\")\n",
    "print(drug_features.shape)"
   ]
  },
  {
   "cell_type": "code",
   "execution_count": 45,
   "metadata": {},
   "outputs": [
    {
     "data": {
      "text/plain": [
       "0"
      ]
     },
     "execution_count": 45,
     "metadata": {},
     "output_type": "execute_result"
    }
   ],
   "source": [
    "# pubchem_id is none\n",
    "\n",
    "drug_features[drug_features[\"molecular_weight\"].isnull()].shape[0]"
   ]
  },
  {
   "cell_type": "code",
   "execution_count": 46,
   "metadata": {},
   "outputs": [
    {
     "data": {
      "text/plain": [
       "Index(['Drug_Name', 'Synonyms', 'Target', 'Target_Pathway', 'pubchem_id',\n",
       "       'molecular_weight', 'elements', '2bonds', '3bonds', 'xlogp',\n",
       "       'formal_charge', 'surface_area', 'complexity', 'h_bond_donor_count',\n",
       "       'h_bond_acceptor_count', 'rotatable_bond_count', 'heavy_atom_count',\n",
       "       'atom_stereo_count', 'defined_atom_stereo_count',\n",
       "       'undefined_atom_stereo_count', 'bond_stereo_count',\n",
       "       'covalent_unit_count', 'molecular_formula', 'canonical_smiles',\n",
       "       'inchi_string', 'inchi_key'],\n",
       "      dtype='object')"
      ]
     },
     "execution_count": 46,
     "metadata": {},
     "output_type": "execute_result"
    }
   ],
   "source": [
    "drug_features.columns"
   ]
  },
  {
   "cell_type": "code",
   "execution_count": 47,
   "metadata": {},
   "outputs": [],
   "source": [
    "int_columns = ['2bonds', '3bonds', 'h_bond_donor_count',\n",
    "       'h_bond_acceptor_count', 'rotatable_bond_count', 'heavy_atom_count',\n",
    "       'atom_stereo_count', 'defined_atom_stereo_count',\n",
    "       'undefined_atom_stereo_count', 'bond_stereo_count',\n",
    "       'covalent_unit_count']\n",
    "for col in int_columns:\n",
    "    drug_features[col] = np.int16(drug_features[col])"
   ]
  },
  {
   "cell_type": "markdown",
   "metadata": {},
   "source": [
    "## Part 3: Preprocessing Text PubChem characteristics"
   ]
  },
  {
   "cell_type": "markdown",
   "metadata": {},
   "source": [
    "### Presence of some elements (11 elements)"
   ]
  },
  {
   "cell_type": "code",
   "execution_count": 49,
   "metadata": {
    "scrolled": true
   },
   "outputs": [
    {
     "name": "stdout",
     "output_type": "stream",
     "text": [
      "Exceptions: 0\n",
      "Elements in drugs: 10 ['Pt', 'Br', 'N', 'I', 'O', 'B', 'Cl', 'S', 'F', 'P']\n",
      "CPU times: user 997 ms, sys: 14.4 ms, total: 1.01 s\n",
      "Wall time: 1.19 s\n"
     ]
    }
   ],
   "source": [
    "%%time\n",
    "\n",
    "all_elements = list(set(drug_features[\"elements\"].str.split(\",\", expand=True).fillna(0).values.flatten())- set([0,\" 'C'\", \"'C'\", \" 'H'\"]))\n",
    "all_elements\n",
    "\n",
    "elements_in_drugs= list(set([atom.strip(\" \").strip(\"'\") for atom in all_elements]))\n",
    "exceptions =[]\n",
    "for drug_index in drug_features.index:\n",
    "    compound_elements = drug_features.loc[drug_index, \"elements\"]\n",
    "#     print(compound_elements)\n",
    "    try:\n",
    "        for i, atom in list(enumerate(elements_in_drugs)):\n",
    "            if atom in compound_elements:\n",
    "                drug_features.loc[drug_index, atom] = 1\n",
    "#                 print(atom, \"Yes\")\n",
    "            else:\n",
    "                drug_features.loc[drug_index, atom] = 0\n",
    "#                 print(atom, \"No\")\n",
    "    except:\n",
    "        exceptions.append(drug_index)\n",
    "        drug_features.loc[drug_index, atom] = 0\n",
    "        \n",
    "for col in ['B', 'I', 'Br', 'Cl', 'O', 'N', 'F', 'P', 'S', 'Pt']:\n",
    "    drug_features[col]= np.int16(drug_features[col])\n",
    "        \n",
    "print(\"Exceptions:\", drug_features.loc[exceptions, :].shape[0])\n",
    "print(\"Elements in drugs:\", len(elements_in_drugs), elements_in_drugs)"
   ]
  },
  {
   "cell_type": "code",
   "execution_count": 50,
   "metadata": {},
   "outputs": [
    {
     "data": {
      "text/plain": [
       "0    243\n",
       "1      7\n",
       "Name: Br, dtype: int64"
      ]
     },
     "execution_count": 50,
     "metadata": {},
     "output_type": "execute_result"
    }
   ],
   "source": [
    "drug_features[\"Br\"].value_counts()"
   ]
  },
  {
   "cell_type": "code",
   "execution_count": 51,
   "metadata": {},
   "outputs": [
    {
     "name": "stdout",
     "output_type": "stream",
     "text": [
      "Number of PubChem features: 26\n"
     ]
    }
   ],
   "source": [
    "drug_features.to_csv(_FOLDER_2 + \"drug_features_with_pubchem_properties.csv\")\n",
    "\n",
    "PubChem_features = [\"molecular_weight\",\"2bonds\", \"3bonds\", \"xlogp\", \"formal_charge\", \n",
    "    \"surface_area\", \"complexity\", \"h_bond_donor_count\", \n",
    "    \"h_bond_acceptor_count\", \"rotatable_bond_count\",\n",
    "    \"heavy_atom_count\", \"atom_stereo_count\", \"defined_atom_stereo_count\",\n",
    "    \"undefined_atom_stereo_count\", \"bond_stereo_count\", \"covalent_unit_count\",\n",
    "    'B', 'I', 'Br', 'Cl', 'O', 'N', 'F', 'P', 'S', 'Pt']\n",
    "\n",
    "with open(_FOLDER_2 + \"X_PubChem_properties.txt\", 'w') as f:\n",
    "    for s in PubChem_features:\n",
    "        f.write(str(s) + '\\n')\n",
    "\n",
    "print(\"Number of PubChem features:\", len(PubChem_features))"
   ]
  },
  {
   "cell_type": "markdown",
   "metadata": {},
   "source": [
    "## End of Part 3: Read Prepared Data"
   ]
  },
  {
   "cell_type": "code",
   "execution_count": 26,
   "metadata": {},
   "outputs": [],
   "source": [
    "drug_features = pd.read_csv(_FOLDER_2+ \"drug_features_with_pubchem_properties.csv\").set_index(\"DRUG_ID\")\n",
    "\n",
    "with open(_FOLDER_2 + \"X_PubChem_properties.txt\", 'r') as f:\n",
    "    X_PubChem_properties = [line.rstrip('\\n') for line in f]"
   ]
  },
  {
   "cell_type": "markdown",
   "metadata": {},
   "source": [
    "## Part 4: Preprocessing Drugs description from original data"
   ]
  },
  {
   "cell_type": "markdown",
   "metadata": {},
   "source": [
    "In this section, we are going to have some dumnies columns for Target and Target_Pathway\n",
    "\n",
    "Converting of Target Pathway resulted in 26 new columns\n",
    "\n",
    "It is also worth considering elements columns and that deleting columns with C and H which are present in all the compounds"
   ]
  },
  {
   "cell_type": "markdown",
   "metadata": {},
   "source": [
    "### Dumnies for Target (229) and Target_Pathway (23)"
   ]
  },
  {
   "cell_type": "code",
   "execution_count": 44,
   "metadata": {},
   "outputs": [
    {
     "data": {
      "text/html": [
       "<div>\n",
       "<style scoped>\n",
       "    .dataframe tbody tr th:only-of-type {\n",
       "        vertical-align: middle;\n",
       "    }\n",
       "\n",
       "    .dataframe tbody tr th {\n",
       "        vertical-align: top;\n",
       "    }\n",
       "\n",
       "    .dataframe thead th {\n",
       "        text-align: right;\n",
       "    }\n",
       "</style>\n",
       "<table border=\"1\" class=\"dataframe\">\n",
       "  <thead>\n",
       "    <tr style=\"text-align: right;\">\n",
       "      <th></th>\n",
       "      <th>Unnamed: 0</th>\n",
       "      <th>Drug_Name</th>\n",
       "      <th>Synonyms</th>\n",
       "      <th>Target</th>\n",
       "      <th>Target_Pathway</th>\n",
       "    </tr>\n",
       "    <tr>\n",
       "      <th>DRUG_ID</th>\n",
       "      <th></th>\n",
       "      <th></th>\n",
       "      <th></th>\n",
       "      <th></th>\n",
       "      <th></th>\n",
       "    </tr>\n",
       "  </thead>\n",
       "  <tbody>\n",
       "    <tr>\n",
       "      <th>1</th>\n",
       "      <td>0</td>\n",
       "      <td>Erlotinib</td>\n",
       "      <td>Tarceva, RG-1415, CP-358774, OSI-774, Ro-50823...</td>\n",
       "      <td>EGFR</td>\n",
       "      <td>EGFR signaling</td>\n",
       "    </tr>\n",
       "    <tr>\n",
       "      <th>3</th>\n",
       "      <td>1</td>\n",
       "      <td>Rapamycin</td>\n",
       "      <td>AY-22989, Sirolimus, WY-090217, Torisel, Rapamune</td>\n",
       "      <td>MTORC1</td>\n",
       "      <td>PI3K/MTOR signaling</td>\n",
       "    </tr>\n",
       "    <tr>\n",
       "      <th>5</th>\n",
       "      <td>2</td>\n",
       "      <td>Sunitinib</td>\n",
       "      <td>Sutent, Sunitinib Malate, SU-11248</td>\n",
       "      <td>PDGFR, KIT, VEGFR, FLT3, RET, CSF1R</td>\n",
       "      <td>RTK signaling</td>\n",
       "    </tr>\n",
       "  </tbody>\n",
       "</table>\n",
       "</div>"
      ],
      "text/plain": [
       "         Unnamed: 0  Drug_Name  \\\n",
       "DRUG_ID                          \n",
       "1                 0  Erlotinib   \n",
       "3                 1  Rapamycin   \n",
       "5                 2  Sunitinib   \n",
       "\n",
       "                                                  Synonyms  \\\n",
       "DRUG_ID                                                      \n",
       "1        Tarceva, RG-1415, CP-358774, OSI-774, Ro-50823...   \n",
       "3        AY-22989, Sirolimus, WY-090217, Torisel, Rapamune   \n",
       "5                       Sutent, Sunitinib Malate, SU-11248   \n",
       "\n",
       "                                      Target       Target_Pathway  \n",
       "DRUG_ID                                                            \n",
       "1                                       EGFR       EGFR signaling  \n",
       "3                                     MTORC1  PI3K/MTOR signaling  \n",
       "5        PDGFR, KIT, VEGFR, FLT3, RET, CSF1R        RTK signaling  "
      ]
     },
     "execution_count": 44,
     "metadata": {},
     "output_type": "execute_result"
    }
   ],
   "source": [
    "drug_features.head(3)"
   ]
  },
  {
   "cell_type": "code",
   "execution_count": 45,
   "metadata": {},
   "outputs": [
    {
     "name": "stdout",
     "output_type": "stream",
     "text": [
      "Number of targets: 229\n"
     ]
    }
   ],
   "source": [
    "targets = \"\"\n",
    "for x in drug_features[\"Target\"].values:\n",
    "    targets = targets + \", \" + x\n",
    "targets = list(set(targets.split(\", \")[1:]))\n",
    "print(\"Number of targets:\", len(targets))"
   ]
  },
  {
   "cell_type": "code",
   "execution_count": 46,
   "metadata": {},
   "outputs": [
    {
     "data": {
      "text/plain": [
       "229"
      ]
     },
     "execution_count": 46,
     "metadata": {},
     "output_type": "execute_result"
    }
   ],
   "source": [
    "df_target = pd.DataFrame(data = np.int32(np.zeros([drug_features.shape[0], len(targets)])), \n",
    "                         index = drug_features.index, \n",
    "                         columns = targets)\n",
    "len(targets)"
   ]
  },
  {
   "cell_type": "code",
   "execution_count": 47,
   "metadata": {},
   "outputs": [
    {
     "data": {
      "text/plain": [
       "(265, 229)"
      ]
     },
     "execution_count": 47,
     "metadata": {},
     "output_type": "execute_result"
    }
   ],
   "source": [
    "for index in drug_features.index:\n",
    "    targets_i = drug_features.loc[index, \"Target\"].split(\", \")\n",
    "    df_target.loc[index, targets_i]=1\n",
    "df_target.shape"
   ]
  },
  {
   "cell_type": "code",
   "execution_count": 48,
   "metadata": {},
   "outputs": [
    {
     "name": "stdout",
     "output_type": "stream",
     "text": [
      "Number of unique pathways: 23\n"
     ]
    },
    {
     "data": {
      "text/plain": [
       "(265, 252)"
      ]
     },
     "execution_count": 48,
     "metadata": {},
     "output_type": "execute_result"
    }
   ],
   "source": [
    "print(\"Number of unique pathways:\", drug_features[\"Target_Pathway\"].nunique())\n",
    "\n",
    "df_target_target_pathway = pd.concat([df_target, pd.get_dummies(drug_features[\"Target_Pathway\"])], axis=1)\n",
    "df_target_target_pathway.shape"
   ]
  },
  {
   "cell_type": "code",
   "execution_count": 50,
   "metadata": {},
   "outputs": [
    {
     "data": {
      "text/plain": [
       "DRUG_ID\n",
       "1                          EGFR signaling\n",
       "3                     PI3K/MTOR signaling\n",
       "5                           RTK signaling\n",
       "6                           RTK signaling\n",
       "9       Protein stability and degradation\n",
       "                      ...                \n",
       "1498                   ERK MAPK signaling\n",
       "1502                      Hormone-related\n",
       "1526                   ERK MAPK signaling\n",
       "1527                  PI3K/MTOR signaling\n",
       "1529                                Other\n",
       "Name: Target_Pathway, Length: 265, dtype: object"
      ]
     },
     "execution_count": 50,
     "metadata": {},
     "output_type": "execute_result"
    }
   ],
   "source": [
    "drug_features[\"Target_Pathway\"]"
   ]
  },
  {
   "cell_type": "code",
   "execution_count": 49,
   "metadata": {},
   "outputs": [
    {
     "data": {
      "text/plain": [
       "(265, 256)"
      ]
     },
     "execution_count": 49,
     "metadata": {},
     "output_type": "execute_result"
    }
   ],
   "source": [
    "df_final = pd.concat([drug_features.drop([\"Target_Pathway\"], axis=1), df_target_target_pathway], axis=1)\n",
    "df_final.shape"
   ]
  },
  {
   "cell_type": "code",
   "execution_count": 51,
   "metadata": {},
   "outputs": [
    {
     "data": {
      "text/html": [
       "<div>\n",
       "<style scoped>\n",
       "    .dataframe tbody tr th:only-of-type {\n",
       "        vertical-align: middle;\n",
       "    }\n",
       "\n",
       "    .dataframe tbody tr th {\n",
       "        vertical-align: top;\n",
       "    }\n",
       "\n",
       "    .dataframe thead th {\n",
       "        text-align: right;\n",
       "    }\n",
       "</style>\n",
       "<table border=\"1\" class=\"dataframe\">\n",
       "  <thead>\n",
       "    <tr style=\"text-align: right;\">\n",
       "      <th></th>\n",
       "      <th>Unnamed: 0</th>\n",
       "      <th>Drug_Name</th>\n",
       "      <th>Synonyms</th>\n",
       "      <th>Target</th>\n",
       "      <th>IRAK1</th>\n",
       "      <th>dsDNA break induction</th>\n",
       "      <th>SGK2</th>\n",
       "      <th>CDK5</th>\n",
       "      <th>Retinoic acid</th>\n",
       "      <th>JAK2</th>\n",
       "      <th>...</th>\n",
       "      <th>JNK and p38 signaling</th>\n",
       "      <th>Metabolism</th>\n",
       "      <th>Mitosis</th>\n",
       "      <th>Other</th>\n",
       "      <th>Other, kinases</th>\n",
       "      <th>PI3K/MTOR signaling</th>\n",
       "      <th>Protein stability and degradation</th>\n",
       "      <th>RTK signaling</th>\n",
       "      <th>WNT signaling</th>\n",
       "      <th>p53 pathway</th>\n",
       "    </tr>\n",
       "    <tr>\n",
       "      <th>DRUG_ID</th>\n",
       "      <th></th>\n",
       "      <th></th>\n",
       "      <th></th>\n",
       "      <th></th>\n",
       "      <th></th>\n",
       "      <th></th>\n",
       "      <th></th>\n",
       "      <th></th>\n",
       "      <th></th>\n",
       "      <th></th>\n",
       "      <th></th>\n",
       "      <th></th>\n",
       "      <th></th>\n",
       "      <th></th>\n",
       "      <th></th>\n",
       "      <th></th>\n",
       "      <th></th>\n",
       "      <th></th>\n",
       "      <th></th>\n",
       "      <th></th>\n",
       "      <th></th>\n",
       "    </tr>\n",
       "  </thead>\n",
       "  <tbody>\n",
       "    <tr>\n",
       "      <th>1</th>\n",
       "      <td>0</td>\n",
       "      <td>Erlotinib</td>\n",
       "      <td>Tarceva, RG-1415, CP-358774, OSI-774, Ro-50823...</td>\n",
       "      <td>EGFR</td>\n",
       "      <td>0</td>\n",
       "      <td>0</td>\n",
       "      <td>0</td>\n",
       "      <td>0</td>\n",
       "      <td>0</td>\n",
       "      <td>0</td>\n",
       "      <td>...</td>\n",
       "      <td>0</td>\n",
       "      <td>0</td>\n",
       "      <td>0</td>\n",
       "      <td>0</td>\n",
       "      <td>0</td>\n",
       "      <td>0</td>\n",
       "      <td>0</td>\n",
       "      <td>0</td>\n",
       "      <td>0</td>\n",
       "      <td>0</td>\n",
       "    </tr>\n",
       "    <tr>\n",
       "      <th>3</th>\n",
       "      <td>1</td>\n",
       "      <td>Rapamycin</td>\n",
       "      <td>AY-22989, Sirolimus, WY-090217, Torisel, Rapamune</td>\n",
       "      <td>MTORC1</td>\n",
       "      <td>0</td>\n",
       "      <td>0</td>\n",
       "      <td>0</td>\n",
       "      <td>0</td>\n",
       "      <td>0</td>\n",
       "      <td>0</td>\n",
       "      <td>...</td>\n",
       "      <td>0</td>\n",
       "      <td>0</td>\n",
       "      <td>0</td>\n",
       "      <td>0</td>\n",
       "      <td>0</td>\n",
       "      <td>1</td>\n",
       "      <td>0</td>\n",
       "      <td>0</td>\n",
       "      <td>0</td>\n",
       "      <td>0</td>\n",
       "    </tr>\n",
       "    <tr>\n",
       "      <th>5</th>\n",
       "      <td>2</td>\n",
       "      <td>Sunitinib</td>\n",
       "      <td>Sutent, Sunitinib Malate, SU-11248</td>\n",
       "      <td>PDGFR, KIT, VEGFR, FLT3, RET, CSF1R</td>\n",
       "      <td>0</td>\n",
       "      <td>0</td>\n",
       "      <td>0</td>\n",
       "      <td>0</td>\n",
       "      <td>0</td>\n",
       "      <td>0</td>\n",
       "      <td>...</td>\n",
       "      <td>0</td>\n",
       "      <td>0</td>\n",
       "      <td>0</td>\n",
       "      <td>0</td>\n",
       "      <td>0</td>\n",
       "      <td>0</td>\n",
       "      <td>0</td>\n",
       "      <td>1</td>\n",
       "      <td>0</td>\n",
       "      <td>0</td>\n",
       "    </tr>\n",
       "    <tr>\n",
       "      <th>6</th>\n",
       "      <td>3</td>\n",
       "      <td>PHA-665752</td>\n",
       "      <td>PHA665752, PHA 665752</td>\n",
       "      <td>MET</td>\n",
       "      <td>0</td>\n",
       "      <td>0</td>\n",
       "      <td>0</td>\n",
       "      <td>0</td>\n",
       "      <td>0</td>\n",
       "      <td>0</td>\n",
       "      <td>...</td>\n",
       "      <td>0</td>\n",
       "      <td>0</td>\n",
       "      <td>0</td>\n",
       "      <td>0</td>\n",
       "      <td>0</td>\n",
       "      <td>0</td>\n",
       "      <td>0</td>\n",
       "      <td>1</td>\n",
       "      <td>0</td>\n",
       "      <td>0</td>\n",
       "    </tr>\n",
       "    <tr>\n",
       "      <th>9</th>\n",
       "      <td>4</td>\n",
       "      <td>MG-132</td>\n",
       "      <td>LLL cpd, MG 132, MG132</td>\n",
       "      <td>Proteasome, CAPN1</td>\n",
       "      <td>0</td>\n",
       "      <td>0</td>\n",
       "      <td>0</td>\n",
       "      <td>0</td>\n",
       "      <td>0</td>\n",
       "      <td>0</td>\n",
       "      <td>...</td>\n",
       "      <td>0</td>\n",
       "      <td>0</td>\n",
       "      <td>0</td>\n",
       "      <td>0</td>\n",
       "      <td>0</td>\n",
       "      <td>0</td>\n",
       "      <td>1</td>\n",
       "      <td>0</td>\n",
       "      <td>0</td>\n",
       "      <td>0</td>\n",
       "    </tr>\n",
       "    <tr>\n",
       "      <th>...</th>\n",
       "      <td>...</td>\n",
       "      <td>...</td>\n",
       "      <td>...</td>\n",
       "      <td>...</td>\n",
       "      <td>...</td>\n",
       "      <td>...</td>\n",
       "      <td>...</td>\n",
       "      <td>...</td>\n",
       "      <td>...</td>\n",
       "      <td>...</td>\n",
       "      <td>...</td>\n",
       "      <td>...</td>\n",
       "      <td>...</td>\n",
       "      <td>...</td>\n",
       "      <td>...</td>\n",
       "      <td>...</td>\n",
       "      <td>...</td>\n",
       "      <td>...</td>\n",
       "      <td>...</td>\n",
       "      <td>...</td>\n",
       "      <td>...</td>\n",
       "    </tr>\n",
       "    <tr>\n",
       "      <th>1498</th>\n",
       "      <td>260</td>\n",
       "      <td>Selumetinib</td>\n",
       "      <td>AZD6244, AZD-6244, ARRY-886</td>\n",
       "      <td>MEK1, MEK2</td>\n",
       "      <td>0</td>\n",
       "      <td>0</td>\n",
       "      <td>0</td>\n",
       "      <td>0</td>\n",
       "      <td>0</td>\n",
       "      <td>0</td>\n",
       "      <td>...</td>\n",
       "      <td>0</td>\n",
       "      <td>0</td>\n",
       "      <td>0</td>\n",
       "      <td>0</td>\n",
       "      <td>0</td>\n",
       "      <td>0</td>\n",
       "      <td>0</td>\n",
       "      <td>0</td>\n",
       "      <td>0</td>\n",
       "      <td>0</td>\n",
       "    </tr>\n",
       "    <tr>\n",
       "      <th>1502</th>\n",
       "      <td>261</td>\n",
       "      <td>Bicalutamide</td>\n",
       "      <td>ICI-176334, Casodex, Cosudex, ICI 176334</td>\n",
       "      <td>AR</td>\n",
       "      <td>0</td>\n",
       "      <td>0</td>\n",
       "      <td>0</td>\n",
       "      <td>0</td>\n",
       "      <td>0</td>\n",
       "      <td>0</td>\n",
       "      <td>...</td>\n",
       "      <td>0</td>\n",
       "      <td>0</td>\n",
       "      <td>0</td>\n",
       "      <td>0</td>\n",
       "      <td>0</td>\n",
       "      <td>0</td>\n",
       "      <td>0</td>\n",
       "      <td>0</td>\n",
       "      <td>0</td>\n",
       "      <td>0</td>\n",
       "    </tr>\n",
       "    <tr>\n",
       "      <th>1526</th>\n",
       "      <td>262</td>\n",
       "      <td>Refametinib</td>\n",
       "      <td>RDEA119, BAY-86-9766, BAY 869766</td>\n",
       "      <td>MEK1, MEK2</td>\n",
       "      <td>0</td>\n",
       "      <td>0</td>\n",
       "      <td>0</td>\n",
       "      <td>0</td>\n",
       "      <td>0</td>\n",
       "      <td>0</td>\n",
       "      <td>...</td>\n",
       "      <td>0</td>\n",
       "      <td>0</td>\n",
       "      <td>0</td>\n",
       "      <td>0</td>\n",
       "      <td>0</td>\n",
       "      <td>0</td>\n",
       "      <td>0</td>\n",
       "      <td>0</td>\n",
       "      <td>0</td>\n",
       "      <td>0</td>\n",
       "    </tr>\n",
       "    <tr>\n",
       "      <th>1527</th>\n",
       "      <td>263</td>\n",
       "      <td>Pictilisib</td>\n",
       "      <td>GDC-0941, GDC0941, RG-7621</td>\n",
       "      <td>PI3K (class 1)</td>\n",
       "      <td>0</td>\n",
       "      <td>0</td>\n",
       "      <td>0</td>\n",
       "      <td>0</td>\n",
       "      <td>0</td>\n",
       "      <td>0</td>\n",
       "      <td>...</td>\n",
       "      <td>0</td>\n",
       "      <td>0</td>\n",
       "      <td>0</td>\n",
       "      <td>0</td>\n",
       "      <td>0</td>\n",
       "      <td>1</td>\n",
       "      <td>0</td>\n",
       "      <td>0</td>\n",
       "      <td>0</td>\n",
       "      <td>0</td>\n",
       "    </tr>\n",
       "    <tr>\n",
       "      <th>1529</th>\n",
       "      <td>264</td>\n",
       "      <td>Pevonedistat</td>\n",
       "      <td>MLN4924, MLN 4924, MLN-4924</td>\n",
       "      <td>NAE</td>\n",
       "      <td>0</td>\n",
       "      <td>0</td>\n",
       "      <td>0</td>\n",
       "      <td>0</td>\n",
       "      <td>0</td>\n",
       "      <td>0</td>\n",
       "      <td>...</td>\n",
       "      <td>0</td>\n",
       "      <td>0</td>\n",
       "      <td>0</td>\n",
       "      <td>1</td>\n",
       "      <td>0</td>\n",
       "      <td>0</td>\n",
       "      <td>0</td>\n",
       "      <td>0</td>\n",
       "      <td>0</td>\n",
       "      <td>0</td>\n",
       "    </tr>\n",
       "  </tbody>\n",
       "</table>\n",
       "<p>265 rows × 256 columns</p>\n",
       "</div>"
      ],
      "text/plain": [
       "         Unnamed: 0     Drug_Name  \\\n",
       "DRUG_ID                             \n",
       "1                 0     Erlotinib   \n",
       "3                 1     Rapamycin   \n",
       "5                 2     Sunitinib   \n",
       "6                 3    PHA-665752   \n",
       "9                 4        MG-132   \n",
       "...             ...           ...   \n",
       "1498            260   Selumetinib   \n",
       "1502            261  Bicalutamide   \n",
       "1526            262   Refametinib   \n",
       "1527            263    Pictilisib   \n",
       "1529            264  Pevonedistat   \n",
       "\n",
       "                                                  Synonyms  \\\n",
       "DRUG_ID                                                      \n",
       "1        Tarceva, RG-1415, CP-358774, OSI-774, Ro-50823...   \n",
       "3        AY-22989, Sirolimus, WY-090217, Torisel, Rapamune   \n",
       "5                       Sutent, Sunitinib Malate, SU-11248   \n",
       "6                                    PHA665752, PHA 665752   \n",
       "9                                   LLL cpd, MG 132, MG132   \n",
       "...                                                    ...   \n",
       "1498                           AZD6244, AZD-6244, ARRY-886   \n",
       "1502              ICI-176334, Casodex, Cosudex, ICI 176334   \n",
       "1526                      RDEA119, BAY-86-9766, BAY 869766   \n",
       "1527                            GDC-0941, GDC0941, RG-7621   \n",
       "1529                           MLN4924, MLN 4924, MLN-4924   \n",
       "\n",
       "                                      Target  IRAK1  dsDNA break induction  \\\n",
       "DRUG_ID                                                                      \n",
       "1                                       EGFR      0                      0   \n",
       "3                                     MTORC1      0                      0   \n",
       "5        PDGFR, KIT, VEGFR, FLT3, RET, CSF1R      0                      0   \n",
       "6                                        MET      0                      0   \n",
       "9                          Proteasome, CAPN1      0                      0   \n",
       "...                                      ...    ...                    ...   \n",
       "1498                              MEK1, MEK2      0                      0   \n",
       "1502                                      AR      0                      0   \n",
       "1526                              MEK1, MEK2      0                      0   \n",
       "1527                          PI3K (class 1)      0                      0   \n",
       "1529                                     NAE      0                      0   \n",
       "\n",
       "         SGK2  CDK5  Retinoic acid  JAK2  ...  JNK and p38 signaling  \\\n",
       "DRUG_ID                                   ...                          \n",
       "1           0     0              0     0  ...                      0   \n",
       "3           0     0              0     0  ...                      0   \n",
       "5           0     0              0     0  ...                      0   \n",
       "6           0     0              0     0  ...                      0   \n",
       "9           0     0              0     0  ...                      0   \n",
       "...       ...   ...            ...   ...  ...                    ...   \n",
       "1498        0     0              0     0  ...                      0   \n",
       "1502        0     0              0     0  ...                      0   \n",
       "1526        0     0              0     0  ...                      0   \n",
       "1527        0     0              0     0  ...                      0   \n",
       "1529        0     0              0     0  ...                      0   \n",
       "\n",
       "         Metabolism  Mitosis  Other  Other, kinases  PI3K/MTOR signaling  \\\n",
       "DRUG_ID                                                                    \n",
       "1                 0        0      0               0                    0   \n",
       "3                 0        0      0               0                    1   \n",
       "5                 0        0      0               0                    0   \n",
       "6                 0        0      0               0                    0   \n",
       "9                 0        0      0               0                    0   \n",
       "...             ...      ...    ...             ...                  ...   \n",
       "1498              0        0      0               0                    0   \n",
       "1502              0        0      0               0                    0   \n",
       "1526              0        0      0               0                    0   \n",
       "1527              0        0      0               0                    1   \n",
       "1529              0        0      1               0                    0   \n",
       "\n",
       "         Protein stability and degradation  RTK signaling  WNT signaling  \\\n",
       "DRUG_ID                                                                    \n",
       "1                                        0              0              0   \n",
       "3                                        0              0              0   \n",
       "5                                        0              1              0   \n",
       "6                                        0              1              0   \n",
       "9                                        1              0              0   \n",
       "...                                    ...            ...            ...   \n",
       "1498                                     0              0              0   \n",
       "1502                                     0              0              0   \n",
       "1526                                     0              0              0   \n",
       "1527                                     0              0              0   \n",
       "1529                                     0              0              0   \n",
       "\n",
       "         p53 pathway  \n",
       "DRUG_ID               \n",
       "1                  0  \n",
       "3                  0  \n",
       "5                  0  \n",
       "6                  0  \n",
       "9                  0  \n",
       "...              ...  \n",
       "1498               0  \n",
       "1502               0  \n",
       "1526               0  \n",
       "1527               0  \n",
       "1529               0  \n",
       "\n",
       "[265 rows x 256 columns]"
      ]
     },
     "execution_count": 51,
     "metadata": {},
     "output_type": "execute_result"
    }
   ],
   "source": [
    "df_final"
   ]
  },
  {
   "cell_type": "code",
   "execution_count": 112,
   "metadata": {},
   "outputs": [],
   "source": [
    "df_final.to_csv(_FOLDER_2 + \"drug_features_with_pubchem_properties_final.csv\")\n",
    "\n",
    "with open(_FOLDER_2 + \"X_features_Targets.txt\", 'w') as f:\n",
    "    for s in targets:\n",
    "        f.write(str(s) + '\\n')\n",
    "        \n",
    "with open(_FOLDER_2 + \"X_features_Target_Pathway.txt\", 'w') as f:\n",
    "    for s in drug_features[\"Target_Pathway\"].unique():\n",
    "        f.write(str(s) + '\\n')   "
   ]
  },
  {
   "cell_type": "markdown",
   "metadata": {},
   "source": [
    "## End of Part 4: Read Prepared Data"
   ]
  },
  {
   "cell_type": "code",
   "execution_count": 120,
   "metadata": {},
   "outputs": [],
   "source": [
    "drug_features = pd.read_csv(_FOLDER_2 + \"drug_features_with_pubchem_properties_final.csv\")\n",
    "\n",
    "with open(_FOLDER_2 + \"X_features_Targets.txt\", 'r') as f:\n",
    "    X_features_Targets = [line.rstrip('\\n') for line in f]\n",
    "    \n",
    "with open(_FOLDER_2 + \"X_features_Target_Pathway.txt\", 'r') as f:\n",
    "    X_features_Target_Pathway = [line.rstrip('\\n') for line in f]"
   ]
  },
  {
   "cell_type": "code",
   "execution_count": 121,
   "metadata": {},
   "outputs": [
    {
     "data": {
      "text/html": [
       "<div>\n",
       "<style scoped>\n",
       "    .dataframe tbody tr th:only-of-type {\n",
       "        vertical-align: middle;\n",
       "    }\n",
       "\n",
       "    .dataframe tbody tr th {\n",
       "        vertical-align: top;\n",
       "    }\n",
       "\n",
       "    .dataframe thead th {\n",
       "        text-align: right;\n",
       "    }\n",
       "</style>\n",
       "<table border=\"1\" class=\"dataframe\">\n",
       "  <thead>\n",
       "    <tr style=\"text-align: right;\">\n",
       "      <th></th>\n",
       "      <th>DRUG_ID</th>\n",
       "      <th>Drug_Name</th>\n",
       "      <th>Synonyms</th>\n",
       "      <th>Target</th>\n",
       "      <th>molecular_weight</th>\n",
       "      <th>elements</th>\n",
       "      <th>2bonds</th>\n",
       "      <th>3bonds</th>\n",
       "      <th>xlogp</th>\n",
       "      <th>formal_charge</th>\n",
       "      <th>...</th>\n",
       "      <th>JNK and p38 signaling</th>\n",
       "      <th>Metabolism</th>\n",
       "      <th>Mitosis</th>\n",
       "      <th>Other</th>\n",
       "      <th>Other, kinases</th>\n",
       "      <th>PI3K/MTOR signaling</th>\n",
       "      <th>Protein stability and degradation</th>\n",
       "      <th>RTK signaling</th>\n",
       "      <th>WNT signaling</th>\n",
       "      <th>p53 pathway</th>\n",
       "    </tr>\n",
       "  </thead>\n",
       "  <tbody>\n",
       "    <tr>\n",
       "      <th>0</th>\n",
       "      <td>1</td>\n",
       "      <td>Erlotinib</td>\n",
       "      <td>Tarceva, RG-1415, CP-358774, OSI-774, Ro-50823...</td>\n",
       "      <td>EGFR</td>\n",
       "      <td>393.4</td>\n",
       "      <td>'H', 'O', 'N', 'C'</td>\n",
       "      <td>8</td>\n",
       "      <td>1</td>\n",
       "      <td>3.3</td>\n",
       "      <td>0.0</td>\n",
       "      <td>...</td>\n",
       "      <td>0</td>\n",
       "      <td>0</td>\n",
       "      <td>0</td>\n",
       "      <td>0</td>\n",
       "      <td>0</td>\n",
       "      <td>0</td>\n",
       "      <td>0</td>\n",
       "      <td>0</td>\n",
       "      <td>0</td>\n",
       "      <td>0</td>\n",
       "    </tr>\n",
       "    <tr>\n",
       "      <th>1</th>\n",
       "      <td>3</td>\n",
       "      <td>Rapamycin</td>\n",
       "      <td>AY-22989, Sirolimus, WY-090217, Torisel, Rapamune</td>\n",
       "      <td>MTORC1</td>\n",
       "      <td>914.2</td>\n",
       "      <td>'H', 'O', 'N', 'C'</td>\n",
       "      <td>9</td>\n",
       "      <td>0</td>\n",
       "      <td>6.0</td>\n",
       "      <td>0.0</td>\n",
       "      <td>...</td>\n",
       "      <td>0</td>\n",
       "      <td>0</td>\n",
       "      <td>0</td>\n",
       "      <td>0</td>\n",
       "      <td>0</td>\n",
       "      <td>1</td>\n",
       "      <td>0</td>\n",
       "      <td>0</td>\n",
       "      <td>0</td>\n",
       "      <td>0</td>\n",
       "    </tr>\n",
       "    <tr>\n",
       "      <th>2</th>\n",
       "      <td>5</td>\n",
       "      <td>Sunitinib</td>\n",
       "      <td>Sutent, Sunitinib Malate, SU-11248</td>\n",
       "      <td>PDGFR, KIT, VEGFR, FLT3, RET, CSF1R</td>\n",
       "      <td>398.5</td>\n",
       "      <td>'N', 'H', 'C', 'O', 'F'</td>\n",
       "      <td>8</td>\n",
       "      <td>0</td>\n",
       "      <td>2.6</td>\n",
       "      <td>0.0</td>\n",
       "      <td>...</td>\n",
       "      <td>0</td>\n",
       "      <td>0</td>\n",
       "      <td>0</td>\n",
       "      <td>0</td>\n",
       "      <td>0</td>\n",
       "      <td>0</td>\n",
       "      <td>0</td>\n",
       "      <td>1</td>\n",
       "      <td>0</td>\n",
       "      <td>0</td>\n",
       "    </tr>\n",
       "    <tr>\n",
       "      <th>3</th>\n",
       "      <td>6</td>\n",
       "      <td>PHA-665752</td>\n",
       "      <td>PHA665752, PHA 665752</td>\n",
       "      <td>MET</td>\n",
       "      <td>641.6</td>\n",
       "      <td>'N', 'H', 'S', 'Cl', 'C', 'O'</td>\n",
       "      <td>13</td>\n",
       "      <td>0</td>\n",
       "      <td>5.0</td>\n",
       "      <td>0.0</td>\n",
       "      <td>...</td>\n",
       "      <td>0</td>\n",
       "      <td>0</td>\n",
       "      <td>0</td>\n",
       "      <td>0</td>\n",
       "      <td>0</td>\n",
       "      <td>0</td>\n",
       "      <td>0</td>\n",
       "      <td>1</td>\n",
       "      <td>0</td>\n",
       "      <td>0</td>\n",
       "    </tr>\n",
       "    <tr>\n",
       "      <th>4</th>\n",
       "      <td>9</td>\n",
       "      <td>MG-132</td>\n",
       "      <td>LLL cpd, MG 132, MG132</td>\n",
       "      <td>Proteasome, CAPN1</td>\n",
       "      <td>475.6</td>\n",
       "      <td>'H', 'O', 'N', 'C'</td>\n",
       "      <td>7</td>\n",
       "      <td>0</td>\n",
       "      <td>4.8</td>\n",
       "      <td>0.0</td>\n",
       "      <td>...</td>\n",
       "      <td>0</td>\n",
       "      <td>0</td>\n",
       "      <td>0</td>\n",
       "      <td>0</td>\n",
       "      <td>0</td>\n",
       "      <td>0</td>\n",
       "      <td>1</td>\n",
       "      <td>0</td>\n",
       "      <td>0</td>\n",
       "      <td>0</td>\n",
       "    </tr>\n",
       "  </tbody>\n",
       "</table>\n",
       "<p>5 rows × 271 columns</p>\n",
       "</div>"
      ],
      "text/plain": [
       "   DRUG_ID   Drug_Name                                           Synonyms  \\\n",
       "0        1   Erlotinib  Tarceva, RG-1415, CP-358774, OSI-774, Ro-50823...   \n",
       "1        3   Rapamycin  AY-22989, Sirolimus, WY-090217, Torisel, Rapamune   \n",
       "2        5   Sunitinib                 Sutent, Sunitinib Malate, SU-11248   \n",
       "3        6  PHA-665752                              PHA665752, PHA 665752   \n",
       "4        9      MG-132                             LLL cpd, MG 132, MG132   \n",
       "\n",
       "                                Target  molecular_weight  \\\n",
       "0                                 EGFR             393.4   \n",
       "1                               MTORC1             914.2   \n",
       "2  PDGFR, KIT, VEGFR, FLT3, RET, CSF1R             398.5   \n",
       "3                                  MET             641.6   \n",
       "4                    Proteasome, CAPN1             475.6   \n",
       "\n",
       "                        elements  2bonds  3bonds  xlogp  formal_charge  \\\n",
       "0             'H', 'O', 'N', 'C'       8       1    3.3            0.0   \n",
       "1             'H', 'O', 'N', 'C'       9       0    6.0            0.0   \n",
       "2        'N', 'H', 'C', 'O', 'F'       8       0    2.6            0.0   \n",
       "3  'N', 'H', 'S', 'Cl', 'C', 'O'      13       0    5.0            0.0   \n",
       "4             'H', 'O', 'N', 'C'       7       0    4.8            0.0   \n",
       "\n",
       "      ...       JNK and p38 signaling  Metabolism  Mitosis  Other  \\\n",
       "0     ...                           0           0        0      0   \n",
       "1     ...                           0           0        0      0   \n",
       "2     ...                           0           0        0      0   \n",
       "3     ...                           0           0        0      0   \n",
       "4     ...                           0           0        0      0   \n",
       "\n",
       "   Other, kinases  PI3K/MTOR signaling  Protein stability and degradation  \\\n",
       "0               0                    0                                  0   \n",
       "1               0                    1                                  0   \n",
       "2               0                    0                                  0   \n",
       "3               0                    0                                  0   \n",
       "4               0                    0                                  1   \n",
       "\n",
       "   RTK signaling  WNT signaling  p53 pathway  \n",
       "0              0              0            0  \n",
       "1              0              0            0  \n",
       "2              1              0            0  \n",
       "3              1              0            0  \n",
       "4              0              0            0  \n",
       "\n",
       "[5 rows x 271 columns]"
      ]
     },
     "execution_count": 121,
     "metadata": {},
     "output_type": "execute_result"
    }
   ],
   "source": [
    "drug_features.head()"
   ]
  },
  {
   "cell_type": "code",
   "execution_count": 122,
   "metadata": {},
   "outputs": [],
   "source": [
    "with open(_FOLDER_2+\"X_features_cancer_cell_lines.txt\", 'r') as f:\n",
    "    X_cancer_cell_lines = [line.rstrip('\\n') for line in f]"
   ]
  },
  {
   "cell_type": "code",
   "execution_count": 123,
   "metadata": {},
   "outputs": [
    {
     "name": "stdout",
     "output_type": "stream",
     "text": [
      "Final Features: \n",
      "\n",
      "Cell lines (CCL) features: 1073\n",
      "PubChem drug features: 26\n",
      "Drug description features - Targets: 212, Target_Pathway: 23\n"
     ]
    }
   ],
   "source": [
    "print(\"Final Features: \\n\")\n",
    "print(\"Cell lines (CCL) features:\", len(X_cancer_cell_lines))\n",
    "print(\"PubChem drug features:\", len(PubChem_features))\n",
    "print(\"Drug description features - Targets: %d, Target_Pathway: %d\" % (len(X_features_Targets), len(X_features_Target_Pathway)))"
   ]
  },
  {
   "cell_type": "code",
   "execution_count": 124,
   "metadata": {},
   "outputs": [
    {
     "data": {
      "text/plain": [
       "[\"'H'\",\n",
       " \" 'Cl'\",\n",
       " \" 'N'\",\n",
       " \" 'B'\",\n",
       " \" 'I'\",\n",
       " \"'N'\",\n",
       " \" 'P'\",\n",
       " \" 'O'\",\n",
       " \" 'Pt'\",\n",
       " \" 'Br'\",\n",
       " \"'O'\",\n",
       " \" 'F'\",\n",
       " \" 'S'\"]"
      ]
     },
     "execution_count": 124,
     "metadata": {},
     "output_type": "execute_result"
    }
   ],
   "source": [
    "all_elements"
   ]
  },
  {
   "cell_type": "code",
   "execution_count": null,
   "metadata": {},
   "outputs": [],
   "source": []
  }
 ],
 "metadata": {
  "anaconda-cloud": {},
  "kernelspec": {
   "display_name": "Python 3",
   "language": "python",
   "name": "python3"
  },
  "language_info": {
   "codemirror_mode": {
    "name": "ipython",
    "version": 3
   },
   "file_extension": ".py",
   "mimetype": "text/x-python",
   "name": "python",
   "nbconvert_exporter": "python",
   "pygments_lexer": "ipython3",
   "version": "3.6.10"
  }
 },
 "nbformat": 4,
 "nbformat_minor": 2
}
