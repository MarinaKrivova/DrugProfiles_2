{
 "cells": [
  {
   "cell_type": "markdown",
   "metadata": {},
   "source": [
    "## Merging filtered and fit data with CCL properties"
   ]
  },
  {
   "cell_type": "code",
   "execution_count": 1,
   "metadata": {},
   "outputs": [],
   "source": [
    "import pandas as pd\n",
    "import numpy as np\n",
    "\n",
    "from scipy.optimize import curve_fit\n",
    "import scipy.optimize as opt\n",
    "from sklearn.metrics import r2_score\n",
    "\n",
    "from tqdm import tqdm\n",
    "import warnings\n",
    "warnings.filterwarnings(\"ignore\")\n",
    "\n",
    "import os\n",
    "_FOLDER = \"data/\"\n",
    "_FOLDER_2 = \"results/\"\n",
    "\n",
    "from functions.merging import *"
   ]
  },
  {
   "cell_type": "code",
   "execution_count": 2,
   "metadata": {},
   "outputs": [],
   "source": [
    "cell_features = pd.read_csv(_FOLDER +\"Cell_Line_Features_PANCAN_simple_MOBEM.tsv\", sep=\"\\t\")\n",
    "drug_features = pd.read_csv(_FOLDER_2+ \"drug_features_with_pubchem_properties.csv\")"
   ]
  },
  {
   "cell_type": "markdown",
   "metadata": {},
   "source": [
    "### Merging with filtered and fitted data"
   ]
  },
  {
   "cell_type": "code",
   "execution_count": 8,
   "metadata": {},
   "outputs": [],
   "source": [
    "df_list = [\"fit_1234_02.csv\", \"fit_auc_02.csv\", \"fit_no_filt.csv\"]\n",
    "df_list_2 = [_FOLDER_2 + x for x in df_list]"
   ]
  },
  {
   "cell_type": "code",
   "execution_count": 9,
   "metadata": {},
   "outputs": [
    {
     "data": {
      "text/html": [
       "<div>\n",
       "<style scoped>\n",
       "    .dataframe tbody tr th:only-of-type {\n",
       "        vertical-align: middle;\n",
       "    }\n",
       "\n",
       "    .dataframe tbody tr th {\n",
       "        vertical-align: top;\n",
       "    }\n",
       "\n",
       "    .dataframe thead th {\n",
       "        text-align: right;\n",
       "    }\n",
       "</style>\n",
       "<table border=\"1\" class=\"dataframe\">\n",
       "  <thead>\n",
       "    <tr style=\"text-align: right;\">\n",
       "      <th></th>\n",
       "      <th>CELL_LINE_NAME</th>\n",
       "      <th>COSMIC_ID</th>\n",
       "      <th>DRUG_ID</th>\n",
       "      <th>DRUGID_COSMICID</th>\n",
       "      <th>FOLD_DILUTION</th>\n",
       "      <th>MAX_CONC</th>\n",
       "      <th>fd_num_0</th>\n",
       "      <th>fd_num_1</th>\n",
       "      <th>fd_num_2</th>\n",
       "      <th>fd_num_3</th>\n",
       "      <th>...</th>\n",
       "      <th>norm_cells_6</th>\n",
       "      <th>norm_cells_7</th>\n",
       "      <th>norm_cells_8</th>\n",
       "      <th>norm_cells_9</th>\n",
       "      <th>drug_name</th>\n",
       "      <th>CCL_name</th>\n",
       "      <th>dif_first</th>\n",
       "      <th>dif_last</th>\n",
       "      <th>sigmoid_4_param_r2</th>\n",
       "      <th>sigmoid_4_param</th>\n",
       "    </tr>\n",
       "  </thead>\n",
       "  <tbody>\n",
       "    <tr>\n",
       "      <th>0</th>\n",
       "      <td>SF539</td>\n",
       "      <td>905984</td>\n",
       "      <td>200</td>\n",
       "      <td>200_905984</td>\n",
       "      <td>2</td>\n",
       "      <td>1.024</td>\n",
       "      <td>0</td>\n",
       "      <td>0.111111</td>\n",
       "      <td>0.222222</td>\n",
       "      <td>0.333333</td>\n",
       "      <td>...</td>\n",
       "      <td>0.210635</td>\n",
       "      <td>0.111738</td>\n",
       "      <td>0.055023</td>\n",
       "      <td>0.035082</td>\n",
       "      <td>Dacinostat</td>\n",
       "      <td>SF539</td>\n",
       "      <td>0.024908</td>\n",
       "      <td>0.019941</td>\n",
       "      <td>0.998878</td>\n",
       "      <td>[  0.54585447   1.0613864  -12.07405339   0.03...</td>\n",
       "    </tr>\n",
       "    <tr>\n",
       "      <th>1</th>\n",
       "      <td>TC-71</td>\n",
       "      <td>1240221</td>\n",
       "      <td>1149</td>\n",
       "      <td>1149_1240221</td>\n",
       "      <td>2</td>\n",
       "      <td>5.000</td>\n",
       "      <td>0</td>\n",
       "      <td>0.111111</td>\n",
       "      <td>0.222222</td>\n",
       "      <td>0.333333</td>\n",
       "      <td>...</td>\n",
       "      <td>0.140872</td>\n",
       "      <td>0.067393</td>\n",
       "      <td>0.031423</td>\n",
       "      <td>0.022325</td>\n",
       "      <td>TW 37</td>\n",
       "      <td>TC-71</td>\n",
       "      <td>0.030571</td>\n",
       "      <td>0.009098</td>\n",
       "      <td>0.999030</td>\n",
       "      <td>[  0.51332783   1.05111449 -15.33919524   0.03...</td>\n",
       "    </tr>\n",
       "  </tbody>\n",
       "</table>\n",
       "<p>2 rows × 32 columns</p>\n",
       "</div>"
      ],
      "text/plain": [
       "  CELL_LINE_NAME  COSMIC_ID  DRUG_ID DRUGID_COSMICID  FOLD_DILUTION  MAX_CONC  \\\n",
       "0          SF539     905984      200      200_905984              2     1.024   \n",
       "1          TC-71    1240221     1149    1149_1240221              2     5.000   \n",
       "\n",
       "   fd_num_0  fd_num_1  fd_num_2  fd_num_3  ...  norm_cells_6  norm_cells_7  \\\n",
       "0         0  0.111111  0.222222  0.333333  ...      0.210635      0.111738   \n",
       "1         0  0.111111  0.222222  0.333333  ...      0.140872      0.067393   \n",
       "\n",
       "   norm_cells_8  norm_cells_9   drug_name  CCL_name  dif_first  dif_last  \\\n",
       "0      0.055023      0.035082  Dacinostat     SF539   0.024908  0.019941   \n",
       "1      0.031423      0.022325       TW 37     TC-71   0.030571  0.009098   \n",
       "\n",
       "   sigmoid_4_param_r2                                    sigmoid_4_param  \n",
       "0            0.998878  [  0.54585447   1.0613864  -12.07405339   0.03...  \n",
       "1            0.999030  [  0.51332783   1.05111449 -15.33919524   0.03...  \n",
       "\n",
       "[2 rows x 32 columns]"
      ]
     },
     "execution_count": 9,
     "metadata": {},
     "output_type": "execute_result"
    }
   ],
   "source": [
    "df = pd.read_csv(df_list_2[0])\n",
    "df.head(2)"
   ]
  },
  {
   "cell_type": "code",
   "execution_count": 8,
   "metadata": {},
   "outputs": [
    {
     "data": {
      "text/plain": [
       "((2108, 30), (1964, 1139))"
      ]
     },
     "execution_count": 8,
     "metadata": {},
     "output_type": "execute_result"
    }
   ],
   "source": [
    "df_1234 = pd.read_csv(_FOLDER_2+\"filt_1234_02.csv\")\n",
    "merged_df = merge_drug_cells(df_1234, cell_features, drug_features)\n",
    "merged_df.to_csv(_FOLDER_2 + \"merged_drug_profiles_cells_.csv\")\n",
    "df_1234.shape, merged_df.shape"
   ]
  },
  {
   "cell_type": "code",
   "execution_count": 10,
   "metadata": {},
   "outputs": [],
   "source": [
    "merged_df.to_csv(_FOLDER_2 + \"merged_drugs_cells_1234_02.csv\")"
   ]
  },
  {
   "cell_type": "code",
   "execution_count": 6,
   "metadata": {},
   "outputs": [],
   "source": [
    "with open(_FOLDER_2 + \"X_features_cancer_cell_lines.txt\", 'w') as f:\n",
    "    for s in cell_features[\"Unnamed: 0\"].values:\n",
    "        f.write(str(s) + '\\n')   "
   ]
  },
  {
   "cell_type": "markdown",
   "metadata": {},
   "source": [
    "### Fitting here and then merging with CCL data"
   ]
  },
  {
   "cell_type": "code",
   "execution_count": 7,
   "metadata": {},
   "outputs": [
    {
     "name": "stderr",
     "output_type": "stream",
     "text": [
      "100%|██████████| 2776/2776 [00:12<00:00, 217.13it/s]\n"
     ]
    },
    {
     "name": "stdout",
     "output_type": "stream",
     "text": [
      "CPU times: user 13.2 s, sys: 452 ms, total: 13.6 s\n",
      "Wall time: 13.6 s\n"
     ]
    },
    {
     "data": {
      "text/plain": [
       "(2612, 1100)"
      ]
     },
     "execution_count": 7,
     "metadata": {},
     "output_type": "execute_result"
    }
   ],
   "source": [
    "%%time\n",
    "drug_df = pd.read_csv(_FOLDER_2 +\"filtered_drug_profiles_123.csv\")\n",
    "cell_features = pd.read_csv(_FOLDER +\"Cell_Line_Features_PANCAN_simple_MOBEM.tsv\", sep=\"\\t\")\n",
    "\n",
    "fitting_function = \"sigmoid_4_param\"\n",
    "\n",
    "\n",
    "df2 = FittedData(drug_df, x_columns=conc_columns, y_columns= response_norm, \n",
    "                fitting_function=fitting_function, default_param = True)\n",
    "\n",
    "\n",
    "merged_df2 = MergeDrugCells(df2, cell_features, splitting_needed= True)\n",
    "merged_df2.shape"
   ]
  },
  {
   "cell_type": "code",
   "execution_count": 8,
   "metadata": {},
   "outputs": [],
   "source": [
    "# merged_df.to_csv(_FOLDER_2 + \"merged_drug_profiles_cells_sigmoid4_123.csv\")"
   ]
  }
 ],
 "metadata": {
  "anaconda-cloud": {},
  "kernelspec": {
   "display_name": "Python 3",
   "language": "python",
   "name": "python3"
  },
  "language_info": {
   "codemirror_mode": {
    "name": "ipython",
    "version": 3
   },
   "file_extension": ".py",
   "mimetype": "text/x-python",
   "name": "python",
   "nbconvert_exporter": "python",
   "pygments_lexer": "ipython3",
   "version": "3.6.10"
  }
 },
 "nbformat": 4,
 "nbformat_minor": 2
}
