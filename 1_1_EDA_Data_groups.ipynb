{
 "cells": [
  {
   "cell_type": "markdown",
   "metadata": {},
   "source": [
    "## Exploring data quality"
   ]
  },
  {
   "cell_type": "code",
   "execution_count": 1,
   "metadata": {},
   "outputs": [],
   "source": [
    "import pandas as pd\n",
    "import numpy as np\n",
    "import os\n",
    "import gc\n",
    "import matplotlib.pyplot as plt\n",
    "\n",
    "_FOLDER = \"data/\"\n",
    "_FOLDER_2 = \"figures/\"\n",
    "_FOLDER_3 = \"results/\"\n",
    "SAVE_FIGURES = False\n",
    "\n",
    "from functions.filtering import *\n",
    "from functions.fitting import *\n",
    "from functions.plotting import *"
   ]
  },
  {
   "cell_type": "code",
   "execution_count": 2,
   "metadata": {},
   "outputs": [],
   "source": [
    "Y_LIMIT_1 = 0.8 # for group 1a\n",
    "R2_LIMIT = 0.9 # for S-shape fitting\n",
    "Y_LOWER_LIMIT  = 0.5 #for group 2a"
   ]
  },
  {
   "cell_type": "markdown",
   "metadata": {},
   "source": [
    "### Original data"
   ]
  },
  {
   "cell_type": "code",
   "execution_count": 3,
   "metadata": {},
   "outputs": [
    {
     "data": {
      "text/plain": [
       "(225384, 28)"
      ]
     },
     "execution_count": 3,
     "metadata": {},
     "output_type": "execute_result"
    }
   ],
   "source": [
    "drug_curves = pd.read_csv(_FOLDER+\"normalised_dose_response_data.csv\")\n",
    "\n",
    "if \"Unnamed: 0\" in drug_curves:\n",
    "    drug_curves.drop(\"Unnamed: 0\", axis=1, inplace =True)\n",
    "\n",
    "col_to_drop = [\"per_slope_change_\"+str(i) for i in range(8)]+\\\n",
    "            [\"slope_\" + str(i) for i in range(9)]    \n",
    "drug_curves.drop(col_to_drop, axis=1, inplace=True)    \n",
    "    \n",
    "conc_columns= [\"fd_num_\"+str(i) for i in range(10)]\n",
    "response_norm = ['norm_cells_'+str(i) for i in range(10)]\n",
    "CCL_names = dict(zip(drug_curves[\"COSMIC_ID\"], drug_curves[\"CELL_LINE_NAME\"]))\n",
    "df= pd.read_csv(_FOLDER+'Drug_Features.csv')\n",
    "drug_names = dict(zip(df[\"Drug ID\"].values, df[\"Drug Name\"].values))\n",
    "del df\n",
    "drug_curves[\"drug_name\"] = drug_curves[\"DRUG_ID\"].map(drug_names)\n",
    "drug_curves[\"CCL_name\"] = drug_curves[\"COSMIC_ID\"].map(CCL_names)\n",
    "drug_curves.shape"
   ]
  },
  {
   "cell_type": "markdown",
   "metadata": {},
   "source": [
    "## Group 1: Responses above 1"
   ]
  },
  {
   "cell_type": "code",
   "execution_count": 4,
   "metadata": {},
   "outputs": [
    {
     "name": "stdout",
     "output_type": "stream",
     "text": [
      "Available functions in filtering module: \n",
      "\n",
      "find_high_responses\n",
      "cut_off_outliers\n",
      "find_ascending_data\n",
      "filtering_sigmoid_curves\n",
      "auc_fitration\n",
      "filter_good_response\n",
      "select_group_limits\n",
      "select_group_1\n",
      "select_group_1a\n",
      "select_group_1b\n",
      "select_group_2\n",
      "select_group_2a\n",
      "select_group_2b\n"
     ]
    }
   ],
   "source": [
    "#available functions in a filtering script\n",
    "print(\"Available functions in filtering module: \\n\")\n",
    "for func in content_filtering().keys():\n",
    "    print(func)"
   ]
  },
  {
   "cell_type": "code",
   "execution_count": 5,
   "metadata": {},
   "outputs": [
    {
     "data": {
      "text/plain": [
       "(162059, 28)"
      ]
     },
     "execution_count": 5,
     "metadata": {},
     "output_type": "execute_result"
    }
   ],
   "source": [
    "# group 1 - all responses above 1\n",
    "gr_1 = select_group_1(drug_curves, response_norm)\n",
    "gr_1.shape"
   ]
  },
  {
   "cell_type": "code",
   "execution_count": 6,
   "metadata": {},
   "outputs": [
    {
     "data": {
      "text/plain": [
       "(74115, 28)"
      ]
     },
     "execution_count": 6,
     "metadata": {},
     "output_type": "execute_result"
    }
   ],
   "source": [
    "gr_1a = select_group_1a(gr_1, response_norm, Y_LIMIT_1)\n",
    "gr_1a.shape"
   ]
  },
  {
   "cell_type": "code",
   "execution_count": null,
   "metadata": {},
   "outputs": [
    {
     "name": "stderr",
     "output_type": "stream",
     "text": [
      "  0%|          | 14/87944 [00:00<11:19, 129.32it/s]"
     ]
    },
    {
     "name": "stdout",
     "output_type": "stream",
     "text": [
      "\n",
      " sigmoid_4_param\n"
     ]
    },
    {
     "name": "stderr",
     "output_type": "stream",
     "text": [
      "100%|██████████| 87944/87944 [09:33<00:00, 153.35it/s] \n"
     ]
    },
    {
     "name": "stdout",
     "output_type": "stream",
     "text": [
      "<function sigmoid_4_param at 0x7fbffe2201e0>\n"
     ]
    },
    {
     "name": "stderr",
     "output_type": "stream",
     "text": [
      "\r",
      "  0%|          | 0/76794 [00:00<?, ?it/s]"
     ]
    },
    {
     "name": "stdout",
     "output_type": "stream",
     "text": [
      "Reduced number of samples: 11150\n",
      "\n",
      " logistic_4_param\n"
     ]
    },
    {
     "name": "stderr",
     "output_type": "stream",
     "text": [
      " 91%|█████████ | 70009/76794 [07:18<00:52, 129.34it/s]"
     ]
    }
   ],
   "source": [
    "%%time\n",
    "fit_functions = [\"sigmoid_4_param\",\"logistic_4_param\"]\n",
    "\n",
    "gr_1b = select_group_1b(gr_1.loc[list(set(gr_1.index)-set(gr_1a.index))], \n",
    "                        fit_functions, conc_columns, response_norm, \n",
    "                        y_limit=Y_LIMIT_1, r2_limit=R2_LIMIT,\n",
    "                       )\n",
    "gr_1b.shape "
   ]
  },
  {
   "cell_type": "code",
   "execution_count": null,
   "metadata": {},
   "outputs": [],
   "source": [
    "gr_1b.columns"
   ]
  },
  {
   "cell_type": "code",
   "execution_count": null,
   "metadata": {},
   "outputs": [],
   "source": [
    "gr_1c = gr_1.loc[list(set(gr_1.index)-set(gr_1a.index)-set(gr_1b.index))]\n",
    "gr_1c.shape"
   ]
  },
  {
   "cell_type": "code",
   "execution_count": null,
   "metadata": {},
   "outputs": [],
   "source": [
    "assert gr_1.shape[0]==gr_1a.shape[0]+gr_1b.shape[0]+gr_1c.shape[0]"
   ]
  },
  {
   "cell_type": "code",
   "execution_count": null,
   "metadata": {},
   "outputs": [],
   "source": [
    "gr_2 = select_group_2(drug_curves, response_norm)\n",
    "gr_2.shape"
   ]
  },
  {
   "cell_type": "code",
   "execution_count": null,
   "metadata": {},
   "outputs": [],
   "source": [
    "gr_2a = select_group_2a(drug_curves, response_norm, Y_LOWER_LIMIT)\n",
    "gr_2a.shape"
   ]
  },
  {
   "cell_type": "code",
   "execution_count": null,
   "metadata": {},
   "outputs": [],
   "source": [
    "%%time\n",
    "fit_functions = [\"sigmoid_4_param\",\"logistic_4_param\"]\n",
    "\n",
    "gr_2b = select_group_2b(gr_2.loc[list(set(gr_2.index)-set(gr_2a.index))],\n",
    "                        fit_functions, conc_columns, response_norm,\n",
    "                        y_lower_limit =Y_LOWER_LIMIT, r2_limit= R2_LIMIT\n",
    "                       )\n",
    "gr_2b.shape "
   ]
  },
  {
   "cell_type": "code",
   "execution_count": null,
   "metadata": {},
   "outputs": [],
   "source": [
    "gr_2c = gr_2.loc[list(set(gr_2.index)-set(gr_2a.index)-set(gr_2b.index))]\n",
    "gr_2c.shape"
   ]
  },
  {
   "cell_type": "code",
   "execution_count": null,
   "metadata": {},
   "outputs": [],
   "source": [
    "assert gr_2.shape[0]==gr_2a.shape[0]+gr_2b.shape[0]+gr_2c.shape[0]"
   ]
  },
  {
   "cell_type": "markdown",
   "metadata": {},
   "source": [
    "### Save figures for the paper"
   ]
  },
  {
   "cell_type": "code",
   "execution_count": null,
   "metadata": {},
   "outputs": [],
   "source": [
    "# group_1a\n",
    "group = \"1a\"\n",
    "drug_id = 205\n",
    "ccl_name = \"ES6\"\n",
    "one_fig_no_fitting(gr_1, drug_id=drug_id, ccl_name=ccl_name, size=4, dpi=500,\n",
    "                x_columns = conc_columns, y_columns = response_norm, \n",
    "                upper_limit=1, lower_limit=None, \n",
    "                save_fig_name=f\"figures/gr_{group}_{drug_id}_{ccl_name}.png\"\n",
    "               )"
   ]
  },
  {
   "cell_type": "code",
   "execution_count": null,
   "metadata": {},
   "outputs": [],
   "source": [
    "# group_1b\n",
    "group = \"1b\"\n",
    "drug_id = 245\n",
    "ccl_name = \"HDQ-P1\"\n",
    "OneFigNoFitting(gr_1b, drug_id=drug_id, ccl_name=ccl_name, size=4, dpi=500,\n",
    "                x_columns = conc_columns, y_columns = response_norm, \n",
    "                upper_limit=1, lower_limit=None, \n",
    "                save_fig_name=f\"figures/gr_{group}_{drug_id}_{ccl_name}.png\"\n",
    "               )"
   ]
  },
  {
   "cell_type": "code",
   "execution_count": null,
   "metadata": {},
   "outputs": [],
   "source": [
    "# group_1c\n",
    "group = \"1c\"\n",
    "drug_id = 56\n",
    "ccl_name = \"RKO\"\n",
    "OneFigNoFitting(gr_1c, drug_id=drug_id, ccl_name=ccl_name, size=4, dpi=500,\n",
    "                x_columns = conc_columns, y_columns = response_norm, \n",
    "                upper_limit=1, lower_limit=None, \n",
    "                save_fig_name=f\"figures/gr_{group}_{drug_id}_{ccl_name}.png\"\n",
    "               )"
   ]
  },
  {
   "cell_type": "code",
   "execution_count": null,
   "metadata": {},
   "outputs": [],
   "source": [
    "# group_2a\n",
    "group = \"2a\"\n",
    "drug_id = 223\n",
    "ccl_name = \"HDQ-P1\"\n",
    "OneFigNoFitting(gr_2a, drug_id=drug_id, ccl_name=ccl_name, size=4, dpi=500,\n",
    "                x_columns = conc_columns, y_columns = response_norm, \n",
    "                upper_limit=1, lower_limit=None, \n",
    "                save_fig_name=f\"figures/gr_{group}_{drug_id}_{ccl_name}.png\"\n",
    "               )"
   ]
  },
  {
   "cell_type": "code",
   "execution_count": null,
   "metadata": {},
   "outputs": [],
   "source": [
    "# group_2b\n",
    "group = \"2b\"\n",
    "drug_id = 252\n",
    "ccl_name = \"SK-MEL-30\"\n",
    "OneFigNoFitting(gr_2b, drug_id=drug_id, ccl_name=ccl_name, size=4, dpi=500,\n",
    "                x_columns = conc_columns, y_columns = response_norm, \n",
    "                upper_limit=1, lower_limit=None, \n",
    "                save_fig_name=f\"figures/gr_{group}_{drug_id}_{ccl_name}.png\"\n",
    "               )"
   ]
  },
  {
   "cell_type": "code",
   "execution_count": null,
   "metadata": {},
   "outputs": [],
   "source": [
    "gr_2c.sample(5)"
   ]
  },
  {
   "cell_type": "code",
   "execution_count": null,
   "metadata": {},
   "outputs": [],
   "source": [
    "# group_2c\n",
    "group = \"2c\"\n",
    "drug_id = 1242\n",
    "ccl_name = \"CAL-29\"\n",
    "OneFigNoFitting(gr_2c, drug_id=drug_id, ccl_name=ccl_name, size=4, dpi=500,\n",
    "                x_columns = conc_columns, y_columns = response_norm, \n",
    "                upper_limit=1, lower_limit=None, \n",
    "                save_fig_name=f\"figures/gr_{group}_{drug_id}_{ccl_name}.png\"\n",
    "               )"
   ]
  },
  {
   "cell_type": "code",
   "execution_count": null,
   "metadata": {},
   "outputs": [],
   "source": []
  },
  {
   "cell_type": "code",
   "execution_count": null,
   "metadata": {},
   "outputs": [],
   "source": [
    "def OneFigNoFitting(df, drug_id, ccl_name, \n",
    "                    x_columns, y_columns, size=8,dpi=300,\n",
    "                    upper_limit=None, lower_limit=None, save_fig_name=None):\n",
    "    \n",
    "    ind = df[(df[\"DRUG_ID\"]==drug_id)&(df[\"CELL_LINE_NAME\"]==ccl_name)].index\n",
    "    drug_name = df.loc[ind, \"drug_name\"].values[0]\n",
    "    \n",
    "    print(f\"Drug: {drug_name} ({drug_id}) / CCL: {ccl_name}\")# % drug_name +str(drug_id) +\" / CCL: \"+ str(ccl_name))\n",
    "    x = df.loc[ind, x_columns]\n",
    "    y = df.loc[ind, y_columns].values[0] #possible problems are here\n",
    "    \n",
    "    plt.figure(figsize=(size, size))\n",
    "    if max(y)>1:\n",
    "        max_y= max(y)+0.1\n",
    "    else:\n",
    "        max_y = 1.1\n",
    "    plt.ylim([0, max_y])\n",
    "    plt.scatter(x,y)\n",
    "    \n",
    "    plt.xlabel(\"Scaled dosage\")\n",
    "    plt.ylabel(\"Normalised response\")\n",
    "    if upper_limit:\n",
    "        plt.axhline(upper_limit,color='red',ls='--')\n",
    "    if lower_limit:\n",
    "        plt.axhline(lower_limit, color='black',ls='--')\n",
    "\n",
    "    plt.tick_params(labelsize=14)\n",
    "    plt.xlabel(\"Scaled dosage\", fontsize=14)\n",
    "    plt.ylabel(\"Normalised Response\", fontsize=14)\n",
    "    if save_fig_name:\n",
    "        \n",
    "        plt.savefig(save_fig_name, bbox_inches='tight', dpi=dpi)\n",
    "        plt.show();\n",
    "    else:\n",
    "        plt.show();\n",
    "        "
   ]
  },
  {
   "cell_type": "code",
   "execution_count": null,
   "metadata": {},
   "outputs": [],
   "source": []
  },
  {
   "cell_type": "code",
   "execution_count": null,
   "metadata": {},
   "outputs": [],
   "source": []
  },
  {
   "cell_type": "markdown",
   "metadata": {},
   "source": [
    "## Ambigous data: Are some points wrong?"
   ]
  },
  {
   "cell_type": "code",
   "execution_count": null,
   "metadata": {},
   "outputs": [],
   "source": [
    "specific_samples = [(\"YK-4-279\", \"HSC-2\"),\n",
    "                    (\"YK-4-279\", \"PCI-38\"),\n",
    "                   (\"QL-VIII-58\", \"SKM-1\"),\n",
    "                    (\"(5Z)-7-Oxozeaenol\", \"HT-1080\")\n",
    "                   ]\n",
    "ShowSpecific(drug_curves, specific_samples, conc_columns, response_norm)"
   ]
  },
  {
   "cell_type": "markdown",
   "metadata": {},
   "source": [
    "# Part 3: Explore  curves with normalised responses above 1.0"
   ]
  },
  {
   "cell_type": "code",
   "execution_count": null,
   "metadata": {},
   "outputs": [],
   "source": [
    "%%time\n",
    "# Number of responses > 1\n",
    "drug_curves[\"high_responses\"] = drug_curves[response_norm].apply(lambda row: sum(row>1), axis=1)\n",
    "drug_curves[[\"high_responses\"]+ response_norm]"
   ]
  },
  {
   "cell_type": "code",
   "execution_count": null,
   "metadata": {},
   "outputs": [],
   "source": [
    "bad_data = drug_curves[drug_curves[\"high_responses\"]>1]\n",
    "print(\"Original data:\", drug_curves.shape)\n",
    "print(\"Ambiguos data:\", bad_data.shape)"
   ]
  },
  {
   "cell_type": "markdown",
   "metadata": {},
   "source": [
    "### Note: Half of the data can be regarded as ambiguous!!!"
   ]
  },
  {
   "cell_type": "code",
   "execution_count": null,
   "metadata": {},
   "outputs": [],
   "source": [
    "bad_data[\"high_responses\"].value_counts()"
   ]
  },
  {
   "cell_type": "markdown",
   "metadata": {},
   "source": [
    "## Bad data by CCL"
   ]
  },
  {
   "cell_type": "markdown",
   "metadata": {},
   "source": [
    "## Check whether bad data are actually bad"
   ]
  },
  {
   "cell_type": "code",
   "execution_count": null,
   "metadata": {},
   "outputs": [],
   "source": [
    "df = bad_data\n",
    "ShowResponseCurves(df, plots_in_row=3, plots_in_column=3, \\\n",
    "                   x_columns=conc_columns, y_columns=response_norm, indexes=df.index[:9],\n",
    "                  drug_dict = drug_names, CCL_dict = CCL_names, upper_limit=1)"
   ]
  },
  {
   "cell_type": "markdown",
   "metadata": {},
   "source": [
    "## Samples with 2 bad responses"
   ]
  },
  {
   "cell_type": "code",
   "execution_count": null,
   "metadata": {},
   "outputs": [],
   "source": [
    "N = 2\n",
    "df = bad_data[bad_data[\"high_responses\"]==N]\n",
    "print(\"Number of samples with %d bad responses: %d\" % (N, df.shape[0]))\n",
    "\n",
    "ShowResponseCurves(df, plots_in_row=3, plots_in_column=3, \\\n",
    "                   x_columns=conc_columns, y_columns=response_norm, indexes=df.index[20:29],\n",
    "                  drug_dict = drug_names, CCL_dict = CCL_names)"
   ]
  },
  {
   "cell_type": "markdown",
   "metadata": {},
   "source": [
    "### Among samples with only 2 norm_responses >1 some data are not so bad"
   ]
  },
  {
   "cell_type": "code",
   "execution_count": null,
   "metadata": {},
   "outputs": [],
   "source": [
    "specific_samples = [(\"Etoposide\", \"HDQ-P1\"),\n",
    "                    (\"SNX-2112\", \"NMC-G1\"),\n",
    "                    (\"Shikonin\", \"JHH-2\"),\n",
    "                    (\"SNX-2112\", \"BT-474\")\n",
    "                   ]\n",
    "ShowSpecific(bad_data, specific_samples, conc_columns, response_norm, upper_limit=1, lower_limit=0.2)"
   ]
  },
  {
   "cell_type": "code",
   "execution_count": null,
   "metadata": {},
   "outputs": [],
   "source": [
    "N = 2\n",
    "df = bad_data[(bad_data[\"high_responses\"]==N) & (bad_data[\"norm_cells_9\"]<0.2) & (bad_data[\"norm_cells_8\"]<0.2)]\n",
    "print(\"Number of samples with %d bad responses, but with 2 last responses below 0.2: %d\" % (N, df.shape[0]))\n",
    "\n",
    "ShowResponseCurves(df, plots_in_row=3, plots_in_column=3, \\\n",
    "                   x_columns=conc_columns, y_columns=response_norm, indexes=df.index[:9],\n",
    "                  drug_dict = drug_names, CCL_dict = CCL_names, upper_limit=1)"
   ]
  },
  {
   "cell_type": "markdown",
   "metadata": {},
   "source": [
    "### Conclusion - we can't delete just samples which with 2 responses>1.0\n",
    "### The question: What is the accuracy of measuring responses? <br>Can we treat samples with responses up to 1.01 as valid ones?"
   ]
  },
  {
   "cell_type": "markdown",
   "metadata": {},
   "source": [
    "## Samples with 3 bad responses"
   ]
  },
  {
   "cell_type": "code",
   "execution_count": null,
   "metadata": {},
   "outputs": [],
   "source": [
    "N = 3\n",
    "df = bad_data[bad_data[\"high_responses\"]==N]\n",
    "print(\"Number of samples with %d bad responses: %d\" % (N, df.shape[0]))\n",
    "\n",
    "ShowResponseCurves(df, plots_in_row=3, plots_in_column=3, \\\n",
    "                   x_columns=conc_columns, y_columns=response_norm, indexes=df.index[30:39],\n",
    "                  drug_dict = drug_names, CCL_dict = CCL_names)"
   ]
  },
  {
   "cell_type": "code",
   "execution_count": null,
   "metadata": {},
   "outputs": [],
   "source": [
    "specific_samples = [(\"THZ-2-49\", \"HDQ-P1\"),\n",
    "                    (\"Vinorelbine\", \"NMC-G1\"),\n",
    "                    (\"Dacinostat\", \"JHH-2\"),\n",
    "                    (\"Dacinostat\", \"LU-65\")\n",
    "                   ]\n",
    "ShowSpecific(bad_data, specific_samples, conc_columns, response_norm, upper_limit=1, lower_limit=0.2)"
   ]
  },
  {
   "cell_type": "code",
   "execution_count": null,
   "metadata": {},
   "outputs": [],
   "source": [
    "N = 3\n",
    "df = bad_data[(bad_data[\"high_responses\"]==N) & (bad_data[\"norm_cells_9\"]<0.2) & (bad_data[\"norm_cells_8\"]<0.2)]\n",
    "print(\"Number of samples with %d bad responses, but with 2 last responses below 0.2: %d\" % (N, df.shape[0]))\n",
    "\n",
    "ShowResponseCurves(df, plots_in_row=3, plots_in_column=3, \\\n",
    "                   x_columns=conc_columns, y_columns=response_norm, indexes=df.index[:9],\n",
    "                  drug_dict = drug_names, CCL_dict = CCL_names, upper_limit=1)"
   ]
  },
  {
   "cell_type": "markdown",
   "metadata": {},
   "source": [
    "## Samples with 4 bad responses "
   ]
  },
  {
   "cell_type": "code",
   "execution_count": null,
   "metadata": {},
   "outputs": [],
   "source": [
    "N = 4\n",
    "df = bad_data[bad_data[\"high_responses\"]==N]\n",
    "print(\"Number of samples with %d bad responses: %d\" % (N, df.shape[0]))\n",
    "\n",
    "ShowResponseCurves(df, plots_in_row=3, plots_in_column=3, \\\n",
    "                   x_columns=conc_columns, y_columns=response_norm, indexes=df.index[20:29],\n",
    "                  drug_dict = drug_names, CCL_dict = CCL_names)"
   ]
  },
  {
   "cell_type": "code",
   "execution_count": null,
   "metadata": {},
   "outputs": [],
   "source": [
    "specific_samples = [(\"THZ-2-49\", \"HDQ-P1\"),\n",
    "                    (\"Cabozantinib\", \"NMC-G1\"),\n",
    "                    (\"Dacinostat\", \"JHH-2\"),\n",
    "                    (\"JNK-9L\", \"BT-474\")\n",
    "                   ]\n",
    "ShowSpecific(bad_data, specific_samples, conc_columns, response_norm, upper_limit=1, lower_limit=0.2)"
   ]
  },
  {
   "cell_type": "code",
   "execution_count": null,
   "metadata": {},
   "outputs": [],
   "source": [
    "N = 4\n",
    "df = bad_data[(bad_data[\"high_responses\"]==N) & (bad_data[\"norm_cells_9\"]<0.2) & (bad_data[\"norm_cells_8\"]<0.2)]\n",
    "print(\"Number of samples with %d bad responses, but with 2 last responses below 0.2: %d\" % (N, df.shape[0]))\n",
    "\n",
    "ShowResponseCurves(df, plots_in_row=3, plots_in_column=3, \\\n",
    "                   x_columns=conc_columns, y_columns=response_norm, indexes=df.index[:9],\n",
    "                  drug_dict = drug_names, CCL_dict = CCL_names, upper_limit=1)"
   ]
  },
  {
   "cell_type": "markdown",
   "metadata": {},
   "source": [
    "## Samples with 5+ bad responses"
   ]
  },
  {
   "cell_type": "code",
   "execution_count": null,
   "metadata": {},
   "outputs": [],
   "source": [
    "N = 5\n",
    "df = bad_data[bad_data[\"high_responses\"]>=N]\n",
    "print(\"Number of samples with more than %d bad responses: %d\" % (N, df.shape[0]))\n",
    "\n",
    "ShowResponseCurves(df, plots_in_row=3, plots_in_column=3, \\\n",
    "                   x_columns=conc_columns, y_columns=response_norm, indexes=df.index[20:29],\n",
    "                  drug_dict = drug_names, CCL_dict = CCL_names)"
   ]
  },
  {
   "cell_type": "code",
   "execution_count": null,
   "metadata": {},
   "outputs": [],
   "source": [
    "N = 5\n",
    "df = bad_data[(bad_data[\"high_responses\"]==N) & (bad_data[\"norm_cells_9\"]<0.2) & (bad_data[\"norm_cells_8\"]<0.2)]\n",
    "print(\"Number of samples with %d bad responses, but with 2 last responses below 0.2: %d\" % (N, df.shape[0]))\n",
    "\n",
    "ShowResponseCurves(df, plots_in_row=3, plots_in_column=3, \\\n",
    "                   x_columns=conc_columns, y_columns=response_norm, indexes=df.index[:9],\n",
    "                  drug_dict = drug_names, CCL_dict = CCL_names, upper_limit=1)"
   ]
  },
  {
   "cell_type": "code",
   "execution_count": null,
   "metadata": {},
   "outputs": [],
   "source": [
    "N = 6\n",
    "df = bad_data[(bad_data[\"high_responses\"]==N) & (bad_data[\"norm_cells_9\"]<0.2) & (bad_data[\"norm_cells_8\"]<0.2)]\n",
    "print(\"Number of samples with %d bad responses, but with 2 last responses below 0.2: %d\" % (N, df.shape[0]))\n",
    "\n",
    "ShowResponseCurves(df, plots_in_row=3, plots_in_column=3, \\\n",
    "                   x_columns=conc_columns, y_columns=response_norm, indexes=df.index[:9],\n",
    "                  drug_dict = drug_names, CCL_dict = CCL_names, upper_limit=1)"
   ]
  },
  {
   "cell_type": "code",
   "execution_count": null,
   "metadata": {},
   "outputs": [],
   "source": [
    "N = 7\n",
    "df = bad_data[(bad_data[\"high_responses\"]==N) & (bad_data[\"norm_cells_9\"]<0.2) & (bad_data[\"norm_cells_8\"]<0.2)]\n",
    "print(\"Number of samples with %d bad responses, but with 2 last responses below 0.2: %d\" % (N, df.shape[0]))\n",
    "\n",
    "ShowResponseCurves(df, plots_in_row=3, plots_in_column=3, \\\n",
    "                   x_columns=conc_columns, y_columns=response_norm, indexes=df.index[:9],\n",
    "                  drug_dict = drug_names, CCL_dict = CCL_names, upper_limit=1)"
   ]
  },
  {
   "cell_type": "code",
   "execution_count": null,
   "metadata": {},
   "outputs": [],
   "source": [
    "N = 8\n",
    "df = bad_data[(bad_data[\"high_responses\"]==N) & (bad_data[\"norm_cells_9\"]<0.2) & (bad_data[\"norm_cells_8\"]<0.2)]\n",
    "print(\"Number of samples with %d bad responses, but with 2 last responses below 0.2: %d\" % (N, df.shape[0]))\n",
    "\n",
    "ShowResponseCurves(df, plots_in_row=3, plots_in_column=3, \\\n",
    "                   x_columns=conc_columns, y_columns=response_norm, indexes=df.index[:9],\n",
    "                  drug_dict = drug_names, CCL_dict = CCL_names, upper_limit=1)"
   ]
  },
  {
   "cell_type": "code",
   "execution_count": null,
   "metadata": {},
   "outputs": [],
   "source": [
    "N = 9\n",
    "df = bad_data[(bad_data[\"high_responses\"]==N) & (bad_data[\"norm_cells_9\"]<0.2) & (bad_data[\"norm_cells_8\"]<0.2)]\n",
    "print(\"Number of samples with %d bad responses, but with 2 last responses below 0.2: %d\" % (N, df.shape[0]))\n",
    "\n",
    "ShowResponseCurves(df, plots_in_row=3, plots_in_column=3, \\\n",
    "                   x_columns=conc_columns, y_columns=response_norm, indexes=df.index[:9],\n",
    "                  drug_dict = drug_names, CCL_dict = CCL_names, upper_limit=1)"
   ]
  },
  {
   "cell_type": "markdown",
   "metadata": {},
   "source": [
    "### Conclusion from Part 3: Curves with up to 7 suspiciously high normalised responses look pretty reasonable"
   ]
  },
  {
   "cell_type": "markdown",
   "metadata": {},
   "source": [
    "## Part 4: Explore curves with normalised response above 1 but low final response"
   ]
  },
  {
   "cell_type": "code",
   "execution_count": null,
   "metadata": {},
   "outputs": [],
   "source": [
    "%%time\n",
    "drug_curves[\"low_response_02\"] = drug_curves[response_norm].apply(lambda row: sum(row<=0.2), axis=1)\n",
    "drug_curves[\"low_response_04\"] = drug_curves[response_norm].apply(lambda row: sum(row<=0.4), axis=1)"
   ]
  },
  {
   "cell_type": "code",
   "execution_count": null,
   "metadata": {},
   "outputs": [],
   "source": [
    "not_bad_02 = drug_curves[(drug_curves[\"high_responses\"]>1) & (drug_curves[\"low_response_02\"])]\n",
    "not_bad_04 = drug_curves[(drug_curves[\"high_responses\"]>1) & (drug_curves[\"low_response_04\"])]\n",
    "print(\"Number of all suspicious samples:\", bad_data.shape[0])\n",
    "print(\"\\nNumber of potentionally good samples among all bad data:\")\n",
    "print(\"With responses below 0.2:\", not_bad_02.shape[0])\n",
    "print(\"With responses below 0.4:\", not_bad_04.shape[0])"
   ]
  },
  {
   "cell_type": "code",
   "execution_count": null,
   "metadata": {},
   "outputs": [],
   "source": [
    "not_bad_02[\"low_response_02\"].value_counts()"
   ]
  },
  {
   "cell_type": "code",
   "execution_count": null,
   "metadata": {},
   "outputs": [],
   "source": [
    "not_bad_04[\"low_response_04\"].value_counts()"
   ]
  },
  {
   "cell_type": "code",
   "execution_count": null,
   "metadata": {},
   "outputs": [],
   "source": [
    "df = not_bad_02[not_bad_02[\"low_response_02\"]==7]\n",
    "\n",
    "ShowResponseCurves(df, plots_in_row=3, plots_in_column=3, \\\n",
    "                   x_columns=conc_columns, y_columns=response_norm, indexes=df.index[:9],\n",
    "                  drug_dict = drug_names, CCL_dict = CCL_names, upper_limit=1)"
   ]
  },
  {
   "cell_type": "markdown",
   "metadata": {},
   "source": [
    "# Part 5: Repeat with an additional constrain \n",
    "## Among all \"middle\" datapoints a subsequent point should not be higher than antecedent by some limit"
   ]
  },
  {
   "cell_type": "code",
   "execution_count": null,
   "metadata": {},
   "outputs": [],
   "source": [
    "not_bad_02_2 = CutOffOutliers(drug_curves, middle_points_limit=-0.2, response_columns = response_norm)\n",
    "\n",
    "print(\"Before filtration: %d, After filtration: %d\" % (not_bad_04.shape[0], not_bad_02_2.shape[0]))\n",
    "not_bad_02_2[\"low_response_02\"].value_counts()"
   ]
  },
  {
   "cell_type": "code",
   "execution_count": null,
   "metadata": {},
   "outputs": [],
   "source": [
    "df = not_bad_02_2[not_bad_02_2[\"low_response_02\"]==1]\n",
    "ShowResponseCurves(df, plots_in_row=3, plots_in_column=3, \\\n",
    "                   x_columns=conc_columns, y_columns=response_norm, indexes=df.index[:9],\n",
    "                  drug_dict = drug_names, CCL_dict = CCL_names, upper_limit=1)"
   ]
  }
 ],
 "metadata": {
  "anaconda-cloud": {},
  "kernelspec": {
   "display_name": "Python 3",
   "language": "python",
   "name": "python3"
  },
  "language_info": {
   "codemirror_mode": {
    "name": "ipython",
    "version": 3
   },
   "file_extension": ".py",
   "mimetype": "text/x-python",
   "name": "python",
   "nbconvert_exporter": "python",
   "pygments_lexer": "ipython3",
   "version": "3.6.10"
  }
 },
 "nbformat": 4,
 "nbformat_minor": 2
}
