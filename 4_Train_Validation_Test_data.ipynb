{
 "cells": [
  {
   "cell_type": "markdown",
   "metadata": {},
   "source": [
    "## Merging filtered and fit data with CCL properties"
   ]
  },
  {
   "cell_type": "code",
   "execution_count": 1,
   "metadata": {},
   "outputs": [],
   "source": [
    "import pandas as pd\n",
    "import numpy as np\n",
    "\n",
    "from tqdm import tqdm\n",
    "import warnings\n",
    "warnings.filterwarnings(\"ignore\")\n",
    "\n",
    "import os\n",
    "_FOLDER = \"results/\""
   ]
  },
  {
   "cell_type": "code",
   "execution_count": 2,
   "metadata": {},
   "outputs": [],
   "source": [
    "df_list = [\"fit_1234_02_merged.csv\", \"fit_auc_02_merged.csv\", \"fit_no_filt_merged.csv\"]"
   ]
  },
  {
   "cell_type": "code",
   "execution_count": 3,
   "metadata": {},
   "outputs": [
    {
     "data": {
      "text/html": [
       "<div>\n",
       "<style scoped>\n",
       "    .dataframe tbody tr th:only-of-type {\n",
       "        vertical-align: middle;\n",
       "    }\n",
       "\n",
       "    .dataframe tbody tr th {\n",
       "        vertical-align: top;\n",
       "    }\n",
       "\n",
       "    .dataframe thead th {\n",
       "        text-align: right;\n",
       "    }\n",
       "</style>\n",
       "<table border=\"1\" class=\"dataframe\">\n",
       "  <thead>\n",
       "    <tr style=\"text-align: right;\">\n",
       "      <th></th>\n",
       "      <th>CELL_LINE_NAME</th>\n",
       "      <th>COSMIC_ID</th>\n",
       "      <th>DRUG_ID</th>\n",
       "      <th>DRUGID_COSMICID</th>\n",
       "      <th>FOLD_DILUTION</th>\n",
       "      <th>MAX_CONC</th>\n",
       "      <th>fd_num_0</th>\n",
       "      <th>fd_num_1</th>\n",
       "      <th>fd_num_2</th>\n",
       "      <th>fd_num_3</th>\n",
       "      <th>...</th>\n",
       "      <th>chr9:104248247-104249501(C9orf125)_HypMET</th>\n",
       "      <th>chr9:115875199-115875738(C9orf109, C9orf110)_HypMET</th>\n",
       "      <th>chr9:123555399-123555899(FBXW2)_HypMET</th>\n",
       "      <th>chr9:140310894-140312457(EXD3)_HypMET</th>\n",
       "      <th>chr9:21974578-21975306(CDKN2A)_HypMET</th>\n",
       "      <th>chr9:35756948-35757339(MSMP)_HypMET</th>\n",
       "      <th>chr9:35791584-35791924(NPR2)_HypMET</th>\n",
       "      <th>chr9:4984543-4985630(JAK2)_HypMET</th>\n",
       "      <th>chr9:86571047-86572027(C9orf64)_HypMET</th>\n",
       "      <th>chr9:98783216-98784364(NCRNA00092)_HypMET</th>\n",
       "    </tr>\n",
       "  </thead>\n",
       "  <tbody>\n",
       "    <tr>\n",
       "      <th>0</th>\n",
       "      <td>SF539</td>\n",
       "      <td>905984</td>\n",
       "      <td>200</td>\n",
       "      <td>200_905984</td>\n",
       "      <td>2</td>\n",
       "      <td>1.024</td>\n",
       "      <td>0</td>\n",
       "      <td>0.111111</td>\n",
       "      <td>0.222222</td>\n",
       "      <td>0.333333</td>\n",
       "      <td>...</td>\n",
       "      <td>0</td>\n",
       "      <td>0</td>\n",
       "      <td>0</td>\n",
       "      <td>0</td>\n",
       "      <td>0</td>\n",
       "      <td>0</td>\n",
       "      <td>0</td>\n",
       "      <td>0</td>\n",
       "      <td>1</td>\n",
       "      <td>1</td>\n",
       "    </tr>\n",
       "    <tr>\n",
       "      <th>1</th>\n",
       "      <td>SF539</td>\n",
       "      <td>905984</td>\n",
       "      <td>235</td>\n",
       "      <td>235_905984</td>\n",
       "      <td>2</td>\n",
       "      <td>10.240</td>\n",
       "      <td>0</td>\n",
       "      <td>0.111111</td>\n",
       "      <td>0.222222</td>\n",
       "      <td>0.333333</td>\n",
       "      <td>...</td>\n",
       "      <td>0</td>\n",
       "      <td>0</td>\n",
       "      <td>0</td>\n",
       "      <td>0</td>\n",
       "      <td>0</td>\n",
       "      <td>0</td>\n",
       "      <td>0</td>\n",
       "      <td>0</td>\n",
       "      <td>1</td>\n",
       "      <td>1</td>\n",
       "    </tr>\n",
       "  </tbody>\n",
       "</table>\n",
       "<p>2 rows × 1141 columns</p>\n",
       "</div>"
      ],
      "text/plain": [
       "  CELL_LINE_NAME  COSMIC_ID  DRUG_ID DRUGID_COSMICID  FOLD_DILUTION  MAX_CONC  \\\n",
       "0          SF539     905984      200      200_905984              2     1.024   \n",
       "1          SF539     905984      235      235_905984              2    10.240   \n",
       "\n",
       "   fd_num_0  fd_num_1  fd_num_2  fd_num_3  ...  \\\n",
       "0         0  0.111111  0.222222  0.333333  ...   \n",
       "1         0  0.111111  0.222222  0.333333  ...   \n",
       "\n",
       "   chr9:104248247-104249501(C9orf125)_HypMET  \\\n",
       "0                                          0   \n",
       "1                                          0   \n",
       "\n",
       "   chr9:115875199-115875738(C9orf109, C9orf110)_HypMET  \\\n",
       "0                                                  0     \n",
       "1                                                  0     \n",
       "\n",
       "   chr9:123555399-123555899(FBXW2)_HypMET  \\\n",
       "0                                       0   \n",
       "1                                       0   \n",
       "\n",
       "   chr9:140310894-140312457(EXD3)_HypMET  \\\n",
       "0                                      0   \n",
       "1                                      0   \n",
       "\n",
       "   chr9:21974578-21975306(CDKN2A)_HypMET  chr9:35756948-35757339(MSMP)_HypMET  \\\n",
       "0                                      0                                    0   \n",
       "1                                      0                                    0   \n",
       "\n",
       "   chr9:35791584-35791924(NPR2)_HypMET  chr9:4984543-4985630(JAK2)_HypMET  \\\n",
       "0                                    0                                  0   \n",
       "1                                    0                                  0   \n",
       "\n",
       "   chr9:86571047-86572027(C9orf64)_HypMET  \\\n",
       "0                                       1   \n",
       "1                                       1   \n",
       "\n",
       "   chr9:98783216-98784364(NCRNA00092)_HypMET  \n",
       "0                                          1  \n",
       "1                                          1  \n",
       "\n",
       "[2 rows x 1141 columns]"
      ]
     },
     "execution_count": 3,
     "metadata": {},
     "output_type": "execute_result"
    }
   ],
   "source": [
    "df = pd.read_csv(_FOLDER + \"fit_1234_02_merged.csv\")\n",
    "df.head(2)"
   ]
  },
  {
   "cell_type": "code",
   "execution_count": 4,
   "metadata": {},
   "outputs": [
    {
     "data": {
      "text/plain": [
       "(1427, 1427)"
      ]
     },
     "execution_count": 4,
     "metadata": {},
     "output_type": "execute_result"
    }
   ],
   "source": [
    "df.shape[0], df[\"DRUGID_COSMICID\"].nunique()"
   ]
  },
  {
   "cell_type": "markdown",
   "metadata": {},
   "source": [
    "### Split into train and test data with more than 10 record per drug"
   ]
  },
  {
   "cell_type": "code",
   "execution_count": 5,
   "metadata": {},
   "outputs": [
    {
     "name": "stdout",
     "output_type": "stream",
     "text": [
      "Number of drugs with more than 10 profiles: 41\n",
      "(899, 1140) (255, 1140)\n"
     ]
    }
   ],
   "source": [
    "gr = df.groupby(\"DRUG_ID\").size()\n",
    "drugs = gr[gr>10].index\n",
    "print(\"Number of drugs with more than 10 profiles:\", len(drugs))        \n",
    "\n",
    "train_ratio = 0.8\n",
    "train = pd.DataFrame()\n",
    "test = pd.DataFrame()\n",
    "np.random.seed(123)\n",
    "indexes = np.random.permutation(df.index)\n",
    "\n",
    "for drug_id in drugs:\n",
    "    df_i = df[df[\"DRUG_ID\"]==drug_id]\n",
    "    indexes = np.random.permutation(df_i.index)\n",
    "    train_size = int(df_i.shape[0]*train_ratio)\n",
    "    indexes_train = indexes[:train_size]\n",
    "    indexes_test = indexes[train_size:]\n",
    "    train = pd.concat([train, df_i.loc[indexes_train, :]])\n",
    "    test = pd.concat([test, df_i.loc[indexes_test, :]])\n",
    "    \n",
    "train.set_index(\"DRUGID_COSMICID\", inplace=True)\n",
    "test.set_index(\"DRUGID_COSMICID\", inplace=True)\n",
    "\n",
    "print(train.shape, test.shape)\n",
    "\n",
    "with open(_FOLDER +\"train_10.txt\", 'w') as f:\n",
    "    for s in train.index:\n",
    "        f.write(str(s) + '\\n')\n",
    "        \n",
    "with open(_FOLDER +\"test_10.txt\", 'w') as f:\n",
    "    for s in test.index:\n",
    "        f.write(str(s) + '\\n')"
   ]
  },
  {
   "cell_type": "markdown",
   "metadata": {},
   "source": [
    "### Possible scenarios:\n",
    "- drug-by-drug learning, i.e separate models for each fitting coefficients for each drug\n",
    "- all drugs - one model for each coefficients for all drugs\n",
    "- all data - one model for each response for all drugs and drug profiles"
   ]
  },
  {
   "cell_type": "code",
   "execution_count": null,
   "metadata": {},
   "outputs": [],
   "source": []
  }
 ],
 "metadata": {
  "anaconda-cloud": {},
  "kernelspec": {
   "display_name": "Python 3",
   "language": "python",
   "name": "python3"
  },
  "language_info": {
   "codemirror_mode": {
    "name": "ipython",
    "version": 3
   },
   "file_extension": ".py",
   "mimetype": "text/x-python",
   "name": "python",
   "nbconvert_exporter": "python",
   "pygments_lexer": "ipython3",
   "version": "3.6.10"
  }
 },
 "nbformat": 4,
 "nbformat_minor": 2
}
