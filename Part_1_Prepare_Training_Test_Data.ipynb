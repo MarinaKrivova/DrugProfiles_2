{
 "cells": [
  {
   "cell_type": "code",
   "execution_count": 1,
   "metadata": {},
   "outputs": [],
   "source": [
    "import pandas as pd\n",
    "import numpy as np\n",
    "import os\n",
    "import gc\n",
    "import matplotlib.pyplot as plt\n",
    "\n",
    "_FOLDER = \"data/\"\n",
    "_FOLDER_2 = \"figures/\"\n",
    "_FOLDER_3 = \"results/\"\n",
    "SAVE_FIGURES = False\n",
    "\n",
    "from filtering import *\n",
    "from fitting import *\n",
    "from pubchem_processing import *\n",
    "from merging import *"
   ]
  },
  {
   "cell_type": "code",
   "execution_count": 2,
   "metadata": {},
   "outputs": [],
   "source": [
    "functions = [\n",
    "             \"fsigmoid\", \n",
    "             \"sigmoid_2_param\",\n",
    "             \"sigmoid_3_param\",\n",
    "             \"sigmoid_4_param\",\n",
    "             \"logistic_4_param\",\n",
    "            \"ll4_4_param\",\n",
    "            \"ll4R_4_param\",\n",
    "            \"logLogist_3_param\"]\n",
    "\n",
    "load_drug_properties = True"
   ]
  },
  {
   "cell_type": "code",
   "execution_count": 3,
   "metadata": {},
   "outputs": [],
   "source": [
    "drug_curves = pd.read_csv(_FOLDER+\"normalised_dose_response_data.csv\").drop(\"Unnamed: 0\", axis=1)\n",
    "conc_columns= [\"fd_num_\"+str(i) for i in range(10)]\n",
    "response_norm = ['norm_cells_'+str(i) for i in range(10)]\n",
    "cell_features = pd.read_csv(_FOLDER +\"Cell_Line_Features_PANCAN_simple_MOBEM.tsv\", sep=\"\\t\")"
   ]
  },
  {
   "cell_type": "code",
   "execution_count": 4,
   "metadata": {},
   "outputs": [
    {
     "data": {
      "text/plain": [
       "True"
      ]
     },
     "execution_count": 4,
     "metadata": {},
     "output_type": "execute_result"
    }
   ],
   "source": [
    "drug_curves.shape[0] == drug_curves[\"DRUGID_COSMICID\"].nunique()"
   ]
  },
  {
   "cell_type": "code",
   "execution_count": 5,
   "metadata": {},
   "outputs": [],
   "source": [
    "if load_drug_properties:\n",
    "    drug_features = pd.read_csv(_FOLDER+\"drug_features_pubchem.csv\")\n",
    "else:\n",
    "    # ~ 3 mins\n",
    "    drugs_1 = pd.read_csv(_FOLDER+'drugs_gdsc1.csv')\n",
    "    drug_features = pd.read_csv(_FOLDER + \"Drug_Features.csv\")\n",
    "    drug_features = PreprocessDrugs(drug_features, drugs_1, save_features_names =True, _FOLDER_to_save = _FOLDER_3)\n",
    "    drug_features.reset_index(inplace=True)\n",
    "    drug_features.to_csv(_FOLDER+\"drug_features_pubchem.csv\", index=False)\n",
    "# Total number of drugs: 250\n",
    "# Number of not found drugs: 17\n",
    "# Elements in drugs: 11 ['Pt', 'I', 'H', 'B', 'P', 'Br', 'O', 'S', 'N', 'Cl', 'F']\n",
    "# Number of targets: 213\n",
    "# Number of unique pathways: 23"
   ]
  },
  {
   "cell_type": "markdown",
   "metadata": {},
   "source": [
    "## as in MSc project"
   ]
  },
  {
   "cell_type": "code",
   "execution_count": 6,
   "metadata": {},
   "outputs": [
    {
     "name": "stdout",
     "output_type": "stream",
     "text": [
      "Original dataset: (225384, 43)\n"
     ]
    },
    {
     "name": "stderr",
     "output_type": "stream",
     "text": [
      "  3%|▎         | 81/2776 [00:00<00:03, 809.73it/s]"
     ]
    },
    {
     "name": "stdout",
     "output_type": "stream",
     "text": [
      "1st filtration (Ensure that all the response are less than 1): Filtered dataset: (63325, 43)\n",
      "2d filtration (Ensure that first and last points form plateus): Filtered dataset: (6321, 45)\n",
      "3d stage filtration (Specified location of the plateus): Filtered dataset: (2776, 45)\n"
     ]
    },
    {
     "name": "stderr",
     "output_type": "stream",
     "text": [
      "100%|██████████| 2776/2776 [00:03<00:00, 743.31it/s]\n"
     ]
    },
    {
     "name": "stdout",
     "output_type": "stream",
     "text": [
      "<function sigmoid_4_param at 0x7f11507f3b90>\n",
      "Reduced number of samples: 29\n",
      "Number of samples for ML modelling: 2537\n",
      "Number of drugs with more than 10 profiles: 67\n",
      "Number of drug profiles not covered: 251\n"
     ]
    },
    {
     "data": {
      "text/plain": [
       "(1721, 460, 242)"
      ]
     },
     "execution_count": 6,
     "metadata": {},
     "output_type": "execute_result"
    }
   ],
   "source": [
    "fitting_function = \"sigmoid_4_param\"\n",
    "filtration_name = \"filt_123_04\"\n",
    "\n",
    "df = drug_curves.copy()\n",
    "\n",
    "df = FilteringSigmoidCurves(drug_curves, filtering_scenario=[1,2,3], \\\n",
    "                        response_columns = response_norm, \\\n",
    "                        first_points_lower_limit = 0.8, last_points_upper_limit = 0.4)\n",
    "\n",
    "df = ComputeFittingFunction(df, fitting_function, conc_columns, response_norm)\n",
    "\n",
    "merged_df = MergeDrugCells(df, cell_features, drug_features, \n",
    "                               splitting_needed= True,\n",
    "                               param_col_name = fitting_function,\n",
    "#                                save_CCL_properties = True, _FOLDER_to_save = _FOLDER_3\n",
    "                              )\n",
    "\n",
    "#merged_df[[\"param_\"+str(i) for i in range(1,5)]+[\"sigmoid_4_param\"]].head()\n",
    "\n",
    "train, test, test2 = SplitTrainTestFor10Drugs(merged_df, train_ratio = 0.8)\n",
    "train.dropna(axis=0, inplace=True)\n",
    "test.dropna(axis=0, inplace=True)\n",
    "test2.dropna(axis=0, inplace=True)\n",
    "\n",
    "new_folder = _FOLDER + filtration_name\n",
    "if filtration_name not in os.listdir(_FOLDER):\n",
    "    os.makedirs(new_folder)\n",
    "train.to_csv(new_folder+\"/train.csv\")\n",
    "test.to_csv(new_folder+\"/test.csv\")\n",
    "test2.to_csv(new_folder+\"/test2.csv\")\n",
    "train.shape[0], test.shape[0], test2.shape[0]"
   ]
  },
  {
   "cell_type": "code",
   "execution_count": 7,
   "metadata": {},
   "outputs": [
    {
     "name": "stdout",
     "output_type": "stream",
     "text": [
      "Original dataset: (225384, 43)\n"
     ]
    },
    {
     "name": "stderr",
     "output_type": "stream",
     "text": [
      "  3%|▎         | 87/2776 [00:00<00:03, 749.96it/s]"
     ]
    },
    {
     "name": "stdout",
     "output_type": "stream",
     "text": [
      "1st filtration (Ensure that all the response are less than 1): Filtered dataset: (63325, 43)\n",
      "2d filtration (Ensure that first and last points form plateus): Filtered dataset: (6321, 45)\n",
      "3d stage filtration (Specified location of the plateus): Filtered dataset: (2776, 45)\n"
     ]
    },
    {
     "name": "stderr",
     "output_type": "stream",
     "text": [
      "100%|██████████| 2776/2776 [00:03<00:00, 754.59it/s]\n"
     ]
    },
    {
     "name": "stdout",
     "output_type": "stream",
     "text": [
      "<function sigmoid_4_param at 0x7f11507f3b90>\n",
      "Reduced number of samples: 29\n",
      "Number of samples for ML modelling: 2468\n",
      "Number of drugs with more than 10 profiles: 67\n",
      "Number of drug profiles not covered: 241\n"
     ]
    },
    {
     "data": {
      "text/plain": [
       "(1678, 447, 232)"
      ]
     },
     "execution_count": 7,
     "metadata": {},
     "output_type": "execute_result"
    }
   ],
   "source": [
    "fitting_function = \"sigmoid_4_param\"\n",
    "filtration_name = \"filt_123_04_r2_09\"\n",
    "\n",
    "df = drug_curves.copy()\n",
    "\n",
    "df = FilteringSigmoidCurves(drug_curves, filtering_scenario=[1,2,3], \\\n",
    "                        response_columns = response_norm, \\\n",
    "                        first_points_lower_limit = 0.8, last_points_upper_limit = 0.4)\n",
    "\n",
    "df = ComputeFittingFunction(df, fitting_function, conc_columns, response_norm)\n",
    "\n",
    "merged_df = MergeDrugCells(df, cell_features, drug_features, \n",
    "                               splitting_needed= True,\n",
    "                               param_col_name = fitting_function,\n",
    "#                                save_CCL_properties = True, _FOLDER_to_save = _FOLDER_3\n",
    "                              )\n",
    "merged_df = merged_df[merged_df[\"sigmoid_4_param_r2\"]>0.9]\n",
    "#merged_df[[\"param_\"+str(i) for i in range(1,5)]+[\"sigmoid_4_param\"]].head()\n",
    "\n",
    "train, test, test2 = SplitTrainTestFor10Drugs(merged_df, train_ratio = 0.8)\n",
    "train.dropna(axis=0, inplace=True)\n",
    "test.dropna(axis=0, inplace=True)\n",
    "test2.dropna(axis=0, inplace=True)\n",
    "\n",
    "new_folder = _FOLDER + filtration_name\n",
    "if filtration_name not in os.listdir(_FOLDER):\n",
    "    os.makedirs(new_folder)\n",
    "train.to_csv(new_folder+\"/train.csv\")\n",
    "test.to_csv(new_folder+\"/test.csv\")\n",
    "test2.to_csv(new_folder+\"/test2.csv\")\n",
    "train.shape[0], test.shape[0], test2.shape[0]"
   ]
  },
  {
   "cell_type": "markdown",
   "metadata": {},
   "source": [
    "## Additional 4th stage"
   ]
  },
  {
   "cell_type": "code",
   "execution_count": 8,
   "metadata": {},
   "outputs": [
    {
     "name": "stdout",
     "output_type": "stream",
     "text": [
      "Original dataset: (225384, 43)\n"
     ]
    },
    {
     "name": "stderr",
     "output_type": "stream",
     "text": [
      "  3%|▎         | 91/2719 [00:00<00:02, 906.17it/s]"
     ]
    },
    {
     "name": "stdout",
     "output_type": "stream",
     "text": [
      "1st filtration (Ensure that all the response are less than 1): Filtered dataset: (63325, 43)\n",
      "2d filtration (Ensure that first and last points form plateus): Filtered dataset: (6321, 45)\n",
      "3d stage filtration (Specified location of the plateus): Filtered dataset: (2776, 45)\n",
      "4th stage filtration (Cut off high ancedent points): Filtered dataset: (2719, 45)\n"
     ]
    },
    {
     "name": "stderr",
     "output_type": "stream",
     "text": [
      "100%|██████████| 2719/2719 [00:03<00:00, 775.06it/s]\n"
     ]
    },
    {
     "name": "stdout",
     "output_type": "stream",
     "text": [
      "<function sigmoid_4_param at 0x7f11507f3b90>\n",
      "Reduced number of samples: 21\n",
      "Number of samples for ML modelling: 2492\n",
      "Number of drugs with more than 10 profiles: 67\n",
      "Number of drug profiles not covered: 245\n"
     ]
    },
    {
     "data": {
      "text/plain": [
       "(1773, 474, 245)"
      ]
     },
     "execution_count": 8,
     "metadata": {},
     "output_type": "execute_result"
    }
   ],
   "source": [
    "fitting_function = \"sigmoid_4_param\"\n",
    "filtration_name = \"filt_1234_04\"\n",
    "\n",
    "df = drug_curves.copy()\n",
    "\n",
    "df = FilteringSigmoidCurves(drug_curves, filtering_scenario = [1,2,3,4], \\\n",
    "                        response_columns = response_norm, \\\n",
    "                        first_points_lower_limit = 0.8, last_points_upper_limit = 0.4)\n",
    "\n",
    "df = ComputeFittingFunction(df, fitting_function, conc_columns, response_norm)\n",
    "\n",
    "merged_df = MergeDrugCells(df, cell_features, drug_features, \n",
    "                               splitting_needed= True,\n",
    "                               param_col_name = fitting_function)\n",
    "\n",
    "\n",
    "train, test, test2 = SplitTrainTestFor10Drugs(merged_df, train_ratio = 0.8)\n",
    "new_folder = _FOLDER + filtration_name\n",
    "if filtration_name not in os.listdir(_FOLDER):\n",
    "    os.makedirs(new_folder)\n",
    "train.to_csv(new_folder+\"/train.csv\")\n",
    "test.to_csv(new_folder+\"/test.csv\")\n",
    "test2.to_csv(new_folder+\"/test2.csv\")\n",
    "train.shape[0], test.shape[0], test2.shape[0]"
   ]
  },
  {
   "cell_type": "markdown",
   "metadata": {},
   "source": [
    "## No filtering - only fitting"
   ]
  },
  {
   "cell_type": "code",
   "execution_count": 9,
   "metadata": {},
   "outputs": [
    {
     "name": "stderr",
     "output_type": "stream",
     "text": [
      "100%|██████████| 225384/225384 [22:36<00:00, 166.10it/s] \n"
     ]
    },
    {
     "name": "stdout",
     "output_type": "stream",
     "text": [
      "<function sigmoid_4_param at 0x7f11507f3b90>\n",
      "Reduced number of samples: 88411\n",
      "Number of samples for ML modelling: 49280\n",
      "Number of drugs with more than 10 profiles: 205\n",
      "Number of drug profiles not covered: 60\n",
      "39292 9928 60\n",
      "CPU times: user 23min 25s, sys: 24.5 s, total: 23min 50s\n",
      "Wall time: 23min 41s\n"
     ]
    }
   ],
   "source": [
    "%%time\n",
    "\n",
    "df = drug_curves.copy()\n",
    "\n",
    "fitting_function = \"sigmoid_4_param\"\n",
    "filtration_name = \"no_filt\"\n",
    "\n",
    "df = ComputeFittingFunction(df, fitting_function, conc_columns, response_norm)\n",
    "\n",
    "merged_df = MergeDrugCells(df, cell_features, drug_features, \n",
    "                               splitting_needed= True,\n",
    "                               param_col_name = fitting_function)\n",
    "\n",
    "merged_df = merged_df[merged_df[\"sigmoid_4_param_r2\"]>0.9]\n",
    "\n",
    "train, test, test2 = SplitTrainTestFor10Drugs(merged_df, train_ratio = 0.8)\n",
    "new_folder = _FOLDER + filtration_name\n",
    "if filtration_name not in os.listdir(_FOLDER):\n",
    "    os.makedirs(new_folder)\n",
    "train.to_csv(new_folder+\"/train.csv\")\n",
    "test.to_csv(new_folder+\"/test.csv\")\n",
    "test2.to_csv(new_folder+\"/test2.csv\")\n",
    "print(train.shape[0], test.shape[0], test2.shape[0])"
   ]
  },
  {
   "cell_type": "markdown",
   "metadata": {},
   "source": [
    "## AUC -filtering"
   ]
  },
  {
   "cell_type": "code",
   "execution_count": 10,
   "metadata": {},
   "outputs": [
    {
     "name": "stderr",
     "output_type": "stream",
     "text": [
      "100%|██████████| 122642/122642 [14:23<00:00, 142.07it/s]\n"
     ]
    },
    {
     "name": "stdout",
     "output_type": "stream",
     "text": [
      "<function sigmoid_4_param at 0x7f11507f3b90>\n",
      "Reduced number of samples: 35031\n",
      "Number of samples for ML modelling: 78650\n",
      "Number of drugs with more than 10 profiles: 216\n",
      "Number of drug profiles not covered: 0\n"
     ]
    },
    {
     "data": {
      "text/plain": [
       "(62825, 15825, 0)"
      ]
     },
     "execution_count": 10,
     "metadata": {},
     "output_type": "execute_result"
    }
   ],
   "source": [
    "df = pd.read_csv(\"results/filt_auc.csv\")\n",
    "\n",
    "fitting_function = \"sigmoid_4_param\"\n",
    "filtration_name = \"auc_filt\"\n",
    "\n",
    "df = ComputeFittingFunction(df, fitting_function, conc_columns, response_norm)\n",
    "\n",
    "merged_df = MergeDrugCells(df, cell_features, drug_features, \n",
    "                               splitting_needed= True,\n",
    "                               param_col_name = fitting_function)\n",
    "\n",
    "\n",
    "train, test, test2 = SplitTrainTestFor10Drugs(merged_df, train_ratio = 0.8)\n",
    "new_folder = _FOLDER + filtration_name\n",
    "if filtration_name not in os.listdir(_FOLDER):\n",
    "    os.makedirs(new_folder)\n",
    "train.to_csv(new_folder+\"/train.csv\")\n",
    "test.to_csv(new_folder+\"/test.csv\")\n",
    "test2.to_csv(new_folder+\"/test2.csv\")\n",
    "train.shape[0], test.shape[0], test2.shape[0]"
   ]
  },
  {
   "cell_type": "code",
   "execution_count": 11,
   "metadata": {},
   "outputs": [
    {
     "name": "stderr",
     "output_type": "stream",
     "text": [
      "100%|██████████| 12169/12169 [01:13<00:00, 165.95it/s]\n"
     ]
    },
    {
     "name": "stdout",
     "output_type": "stream",
     "text": [
      "<function sigmoid_4_param at 0x7f11507f3b90>\n",
      "Reduced number of samples: 3196\n",
      "Number of samples for ML modelling: 8178\n",
      "Number of drugs with more than 10 profiles: 113\n",
      "Number of drug profiles not covered: 243\n"
     ]
    },
    {
     "data": {
      "text/plain": [
       "(6303, 1632, 243)"
      ]
     },
     "execution_count": 11,
     "metadata": {},
     "output_type": "execute_result"
    }
   ],
   "source": [
    "df = pd.read_csv(\"results/filt_auc_02.csv\")\n",
    "\n",
    "fitting_function = \"sigmoid_4_param\"\n",
    "filtration_name = \"filt_auc_02\"\n",
    "\n",
    "df = ComputeFittingFunction(df, fitting_function, conc_columns, response_norm)\n",
    "\n",
    "merged_df = MergeDrugCells(df, cell_features, drug_features, \n",
    "                               splitting_needed= True,\n",
    "                               param_col_name = fitting_function)\n",
    "\n",
    "\n",
    "train, test, test2 = SplitTrainTestFor10Drugs(merged_df, train_ratio = 0.8)\n",
    "new_folder = _FOLDER + filtration_name\n",
    "if filtration_name not in os.listdir(_FOLDER):\n",
    "    os.makedirs(new_folder)\n",
    "train.to_csv(new_folder+\"/train.csv\")\n",
    "test.to_csv(new_folder+\"/test.csv\")\n",
    "test2.to_csv(new_folder+\"/test2.csv\")\n",
    "train.shape[0], test.shape[0], test2.shape[0]"
   ]
  },
  {
   "cell_type": "markdown",
   "metadata": {},
   "source": [
    "## Test sets from GDSC2"
   ]
  },
  {
   "cell_type": "code",
   "execution_count": 12,
   "metadata": {},
   "outputs": [
    {
     "data": {
      "text/plain": [
       "(212349, 31)"
      ]
     },
     "execution_count": 12,
     "metadata": {},
     "output_type": "execute_result"
    }
   ],
   "source": [
    "drug_curves = pd.read_csv(_FOLDER+\"normalised_dose_response_data_GDCS2_EC_conc.csv\", sep= \"\\t\")\n",
    "drug_curves.shape"
   ]
  },
  {
   "cell_type": "code",
   "execution_count": 13,
   "metadata": {},
   "outputs": [],
   "source": [
    "conc_columns= [\"fd_num_\"+str(i) for i in range(8)]\n",
    "response_norm = ['norm_cells_'+str(i) for i in range(8)]\n",
    "load_drug_properties=False"
   ]
  },
  {
   "cell_type": "code",
   "execution_count": 14,
   "metadata": {},
   "outputs": [
    {
     "name": "stderr",
     "output_type": "stream",
     "text": [
      "\r",
      "  0%|          | 0/44 [00:00<?, ?it/s]"
     ]
    },
    {
     "name": "stdout",
     "output_type": "stream",
     "text": [
      "Calling PubChem to get pubchem ids\n"
     ]
    },
    {
     "name": "stderr",
     "output_type": "stream",
     "text": [
      "100%|██████████| 44/44 [00:34<00:00,  1.27it/s]\n",
      "  0%|          | 0/198 [00:00<?, ?it/s]"
     ]
    },
    {
     "name": "stdout",
     "output_type": "stream",
     "text": [
      "Total number of drugs: 192\n",
      "Number of not found drugs: 2\n",
      "Calling PubChem...\n"
     ]
    },
    {
     "name": "stderr",
     "output_type": "stream",
     "text": [
      "  8%|▊         | 16/198 [00:11<02:10,  1.40it/s]"
     ]
    },
    {
     "name": "stdout",
     "output_type": "stream",
     "text": [
      "Error with drug: AZD5363\n"
     ]
    },
    {
     "name": "stderr",
     "output_type": "stream",
     "text": [
      " 13%|█▎        | 25/198 [00:17<02:18,  1.25it/s]"
     ]
    },
    {
     "name": "stdout",
     "output_type": "stream",
     "text": [
      "Error with drug: Eg5_9814\n",
      "Error with drug: JAK1_8709\n"
     ]
    },
    {
     "name": "stderr",
     "output_type": "stream",
     "text": [
      " 22%|██▏       | 44/198 [00:29<01:53,  1.36it/s]"
     ]
    },
    {
     "name": "stdout",
     "output_type": "stream",
     "text": [
      "Error with drug: Ulixertinib\n",
      "Error with drug: Dactinomycin\n"
     ]
    },
    {
     "name": "stderr",
     "output_type": "stream",
     "text": [
      "\r",
      " 24%|██▎       | 47/198 [00:30<01:29,  1.70it/s]"
     ]
    },
    {
     "name": "stdout",
     "output_type": "stream",
     "text": [
      "Error with drug: CDK9_5038\n"
     ]
    },
    {
     "name": "stderr",
     "output_type": "stream",
     "text": [
      " 31%|███▏      | 62/198 [00:40<01:30,  1.51it/s]"
     ]
    },
    {
     "name": "stdout",
     "output_type": "stream",
     "text": [
      "Error with drug: Teniposide\n"
     ]
    },
    {
     "name": "stderr",
     "output_type": "stream",
     "text": [
      " 33%|███▎      | 65/198 [00:42<01:56,  1.14it/s]"
     ]
    },
    {
     "name": "stdout",
     "output_type": "stream",
     "text": [
      "Error with drug: BDP-00009066\n"
     ]
    },
    {
     "name": "stderr",
     "output_type": "stream",
     "text": [
      " 36%|███▌      | 71/198 [00:46<01:34,  1.34it/s]"
     ]
    },
    {
     "name": "stdout",
     "output_type": "stream",
     "text": [
      "Error with drug: Staurosporine\n",
      "Error with drug: ULK1_4989\n"
     ]
    },
    {
     "name": "stderr",
     "output_type": "stream",
     "text": [
      " 44%|████▍     | 88/198 [00:59<01:23,  1.32it/s]"
     ]
    },
    {
     "name": "stdout",
     "output_type": "stream",
     "text": [
      "Error with drug: Sinularin\n"
     ]
    },
    {
     "name": "stderr",
     "output_type": "stream",
     "text": [
      " 48%|████▊     | 96/198 [01:04<01:16,  1.34it/s]"
     ]
    },
    {
     "name": "stdout",
     "output_type": "stream",
     "text": [
      "Error with drug: VSP34_8731\n"
     ]
    },
    {
     "name": "stderr",
     "output_type": "stream",
     "text": [
      " 57%|█████▋    | 113/198 [01:16<00:59,  1.42it/s]"
     ]
    },
    {
     "name": "stdout",
     "output_type": "stream",
     "text": [
      "Error with drug: BPD-00008900\n"
     ]
    },
    {
     "name": "stderr",
     "output_type": "stream",
     "text": [
      " 59%|█████▉    | 117/198 [01:18<00:53,  1.50it/s]"
     ]
    },
    {
     "name": "stdout",
     "output_type": "stream",
     "text": [
      "Error with drug: PAK_5339\n"
     ]
    },
    {
     "name": "stderr",
     "output_type": "stream",
     "text": [
      " 67%|██████▋   | 133/198 [01:29<00:48,  1.34it/s]"
     ]
    },
    {
     "name": "stdout",
     "output_type": "stream",
     "text": [
      "Error with drug: Dihydrorotenone\n"
     ]
    },
    {
     "name": "stderr",
     "output_type": "stream",
     "text": [
      " 74%|███████▍  | 147/198 [01:40<00:40,  1.26it/s]"
     ]
    },
    {
     "name": "stdout",
     "output_type": "stream",
     "text": [
      "Error with drug: CDK9_5576\n",
      "Error with drug: ERK_6604\n",
      "Error with drug: JAK_8517\n",
      "Error with drug: IAP_5620\n"
     ]
    },
    {
     "name": "stderr",
     "output_type": "stream",
     "text": [
      " 81%|████████  | 160/198 [01:47<00:28,  1.32it/s]"
     ]
    },
    {
     "name": "stdout",
     "output_type": "stream",
     "text": [
      "Error with drug: Vincristine\n"
     ]
    },
    {
     "name": "stderr",
     "output_type": "stream",
     "text": [
      "\r",
      " 82%|████████▏ | 162/198 [01:47<00:23,  1.55it/s]"
     ]
    },
    {
     "name": "stdout",
     "output_type": "stream",
     "text": [
      "Error with drug: Buparlisib\n"
     ]
    },
    {
     "name": "stderr",
     "output_type": "stream",
     "text": [
      " 85%|████████▌ | 169/198 [01:52<00:20,  1.39it/s]"
     ]
    },
    {
     "name": "stdout",
     "output_type": "stream",
     "text": [
      "Error with drug: TAF1_5496\n"
     ]
    },
    {
     "name": "stderr",
     "output_type": "stream",
     "text": [
      " 95%|█████████▌| 189/198 [02:06<00:07,  1.28it/s]"
     ]
    },
    {
     "name": "stdout",
     "output_type": "stream",
     "text": [
      "Error with drug: Ulixertinib\n"
     ]
    },
    {
     "name": "stderr",
     "output_type": "stream",
     "text": [
      " 97%|█████████▋| 193/198 [02:08<00:03,  1.42it/s]"
     ]
    },
    {
     "name": "stdout",
     "output_type": "stream",
     "text": [
      "Error with drug: Mirin\n"
     ]
    },
    {
     "name": "stderr",
     "output_type": "stream",
     "text": [
      "100%|██████████| 198/198 [02:09<00:00,  1.53it/s]\n"
     ]
    },
    {
     "name": "stdout",
     "output_type": "stream",
     "text": [
      "Error with drug: ERK_2440\n",
      "Error with drug: IRAK4_4710\n",
      "Error with drug: IGF1R_3801\n",
      "Processing drug properties...\n",
      "Exceptions are found : 27\n",
      "Elements in drugs: 10 ['Pt', 'N', 'Cl', 'F', 'O', 'S', 'P', 'Br', 'I', 'B']\n",
      "Number of targets: 185\n",
      "Number of unique pathways: 24\n",
      "CPU times: user 5.47 s, sys: 286 ms, total: 5.76 s\n",
      "Wall time: 2min 44s\n"
     ]
    }
   ],
   "source": [
    "%%time\n",
    "if load_drug_properties:\n",
    "    drug_features = pd.read_csv(_FOLDER+\"drug_features_pubchem_gdsc2.csv\")\n",
    "else:\n",
    "    # ~ 3 mins\n",
    "    drug_features = pd.read_csv(_FOLDER + \"drugs_gdsc2.csv\")\n",
    "    drug_features.columns = ['DRUG_ID', 'Drug_Name', 'Synonyms', 'Target_Pathway', 'Target', 'pubchem_id']\n",
    "    drug_features = GetPubChemId(drug_features)\n",
    "    drug_features = PreprocessDrugs(drug_features, drug_features_wih_pubchem_id = True, \n",
    "                                    save_features_names =False)\n",
    "    drug_features.reset_index(inplace=True)\n",
    "    drug_features = drug_features[drug_features[\"pubchem_id\"]!= \"-\"]\n",
    "    drug_features.to_csv(_FOLDER+\"drug_features_pubchem_gdsc2.csv\", index=False)\n",
    "    \n",
    "#columns with drug features can be different!"
   ]
  },
  {
   "cell_type": "code",
   "execution_count": 15,
   "metadata": {},
   "outputs": [
    {
     "data": {
      "text/plain": [
       "(177, 245)"
      ]
     },
     "execution_count": 15,
     "metadata": {},
     "output_type": "execute_result"
    }
   ],
   "source": [
    "drug_features2 = pd.read_csv(_FOLDER+\"drug_features_pubchem_gdsc2.csv\")\n",
    "drug_features2.shape                                        "
   ]
  },
  {
   "cell_type": "code",
   "execution_count": 16,
   "metadata": {},
   "outputs": [
    {
     "data": {
      "text/html": [
       "<div>\n",
       "<style scoped>\n",
       "    .dataframe tbody tr th:only-of-type {\n",
       "        vertical-align: middle;\n",
       "    }\n",
       "\n",
       "    .dataframe tbody tr th {\n",
       "        vertical-align: top;\n",
       "    }\n",
       "\n",
       "    .dataframe thead th {\n",
       "        text-align: right;\n",
       "    }\n",
       "</style>\n",
       "<table border=\"1\" class=\"dataframe\">\n",
       "  <thead>\n",
       "    <tr style=\"text-align: right;\">\n",
       "      <th></th>\n",
       "      <th>DRUG_ID</th>\n",
       "      <th>Drug_Name</th>\n",
       "      <th>Synonyms</th>\n",
       "      <th>Target</th>\n",
       "      <th>pubchem_id</th>\n",
       "      <th>molecular_weight</th>\n",
       "      <th>elements</th>\n",
       "      <th>2bonds</th>\n",
       "      <th>3bonds</th>\n",
       "      <th>xlogp</th>\n",
       "      <th>...</th>\n",
       "      <th>Metabolism</th>\n",
       "      <th>Mitosis</th>\n",
       "      <th>Other</th>\n",
       "      <th>Other, kinases</th>\n",
       "      <th>PI3K/MTOR signaling</th>\n",
       "      <th>Protein stability and degradation</th>\n",
       "      <th>RTK signaling</th>\n",
       "      <th>Unclassified</th>\n",
       "      <th>WNT signaling</th>\n",
       "      <th>p53 pathway</th>\n",
       "    </tr>\n",
       "  </thead>\n",
       "  <tbody>\n",
       "    <tr>\n",
       "      <th>0</th>\n",
       "      <td>1559</td>\n",
       "      <td>Luminespib</td>\n",
       "      <td>AUY922, VER-52296,NVP-AUY922,  AUY</td>\n",
       "      <td>HSP90</td>\n",
       "      <td>10096043</td>\n",
       "      <td>465.5</td>\n",
       "      <td>'C', 'H', 'N', 'O'</td>\n",
       "      <td>9</td>\n",
       "      <td>0</td>\n",
       "      <td>2.3</td>\n",
       "      <td>...</td>\n",
       "      <td>0</td>\n",
       "      <td>0</td>\n",
       "      <td>0</td>\n",
       "      <td>0</td>\n",
       "      <td>0</td>\n",
       "      <td>1</td>\n",
       "      <td>0</td>\n",
       "      <td>0</td>\n",
       "      <td>0</td>\n",
       "      <td>0</td>\n",
       "    </tr>\n",
       "    <tr>\n",
       "      <th>1</th>\n",
       "      <td>1058</td>\n",
       "      <td>Pictilisib</td>\n",
       "      <td>GDC-0941, GDC0941, RG-7621</td>\n",
       "      <td>PI3K (class 1)</td>\n",
       "      <td>17755052</td>\n",
       "      <td>513.6</td>\n",
       "      <td>'C', 'O', 'S', 'H', 'N'</td>\n",
       "      <td>10</td>\n",
       "      <td>0</td>\n",
       "      <td>1.6</td>\n",
       "      <td>...</td>\n",
       "      <td>0</td>\n",
       "      <td>0</td>\n",
       "      <td>0</td>\n",
       "      <td>0</td>\n",
       "      <td>1</td>\n",
       "      <td>0</td>\n",
       "      <td>0</td>\n",
       "      <td>0</td>\n",
       "      <td>0</td>\n",
       "      <td>0</td>\n",
       "    </tr>\n",
       "    <tr>\n",
       "      <th>2</th>\n",
       "      <td>1088</td>\n",
       "      <td>Irinotecan</td>\n",
       "      <td>Camptosar, (+)-Irinotecan, Irinotecanum, irino...</td>\n",
       "      <td>TOP1</td>\n",
       "      <td>60838</td>\n",
       "      <td>586.7</td>\n",
       "      <td>'C', 'H', 'N', 'O'</td>\n",
       "      <td>10</td>\n",
       "      <td>0</td>\n",
       "      <td>3.0</td>\n",
       "      <td>...</td>\n",
       "      <td>0</td>\n",
       "      <td>0</td>\n",
       "      <td>0</td>\n",
       "      <td>0</td>\n",
       "      <td>0</td>\n",
       "      <td>0</td>\n",
       "      <td>0</td>\n",
       "      <td>0</td>\n",
       "      <td>0</td>\n",
       "      <td>0</td>\n",
       "    </tr>\n",
       "    <tr>\n",
       "      <th>3</th>\n",
       "      <td>1549</td>\n",
       "      <td>Sapitinib</td>\n",
       "      <td>AZD8931</td>\n",
       "      <td>EGFR, ERBB2, ERBB3</td>\n",
       "      <td>11488320</td>\n",
       "      <td>473.9</td>\n",
       "      <td>'C', 'F', 'Cl', 'O', 'H', 'N'</td>\n",
       "      <td>9</td>\n",
       "      <td>0</td>\n",
       "      <td>4.0</td>\n",
       "      <td>...</td>\n",
       "      <td>0</td>\n",
       "      <td>0</td>\n",
       "      <td>0</td>\n",
       "      <td>0</td>\n",
       "      <td>0</td>\n",
       "      <td>0</td>\n",
       "      <td>0</td>\n",
       "      <td>0</td>\n",
       "      <td>0</td>\n",
       "      <td>0</td>\n",
       "    </tr>\n",
       "    <tr>\n",
       "      <th>4</th>\n",
       "      <td>1558</td>\n",
       "      <td>Lapatinib</td>\n",
       "      <td>Tykerb, Tyverb</td>\n",
       "      <td>EGFR, ERBB2</td>\n",
       "      <td>208908</td>\n",
       "      <td>581.1</td>\n",
       "      <td>'C', 'F', 'Cl', 'O', 'S', 'H', 'N'</td>\n",
       "      <td>15</td>\n",
       "      <td>0</td>\n",
       "      <td>5.1</td>\n",
       "      <td>...</td>\n",
       "      <td>0</td>\n",
       "      <td>0</td>\n",
       "      <td>0</td>\n",
       "      <td>0</td>\n",
       "      <td>0</td>\n",
       "      <td>0</td>\n",
       "      <td>0</td>\n",
       "      <td>0</td>\n",
       "      <td>0</td>\n",
       "      <td>0</td>\n",
       "    </tr>\n",
       "    <tr>\n",
       "      <th>...</th>\n",
       "      <td>...</td>\n",
       "      <td>...</td>\n",
       "      <td>...</td>\n",
       "      <td>...</td>\n",
       "      <td>...</td>\n",
       "      <td>...</td>\n",
       "      <td>...</td>\n",
       "      <td>...</td>\n",
       "      <td>...</td>\n",
       "      <td>...</td>\n",
       "      <td>...</td>\n",
       "      <td>...</td>\n",
       "      <td>...</td>\n",
       "      <td>...</td>\n",
       "      <td>...</td>\n",
       "      <td>...</td>\n",
       "      <td>...</td>\n",
       "      <td>...</td>\n",
       "      <td>...</td>\n",
       "      <td>...</td>\n",
       "      <td>...</td>\n",
       "    </tr>\n",
       "    <tr>\n",
       "      <th>172</th>\n",
       "      <td>1908</td>\n",
       "      <td>Ulixertinib</td>\n",
       "      <td>BVD-523, VRT752271</td>\n",
       "      <td>ERK1, ERK2</td>\n",
       "      <td>11719003, 58641927</td>\n",
       "      <td>NaN</td>\n",
       "      <td>NaN</td>\n",
       "      <td>0</td>\n",
       "      <td>0</td>\n",
       "      <td>NaN</td>\n",
       "      <td>...</td>\n",
       "      <td>0</td>\n",
       "      <td>0</td>\n",
       "      <td>0</td>\n",
       "      <td>0</td>\n",
       "      <td>0</td>\n",
       "      <td>0</td>\n",
       "      <td>0</td>\n",
       "      <td>0</td>\n",
       "      <td>0</td>\n",
       "      <td>0</td>\n",
       "    </tr>\n",
       "    <tr>\n",
       "      <th>173</th>\n",
       "      <td>1915</td>\n",
       "      <td>AZD3759</td>\n",
       "      <td>-</td>\n",
       "      <td>EGFR</td>\n",
       "      <td>78209992</td>\n",
       "      <td>459.9</td>\n",
       "      <td>'C', 'F', 'Cl', 'O', 'H', 'N'</td>\n",
       "      <td>9</td>\n",
       "      <td>0</td>\n",
       "      <td>4.1</td>\n",
       "      <td>...</td>\n",
       "      <td>0</td>\n",
       "      <td>0</td>\n",
       "      <td>0</td>\n",
       "      <td>0</td>\n",
       "      <td>0</td>\n",
       "      <td>0</td>\n",
       "      <td>0</td>\n",
       "      <td>0</td>\n",
       "      <td>0</td>\n",
       "      <td>0</td>\n",
       "    </tr>\n",
       "    <tr>\n",
       "      <th>174</th>\n",
       "      <td>1930</td>\n",
       "      <td>Telomerase Inhibitor IX</td>\n",
       "      <td>MST-312, MST 312, MST312</td>\n",
       "      <td>Telomerase</td>\n",
       "      <td>10385095</td>\n",
       "      <td>380.3</td>\n",
       "      <td>'C', 'H', 'N', 'O'</td>\n",
       "      <td>11</td>\n",
       "      <td>0</td>\n",
       "      <td>3.3</td>\n",
       "      <td>...</td>\n",
       "      <td>0</td>\n",
       "      <td>0</td>\n",
       "      <td>0</td>\n",
       "      <td>0</td>\n",
       "      <td>0</td>\n",
       "      <td>0</td>\n",
       "      <td>0</td>\n",
       "      <td>0</td>\n",
       "      <td>0</td>\n",
       "      <td>0</td>\n",
       "    </tr>\n",
       "    <tr>\n",
       "      <th>175</th>\n",
       "      <td>2040</td>\n",
       "      <td>Foretinib</td>\n",
       "      <td>GSK1363089, XL-880, EXEL-2880, GSK089</td>\n",
       "      <td>MET, KDR, TIE2, VEGFR3/FLT4, RON, PDGFR, FGFR1...</td>\n",
       "      <td>42642645</td>\n",
       "      <td>632.7</td>\n",
       "      <td>'C', 'F', 'O', 'H', 'N'</td>\n",
       "      <td>13</td>\n",
       "      <td>0</td>\n",
       "      <td>5.5</td>\n",
       "      <td>...</td>\n",
       "      <td>0</td>\n",
       "      <td>0</td>\n",
       "      <td>0</td>\n",
       "      <td>0</td>\n",
       "      <td>0</td>\n",
       "      <td>0</td>\n",
       "      <td>1</td>\n",
       "      <td>0</td>\n",
       "      <td>0</td>\n",
       "      <td>0</td>\n",
       "    </tr>\n",
       "    <tr>\n",
       "      <th>176</th>\n",
       "      <td>1441</td>\n",
       "      <td>AZD2014</td>\n",
       "      <td>SN1103949359</td>\n",
       "      <td>mTORC1, mTORC2</td>\n",
       "      <td>25262792</td>\n",
       "      <td>462.5</td>\n",
       "      <td>'C', 'H', 'N', 'O'</td>\n",
       "      <td>9</td>\n",
       "      <td>0</td>\n",
       "      <td>2.8</td>\n",
       "      <td>...</td>\n",
       "      <td>0</td>\n",
       "      <td>0</td>\n",
       "      <td>0</td>\n",
       "      <td>0</td>\n",
       "      <td>1</td>\n",
       "      <td>0</td>\n",
       "      <td>0</td>\n",
       "      <td>0</td>\n",
       "      <td>0</td>\n",
       "      <td>0</td>\n",
       "    </tr>\n",
       "  </tbody>\n",
       "</table>\n",
       "<p>177 rows × 245 columns</p>\n",
       "</div>"
      ],
      "text/plain": [
       "     DRUG_ID                Drug_Name  \\\n",
       "0       1559               Luminespib   \n",
       "1       1058               Pictilisib   \n",
       "2       1088               Irinotecan   \n",
       "3       1549                Sapitinib   \n",
       "4       1558                Lapatinib   \n",
       "..       ...                      ...   \n",
       "172     1908              Ulixertinib   \n",
       "173     1915                  AZD3759   \n",
       "174     1930  Telomerase Inhibitor IX   \n",
       "175     2040                Foretinib   \n",
       "176     1441                  AZD2014   \n",
       "\n",
       "                                              Synonyms  \\\n",
       "0                   AUY922, VER-52296,NVP-AUY922,  AUY   \n",
       "1                           GDC-0941, GDC0941, RG-7621   \n",
       "2    Camptosar, (+)-Irinotecan, Irinotecanum, irino...   \n",
       "3                                              AZD8931   \n",
       "4                                       Tykerb, Tyverb   \n",
       "..                                                 ...   \n",
       "172                                 BVD-523, VRT752271   \n",
       "173                                                  -   \n",
       "174                           MST-312, MST 312, MST312   \n",
       "175              GSK1363089, XL-880, EXEL-2880, GSK089   \n",
       "176                                       SN1103949359   \n",
       "\n",
       "                                                Target          pubchem_id  \\\n",
       "0                                                HSP90            10096043   \n",
       "1                                       PI3K (class 1)            17755052   \n",
       "2                                                 TOP1               60838   \n",
       "3                                   EGFR, ERBB2, ERBB3            11488320   \n",
       "4                                          EGFR, ERBB2              208908   \n",
       "..                                                 ...                 ...   \n",
       "172                                         ERK1, ERK2  11719003, 58641927   \n",
       "173                                               EGFR            78209992   \n",
       "174                                         Telomerase            10385095   \n",
       "175  MET, KDR, TIE2, VEGFR3/FLT4, RON, PDGFR, FGFR1...            42642645   \n",
       "176                                     mTORC1, mTORC2            25262792   \n",
       "\n",
       "     molecular_weight                            elements  2bonds  3bonds  \\\n",
       "0               465.5                  'C', 'H', 'N', 'O'       9       0   \n",
       "1               513.6             'C', 'O', 'S', 'H', 'N'      10       0   \n",
       "2               586.7                  'C', 'H', 'N', 'O'      10       0   \n",
       "3               473.9       'C', 'F', 'Cl', 'O', 'H', 'N'       9       0   \n",
       "4               581.1  'C', 'F', 'Cl', 'O', 'S', 'H', 'N'      15       0   \n",
       "..                ...                                 ...     ...     ...   \n",
       "172               NaN                                 NaN       0       0   \n",
       "173             459.9       'C', 'F', 'Cl', 'O', 'H', 'N'       9       0   \n",
       "174             380.3                  'C', 'H', 'N', 'O'      11       0   \n",
       "175             632.7             'C', 'F', 'O', 'H', 'N'      13       0   \n",
       "176             462.5                  'C', 'H', 'N', 'O'       9       0   \n",
       "\n",
       "     xlogp  ...  Metabolism  Mitosis  Other  Other, kinases  \\\n",
       "0      2.3  ...           0        0      0               0   \n",
       "1      1.6  ...           0        0      0               0   \n",
       "2      3.0  ...           0        0      0               0   \n",
       "3      4.0  ...           0        0      0               0   \n",
       "4      5.1  ...           0        0      0               0   \n",
       "..     ...  ...         ...      ...    ...             ...   \n",
       "172    NaN  ...           0        0      0               0   \n",
       "173    4.1  ...           0        0      0               0   \n",
       "174    3.3  ...           0        0      0               0   \n",
       "175    5.5  ...           0        0      0               0   \n",
       "176    2.8  ...           0        0      0               0   \n",
       "\n",
       "     PI3K/MTOR signaling  Protein stability and degradation  RTK signaling  \\\n",
       "0                      0                                  1              0   \n",
       "1                      1                                  0              0   \n",
       "2                      0                                  0              0   \n",
       "3                      0                                  0              0   \n",
       "4                      0                                  0              0   \n",
       "..                   ...                                ...            ...   \n",
       "172                    0                                  0              0   \n",
       "173                    0                                  0              0   \n",
       "174                    0                                  0              0   \n",
       "175                    0                                  0              1   \n",
       "176                    1                                  0              0   \n",
       "\n",
       "     Unclassified  WNT signaling  p53 pathway  \n",
       "0               0              0            0  \n",
       "1               0              0            0  \n",
       "2               0              0            0  \n",
       "3               0              0            0  \n",
       "4               0              0            0  \n",
       "..            ...            ...          ...  \n",
       "172             0              0            0  \n",
       "173             0              0            0  \n",
       "174             0              0            0  \n",
       "175             0              0            0  \n",
       "176             0              0            0  \n",
       "\n",
       "[177 rows x 245 columns]"
      ]
     },
     "execution_count": 16,
     "metadata": {},
     "output_type": "execute_result"
    }
   ],
   "source": [
    "drug_features2"
   ]
  },
  {
   "cell_type": "code",
   "execution_count": 17,
   "metadata": {},
   "outputs": [
    {
     "name": "stdout",
     "output_type": "stream",
     "text": [
      "Original dataset: (212349, 31)\n"
     ]
    },
    {
     "name": "stderr",
     "output_type": "stream",
     "text": [
      "  7%|▋         | 77/1093 [00:00<00:01, 768.13it/s]"
     ]
    },
    {
     "name": "stdout",
     "output_type": "stream",
     "text": [
      "1st filtration (Ensure that all the response are less than 1): Filtered dataset: (49771, 31)\n",
      "2d filtration (Ensure that first and last points form plateus): Filtered dataset: (3857, 33)\n",
      "3d stage filtration (Specified location of the plateus): Filtered dataset: (1093, 33)\n"
     ]
    },
    {
     "name": "stderr",
     "output_type": "stream",
     "text": [
      "100%|██████████| 1093/1093 [00:01<00:00, 757.52it/s]\n"
     ]
    },
    {
     "name": "stdout",
     "output_type": "stream",
     "text": [
      "<function sigmoid_4_param at 0x7f11507f3b90>\n",
      "Reduced number of samples: 2\n"
     ]
    },
    {
     "data": {
      "text/plain": [
       "893"
      ]
     },
     "execution_count": 17,
     "metadata": {},
     "output_type": "execute_result"
    }
   ],
   "source": [
    "fitting_function = \"sigmoid_4_param\"\n",
    "filtration_name = \"filt_123_04\"\n",
    "\n",
    "df = drug_curves.copy()\n",
    "\n",
    "df = FilteringSigmoidCurves(drug_curves, filtering_scenario=[1,2,3], \\\n",
    "                        response_columns = response_norm, \\\n",
    "                        first_points_lower_limit = 0.8, last_points_upper_limit = 0.4)\n",
    "\n",
    "df = ComputeFittingFunction(df, fitting_function, conc_columns, response_norm)\n",
    "\n",
    "merged_df= MergeDrugCells(df, cell_features, drug_features, \n",
    "                               splitting_needed= True,\n",
    "                               param_col_name = fitting_function,\n",
    "#                                save_CCL_properties = True, _FOLDER_to_save = _FOLDER_3\n",
    "                              )\n",
    "new_folder = _FOLDER + filtration_name\n",
    "merged_df.to_csv(new_folder+\"/test_gdsc2.csv\")\n",
    "merged_df.shape[0]"
   ]
  },
  {
   "cell_type": "code",
   "execution_count": 18,
   "metadata": {},
   "outputs": [
    {
     "data": {
      "text/html": [
       "<div>\n",
       "<style scoped>\n",
       "    .dataframe tbody tr th:only-of-type {\n",
       "        vertical-align: middle;\n",
       "    }\n",
       "\n",
       "    .dataframe tbody tr th {\n",
       "        vertical-align: top;\n",
       "    }\n",
       "\n",
       "    .dataframe thead th {\n",
       "        text-align: right;\n",
       "    }\n",
       "</style>\n",
       "<table border=\"1\" class=\"dataframe\">\n",
       "  <thead>\n",
       "    <tr style=\"text-align: right;\">\n",
       "      <th></th>\n",
       "      <th>CELL_LINE_NAME</th>\n",
       "      <th>SHORT_TAG</th>\n",
       "      <th>COSMIC_ID</th>\n",
       "      <th>DRUG_ID</th>\n",
       "      <th>DRUGID_COSMICID</th>\n",
       "      <th>SCAN_ID</th>\n",
       "      <th>MAX_CONC</th>\n",
       "      <th>norm_cells_0</th>\n",
       "      <th>norm_cells_1</th>\n",
       "      <th>norm_cells_2</th>\n",
       "      <th>...</th>\n",
       "      <th>fd_num_2</th>\n",
       "      <th>fd_num_3</th>\n",
       "      <th>fd_num_4</th>\n",
       "      <th>fd_num_5</th>\n",
       "      <th>fd_num_6</th>\n",
       "      <th>fd_num_7</th>\n",
       "      <th>dif_first</th>\n",
       "      <th>dif_last</th>\n",
       "      <th>sigmoid_4_param_r2</th>\n",
       "      <th>sigmoid_4_param</th>\n",
       "    </tr>\n",
       "  </thead>\n",
       "  <tbody>\n",
       "    <tr>\n",
       "      <th>204</th>\n",
       "      <td>22RV1</td>\n",
       "      <td>L78</td>\n",
       "      <td>924100</td>\n",
       "      <td>1941</td>\n",
       "      <td>1941_924100</td>\n",
       "      <td>14769</td>\n",
       "      <td>10.0</td>\n",
       "      <td>1</td>\n",
       "      <td>0.964125</td>\n",
       "      <td>0.725165</td>\n",
       "      <td>...</td>\n",
       "      <td>0.285714</td>\n",
       "      <td>0.428571</td>\n",
       "      <td>0.571429</td>\n",
       "      <td>0.714286</td>\n",
       "      <td>0.857143</td>\n",
       "      <td>1</td>\n",
       "      <td>0.035875</td>\n",
       "      <td>0.030083</td>\n",
       "      <td>0.997639</td>\n",
       "      <td>[0.3267808152761417, 1.0551792679193388, -21.0...</td>\n",
       "    </tr>\n",
       "    <tr>\n",
       "      <th>400</th>\n",
       "      <td>23132-87</td>\n",
       "      <td>L55</td>\n",
       "      <td>910924</td>\n",
       "      <td>1873</td>\n",
       "      <td>1873_910924</td>\n",
       "      <td>12704</td>\n",
       "      <td>10.0</td>\n",
       "      <td>1</td>\n",
       "      <td>0.978341</td>\n",
       "      <td>0.831073</td>\n",
       "      <td>...</td>\n",
       "      <td>0.285714</td>\n",
       "      <td>0.428571</td>\n",
       "      <td>0.571429</td>\n",
       "      <td>0.714286</td>\n",
       "      <td>0.857143</td>\n",
       "      <td>1</td>\n",
       "      <td>0.021659</td>\n",
       "      <td>0.043333</td>\n",
       "      <td>0.983603</td>\n",
       "      <td>[0.6622687028346836, 1.001310707183258, -4.705...</td>\n",
       "    </tr>\n",
       "    <tr>\n",
       "      <th>132004</th>\n",
       "      <td>NCI-H209</td>\n",
       "      <td>L41</td>\n",
       "      <td>688013</td>\n",
       "      <td>1017</td>\n",
       "      <td>1017_688013</td>\n",
       "      <td>13955</td>\n",
       "      <td>10.0</td>\n",
       "      <td>1</td>\n",
       "      <td>0.969660</td>\n",
       "      <td>0.746992</td>\n",
       "      <td>...</td>\n",
       "      <td>0.285714</td>\n",
       "      <td>0.428571</td>\n",
       "      <td>0.571429</td>\n",
       "      <td>0.714286</td>\n",
       "      <td>0.857143</td>\n",
       "      <td>1</td>\n",
       "      <td>0.030340</td>\n",
       "      <td>0.009569</td>\n",
       "      <td>0.944187</td>\n",
       "      <td>[0.6928193573268133, 1.2233220610421172, -14.0...</td>\n",
       "    </tr>\n",
       "    <tr>\n",
       "      <th>982</th>\n",
       "      <td>639-V</td>\n",
       "      <td>L78</td>\n",
       "      <td>906798</td>\n",
       "      <td>1529</td>\n",
       "      <td>1529_906798</td>\n",
       "      <td>12094</td>\n",
       "      <td>10.0</td>\n",
       "      <td>1</td>\n",
       "      <td>0.991725</td>\n",
       "      <td>0.954360</td>\n",
       "      <td>...</td>\n",
       "      <td>0.285714</td>\n",
       "      <td>0.428571</td>\n",
       "      <td>0.571429</td>\n",
       "      <td>0.714286</td>\n",
       "      <td>0.857143</td>\n",
       "      <td>1</td>\n",
       "      <td>0.008275</td>\n",
       "      <td>0.020701</td>\n",
       "      <td>0.997228</td>\n",
       "      <td>[0.5598321395239151, 1.06422507908648, -14.852...</td>\n",
       "    </tr>\n",
       "    <tr>\n",
       "      <th>132054</th>\n",
       "      <td>NCI-H209</td>\n",
       "      <td>L73</td>\n",
       "      <td>688013</td>\n",
       "      <td>1190</td>\n",
       "      <td>1190_688013</td>\n",
       "      <td>21953</td>\n",
       "      <td>10.0</td>\n",
       "      <td>1</td>\n",
       "      <td>0.999315</td>\n",
       "      <td>0.678490</td>\n",
       "      <td>...</td>\n",
       "      <td>0.285714</td>\n",
       "      <td>0.428571</td>\n",
       "      <td>0.571429</td>\n",
       "      <td>0.714286</td>\n",
       "      <td>0.857143</td>\n",
       "      <td>1</td>\n",
       "      <td>0.000685</td>\n",
       "      <td>0.031936</td>\n",
       "      <td>0.997680</td>\n",
       "      <td>[0.3253251740225935, 1.0338004770189777, -15.2...</td>\n",
       "    </tr>\n",
       "    <tr>\n",
       "      <th>...</th>\n",
       "      <td>...</td>\n",
       "      <td>...</td>\n",
       "      <td>...</td>\n",
       "      <td>...</td>\n",
       "      <td>...</td>\n",
       "      <td>...</td>\n",
       "      <td>...</td>\n",
       "      <td>...</td>\n",
       "      <td>...</td>\n",
       "      <td>...</td>\n",
       "      <td>...</td>\n",
       "      <td>...</td>\n",
       "      <td>...</td>\n",
       "      <td>...</td>\n",
       "      <td>...</td>\n",
       "      <td>...</td>\n",
       "      <td>...</td>\n",
       "      <td>...</td>\n",
       "      <td>...</td>\n",
       "      <td>...</td>\n",
       "      <td>...</td>\n",
       "    </tr>\n",
       "    <tr>\n",
       "      <th>130200</th>\n",
       "      <td>NCI-H1963</td>\n",
       "      <td>L55</td>\n",
       "      <td>688010</td>\n",
       "      <td>1873</td>\n",
       "      <td>1873_688010</td>\n",
       "      <td>13715</td>\n",
       "      <td>10.0</td>\n",
       "      <td>1</td>\n",
       "      <td>0.972294</td>\n",
       "      <td>0.866483</td>\n",
       "      <td>...</td>\n",
       "      <td>0.285714</td>\n",
       "      <td>0.428571</td>\n",
       "      <td>0.571429</td>\n",
       "      <td>0.714286</td>\n",
       "      <td>0.857143</td>\n",
       "      <td>1</td>\n",
       "      <td>0.027706</td>\n",
       "      <td>0.029830</td>\n",
       "      <td>0.943713</td>\n",
       "      <td>[0.7544174909380578, 1.6111490976382308, -31.0...</td>\n",
       "    </tr>\n",
       "    <tr>\n",
       "      <th>130406</th>\n",
       "      <td>NCI-H1975</td>\n",
       "      <td>L55</td>\n",
       "      <td>924244</td>\n",
       "      <td>1873</td>\n",
       "      <td>1873_924244</td>\n",
       "      <td>11744</td>\n",
       "      <td>10.0</td>\n",
       "      <td>1</td>\n",
       "      <td>0.955655</td>\n",
       "      <td>0.843890</td>\n",
       "      <td>...</td>\n",
       "      <td>0.285714</td>\n",
       "      <td>0.428571</td>\n",
       "      <td>0.571429</td>\n",
       "      <td>0.714286</td>\n",
       "      <td>0.857143</td>\n",
       "      <td>1</td>\n",
       "      <td>0.044345</td>\n",
       "      <td>0.033536</td>\n",
       "      <td>0.977895</td>\n",
       "      <td>[0.6069384722318689, 1.128805472803153, -5.575...</td>\n",
       "    </tr>\n",
       "    <tr>\n",
       "      <th>130836</th>\n",
       "      <td>NCI-H2023</td>\n",
       "      <td>L9</td>\n",
       "      <td>1240187</td>\n",
       "      <td>1022</td>\n",
       "      <td>1022_1240187</td>\n",
       "      <td>15420</td>\n",
       "      <td>10.0</td>\n",
       "      <td>1</td>\n",
       "      <td>0.958403</td>\n",
       "      <td>0.582039</td>\n",
       "      <td>...</td>\n",
       "      <td>0.285714</td>\n",
       "      <td>0.428571</td>\n",
       "      <td>0.571429</td>\n",
       "      <td>0.714286</td>\n",
       "      <td>0.857143</td>\n",
       "      <td>1</td>\n",
       "      <td>0.041597</td>\n",
       "      <td>0.038376</td>\n",
       "      <td>0.916739</td>\n",
       "      <td>[0.34384555572095443, 0.9909581398266017, -4.8...</td>\n",
       "    </tr>\n",
       "    <tr>\n",
       "      <th>130857</th>\n",
       "      <td>NCI-H2023</td>\n",
       "      <td>L18</td>\n",
       "      <td>1240187</td>\n",
       "      <td>1058</td>\n",
       "      <td>1058_1240187</td>\n",
       "      <td>15420</td>\n",
       "      <td>10.0</td>\n",
       "      <td>1</td>\n",
       "      <td>0.992961</td>\n",
       "      <td>0.866221</td>\n",
       "      <td>...</td>\n",
       "      <td>0.285714</td>\n",
       "      <td>0.428571</td>\n",
       "      <td>0.571429</td>\n",
       "      <td>0.714286</td>\n",
       "      <td>0.857143</td>\n",
       "      <td>1</td>\n",
       "      <td>0.007039</td>\n",
       "      <td>0.019208</td>\n",
       "      <td>0.974643</td>\n",
       "      <td>[0.6395086531724254, 0.9795904154115005, -4.45...</td>\n",
       "    </tr>\n",
       "    <tr>\n",
       "      <th>131007</th>\n",
       "      <td>NCI-H2023</td>\n",
       "      <td>L52</td>\n",
       "      <td>1240187</td>\n",
       "      <td>1873</td>\n",
       "      <td>1873_1240187</td>\n",
       "      <td>15420</td>\n",
       "      <td>10.0</td>\n",
       "      <td>1</td>\n",
       "      <td>0.950728</td>\n",
       "      <td>0.885429</td>\n",
       "      <td>...</td>\n",
       "      <td>0.285714</td>\n",
       "      <td>0.428571</td>\n",
       "      <td>0.571429</td>\n",
       "      <td>0.714286</td>\n",
       "      <td>0.857143</td>\n",
       "      <td>1</td>\n",
       "      <td>0.049272</td>\n",
       "      <td>0.046091</td>\n",
       "      <td>0.931821</td>\n",
       "      <td>[0.7121588452380457, 1.4649285932857437, -125....</td>\n",
       "    </tr>\n",
       "  </tbody>\n",
       "</table>\n",
       "<p>1091 rows × 35 columns</p>\n",
       "</div>"
      ],
      "text/plain": [
       "       CELL_LINE_NAME SHORT_TAG  COSMIC_ID  DRUG_ID DRUGID_COSMICID  SCAN_ID  \\\n",
       "204             22RV1       L78     924100     1941     1941_924100    14769   \n",
       "400          23132-87       L55     910924     1873     1873_910924    12704   \n",
       "132004       NCI-H209       L41     688013     1017     1017_688013    13955   \n",
       "982             639-V       L78     906798     1529     1529_906798    12094   \n",
       "132054       NCI-H209       L73     688013     1190     1190_688013    21953   \n",
       "...               ...       ...        ...      ...             ...      ...   \n",
       "130200      NCI-H1963       L55     688010     1873     1873_688010    13715   \n",
       "130406      NCI-H1975       L55     924244     1873     1873_924244    11744   \n",
       "130836      NCI-H2023        L9    1240187     1022    1022_1240187    15420   \n",
       "130857      NCI-H2023       L18    1240187     1058    1058_1240187    15420   \n",
       "131007      NCI-H2023       L52    1240187     1873    1873_1240187    15420   \n",
       "\n",
       "        MAX_CONC  norm_cells_0  norm_cells_1  norm_cells_2  ...  fd_num_2  \\\n",
       "204         10.0             1      0.964125      0.725165  ...  0.285714   \n",
       "400         10.0             1      0.978341      0.831073  ...  0.285714   \n",
       "132004      10.0             1      0.969660      0.746992  ...  0.285714   \n",
       "982         10.0             1      0.991725      0.954360  ...  0.285714   \n",
       "132054      10.0             1      0.999315      0.678490  ...  0.285714   \n",
       "...          ...           ...           ...           ...  ...       ...   \n",
       "130200      10.0             1      0.972294      0.866483  ...  0.285714   \n",
       "130406      10.0             1      0.955655      0.843890  ...  0.285714   \n",
       "130836      10.0             1      0.958403      0.582039  ...  0.285714   \n",
       "130857      10.0             1      0.992961      0.866221  ...  0.285714   \n",
       "131007      10.0             1      0.950728      0.885429  ...  0.285714   \n",
       "\n",
       "        fd_num_3  fd_num_4  fd_num_5  fd_num_6  fd_num_7  dif_first  dif_last  \\\n",
       "204     0.428571  0.571429  0.714286  0.857143         1   0.035875  0.030083   \n",
       "400     0.428571  0.571429  0.714286  0.857143         1   0.021659  0.043333   \n",
       "132004  0.428571  0.571429  0.714286  0.857143         1   0.030340  0.009569   \n",
       "982     0.428571  0.571429  0.714286  0.857143         1   0.008275  0.020701   \n",
       "132054  0.428571  0.571429  0.714286  0.857143         1   0.000685  0.031936   \n",
       "...          ...       ...       ...       ...       ...        ...       ...   \n",
       "130200  0.428571  0.571429  0.714286  0.857143         1   0.027706  0.029830   \n",
       "130406  0.428571  0.571429  0.714286  0.857143         1   0.044345  0.033536   \n",
       "130836  0.428571  0.571429  0.714286  0.857143         1   0.041597  0.038376   \n",
       "130857  0.428571  0.571429  0.714286  0.857143         1   0.007039  0.019208   \n",
       "131007  0.428571  0.571429  0.714286  0.857143         1   0.049272  0.046091   \n",
       "\n",
       "        sigmoid_4_param_r2                                    sigmoid_4_param  \n",
       "204               0.997639  [0.3267808152761417, 1.0551792679193388, -21.0...  \n",
       "400               0.983603  [0.6622687028346836, 1.001310707183258, -4.705...  \n",
       "132004            0.944187  [0.6928193573268133, 1.2233220610421172, -14.0...  \n",
       "982               0.997228  [0.5598321395239151, 1.06422507908648, -14.852...  \n",
       "132054            0.997680  [0.3253251740225935, 1.0338004770189777, -15.2...  \n",
       "...                    ...                                                ...  \n",
       "130200            0.943713  [0.7544174909380578, 1.6111490976382308, -31.0...  \n",
       "130406            0.977895  [0.6069384722318689, 1.128805472803153, -5.575...  \n",
       "130836            0.916739  [0.34384555572095443, 0.9909581398266017, -4.8...  \n",
       "130857            0.974643  [0.6395086531724254, 0.9795904154115005, -4.45...  \n",
       "131007            0.931821  [0.7121588452380457, 1.4649285932857437, -125....  \n",
       "\n",
       "[1091 rows x 35 columns]"
      ]
     },
     "execution_count": 18,
     "metadata": {},
     "output_type": "execute_result"
    }
   ],
   "source": [
    "df"
   ]
  },
  {
   "cell_type": "markdown",
   "metadata": {},
   "source": [
    "## GDSC2 without fitting"
   ]
  },
  {
   "cell_type": "code",
   "execution_count": 19,
   "metadata": {},
   "outputs": [
    {
     "name": "stderr",
     "output_type": "stream",
     "text": [
      "100%|██████████| 212349/212349 [25:14<00:00, 140.20it/s]\n"
     ]
    },
    {
     "name": "stdout",
     "output_type": "stream",
     "text": [
      "<function sigmoid_4_param at 0x7f11507f3b90>\n",
      "Reduced number of samples: 58798\n",
      "CPU times: user 25min 29s, sys: 7.55 s, total: 25min 36s\n",
      "Wall time: 25min 29s\n"
     ]
    }
   ],
   "source": [
    "%%time\n",
    "\n",
    "df = drug_curves.copy()\n",
    "\n",
    "fitting_function = \"sigmoid_4_param\"\n",
    "filtration_name = \"no_filt\"\n",
    "\n",
    "df = ComputeFittingFunction(df, fitting_function, conc_columns, response_norm)\n",
    "\n",
    "merged_df = MergeDrugCells(df, cell_features, drug_features, \n",
    "                               splitting_needed= True,\n",
    "                               param_col_name = fitting_function)\n",
    "\n",
    "merged_df = merged_df[merged_df[\"sigmoid_4_param_r2\"]>0.9]\n",
    "\n",
    "new_folder = _FOLDER + filtration_name\n",
    "merged_df.to_csv(new_folder+\"/test_gdsc2.csv\")\n",
    "merged_df.shape[0]"
   ]
  },
  {
   "cell_type": "code",
   "execution_count": 20,
   "metadata": {},
   "outputs": [
    {
     "data": {
      "text/html": [
       "<div>\n",
       "<style scoped>\n",
       "    .dataframe tbody tr th:only-of-type {\n",
       "        vertical-align: middle;\n",
       "    }\n",
       "\n",
       "    .dataframe tbody tr th {\n",
       "        vertical-align: top;\n",
       "    }\n",
       "\n",
       "    .dataframe thead th {\n",
       "        text-align: right;\n",
       "    }\n",
       "</style>\n",
       "<table border=\"1\" class=\"dataframe\">\n",
       "  <thead>\n",
       "    <tr style=\"text-align: right;\">\n",
       "      <th></th>\n",
       "      <th>CELL_LINE_NAME</th>\n",
       "      <th>SHORT_TAG</th>\n",
       "      <th>COSMIC_ID</th>\n",
       "      <th>DRUG_ID</th>\n",
       "      <th>DRUGID_COSMICID</th>\n",
       "      <th>SCAN_ID</th>\n",
       "      <th>MAX_CONC</th>\n",
       "      <th>norm_cells_0</th>\n",
       "      <th>norm_cells_1</th>\n",
       "      <th>norm_cells_2</th>\n",
       "      <th>...</th>\n",
       "      <th>chr9:104248247-104249501(C9orf125)_HypMET</th>\n",
       "      <th>chr9:115875199-115875738(C9orf109, C9orf110)_HypMET</th>\n",
       "      <th>chr9:123555399-123555899(FBXW2)_HypMET</th>\n",
       "      <th>chr9:140310894-140312457(EXD3)_HypMET</th>\n",
       "      <th>chr9:21974578-21975306(CDKN2A)_HypMET</th>\n",
       "      <th>chr9:35756948-35757339(MSMP)_HypMET</th>\n",
       "      <th>chr9:35791584-35791924(NPR2)_HypMET</th>\n",
       "      <th>chr9:4984543-4985630(JAK2)_HypMET</th>\n",
       "      <th>chr9:86571047-86572027(C9orf64)_HypMET</th>\n",
       "      <th>chr9:98783216-98784364(NCRNA00092)_HypMET</th>\n",
       "    </tr>\n",
       "  </thead>\n",
       "  <tbody>\n",
       "    <tr>\n",
       "      <th>0</th>\n",
       "      <td>22RV1</td>\n",
       "      <td>R1</td>\n",
       "      <td>924100</td>\n",
       "      <td>1003</td>\n",
       "      <td>1003_924100</td>\n",
       "      <td>8965</td>\n",
       "      <td>0.1</td>\n",
       "      <td>1</td>\n",
       "      <td>1.123625</td>\n",
       "      <td>1.130823</td>\n",
       "      <td>...</td>\n",
       "      <td>0</td>\n",
       "      <td>0</td>\n",
       "      <td>0</td>\n",
       "      <td>0</td>\n",
       "      <td>0</td>\n",
       "      <td>0</td>\n",
       "      <td>0</td>\n",
       "      <td>0</td>\n",
       "      <td>0</td>\n",
       "      <td>0</td>\n",
       "    </tr>\n",
       "    <tr>\n",
       "      <th>1</th>\n",
       "      <td>22RV1</td>\n",
       "      <td>R1</td>\n",
       "      <td>924100</td>\n",
       "      <td>1003</td>\n",
       "      <td>1003_924100</td>\n",
       "      <td>8966</td>\n",
       "      <td>0.1</td>\n",
       "      <td>1</td>\n",
       "      <td>1.147480</td>\n",
       "      <td>1.183175</td>\n",
       "      <td>...</td>\n",
       "      <td>0</td>\n",
       "      <td>0</td>\n",
       "      <td>0</td>\n",
       "      <td>0</td>\n",
       "      <td>0</td>\n",
       "      <td>0</td>\n",
       "      <td>0</td>\n",
       "      <td>0</td>\n",
       "      <td>0</td>\n",
       "      <td>0</td>\n",
       "    </tr>\n",
       "    <tr>\n",
       "      <th>2</th>\n",
       "      <td>22RV1</td>\n",
       "      <td>R1</td>\n",
       "      <td>924100</td>\n",
       "      <td>1003</td>\n",
       "      <td>1003_924100</td>\n",
       "      <td>14769</td>\n",
       "      <td>0.1</td>\n",
       "      <td>1</td>\n",
       "      <td>0.977229</td>\n",
       "      <td>0.953603</td>\n",
       "      <td>...</td>\n",
       "      <td>0</td>\n",
       "      <td>0</td>\n",
       "      <td>0</td>\n",
       "      <td>0</td>\n",
       "      <td>0</td>\n",
       "      <td>0</td>\n",
       "      <td>0</td>\n",
       "      <td>0</td>\n",
       "      <td>0</td>\n",
       "      <td>0</td>\n",
       "    </tr>\n",
       "    <tr>\n",
       "      <th>3</th>\n",
       "      <td>22RV1</td>\n",
       "      <td>R1</td>\n",
       "      <td>924100</td>\n",
       "      <td>1003</td>\n",
       "      <td>1003_924100</td>\n",
       "      <td>24663</td>\n",
       "      <td>0.1</td>\n",
       "      <td>1</td>\n",
       "      <td>0.990563</td>\n",
       "      <td>1.002675</td>\n",
       "      <td>...</td>\n",
       "      <td>0</td>\n",
       "      <td>0</td>\n",
       "      <td>0</td>\n",
       "      <td>0</td>\n",
       "      <td>0</td>\n",
       "      <td>0</td>\n",
       "      <td>0</td>\n",
       "      <td>0</td>\n",
       "      <td>0</td>\n",
       "      <td>0</td>\n",
       "    </tr>\n",
       "    <tr>\n",
       "      <th>4</th>\n",
       "      <td>22RV1</td>\n",
       "      <td>L2</td>\n",
       "      <td>924100</td>\n",
       "      <td>1004</td>\n",
       "      <td>1004_924100</td>\n",
       "      <td>14769</td>\n",
       "      <td>0.1</td>\n",
       "      <td>1</td>\n",
       "      <td>1.032395</td>\n",
       "      <td>1.016626</td>\n",
       "      <td>...</td>\n",
       "      <td>0</td>\n",
       "      <td>0</td>\n",
       "      <td>0</td>\n",
       "      <td>0</td>\n",
       "      <td>0</td>\n",
       "      <td>0</td>\n",
       "      <td>0</td>\n",
       "      <td>0</td>\n",
       "      <td>0</td>\n",
       "      <td>0</td>\n",
       "    </tr>\n",
       "    <tr>\n",
       "      <th>...</th>\n",
       "      <td>...</td>\n",
       "      <td>...</td>\n",
       "      <td>...</td>\n",
       "      <td>...</td>\n",
       "      <td>...</td>\n",
       "      <td>...</td>\n",
       "      <td>...</td>\n",
       "      <td>...</td>\n",
       "      <td>...</td>\n",
       "      <td>...</td>\n",
       "      <td>...</td>\n",
       "      <td>...</td>\n",
       "      <td>...</td>\n",
       "      <td>...</td>\n",
       "      <td>...</td>\n",
       "      <td>...</td>\n",
       "      <td>...</td>\n",
       "      <td>...</td>\n",
       "      <td>...</td>\n",
       "      <td>...</td>\n",
       "      <td>...</td>\n",
       "    </tr>\n",
       "    <tr>\n",
       "      <th>138945</th>\n",
       "      <td>HCC1569</td>\n",
       "      <td>L23</td>\n",
       "      <td>907046</td>\n",
       "      <td>1180</td>\n",
       "      <td>1180_907046</td>\n",
       "      <td>9850</td>\n",
       "      <td>1.0</td>\n",
       "      <td>1</td>\n",
       "      <td>0.998301</td>\n",
       "      <td>0.954344</td>\n",
       "      <td>...</td>\n",
       "      <td>0</td>\n",
       "      <td>0</td>\n",
       "      <td>0</td>\n",
       "      <td>0</td>\n",
       "      <td>0</td>\n",
       "      <td>0</td>\n",
       "      <td>0</td>\n",
       "      <td>0</td>\n",
       "      <td>0</td>\n",
       "      <td>0</td>\n",
       "    </tr>\n",
       "    <tr>\n",
       "      <th>138982</th>\n",
       "      <td>SNU-1040</td>\n",
       "      <td>L17</td>\n",
       "      <td>1659823</td>\n",
       "      <td>1626</td>\n",
       "      <td>1626_1659823</td>\n",
       "      <td>4138</td>\n",
       "      <td>10.0</td>\n",
       "      <td>1</td>\n",
       "      <td>0.979195</td>\n",
       "      <td>0.979195</td>\n",
       "      <td>...</td>\n",
       "      <td>0</td>\n",
       "      <td>0</td>\n",
       "      <td>0</td>\n",
       "      <td>0</td>\n",
       "      <td>0</td>\n",
       "      <td>0</td>\n",
       "      <td>0</td>\n",
       "      <td>0</td>\n",
       "      <td>0</td>\n",
       "      <td>0</td>\n",
       "    </tr>\n",
       "    <tr>\n",
       "      <th>138987</th>\n",
       "      <td>SNU-1040</td>\n",
       "      <td>L119</td>\n",
       "      <td>1659823</td>\n",
       "      <td>1720</td>\n",
       "      <td>1720_1659823</td>\n",
       "      <td>4120</td>\n",
       "      <td>10.0</td>\n",
       "      <td>1</td>\n",
       "      <td>1.150299</td>\n",
       "      <td>1.127768</td>\n",
       "      <td>...</td>\n",
       "      <td>0</td>\n",
       "      <td>0</td>\n",
       "      <td>0</td>\n",
       "      <td>0</td>\n",
       "      <td>0</td>\n",
       "      <td>0</td>\n",
       "      <td>0</td>\n",
       "      <td>0</td>\n",
       "      <td>0</td>\n",
       "      <td>0</td>\n",
       "    </tr>\n",
       "    <tr>\n",
       "      <th>138996</th>\n",
       "      <td>SNU-1040</td>\n",
       "      <td>L95</td>\n",
       "      <td>1659823</td>\n",
       "      <td>1819</td>\n",
       "      <td>1819_1659823</td>\n",
       "      <td>4138</td>\n",
       "      <td>3.0</td>\n",
       "      <td>1</td>\n",
       "      <td>0.959447</td>\n",
       "      <td>0.722733</td>\n",
       "      <td>...</td>\n",
       "      <td>0</td>\n",
       "      <td>0</td>\n",
       "      <td>0</td>\n",
       "      <td>0</td>\n",
       "      <td>0</td>\n",
       "      <td>0</td>\n",
       "      <td>0</td>\n",
       "      <td>0</td>\n",
       "      <td>0</td>\n",
       "      <td>0</td>\n",
       "    </tr>\n",
       "    <tr>\n",
       "      <th>139003</th>\n",
       "      <td>SNU-1040</td>\n",
       "      <td>L23</td>\n",
       "      <td>1659823</td>\n",
       "      <td>1180</td>\n",
       "      <td>1180_1659823</td>\n",
       "      <td>4138</td>\n",
       "      <td>1.0</td>\n",
       "      <td>1</td>\n",
       "      <td>0.966019</td>\n",
       "      <td>1.058089</td>\n",
       "      <td>...</td>\n",
       "      <td>0</td>\n",
       "      <td>0</td>\n",
       "      <td>0</td>\n",
       "      <td>0</td>\n",
       "      <td>0</td>\n",
       "      <td>0</td>\n",
       "      <td>0</td>\n",
       "      <td>0</td>\n",
       "      <td>0</td>\n",
       "      <td>0</td>\n",
       "    </tr>\n",
       "  </tbody>\n",
       "</table>\n",
       "<p>49078 rows × 1354 columns</p>\n",
       "</div>"
      ],
      "text/plain": [
       "       CELL_LINE_NAME SHORT_TAG  COSMIC_ID  DRUG_ID DRUGID_COSMICID  SCAN_ID  \\\n",
       "0               22RV1        R1     924100     1003     1003_924100     8965   \n",
       "1               22RV1        R1     924100     1003     1003_924100     8966   \n",
       "2               22RV1        R1     924100     1003     1003_924100    14769   \n",
       "3               22RV1        R1     924100     1003     1003_924100    24663   \n",
       "4               22RV1        L2     924100     1004     1004_924100    14769   \n",
       "...               ...       ...        ...      ...             ...      ...   \n",
       "138945        HCC1569       L23     907046     1180     1180_907046     9850   \n",
       "138982       SNU-1040       L17    1659823     1626    1626_1659823     4138   \n",
       "138987       SNU-1040      L119    1659823     1720    1720_1659823     4120   \n",
       "138996       SNU-1040       L95    1659823     1819    1819_1659823     4138   \n",
       "139003       SNU-1040       L23    1659823     1180    1180_1659823     4138   \n",
       "\n",
       "        MAX_CONC  norm_cells_0  norm_cells_1  norm_cells_2  ...  \\\n",
       "0            0.1             1      1.123625      1.130823  ...   \n",
       "1            0.1             1      1.147480      1.183175  ...   \n",
       "2            0.1             1      0.977229      0.953603  ...   \n",
       "3            0.1             1      0.990563      1.002675  ...   \n",
       "4            0.1             1      1.032395      1.016626  ...   \n",
       "...          ...           ...           ...           ...  ...   \n",
       "138945       1.0             1      0.998301      0.954344  ...   \n",
       "138982      10.0             1      0.979195      0.979195  ...   \n",
       "138987      10.0             1      1.150299      1.127768  ...   \n",
       "138996       3.0             1      0.959447      0.722733  ...   \n",
       "139003       1.0             1      0.966019      1.058089  ...   \n",
       "\n",
       "        chr9:104248247-104249501(C9orf125)_HypMET  \\\n",
       "0                                               0   \n",
       "1                                               0   \n",
       "2                                               0   \n",
       "3                                               0   \n",
       "4                                               0   \n",
       "...                                           ...   \n",
       "138945                                          0   \n",
       "138982                                          0   \n",
       "138987                                          0   \n",
       "138996                                          0   \n",
       "139003                                          0   \n",
       "\n",
       "        chr9:115875199-115875738(C9orf109, C9orf110)_HypMET  \\\n",
       "0                                                       0     \n",
       "1                                                       0     \n",
       "2                                                       0     \n",
       "3                                                       0     \n",
       "4                                                       0     \n",
       "...                                                   ...     \n",
       "138945                                                  0     \n",
       "138982                                                  0     \n",
       "138987                                                  0     \n",
       "138996                                                  0     \n",
       "139003                                                  0     \n",
       "\n",
       "        chr9:123555399-123555899(FBXW2)_HypMET  \\\n",
       "0                                            0   \n",
       "1                                            0   \n",
       "2                                            0   \n",
       "3                                            0   \n",
       "4                                            0   \n",
       "...                                        ...   \n",
       "138945                                       0   \n",
       "138982                                       0   \n",
       "138987                                       0   \n",
       "138996                                       0   \n",
       "139003                                       0   \n",
       "\n",
       "        chr9:140310894-140312457(EXD3)_HypMET  \\\n",
       "0                                           0   \n",
       "1                                           0   \n",
       "2                                           0   \n",
       "3                                           0   \n",
       "4                                           0   \n",
       "...                                       ...   \n",
       "138945                                      0   \n",
       "138982                                      0   \n",
       "138987                                      0   \n",
       "138996                                      0   \n",
       "139003                                      0   \n",
       "\n",
       "        chr9:21974578-21975306(CDKN2A)_HypMET  \\\n",
       "0                                           0   \n",
       "1                                           0   \n",
       "2                                           0   \n",
       "3                                           0   \n",
       "4                                           0   \n",
       "...                                       ...   \n",
       "138945                                      0   \n",
       "138982                                      0   \n",
       "138987                                      0   \n",
       "138996                                      0   \n",
       "139003                                      0   \n",
       "\n",
       "        chr9:35756948-35757339(MSMP)_HypMET  \\\n",
       "0                                         0   \n",
       "1                                         0   \n",
       "2                                         0   \n",
       "3                                         0   \n",
       "4                                         0   \n",
       "...                                     ...   \n",
       "138945                                    0   \n",
       "138982                                    0   \n",
       "138987                                    0   \n",
       "138996                                    0   \n",
       "139003                                    0   \n",
       "\n",
       "        chr9:35791584-35791924(NPR2)_HypMET  \\\n",
       "0                                         0   \n",
       "1                                         0   \n",
       "2                                         0   \n",
       "3                                         0   \n",
       "4                                         0   \n",
       "...                                     ...   \n",
       "138945                                    0   \n",
       "138982                                    0   \n",
       "138987                                    0   \n",
       "138996                                    0   \n",
       "139003                                    0   \n",
       "\n",
       "        chr9:4984543-4985630(JAK2)_HypMET  \\\n",
       "0                                       0   \n",
       "1                                       0   \n",
       "2                                       0   \n",
       "3                                       0   \n",
       "4                                       0   \n",
       "...                                   ...   \n",
       "138945                                  0   \n",
       "138982                                  0   \n",
       "138987                                  0   \n",
       "138996                                  0   \n",
       "139003                                  0   \n",
       "\n",
       "        chr9:86571047-86572027(C9orf64)_HypMET  \\\n",
       "0                                            0   \n",
       "1                                            0   \n",
       "2                                            0   \n",
       "3                                            0   \n",
       "4                                            0   \n",
       "...                                        ...   \n",
       "138945                                       0   \n",
       "138982                                       0   \n",
       "138987                                       0   \n",
       "138996                                       0   \n",
       "139003                                       0   \n",
       "\n",
       "        chr9:98783216-98784364(NCRNA00092)_HypMET  \n",
       "0                                               0  \n",
       "1                                               0  \n",
       "2                                               0  \n",
       "3                                               0  \n",
       "4                                               0  \n",
       "...                                           ...  \n",
       "138945                                          0  \n",
       "138982                                          0  \n",
       "138987                                          0  \n",
       "138996                                          0  \n",
       "139003                                          0  \n",
       "\n",
       "[49078 rows x 1354 columns]"
      ]
     },
     "execution_count": 20,
     "metadata": {},
     "output_type": "execute_result"
    }
   ],
   "source": [
    "merged_df"
   ]
  },
  {
   "cell_type": "code",
   "execution_count": null,
   "metadata": {},
   "outputs": [],
   "source": []
  }
 ],
 "metadata": {
  "kernelspec": {
   "display_name": "Python 3",
   "language": "python",
   "name": "python3"
  },
  "language_info": {
   "codemirror_mode": {
    "name": "ipython",
    "version": 3
   },
   "file_extension": ".py",
   "mimetype": "text/x-python",
   "name": "python",
   "nbconvert_exporter": "python",
   "pygments_lexer": "ipython3",
   "version": "3.7.9"
  }
 },
 "nbformat": 4,
 "nbformat_minor": 2
}
