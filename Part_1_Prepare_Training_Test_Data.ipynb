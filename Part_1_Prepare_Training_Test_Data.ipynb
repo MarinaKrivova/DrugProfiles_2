{
 "cells": [
  {
   "cell_type": "code",
   "execution_count": 1,
   "metadata": {},
   "outputs": [],
   "source": [
    "import pandas as pd\n",
    "import numpy as np\n",
    "import os\n",
    "import gc\n",
    "import matplotlib.pyplot as plt\n",
    "\n",
    "_FOLDER = \"data/\"\n",
    "_FOLDER_2 = \"figures/\"\n",
    "_FOLDER_3 = \"results/\"\n",
    "SAVE_FIGURES = False\n",
    "\n",
    "from filtering import *\n",
    "from fitting import *\n",
    "from pubchem_processing import *\n",
    "from merging import *"
   ]
  },
  {
   "cell_type": "code",
   "execution_count": 2,
   "metadata": {},
   "outputs": [],
   "source": [
    "functions = [\n",
    "             \"fsigmoid\", \n",
    "             \"sigmoid_2_param\",\n",
    "             \"sigmoid_3_param\",\n",
    "             \"sigmoid_4_param\",\n",
    "             \"logistic_4_param\",\n",
    "            \"ll4_4_param\",\n",
    "            \"ll4R_4_param\",\n",
    "            \"logLogist_3_param\"]\n",
    "\n",
    "load_drug_properties = True"
   ]
  },
  {
   "cell_type": "code",
   "execution_count": 3,
   "metadata": {},
   "outputs": [],
   "source": [
    "drug_curves = pd.read_csv(_FOLDER+\"normalised_dose_response_data.csv\").drop(\"Unnamed: 0\", axis=1)\n",
    "conc_columns= [\"fd_num_\"+str(i) for i in range(10)]\n",
    "response_norm = ['norm_cells_'+str(i) for i in range(10)]\n",
    "cell_features = pd.read_csv(_FOLDER +\"Cell_Line_Features_PANCAN_simple_MOBEM.tsv\", sep=\"\\t\")"
   ]
  },
  {
   "cell_type": "code",
   "execution_count": 4,
   "metadata": {},
   "outputs": [
    {
     "data": {
      "text/plain": [
       "True"
      ]
     },
     "execution_count": 4,
     "metadata": {},
     "output_type": "execute_result"
    }
   ],
   "source": [
    "drug_curves.shape[0] == drug_curves[\"DRUGID_COSMICID\"].nunique()"
   ]
  },
  {
   "cell_type": "code",
   "execution_count": null,
   "metadata": {},
   "outputs": [],
   "source": [
    "if load_drug_properties:\n",
    "    drug_features = pd.read_csv(_FOLDER+\"drug_features_pubchem.csv\")\n",
    "else:\n",
    "    # ~ 3 mins\n",
    "    drugs_1 = pd.read_csv(_FOLDER+'drugs_gdsc1.csv')\n",
    "    drug_features = pd.read_csv(_FOLDER + \"Drug_Features.csv\")\n",
    "    drug_features = PreprocessDrugs(drug_features, drugs_1, save_features_names =True, _FOLDER_to_save = _FOLDER_3)\n",
    "    drug_features.reset_index(inplace=True)\n",
    "    drug_features.to_csv(_FOLDER+\"drug_features_pubchem.csv\", index=False)\n",
    "# Total number of drugs: 250\n",
    "# Number of not found drugs: 17\n",
    "# Elements in drugs: 11 ['Pt', 'I', 'H', 'B', 'P', 'Br', 'O', 'S', 'N', 'Cl', 'F']\n",
    "# Number of targets: 213\n",
    "# Number of unique pathways: 23"
   ]
  },
  {
   "cell_type": "markdown",
   "metadata": {},
   "source": [
    "## as in MSc project"
   ]
  },
  {
   "cell_type": "code",
   "execution_count": null,
   "metadata": {},
   "outputs": [
    {
     "name": "stdout",
     "output_type": "stream",
     "text": [
      "Original dataset: (225384, 43)\n"
     ]
    },
    {
     "name": "stderr",
     "output_type": "stream",
     "text": [
      "  3%|▎         | 83/2776 [00:00<00:03, 828.73it/s]"
     ]
    },
    {
     "name": "stdout",
     "output_type": "stream",
     "text": [
      "1st filtration (Ensure that all the response are less than 1): Filtered dataset: (63325, 43)\n",
      "2d filtration (Ensure that first and last points form plateus): Filtered dataset: (6321, 45)\n",
      "3d stage filtration (Specified location of the plateus): Filtered dataset: (2776, 45)\n"
     ]
    },
    {
     "name": "stderr",
     "output_type": "stream",
     "text": [
      "100%|██████████| 2776/2776 [00:03<00:00, 709.47it/s]\n"
     ]
    },
    {
     "name": "stdout",
     "output_type": "stream",
     "text": [
      "<function sigmoid_4_param at 0x7f1add43cb90>\n",
      "Reduced number of samples: 29\n",
      "Number of samples for ML modelling: 2537\n",
      "Number of drugs with more than 10 profiles: 67\n",
      "Number of drug profiles not covered: 251\n"
     ]
    },
    {
     "data": {
      "text/plain": [
       "(1803, 483, 251)"
      ]
     },
     "execution_count": 6,
     "metadata": {},
     "output_type": "execute_result"
    }
   ],
   "source": [
    "fitting_function = \"sigmoid_4_param\"\n",
    "filtration_name = \"filt_123_04\"\n",
    "\n",
    "df = drug_curves.copy()\n",
    "\n",
    "df = FilteringSigmoidCurves(drug_curves, filtering_scenario=[1,2,3], \\\n",
    "                        response_columns = response_norm, \\\n",
    "                        first_points_lower_limit = 0.8, last_points_upper_limit = 0.4)\n",
    "\n",
    "df = ComputeFittingFunction(df, fitting_function, conc_columns, response_norm)\n",
    "\n",
    "merged_df= MergeDrugCells(df, cell_features, drug_features, \n",
    "                               splitting_needed= True,\n",
    "                               param_col_name = fitting_function,\n",
    "#                                save_CCL_properties = True, _FOLDER_to_save = _FOLDER_3\n",
    "                              )\n",
    "\n",
    "#merged_df[[\"param_\"+str(i) for i in range(1,5)]+[\"sigmoid_4_param\"]].head()\n",
    "\n",
    "train, test, test2 = SplitTrainTestFor10Drugs(merged_df, train_ratio = 0.8)\n",
    "new_folder = _FOLDER + filtration_name\n",
    "if filtration_name not in os.listdir(_FOLDER):\n",
    "    os.makedirs(new_folder)\n",
    "train.to_csv(new_folder+\"/train.csv\")\n",
    "test.to_csv(new_folder+\"/test.csv\")\n",
    "test2.to_csv(new_folder+\"/test2.csv\")\n",
    "train.shape[0], test.shape[0], test2.shape[0]"
   ]
  },
  {
   "cell_type": "markdown",
   "metadata": {},
   "source": [
    "## Additional 4th stage"
   ]
  },
  {
   "cell_type": "code",
   "execution_count": null,
   "metadata": {},
   "outputs": [
    {
     "name": "stdout",
     "output_type": "stream",
     "text": [
      "Original dataset: (225384, 43)\n"
     ]
    },
    {
     "name": "stderr",
     "output_type": "stream",
     "text": [
      "  3%|▎         | 86/2719 [00:00<00:03, 852.12it/s]"
     ]
    },
    {
     "name": "stdout",
     "output_type": "stream",
     "text": [
      "1st filtration (Ensure that all the response are less than 1): Filtered dataset: (63325, 43)\n",
      "2d filtration (Ensure that first and last points form plateus): Filtered dataset: (6321, 45)\n",
      "3d stage filtration (Specified location of the plateus): Filtered dataset: (2776, 45)\n",
      "4th stage filtration (Cut off high ancedent points): Filtered dataset: (2719, 45)\n"
     ]
    },
    {
     "name": "stderr",
     "output_type": "stream",
     "text": [
      "100%|██████████| 2719/2719 [00:03<00:00, 734.05it/s]\n"
     ]
    },
    {
     "name": "stdout",
     "output_type": "stream",
     "text": [
      "<function sigmoid_4_param at 0x7f1add43cb90>\n",
      "Reduced number of samples: 21\n",
      "Number of samples for ML modelling: 2492\n",
      "Number of drugs with more than 10 profiles: 67\n",
      "Number of drug profiles not covered: 245\n"
     ]
    },
    {
     "data": {
      "text/plain": [
       "(1773, 474, 245)"
      ]
     },
     "execution_count": 7,
     "metadata": {},
     "output_type": "execute_result"
    }
   ],
   "source": [
    "fitting_function = \"sigmoid_4_param\"\n",
    "filtration_name = \"filt_1234_04\"\n",
    "\n",
    "df = drug_curves.copy()\n",
    "\n",
    "df = FilteringSigmoidCurves(drug_curves, filtering_scenario = [1,2,3,4], \\\n",
    "                        response_columns = response_norm, \\\n",
    "                        first_points_lower_limit = 0.8, last_points_upper_limit = 0.4)\n",
    "\n",
    "df = ComputeFittingFunction(df, fitting_function, conc_columns, response_norm)\n",
    "\n",
    "merged_df = MergeDrugCells(df, cell_features, drug_features, \n",
    "                               splitting_needed= True,\n",
    "                               param_col_name = fitting_function)\n",
    "\n",
    "\n",
    "train, test, test2 = SplitTrainTestFor10Drugs(merged_df, train_ratio = 0.8)\n",
    "new_folder = _FOLDER + filtration_name\n",
    "if filtration_name not in os.listdir(_FOLDER):\n",
    "    os.makedirs(new_folder)\n",
    "train.to_csv(new_folder+\"/train.csv\")\n",
    "test.to_csv(new_folder+\"/test.csv\")\n",
    "test2.to_csv(new_folder+\"/test2.csv\")\n",
    "train.shape[0], test.shape[0], test2.shape[0]"
   ]
  },
  {
   "cell_type": "markdown",
   "metadata": {},
   "source": [
    "## No filtering - only fitting"
   ]
  },
  {
   "cell_type": "code",
   "execution_count": null,
   "metadata": {},
   "outputs": [
    {
     "name": "stderr",
     "output_type": "stream",
     "text": [
      "100%|██████████| 225384/225384 [23:09<00:00, 162.22it/s] \n"
     ]
    },
    {
     "name": "stdout",
     "output_type": "stream",
     "text": [
      "<function sigmoid_4_param at 0x7f1add43cb90>\n",
      "Reduced number of samples: 88411\n",
      "Number of samples for ML modelling: 49280\n",
      "Number of drugs with more than 10 profiles: 205\n",
      "Number of drug profiles not covered: 60\n",
      "39292 9928 60\n",
      "CPU times: user 23min 59s, sys: 24.9 s, total: 24min 24s\n",
      "Wall time: 24min 14s\n"
     ]
    }
   ],
   "source": [
    "%%time\n",
    "\n",
    "df = drug_curves.copy()\n",
    "\n",
    "fitting_function = \"sigmoid_4_param\"\n",
    "filtration_name = \"no_filt\"\n",
    "\n",
    "df = ComputeFittingFunction(df, fitting_function, conc_columns, response_norm)\n",
    "\n",
    "merged_df = MergeDrugCells(df, cell_features, drug_features, \n",
    "                               splitting_needed= True,\n",
    "                               param_col_name = fitting_function)\n",
    "\n",
    "merged_df = merged_df[merged_df[\"sigmoid_4_param_r2\"]>0.9]\n",
    "\n",
    "train, test, test2 = SplitTrainTestFor10Drugs(merged_df, train_ratio = 0.8)\n",
    "new_folder = _FOLDER + filtration_name\n",
    "if filtration_name not in os.listdir(_FOLDER):\n",
    "    os.makedirs(new_folder)\n",
    "train.to_csv(new_folder+\"/train.csv\")\n",
    "test.to_csv(new_folder+\"/test.csv\")\n",
    "test2.to_csv(new_folder+\"/test2.csv\")\n",
    "print(train.shape[0], test.shape[0], test2.shape[0])"
   ]
  },
  {
   "cell_type": "markdown",
   "metadata": {},
   "source": [
    "## AUC -filtering"
   ]
  },
  {
   "cell_type": "code",
   "execution_count": null,
   "metadata": {},
   "outputs": [
    {
     "name": "stderr",
     "output_type": "stream",
     "text": [
      "100%|██████████| 122642/122642 [14:38<00:00, 139.60it/s]\n"
     ]
    },
    {
     "name": "stdout",
     "output_type": "stream",
     "text": [
      "<function sigmoid_4_param at 0x7f1add43cb90>\n",
      "Reduced number of samples: 35031\n",
      "Number of samples for ML modelling: 78650\n",
      "Number of drugs with more than 10 profiles: 216\n",
      "Number of drug profiles not covered: 0\n"
     ]
    },
    {
     "data": {
      "text/plain": [
       "(62825, 15825, 0)"
      ]
     },
     "execution_count": 9,
     "metadata": {},
     "output_type": "execute_result"
    }
   ],
   "source": [
    "df = pd.read_csv(\"results/filt_auc.csv\")\n",
    "\n",
    "fitting_function = \"sigmoid_4_param\"\n",
    "filtration_name = \"auc_filt\"\n",
    "\n",
    "df = ComputeFittingFunction(df, fitting_function, conc_columns, response_norm)\n",
    "\n",
    "merged_df = MergeDrugCells(df, cell_features, drug_features, \n",
    "                               splitting_needed= True,\n",
    "                               param_col_name = fitting_function)\n",
    "\n",
    "\n",
    "train, test, test2 = SplitTrainTestFor10Drugs(merged_df, train_ratio = 0.8)\n",
    "new_folder = _FOLDER + filtration_name\n",
    "if filtration_name not in os.listdir(_FOLDER):\n",
    "    os.makedirs(new_folder)\n",
    "train.to_csv(new_folder+\"/train.csv\")\n",
    "test.to_csv(new_folder+\"/test.csv\")\n",
    "test2.to_csv(new_folder+\"/test2.csv\")\n",
    "train.shape[0], test.shape[0], test2.shape[0]"
   ]
  },
  {
   "cell_type": "code",
   "execution_count": null,
   "metadata": {},
   "outputs": [
    {
     "name": "stderr",
     "output_type": "stream",
     "text": [
      " 36%|███▌      | 4329/12169 [00:30<00:52, 149.08it/s]"
     ]
    }
   ],
   "source": [
    "df = pd.read_csv(\"results/filt_auc_02.csv\")\n",
    "\n",
    "fitting_function = \"sigmoid_4_param\"\n",
    "filtration_name = \"filt_auc_02\"\n",
    "\n",
    "df = ComputeFittingFunction(df, fitting_function, conc_columns, response_norm)\n",
    "\n",
    "merged_df = MergeDrugCells(df, cell_features, drug_features, \n",
    "                               splitting_needed= True,\n",
    "                               param_col_name = fitting_function)\n",
    "\n",
    "\n",
    "train, test, test2 = SplitTrainTestFor10Drugs(merged_df, train_ratio = 0.8)\n",
    "new_folder = _FOLDER + filtration_name\n",
    "if filtration_name not in os.listdir(_FOLDER):\n",
    "    os.makedirs(new_folder)\n",
    "train.to_csv(new_folder+\"/train.csv\")\n",
    "test.to_csv(new_folder+\"/test.csv\")\n",
    "test2.to_csv(new_folder+\"/test2.csv\")\n",
    "train.shape[0], test.shape[0], test2.shape[0]"
   ]
  },
  {
   "cell_type": "markdown",
   "metadata": {},
   "source": [
    "## Test sets from GDSC2"
   ]
  },
  {
   "cell_type": "code",
   "execution_count": null,
   "metadata": {},
   "outputs": [],
   "source": [
    "drug_curves = pd.read_csv(_FOLDER+\"normalised_dose_response_data_GDCS2_EC_conc.csv\", sep= \"\\t\")\n",
    "drug_curves.shape"
   ]
  },
  {
   "cell_type": "code",
   "execution_count": null,
   "metadata": {},
   "outputs": [],
   "source": [
    "conc_columns= [\"fd_num_\"+str(i) for i in range(8)]\n",
    "response_norm = ['norm_cells_'+str(i) for i in range(8)]\n",
    "load_drug_properties=False"
   ]
  },
  {
   "cell_type": "code",
   "execution_count": null,
   "metadata": {},
   "outputs": [],
   "source": [
    "%%time\n",
    "if load_drug_properties:\n",
    "    drug_features = pd.read_csv(_FOLDER+\"drug_features_pubchem_gdsc2.csv\")\n",
    "else:\n",
    "    # ~ 3 mins\n",
    "    drug_features = pd.read_csv(_FOLDER + \"drugs_gdsc2.csv\")\n",
    "    drug_features.columns = ['DRUG_ID', 'Drug_Name', 'Synonyms', 'Target_Pathway', 'Target', 'pubchem_id']\n",
    "    drug_features = GetPubChemId(drug_features)\n",
    "    drug_features = PreprocessDrugs(drug_features, drug_features_wih_pubchem_id = True, \n",
    "                                    save_features_names =False)\n",
    "    drug_features.reset_index(inplace=True)\n",
    "    drug_features = drug_features[drug_features[\"pubchem_id\"]!= \"-\"]\n",
    "    drug_features.to_csv(_FOLDER+\"drug_features_pubchem_gdsc2.csv\", index=False)\n",
    "    \n",
    "#columns with drug features can be different!"
   ]
  },
  {
   "cell_type": "code",
   "execution_count": null,
   "metadata": {},
   "outputs": [],
   "source": [
    "drug_features2 = pd.read_csv(_FOLDER+\"drug_features_pubchem_gdsc2.csv\")\n",
    "drug_features2.shape"
   ]
  },
  {
   "cell_type": "code",
   "execution_count": null,
   "metadata": {},
   "outputs": [],
   "source": [
    "drug_features2"
   ]
  },
  {
   "cell_type": "code",
   "execution_count": null,
   "metadata": {},
   "outputs": [],
   "source": [
    "fitting_function = \"sigmoid_4_param\"\n",
    "filtration_name = \"filt_123_04\"\n",
    "\n",
    "df = drug_curves.copy()\n",
    "\n",
    "df = FilteringSigmoidCurves(drug_curves, filtering_scenario=[1,2,3], \\\n",
    "                        response_columns = response_norm, \\\n",
    "                        first_points_lower_limit = 0.8, last_points_upper_limit = 0.4)\n",
    "\n",
    "df = ComputeFittingFunction(df, fitting_function, conc_columns, response_norm)\n",
    "\n",
    "merged_df= MergeDrugCells(df, cell_features, drug_features, \n",
    "                               splitting_needed= True,\n",
    "                               param_col_name = fitting_function,\n",
    "#                                save_CCL_properties = True, _FOLDER_to_save = _FOLDER_3\n",
    "                              )\n",
    "new_folder = _FOLDER + filtration_name\n",
    "merged_df.to_csv(new_folder+\"/test_gdsc2.csv\")\n",
    "merged_df.shape[0]"
   ]
  },
  {
   "cell_type": "code",
   "execution_count": null,
   "metadata": {},
   "outputs": [],
   "source": [
    "df"
   ]
  },
  {
   "cell_type": "markdown",
   "metadata": {},
   "source": [
    "## GDSC2 without fitting"
   ]
  },
  {
   "cell_type": "code",
   "execution_count": null,
   "metadata": {},
   "outputs": [],
   "source": [
    "%%time\n",
    "\n",
    "df = drug_curves.copy()\n",
    "\n",
    "fitting_function = \"sigmoid_4_param\"\n",
    "filtration_name = \"no_filt\"\n",
    "\n",
    "df = ComputeFittingFunction(df, fitting_function, conc_columns, response_norm)\n",
    "\n",
    "merged_df = MergeDrugCells(df, cell_features, drug_features, \n",
    "                               splitting_needed= True,\n",
    "                               param_col_name = fitting_function)\n",
    "\n",
    "merged_df = merged_df[merged_df[\"sigmoid_4_param_r2\"]>0.9]\n",
    "\n",
    "new_folder = _FOLDER + filtration_name\n",
    "merged_df.to_csv(new_folder+\"/test_gdsc2.csv\")\n",
    "merged_df.shape[0]"
   ]
  },
  {
   "cell_type": "code",
   "execution_count": null,
   "metadata": {},
   "outputs": [],
   "source": [
    "merged_df"
   ]
  },
  {
   "cell_type": "code",
   "execution_count": null,
   "metadata": {},
   "outputs": [],
   "source": []
  }
 ],
 "metadata": {
  "kernelspec": {
   "display_name": "Python 3",
   "language": "python",
   "name": "python3"
  },
  "language_info": {
   "codemirror_mode": {
    "name": "ipython",
    "version": 3
   },
   "file_extension": ".py",
   "mimetype": "text/x-python",
   "name": "python",
   "nbconvert_exporter": "python",
   "pygments_lexer": "ipython3",
   "version": "3.7.9"
  }
 },
 "nbformat": 4,
 "nbformat_minor": 2
}
