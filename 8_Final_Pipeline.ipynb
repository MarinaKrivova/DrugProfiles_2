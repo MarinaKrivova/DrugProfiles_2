{
 "cells": [
  {
   "cell_type": "markdown",
   "metadata": {},
   "source": [
    "## Pipeline for Data preprocessing and modelling"
   ]
  },
  {
   "cell_type": "code",
   "execution_count": 1,
   "metadata": {},
   "outputs": [],
   "source": [
    "import pandas as pd\n",
    "import numpy as np\n",
    "import os\n",
    "import gc\n",
    "\n",
    "import pickle\n",
    "import matplotlib.pyplot as plt\n",
    "%matplotlib inline\n",
    "\n",
    "_FOLDER = \"data/\"\n",
    "_FOLDER_2 = \"results/\""
   ]
  },
  {
   "cell_type": "code",
   "execution_count": 2,
   "metadata": {},
   "outputs": [],
   "source": [
    "# all functions are stored in all_functions.py\n",
    "\n",
    "from all_functions import DataPreprocessing, TrainTestSplit, r2_score_fitting, mae_score_reconstruct\n",
    "from training_testing import TrainTest_KR_Alg1, TrainTest_SVR_Alg1, ShowErrors, CompareTrainingScenarios, CompareTrainingScenariosModels"
   ]
  },
  {
   "cell_type": "code",
   "execution_count": 3,
   "metadata": {},
   "outputs": [],
   "source": [
    "with open(_FOLDER_2+\"X_features_cancer_cell_lines.txt\", 'r') as f:\n",
    "    X_cancer_cell_lines = [line.rstrip('\\n') for line in f]\n",
    "# *****************************************\n",
    "\n",
    "with open(_FOLDER_2+\"X_PubChem_properties.txt\", 'r') as f:\n",
    "    X_PubChem_properties = [line.rstrip('\\n') for line in f]\n",
    "# *****************************************\n",
    "\n",
    "with open(_FOLDER_2+\"X_features_Targets.txt\", 'r') as f:\n",
    "    X_targets = [line.rstrip('\\n') for line in f]\n",
    "# *****************************************\n",
    "\n",
    "with open(_FOLDER_2+\"X_features_Target_Pathway.txt\", 'r') as f:\n",
    "    X_target_pathway = [line.rstrip('\\n') for line in f]\n",
    "# *****************************************\n",
    "\n",
    "X_columns = [\"MAX_CONC\"] + X_PubChem_properties +  X_targets + X_target_pathway + X_cancer_cell_lines"
   ]
  },
  {
   "cell_type": "markdown",
   "metadata": {},
   "source": [
    "## ML training"
   ]
  },
  {
   "cell_type": "markdown",
   "metadata": {},
   "source": [
    "## Best parameters Algoritm_1 (drug-by-drug)"
   ]
  },
  {
   "cell_type": "code",
   "execution_count": 4,
   "metadata": {},
   "outputs": [],
   "source": [
    "models_dict = {}\n",
    "models_dict[\"Poly_KR\"]={}\n",
    "models_dict[\"Poly_KR\"][\"hyperparameters\"] = pd.read_csv(_FOLDER_2+\"hyperparameters_coef1_alg1.csv\").set_index(\"DRUG_ID\")\n",
    "models_dict[\"Poly_KR\"][\"kernel\"]= \"polynomial\"\n",
    "models_dict[\"Poly_KR\"]['model_type']= \"KR_alg1\"\n",
    "\n",
    "models_dict[\"RBF_SVR\"]={}\n",
    "models_dict[\"RBF_SVR\"][\"hyperparameters\"] = pd.read_csv(_FOLDER_2+\"hyperparameters_coef2_alg1.csv\").set_index(\"DRUG_ID\")\n",
    "models_dict[\"RBF_SVR\"][\"kernel\"]= \"rbf\"\n",
    "models_dict[\"RBF_SVR\"]['model_type']= \"SVR_alg1\"\n",
    "\n",
    "models_dict[\"Linear_SVR\"]={}\n",
    "models_dict[\"Linear_SVR\"][\"hyperparameters\"] = pd.read_csv(_FOLDER_2+\"hyperparameters_coef3_alg1.csv\").set_index(\"DRUG_ID\")\n",
    "models_dict[\"Linear_SVR\"][\"kernel\"]= \"linear\"\n",
    "models_dict[\"Linear_SVR\"]['model_type']= \"SVR_alg1\"\n",
    "\n",
    "models_dict[\"Poly_KR\"]={}\n",
    "models_dict[\"Poly_KR\"][\"hyperparameters\"] = pd.read_csv(_FOLDER_2+\"hyperparameters_coef4_alg1.csv\").set_index(\"DRUG_ID\")\n",
    "models_dict[\"Poly_KR\"][\"kernel\"]= \"rbf\"\n",
    "models_dict[\"Poly_KR\"]['model_type']= \"KR_alg1\""
   ]
  },
  {
   "cell_type": "code",
   "execution_count": 5,
   "metadata": {},
   "outputs": [
    {
     "name": "stderr",
     "output_type": "stream",
     "text": [
      "100%|██████████| 2776/2776 [00:04<00:00, 681.09it/s]\n"
     ]
    },
    {
     "name": "stdout",
     "output_type": "stream",
     "text": [
      "sigmoid_4_param Filtering [1, 2, 3], r2>None, Poly_KR\n",
      "\n",
      "MAE: 0.508 +/- 0.808\n",
      "MRE: 64.8 +/- 77.8\n",
      "\n",
      "(781, 1370) (202, 1370)\n"
     ]
    },
    {
     "name": "stderr",
     "output_type": "stream",
     "text": [
      "100%|██████████| 2776/2776 [00:04<00:00, 686.16it/s]\n"
     ]
    },
    {
     "name": "stdout",
     "output_type": "stream",
     "text": [
      "sigmoid_4_param Filtering [1, 2, 3], r2>0, Poly_KR\n",
      "\n",
      "MAE: 0.508 +/- 0.808\n",
      "MRE: 64.8 +/- 77.8\n",
      "\n",
      "(781, 1370) (202, 1370)\n"
     ]
    },
    {
     "name": "stderr",
     "output_type": "stream",
     "text": [
      "100%|██████████| 2776/2776 [00:04<00:00, 685.86it/s]\n"
     ]
    },
    {
     "name": "stdout",
     "output_type": "stream",
     "text": [
      "sigmoid_4_param Filtering [1, 2, 3], r2>0.9, Poly_KR\n",
      "\n",
      "MAE: 0.131 +/- 0.082\n",
      "MRE: 27.4 +/- 14.0\n",
      "\n",
      "(722, 1370) (184, 1370)\n"
     ]
    },
    {
     "name": "stderr",
     "output_type": "stream",
     "text": [
      "100%|██████████| 2600/2600 [00:03<00:00, 689.61it/s]\n"
     ]
    },
    {
     "name": "stdout",
     "output_type": "stream",
     "text": [
      "sigmoid_4_param Filtering [1, 2, 3, 4], r2>None, Poly_KR\n",
      "\n",
      "MAE: 0.499 +/- 0.75\n",
      "MRE: 59.7 +/- 78.7\n",
      "\n",
      "(703, 1370) (180, 1370)\n"
     ]
    },
    {
     "name": "stderr",
     "output_type": "stream",
     "text": [
      "100%|██████████| 2600/2600 [00:03<00:00, 698.23it/s]\n"
     ]
    },
    {
     "name": "stdout",
     "output_type": "stream",
     "text": [
      "sigmoid_4_param Filtering [1, 2, 3, 4], r2>0, Poly_KR\n",
      "\n",
      "MAE: 0.499 +/- 0.75\n",
      "MRE: 59.7 +/- 78.7\n",
      "\n",
      "(703, 1370) (180, 1370)\n"
     ]
    },
    {
     "name": "stderr",
     "output_type": "stream",
     "text": [
      "100%|██████████| 2600/2600 [00:03<00:00, 693.98it/s]\n"
     ]
    },
    {
     "name": "stdout",
     "output_type": "stream",
     "text": [
      "sigmoid_4_param Filtering [1, 2, 3, 4], r2>0.9, Poly_KR\n",
      "\n",
      "MAE: 0.157 +/- 0.091\n",
      "MRE: 30.7 +/- 14.2\n",
      "\n",
      "(690, 1370) (177, 1370)\n"
     ]
    },
    {
     "name": "stderr",
     "output_type": "stream",
     "text": [
      "100%|██████████| 2776/2776 [00:04<00:00, 680.74it/s]\n"
     ]
    },
    {
     "name": "stdout",
     "output_type": "stream",
     "text": [
      "sigmoid_4_param Filtering [1, 2, 3], r2>None, RBF_SVR\n",
      "\n",
      "MAE: 0.367 +/- 0.698\n",
      "MRE: 24.7 +/- 8.4\n",
      "\n",
      "(781, 1370) (202, 1370)\n"
     ]
    },
    {
     "name": "stderr",
     "output_type": "stream",
     "text": [
      "100%|██████████| 2776/2776 [00:04<00:00, 690.07it/s]\n"
     ]
    },
    {
     "name": "stdout",
     "output_type": "stream",
     "text": [
      "sigmoid_4_param Filtering [1, 2, 3], r2>0, RBF_SVR\n",
      "\n",
      "MAE: 0.367 +/- 0.698\n",
      "MRE: 24.7 +/- 8.4\n",
      "\n",
      "(781, 1370) (202, 1370)\n"
     ]
    },
    {
     "name": "stderr",
     "output_type": "stream",
     "text": [
      "100%|██████████| 2776/2776 [00:04<00:00, 684.04it/s]\n"
     ]
    },
    {
     "name": "stdout",
     "output_type": "stream",
     "text": [
      "sigmoid_4_param Filtering [1, 2, 3], r2>0.9, RBF_SVR\n",
      "\n",
      "MAE: 0.08 +/- 0.021\n",
      "MRE: 19.7 +/- 4.7\n",
      "\n",
      "(722, 1370) (184, 1370)\n"
     ]
    },
    {
     "name": "stderr",
     "output_type": "stream",
     "text": [
      "100%|██████████| 2600/2600 [00:03<00:00, 698.71it/s]\n"
     ]
    },
    {
     "name": "stdout",
     "output_type": "stream",
     "text": [
      "sigmoid_4_param Filtering [1, 2, 3, 4], r2>None, RBF_SVR\n",
      "\n",
      "MAE: 0.386 +/- 0.645\n",
      "MRE: 23.9 +/- 9.5\n",
      "\n",
      "(703, 1370) (180, 1370)\n"
     ]
    },
    {
     "name": "stderr",
     "output_type": "stream",
     "text": [
      "100%|██████████| 2600/2600 [00:03<00:00, 691.12it/s]\n"
     ]
    },
    {
     "name": "stdout",
     "output_type": "stream",
     "text": [
      "sigmoid_4_param Filtering [1, 2, 3, 4], r2>0, RBF_SVR\n",
      "\n",
      "MAE: 0.386 +/- 0.645\n",
      "MRE: 23.9 +/- 9.5\n",
      "\n",
      "(703, 1370) (180, 1370)\n"
     ]
    },
    {
     "name": "stderr",
     "output_type": "stream",
     "text": [
      "100%|██████████| 2600/2600 [00:03<00:00, 694.38it/s]\n"
     ]
    },
    {
     "name": "stdout",
     "output_type": "stream",
     "text": [
      "sigmoid_4_param Filtering [1, 2, 3, 4], r2>0.9, RBF_SVR\n",
      "\n",
      "MAE: 0.095 +/- 0.023\n",
      "MRE: 21.7 +/- 5.6\n",
      "\n",
      "(690, 1370) (177, 1370)\n"
     ]
    },
    {
     "name": "stderr",
     "output_type": "stream",
     "text": [
      "100%|██████████| 2776/2776 [00:04<00:00, 690.52it/s]\n"
     ]
    },
    {
     "name": "stdout",
     "output_type": "stream",
     "text": [
      "sigmoid_4_param Filtering [1, 2, 3], r2>None, Linear_SVR\n",
      "\n",
      "MAE: 1.363 +/- 1.624\n",
      "MRE: 325.8 +/- 410.8\n",
      "\n",
      "(781, 1370) (202, 1370)\n"
     ]
    },
    {
     "name": "stderr",
     "output_type": "stream",
     "text": [
      "100%|██████████| 2776/2776 [00:04<00:00, 681.85it/s]\n"
     ]
    },
    {
     "name": "stdout",
     "output_type": "stream",
     "text": [
      "sigmoid_4_param Filtering [1, 2, 3], r2>0, Linear_SVR\n",
      "\n",
      "MAE: 1.363 +/- 1.624\n",
      "MRE: 325.8 +/- 410.8\n",
      "\n",
      "(781, 1370) (202, 1370)\n"
     ]
    },
    {
     "name": "stderr",
     "output_type": "stream",
     "text": [
      "100%|██████████| 2776/2776 [00:04<00:00, 672.02it/s]\n"
     ]
    },
    {
     "name": "stdout",
     "output_type": "stream",
     "text": [
      "sigmoid_4_param Filtering [1, 2, 3], r2>0.9, Linear_SVR\n",
      "\n",
      "MAE: 0.09 +/- 0.019\n",
      "MRE: 23.7 +/- 6.5\n",
      "\n",
      "(722, 1370) (184, 1370)\n"
     ]
    },
    {
     "name": "stderr",
     "output_type": "stream",
     "text": [
      "100%|██████████| 2600/2600 [00:03<00:00, 696.87it/s]\n"
     ]
    },
    {
     "name": "stdout",
     "output_type": "stream",
     "text": [
      "sigmoid_4_param Filtering [1, 2, 3, 4], r2>None, Linear_SVR\n",
      "\n",
      "MAE: 1.273 +/- 1.757\n",
      "MRE: 305.0 +/- 462.1\n",
      "\n",
      "(703, 1370) (180, 1370)\n"
     ]
    },
    {
     "name": "stderr",
     "output_type": "stream",
     "text": [
      "100%|██████████| 2600/2600 [00:03<00:00, 692.02it/s]\n"
     ]
    },
    {
     "name": "stdout",
     "output_type": "stream",
     "text": [
      "sigmoid_4_param Filtering [1, 2, 3, 4], r2>0, Linear_SVR\n",
      "\n",
      "MAE: 1.273 +/- 1.757\n",
      "MRE: 305.0 +/- 462.1\n",
      "\n",
      "(703, 1370) (180, 1370)\n"
     ]
    },
    {
     "name": "stderr",
     "output_type": "stream",
     "text": [
      "100%|██████████| 2600/2600 [00:03<00:00, 694.11it/s]\n"
     ]
    },
    {
     "name": "stdout",
     "output_type": "stream",
     "text": [
      "sigmoid_4_param Filtering [1, 2, 3, 4], r2>0.9, Linear_SVR\n",
      "\n",
      "MAE: 0.099 +/- 0.021\n",
      "MRE: 23.9 +/- 6.2\n",
      "\n",
      "(690, 1370) (177, 1370)\n",
      "\n",
      " sigmoid_4_param\n"
     ]
    },
    {
     "data": {
      "text/html": [
       "<div>\n",
       "<style scoped>\n",
       "    .dataframe tbody tr th:only-of-type {\n",
       "        vertical-align: middle;\n",
       "    }\n",
       "\n",
       "    .dataframe tbody tr th {\n",
       "        vertical-align: top;\n",
       "    }\n",
       "\n",
       "    .dataframe thead th {\n",
       "        text-align: right;\n",
       "    }\n",
       "</style>\n",
       "<table border=\"1\" class=\"dataframe\">\n",
       "  <thead>\n",
       "    <tr style=\"text-align: right;\">\n",
       "      <th></th>\n",
       "      <th>mae_coef_1</th>\n",
       "      <th>mre_coef_1</th>\n",
       "      <th>train_test_shape</th>\n",
       "    </tr>\n",
       "  </thead>\n",
       "  <tbody>\n",
       "    <tr>\n",
       "      <th>Filtering [1, 2, 3], r2&gt;None, Poly_KR</th>\n",
       "      <td>0.508 +/- 0.808</td>\n",
       "      <td>64.8 +/- 77.8</td>\n",
       "      <td>781 , 202</td>\n",
       "    </tr>\n",
       "    <tr>\n",
       "      <th>Filtering [1, 2, 3], r2&gt;None, RBF_SVR</th>\n",
       "      <td>0.367 +/- 0.698</td>\n",
       "      <td>24.7 +/- 8.4</td>\n",
       "      <td>781 , 202</td>\n",
       "    </tr>\n",
       "    <tr>\n",
       "      <th>Filtering [1, 2, 3], r2&gt;None, Linear_SVR</th>\n",
       "      <td>1.363 +/- 1.624</td>\n",
       "      <td>325.8 +/- 410.8</td>\n",
       "      <td>781 , 202</td>\n",
       "    </tr>\n",
       "    <tr>\n",
       "      <th>Filtering [1, 2, 3], r2&gt;0, Poly_KR</th>\n",
       "      <td>0.508 +/- 0.808</td>\n",
       "      <td>64.8 +/- 77.8</td>\n",
       "      <td>781 , 202</td>\n",
       "    </tr>\n",
       "    <tr>\n",
       "      <th>Filtering [1, 2, 3], r2&gt;0, RBF_SVR</th>\n",
       "      <td>0.367 +/- 0.698</td>\n",
       "      <td>24.7 +/- 8.4</td>\n",
       "      <td>781 , 202</td>\n",
       "    </tr>\n",
       "    <tr>\n",
       "      <th>Filtering [1, 2, 3], r2&gt;0, Linear_SVR</th>\n",
       "      <td>1.363 +/- 1.624</td>\n",
       "      <td>325.8 +/- 410.8</td>\n",
       "      <td>781 , 202</td>\n",
       "    </tr>\n",
       "    <tr>\n",
       "      <th>Filtering [1, 2, 3], r2&gt;0.9, Poly_KR</th>\n",
       "      <td>0.131 +/- 0.082</td>\n",
       "      <td>27.4 +/- 14.0</td>\n",
       "      <td>722 , 184</td>\n",
       "    </tr>\n",
       "    <tr>\n",
       "      <th>Filtering [1, 2, 3], r2&gt;0.9, RBF_SVR</th>\n",
       "      <td>0.08 +/- 0.021</td>\n",
       "      <td>19.7 +/- 4.7</td>\n",
       "      <td>722 , 184</td>\n",
       "    </tr>\n",
       "    <tr>\n",
       "      <th>Filtering [1, 2, 3], r2&gt;0.9, Linear_SVR</th>\n",
       "      <td>0.09 +/- 0.019</td>\n",
       "      <td>23.7 +/- 6.5</td>\n",
       "      <td>722 , 184</td>\n",
       "    </tr>\n",
       "    <tr>\n",
       "      <th>Filtering [1, 2, 3, 4], r2&gt;None, Poly_KR</th>\n",
       "      <td>0.499 +/- 0.75</td>\n",
       "      <td>59.7 +/- 78.7</td>\n",
       "      <td>703 , 180</td>\n",
       "    </tr>\n",
       "    <tr>\n",
       "      <th>Filtering [1, 2, 3, 4], r2&gt;None, RBF_SVR</th>\n",
       "      <td>0.386 +/- 0.645</td>\n",
       "      <td>23.9 +/- 9.5</td>\n",
       "      <td>703 , 180</td>\n",
       "    </tr>\n",
       "    <tr>\n",
       "      <th>Filtering [1, 2, 3, 4], r2&gt;None, Linear_SVR</th>\n",
       "      <td>1.273 +/- 1.757</td>\n",
       "      <td>305.0 +/- 462.1</td>\n",
       "      <td>703 , 180</td>\n",
       "    </tr>\n",
       "    <tr>\n",
       "      <th>Filtering [1, 2, 3, 4], r2&gt;0, Poly_KR</th>\n",
       "      <td>0.499 +/- 0.75</td>\n",
       "      <td>59.7 +/- 78.7</td>\n",
       "      <td>703 , 180</td>\n",
       "    </tr>\n",
       "    <tr>\n",
       "      <th>Filtering [1, 2, 3, 4], r2&gt;0, RBF_SVR</th>\n",
       "      <td>0.386 +/- 0.645</td>\n",
       "      <td>23.9 +/- 9.5</td>\n",
       "      <td>703 , 180</td>\n",
       "    </tr>\n",
       "    <tr>\n",
       "      <th>Filtering [1, 2, 3, 4], r2&gt;0, Linear_SVR</th>\n",
       "      <td>1.273 +/- 1.757</td>\n",
       "      <td>305.0 +/- 462.1</td>\n",
       "      <td>703 , 180</td>\n",
       "    </tr>\n",
       "    <tr>\n",
       "      <th>Filtering [1, 2, 3, 4], r2&gt;0.9, Poly_KR</th>\n",
       "      <td>0.157 +/- 0.091</td>\n",
       "      <td>30.7 +/- 14.2</td>\n",
       "      <td>690 , 177</td>\n",
       "    </tr>\n",
       "    <tr>\n",
       "      <th>Filtering [1, 2, 3, 4], r2&gt;0.9, RBF_SVR</th>\n",
       "      <td>0.095 +/- 0.023</td>\n",
       "      <td>21.7 +/- 5.6</td>\n",
       "      <td>690 , 177</td>\n",
       "    </tr>\n",
       "    <tr>\n",
       "      <th>Filtering [1, 2, 3, 4], r2&gt;0.9, Linear_SVR</th>\n",
       "      <td>0.099 +/- 0.021</td>\n",
       "      <td>23.9 +/- 6.2</td>\n",
       "      <td>690 , 177</td>\n",
       "    </tr>\n",
       "  </tbody>\n",
       "</table>\n",
       "</div>"
      ],
      "text/plain": [
       "                                                  mae_coef_1       mre_coef_1  \\\n",
       "Filtering [1, 2, 3], r2>None, Poly_KR        0.508 +/- 0.808    64.8 +/- 77.8   \n",
       "Filtering [1, 2, 3], r2>None, RBF_SVR        0.367 +/- 0.698     24.7 +/- 8.4   \n",
       "Filtering [1, 2, 3], r2>None, Linear_SVR     1.363 +/- 1.624  325.8 +/- 410.8   \n",
       "Filtering [1, 2, 3], r2>0, Poly_KR           0.508 +/- 0.808    64.8 +/- 77.8   \n",
       "Filtering [1, 2, 3], r2>0, RBF_SVR           0.367 +/- 0.698     24.7 +/- 8.4   \n",
       "Filtering [1, 2, 3], r2>0, Linear_SVR        1.363 +/- 1.624  325.8 +/- 410.8   \n",
       "Filtering [1, 2, 3], r2>0.9, Poly_KR         0.131 +/- 0.082    27.4 +/- 14.0   \n",
       "Filtering [1, 2, 3], r2>0.9, RBF_SVR          0.08 +/- 0.021     19.7 +/- 4.7   \n",
       "Filtering [1, 2, 3], r2>0.9, Linear_SVR       0.09 +/- 0.019     23.7 +/- 6.5   \n",
       "Filtering [1, 2, 3, 4], r2>None, Poly_KR      0.499 +/- 0.75    59.7 +/- 78.7   \n",
       "Filtering [1, 2, 3, 4], r2>None, RBF_SVR     0.386 +/- 0.645     23.9 +/- 9.5   \n",
       "Filtering [1, 2, 3, 4], r2>None, Linear_SVR  1.273 +/- 1.757  305.0 +/- 462.1   \n",
       "Filtering [1, 2, 3, 4], r2>0, Poly_KR         0.499 +/- 0.75    59.7 +/- 78.7   \n",
       "Filtering [1, 2, 3, 4], r2>0, RBF_SVR        0.386 +/- 0.645     23.9 +/- 9.5   \n",
       "Filtering [1, 2, 3, 4], r2>0, Linear_SVR     1.273 +/- 1.757  305.0 +/- 462.1   \n",
       "Filtering [1, 2, 3, 4], r2>0.9, Poly_KR      0.157 +/- 0.091    30.7 +/- 14.2   \n",
       "Filtering [1, 2, 3, 4], r2>0.9, RBF_SVR      0.095 +/- 0.023     21.7 +/- 5.6   \n",
       "Filtering [1, 2, 3, 4], r2>0.9, Linear_SVR   0.099 +/- 0.021     23.9 +/- 6.2   \n",
       "\n",
       "                                            train_test_shape  \n",
       "Filtering [1, 2, 3], r2>None, Poly_KR              781 , 202  \n",
       "Filtering [1, 2, 3], r2>None, RBF_SVR              781 , 202  \n",
       "Filtering [1, 2, 3], r2>None, Linear_SVR           781 , 202  \n",
       "Filtering [1, 2, 3], r2>0, Poly_KR                 781 , 202  \n",
       "Filtering [1, 2, 3], r2>0, RBF_SVR                 781 , 202  \n",
       "Filtering [1, 2, 3], r2>0, Linear_SVR              781 , 202  \n",
       "Filtering [1, 2, 3], r2>0.9, Poly_KR               722 , 184  \n",
       "Filtering [1, 2, 3], r2>0.9, RBF_SVR               722 , 184  \n",
       "Filtering [1, 2, 3], r2>0.9, Linear_SVR            722 , 184  \n",
       "Filtering [1, 2, 3, 4], r2>None, Poly_KR           703 , 180  \n",
       "Filtering [1, 2, 3, 4], r2>None, RBF_SVR           703 , 180  \n",
       "Filtering [1, 2, 3, 4], r2>None, Linear_SVR        703 , 180  \n",
       "Filtering [1, 2, 3, 4], r2>0, Poly_KR              703 , 180  \n",
       "Filtering [1, 2, 3, 4], r2>0, RBF_SVR              703 , 180  \n",
       "Filtering [1, 2, 3, 4], r2>0, Linear_SVR           703 , 180  \n",
       "Filtering [1, 2, 3, 4], r2>0.9, Poly_KR            690 , 177  \n",
       "Filtering [1, 2, 3, 4], r2>0.9, RBF_SVR            690 , 177  \n",
       "Filtering [1, 2, 3, 4], r2>0.9, Linear_SVR         690 , 177  "
      ]
     },
     "metadata": {},
     "output_type": "display_data"
    },
    {
     "name": "stderr",
     "output_type": "stream",
     "text": [
      "100%|██████████| 2776/2776 [00:04<00:00, 688.01it/s]\n"
     ]
    },
    {
     "name": "stdout",
     "output_type": "stream",
     "text": [
      "logistic4 Filtering [1, 2, 3], r2>None, Poly_KR\n",
      "\n",
      "MAE: 0.3 +/- 0.28\n",
      "MRE: 30.9 +/- 29.1\n",
      "\n",
      "(783, 1370) (202, 1370)\n"
     ]
    },
    {
     "name": "stderr",
     "output_type": "stream",
     "text": [
      "100%|██████████| 2776/2776 [00:04<00:00, 684.71it/s]\n"
     ]
    },
    {
     "name": "stdout",
     "output_type": "stream",
     "text": [
      "logistic4 Filtering [1, 2, 3], r2>0, Poly_KR\n",
      "\n",
      "MAE: 0.3 +/- 0.28\n",
      "MRE: 30.9 +/- 29.1\n",
      "\n",
      "(783, 1370) (202, 1370)\n"
     ]
    },
    {
     "name": "stderr",
     "output_type": "stream",
     "text": [
      "100%|██████████| 2776/2776 [00:04<00:00, 683.28it/s]\n"
     ]
    },
    {
     "name": "stdout",
     "output_type": "stream",
     "text": [
      "logistic4 Filtering [1, 2, 3], r2>0.9, Poly_KR\n",
      "\n",
      "MAE: 0.235 +/- 0.196\n",
      "MRE: 24.1 +/- 20.1\n",
      "\n",
      "(736, 1370) (189, 1370)\n"
     ]
    },
    {
     "name": "stderr",
     "output_type": "stream",
     "text": [
      "100%|██████████| 2600/2600 [00:03<00:00, 679.59it/s]\n"
     ]
    },
    {
     "name": "stdout",
     "output_type": "stream",
     "text": [
      "logistic4 Filtering [1, 2, 3, 4], r2>None, Poly_KR\n",
      "\n",
      "MAE: 0.241 +/- 0.196\n",
      "MRE: 24.8 +/- 20.2\n",
      "\n",
      "(705, 1370) (180, 1370)\n"
     ]
    },
    {
     "name": "stderr",
     "output_type": "stream",
     "text": [
      "100%|██████████| 2600/2600 [00:03<00:00, 687.32it/s]\n"
     ]
    },
    {
     "name": "stdout",
     "output_type": "stream",
     "text": [
      "logistic4 Filtering [1, 2, 3, 4], r2>0, Poly_KR\n",
      "\n",
      "MAE: 0.241 +/- 0.196\n",
      "MRE: 24.8 +/- 20.2\n",
      "\n",
      "(705, 1370) (180, 1370)\n"
     ]
    },
    {
     "name": "stderr",
     "output_type": "stream",
     "text": [
      "100%|██████████| 2600/2600 [00:03<00:00, 680.37it/s]\n"
     ]
    },
    {
     "name": "stdout",
     "output_type": "stream",
     "text": [
      "logistic4 Filtering [1, 2, 3, 4], r2>0.9, Poly_KR\n",
      "\n",
      "MAE: 0.241 +/- 0.196\n",
      "MRE: 24.8 +/- 20.2\n",
      "\n",
      "(704, 1370) (180, 1370)\n"
     ]
    },
    {
     "name": "stderr",
     "output_type": "stream",
     "text": [
      "100%|██████████| 2776/2776 [00:04<00:00, 687.09it/s]\n"
     ]
    },
    {
     "name": "stdout",
     "output_type": "stream",
     "text": [
      "logistic4 Filtering [1, 2, 3], r2>None, RBF_SVR\n",
      "\n",
      "MAE: 0.016 +/- 0.003\n",
      "MRE: 1.6 +/- 0.3\n",
      "\n",
      "(783, 1370) (202, 1370)\n"
     ]
    },
    {
     "name": "stderr",
     "output_type": "stream",
     "text": [
      "100%|██████████| 2776/2776 [00:04<00:00, 681.00it/s]\n"
     ]
    },
    {
     "name": "stdout",
     "output_type": "stream",
     "text": [
      "logistic4 Filtering [1, 2, 3], r2>0, RBF_SVR\n",
      "\n",
      "MAE: 0.016 +/- 0.003\n",
      "MRE: 1.6 +/- 0.3\n",
      "\n",
      "(783, 1370) (202, 1370)\n"
     ]
    },
    {
     "name": "stderr",
     "output_type": "stream",
     "text": [
      "100%|██████████| 2776/2776 [00:04<00:00, 687.04it/s]\n"
     ]
    },
    {
     "name": "stdout",
     "output_type": "stream",
     "text": [
      "logistic4 Filtering [1, 2, 3], r2>0.9, RBF_SVR\n",
      "\n",
      "MAE: 0.017 +/- 0.004\n",
      "MRE: 1.7 +/- 0.4\n",
      "\n",
      "(736, 1370) (189, 1370)\n"
     ]
    },
    {
     "name": "stderr",
     "output_type": "stream",
     "text": [
      "100%|██████████| 2600/2600 [00:03<00:00, 691.27it/s]\n"
     ]
    },
    {
     "name": "stdout",
     "output_type": "stream",
     "text": [
      "logistic4 Filtering [1, 2, 3, 4], r2>None, RBF_SVR\n",
      "\n",
      "MAE: 0.014 +/- 0.003\n",
      "MRE: 1.5 +/- 0.3\n",
      "\n",
      "(705, 1370) (180, 1370)\n"
     ]
    },
    {
     "name": "stderr",
     "output_type": "stream",
     "text": [
      "100%|██████████| 2600/2600 [00:03<00:00, 688.18it/s]\n"
     ]
    },
    {
     "name": "stdout",
     "output_type": "stream",
     "text": [
      "logistic4 Filtering [1, 2, 3, 4], r2>0, RBF_SVR\n",
      "\n",
      "MAE: 0.014 +/- 0.003\n",
      "MRE: 1.5 +/- 0.3\n",
      "\n",
      "(705, 1370) (180, 1370)\n"
     ]
    },
    {
     "name": "stderr",
     "output_type": "stream",
     "text": [
      "100%|██████████| 2600/2600 [00:03<00:00, 690.55it/s]\n"
     ]
    },
    {
     "name": "stdout",
     "output_type": "stream",
     "text": [
      "logistic4 Filtering [1, 2, 3, 4], r2>0.9, RBF_SVR\n",
      "\n",
      "MAE: 0.014 +/- 0.002\n",
      "MRE: 1.5 +/- 0.3\n",
      "\n",
      "(704, 1370) (180, 1370)\n"
     ]
    },
    {
     "name": "stderr",
     "output_type": "stream",
     "text": [
      "100%|██████████| 2776/2776 [00:04<00:00, 683.13it/s]\n"
     ]
    },
    {
     "name": "stdout",
     "output_type": "stream",
     "text": [
      "logistic4 Filtering [1, 2, 3], r2>None, Linear_SVR\n",
      "\n",
      "MAE: 0.022 +/- 0.01\n",
      "MRE: 2.2 +/- 1.0\n",
      "\n",
      "(783, 1370) (202, 1370)\n"
     ]
    },
    {
     "name": "stderr",
     "output_type": "stream",
     "text": [
      "100%|██████████| 2776/2776 [00:04<00:00, 682.15it/s]\n"
     ]
    },
    {
     "name": "stdout",
     "output_type": "stream",
     "text": [
      "logistic4 Filtering [1, 2, 3], r2>0, Linear_SVR\n",
      "\n",
      "MAE: 0.022 +/- 0.01\n",
      "MRE: 2.2 +/- 1.0\n",
      "\n",
      "(783, 1370) (202, 1370)\n"
     ]
    },
    {
     "name": "stderr",
     "output_type": "stream",
     "text": [
      "100%|██████████| 2776/2776 [00:04<00:00, 685.31it/s]\n"
     ]
    },
    {
     "name": "stdout",
     "output_type": "stream",
     "text": [
      "logistic4 Filtering [1, 2, 3], r2>0.9, Linear_SVR\n",
      "\n",
      "MAE: 0.023 +/- 0.007\n",
      "MRE: 2.3 +/- 0.8\n",
      "\n",
      "(736, 1370) (189, 1370)\n"
     ]
    },
    {
     "name": "stderr",
     "output_type": "stream",
     "text": [
      "100%|██████████| 2600/2600 [00:03<00:00, 685.30it/s]\n"
     ]
    },
    {
     "name": "stdout",
     "output_type": "stream",
     "text": [
      "logistic4 Filtering [1, 2, 3, 4], r2>None, Linear_SVR\n",
      "\n",
      "MAE: 0.019 +/- 0.006\n",
      "MRE: 1.9 +/- 0.6\n",
      "\n",
      "(705, 1370) (180, 1370)\n"
     ]
    },
    {
     "name": "stderr",
     "output_type": "stream",
     "text": [
      "100%|██████████| 2600/2600 [00:03<00:00, 684.47it/s]\n"
     ]
    },
    {
     "name": "stdout",
     "output_type": "stream",
     "text": [
      "logistic4 Filtering [1, 2, 3, 4], r2>0, Linear_SVR\n",
      "\n",
      "MAE: 0.019 +/- 0.006\n",
      "MRE: 1.9 +/- 0.6\n",
      "\n",
      "(705, 1370) (180, 1370)\n"
     ]
    },
    {
     "name": "stderr",
     "output_type": "stream",
     "text": [
      "100%|██████████| 2600/2600 [00:03<00:00, 685.13it/s]\n"
     ]
    },
    {
     "name": "stdout",
     "output_type": "stream",
     "text": [
      "logistic4 Filtering [1, 2, 3, 4], r2>0.9, Linear_SVR\n",
      "\n",
      "MAE: 0.018 +/- 0.006\n",
      "MRE: 1.9 +/- 0.6\n",
      "\n",
      "(704, 1370) (180, 1370)\n",
      "\n",
      " logistic4\n"
     ]
    },
    {
     "data": {
      "text/html": [
       "<div>\n",
       "<style scoped>\n",
       "    .dataframe tbody tr th:only-of-type {\n",
       "        vertical-align: middle;\n",
       "    }\n",
       "\n",
       "    .dataframe tbody tr th {\n",
       "        vertical-align: top;\n",
       "    }\n",
       "\n",
       "    .dataframe thead th {\n",
       "        text-align: right;\n",
       "    }\n",
       "</style>\n",
       "<table border=\"1\" class=\"dataframe\">\n",
       "  <thead>\n",
       "    <tr style=\"text-align: right;\">\n",
       "      <th></th>\n",
       "      <th>mae_coef_1</th>\n",
       "      <th>mre_coef_1</th>\n",
       "      <th>train_test_shape</th>\n",
       "    </tr>\n",
       "  </thead>\n",
       "  <tbody>\n",
       "    <tr>\n",
       "      <th>Filtering [1, 2, 3], r2&gt;None, Poly_KR</th>\n",
       "      <td>0.3 +/- 0.28</td>\n",
       "      <td>30.9 +/- 29.1</td>\n",
       "      <td>783 , 202</td>\n",
       "    </tr>\n",
       "    <tr>\n",
       "      <th>Filtering [1, 2, 3], r2&gt;None, RBF_SVR</th>\n",
       "      <td>0.016 +/- 0.003</td>\n",
       "      <td>1.6 +/- 0.3</td>\n",
       "      <td>783 , 202</td>\n",
       "    </tr>\n",
       "    <tr>\n",
       "      <th>Filtering [1, 2, 3], r2&gt;None, Linear_SVR</th>\n",
       "      <td>0.022 +/- 0.01</td>\n",
       "      <td>2.2 +/- 1.0</td>\n",
       "      <td>783 , 202</td>\n",
       "    </tr>\n",
       "    <tr>\n",
       "      <th>Filtering [1, 2, 3], r2&gt;0, Poly_KR</th>\n",
       "      <td>0.3 +/- 0.28</td>\n",
       "      <td>30.9 +/- 29.1</td>\n",
       "      <td>783 , 202</td>\n",
       "    </tr>\n",
       "    <tr>\n",
       "      <th>Filtering [1, 2, 3], r2&gt;0, RBF_SVR</th>\n",
       "      <td>0.016 +/- 0.003</td>\n",
       "      <td>1.6 +/- 0.3</td>\n",
       "      <td>783 , 202</td>\n",
       "    </tr>\n",
       "    <tr>\n",
       "      <th>Filtering [1, 2, 3], r2&gt;0, Linear_SVR</th>\n",
       "      <td>0.022 +/- 0.01</td>\n",
       "      <td>2.2 +/- 1.0</td>\n",
       "      <td>783 , 202</td>\n",
       "    </tr>\n",
       "    <tr>\n",
       "      <th>Filtering [1, 2, 3], r2&gt;0.9, Poly_KR</th>\n",
       "      <td>0.235 +/- 0.196</td>\n",
       "      <td>24.1 +/- 20.1</td>\n",
       "      <td>736 , 189</td>\n",
       "    </tr>\n",
       "    <tr>\n",
       "      <th>Filtering [1, 2, 3], r2&gt;0.9, RBF_SVR</th>\n",
       "      <td>0.017 +/- 0.004</td>\n",
       "      <td>1.7 +/- 0.4</td>\n",
       "      <td>736 , 189</td>\n",
       "    </tr>\n",
       "    <tr>\n",
       "      <th>Filtering [1, 2, 3], r2&gt;0.9, Linear_SVR</th>\n",
       "      <td>0.023 +/- 0.007</td>\n",
       "      <td>2.3 +/- 0.8</td>\n",
       "      <td>736 , 189</td>\n",
       "    </tr>\n",
       "    <tr>\n",
       "      <th>Filtering [1, 2, 3, 4], r2&gt;None, Poly_KR</th>\n",
       "      <td>0.241 +/- 0.196</td>\n",
       "      <td>24.8 +/- 20.2</td>\n",
       "      <td>705 , 180</td>\n",
       "    </tr>\n",
       "    <tr>\n",
       "      <th>Filtering [1, 2, 3, 4], r2&gt;None, RBF_SVR</th>\n",
       "      <td>0.014 +/- 0.003</td>\n",
       "      <td>1.5 +/- 0.3</td>\n",
       "      <td>705 , 180</td>\n",
       "    </tr>\n",
       "    <tr>\n",
       "      <th>Filtering [1, 2, 3, 4], r2&gt;None, Linear_SVR</th>\n",
       "      <td>0.019 +/- 0.006</td>\n",
       "      <td>1.9 +/- 0.6</td>\n",
       "      <td>705 , 180</td>\n",
       "    </tr>\n",
       "    <tr>\n",
       "      <th>Filtering [1, 2, 3, 4], r2&gt;0, Poly_KR</th>\n",
       "      <td>0.241 +/- 0.196</td>\n",
       "      <td>24.8 +/- 20.2</td>\n",
       "      <td>705 , 180</td>\n",
       "    </tr>\n",
       "    <tr>\n",
       "      <th>Filtering [1, 2, 3, 4], r2&gt;0, RBF_SVR</th>\n",
       "      <td>0.014 +/- 0.003</td>\n",
       "      <td>1.5 +/- 0.3</td>\n",
       "      <td>705 , 180</td>\n",
       "    </tr>\n",
       "    <tr>\n",
       "      <th>Filtering [1, 2, 3, 4], r2&gt;0, Linear_SVR</th>\n",
       "      <td>0.019 +/- 0.006</td>\n",
       "      <td>1.9 +/- 0.6</td>\n",
       "      <td>705 , 180</td>\n",
       "    </tr>\n",
       "    <tr>\n",
       "      <th>Filtering [1, 2, 3, 4], r2&gt;0.9, Poly_KR</th>\n",
       "      <td>0.241 +/- 0.196</td>\n",
       "      <td>24.8 +/- 20.2</td>\n",
       "      <td>704 , 180</td>\n",
       "    </tr>\n",
       "    <tr>\n",
       "      <th>Filtering [1, 2, 3, 4], r2&gt;0.9, RBF_SVR</th>\n",
       "      <td>0.014 +/- 0.002</td>\n",
       "      <td>1.5 +/- 0.3</td>\n",
       "      <td>704 , 180</td>\n",
       "    </tr>\n",
       "    <tr>\n",
       "      <th>Filtering [1, 2, 3, 4], r2&gt;0.9, Linear_SVR</th>\n",
       "      <td>0.018 +/- 0.006</td>\n",
       "      <td>1.9 +/- 0.6</td>\n",
       "      <td>704 , 180</td>\n",
       "    </tr>\n",
       "  </tbody>\n",
       "</table>\n",
       "</div>"
      ],
      "text/plain": [
       "                                                  mae_coef_1     mre_coef_1  \\\n",
       "Filtering [1, 2, 3], r2>None, Poly_KR           0.3 +/- 0.28  30.9 +/- 29.1   \n",
       "Filtering [1, 2, 3], r2>None, RBF_SVR        0.016 +/- 0.003    1.6 +/- 0.3   \n",
       "Filtering [1, 2, 3], r2>None, Linear_SVR      0.022 +/- 0.01    2.2 +/- 1.0   \n",
       "Filtering [1, 2, 3], r2>0, Poly_KR              0.3 +/- 0.28  30.9 +/- 29.1   \n",
       "Filtering [1, 2, 3], r2>0, RBF_SVR           0.016 +/- 0.003    1.6 +/- 0.3   \n",
       "Filtering [1, 2, 3], r2>0, Linear_SVR         0.022 +/- 0.01    2.2 +/- 1.0   \n",
       "Filtering [1, 2, 3], r2>0.9, Poly_KR         0.235 +/- 0.196  24.1 +/- 20.1   \n",
       "Filtering [1, 2, 3], r2>0.9, RBF_SVR         0.017 +/- 0.004    1.7 +/- 0.4   \n",
       "Filtering [1, 2, 3], r2>0.9, Linear_SVR      0.023 +/- 0.007    2.3 +/- 0.8   \n",
       "Filtering [1, 2, 3, 4], r2>None, Poly_KR     0.241 +/- 0.196  24.8 +/- 20.2   \n",
       "Filtering [1, 2, 3, 4], r2>None, RBF_SVR     0.014 +/- 0.003    1.5 +/- 0.3   \n",
       "Filtering [1, 2, 3, 4], r2>None, Linear_SVR  0.019 +/- 0.006    1.9 +/- 0.6   \n",
       "Filtering [1, 2, 3, 4], r2>0, Poly_KR        0.241 +/- 0.196  24.8 +/- 20.2   \n",
       "Filtering [1, 2, 3, 4], r2>0, RBF_SVR        0.014 +/- 0.003    1.5 +/- 0.3   \n",
       "Filtering [1, 2, 3, 4], r2>0, Linear_SVR     0.019 +/- 0.006    1.9 +/- 0.6   \n",
       "Filtering [1, 2, 3, 4], r2>0.9, Poly_KR      0.241 +/- 0.196  24.8 +/- 20.2   \n",
       "Filtering [1, 2, 3, 4], r2>0.9, RBF_SVR      0.014 +/- 0.002    1.5 +/- 0.3   \n",
       "Filtering [1, 2, 3, 4], r2>0.9, Linear_SVR   0.018 +/- 0.006    1.9 +/- 0.6   \n",
       "\n",
       "                                            train_test_shape  \n",
       "Filtering [1, 2, 3], r2>None, Poly_KR              783 , 202  \n",
       "Filtering [1, 2, 3], r2>None, RBF_SVR              783 , 202  \n",
       "Filtering [1, 2, 3], r2>None, Linear_SVR           783 , 202  \n",
       "Filtering [1, 2, 3], r2>0, Poly_KR                 783 , 202  \n",
       "Filtering [1, 2, 3], r2>0, RBF_SVR                 783 , 202  \n",
       "Filtering [1, 2, 3], r2>0, Linear_SVR              783 , 202  \n",
       "Filtering [1, 2, 3], r2>0.9, Poly_KR               736 , 189  \n",
       "Filtering [1, 2, 3], r2>0.9, RBF_SVR               736 , 189  \n",
       "Filtering [1, 2, 3], r2>0.9, Linear_SVR            736 , 189  \n",
       "Filtering [1, 2, 3, 4], r2>None, Poly_KR           705 , 180  \n",
       "Filtering [1, 2, 3, 4], r2>None, RBF_SVR           705 , 180  \n",
       "Filtering [1, 2, 3, 4], r2>None, Linear_SVR        705 , 180  \n",
       "Filtering [1, 2, 3, 4], r2>0, Poly_KR              705 , 180  \n",
       "Filtering [1, 2, 3, 4], r2>0, RBF_SVR              705 , 180  \n",
       "Filtering [1, 2, 3, 4], r2>0, Linear_SVR           705 , 180  \n",
       "Filtering [1, 2, 3, 4], r2>0.9, Poly_KR            704 , 180  \n",
       "Filtering [1, 2, 3, 4], r2>0.9, RBF_SVR            704 , 180  \n",
       "Filtering [1, 2, 3, 4], r2>0.9, Linear_SVR         704 , 180  "
      ]
     },
     "metadata": {},
     "output_type": "display_data"
    },
    {
     "name": "stderr",
     "output_type": "stream",
     "text": [
      "100%|██████████| 2776/2776 [00:04<00:00, 601.37it/s]\n"
     ]
    },
    {
     "name": "stdout",
     "output_type": "stream",
     "text": [
      "logLogistR Filtering [1, 2, 3], r2>None, Poly_KR\n",
      "\n",
      "MAE: 0.132 +/- 0.055\n",
      "MRE: -37.5 +/- 23.6\n",
      "\n",
      "(783, 1369) (202, 1369)\n"
     ]
    },
    {
     "name": "stderr",
     "output_type": "stream",
     "text": [
      "100%|██████████| 2776/2776 [00:04<00:00, 602.72it/s]\n"
     ]
    },
    {
     "name": "stdout",
     "output_type": "stream",
     "text": [
      "logLogistR Filtering [1, 2, 3], r2>0, Poly_KR\n",
      "\n",
      "MAE: 0.132 +/- 0.055\n",
      "MRE: -37.5 +/- 23.6\n",
      "\n",
      "(783, 1369) (202, 1369)\n"
     ]
    },
    {
     "name": "stderr",
     "output_type": "stream",
     "text": [
      "100%|██████████| 2776/2776 [00:04<00:00, 599.70it/s]\n"
     ]
    },
    {
     "name": "stdout",
     "output_type": "stream",
     "text": [
      "logLogistR Filtering [1, 2, 3], r2>0.9, Poly_KR\n",
      "\n",
      "MAE: 0.124 +/- 0.046\n",
      "MRE: -31.6 +/- 12.9\n",
      "\n",
      "(736, 1369) (188, 1369)\n"
     ]
    },
    {
     "name": "stderr",
     "output_type": "stream",
     "text": [
      "100%|██████████| 2600/2600 [00:04<00:00, 607.44it/s]\n"
     ]
    },
    {
     "name": "stdout",
     "output_type": "stream",
     "text": [
      "logLogistR Filtering [1, 2, 3, 4], r2>None, Poly_KR\n",
      "\n",
      "MAE: 0.122 +/- 0.03\n",
      "MRE: -32.7 +/- 10.8\n",
      "\n",
      "(705, 1369) (180, 1369)\n"
     ]
    },
    {
     "name": "stderr",
     "output_type": "stream",
     "text": [
      "100%|██████████| 2600/2600 [00:04<00:00, 611.77it/s]\n"
     ]
    },
    {
     "name": "stdout",
     "output_type": "stream",
     "text": [
      "logLogistR Filtering [1, 2, 3, 4], r2>0, Poly_KR\n",
      "\n",
      "MAE: 0.122 +/- 0.03\n",
      "MRE: -32.7 +/- 10.8\n",
      "\n",
      "(705, 1369) (180, 1369)\n"
     ]
    },
    {
     "name": "stderr",
     "output_type": "stream",
     "text": [
      "100%|██████████| 2600/2600 [00:04<00:00, 608.47it/s]\n"
     ]
    },
    {
     "name": "stdout",
     "output_type": "stream",
     "text": [
      "logLogistR Filtering [1, 2, 3, 4], r2>0.9, Poly_KR\n",
      "\n",
      "MAE: 0.12 +/- 0.029\n",
      "MRE: -33.6 +/- 10.4\n",
      "\n",
      "(704, 1369) (180, 1369)\n"
     ]
    },
    {
     "name": "stderr",
     "output_type": "stream",
     "text": [
      "100%|██████████| 2776/2776 [00:04<00:00, 602.89it/s]\n"
     ]
    },
    {
     "name": "stdout",
     "output_type": "stream",
     "text": [
      "logLogistR Filtering [1, 2, 3], r2>None, RBF_SVR\n",
      "\n",
      "MAE: 0.086 +/- 0.018\n",
      "MRE: -26.1 +/- 8.1\n",
      "\n",
      "(783, 1369) (202, 1369)\n"
     ]
    },
    {
     "name": "stderr",
     "output_type": "stream",
     "text": [
      "100%|██████████| 2776/2776 [00:04<00:00, 599.42it/s]\n"
     ]
    },
    {
     "name": "stdout",
     "output_type": "stream",
     "text": [
      "logLogistR Filtering [1, 2, 3], r2>0, RBF_SVR\n",
      "\n",
      "MAE: 0.086 +/- 0.018\n",
      "MRE: -26.1 +/- 8.1\n",
      "\n",
      "(783, 1369) (202, 1369)\n"
     ]
    },
    {
     "name": "stderr",
     "output_type": "stream",
     "text": [
      "100%|██████████| 2776/2776 [00:04<00:00, 603.59it/s]\n"
     ]
    },
    {
     "name": "stdout",
     "output_type": "stream",
     "text": [
      "logLogistR Filtering [1, 2, 3], r2>0.9, RBF_SVR\n",
      "\n",
      "MAE: 0.089 +/- 0.026\n",
      "MRE: -25.9 +/- 8.6\n",
      "\n",
      "(736, 1369) (188, 1369)\n"
     ]
    },
    {
     "name": "stderr",
     "output_type": "stream",
     "text": [
      "100%|██████████| 2600/2600 [00:04<00:00, 604.40it/s]\n"
     ]
    },
    {
     "name": "stdout",
     "output_type": "stream",
     "text": [
      "logLogistR Filtering [1, 2, 3, 4], r2>None, RBF_SVR\n",
      "\n",
      "MAE: 0.089 +/- 0.026\n",
      "MRE: -28.6 +/- 11.6\n",
      "\n",
      "(705, 1369) (180, 1369)\n"
     ]
    },
    {
     "name": "stderr",
     "output_type": "stream",
     "text": [
      "100%|██████████| 2600/2600 [00:04<00:00, 605.51it/s]\n"
     ]
    },
    {
     "name": "stdout",
     "output_type": "stream",
     "text": [
      "logLogistR Filtering [1, 2, 3, 4], r2>0, RBF_SVR\n",
      "\n",
      "MAE: 0.089 +/- 0.026\n",
      "MRE: -28.6 +/- 11.6\n",
      "\n",
      "(705, 1369) (180, 1369)\n"
     ]
    },
    {
     "name": "stderr",
     "output_type": "stream",
     "text": [
      "100%|██████████| 2600/2600 [00:04<00:00, 607.38it/s]\n"
     ]
    },
    {
     "name": "stdout",
     "output_type": "stream",
     "text": [
      "logLogistR Filtering [1, 2, 3, 4], r2>0.9, RBF_SVR\n",
      "\n",
      "MAE: 0.091 +/- 0.027\n",
      "MRE: -30.8 +/- 12.1\n",
      "\n",
      "(704, 1369) (180, 1369)\n"
     ]
    },
    {
     "name": "stderr",
     "output_type": "stream",
     "text": [
      "100%|██████████| 2776/2776 [00:04<00:00, 604.74it/s]\n"
     ]
    },
    {
     "name": "stdout",
     "output_type": "stream",
     "text": [
      "logLogistR Filtering [1, 2, 3], r2>None, Linear_SVR\n",
      "\n",
      "MAE: 0.097 +/- 0.027\n",
      "MRE: -33.0 +/- 16.2\n",
      "\n",
      "(783, 1369) (202, 1369)\n"
     ]
    },
    {
     "name": "stderr",
     "output_type": "stream",
     "text": [
      "100%|██████████| 2776/2776 [00:04<00:00, 602.68it/s]\n"
     ]
    },
    {
     "name": "stdout",
     "output_type": "stream",
     "text": [
      "logLogistR Filtering [1, 2, 3], r2>0, Linear_SVR\n",
      "\n",
      "MAE: 0.097 +/- 0.027\n",
      "MRE: -33.0 +/- 16.2\n",
      "\n",
      "(783, 1369) (202, 1369)\n"
     ]
    },
    {
     "name": "stderr",
     "output_type": "stream",
     "text": [
      "100%|██████████| 2776/2776 [00:04<00:00, 601.59it/s]\n"
     ]
    },
    {
     "name": "stdout",
     "output_type": "stream",
     "text": [
      "logLogistR Filtering [1, 2, 3], r2>0.9, Linear_SVR\n",
      "\n",
      "MAE: 0.092 +/- 0.025\n",
      "MRE: -28.9 +/- 10.6\n",
      "\n",
      "(736, 1369) (188, 1369)\n"
     ]
    },
    {
     "name": "stderr",
     "output_type": "stream",
     "text": [
      "100%|██████████| 2600/2600 [00:04<00:00, 609.76it/s]\n"
     ]
    },
    {
     "name": "stdout",
     "output_type": "stream",
     "text": [
      "logLogistR Filtering [1, 2, 3, 4], r2>None, Linear_SVR\n",
      "\n",
      "MAE: 0.092 +/- 0.025\n",
      "MRE: -33.2 +/- 16.3\n",
      "\n",
      "(705, 1369) (180, 1369)\n"
     ]
    },
    {
     "name": "stderr",
     "output_type": "stream",
     "text": [
      "100%|██████████| 2600/2600 [00:04<00:00, 607.99it/s]\n"
     ]
    },
    {
     "name": "stdout",
     "output_type": "stream",
     "text": [
      "logLogistR Filtering [1, 2, 3, 4], r2>0, Linear_SVR\n",
      "\n",
      "MAE: 0.092 +/- 0.025\n",
      "MRE: -33.2 +/- 16.3\n",
      "\n",
      "(705, 1369) (180, 1369)\n"
     ]
    },
    {
     "name": "stderr",
     "output_type": "stream",
     "text": [
      "100%|██████████| 2600/2600 [00:04<00:00, 607.10it/s]\n"
     ]
    },
    {
     "name": "stdout",
     "output_type": "stream",
     "text": [
      "logLogistR Filtering [1, 2, 3, 4], r2>0.9, Linear_SVR\n",
      "\n",
      "MAE: 0.096 +/- 0.03\n",
      "MRE: -36.0 +/- 16.7\n",
      "\n",
      "(704, 1369) (180, 1369)\n",
      "\n",
      " logLogistR\n"
     ]
    },
    {
     "data": {
      "text/html": [
       "<div>\n",
       "<style scoped>\n",
       "    .dataframe tbody tr th:only-of-type {\n",
       "        vertical-align: middle;\n",
       "    }\n",
       "\n",
       "    .dataframe tbody tr th {\n",
       "        vertical-align: top;\n",
       "    }\n",
       "\n",
       "    .dataframe thead th {\n",
       "        text-align: right;\n",
       "    }\n",
       "</style>\n",
       "<table border=\"1\" class=\"dataframe\">\n",
       "  <thead>\n",
       "    <tr style=\"text-align: right;\">\n",
       "      <th></th>\n",
       "      <th>mae_coef_1</th>\n",
       "      <th>mre_coef_1</th>\n",
       "      <th>train_test_shape</th>\n",
       "    </tr>\n",
       "  </thead>\n",
       "  <tbody>\n",
       "    <tr>\n",
       "      <th>Filtering [1, 2, 3], r2&gt;None, Poly_KR</th>\n",
       "      <td>0.132 +/- 0.055</td>\n",
       "      <td>-37.5 +/- 23.6</td>\n",
       "      <td>783 , 202</td>\n",
       "    </tr>\n",
       "    <tr>\n",
       "      <th>Filtering [1, 2, 3], r2&gt;None, RBF_SVR</th>\n",
       "      <td>0.086 +/- 0.018</td>\n",
       "      <td>-26.1 +/- 8.1</td>\n",
       "      <td>783 , 202</td>\n",
       "    </tr>\n",
       "    <tr>\n",
       "      <th>Filtering [1, 2, 3], r2&gt;None, Linear_SVR</th>\n",
       "      <td>0.097 +/- 0.027</td>\n",
       "      <td>-33.0 +/- 16.2</td>\n",
       "      <td>783 , 202</td>\n",
       "    </tr>\n",
       "    <tr>\n",
       "      <th>Filtering [1, 2, 3], r2&gt;0, Poly_KR</th>\n",
       "      <td>0.132 +/- 0.055</td>\n",
       "      <td>-37.5 +/- 23.6</td>\n",
       "      <td>783 , 202</td>\n",
       "    </tr>\n",
       "    <tr>\n",
       "      <th>Filtering [1, 2, 3], r2&gt;0, RBF_SVR</th>\n",
       "      <td>0.086 +/- 0.018</td>\n",
       "      <td>-26.1 +/- 8.1</td>\n",
       "      <td>783 , 202</td>\n",
       "    </tr>\n",
       "    <tr>\n",
       "      <th>Filtering [1, 2, 3], r2&gt;0, Linear_SVR</th>\n",
       "      <td>0.097 +/- 0.027</td>\n",
       "      <td>-33.0 +/- 16.2</td>\n",
       "      <td>783 , 202</td>\n",
       "    </tr>\n",
       "    <tr>\n",
       "      <th>Filtering [1, 2, 3], r2&gt;0.9, Poly_KR</th>\n",
       "      <td>0.124 +/- 0.046</td>\n",
       "      <td>-31.6 +/- 12.9</td>\n",
       "      <td>736 , 188</td>\n",
       "    </tr>\n",
       "    <tr>\n",
       "      <th>Filtering [1, 2, 3], r2&gt;0.9, RBF_SVR</th>\n",
       "      <td>0.089 +/- 0.026</td>\n",
       "      <td>-25.9 +/- 8.6</td>\n",
       "      <td>736 , 188</td>\n",
       "    </tr>\n",
       "    <tr>\n",
       "      <th>Filtering [1, 2, 3], r2&gt;0.9, Linear_SVR</th>\n",
       "      <td>0.092 +/- 0.025</td>\n",
       "      <td>-28.9 +/- 10.6</td>\n",
       "      <td>736 , 188</td>\n",
       "    </tr>\n",
       "    <tr>\n",
       "      <th>Filtering [1, 2, 3, 4], r2&gt;None, Poly_KR</th>\n",
       "      <td>0.122 +/- 0.03</td>\n",
       "      <td>-32.7 +/- 10.8</td>\n",
       "      <td>705 , 180</td>\n",
       "    </tr>\n",
       "    <tr>\n",
       "      <th>Filtering [1, 2, 3, 4], r2&gt;None, RBF_SVR</th>\n",
       "      <td>0.089 +/- 0.026</td>\n",
       "      <td>-28.6 +/- 11.6</td>\n",
       "      <td>705 , 180</td>\n",
       "    </tr>\n",
       "    <tr>\n",
       "      <th>Filtering [1, 2, 3, 4], r2&gt;None, Linear_SVR</th>\n",
       "      <td>0.092 +/- 0.025</td>\n",
       "      <td>-33.2 +/- 16.3</td>\n",
       "      <td>705 , 180</td>\n",
       "    </tr>\n",
       "    <tr>\n",
       "      <th>Filtering [1, 2, 3, 4], r2&gt;0, Poly_KR</th>\n",
       "      <td>0.122 +/- 0.03</td>\n",
       "      <td>-32.7 +/- 10.8</td>\n",
       "      <td>705 , 180</td>\n",
       "    </tr>\n",
       "    <tr>\n",
       "      <th>Filtering [1, 2, 3, 4], r2&gt;0, RBF_SVR</th>\n",
       "      <td>0.089 +/- 0.026</td>\n",
       "      <td>-28.6 +/- 11.6</td>\n",
       "      <td>705 , 180</td>\n",
       "    </tr>\n",
       "    <tr>\n",
       "      <th>Filtering [1, 2, 3, 4], r2&gt;0, Linear_SVR</th>\n",
       "      <td>0.092 +/- 0.025</td>\n",
       "      <td>-33.2 +/- 16.3</td>\n",
       "      <td>705 , 180</td>\n",
       "    </tr>\n",
       "    <tr>\n",
       "      <th>Filtering [1, 2, 3, 4], r2&gt;0.9, Poly_KR</th>\n",
       "      <td>0.12 +/- 0.029</td>\n",
       "      <td>-33.6 +/- 10.4</td>\n",
       "      <td>704 , 180</td>\n",
       "    </tr>\n",
       "    <tr>\n",
       "      <th>Filtering [1, 2, 3, 4], r2&gt;0.9, RBF_SVR</th>\n",
       "      <td>0.091 +/- 0.027</td>\n",
       "      <td>-30.8 +/- 12.1</td>\n",
       "      <td>704 , 180</td>\n",
       "    </tr>\n",
       "    <tr>\n",
       "      <th>Filtering [1, 2, 3, 4], r2&gt;0.9, Linear_SVR</th>\n",
       "      <td>0.096 +/- 0.03</td>\n",
       "      <td>-36.0 +/- 16.7</td>\n",
       "      <td>704 , 180</td>\n",
       "    </tr>\n",
       "  </tbody>\n",
       "</table>\n",
       "</div>"
      ],
      "text/plain": [
       "                                                  mae_coef_1      mre_coef_1  \\\n",
       "Filtering [1, 2, 3], r2>None, Poly_KR        0.132 +/- 0.055  -37.5 +/- 23.6   \n",
       "Filtering [1, 2, 3], r2>None, RBF_SVR        0.086 +/- 0.018   -26.1 +/- 8.1   \n",
       "Filtering [1, 2, 3], r2>None, Linear_SVR     0.097 +/- 0.027  -33.0 +/- 16.2   \n",
       "Filtering [1, 2, 3], r2>0, Poly_KR           0.132 +/- 0.055  -37.5 +/- 23.6   \n",
       "Filtering [1, 2, 3], r2>0, RBF_SVR           0.086 +/- 0.018   -26.1 +/- 8.1   \n",
       "Filtering [1, 2, 3], r2>0, Linear_SVR        0.097 +/- 0.027  -33.0 +/- 16.2   \n",
       "Filtering [1, 2, 3], r2>0.9, Poly_KR         0.124 +/- 0.046  -31.6 +/- 12.9   \n",
       "Filtering [1, 2, 3], r2>0.9, RBF_SVR         0.089 +/- 0.026   -25.9 +/- 8.6   \n",
       "Filtering [1, 2, 3], r2>0.9, Linear_SVR      0.092 +/- 0.025  -28.9 +/- 10.6   \n",
       "Filtering [1, 2, 3, 4], r2>None, Poly_KR      0.122 +/- 0.03  -32.7 +/- 10.8   \n",
       "Filtering [1, 2, 3, 4], r2>None, RBF_SVR     0.089 +/- 0.026  -28.6 +/- 11.6   \n",
       "Filtering [1, 2, 3, 4], r2>None, Linear_SVR  0.092 +/- 0.025  -33.2 +/- 16.3   \n",
       "Filtering [1, 2, 3, 4], r2>0, Poly_KR         0.122 +/- 0.03  -32.7 +/- 10.8   \n",
       "Filtering [1, 2, 3, 4], r2>0, RBF_SVR        0.089 +/- 0.026  -28.6 +/- 11.6   \n",
       "Filtering [1, 2, 3, 4], r2>0, Linear_SVR     0.092 +/- 0.025  -33.2 +/- 16.3   \n",
       "Filtering [1, 2, 3, 4], r2>0.9, Poly_KR       0.12 +/- 0.029  -33.6 +/- 10.4   \n",
       "Filtering [1, 2, 3, 4], r2>0.9, RBF_SVR      0.091 +/- 0.027  -30.8 +/- 12.1   \n",
       "Filtering [1, 2, 3, 4], r2>0.9, Linear_SVR    0.096 +/- 0.03  -36.0 +/- 16.7   \n",
       "\n",
       "                                            train_test_shape  \n",
       "Filtering [1, 2, 3], r2>None, Poly_KR              783 , 202  \n",
       "Filtering [1, 2, 3], r2>None, RBF_SVR              783 , 202  \n",
       "Filtering [1, 2, 3], r2>None, Linear_SVR           783 , 202  \n",
       "Filtering [1, 2, 3], r2>0, Poly_KR                 783 , 202  \n",
       "Filtering [1, 2, 3], r2>0, RBF_SVR                 783 , 202  \n",
       "Filtering [1, 2, 3], r2>0, Linear_SVR              783 , 202  \n",
       "Filtering [1, 2, 3], r2>0.9, Poly_KR               736 , 188  \n",
       "Filtering [1, 2, 3], r2>0.9, RBF_SVR               736 , 188  \n",
       "Filtering [1, 2, 3], r2>0.9, Linear_SVR            736 , 188  \n",
       "Filtering [1, 2, 3, 4], r2>None, Poly_KR           705 , 180  \n",
       "Filtering [1, 2, 3, 4], r2>None, RBF_SVR           705 , 180  \n",
       "Filtering [1, 2, 3, 4], r2>None, Linear_SVR        705 , 180  \n",
       "Filtering [1, 2, 3, 4], r2>0, Poly_KR              705 , 180  \n",
       "Filtering [1, 2, 3, 4], r2>0, RBF_SVR              705 , 180  \n",
       "Filtering [1, 2, 3, 4], r2>0, Linear_SVR           705 , 180  \n",
       "Filtering [1, 2, 3, 4], r2>0.9, Poly_KR            704 , 180  \n",
       "Filtering [1, 2, 3, 4], r2>0.9, RBF_SVR            704 , 180  \n",
       "Filtering [1, 2, 3, 4], r2>0.9, Linear_SVR         704 , 180  "
      ]
     },
     "metadata": {},
     "output_type": "display_data"
    },
    {
     "data": {
      "image/png": "[encoded data removed]",
      "text/plain": [
       "<Figure size 288x216 with 1 Axes>"
      ]
     },
     "metadata": {
      "needs_background": "light"
     },
     "output_type": "display_data"
    },
    {
     "data": {
      "image/png": "[encoded data removed]",
      "text/plain": [
       "<Figure size 288x216 with 1 Axes>"
      ]
     },
     "metadata": {
      "needs_background": "light"
     },
     "output_type": "display_data"
    },
    {
     "data": {
      "image/png": "[encoded data removed]",
      "text/plain": [
       "<Figure size 288x216 with 1 Axes>"
      ]
     },
     "metadata": {
      "needs_background": "light"
     },
     "output_type": "display_data"
    }
   ],
   "source": [
    "fitting_functions = [\"sigmoid_4_param\", \"logistic4\", \"logLogistR\"]\n",
    "filtering_scenarios = [[1,2,3],[1,2,3,4]]\n",
    "r2_restrictions = [None, 0, 0.9]\n",
    "\n",
    "coef=1\n",
    "results_1 = CompareTrainingScenariosModels(coef, models_dict, X_columns, _FOLDER, _FOLDER_2, \n",
    "                                           fitting_functions, filtering_scenarios, r2_restrictions,\n",
    "                                           print_progress_info = False)"
   ]
  },
  {
   "cell_type": "code",
   "execution_count": 6,
   "metadata": {},
   "outputs": [
    {
     "name": "stderr",
     "output_type": "stream",
     "text": [
      "100%|██████████| 2776/2776 [00:04<00:00, 681.85it/s]\n"
     ]
    },
    {
     "name": "stdout",
     "output_type": "stream",
     "text": [
      "sigmoid_4_param Filtering [1, 2, 3], r2>None, Poly_KR\n",
      "\n",
      "MAE: 0.923 +/- 1.535\n",
      "MRE: 41.0 +/- 29.9\n",
      "\n",
      "(781, 1370) (202, 1370)\n"
     ]
    },
    {
     "name": "stderr",
     "output_type": "stream",
     "text": [
      "100%|██████████| 2776/2776 [00:04<00:00, 686.07it/s]\n"
     ]
    },
    {
     "name": "stdout",
     "output_type": "stream",
     "text": [
      "sigmoid_4_param Filtering [1, 2, 3], r2>0, Poly_KR\n",
      "\n",
      "MAE: 0.923 +/- 1.535\n",
      "MRE: 41.0 +/- 29.9\n",
      "\n",
      "(781, 1370) (202, 1370)\n"
     ]
    },
    {
     "name": "stderr",
     "output_type": "stream",
     "text": [
      "100%|██████████| 2776/2776 [00:04<00:00, 689.20it/s]\n"
     ]
    },
    {
     "name": "stdout",
     "output_type": "stream",
     "text": [
      "sigmoid_4_param Filtering [1, 2, 3], r2>0.9, Poly_KR\n",
      "\n",
      "MAE: 0.284 +/- 0.184\n",
      "MRE: 25.8 +/- 17.8\n",
      "\n",
      "(722, 1370) (184, 1370)\n"
     ]
    },
    {
     "name": "stderr",
     "output_type": "stream",
     "text": [
      "100%|██████████| 2600/2600 [00:03<00:00, 701.88it/s]\n"
     ]
    },
    {
     "name": "stdout",
     "output_type": "stream",
     "text": [
      "sigmoid_4_param Filtering [1, 2, 3, 4], r2>None, Poly_KR\n",
      "\n",
      "MAE: 1.138 +/- 2.088\n",
      "MRE: 31.7 +/- 21.4\n",
      "\n",
      "(703, 1370) (180, 1370)\n"
     ]
    },
    {
     "name": "stderr",
     "output_type": "stream",
     "text": [
      "100%|██████████| 2600/2600 [00:03<00:00, 704.51it/s]\n"
     ]
    },
    {
     "name": "stdout",
     "output_type": "stream",
     "text": [
      "sigmoid_4_param Filtering [1, 2, 3, 4], r2>0, Poly_KR\n",
      "\n",
      "MAE: 1.138 +/- 2.088\n",
      "MRE: 31.7 +/- 21.4\n",
      "\n",
      "(703, 1370) (180, 1370)\n"
     ]
    },
    {
     "name": "stderr",
     "output_type": "stream",
     "text": [
      "100%|██████████| 2600/2600 [00:03<00:00, 703.36it/s]\n"
     ]
    },
    {
     "name": "stdout",
     "output_type": "stream",
     "text": [
      "sigmoid_4_param Filtering [1, 2, 3, 4], r2>0.9, Poly_KR\n",
      "\n",
      "MAE: 0.296 +/- 0.186\n",
      "MRE: 26.8 +/- 18.3\n",
      "\n",
      "(690, 1370) (177, 1370)\n"
     ]
    },
    {
     "name": "stderr",
     "output_type": "stream",
     "text": [
      "100%|██████████| 2776/2776 [00:04<00:00, 693.17it/s]\n"
     ]
    },
    {
     "name": "stdout",
     "output_type": "stream",
     "text": [
      "sigmoid_4_param Filtering [1, 2, 3], r2>None, RBF_SVR\n",
      "\n",
      "MAE: 0.58 +/- 1.402\n",
      "MRE: 9.8 +/- 18.7\n",
      "\n",
      "(781, 1370) (202, 1370)\n"
     ]
    },
    {
     "name": "stderr",
     "output_type": "stream",
     "text": [
      "100%|██████████| 2776/2776 [00:03<00:00, 694.52it/s]\n"
     ]
    },
    {
     "name": "stdout",
     "output_type": "stream",
     "text": [
      "sigmoid_4_param Filtering [1, 2, 3], r2>0, RBF_SVR\n",
      "\n",
      "MAE: 0.58 +/- 1.402\n",
      "MRE: 9.8 +/- 18.7\n",
      "\n",
      "(781, 1370) (202, 1370)\n"
     ]
    },
    {
     "name": "stderr",
     "output_type": "stream",
     "text": [
      "100%|██████████| 2776/2776 [00:04<00:00, 690.76it/s]\n"
     ]
    },
    {
     "name": "stdout",
     "output_type": "stream",
     "text": [
      "sigmoid_4_param Filtering [1, 2, 3], r2>0.9, RBF_SVR\n",
      "\n",
      "MAE: 0.094 +/- 0.044\n",
      "MRE: 8.1 +/- 3.2\n",
      "\n",
      "(722, 1370) (184, 1370)\n"
     ]
    },
    {
     "name": "stderr",
     "output_type": "stream",
     "text": [
      "100%|██████████| 2600/2600 [00:03<00:00, 701.49it/s]\n"
     ]
    },
    {
     "name": "stdout",
     "output_type": "stream",
     "text": [
      "sigmoid_4_param Filtering [1, 2, 3, 4], r2>None, RBF_SVR\n",
      "\n",
      "MAE: 0.875 +/- 1.993\n",
      "MRE: 4.9 +/- 8.0\n",
      "\n",
      "(703, 1370) (180, 1370)\n"
     ]
    },
    {
     "name": "stderr",
     "output_type": "stream",
     "text": [
      "100%|██████████| 2600/2600 [00:03<00:00, 703.55it/s]\n"
     ]
    },
    {
     "name": "stdout",
     "output_type": "stream",
     "text": [
      "sigmoid_4_param Filtering [1, 2, 3, 4], r2>0, RBF_SVR\n",
      "\n",
      "MAE: 0.875 +/- 1.993\n",
      "MRE: 4.9 +/- 8.0\n",
      "\n",
      "(703, 1370) (180, 1370)\n"
     ]
    },
    {
     "name": "stderr",
     "output_type": "stream",
     "text": [
      "100%|██████████| 2600/2600 [00:03<00:00, 701.20it/s]\n"
     ]
    },
    {
     "name": "stdout",
     "output_type": "stream",
     "text": [
      "sigmoid_4_param Filtering [1, 2, 3, 4], r2>0.9, RBF_SVR\n",
      "\n",
      "MAE: 0.096 +/- 0.046\n",
      "MRE: 8.3 +/- 3.4\n",
      "\n",
      "(690, 1370) (177, 1370)\n"
     ]
    },
    {
     "name": "stderr",
     "output_type": "stream",
     "text": [
      "100%|██████████| 2776/2776 [00:04<00:00, 686.48it/s]\n"
     ]
    },
    {
     "name": "stdout",
     "output_type": "stream",
     "text": [
      "sigmoid_4_param Filtering [1, 2, 3], r2>None, Linear_SVR\n",
      "\n",
      "MAE: 1.416 +/- 2.105\n",
      "MRE: 94.5 +/- 100.5\n",
      "\n",
      "(781, 1370) (202, 1370)\n"
     ]
    },
    {
     "name": "stderr",
     "output_type": "stream",
     "text": [
      "100%|██████████| 2776/2776 [00:04<00:00, 691.93it/s]\n"
     ]
    },
    {
     "name": "stdout",
     "output_type": "stream",
     "text": [
      "sigmoid_4_param Filtering [1, 2, 3], r2>0, Linear_SVR\n",
      "\n",
      "MAE: 1.416 +/- 2.105\n",
      "MRE: 94.5 +/- 100.5\n",
      "\n",
      "(781, 1370) (202, 1370)\n"
     ]
    },
    {
     "name": "stderr",
     "output_type": "stream",
     "text": [
      "100%|██████████| 2776/2776 [00:04<00:00, 689.43it/s]\n"
     ]
    },
    {
     "name": "stdout",
     "output_type": "stream",
     "text": [
      "sigmoid_4_param Filtering [1, 2, 3], r2>0.9, Linear_SVR\n",
      "\n",
      "MAE: 0.136 +/- 0.057\n",
      "MRE: 12.8 +/- 5.7\n",
      "\n",
      "(722, 1370) (184, 1370)\n"
     ]
    },
    {
     "name": "stderr",
     "output_type": "stream",
     "text": [
      "100%|██████████| 2600/2600 [00:03<00:00, 700.78it/s]\n"
     ]
    },
    {
     "name": "stdout",
     "output_type": "stream",
     "text": [
      "sigmoid_4_param Filtering [1, 2, 3, 4], r2>None, Linear_SVR\n",
      "\n",
      "MAE: 1.583 +/- 2.701\n",
      "MRE: 81.5 +/- 114.5\n",
      "\n",
      "(703, 1370) (180, 1370)\n"
     ]
    },
    {
     "name": "stderr",
     "output_type": "stream",
     "text": [
      "100%|██████████| 2600/2600 [00:03<00:00, 692.73it/s]\n"
     ]
    },
    {
     "name": "stdout",
     "output_type": "stream",
     "text": [
      "sigmoid_4_param Filtering [1, 2, 3, 4], r2>0, Linear_SVR\n",
      "\n",
      "MAE: 1.583 +/- 2.701\n",
      "MRE: 81.5 +/- 114.5\n",
      "\n",
      "(703, 1370) (180, 1370)\n"
     ]
    },
    {
     "name": "stderr",
     "output_type": "stream",
     "text": [
      "100%|██████████| 2600/2600 [00:04<00:00, 643.93it/s]\n"
     ]
    },
    {
     "name": "stdout",
     "output_type": "stream",
     "text": [
      "sigmoid_4_param Filtering [1, 2, 3, 4], r2>0.9, Linear_SVR\n",
      "\n",
      "MAE: 0.124 +/- 0.065\n",
      "MRE: 11.3 +/- 5.9\n",
      "\n",
      "(690, 1370) (177, 1370)\n",
      "\n",
      " sigmoid_4_param\n"
     ]
    },
    {
     "data": {
      "text/html": [
       "<div>\n",
       "<style scoped>\n",
       "    .dataframe tbody tr th:only-of-type {\n",
       "        vertical-align: middle;\n",
       "    }\n",
       "\n",
       "    .dataframe tbody tr th {\n",
       "        vertical-align: top;\n",
       "    }\n",
       "\n",
       "    .dataframe thead th {\n",
       "        text-align: right;\n",
       "    }\n",
       "</style>\n",
       "<table border=\"1\" class=\"dataframe\">\n",
       "  <thead>\n",
       "    <tr style=\"text-align: right;\">\n",
       "      <th></th>\n",
       "      <th>mae_coef_2</th>\n",
       "      <th>mre_coef_2</th>\n",
       "      <th>train_test_shape</th>\n",
       "    </tr>\n",
       "  </thead>\n",
       "  <tbody>\n",
       "    <tr>\n",
       "      <th>Filtering [1, 2, 3], r2&gt;None, Poly_KR</th>\n",
       "      <td>0.923 +/- 1.535</td>\n",
       "      <td>41.0 +/- 29.9</td>\n",
       "      <td>781 , 202</td>\n",
       "    </tr>\n",
       "    <tr>\n",
       "      <th>Filtering [1, 2, 3], r2&gt;None, RBF_SVR</th>\n",
       "      <td>0.58 +/- 1.402</td>\n",
       "      <td>9.8 +/- 18.7</td>\n",
       "      <td>781 , 202</td>\n",
       "    </tr>\n",
       "    <tr>\n",
       "      <th>Filtering [1, 2, 3], r2&gt;None, Linear_SVR</th>\n",
       "      <td>1.416 +/- 2.105</td>\n",
       "      <td>94.5 +/- 100.5</td>\n",
       "      <td>781 , 202</td>\n",
       "    </tr>\n",
       "    <tr>\n",
       "      <th>Filtering [1, 2, 3], r2&gt;0, Poly_KR</th>\n",
       "      <td>0.923 +/- 1.535</td>\n",
       "      <td>41.0 +/- 29.9</td>\n",
       "      <td>781 , 202</td>\n",
       "    </tr>\n",
       "    <tr>\n",
       "      <th>Filtering [1, 2, 3], r2&gt;0, RBF_SVR</th>\n",
       "      <td>0.58 +/- 1.402</td>\n",
       "      <td>9.8 +/- 18.7</td>\n",
       "      <td>781 , 202</td>\n",
       "    </tr>\n",
       "    <tr>\n",
       "      <th>Filtering [1, 2, 3], r2&gt;0, Linear_SVR</th>\n",
       "      <td>1.416 +/- 2.105</td>\n",
       "      <td>94.5 +/- 100.5</td>\n",
       "      <td>781 , 202</td>\n",
       "    </tr>\n",
       "    <tr>\n",
       "      <th>Filtering [1, 2, 3], r2&gt;0.9, Poly_KR</th>\n",
       "      <td>0.284 +/- 0.184</td>\n",
       "      <td>25.8 +/- 17.8</td>\n",
       "      <td>722 , 184</td>\n",
       "    </tr>\n",
       "    <tr>\n",
       "      <th>Filtering [1, 2, 3], r2&gt;0.9, RBF_SVR</th>\n",
       "      <td>0.094 +/- 0.044</td>\n",
       "      <td>8.1 +/- 3.2</td>\n",
       "      <td>722 , 184</td>\n",
       "    </tr>\n",
       "    <tr>\n",
       "      <th>Filtering [1, 2, 3], r2&gt;0.9, Linear_SVR</th>\n",
       "      <td>0.136 +/- 0.057</td>\n",
       "      <td>12.8 +/- 5.7</td>\n",
       "      <td>722 , 184</td>\n",
       "    </tr>\n",
       "    <tr>\n",
       "      <th>Filtering [1, 2, 3, 4], r2&gt;None, Poly_KR</th>\n",
       "      <td>1.138 +/- 2.088</td>\n",
       "      <td>31.7 +/- 21.4</td>\n",
       "      <td>703 , 180</td>\n",
       "    </tr>\n",
       "    <tr>\n",
       "      <th>Filtering [1, 2, 3, 4], r2&gt;None, RBF_SVR</th>\n",
       "      <td>0.875 +/- 1.993</td>\n",
       "      <td>4.9 +/- 8.0</td>\n",
       "      <td>703 , 180</td>\n",
       "    </tr>\n",
       "    <tr>\n",
       "      <th>Filtering [1, 2, 3, 4], r2&gt;None, Linear_SVR</th>\n",
       "      <td>1.583 +/- 2.701</td>\n",
       "      <td>81.5 +/- 114.5</td>\n",
       "      <td>703 , 180</td>\n",
       "    </tr>\n",
       "    <tr>\n",
       "      <th>Filtering [1, 2, 3, 4], r2&gt;0, Poly_KR</th>\n",
       "      <td>1.138 +/- 2.088</td>\n",
       "      <td>31.7 +/- 21.4</td>\n",
       "      <td>703 , 180</td>\n",
       "    </tr>\n",
       "    <tr>\n",
       "      <th>Filtering [1, 2, 3, 4], r2&gt;0, RBF_SVR</th>\n",
       "      <td>0.875 +/- 1.993</td>\n",
       "      <td>4.9 +/- 8.0</td>\n",
       "      <td>703 , 180</td>\n",
       "    </tr>\n",
       "    <tr>\n",
       "      <th>Filtering [1, 2, 3, 4], r2&gt;0, Linear_SVR</th>\n",
       "      <td>1.583 +/- 2.701</td>\n",
       "      <td>81.5 +/- 114.5</td>\n",
       "      <td>703 , 180</td>\n",
       "    </tr>\n",
       "    <tr>\n",
       "      <th>Filtering [1, 2, 3, 4], r2&gt;0.9, Poly_KR</th>\n",
       "      <td>0.296 +/- 0.186</td>\n",
       "      <td>26.8 +/- 18.3</td>\n",
       "      <td>690 , 177</td>\n",
       "    </tr>\n",
       "    <tr>\n",
       "      <th>Filtering [1, 2, 3, 4], r2&gt;0.9, RBF_SVR</th>\n",
       "      <td>0.096 +/- 0.046</td>\n",
       "      <td>8.3 +/- 3.4</td>\n",
       "      <td>690 , 177</td>\n",
       "    </tr>\n",
       "    <tr>\n",
       "      <th>Filtering [1, 2, 3, 4], r2&gt;0.9, Linear_SVR</th>\n",
       "      <td>0.124 +/- 0.065</td>\n",
       "      <td>11.3 +/- 5.9</td>\n",
       "      <td>690 , 177</td>\n",
       "    </tr>\n",
       "  </tbody>\n",
       "</table>\n",
       "</div>"
      ],
      "text/plain": [
       "                                                  mae_coef_2      mre_coef_2  \\\n",
       "Filtering [1, 2, 3], r2>None, Poly_KR        0.923 +/- 1.535   41.0 +/- 29.9   \n",
       "Filtering [1, 2, 3], r2>None, RBF_SVR         0.58 +/- 1.402    9.8 +/- 18.7   \n",
       "Filtering [1, 2, 3], r2>None, Linear_SVR     1.416 +/- 2.105  94.5 +/- 100.5   \n",
       "Filtering [1, 2, 3], r2>0, Poly_KR           0.923 +/- 1.535   41.0 +/- 29.9   \n",
       "Filtering [1, 2, 3], r2>0, RBF_SVR            0.58 +/- 1.402    9.8 +/- 18.7   \n",
       "Filtering [1, 2, 3], r2>0, Linear_SVR        1.416 +/- 2.105  94.5 +/- 100.5   \n",
       "Filtering [1, 2, 3], r2>0.9, Poly_KR         0.284 +/- 0.184   25.8 +/- 17.8   \n",
       "Filtering [1, 2, 3], r2>0.9, RBF_SVR         0.094 +/- 0.044     8.1 +/- 3.2   \n",
       "Filtering [1, 2, 3], r2>0.9, Linear_SVR      0.136 +/- 0.057    12.8 +/- 5.7   \n",
       "Filtering [1, 2, 3, 4], r2>None, Poly_KR     1.138 +/- 2.088   31.7 +/- 21.4   \n",
       "Filtering [1, 2, 3, 4], r2>None, RBF_SVR     0.875 +/- 1.993     4.9 +/- 8.0   \n",
       "Filtering [1, 2, 3, 4], r2>None, Linear_SVR  1.583 +/- 2.701  81.5 +/- 114.5   \n",
       "Filtering [1, 2, 3, 4], r2>0, Poly_KR        1.138 +/- 2.088   31.7 +/- 21.4   \n",
       "Filtering [1, 2, 3, 4], r2>0, RBF_SVR        0.875 +/- 1.993     4.9 +/- 8.0   \n",
       "Filtering [1, 2, 3, 4], r2>0, Linear_SVR     1.583 +/- 2.701  81.5 +/- 114.5   \n",
       "Filtering [1, 2, 3, 4], r2>0.9, Poly_KR      0.296 +/- 0.186   26.8 +/- 18.3   \n",
       "Filtering [1, 2, 3, 4], r2>0.9, RBF_SVR      0.096 +/- 0.046     8.3 +/- 3.4   \n",
       "Filtering [1, 2, 3, 4], r2>0.9, Linear_SVR   0.124 +/- 0.065    11.3 +/- 5.9   \n",
       "\n",
       "                                            train_test_shape  \n",
       "Filtering [1, 2, 3], r2>None, Poly_KR              781 , 202  \n",
       "Filtering [1, 2, 3], r2>None, RBF_SVR              781 , 202  \n",
       "Filtering [1, 2, 3], r2>None, Linear_SVR           781 , 202  \n",
       "Filtering [1, 2, 3], r2>0, Poly_KR                 781 , 202  \n",
       "Filtering [1, 2, 3], r2>0, RBF_SVR                 781 , 202  \n",
       "Filtering [1, 2, 3], r2>0, Linear_SVR              781 , 202  \n",
       "Filtering [1, 2, 3], r2>0.9, Poly_KR               722 , 184  \n",
       "Filtering [1, 2, 3], r2>0.9, RBF_SVR               722 , 184  \n",
       "Filtering [1, 2, 3], r2>0.9, Linear_SVR            722 , 184  \n",
       "Filtering [1, 2, 3, 4], r2>None, Poly_KR           703 , 180  \n",
       "Filtering [1, 2, 3, 4], r2>None, RBF_SVR           703 , 180  \n",
       "Filtering [1, 2, 3, 4], r2>None, Linear_SVR        703 , 180  \n",
       "Filtering [1, 2, 3, 4], r2>0, Poly_KR              703 , 180  \n",
       "Filtering [1, 2, 3, 4], r2>0, RBF_SVR              703 , 180  \n",
       "Filtering [1, 2, 3, 4], r2>0, Linear_SVR           703 , 180  \n",
       "Filtering [1, 2, 3, 4], r2>0.9, Poly_KR            690 , 177  \n",
       "Filtering [1, 2, 3, 4], r2>0.9, RBF_SVR            690 , 177  \n",
       "Filtering [1, 2, 3, 4], r2>0.9, Linear_SVR         690 , 177  "
      ]
     },
     "metadata": {},
     "output_type": "display_data"
    },
    {
     "name": "stderr",
     "output_type": "stream",
     "text": [
      "100%|██████████| 2776/2776 [00:04<00:00, 664.56it/s]\n"
     ]
    },
    {
     "name": "stdout",
     "output_type": "stream",
     "text": [
      "logistic4 Filtering [1, 2, 3], r2>None, Poly_KR\n",
      "\n",
      "MAE: 6.991 +/- 4.835\n",
      "MRE: 64.3 +/- 24.3\n",
      "\n",
      "(783, 1370) (202, 1370)\n"
     ]
    },
    {
     "name": "stderr",
     "output_type": "stream",
     "text": [
      "100%|██████████| 2776/2776 [00:04<00:00, 688.68it/s]\n"
     ]
    },
    {
     "name": "stdout",
     "output_type": "stream",
     "text": [
      "logistic4 Filtering [1, 2, 3], r2>0, Poly_KR\n",
      "\n",
      "MAE: 6.991 +/- 4.835\n",
      "MRE: 64.3 +/- 24.3\n",
      "\n",
      "(783, 1370) (202, 1370)\n"
     ]
    },
    {
     "name": "stderr",
     "output_type": "stream",
     "text": [
      "100%|██████████| 2776/2776 [00:03<00:00, 695.01it/s]\n"
     ]
    },
    {
     "name": "stdout",
     "output_type": "stream",
     "text": [
      "logistic4 Filtering [1, 2, 3], r2>0.9, Poly_KR\n",
      "\n",
      "MAE: 5.501 +/- 3.666\n",
      "MRE: 59.5 +/- 20.4\n",
      "\n",
      "(736, 1370) (189, 1370)\n"
     ]
    },
    {
     "name": "stderr",
     "output_type": "stream",
     "text": [
      "100%|██████████| 2600/2600 [00:03<00:00, 696.71it/s]\n"
     ]
    },
    {
     "name": "stdout",
     "output_type": "stream",
     "text": [
      "logistic4 Filtering [1, 2, 3, 4], r2>None, Poly_KR\n",
      "\n",
      "MAE: 5.521 +/- 2.528\n",
      "MRE: 50.9 +/- 17.5\n",
      "\n",
      "(705, 1370) (180, 1370)\n"
     ]
    },
    {
     "name": "stderr",
     "output_type": "stream",
     "text": [
      "100%|██████████| 2600/2600 [00:03<00:00, 694.37it/s]\n"
     ]
    },
    {
     "name": "stdout",
     "output_type": "stream",
     "text": [
      "logistic4 Filtering [1, 2, 3, 4], r2>0, Poly_KR\n",
      "\n",
      "MAE: 5.521 +/- 2.528\n",
      "MRE: 50.9 +/- 17.5\n",
      "\n",
      "(705, 1370) (180, 1370)\n"
     ]
    },
    {
     "name": "stderr",
     "output_type": "stream",
     "text": [
      "100%|██████████| 2600/2600 [00:03<00:00, 698.01it/s]\n"
     ]
    },
    {
     "name": "stdout",
     "output_type": "stream",
     "text": [
      "logistic4 Filtering [1, 2, 3, 4], r2>0.9, Poly_KR\n",
      "\n",
      "MAE: 5.52 +/- 2.562\n",
      "MRE: 50.7 +/- 17.6\n",
      "\n",
      "(704, 1370) (180, 1370)\n"
     ]
    },
    {
     "name": "stderr",
     "output_type": "stream",
     "text": [
      "100%|██████████| 2776/2776 [00:04<00:00, 692.53it/s]\n"
     ]
    },
    {
     "name": "stdout",
     "output_type": "stream",
     "text": [
      "logistic4 Filtering [1, 2, 3], r2>None, RBF_SVR\n",
      "\n",
      "MAE: 5.979 +/- 3.865\n",
      "MRE: 52.9 +/- 17.2\n",
      "\n",
      "(783, 1370) (202, 1370)\n"
     ]
    },
    {
     "name": "stderr",
     "output_type": "stream",
     "text": [
      "100%|██████████| 2776/2776 [00:03<00:00, 695.34it/s]\n"
     ]
    },
    {
     "name": "stdout",
     "output_type": "stream",
     "text": [
      "logistic4 Filtering [1, 2, 3], r2>0, RBF_SVR\n",
      "\n",
      "MAE: 5.979 +/- 3.865\n",
      "MRE: 52.9 +/- 17.2\n",
      "\n",
      "(783, 1370) (202, 1370)\n"
     ]
    },
    {
     "name": "stderr",
     "output_type": "stream",
     "text": [
      "100%|██████████| 2776/2776 [00:04<00:00, 692.42it/s]\n"
     ]
    },
    {
     "name": "stdout",
     "output_type": "stream",
     "text": [
      "logistic4 Filtering [1, 2, 3], r2>0.9, RBF_SVR\n",
      "\n",
      "MAE: 4.945 +/- 3.43\n",
      "MRE: 49.5 +/- 12.3\n",
      "\n",
      "(736, 1370) (189, 1370)\n"
     ]
    },
    {
     "name": "stderr",
     "output_type": "stream",
     "text": [
      "100%|██████████| 2600/2600 [00:03<00:00, 699.41it/s]\n"
     ]
    },
    {
     "name": "stdout",
     "output_type": "stream",
     "text": [
      "logistic4 Filtering [1, 2, 3, 4], r2>None, RBF_SVR\n",
      "\n",
      "MAE: 4.768 +/- 2.403\n",
      "MRE: 41.7 +/- 7.5\n",
      "\n",
      "(705, 1370) (180, 1370)\n"
     ]
    },
    {
     "name": "stderr",
     "output_type": "stream",
     "text": [
      "100%|██████████| 2600/2600 [00:03<00:00, 696.21it/s]\n"
     ]
    },
    {
     "name": "stdout",
     "output_type": "stream",
     "text": [
      "logistic4 Filtering [1, 2, 3, 4], r2>0, RBF_SVR\n",
      "\n",
      "MAE: 4.768 +/- 2.403\n",
      "MRE: 41.7 +/- 7.5\n",
      "\n",
      "(705, 1370) (180, 1370)\n"
     ]
    },
    {
     "name": "stderr",
     "output_type": "stream",
     "text": [
      "100%|██████████| 2600/2600 [00:03<00:00, 698.00it/s]\n"
     ]
    },
    {
     "name": "stdout",
     "output_type": "stream",
     "text": [
      "logistic4 Filtering [1, 2, 3, 4], r2>0.9, RBF_SVR\n",
      "\n",
      "MAE: 4.729 +/- 2.386\n",
      "MRE: 41.1 +/- 6.9\n",
      "\n",
      "(704, 1370) (180, 1370)\n"
     ]
    },
    {
     "name": "stderr",
     "output_type": "stream",
     "text": [
      "100%|██████████| 2776/2776 [00:04<00:00, 690.68it/s]\n"
     ]
    },
    {
     "name": "stdout",
     "output_type": "stream",
     "text": [
      "logistic4 Filtering [1, 2, 3], r2>None, Linear_SVR\n",
      "\n",
      "MAE: 5.889 +/- 3.831\n",
      "MRE: 57.0 +/- 21.0\n",
      "\n",
      "(783, 1370) (202, 1370)\n"
     ]
    },
    {
     "name": "stderr",
     "output_type": "stream",
     "text": [
      "100%|██████████| 2776/2776 [00:04<00:00, 693.85it/s]\n"
     ]
    },
    {
     "name": "stdout",
     "output_type": "stream",
     "text": [
      "logistic4 Filtering [1, 2, 3], r2>0, Linear_SVR\n",
      "\n",
      "MAE: 5.889 +/- 3.831\n",
      "MRE: 57.0 +/- 21.0\n",
      "\n",
      "(783, 1370) (202, 1370)\n"
     ]
    },
    {
     "name": "stderr",
     "output_type": "stream",
     "text": [
      "100%|██████████| 2776/2776 [00:03<00:00, 695.44it/s]\n"
     ]
    },
    {
     "name": "stdout",
     "output_type": "stream",
     "text": [
      "logistic4 Filtering [1, 2, 3], r2>0.9, Linear_SVR\n",
      "\n",
      "MAE: 4.893 +/- 3.346\n",
      "MRE: 54.7 +/- 20.7\n",
      "\n",
      "(736, 1370) (189, 1370)\n"
     ]
    },
    {
     "name": "stderr",
     "output_type": "stream",
     "text": [
      "100%|██████████| 2600/2600 [00:03<00:00, 693.58it/s]\n"
     ]
    },
    {
     "name": "stdout",
     "output_type": "stream",
     "text": [
      "logistic4 Filtering [1, 2, 3, 4], r2>None, Linear_SVR\n",
      "\n",
      "MAE: 4.925 +/- 2.213\n",
      "MRE: 47.8 +/- 14.7\n",
      "\n",
      "(705, 1370) (180, 1370)\n"
     ]
    },
    {
     "name": "stderr",
     "output_type": "stream",
     "text": [
      "100%|██████████| 2600/2600 [00:03<00:00, 699.52it/s]\n"
     ]
    },
    {
     "name": "stdout",
     "output_type": "stream",
     "text": [
      "logistic4 Filtering [1, 2, 3, 4], r2>0, Linear_SVR\n",
      "\n",
      "MAE: 4.925 +/- 2.213\n",
      "MRE: 47.8 +/- 14.7\n",
      "\n",
      "(705, 1370) (180, 1370)\n"
     ]
    },
    {
     "name": "stderr",
     "output_type": "stream",
     "text": [
      "100%|██████████| 2600/2600 [00:03<00:00, 680.20it/s]\n"
     ]
    },
    {
     "name": "stdout",
     "output_type": "stream",
     "text": [
      "logistic4 Filtering [1, 2, 3, 4], r2>0.9, Linear_SVR\n",
      "\n",
      "MAE: 4.877 +/- 2.185\n",
      "MRE: 47.1 +/- 14.4\n",
      "\n",
      "(704, 1370) (180, 1370)\n",
      "\n",
      " logistic4\n"
     ]
    },
    {
     "data": {
      "text/html": [
       "<div>\n",
       "<style scoped>\n",
       "    .dataframe tbody tr th:only-of-type {\n",
       "        vertical-align: middle;\n",
       "    }\n",
       "\n",
       "    .dataframe tbody tr th {\n",
       "        vertical-align: top;\n",
       "    }\n",
       "\n",
       "    .dataframe thead th {\n",
       "        text-align: right;\n",
       "    }\n",
       "</style>\n",
       "<table border=\"1\" class=\"dataframe\">\n",
       "  <thead>\n",
       "    <tr style=\"text-align: right;\">\n",
       "      <th></th>\n",
       "      <th>mae_coef_2</th>\n",
       "      <th>mre_coef_2</th>\n",
       "      <th>train_test_shape</th>\n",
       "    </tr>\n",
       "  </thead>\n",
       "  <tbody>\n",
       "    <tr>\n",
       "      <th>Filtering [1, 2, 3], r2&gt;None, Poly_KR</th>\n",
       "      <td>6.991 +/- 4.835</td>\n",
       "      <td>64.3 +/- 24.3</td>\n",
       "      <td>783 , 202</td>\n",
       "    </tr>\n",
       "    <tr>\n",
       "      <th>Filtering [1, 2, 3], r2&gt;None, RBF_SVR</th>\n",
       "      <td>5.979 +/- 3.865</td>\n",
       "      <td>52.9 +/- 17.2</td>\n",
       "      <td>783 , 202</td>\n",
       "    </tr>\n",
       "    <tr>\n",
       "      <th>Filtering [1, 2, 3], r2&gt;None, Linear_SVR</th>\n",
       "      <td>5.889 +/- 3.831</td>\n",
       "      <td>57.0 +/- 21.0</td>\n",
       "      <td>783 , 202</td>\n",
       "    </tr>\n",
       "    <tr>\n",
       "      <th>Filtering [1, 2, 3], r2&gt;0, Poly_KR</th>\n",
       "      <td>6.991 +/- 4.835</td>\n",
       "      <td>64.3 +/- 24.3</td>\n",
       "      <td>783 , 202</td>\n",
       "    </tr>\n",
       "    <tr>\n",
       "      <th>Filtering [1, 2, 3], r2&gt;0, RBF_SVR</th>\n",
       "      <td>5.979 +/- 3.865</td>\n",
       "      <td>52.9 +/- 17.2</td>\n",
       "      <td>783 , 202</td>\n",
       "    </tr>\n",
       "    <tr>\n",
       "      <th>Filtering [1, 2, 3], r2&gt;0, Linear_SVR</th>\n",
       "      <td>5.889 +/- 3.831</td>\n",
       "      <td>57.0 +/- 21.0</td>\n",
       "      <td>783 , 202</td>\n",
       "    </tr>\n",
       "    <tr>\n",
       "      <th>Filtering [1, 2, 3], r2&gt;0.9, Poly_KR</th>\n",
       "      <td>5.501 +/- 3.666</td>\n",
       "      <td>59.5 +/- 20.4</td>\n",
       "      <td>736 , 189</td>\n",
       "    </tr>\n",
       "    <tr>\n",
       "      <th>Filtering [1, 2, 3], r2&gt;0.9, RBF_SVR</th>\n",
       "      <td>4.945 +/- 3.43</td>\n",
       "      <td>49.5 +/- 12.3</td>\n",
       "      <td>736 , 189</td>\n",
       "    </tr>\n",
       "    <tr>\n",
       "      <th>Filtering [1, 2, 3], r2&gt;0.9, Linear_SVR</th>\n",
       "      <td>4.893 +/- 3.346</td>\n",
       "      <td>54.7 +/- 20.7</td>\n",
       "      <td>736 , 189</td>\n",
       "    </tr>\n",
       "    <tr>\n",
       "      <th>Filtering [1, 2, 3, 4], r2&gt;None, Poly_KR</th>\n",
       "      <td>5.521 +/- 2.528</td>\n",
       "      <td>50.9 +/- 17.5</td>\n",
       "      <td>705 , 180</td>\n",
       "    </tr>\n",
       "    <tr>\n",
       "      <th>Filtering [1, 2, 3, 4], r2&gt;None, RBF_SVR</th>\n",
       "      <td>4.768 +/- 2.403</td>\n",
       "      <td>41.7 +/- 7.5</td>\n",
       "      <td>705 , 180</td>\n",
       "    </tr>\n",
       "    <tr>\n",
       "      <th>Filtering [1, 2, 3, 4], r2&gt;None, Linear_SVR</th>\n",
       "      <td>4.925 +/- 2.213</td>\n",
       "      <td>47.8 +/- 14.7</td>\n",
       "      <td>705 , 180</td>\n",
       "    </tr>\n",
       "    <tr>\n",
       "      <th>Filtering [1, 2, 3, 4], r2&gt;0, Poly_KR</th>\n",
       "      <td>5.521 +/- 2.528</td>\n",
       "      <td>50.9 +/- 17.5</td>\n",
       "      <td>705 , 180</td>\n",
       "    </tr>\n",
       "    <tr>\n",
       "      <th>Filtering [1, 2, 3, 4], r2&gt;0, RBF_SVR</th>\n",
       "      <td>4.768 +/- 2.403</td>\n",
       "      <td>41.7 +/- 7.5</td>\n",
       "      <td>705 , 180</td>\n",
       "    </tr>\n",
       "    <tr>\n",
       "      <th>Filtering [1, 2, 3, 4], r2&gt;0, Linear_SVR</th>\n",
       "      <td>4.925 +/- 2.213</td>\n",
       "      <td>47.8 +/- 14.7</td>\n",
       "      <td>705 , 180</td>\n",
       "    </tr>\n",
       "    <tr>\n",
       "      <th>Filtering [1, 2, 3, 4], r2&gt;0.9, Poly_KR</th>\n",
       "      <td>5.52 +/- 2.562</td>\n",
       "      <td>50.7 +/- 17.6</td>\n",
       "      <td>704 , 180</td>\n",
       "    </tr>\n",
       "    <tr>\n",
       "      <th>Filtering [1, 2, 3, 4], r2&gt;0.9, RBF_SVR</th>\n",
       "      <td>4.729 +/- 2.386</td>\n",
       "      <td>41.1 +/- 6.9</td>\n",
       "      <td>704 , 180</td>\n",
       "    </tr>\n",
       "    <tr>\n",
       "      <th>Filtering [1, 2, 3, 4], r2&gt;0.9, Linear_SVR</th>\n",
       "      <td>4.877 +/- 2.185</td>\n",
       "      <td>47.1 +/- 14.4</td>\n",
       "      <td>704 , 180</td>\n",
       "    </tr>\n",
       "  </tbody>\n",
       "</table>\n",
       "</div>"
      ],
      "text/plain": [
       "                                                  mae_coef_2     mre_coef_2  \\\n",
       "Filtering [1, 2, 3], r2>None, Poly_KR        6.991 +/- 4.835  64.3 +/- 24.3   \n",
       "Filtering [1, 2, 3], r2>None, RBF_SVR        5.979 +/- 3.865  52.9 +/- 17.2   \n",
       "Filtering [1, 2, 3], r2>None, Linear_SVR     5.889 +/- 3.831  57.0 +/- 21.0   \n",
       "Filtering [1, 2, 3], r2>0, Poly_KR           6.991 +/- 4.835  64.3 +/- 24.3   \n",
       "Filtering [1, 2, 3], r2>0, RBF_SVR           5.979 +/- 3.865  52.9 +/- 17.2   \n",
       "Filtering [1, 2, 3], r2>0, Linear_SVR        5.889 +/- 3.831  57.0 +/- 21.0   \n",
       "Filtering [1, 2, 3], r2>0.9, Poly_KR         5.501 +/- 3.666  59.5 +/- 20.4   \n",
       "Filtering [1, 2, 3], r2>0.9, RBF_SVR          4.945 +/- 3.43  49.5 +/- 12.3   \n",
       "Filtering [1, 2, 3], r2>0.9, Linear_SVR      4.893 +/- 3.346  54.7 +/- 20.7   \n",
       "Filtering [1, 2, 3, 4], r2>None, Poly_KR     5.521 +/- 2.528  50.9 +/- 17.5   \n",
       "Filtering [1, 2, 3, 4], r2>None, RBF_SVR     4.768 +/- 2.403   41.7 +/- 7.5   \n",
       "Filtering [1, 2, 3, 4], r2>None, Linear_SVR  4.925 +/- 2.213  47.8 +/- 14.7   \n",
       "Filtering [1, 2, 3, 4], r2>0, Poly_KR        5.521 +/- 2.528  50.9 +/- 17.5   \n",
       "Filtering [1, 2, 3, 4], r2>0, RBF_SVR        4.768 +/- 2.403   41.7 +/- 7.5   \n",
       "Filtering [1, 2, 3, 4], r2>0, Linear_SVR     4.925 +/- 2.213  47.8 +/- 14.7   \n",
       "Filtering [1, 2, 3, 4], r2>0.9, Poly_KR       5.52 +/- 2.562  50.7 +/- 17.6   \n",
       "Filtering [1, 2, 3, 4], r2>0.9, RBF_SVR      4.729 +/- 2.386   41.1 +/- 6.9   \n",
       "Filtering [1, 2, 3, 4], r2>0.9, Linear_SVR   4.877 +/- 2.185  47.1 +/- 14.4   \n",
       "\n",
       "                                            train_test_shape  \n",
       "Filtering [1, 2, 3], r2>None, Poly_KR              783 , 202  \n",
       "Filtering [1, 2, 3], r2>None, RBF_SVR              783 , 202  \n",
       "Filtering [1, 2, 3], r2>None, Linear_SVR           783 , 202  \n",
       "Filtering [1, 2, 3], r2>0, Poly_KR                 783 , 202  \n",
       "Filtering [1, 2, 3], r2>0, RBF_SVR                 783 , 202  \n",
       "Filtering [1, 2, 3], r2>0, Linear_SVR              783 , 202  \n",
       "Filtering [1, 2, 3], r2>0.9, Poly_KR               736 , 189  \n",
       "Filtering [1, 2, 3], r2>0.9, RBF_SVR               736 , 189  \n",
       "Filtering [1, 2, 3], r2>0.9, Linear_SVR            736 , 189  \n",
       "Filtering [1, 2, 3, 4], r2>None, Poly_KR           705 , 180  \n",
       "Filtering [1, 2, 3, 4], r2>None, RBF_SVR           705 , 180  \n",
       "Filtering [1, 2, 3, 4], r2>None, Linear_SVR        705 , 180  \n",
       "Filtering [1, 2, 3, 4], r2>0, Poly_KR              705 , 180  \n",
       "Filtering [1, 2, 3, 4], r2>0, RBF_SVR              705 , 180  \n",
       "Filtering [1, 2, 3, 4], r2>0, Linear_SVR           705 , 180  \n",
       "Filtering [1, 2, 3, 4], r2>0.9, Poly_KR            704 , 180  \n",
       "Filtering [1, 2, 3, 4], r2>0.9, RBF_SVR            704 , 180  \n",
       "Filtering [1, 2, 3, 4], r2>0.9, Linear_SVR         704 , 180  "
      ]
     },
     "metadata": {},
     "output_type": "display_data"
    },
    {
     "name": "stderr",
     "output_type": "stream",
     "text": [
      "100%|██████████| 2776/2776 [00:04<00:00, 604.37it/s]\n"
     ]
    },
    {
     "name": "stdout",
     "output_type": "stream",
     "text": [
      "logLogistR Filtering [1, 2, 3], r2>None, Poly_KR\n",
      "\n",
      "MAE: 2.977 +/- 1.52\n",
      "MRE: -48.6 +/- 19.9\n",
      "\n",
      "(783, 1369) (202, 1369)\n"
     ]
    },
    {
     "name": "stderr",
     "output_type": "stream",
     "text": [
      "100%|██████████| 2776/2776 [00:04<00:00, 604.79it/s]\n"
     ]
    },
    {
     "name": "stdout",
     "output_type": "stream",
     "text": [
      "logLogistR Filtering [1, 2, 3], r2>0, Poly_KR\n",
      "\n",
      "MAE: 2.977 +/- 1.52\n",
      "MRE: -48.6 +/- 19.9\n",
      "\n",
      "(783, 1369) (202, 1369)\n"
     ]
    },
    {
     "name": "stderr",
     "output_type": "stream",
     "text": [
      "100%|██████████| 2776/2776 [00:04<00:00, 605.47it/s]\n"
     ]
    },
    {
     "name": "stdout",
     "output_type": "stream",
     "text": [
      "logLogistR Filtering [1, 2, 3], r2>0.9, Poly_KR\n",
      "\n",
      "MAE: 2.708 +/- 1.185\n",
      "MRE: -41.6 +/- 10.9\n",
      "\n",
      "(736, 1369) (188, 1369)\n"
     ]
    },
    {
     "name": "stderr",
     "output_type": "stream",
     "text": [
      "100%|██████████| 2600/2600 [00:04<00:00, 606.69it/s]\n"
     ]
    },
    {
     "name": "stdout",
     "output_type": "stream",
     "text": [
      "logLogistR Filtering [1, 2, 3, 4], r2>None, Poly_KR\n",
      "\n",
      "MAE: 2.443 +/- 0.788\n",
      "MRE: -38.2 +/- 9.2\n",
      "\n",
      "(705, 1369) (180, 1369)\n"
     ]
    },
    {
     "name": "stderr",
     "output_type": "stream",
     "text": [
      "100%|██████████| 2600/2600 [00:04<00:00, 608.25it/s]\n"
     ]
    },
    {
     "name": "stdout",
     "output_type": "stream",
     "text": [
      "logLogistR Filtering [1, 2, 3, 4], r2>0, Poly_KR\n",
      "\n",
      "MAE: 2.443 +/- 0.788\n",
      "MRE: -38.2 +/- 9.2\n",
      "\n",
      "(705, 1369) (180, 1369)\n"
     ]
    },
    {
     "name": "stderr",
     "output_type": "stream",
     "text": [
      "100%|██████████| 2600/2600 [00:04<00:00, 608.32it/s]\n"
     ]
    },
    {
     "name": "stdout",
     "output_type": "stream",
     "text": [
      "logLogistR Filtering [1, 2, 3, 4], r2>0.9, Poly_KR\n",
      "\n",
      "MAE: 2.484 +/- 0.848\n",
      "MRE: -40.7 +/- 11.7\n",
      "\n",
      "(704, 1369) (180, 1369)\n"
     ]
    },
    {
     "name": "stderr",
     "output_type": "stream",
     "text": [
      "100%|██████████| 2776/2776 [00:04<00:00, 604.87it/s]\n"
     ]
    },
    {
     "name": "stdout",
     "output_type": "stream",
     "text": [
      "logLogistR Filtering [1, 2, 3], r2>None, RBF_SVR\n",
      "\n",
      "MAE: 2.437 +/- 1.256\n",
      "MRE: -40.7 +/- 18.5\n",
      "\n",
      "(783, 1369) (202, 1369)\n"
     ]
    },
    {
     "name": "stderr",
     "output_type": "stream",
     "text": [
      "100%|██████████| 2776/2776 [00:04<00:00, 604.44it/s]\n"
     ]
    },
    {
     "name": "stdout",
     "output_type": "stream",
     "text": [
      "logLogistR Filtering [1, 2, 3], r2>0, RBF_SVR\n",
      "\n",
      "MAE: 2.437 +/- 1.256\n",
      "MRE: -40.7 +/- 18.5\n",
      "\n",
      "(783, 1369) (202, 1369)\n"
     ]
    },
    {
     "name": "stderr",
     "output_type": "stream",
     "text": [
      "100%|██████████| 2776/2776 [00:04<00:00, 606.71it/s]\n"
     ]
    },
    {
     "name": "stdout",
     "output_type": "stream",
     "text": [
      "logLogistR Filtering [1, 2, 3], r2>0.9, RBF_SVR\n",
      "\n",
      "MAE: 2.361 +/- 1.22\n",
      "MRE: -36.7 +/- 12.9\n",
      "\n",
      "(736, 1369) (188, 1369)\n"
     ]
    },
    {
     "name": "stderr",
     "output_type": "stream",
     "text": [
      "100%|██████████| 2600/2600 [00:04<00:00, 607.23it/s]\n"
     ]
    },
    {
     "name": "stdout",
     "output_type": "stream",
     "text": [
      "logLogistR Filtering [1, 2, 3, 4], r2>None, RBF_SVR\n",
      "\n",
      "MAE: 1.966 +/- 0.904\n",
      "MRE: -30.0 +/- 7.8\n",
      "\n",
      "(705, 1369) (180, 1369)\n"
     ]
    },
    {
     "name": "stderr",
     "output_type": "stream",
     "text": [
      "100%|██████████| 2600/2600 [00:04<00:00, 609.96it/s]\n"
     ]
    },
    {
     "name": "stdout",
     "output_type": "stream",
     "text": [
      "logLogistR Filtering [1, 2, 3, 4], r2>0, RBF_SVR\n",
      "\n",
      "MAE: 1.966 +/- 0.904\n",
      "MRE: -30.0 +/- 7.8\n",
      "\n",
      "(705, 1369) (180, 1369)\n"
     ]
    },
    {
     "name": "stderr",
     "output_type": "stream",
     "text": [
      "100%|██████████| 2600/2600 [00:04<00:00, 608.62it/s]\n"
     ]
    },
    {
     "name": "stdout",
     "output_type": "stream",
     "text": [
      "logLogistR Filtering [1, 2, 3, 4], r2>0.9, RBF_SVR\n",
      "\n",
      "MAE: 2.011 +/- 0.988\n",
      "MRE: -31.9 +/- 10.6\n",
      "\n",
      "(704, 1369) (180, 1369)\n"
     ]
    },
    {
     "name": "stderr",
     "output_type": "stream",
     "text": [
      "100%|██████████| 2776/2776 [00:04<00:00, 603.33it/s]\n"
     ]
    },
    {
     "name": "stdout",
     "output_type": "stream",
     "text": [
      "logLogistR Filtering [1, 2, 3], r2>None, Linear_SVR\n",
      "\n",
      "MAE: 2.372 +/- 1.221\n",
      "MRE: -44.2 +/- 20.7\n",
      "\n",
      "(783, 1369) (202, 1369)\n"
     ]
    },
    {
     "name": "stderr",
     "output_type": "stream",
     "text": [
      "100%|██████████| 2776/2776 [00:04<00:00, 603.00it/s]\n"
     ]
    },
    {
     "name": "stdout",
     "output_type": "stream",
     "text": [
      "logLogistR Filtering [1, 2, 3], r2>0, Linear_SVR\n",
      "\n",
      "MAE: 2.372 +/- 1.221\n",
      "MRE: -44.2 +/- 20.7\n",
      "\n",
      "(783, 1369) (202, 1369)\n"
     ]
    },
    {
     "name": "stderr",
     "output_type": "stream",
     "text": [
      "100%|██████████| 2776/2776 [00:04<00:00, 602.05it/s]\n"
     ]
    },
    {
     "name": "stdout",
     "output_type": "stream",
     "text": [
      "logLogistR Filtering [1, 2, 3], r2>0.9, Linear_SVR\n",
      "\n",
      "MAE: 2.44 +/- 1.328\n",
      "MRE: -43.4 +/- 17.6\n",
      "\n",
      "(736, 1369) (188, 1369)\n"
     ]
    },
    {
     "name": "stderr",
     "output_type": "stream",
     "text": [
      "100%|██████████| 2600/2600 [00:04<00:00, 608.65it/s]\n"
     ]
    },
    {
     "name": "stdout",
     "output_type": "stream",
     "text": [
      "logLogistR Filtering [1, 2, 3, 4], r2>None, Linear_SVR\n",
      "\n",
      "MAE: 2.145 +/- 1.016\n",
      "MRE: -37.8 +/- 15.7\n",
      "\n",
      "(705, 1369) (180, 1369)\n"
     ]
    },
    {
     "name": "stderr",
     "output_type": "stream",
     "text": [
      "100%|██████████| 2600/2600 [00:04<00:00, 599.85it/s]\n"
     ]
    },
    {
     "name": "stdout",
     "output_type": "stream",
     "text": [
      "logLogistR Filtering [1, 2, 3, 4], r2>0, Linear_SVR\n",
      "\n",
      "MAE: 2.145 +/- 1.016\n",
      "MRE: -37.8 +/- 15.7\n",
      "\n",
      "(705, 1369) (180, 1369)\n"
     ]
    },
    {
     "name": "stderr",
     "output_type": "stream",
     "text": [
      "100%|██████████| 2600/2600 [00:04<00:00, 605.74it/s]\n"
     ]
    },
    {
     "name": "stdout",
     "output_type": "stream",
     "text": [
      "logLogistR Filtering [1, 2, 3, 4], r2>0.9, Linear_SVR\n",
      "\n",
      "MAE: 2.107 +/- 1.007\n",
      "MRE: -39.8 +/- 19.7\n",
      "\n",
      "(704, 1369) (180, 1369)\n",
      "\n",
      " logLogistR\n"
     ]
    },
    {
     "data": {
      "text/html": [
       "<div>\n",
       "<style scoped>\n",
       "    .dataframe tbody tr th:only-of-type {\n",
       "        vertical-align: middle;\n",
       "    }\n",
       "\n",
       "    .dataframe tbody tr th {\n",
       "        vertical-align: top;\n",
       "    }\n",
       "\n",
       "    .dataframe thead th {\n",
       "        text-align: right;\n",
       "    }\n",
       "</style>\n",
       "<table border=\"1\" class=\"dataframe\">\n",
       "  <thead>\n",
       "    <tr style=\"text-align: right;\">\n",
       "      <th></th>\n",
       "      <th>mae_coef_2</th>\n",
       "      <th>mre_coef_2</th>\n",
       "      <th>train_test_shape</th>\n",
       "    </tr>\n",
       "  </thead>\n",
       "  <tbody>\n",
       "    <tr>\n",
       "      <th>Filtering [1, 2, 3], r2&gt;None, Poly_KR</th>\n",
       "      <td>2.977 +/- 1.52</td>\n",
       "      <td>-48.6 +/- 19.9</td>\n",
       "      <td>783 , 202</td>\n",
       "    </tr>\n",
       "    <tr>\n",
       "      <th>Filtering [1, 2, 3], r2&gt;None, RBF_SVR</th>\n",
       "      <td>2.437 +/- 1.256</td>\n",
       "      <td>-40.7 +/- 18.5</td>\n",
       "      <td>783 , 202</td>\n",
       "    </tr>\n",
       "    <tr>\n",
       "      <th>Filtering [1, 2, 3], r2&gt;None, Linear_SVR</th>\n",
       "      <td>2.372 +/- 1.221</td>\n",
       "      <td>-44.2 +/- 20.7</td>\n",
       "      <td>783 , 202</td>\n",
       "    </tr>\n",
       "    <tr>\n",
       "      <th>Filtering [1, 2, 3], r2&gt;0, Poly_KR</th>\n",
       "      <td>2.977 +/- 1.52</td>\n",
       "      <td>-48.6 +/- 19.9</td>\n",
       "      <td>783 , 202</td>\n",
       "    </tr>\n",
       "    <tr>\n",
       "      <th>Filtering [1, 2, 3], r2&gt;0, RBF_SVR</th>\n",
       "      <td>2.437 +/- 1.256</td>\n",
       "      <td>-40.7 +/- 18.5</td>\n",
       "      <td>783 , 202</td>\n",
       "    </tr>\n",
       "    <tr>\n",
       "      <th>Filtering [1, 2, 3], r2&gt;0, Linear_SVR</th>\n",
       "      <td>2.372 +/- 1.221</td>\n",
       "      <td>-44.2 +/- 20.7</td>\n",
       "      <td>783 , 202</td>\n",
       "    </tr>\n",
       "    <tr>\n",
       "      <th>Filtering [1, 2, 3], r2&gt;0.9, Poly_KR</th>\n",
       "      <td>2.708 +/- 1.185</td>\n",
       "      <td>-41.6 +/- 10.9</td>\n",
       "      <td>736 , 188</td>\n",
       "    </tr>\n",
       "    <tr>\n",
       "      <th>Filtering [1, 2, 3], r2&gt;0.9, RBF_SVR</th>\n",
       "      <td>2.361 +/- 1.22</td>\n",
       "      <td>-36.7 +/- 12.9</td>\n",
       "      <td>736 , 188</td>\n",
       "    </tr>\n",
       "    <tr>\n",
       "      <th>Filtering [1, 2, 3], r2&gt;0.9, Linear_SVR</th>\n",
       "      <td>2.44 +/- 1.328</td>\n",
       "      <td>-43.4 +/- 17.6</td>\n",
       "      <td>736 , 188</td>\n",
       "    </tr>\n",
       "    <tr>\n",
       "      <th>Filtering [1, 2, 3, 4], r2&gt;None, Poly_KR</th>\n",
       "      <td>2.443 +/- 0.788</td>\n",
       "      <td>-38.2 +/- 9.2</td>\n",
       "      <td>705 , 180</td>\n",
       "    </tr>\n",
       "    <tr>\n",
       "      <th>Filtering [1, 2, 3, 4], r2&gt;None, RBF_SVR</th>\n",
       "      <td>1.966 +/- 0.904</td>\n",
       "      <td>-30.0 +/- 7.8</td>\n",
       "      <td>705 , 180</td>\n",
       "    </tr>\n",
       "    <tr>\n",
       "      <th>Filtering [1, 2, 3, 4], r2&gt;None, Linear_SVR</th>\n",
       "      <td>2.145 +/- 1.016</td>\n",
       "      <td>-37.8 +/- 15.7</td>\n",
       "      <td>705 , 180</td>\n",
       "    </tr>\n",
       "    <tr>\n",
       "      <th>Filtering [1, 2, 3, 4], r2&gt;0, Poly_KR</th>\n",
       "      <td>2.443 +/- 0.788</td>\n",
       "      <td>-38.2 +/- 9.2</td>\n",
       "      <td>705 , 180</td>\n",
       "    </tr>\n",
       "    <tr>\n",
       "      <th>Filtering [1, 2, 3, 4], r2&gt;0, RBF_SVR</th>\n",
       "      <td>1.966 +/- 0.904</td>\n",
       "      <td>-30.0 +/- 7.8</td>\n",
       "      <td>705 , 180</td>\n",
       "    </tr>\n",
       "    <tr>\n",
       "      <th>Filtering [1, 2, 3, 4], r2&gt;0, Linear_SVR</th>\n",
       "      <td>2.145 +/- 1.016</td>\n",
       "      <td>-37.8 +/- 15.7</td>\n",
       "      <td>705 , 180</td>\n",
       "    </tr>\n",
       "    <tr>\n",
       "      <th>Filtering [1, 2, 3, 4], r2&gt;0.9, Poly_KR</th>\n",
       "      <td>2.484 +/- 0.848</td>\n",
       "      <td>-40.7 +/- 11.7</td>\n",
       "      <td>704 , 180</td>\n",
       "    </tr>\n",
       "    <tr>\n",
       "      <th>Filtering [1, 2, 3, 4], r2&gt;0.9, RBF_SVR</th>\n",
       "      <td>2.011 +/- 0.988</td>\n",
       "      <td>-31.9 +/- 10.6</td>\n",
       "      <td>704 , 180</td>\n",
       "    </tr>\n",
       "    <tr>\n",
       "      <th>Filtering [1, 2, 3, 4], r2&gt;0.9, Linear_SVR</th>\n",
       "      <td>2.107 +/- 1.007</td>\n",
       "      <td>-39.8 +/- 19.7</td>\n",
       "      <td>704 , 180</td>\n",
       "    </tr>\n",
       "  </tbody>\n",
       "</table>\n",
       "</div>"
      ],
      "text/plain": [
       "                                                  mae_coef_2      mre_coef_2  \\\n",
       "Filtering [1, 2, 3], r2>None, Poly_KR         2.977 +/- 1.52  -48.6 +/- 19.9   \n",
       "Filtering [1, 2, 3], r2>None, RBF_SVR        2.437 +/- 1.256  -40.7 +/- 18.5   \n",
       "Filtering [1, 2, 3], r2>None, Linear_SVR     2.372 +/- 1.221  -44.2 +/- 20.7   \n",
       "Filtering [1, 2, 3], r2>0, Poly_KR            2.977 +/- 1.52  -48.6 +/- 19.9   \n",
       "Filtering [1, 2, 3], r2>0, RBF_SVR           2.437 +/- 1.256  -40.7 +/- 18.5   \n",
       "Filtering [1, 2, 3], r2>0, Linear_SVR        2.372 +/- 1.221  -44.2 +/- 20.7   \n",
       "Filtering [1, 2, 3], r2>0.9, Poly_KR         2.708 +/- 1.185  -41.6 +/- 10.9   \n",
       "Filtering [1, 2, 3], r2>0.9, RBF_SVR          2.361 +/- 1.22  -36.7 +/- 12.9   \n",
       "Filtering [1, 2, 3], r2>0.9, Linear_SVR       2.44 +/- 1.328  -43.4 +/- 17.6   \n",
       "Filtering [1, 2, 3, 4], r2>None, Poly_KR     2.443 +/- 0.788   -38.2 +/- 9.2   \n",
       "Filtering [1, 2, 3, 4], r2>None, RBF_SVR     1.966 +/- 0.904   -30.0 +/- 7.8   \n",
       "Filtering [1, 2, 3, 4], r2>None, Linear_SVR  2.145 +/- 1.016  -37.8 +/- 15.7   \n",
       "Filtering [1, 2, 3, 4], r2>0, Poly_KR        2.443 +/- 0.788   -38.2 +/- 9.2   \n",
       "Filtering [1, 2, 3, 4], r2>0, RBF_SVR        1.966 +/- 0.904   -30.0 +/- 7.8   \n",
       "Filtering [1, 2, 3, 4], r2>0, Linear_SVR     2.145 +/- 1.016  -37.8 +/- 15.7   \n",
       "Filtering [1, 2, 3, 4], r2>0.9, Poly_KR      2.484 +/- 0.848  -40.7 +/- 11.7   \n",
       "Filtering [1, 2, 3, 4], r2>0.9, RBF_SVR      2.011 +/- 0.988  -31.9 +/- 10.6   \n",
       "Filtering [1, 2, 3, 4], r2>0.9, Linear_SVR   2.107 +/- 1.007  -39.8 +/- 19.7   \n",
       "\n",
       "                                            train_test_shape  \n",
       "Filtering [1, 2, 3], r2>None, Poly_KR              783 , 202  \n",
       "Filtering [1, 2, 3], r2>None, RBF_SVR              783 , 202  \n",
       "Filtering [1, 2, 3], r2>None, Linear_SVR           783 , 202  \n",
       "Filtering [1, 2, 3], r2>0, Poly_KR                 783 , 202  \n",
       "Filtering [1, 2, 3], r2>0, RBF_SVR                 783 , 202  \n",
       "Filtering [1, 2, 3], r2>0, Linear_SVR              783 , 202  \n",
       "Filtering [1, 2, 3], r2>0.9, Poly_KR               736 , 188  \n",
       "Filtering [1, 2, 3], r2>0.9, RBF_SVR               736 , 188  \n",
       "Filtering [1, 2, 3], r2>0.9, Linear_SVR            736 , 188  \n",
       "Filtering [1, 2, 3, 4], r2>None, Poly_KR           705 , 180  \n",
       "Filtering [1, 2, 3, 4], r2>None, RBF_SVR           705 , 180  \n",
       "Filtering [1, 2, 3, 4], r2>None, Linear_SVR        705 , 180  \n",
       "Filtering [1, 2, 3, 4], r2>0, Poly_KR              705 , 180  \n",
       "Filtering [1, 2, 3, 4], r2>0, RBF_SVR              705 , 180  \n",
       "Filtering [1, 2, 3, 4], r2>0, Linear_SVR           705 , 180  \n",
       "Filtering [1, 2, 3, 4], r2>0.9, Poly_KR            704 , 180  \n",
       "Filtering [1, 2, 3, 4], r2>0.9, RBF_SVR            704 , 180  \n",
       "Filtering [1, 2, 3, 4], r2>0.9, Linear_SVR         704 , 180  "
      ]
     },
     "metadata": {},
     "output_type": "display_data"
    },
    {
     "data": {
      "image/png": "[encoded data removed]",
      "text/plain": [
       "<Figure size 288x216 with 1 Axes>"
      ]
     },
     "metadata": {
      "needs_background": "light"
     },
     "output_type": "display_data"
    },
    {
     "data": {
      "image/png": "[encoded data removed]",
      "text/plain": [
       "<Figure size 288x216 with 1 Axes>"
      ]
     },
     "metadata": {
      "needs_background": "light"
     },
     "output_type": "display_data"
    },
    {
     "data": {
      "image/png": "[encoded data removed]",
      "text/plain": [
       "<Figure size 288x216 with 1 Axes>"
      ]
     },
     "metadata": {
      "needs_background": "light"
     },
     "output_type": "display_data"
    }
   ],
   "source": [
    "coef=2\n",
    "results_2 = CompareTrainingScenariosModels(coef, models_dict, X_columns, _FOLDER, _FOLDER_2, \n",
    "                                           fitting_functions, filtering_scenarios, r2_restrictions,\n",
    "                                           print_progress_info = False)"
   ]
  },
  {
   "cell_type": "code",
   "execution_count": 7,
   "metadata": {},
   "outputs": [
    {
     "name": "stderr",
     "output_type": "stream",
     "text": [
      "100%|██████████| 2776/2776 [00:03<00:00, 694.40it/s]\n"
     ]
    },
    {
     "name": "stdout",
     "output_type": "stream",
     "text": [
      "sigmoid_4_param Filtering [1, 2, 3], r2>None, Poly_KR\n",
      "\n",
      "MAE: 11.12 +/- 7.419\n",
      "MRE: -55.1 +/- 23.0\n",
      "\n",
      "(781, 1370) (202, 1370)\n"
     ]
    },
    {
     "name": "stderr",
     "output_type": "stream",
     "text": [
      "100%|██████████| 2776/2776 [00:03<00:00, 694.90it/s]\n"
     ]
    },
    {
     "name": "stdout",
     "output_type": "stream",
     "text": [
      "sigmoid_4_param Filtering [1, 2, 3], r2>0, Poly_KR\n",
      "\n",
      "MAE: 11.12 +/- 7.419\n",
      "MRE: -55.1 +/- 23.0\n",
      "\n",
      "(781, 1370) (202, 1370)\n"
     ]
    },
    {
     "name": "stderr",
     "output_type": "stream",
     "text": [
      "100%|██████████| 2776/2776 [00:03<00:00, 695.16it/s]\n"
     ]
    },
    {
     "name": "stdout",
     "output_type": "stream",
     "text": [
      "sigmoid_4_param Filtering [1, 2, 3], r2>0.9, Poly_KR\n",
      "\n",
      "MAE: 10.084 +/- 6.305\n",
      "MRE: -45.8 +/- 12.9\n",
      "\n",
      "(722, 1370) (184, 1370)\n"
     ]
    },
    {
     "name": "stderr",
     "output_type": "stream",
     "text": [
      "100%|██████████| 2600/2600 [00:03<00:00, 707.23it/s]\n"
     ]
    },
    {
     "name": "stdout",
     "output_type": "stream",
     "text": [
      "sigmoid_4_param Filtering [1, 2, 3, 4], r2>None, Poly_KR\n",
      "\n",
      "MAE: 7.41 +/- 3.608\n",
      "MRE: -44.6 +/- 11.8\n",
      "\n",
      "(703, 1370) (180, 1370)\n"
     ]
    },
    {
     "name": "stderr",
     "output_type": "stream",
     "text": [
      "100%|██████████| 2600/2600 [00:03<00:00, 704.83it/s]\n"
     ]
    },
    {
     "name": "stdout",
     "output_type": "stream",
     "text": [
      "sigmoid_4_param Filtering [1, 2, 3, 4], r2>0, Poly_KR\n",
      "\n",
      "MAE: 7.41 +/- 3.608\n",
      "MRE: -44.6 +/- 11.8\n",
      "\n",
      "(703, 1370) (180, 1370)\n"
     ]
    },
    {
     "name": "stderr",
     "output_type": "stream",
     "text": [
      "100%|██████████| 2600/2600 [00:03<00:00, 706.82it/s]\n"
     ]
    },
    {
     "name": "stdout",
     "output_type": "stream",
     "text": [
      "sigmoid_4_param Filtering [1, 2, 3, 4], r2>0.9, Poly_KR\n",
      "\n",
      "MAE: 7.344 +/- 3.881\n",
      "MRE: -44.6 +/- 12.9\n",
      "\n",
      "(690, 1370) (177, 1370)\n"
     ]
    },
    {
     "name": "stderr",
     "output_type": "stream",
     "text": [
      "100%|██████████| 2776/2776 [00:03<00:00, 697.04it/s]\n"
     ]
    },
    {
     "name": "stdout",
     "output_type": "stream",
     "text": [
      "sigmoid_4_param Filtering [1, 2, 3], r2>None, RBF_SVR\n",
      "\n",
      "MAE: 8.885 +/- 5.418\n",
      "MRE: -43.4 +/- 12.9\n",
      "\n",
      "(781, 1370) (202, 1370)\n"
     ]
    },
    {
     "name": "stderr",
     "output_type": "stream",
     "text": [
      "100%|██████████| 2776/2776 [00:04<00:00, 693.78it/s]\n"
     ]
    },
    {
     "name": "stdout",
     "output_type": "stream",
     "text": [
      "sigmoid_4_param Filtering [1, 2, 3], r2>0, RBF_SVR\n",
      "\n",
      "MAE: 8.885 +/- 5.418\n",
      "MRE: -43.4 +/- 12.9\n",
      "\n",
      "(781, 1370) (202, 1370)\n"
     ]
    },
    {
     "name": "stderr",
     "output_type": "stream",
     "text": [
      "100%|██████████| 2776/2776 [00:03<00:00, 697.56it/s]\n"
     ]
    },
    {
     "name": "stdout",
     "output_type": "stream",
     "text": [
      "sigmoid_4_param Filtering [1, 2, 3], r2>0.9, RBF_SVR\n",
      "\n",
      "MAE: 8.966 +/- 5.487\n",
      "MRE: -39.9 +/- 9.4\n",
      "\n",
      "(722, 1370) (184, 1370)\n"
     ]
    },
    {
     "name": "stderr",
     "output_type": "stream",
     "text": [
      "100%|██████████| 2600/2600 [00:03<00:00, 698.62it/s]\n"
     ]
    },
    {
     "name": "stdout",
     "output_type": "stream",
     "text": [
      "sigmoid_4_param Filtering [1, 2, 3, 4], r2>None, RBF_SVR\n",
      "\n",
      "MAE: 5.768 +/- 2.802\n",
      "MRE: -35.9 +/- 10.0\n",
      "\n",
      "(703, 1370) (180, 1370)\n"
     ]
    },
    {
     "name": "stderr",
     "output_type": "stream",
     "text": [
      "100%|██████████| 2600/2600 [00:03<00:00, 696.32it/s]\n"
     ]
    },
    {
     "name": "stdout",
     "output_type": "stream",
     "text": [
      "sigmoid_4_param Filtering [1, 2, 3, 4], r2>0, RBF_SVR\n",
      "\n",
      "MAE: 5.768 +/- 2.802\n",
      "MRE: -35.9 +/- 10.0\n",
      "\n",
      "(703, 1370) (180, 1370)\n"
     ]
    },
    {
     "name": "stderr",
     "output_type": "stream",
     "text": [
      "100%|██████████| 2600/2600 [00:03<00:00, 709.30it/s]\n"
     ]
    },
    {
     "name": "stdout",
     "output_type": "stream",
     "text": [
      "sigmoid_4_param Filtering [1, 2, 3, 4], r2>0.9, RBF_SVR\n",
      "\n",
      "MAE: 5.85 +/- 2.773\n",
      "MRE: -37.1 +/- 10.4\n",
      "\n",
      "(690, 1370) (177, 1370)\n"
     ]
    },
    {
     "name": "stderr",
     "output_type": "stream",
     "text": [
      "100%|██████████| 2776/2776 [00:03<00:00, 697.54it/s]\n"
     ]
    },
    {
     "name": "stdout",
     "output_type": "stream",
     "text": [
      "sigmoid_4_param Filtering [1, 2, 3], r2>None, Linear_SVR\n",
      "\n",
      "MAE: 8.845 +/- 5.21\n",
      "MRE: -45.6 +/- 15.7\n",
      "\n",
      "(781, 1370) (202, 1370)\n"
     ]
    },
    {
     "name": "stderr",
     "output_type": "stream",
     "text": [
      "100%|██████████| 2776/2776 [00:03<00:00, 699.19it/s]\n"
     ]
    },
    {
     "name": "stdout",
     "output_type": "stream",
     "text": [
      "sigmoid_4_param Filtering [1, 2, 3], r2>0, Linear_SVR\n",
      "\n",
      "MAE: 8.845 +/- 5.21\n",
      "MRE: -45.6 +/- 15.7\n",
      "\n",
      "(781, 1370) (202, 1370)\n"
     ]
    },
    {
     "name": "stderr",
     "output_type": "stream",
     "text": [
      "100%|██████████| 2776/2776 [00:03<00:00, 694.87it/s]\n"
     ]
    },
    {
     "name": "stdout",
     "output_type": "stream",
     "text": [
      "sigmoid_4_param Filtering [1, 2, 3], r2>0.9, Linear_SVR\n",
      "\n",
      "MAE: 8.942 +/- 5.126\n",
      "MRE: -41.3 +/- 9.0\n",
      "\n",
      "(722, 1370) (184, 1370)\n"
     ]
    },
    {
     "name": "stderr",
     "output_type": "stream",
     "text": [
      "100%|██████████| 2600/2600 [00:03<00:00, 703.82it/s]\n"
     ]
    },
    {
     "name": "stdout",
     "output_type": "stream",
     "text": [
      "sigmoid_4_param Filtering [1, 2, 3, 4], r2>None, Linear_SVR\n",
      "\n",
      "MAE: 6.003 +/- 2.937\n",
      "MRE: -39.3 +/- 18.0\n",
      "\n",
      "(703, 1370) (180, 1370)\n"
     ]
    },
    {
     "name": "stderr",
     "output_type": "stream",
     "text": [
      "100%|██████████| 2600/2600 [00:03<00:00, 711.01it/s]\n"
     ]
    },
    {
     "name": "stdout",
     "output_type": "stream",
     "text": [
      "sigmoid_4_param Filtering [1, 2, 3, 4], r2>0, Linear_SVR\n",
      "\n",
      "MAE: 6.003 +/- 2.937\n",
      "MRE: -39.3 +/- 18.0\n",
      "\n",
      "(703, 1370) (180, 1370)\n"
     ]
    },
    {
     "name": "stderr",
     "output_type": "stream",
     "text": [
      "100%|██████████| 2600/2600 [00:03<00:00, 700.39it/s]\n"
     ]
    },
    {
     "name": "stdout",
     "output_type": "stream",
     "text": [
      "sigmoid_4_param Filtering [1, 2, 3, 4], r2>0.9, Linear_SVR\n",
      "\n",
      "MAE: 5.742 +/- 2.608\n",
      "MRE: -37.5 +/- 13.6\n",
      "\n",
      "(690, 1370) (177, 1370)\n",
      "\n",
      " sigmoid_4_param\n"
     ]
    },
    {
     "data": {
      "text/html": [
       "<div>\n",
       "<style scoped>\n",
       "    .dataframe tbody tr th:only-of-type {\n",
       "        vertical-align: middle;\n",
       "    }\n",
       "\n",
       "    .dataframe tbody tr th {\n",
       "        vertical-align: top;\n",
       "    }\n",
       "\n",
       "    .dataframe thead th {\n",
       "        text-align: right;\n",
       "    }\n",
       "</style>\n",
       "<table border=\"1\" class=\"dataframe\">\n",
       "  <thead>\n",
       "    <tr style=\"text-align: right;\">\n",
       "      <th></th>\n",
       "      <th>mae_coef_3</th>\n",
       "      <th>mre_coef_3</th>\n",
       "      <th>train_test_shape</th>\n",
       "    </tr>\n",
       "  </thead>\n",
       "  <tbody>\n",
       "    <tr>\n",
       "      <th>Filtering [1, 2, 3], r2&gt;None, Poly_KR</th>\n",
       "      <td>11.12 +/- 7.419</td>\n",
       "      <td>-55.1 +/- 23.0</td>\n",
       "      <td>781 , 202</td>\n",
       "    </tr>\n",
       "    <tr>\n",
       "      <th>Filtering [1, 2, 3], r2&gt;None, RBF_SVR</th>\n",
       "      <td>8.885 +/- 5.418</td>\n",
       "      <td>-43.4 +/- 12.9</td>\n",
       "      <td>781 , 202</td>\n",
       "    </tr>\n",
       "    <tr>\n",
       "      <th>Filtering [1, 2, 3], r2&gt;None, Linear_SVR</th>\n",
       "      <td>8.845 +/- 5.21</td>\n",
       "      <td>-45.6 +/- 15.7</td>\n",
       "      <td>781 , 202</td>\n",
       "    </tr>\n",
       "    <tr>\n",
       "      <th>Filtering [1, 2, 3], r2&gt;0, Poly_KR</th>\n",
       "      <td>11.12 +/- 7.419</td>\n",
       "      <td>-55.1 +/- 23.0</td>\n",
       "      <td>781 , 202</td>\n",
       "    </tr>\n",
       "    <tr>\n",
       "      <th>Filtering [1, 2, 3], r2&gt;0, RBF_SVR</th>\n",
       "      <td>8.885 +/- 5.418</td>\n",
       "      <td>-43.4 +/- 12.9</td>\n",
       "      <td>781 , 202</td>\n",
       "    </tr>\n",
       "    <tr>\n",
       "      <th>Filtering [1, 2, 3], r2&gt;0, Linear_SVR</th>\n",
       "      <td>8.845 +/- 5.21</td>\n",
       "      <td>-45.6 +/- 15.7</td>\n",
       "      <td>781 , 202</td>\n",
       "    </tr>\n",
       "    <tr>\n",
       "      <th>Filtering [1, 2, 3], r2&gt;0.9, Poly_KR</th>\n",
       "      <td>10.084 +/- 6.305</td>\n",
       "      <td>-45.8 +/- 12.9</td>\n",
       "      <td>722 , 184</td>\n",
       "    </tr>\n",
       "    <tr>\n",
       "      <th>Filtering [1, 2, 3], r2&gt;0.9, RBF_SVR</th>\n",
       "      <td>8.966 +/- 5.487</td>\n",
       "      <td>-39.9 +/- 9.4</td>\n",
       "      <td>722 , 184</td>\n",
       "    </tr>\n",
       "    <tr>\n",
       "      <th>Filtering [1, 2, 3], r2&gt;0.9, Linear_SVR</th>\n",
       "      <td>8.942 +/- 5.126</td>\n",
       "      <td>-41.3 +/- 9.0</td>\n",
       "      <td>722 , 184</td>\n",
       "    </tr>\n",
       "    <tr>\n",
       "      <th>Filtering [1, 2, 3, 4], r2&gt;None, Poly_KR</th>\n",
       "      <td>7.41 +/- 3.608</td>\n",
       "      <td>-44.6 +/- 11.8</td>\n",
       "      <td>703 , 180</td>\n",
       "    </tr>\n",
       "    <tr>\n",
       "      <th>Filtering [1, 2, 3, 4], r2&gt;None, RBF_SVR</th>\n",
       "      <td>5.768 +/- 2.802</td>\n",
       "      <td>-35.9 +/- 10.0</td>\n",
       "      <td>703 , 180</td>\n",
       "    </tr>\n",
       "    <tr>\n",
       "      <th>Filtering [1, 2, 3, 4], r2&gt;None, Linear_SVR</th>\n",
       "      <td>6.003 +/- 2.937</td>\n",
       "      <td>-39.3 +/- 18.0</td>\n",
       "      <td>703 , 180</td>\n",
       "    </tr>\n",
       "    <tr>\n",
       "      <th>Filtering [1, 2, 3, 4], r2&gt;0, Poly_KR</th>\n",
       "      <td>7.41 +/- 3.608</td>\n",
       "      <td>-44.6 +/- 11.8</td>\n",
       "      <td>703 , 180</td>\n",
       "    </tr>\n",
       "    <tr>\n",
       "      <th>Filtering [1, 2, 3, 4], r2&gt;0, RBF_SVR</th>\n",
       "      <td>5.768 +/- 2.802</td>\n",
       "      <td>-35.9 +/- 10.0</td>\n",
       "      <td>703 , 180</td>\n",
       "    </tr>\n",
       "    <tr>\n",
       "      <th>Filtering [1, 2, 3, 4], r2&gt;0, Linear_SVR</th>\n",
       "      <td>6.003 +/- 2.937</td>\n",
       "      <td>-39.3 +/- 18.0</td>\n",
       "      <td>703 , 180</td>\n",
       "    </tr>\n",
       "    <tr>\n",
       "      <th>Filtering [1, 2, 3, 4], r2&gt;0.9, Poly_KR</th>\n",
       "      <td>7.344 +/- 3.881</td>\n",
       "      <td>-44.6 +/- 12.9</td>\n",
       "      <td>690 , 177</td>\n",
       "    </tr>\n",
       "    <tr>\n",
       "      <th>Filtering [1, 2, 3, 4], r2&gt;0.9, RBF_SVR</th>\n",
       "      <td>5.85 +/- 2.773</td>\n",
       "      <td>-37.1 +/- 10.4</td>\n",
       "      <td>690 , 177</td>\n",
       "    </tr>\n",
       "    <tr>\n",
       "      <th>Filtering [1, 2, 3, 4], r2&gt;0.9, Linear_SVR</th>\n",
       "      <td>5.742 +/- 2.608</td>\n",
       "      <td>-37.5 +/- 13.6</td>\n",
       "      <td>690 , 177</td>\n",
       "    </tr>\n",
       "  </tbody>\n",
       "</table>\n",
       "</div>"
      ],
      "text/plain": [
       "                                                   mae_coef_3      mre_coef_3  \\\n",
       "Filtering [1, 2, 3], r2>None, Poly_KR         11.12 +/- 7.419  -55.1 +/- 23.0   \n",
       "Filtering [1, 2, 3], r2>None, RBF_SVR         8.885 +/- 5.418  -43.4 +/- 12.9   \n",
       "Filtering [1, 2, 3], r2>None, Linear_SVR       8.845 +/- 5.21  -45.6 +/- 15.7   \n",
       "Filtering [1, 2, 3], r2>0, Poly_KR            11.12 +/- 7.419  -55.1 +/- 23.0   \n",
       "Filtering [1, 2, 3], r2>0, RBF_SVR            8.885 +/- 5.418  -43.4 +/- 12.9   \n",
       "Filtering [1, 2, 3], r2>0, Linear_SVR          8.845 +/- 5.21  -45.6 +/- 15.7   \n",
       "Filtering [1, 2, 3], r2>0.9, Poly_KR         10.084 +/- 6.305  -45.8 +/- 12.9   \n",
       "Filtering [1, 2, 3], r2>0.9, RBF_SVR          8.966 +/- 5.487   -39.9 +/- 9.4   \n",
       "Filtering [1, 2, 3], r2>0.9, Linear_SVR       8.942 +/- 5.126   -41.3 +/- 9.0   \n",
       "Filtering [1, 2, 3, 4], r2>None, Poly_KR       7.41 +/- 3.608  -44.6 +/- 11.8   \n",
       "Filtering [1, 2, 3, 4], r2>None, RBF_SVR      5.768 +/- 2.802  -35.9 +/- 10.0   \n",
       "Filtering [1, 2, 3, 4], r2>None, Linear_SVR   6.003 +/- 2.937  -39.3 +/- 18.0   \n",
       "Filtering [1, 2, 3, 4], r2>0, Poly_KR          7.41 +/- 3.608  -44.6 +/- 11.8   \n",
       "Filtering [1, 2, 3, 4], r2>0, RBF_SVR         5.768 +/- 2.802  -35.9 +/- 10.0   \n",
       "Filtering [1, 2, 3, 4], r2>0, Linear_SVR      6.003 +/- 2.937  -39.3 +/- 18.0   \n",
       "Filtering [1, 2, 3, 4], r2>0.9, Poly_KR       7.344 +/- 3.881  -44.6 +/- 12.9   \n",
       "Filtering [1, 2, 3, 4], r2>0.9, RBF_SVR        5.85 +/- 2.773  -37.1 +/- 10.4   \n",
       "Filtering [1, 2, 3, 4], r2>0.9, Linear_SVR    5.742 +/- 2.608  -37.5 +/- 13.6   \n",
       "\n",
       "                                            train_test_shape  \n",
       "Filtering [1, 2, 3], r2>None, Poly_KR              781 , 202  \n",
       "Filtering [1, 2, 3], r2>None, RBF_SVR              781 , 202  \n",
       "Filtering [1, 2, 3], r2>None, Linear_SVR           781 , 202  \n",
       "Filtering [1, 2, 3], r2>0, Poly_KR                 781 , 202  \n",
       "Filtering [1, 2, 3], r2>0, RBF_SVR                 781 , 202  \n",
       "Filtering [1, 2, 3], r2>0, Linear_SVR              781 , 202  \n",
       "Filtering [1, 2, 3], r2>0.9, Poly_KR               722 , 184  \n",
       "Filtering [1, 2, 3], r2>0.9, RBF_SVR               722 , 184  \n",
       "Filtering [1, 2, 3], r2>0.9, Linear_SVR            722 , 184  \n",
       "Filtering [1, 2, 3, 4], r2>None, Poly_KR           703 , 180  \n",
       "Filtering [1, 2, 3, 4], r2>None, RBF_SVR           703 , 180  \n",
       "Filtering [1, 2, 3, 4], r2>None, Linear_SVR        703 , 180  \n",
       "Filtering [1, 2, 3, 4], r2>0, Poly_KR              703 , 180  \n",
       "Filtering [1, 2, 3, 4], r2>0, RBF_SVR              703 , 180  \n",
       "Filtering [1, 2, 3, 4], r2>0, Linear_SVR           703 , 180  \n",
       "Filtering [1, 2, 3, 4], r2>0.9, Poly_KR            690 , 177  \n",
       "Filtering [1, 2, 3, 4], r2>0.9, RBF_SVR            690 , 177  \n",
       "Filtering [1, 2, 3, 4], r2>0.9, Linear_SVR         690 , 177  "
      ]
     },
     "metadata": {},
     "output_type": "display_data"
    },
    {
     "name": "stderr",
     "output_type": "stream",
     "text": [
      "100%|██████████| 2776/2776 [00:04<00:00, 687.11it/s]\n"
     ]
    },
    {
     "name": "stdout",
     "output_type": "stream",
     "text": [
      "logistic4 Filtering [1, 2, 3], r2>None, Poly_KR\n",
      "\n",
      "MAE: 0.223 +/- 0.212\n",
      "MRE: 37.8 +/- 23.1\n",
      "\n",
      "(783, 1370) (202, 1370)\n"
     ]
    },
    {
     "name": "stderr",
     "output_type": "stream",
     "text": [
      "100%|██████████| 2776/2776 [00:04<00:00, 692.61it/s]\n"
     ]
    },
    {
     "name": "stdout",
     "output_type": "stream",
     "text": [
      "logistic4 Filtering [1, 2, 3], r2>0, Poly_KR\n",
      "\n",
      "MAE: 0.223 +/- 0.212\n",
      "MRE: 37.8 +/- 23.1\n",
      "\n",
      "(783, 1370) (202, 1370)\n"
     ]
    },
    {
     "name": "stderr",
     "output_type": "stream",
     "text": [
      "100%|██████████| 2776/2776 [00:04<00:00, 687.09it/s]\n"
     ]
    },
    {
     "name": "stdout",
     "output_type": "stream",
     "text": [
      "logistic4 Filtering [1, 2, 3], r2>0.9, Poly_KR\n",
      "\n",
      "MAE: 0.148 +/- 0.086\n",
      "MRE: 31.8 +/- 14.1\n",
      "\n",
      "(736, 1370) (189, 1370)\n"
     ]
    },
    {
     "name": "stderr",
     "output_type": "stream",
     "text": [
      "100%|██████████| 2600/2600 [00:03<00:00, 693.83it/s]\n"
     ]
    },
    {
     "name": "stdout",
     "output_type": "stream",
     "text": [
      "logistic4 Filtering [1, 2, 3, 4], r2>None, Poly_KR\n",
      "\n",
      "MAE: 0.157 +/- 0.103\n",
      "MRE: 31.8 +/- 15.2\n",
      "\n",
      "(705, 1370) (180, 1370)\n"
     ]
    },
    {
     "name": "stderr",
     "output_type": "stream",
     "text": [
      "100%|██████████| 2600/2600 [00:03<00:00, 695.15it/s]\n"
     ]
    },
    {
     "name": "stdout",
     "output_type": "stream",
     "text": [
      "logistic4 Filtering [1, 2, 3, 4], r2>0, Poly_KR\n",
      "\n",
      "MAE: 0.157 +/- 0.103\n",
      "MRE: 31.8 +/- 15.2\n",
      "\n",
      "(705, 1370) (180, 1370)\n"
     ]
    },
    {
     "name": "stderr",
     "output_type": "stream",
     "text": [
      "100%|██████████| 2600/2600 [00:03<00:00, 694.97it/s]\n"
     ]
    },
    {
     "name": "stdout",
     "output_type": "stream",
     "text": [
      "logistic4 Filtering [1, 2, 3, 4], r2>0.9, Poly_KR\n",
      "\n",
      "MAE: 0.162 +/- 0.105\n",
      "MRE: 32.7 +/- 15.4\n",
      "\n",
      "(704, 1370) (180, 1370)\n"
     ]
    },
    {
     "name": "stderr",
     "output_type": "stream",
     "text": [
      "100%|██████████| 2776/2776 [00:04<00:00, 690.97it/s]\n"
     ]
    },
    {
     "name": "stdout",
     "output_type": "stream",
     "text": [
      "logistic4 Filtering [1, 2, 3], r2>None, RBF_SVR\n",
      "\n",
      "MAE: 0.128 +/- 0.08\n",
      "MRE: 24.1 +/- 5.7\n",
      "\n",
      "(783, 1370) (202, 1370)\n"
     ]
    },
    {
     "name": "stderr",
     "output_type": "stream",
     "text": [
      "100%|██████████| 2776/2776 [00:03<00:00, 696.74it/s]\n"
     ]
    },
    {
     "name": "stdout",
     "output_type": "stream",
     "text": [
      "logistic4 Filtering [1, 2, 3], r2>0, RBF_SVR\n",
      "\n",
      "MAE: 0.128 +/- 0.08\n",
      "MRE: 24.1 +/- 5.7\n",
      "\n",
      "(783, 1370) (202, 1370)\n"
     ]
    },
    {
     "name": "stderr",
     "output_type": "stream",
     "text": [
      "100%|██████████| 2776/2776 [00:04<00:00, 691.23it/s]\n"
     ]
    },
    {
     "name": "stdout",
     "output_type": "stream",
     "text": [
      "logistic4 Filtering [1, 2, 3], r2>0.9, RBF_SVR\n",
      "\n",
      "MAE: 0.093 +/- 0.025\n",
      "MRE: 24.3 +/- 9.8\n",
      "\n",
      "(736, 1370) (189, 1370)\n"
     ]
    },
    {
     "name": "stderr",
     "output_type": "stream",
     "text": [
      "100%|██████████| 2600/2600 [00:03<00:00, 694.44it/s]\n"
     ]
    },
    {
     "name": "stdout",
     "output_type": "stream",
     "text": [
      "logistic4 Filtering [1, 2, 3, 4], r2>None, RBF_SVR\n",
      "\n",
      "MAE: 0.099 +/- 0.038\n",
      "MRE: 23.7 +/- 8.2\n",
      "\n",
      "(705, 1370) (180, 1370)\n"
     ]
    },
    {
     "name": "stderr",
     "output_type": "stream",
     "text": [
      "100%|██████████| 2600/2600 [00:03<00:00, 694.86it/s]\n"
     ]
    },
    {
     "name": "stdout",
     "output_type": "stream",
     "text": [
      "logistic4 Filtering [1, 2, 3, 4], r2>0, RBF_SVR\n",
      "\n",
      "MAE: 0.099 +/- 0.038\n",
      "MRE: 23.7 +/- 8.2\n",
      "\n",
      "(705, 1370) (180, 1370)\n"
     ]
    },
    {
     "name": "stderr",
     "output_type": "stream",
     "text": [
      "100%|██████████| 2600/2600 [00:03<00:00, 696.62it/s]\n"
     ]
    },
    {
     "name": "stdout",
     "output_type": "stream",
     "text": [
      "logistic4 Filtering [1, 2, 3, 4], r2>0.9, RBF_SVR\n",
      "\n",
      "MAE: 0.1 +/- 0.038\n",
      "MRE: 23.6 +/- 8.1\n",
      "\n",
      "(704, 1370) (180, 1370)\n"
     ]
    },
    {
     "name": "stderr",
     "output_type": "stream",
     "text": [
      "100%|██████████| 2776/2776 [00:04<00:00, 686.18it/s]\n"
     ]
    },
    {
     "name": "stdout",
     "output_type": "stream",
     "text": [
      "logistic4 Filtering [1, 2, 3], r2>None, Linear_SVR\n",
      "\n",
      "MAE: 0.328 +/- 0.423\n",
      "MRE: 67.6 +/- 87.8\n",
      "\n",
      "(783, 1370) (202, 1370)\n"
     ]
    },
    {
     "name": "stderr",
     "output_type": "stream",
     "text": [
      "100%|██████████| 2776/2776 [00:04<00:00, 693.10it/s]\n"
     ]
    },
    {
     "name": "stdout",
     "output_type": "stream",
     "text": [
      "logistic4 Filtering [1, 2, 3], r2>0, Linear_SVR\n",
      "\n",
      "MAE: 0.328 +/- 0.423\n",
      "MRE: 67.6 +/- 87.8\n",
      "\n",
      "(783, 1370) (202, 1370)\n"
     ]
    },
    {
     "name": "stderr",
     "output_type": "stream",
     "text": [
      "100%|██████████| 2776/2776 [00:04<00:00, 691.96it/s]\n"
     ]
    },
    {
     "name": "stdout",
     "output_type": "stream",
     "text": [
      "logistic4 Filtering [1, 2, 3], r2>0.9, Linear_SVR\n",
      "\n",
      "MAE: 0.173 +/- 0.227\n",
      "MRE: 44.2 +/- 51.2\n",
      "\n",
      "(736, 1370) (189, 1370)\n"
     ]
    },
    {
     "name": "stderr",
     "output_type": "stream",
     "text": [
      "100%|██████████| 2600/2600 [00:03<00:00, 696.71it/s]\n"
     ]
    },
    {
     "name": "stdout",
     "output_type": "stream",
     "text": [
      "logistic4 Filtering [1, 2, 3, 4], r2>None, Linear_SVR\n",
      "\n",
      "MAE: 0.367 +/- 0.582\n",
      "MRE: 88.1 +/- 136.0\n",
      "\n",
      "(705, 1370) (180, 1370)\n"
     ]
    },
    {
     "name": "stderr",
     "output_type": "stream",
     "text": [
      "100%|██████████| 2600/2600 [00:03<00:00, 688.22it/s]\n"
     ]
    },
    {
     "name": "stdout",
     "output_type": "stream",
     "text": [
      "logistic4 Filtering [1, 2, 3, 4], r2>0, Linear_SVR\n",
      "\n",
      "MAE: 0.367 +/- 0.582\n",
      "MRE: 88.1 +/- 136.0\n",
      "\n",
      "(705, 1370) (180, 1370)\n"
     ]
    },
    {
     "name": "stderr",
     "output_type": "stream",
     "text": [
      "100%|██████████| 2600/2600 [00:03<00:00, 687.67it/s]\n"
     ]
    },
    {
     "name": "stdout",
     "output_type": "stream",
     "text": [
      "logistic4 Filtering [1, 2, 3, 4], r2>0.9, Linear_SVR\n",
      "\n",
      "MAE: 0.179 +/- 0.201\n",
      "MRE: 43.3 +/- 42.0\n",
      "\n",
      "(704, 1370) (180, 1370)\n",
      "\n",
      " logistic4\n"
     ]
    },
    {
     "data": {
      "text/html": [
       "<div>\n",
       "<style scoped>\n",
       "    .dataframe tbody tr th:only-of-type {\n",
       "        vertical-align: middle;\n",
       "    }\n",
       "\n",
       "    .dataframe tbody tr th {\n",
       "        vertical-align: top;\n",
       "    }\n",
       "\n",
       "    .dataframe thead th {\n",
       "        text-align: right;\n",
       "    }\n",
       "</style>\n",
       "<table border=\"1\" class=\"dataframe\">\n",
       "  <thead>\n",
       "    <tr style=\"text-align: right;\">\n",
       "      <th></th>\n",
       "      <th>mae_coef_3</th>\n",
       "      <th>mre_coef_3</th>\n",
       "      <th>train_test_shape</th>\n",
       "    </tr>\n",
       "  </thead>\n",
       "  <tbody>\n",
       "    <tr>\n",
       "      <th>Filtering [1, 2, 3], r2&gt;None, Poly_KR</th>\n",
       "      <td>0.223 +/- 0.212</td>\n",
       "      <td>37.8 +/- 23.1</td>\n",
       "      <td>783 , 202</td>\n",
       "    </tr>\n",
       "    <tr>\n",
       "      <th>Filtering [1, 2, 3], r2&gt;None, RBF_SVR</th>\n",
       "      <td>0.128 +/- 0.08</td>\n",
       "      <td>24.1 +/- 5.7</td>\n",
       "      <td>783 , 202</td>\n",
       "    </tr>\n",
       "    <tr>\n",
       "      <th>Filtering [1, 2, 3], r2&gt;None, Linear_SVR</th>\n",
       "      <td>0.328 +/- 0.423</td>\n",
       "      <td>67.6 +/- 87.8</td>\n",
       "      <td>783 , 202</td>\n",
       "    </tr>\n",
       "    <tr>\n",
       "      <th>Filtering [1, 2, 3], r2&gt;0, Poly_KR</th>\n",
       "      <td>0.223 +/- 0.212</td>\n",
       "      <td>37.8 +/- 23.1</td>\n",
       "      <td>783 , 202</td>\n",
       "    </tr>\n",
       "    <tr>\n",
       "      <th>Filtering [1, 2, 3], r2&gt;0, RBF_SVR</th>\n",
       "      <td>0.128 +/- 0.08</td>\n",
       "      <td>24.1 +/- 5.7</td>\n",
       "      <td>783 , 202</td>\n",
       "    </tr>\n",
       "    <tr>\n",
       "      <th>Filtering [1, 2, 3], r2&gt;0, Linear_SVR</th>\n",
       "      <td>0.328 +/- 0.423</td>\n",
       "      <td>67.6 +/- 87.8</td>\n",
       "      <td>783 , 202</td>\n",
       "    </tr>\n",
       "    <tr>\n",
       "      <th>Filtering [1, 2, 3], r2&gt;0.9, Poly_KR</th>\n",
       "      <td>0.148 +/- 0.086</td>\n",
       "      <td>31.8 +/- 14.1</td>\n",
       "      <td>736 , 189</td>\n",
       "    </tr>\n",
       "    <tr>\n",
       "      <th>Filtering [1, 2, 3], r2&gt;0.9, RBF_SVR</th>\n",
       "      <td>0.093 +/- 0.025</td>\n",
       "      <td>24.3 +/- 9.8</td>\n",
       "      <td>736 , 189</td>\n",
       "    </tr>\n",
       "    <tr>\n",
       "      <th>Filtering [1, 2, 3], r2&gt;0.9, Linear_SVR</th>\n",
       "      <td>0.173 +/- 0.227</td>\n",
       "      <td>44.2 +/- 51.2</td>\n",
       "      <td>736 , 189</td>\n",
       "    </tr>\n",
       "    <tr>\n",
       "      <th>Filtering [1, 2, 3, 4], r2&gt;None, Poly_KR</th>\n",
       "      <td>0.157 +/- 0.103</td>\n",
       "      <td>31.8 +/- 15.2</td>\n",
       "      <td>705 , 180</td>\n",
       "    </tr>\n",
       "    <tr>\n",
       "      <th>Filtering [1, 2, 3, 4], r2&gt;None, RBF_SVR</th>\n",
       "      <td>0.099 +/- 0.038</td>\n",
       "      <td>23.7 +/- 8.2</td>\n",
       "      <td>705 , 180</td>\n",
       "    </tr>\n",
       "    <tr>\n",
       "      <th>Filtering [1, 2, 3, 4], r2&gt;None, Linear_SVR</th>\n",
       "      <td>0.367 +/- 0.582</td>\n",
       "      <td>88.1 +/- 136.0</td>\n",
       "      <td>705 , 180</td>\n",
       "    </tr>\n",
       "    <tr>\n",
       "      <th>Filtering [1, 2, 3, 4], r2&gt;0, Poly_KR</th>\n",
       "      <td>0.157 +/- 0.103</td>\n",
       "      <td>31.8 +/- 15.2</td>\n",
       "      <td>705 , 180</td>\n",
       "    </tr>\n",
       "    <tr>\n",
       "      <th>Filtering [1, 2, 3, 4], r2&gt;0, RBF_SVR</th>\n",
       "      <td>0.099 +/- 0.038</td>\n",
       "      <td>23.7 +/- 8.2</td>\n",
       "      <td>705 , 180</td>\n",
       "    </tr>\n",
       "    <tr>\n",
       "      <th>Filtering [1, 2, 3, 4], r2&gt;0, Linear_SVR</th>\n",
       "      <td>0.367 +/- 0.582</td>\n",
       "      <td>88.1 +/- 136.0</td>\n",
       "      <td>705 , 180</td>\n",
       "    </tr>\n",
       "    <tr>\n",
       "      <th>Filtering [1, 2, 3, 4], r2&gt;0.9, Poly_KR</th>\n",
       "      <td>0.162 +/- 0.105</td>\n",
       "      <td>32.7 +/- 15.4</td>\n",
       "      <td>704 , 180</td>\n",
       "    </tr>\n",
       "    <tr>\n",
       "      <th>Filtering [1, 2, 3, 4], r2&gt;0.9, RBF_SVR</th>\n",
       "      <td>0.1 +/- 0.038</td>\n",
       "      <td>23.6 +/- 8.1</td>\n",
       "      <td>704 , 180</td>\n",
       "    </tr>\n",
       "    <tr>\n",
       "      <th>Filtering [1, 2, 3, 4], r2&gt;0.9, Linear_SVR</th>\n",
       "      <td>0.179 +/- 0.201</td>\n",
       "      <td>43.3 +/- 42.0</td>\n",
       "      <td>704 , 180</td>\n",
       "    </tr>\n",
       "  </tbody>\n",
       "</table>\n",
       "</div>"
      ],
      "text/plain": [
       "                                                  mae_coef_3      mre_coef_3  \\\n",
       "Filtering [1, 2, 3], r2>None, Poly_KR        0.223 +/- 0.212   37.8 +/- 23.1   \n",
       "Filtering [1, 2, 3], r2>None, RBF_SVR         0.128 +/- 0.08    24.1 +/- 5.7   \n",
       "Filtering [1, 2, 3], r2>None, Linear_SVR     0.328 +/- 0.423   67.6 +/- 87.8   \n",
       "Filtering [1, 2, 3], r2>0, Poly_KR           0.223 +/- 0.212   37.8 +/- 23.1   \n",
       "Filtering [1, 2, 3], r2>0, RBF_SVR            0.128 +/- 0.08    24.1 +/- 5.7   \n",
       "Filtering [1, 2, 3], r2>0, Linear_SVR        0.328 +/- 0.423   67.6 +/- 87.8   \n",
       "Filtering [1, 2, 3], r2>0.9, Poly_KR         0.148 +/- 0.086   31.8 +/- 14.1   \n",
       "Filtering [1, 2, 3], r2>0.9, RBF_SVR         0.093 +/- 0.025    24.3 +/- 9.8   \n",
       "Filtering [1, 2, 3], r2>0.9, Linear_SVR      0.173 +/- 0.227   44.2 +/- 51.2   \n",
       "Filtering [1, 2, 3, 4], r2>None, Poly_KR     0.157 +/- 0.103   31.8 +/- 15.2   \n",
       "Filtering [1, 2, 3, 4], r2>None, RBF_SVR     0.099 +/- 0.038    23.7 +/- 8.2   \n",
       "Filtering [1, 2, 3, 4], r2>None, Linear_SVR  0.367 +/- 0.582  88.1 +/- 136.0   \n",
       "Filtering [1, 2, 3, 4], r2>0, Poly_KR        0.157 +/- 0.103   31.8 +/- 15.2   \n",
       "Filtering [1, 2, 3, 4], r2>0, RBF_SVR        0.099 +/- 0.038    23.7 +/- 8.2   \n",
       "Filtering [1, 2, 3, 4], r2>0, Linear_SVR     0.367 +/- 0.582  88.1 +/- 136.0   \n",
       "Filtering [1, 2, 3, 4], r2>0.9, Poly_KR      0.162 +/- 0.105   32.7 +/- 15.4   \n",
       "Filtering [1, 2, 3, 4], r2>0.9, RBF_SVR        0.1 +/- 0.038    23.6 +/- 8.1   \n",
       "Filtering [1, 2, 3, 4], r2>0.9, Linear_SVR   0.179 +/- 0.201   43.3 +/- 42.0   \n",
       "\n",
       "                                            train_test_shape  \n",
       "Filtering [1, 2, 3], r2>None, Poly_KR              783 , 202  \n",
       "Filtering [1, 2, 3], r2>None, RBF_SVR              783 , 202  \n",
       "Filtering [1, 2, 3], r2>None, Linear_SVR           783 , 202  \n",
       "Filtering [1, 2, 3], r2>0, Poly_KR                 783 , 202  \n",
       "Filtering [1, 2, 3], r2>0, RBF_SVR                 783 , 202  \n",
       "Filtering [1, 2, 3], r2>0, Linear_SVR              783 , 202  \n",
       "Filtering [1, 2, 3], r2>0.9, Poly_KR               736 , 189  \n",
       "Filtering [1, 2, 3], r2>0.9, RBF_SVR               736 , 189  \n",
       "Filtering [1, 2, 3], r2>0.9, Linear_SVR            736 , 189  \n",
       "Filtering [1, 2, 3, 4], r2>None, Poly_KR           705 , 180  \n",
       "Filtering [1, 2, 3, 4], r2>None, RBF_SVR           705 , 180  \n",
       "Filtering [1, 2, 3, 4], r2>None, Linear_SVR        705 , 180  \n",
       "Filtering [1, 2, 3, 4], r2>0, Poly_KR              705 , 180  \n",
       "Filtering [1, 2, 3, 4], r2>0, RBF_SVR              705 , 180  \n",
       "Filtering [1, 2, 3, 4], r2>0, Linear_SVR           705 , 180  \n",
       "Filtering [1, 2, 3, 4], r2>0.9, Poly_KR            704 , 180  \n",
       "Filtering [1, 2, 3, 4], r2>0.9, RBF_SVR            704 , 180  \n",
       "Filtering [1, 2, 3, 4], r2>0.9, Linear_SVR         704 , 180  "
      ]
     },
     "metadata": {},
     "output_type": "display_data"
    },
    {
     "name": "stderr",
     "output_type": "stream",
     "text": [
      "100%|██████████| 2776/2776 [00:04<00:00, 603.57it/s]\n"
     ]
    },
    {
     "name": "stdout",
     "output_type": "stream",
     "text": [
      "logLogistR Filtering [1, 2, 3], r2>None, Poly_KR\n",
      "\n",
      "MAE: 0.066 +/- 0.027\n",
      "MRE: 278.3 +/- 779.4\n",
      "\n",
      "(783, 1369) (202, 1369)\n"
     ]
    },
    {
     "name": "stderr",
     "output_type": "stream",
     "text": [
      "100%|██████████| 2776/2776 [00:04<00:00, 603.66it/s]\n"
     ]
    },
    {
     "name": "stdout",
     "output_type": "stream",
     "text": [
      "logLogistR Filtering [1, 2, 3], r2>0, Poly_KR\n",
      "\n",
      "MAE: 0.066 +/- 0.027\n",
      "MRE: 278.3 +/- 779.4\n",
      "\n",
      "(783, 1369) (202, 1369)\n"
     ]
    },
    {
     "name": "stderr",
     "output_type": "stream",
     "text": [
      "100%|██████████| 2776/2776 [00:04<00:00, 603.61it/s]\n"
     ]
    },
    {
     "name": "stdout",
     "output_type": "stream",
     "text": [
      "logLogistR Filtering [1, 2, 3], r2>0.9, Poly_KR\n",
      "\n",
      "MAE: 0.06 +/- 0.027\n",
      "MRE: 321.5 +/- 829.9\n",
      "\n",
      "(736, 1369) (188, 1369)\n"
     ]
    },
    {
     "name": "stderr",
     "output_type": "stream",
     "text": [
      "100%|██████████| 2600/2600 [00:04<00:00, 601.72it/s]\n"
     ]
    },
    {
     "name": "stdout",
     "output_type": "stream",
     "text": [
      "logLogistR Filtering [1, 2, 3, 4], r2>None, Poly_KR\n",
      "\n",
      "MAE: 0.066 +/- 0.032\n",
      "MRE: 424.7 +/- 1014.0\n",
      "\n",
      "(705, 1369) (180, 1369)\n"
     ]
    },
    {
     "name": "stderr",
     "output_type": "stream",
     "text": [
      "100%|██████████| 2600/2600 [00:04<00:00, 602.66it/s]\n"
     ]
    },
    {
     "name": "stdout",
     "output_type": "stream",
     "text": [
      "logLogistR Filtering [1, 2, 3, 4], r2>0, Poly_KR\n",
      "\n",
      "MAE: 0.066 +/- 0.032\n",
      "MRE: 424.7 +/- 1014.0\n",
      "\n",
      "(705, 1369) (180, 1369)\n"
     ]
    },
    {
     "name": "stderr",
     "output_type": "stream",
     "text": [
      "100%|██████████| 2600/2600 [00:04<00:00, 597.10it/s]\n"
     ]
    },
    {
     "name": "stdout",
     "output_type": "stream",
     "text": [
      "logLogistR Filtering [1, 2, 3, 4], r2>0.9, Poly_KR\n",
      "\n",
      "MAE: 0.068 +/- 0.033\n",
      "MRE: 402.9 +/- 1044.2\n",
      "\n",
      "(704, 1369) (180, 1369)\n"
     ]
    },
    {
     "name": "stderr",
     "output_type": "stream",
     "text": [
      "100%|██████████| 2776/2776 [00:04<00:00, 594.87it/s]\n"
     ]
    },
    {
     "name": "stdout",
     "output_type": "stream",
     "text": [
      "logLogistR Filtering [1, 2, 3], r2>None, RBF_SVR\n",
      "\n",
      "MAE: 0.067 +/- 0.026\n",
      "MRE: 349.2 +/- 714.2\n",
      "\n",
      "(783, 1369) (202, 1369)\n"
     ]
    },
    {
     "name": "stderr",
     "output_type": "stream",
     "text": [
      "100%|██████████| 2776/2776 [00:04<00:00, 577.27it/s]\n"
     ]
    },
    {
     "name": "stdout",
     "output_type": "stream",
     "text": [
      "logLogistR Filtering [1, 2, 3], r2>0, RBF_SVR\n",
      "\n",
      "MAE: 0.067 +/- 0.026\n",
      "MRE: 349.2 +/- 714.2\n",
      "\n",
      "(783, 1369) (202, 1369)\n"
     ]
    },
    {
     "name": "stderr",
     "output_type": "stream",
     "text": [
      "100%|██████████| 2776/2776 [00:04<00:00, 590.70it/s]\n"
     ]
    },
    {
     "name": "stdout",
     "output_type": "stream",
     "text": [
      "logLogistR Filtering [1, 2, 3], r2>0.9, RBF_SVR\n",
      "\n",
      "MAE: 0.06 +/- 0.028\n",
      "MRE: 315.3 +/- 729.6\n",
      "\n",
      "(736, 1369) (188, 1369)\n"
     ]
    },
    {
     "name": "stderr",
     "output_type": "stream",
     "text": [
      "100%|██████████| 2600/2600 [00:04<00:00, 585.94it/s]\n"
     ]
    },
    {
     "name": "stdout",
     "output_type": "stream",
     "text": [
      "logLogistR Filtering [1, 2, 3, 4], r2>None, RBF_SVR\n",
      "\n",
      "MAE: 0.065 +/- 0.033\n",
      "MRE: 412.4 +/- 935.0\n",
      "\n",
      "(705, 1369) (180, 1369)\n"
     ]
    },
    {
     "name": "stderr",
     "output_type": "stream",
     "text": [
      "100%|██████████| 2600/2600 [00:04<00:00, 594.38it/s]\n"
     ]
    },
    {
     "name": "stdout",
     "output_type": "stream",
     "text": [
      "logLogistR Filtering [1, 2, 3, 4], r2>0, RBF_SVR\n",
      "\n",
      "MAE: 0.065 +/- 0.033\n",
      "MRE: 412.4 +/- 935.0\n",
      "\n",
      "(705, 1369) (180, 1369)\n"
     ]
    },
    {
     "name": "stderr",
     "output_type": "stream",
     "text": [
      "100%|██████████| 2600/2600 [00:04<00:00, 569.63it/s]\n"
     ]
    },
    {
     "name": "stdout",
     "output_type": "stream",
     "text": [
      "logLogistR Filtering [1, 2, 3, 4], r2>0.9, RBF_SVR\n",
      "\n",
      "MAE: 0.068 +/- 0.033\n",
      "MRE: 392.8 +/- 959.6\n",
      "\n",
      "(704, 1369) (180, 1369)\n"
     ]
    },
    {
     "name": "stderr",
     "output_type": "stream",
     "text": [
      "100%|██████████| 2776/2776 [00:04<00:00, 585.74it/s]\n"
     ]
    },
    {
     "name": "stdout",
     "output_type": "stream",
     "text": [
      "logLogistR Filtering [1, 2, 3], r2>None, Linear_SVR\n",
      "\n",
      "MAE: 0.092 +/- 0.026\n",
      "MRE: 626.5 +/- 1171.6\n",
      "\n",
      "(783, 1369) (202, 1369)\n"
     ]
    },
    {
     "name": "stderr",
     "output_type": "stream",
     "text": [
      "100%|██████████| 2776/2776 [00:04<00:00, 587.98it/s]\n"
     ]
    },
    {
     "name": "stdout",
     "output_type": "stream",
     "text": [
      "logLogistR Filtering [1, 2, 3], r2>0, Linear_SVR\n",
      "\n",
      "MAE: 0.092 +/- 0.026\n",
      "MRE: 626.5 +/- 1171.6\n",
      "\n",
      "(783, 1369) (202, 1369)\n"
     ]
    },
    {
     "name": "stderr",
     "output_type": "stream",
     "text": [
      "100%|██████████| 2776/2776 [00:04<00:00, 592.90it/s]\n"
     ]
    },
    {
     "name": "stdout",
     "output_type": "stream",
     "text": [
      "logLogistR Filtering [1, 2, 3], r2>0.9, Linear_SVR\n",
      "\n",
      "MAE: 0.091 +/- 0.024\n",
      "MRE: 643.6 +/- 1259.8\n",
      "\n",
      "(736, 1369) (188, 1369)\n"
     ]
    },
    {
     "name": "stderr",
     "output_type": "stream",
     "text": [
      "100%|██████████| 2600/2600 [00:04<00:00, 599.96it/s]\n"
     ]
    },
    {
     "name": "stdout",
     "output_type": "stream",
     "text": [
      "logLogistR Filtering [1, 2, 3, 4], r2>None, Linear_SVR\n",
      "\n",
      "MAE: 0.11 +/- 0.026\n",
      "MRE: 548.8 +/- 1226.0\n",
      "\n",
      "(705, 1369) (180, 1369)\n"
     ]
    },
    {
     "name": "stderr",
     "output_type": "stream",
     "text": [
      "100%|██████████| 2600/2600 [00:04<00:00, 548.70it/s]\n"
     ]
    },
    {
     "name": "stdout",
     "output_type": "stream",
     "text": [
      "logLogistR Filtering [1, 2, 3, 4], r2>0, Linear_SVR\n",
      "\n",
      "MAE: 0.11 +/- 0.026\n",
      "MRE: 548.8 +/- 1226.0\n",
      "\n",
      "(705, 1369) (180, 1369)\n"
     ]
    },
    {
     "name": "stderr",
     "output_type": "stream",
     "text": [
      "100%|██████████| 2600/2600 [00:04<00:00, 578.03it/s]\n"
     ]
    },
    {
     "name": "stdout",
     "output_type": "stream",
     "text": [
      "logLogistR Filtering [1, 2, 3, 4], r2>0.9, Linear_SVR\n",
      "\n",
      "MAE: 0.109 +/- 0.031\n",
      "MRE: 464.4 +/- 1348.4\n",
      "\n",
      "(704, 1369) (180, 1369)\n",
      "\n",
      " logLogistR\n"
     ]
    },
    {
     "data": {
      "text/html": [
       "<div>\n",
       "<style scoped>\n",
       "    .dataframe tbody tr th:only-of-type {\n",
       "        vertical-align: middle;\n",
       "    }\n",
       "\n",
       "    .dataframe tbody tr th {\n",
       "        vertical-align: top;\n",
       "    }\n",
       "\n",
       "    .dataframe thead th {\n",
       "        text-align: right;\n",
       "    }\n",
       "</style>\n",
       "<table border=\"1\" class=\"dataframe\">\n",
       "  <thead>\n",
       "    <tr style=\"text-align: right;\">\n",
       "      <th></th>\n",
       "      <th>mae_coef_3</th>\n",
       "      <th>mre_coef_3</th>\n",
       "      <th>train_test_shape</th>\n",
       "    </tr>\n",
       "  </thead>\n",
       "  <tbody>\n",
       "    <tr>\n",
       "      <th>Filtering [1, 2, 3], r2&gt;None, Poly_KR</th>\n",
       "      <td>0.066 +/- 0.027</td>\n",
       "      <td>278.3 +/- 779.4</td>\n",
       "      <td>783 , 202</td>\n",
       "    </tr>\n",
       "    <tr>\n",
       "      <th>Filtering [1, 2, 3], r2&gt;None, RBF_SVR</th>\n",
       "      <td>0.067 +/- 0.026</td>\n",
       "      <td>349.2 +/- 714.2</td>\n",
       "      <td>783 , 202</td>\n",
       "    </tr>\n",
       "    <tr>\n",
       "      <th>Filtering [1, 2, 3], r2&gt;None, Linear_SVR</th>\n",
       "      <td>0.092 +/- 0.026</td>\n",
       "      <td>626.5 +/- 1171.6</td>\n",
       "      <td>783 , 202</td>\n",
       "    </tr>\n",
       "    <tr>\n",
       "      <th>Filtering [1, 2, 3], r2&gt;0, Poly_KR</th>\n",
       "      <td>0.066 +/- 0.027</td>\n",
       "      <td>278.3 +/- 779.4</td>\n",
       "      <td>783 , 202</td>\n",
       "    </tr>\n",
       "    <tr>\n",
       "      <th>Filtering [1, 2, 3], r2&gt;0, RBF_SVR</th>\n",
       "      <td>0.067 +/- 0.026</td>\n",
       "      <td>349.2 +/- 714.2</td>\n",
       "      <td>783 , 202</td>\n",
       "    </tr>\n",
       "    <tr>\n",
       "      <th>Filtering [1, 2, 3], r2&gt;0, Linear_SVR</th>\n",
       "      <td>0.092 +/- 0.026</td>\n",
       "      <td>626.5 +/- 1171.6</td>\n",
       "      <td>783 , 202</td>\n",
       "    </tr>\n",
       "    <tr>\n",
       "      <th>Filtering [1, 2, 3], r2&gt;0.9, Poly_KR</th>\n",
       "      <td>0.06 +/- 0.027</td>\n",
       "      <td>321.5 +/- 829.9</td>\n",
       "      <td>736 , 188</td>\n",
       "    </tr>\n",
       "    <tr>\n",
       "      <th>Filtering [1, 2, 3], r2&gt;0.9, RBF_SVR</th>\n",
       "      <td>0.06 +/- 0.028</td>\n",
       "      <td>315.3 +/- 729.6</td>\n",
       "      <td>736 , 188</td>\n",
       "    </tr>\n",
       "    <tr>\n",
       "      <th>Filtering [1, 2, 3], r2&gt;0.9, Linear_SVR</th>\n",
       "      <td>0.091 +/- 0.024</td>\n",
       "      <td>643.6 +/- 1259.8</td>\n",
       "      <td>736 , 188</td>\n",
       "    </tr>\n",
       "    <tr>\n",
       "      <th>Filtering [1, 2, 3, 4], r2&gt;None, Poly_KR</th>\n",
       "      <td>0.066 +/- 0.032</td>\n",
       "      <td>424.7 +/- 1014.0</td>\n",
       "      <td>705 , 180</td>\n",
       "    </tr>\n",
       "    <tr>\n",
       "      <th>Filtering [1, 2, 3, 4], r2&gt;None, RBF_SVR</th>\n",
       "      <td>0.065 +/- 0.033</td>\n",
       "      <td>412.4 +/- 935.0</td>\n",
       "      <td>705 , 180</td>\n",
       "    </tr>\n",
       "    <tr>\n",
       "      <th>Filtering [1, 2, 3, 4], r2&gt;None, Linear_SVR</th>\n",
       "      <td>0.11 +/- 0.026</td>\n",
       "      <td>548.8 +/- 1226.0</td>\n",
       "      <td>705 , 180</td>\n",
       "    </tr>\n",
       "    <tr>\n",
       "      <th>Filtering [1, 2, 3, 4], r2&gt;0, Poly_KR</th>\n",
       "      <td>0.066 +/- 0.032</td>\n",
       "      <td>424.7 +/- 1014.0</td>\n",
       "      <td>705 , 180</td>\n",
       "    </tr>\n",
       "    <tr>\n",
       "      <th>Filtering [1, 2, 3, 4], r2&gt;0, RBF_SVR</th>\n",
       "      <td>0.065 +/- 0.033</td>\n",
       "      <td>412.4 +/- 935.0</td>\n",
       "      <td>705 , 180</td>\n",
       "    </tr>\n",
       "    <tr>\n",
       "      <th>Filtering [1, 2, 3, 4], r2&gt;0, Linear_SVR</th>\n",
       "      <td>0.11 +/- 0.026</td>\n",
       "      <td>548.8 +/- 1226.0</td>\n",
       "      <td>705 , 180</td>\n",
       "    </tr>\n",
       "    <tr>\n",
       "      <th>Filtering [1, 2, 3, 4], r2&gt;0.9, Poly_KR</th>\n",
       "      <td>0.068 +/- 0.033</td>\n",
       "      <td>402.9 +/- 1044.2</td>\n",
       "      <td>704 , 180</td>\n",
       "    </tr>\n",
       "    <tr>\n",
       "      <th>Filtering [1, 2, 3, 4], r2&gt;0.9, RBF_SVR</th>\n",
       "      <td>0.068 +/- 0.033</td>\n",
       "      <td>392.8 +/- 959.6</td>\n",
       "      <td>704 , 180</td>\n",
       "    </tr>\n",
       "    <tr>\n",
       "      <th>Filtering [1, 2, 3, 4], r2&gt;0.9, Linear_SVR</th>\n",
       "      <td>0.109 +/- 0.031</td>\n",
       "      <td>464.4 +/- 1348.4</td>\n",
       "      <td>704 , 180</td>\n",
       "    </tr>\n",
       "  </tbody>\n",
       "</table>\n",
       "</div>"
      ],
      "text/plain": [
       "                                                  mae_coef_3  \\\n",
       "Filtering [1, 2, 3], r2>None, Poly_KR        0.066 +/- 0.027   \n",
       "Filtering [1, 2, 3], r2>None, RBF_SVR        0.067 +/- 0.026   \n",
       "Filtering [1, 2, 3], r2>None, Linear_SVR     0.092 +/- 0.026   \n",
       "Filtering [1, 2, 3], r2>0, Poly_KR           0.066 +/- 0.027   \n",
       "Filtering [1, 2, 3], r2>0, RBF_SVR           0.067 +/- 0.026   \n",
       "Filtering [1, 2, 3], r2>0, Linear_SVR        0.092 +/- 0.026   \n",
       "Filtering [1, 2, 3], r2>0.9, Poly_KR          0.06 +/- 0.027   \n",
       "Filtering [1, 2, 3], r2>0.9, RBF_SVR          0.06 +/- 0.028   \n",
       "Filtering [1, 2, 3], r2>0.9, Linear_SVR      0.091 +/- 0.024   \n",
       "Filtering [1, 2, 3, 4], r2>None, Poly_KR     0.066 +/- 0.032   \n",
       "Filtering [1, 2, 3, 4], r2>None, RBF_SVR     0.065 +/- 0.033   \n",
       "Filtering [1, 2, 3, 4], r2>None, Linear_SVR   0.11 +/- 0.026   \n",
       "Filtering [1, 2, 3, 4], r2>0, Poly_KR        0.066 +/- 0.032   \n",
       "Filtering [1, 2, 3, 4], r2>0, RBF_SVR        0.065 +/- 0.033   \n",
       "Filtering [1, 2, 3, 4], r2>0, Linear_SVR      0.11 +/- 0.026   \n",
       "Filtering [1, 2, 3, 4], r2>0.9, Poly_KR      0.068 +/- 0.033   \n",
       "Filtering [1, 2, 3, 4], r2>0.9, RBF_SVR      0.068 +/- 0.033   \n",
       "Filtering [1, 2, 3, 4], r2>0.9, Linear_SVR   0.109 +/- 0.031   \n",
       "\n",
       "                                                   mre_coef_3 train_test_shape  \n",
       "Filtering [1, 2, 3], r2>None, Poly_KR         278.3 +/- 779.4        783 , 202  \n",
       "Filtering [1, 2, 3], r2>None, RBF_SVR         349.2 +/- 714.2        783 , 202  \n",
       "Filtering [1, 2, 3], r2>None, Linear_SVR     626.5 +/- 1171.6        783 , 202  \n",
       "Filtering [1, 2, 3], r2>0, Poly_KR            278.3 +/- 779.4        783 , 202  \n",
       "Filtering [1, 2, 3], r2>0, RBF_SVR            349.2 +/- 714.2        783 , 202  \n",
       "Filtering [1, 2, 3], r2>0, Linear_SVR        626.5 +/- 1171.6        783 , 202  \n",
       "Filtering [1, 2, 3], r2>0.9, Poly_KR          321.5 +/- 829.9        736 , 188  \n",
       "Filtering [1, 2, 3], r2>0.9, RBF_SVR          315.3 +/- 729.6        736 , 188  \n",
       "Filtering [1, 2, 3], r2>0.9, Linear_SVR      643.6 +/- 1259.8        736 , 188  \n",
       "Filtering [1, 2, 3, 4], r2>None, Poly_KR     424.7 +/- 1014.0        705 , 180  \n",
       "Filtering [1, 2, 3, 4], r2>None, RBF_SVR      412.4 +/- 935.0        705 , 180  \n",
       "Filtering [1, 2, 3, 4], r2>None, Linear_SVR  548.8 +/- 1226.0        705 , 180  \n",
       "Filtering [1, 2, 3, 4], r2>0, Poly_KR        424.7 +/- 1014.0        705 , 180  \n",
       "Filtering [1, 2, 3, 4], r2>0, RBF_SVR         412.4 +/- 935.0        705 , 180  \n",
       "Filtering [1, 2, 3, 4], r2>0, Linear_SVR     548.8 +/- 1226.0        705 , 180  \n",
       "Filtering [1, 2, 3, 4], r2>0.9, Poly_KR      402.9 +/- 1044.2        704 , 180  \n",
       "Filtering [1, 2, 3, 4], r2>0.9, RBF_SVR       392.8 +/- 959.6        704 , 180  \n",
       "Filtering [1, 2, 3, 4], r2>0.9, Linear_SVR   464.4 +/- 1348.4        704 , 180  "
      ]
     },
     "metadata": {},
     "output_type": "display_data"
    },
    {
     "data": {
      "image/png": "[encoded data removed]",
      "text/plain": [
       "<Figure size 288x216 with 1 Axes>"
      ]
     },
     "metadata": {
      "needs_background": "light"
     },
     "output_type": "display_data"
    },
    {
     "data": {
      "image/png": "[encoded data removed]",
      "text/plain": [
       "<Figure size 288x216 with 1 Axes>"
      ]
     },
     "metadata": {
      "needs_background": "light"
     },
     "output_type": "display_data"
    },
    {
     "data": {
      "image/png": "[encoded data removed]",
      "text/plain": [
       "<Figure size 288x216 with 1 Axes>"
      ]
     },
     "metadata": {
      "needs_background": "light"
     },
     "output_type": "display_data"
    }
   ],
   "source": [
    "coef=3\n",
    "results_3 = CompareTrainingScenariosModels(coef, models_dict, X_columns, _FOLDER, _FOLDER_2, \n",
    "                                           fitting_functions, filtering_scenarios, r2_restrictions,\n",
    "                                           print_progress_info = False)"
   ]
  },
  {
   "cell_type": "code",
   "execution_count": 8,
   "metadata": {},
   "outputs": [
    {
     "name": "stderr",
     "output_type": "stream",
     "text": [
      "100%|██████████| 2776/2776 [00:04<00:00, 657.11it/s]\n"
     ]
    },
    {
     "name": "stdout",
     "output_type": "stream",
     "text": [
      "sigmoid_4_param Filtering [1, 2, 3], r2>None, Poly_KR\n",
      "\n",
      "MAE: 0.117 +/- 0.131\n",
      "MRE: -15.8 +/- 301.3\n",
      "\n",
      "(781, 1370) (202, 1370)\n"
     ]
    },
    {
     "name": "stderr",
     "output_type": "stream",
     "text": [
      "100%|██████████| 2776/2776 [00:04<00:00, 652.62it/s]\n"
     ]
    },
    {
     "name": "stdout",
     "output_type": "stream",
     "text": [
      "sigmoid_4_param Filtering [1, 2, 3], r2>0, Poly_KR\n",
      "\n",
      "MAE: 0.117 +/- 0.131\n",
      "MRE: -15.8 +/- 301.3\n",
      "\n",
      "(781, 1370) (202, 1370)\n"
     ]
    },
    {
     "name": "stderr",
     "output_type": "stream",
     "text": [
      "100%|██████████| 2776/2776 [00:04<00:00, 657.99it/s]\n"
     ]
    },
    {
     "name": "stdout",
     "output_type": "stream",
     "text": [
      "sigmoid_4_param Filtering [1, 2, 3], r2>0.9, Poly_KR\n",
      "\n",
      "MAE: 0.06 +/- 0.026\n",
      "MRE: -103.0 +/- 225.8\n",
      "\n",
      "(722, 1370) (184, 1370)\n"
     ]
    },
    {
     "name": "stderr",
     "output_type": "stream",
     "text": [
      "100%|██████████| 2600/2600 [00:03<00:00, 666.45it/s]\n"
     ]
    },
    {
     "name": "stdout",
     "output_type": "stream",
     "text": [
      "sigmoid_4_param Filtering [1, 2, 3, 4], r2>None, Poly_KR\n",
      "\n",
      "MAE: 0.071 +/- 0.035\n",
      "MRE: -50.1 +/- 743.7\n",
      "\n",
      "(703, 1370) (180, 1370)\n"
     ]
    },
    {
     "name": "stderr",
     "output_type": "stream",
     "text": [
      "100%|██████████| 2600/2600 [00:03<00:00, 656.79it/s]\n"
     ]
    },
    {
     "name": "stdout",
     "output_type": "stream",
     "text": [
      "sigmoid_4_param Filtering [1, 2, 3, 4], r2>0, Poly_KR\n",
      "\n",
      "MAE: 0.071 +/- 0.035\n",
      "MRE: -50.1 +/- 743.7\n",
      "\n",
      "(703, 1370) (180, 1370)\n"
     ]
    },
    {
     "name": "stderr",
     "output_type": "stream",
     "text": [
      "100%|██████████| 2600/2600 [00:03<00:00, 658.85it/s]\n"
     ]
    },
    {
     "name": "stdout",
     "output_type": "stream",
     "text": [
      "sigmoid_4_param Filtering [1, 2, 3, 4], r2>0.9, Poly_KR\n",
      "\n",
      "MAE: 0.068 +/- 0.035\n",
      "MRE: -147.1 +/- 674.8\n",
      "\n",
      "(690, 1370) (177, 1370)\n"
     ]
    },
    {
     "name": "stderr",
     "output_type": "stream",
     "text": [
      "100%|██████████| 2776/2776 [00:04<00:00, 662.21it/s]\n"
     ]
    },
    {
     "name": "stdout",
     "output_type": "stream",
     "text": [
      "sigmoid_4_param Filtering [1, 2, 3], r2>None, RBF_SVR\n",
      "\n",
      "MAE: 0.117 +/- 0.134\n",
      "MRE: -17.0 +/- 357.7\n",
      "\n",
      "(781, 1370) (202, 1370)\n"
     ]
    },
    {
     "name": "stderr",
     "output_type": "stream",
     "text": [
      "100%|██████████| 2776/2776 [00:04<00:00, 661.10it/s]\n"
     ]
    },
    {
     "name": "stdout",
     "output_type": "stream",
     "text": [
      "sigmoid_4_param Filtering [1, 2, 3], r2>0, RBF_SVR\n",
      "\n",
      "MAE: 0.117 +/- 0.134\n",
      "MRE: -17.0 +/- 357.7\n",
      "\n",
      "(781, 1370) (202, 1370)\n"
     ]
    },
    {
     "name": "stderr",
     "output_type": "stream",
     "text": [
      "100%|██████████| 2776/2776 [00:04<00:00, 655.40it/s]\n"
     ]
    },
    {
     "name": "stdout",
     "output_type": "stream",
     "text": [
      "sigmoid_4_param Filtering [1, 2, 3], r2>0.9, RBF_SVR\n",
      "\n",
      "MAE: 0.06 +/- 0.027\n",
      "MRE: -118.6 +/- 315.8\n",
      "\n",
      "(722, 1370) (184, 1370)\n"
     ]
    },
    {
     "name": "stderr",
     "output_type": "stream",
     "text": [
      "100%|██████████| 2600/2600 [00:03<00:00, 670.47it/s]\n"
     ]
    },
    {
     "name": "stdout",
     "output_type": "stream",
     "text": [
      "sigmoid_4_param Filtering [1, 2, 3, 4], r2>None, RBF_SVR\n",
      "\n",
      "MAE: 0.072 +/- 0.036\n",
      "MRE: 18.7 +/- 606.0\n",
      "\n",
      "(703, 1370) (180, 1370)\n"
     ]
    },
    {
     "name": "stderr",
     "output_type": "stream",
     "text": [
      "100%|██████████| 2600/2600 [00:03<00:00, 667.93it/s]\n"
     ]
    },
    {
     "name": "stdout",
     "output_type": "stream",
     "text": [
      "sigmoid_4_param Filtering [1, 2, 3, 4], r2>0, RBF_SVR\n",
      "\n",
      "MAE: 0.072 +/- 0.036\n",
      "MRE: 18.7 +/- 606.0\n",
      "\n",
      "(703, 1370) (180, 1370)\n"
     ]
    },
    {
     "name": "stderr",
     "output_type": "stream",
     "text": [
      "100%|██████████| 2600/2600 [00:03<00:00, 670.07it/s]\n"
     ]
    },
    {
     "name": "stdout",
     "output_type": "stream",
     "text": [
      "sigmoid_4_param Filtering [1, 2, 3, 4], r2>0.9, RBF_SVR\n",
      "\n",
      "MAE: 0.068 +/- 0.035\n",
      "MRE: -108.6 +/- 630.2\n",
      "\n",
      "(690, 1370) (177, 1370)\n"
     ]
    },
    {
     "name": "stderr",
     "output_type": "stream",
     "text": [
      "100%|██████████| 2776/2776 [00:04<00:00, 638.18it/s]\n"
     ]
    },
    {
     "name": "stdout",
     "output_type": "stream",
     "text": [
      "sigmoid_4_param Filtering [1, 2, 3], r2>None, Linear_SVR\n",
      "\n",
      "MAE: 0.284 +/- 0.428\n",
      "MRE: -623.9 +/- 2851.4\n",
      "\n",
      "(781, 1370) (202, 1370)\n"
     ]
    },
    {
     "name": "stderr",
     "output_type": "stream",
     "text": [
      "100%|██████████| 2776/2776 [00:04<00:00, 655.44it/s]\n"
     ]
    },
    {
     "name": "stdout",
     "output_type": "stream",
     "text": [
      "sigmoid_4_param Filtering [1, 2, 3], r2>0, Linear_SVR\n",
      "\n",
      "MAE: 0.284 +/- 0.428\n",
      "MRE: -623.9 +/- 2851.4\n",
      "\n",
      "(781, 1370) (202, 1370)\n"
     ]
    },
    {
     "name": "stderr",
     "output_type": "stream",
     "text": [
      "100%|██████████| 2776/2776 [00:04<00:00, 654.50it/s]\n"
     ]
    },
    {
     "name": "stdout",
     "output_type": "stream",
     "text": [
      "sigmoid_4_param Filtering [1, 2, 3], r2>0.9, Linear_SVR\n",
      "\n",
      "MAE: 0.077 +/- 0.024\n",
      "MRE: -281.2 +/- 947.1\n",
      "\n",
      "(722, 1370) (184, 1370)\n"
     ]
    },
    {
     "name": "stderr",
     "output_type": "stream",
     "text": [
      "100%|██████████| 2600/2600 [00:03<00:00, 666.14it/s]\n"
     ]
    },
    {
     "name": "stdout",
     "output_type": "stream",
     "text": [
      "sigmoid_4_param Filtering [1, 2, 3, 4], r2>None, Linear_SVR\n",
      "\n",
      "MAE: 0.106 +/- 0.027\n",
      "MRE: 360.6 +/- 1384.4\n",
      "\n",
      "(703, 1370) (180, 1370)\n"
     ]
    },
    {
     "name": "stderr",
     "output_type": "stream",
     "text": [
      "100%|██████████| 2600/2600 [00:03<00:00, 670.16it/s]\n"
     ]
    },
    {
     "name": "stdout",
     "output_type": "stream",
     "text": [
      "sigmoid_4_param Filtering [1, 2, 3, 4], r2>0, Linear_SVR\n",
      "\n",
      "MAE: 0.106 +/- 0.027\n",
      "MRE: 360.6 +/- 1384.4\n",
      "\n",
      "(703, 1370) (180, 1370)\n"
     ]
    },
    {
     "name": "stderr",
     "output_type": "stream",
     "text": [
      "100%|██████████| 2600/2600 [00:03<00:00, 668.45it/s]\n"
     ]
    },
    {
     "name": "stdout",
     "output_type": "stream",
     "text": [
      "sigmoid_4_param Filtering [1, 2, 3, 4], r2>0.9, Linear_SVR\n",
      "\n",
      "MAE: 0.081 +/- 0.03\n",
      "MRE: -6.3 +/- 905.7\n",
      "\n",
      "(690, 1370) (177, 1370)\n",
      "\n",
      " sigmoid_4_param\n"
     ]
    },
    {
     "data": {
      "text/html": [
       "<div>\n",
       "<style scoped>\n",
       "    .dataframe tbody tr th:only-of-type {\n",
       "        vertical-align: middle;\n",
       "    }\n",
       "\n",
       "    .dataframe tbody tr th {\n",
       "        vertical-align: top;\n",
       "    }\n",
       "\n",
       "    .dataframe thead th {\n",
       "        text-align: right;\n",
       "    }\n",
       "</style>\n",
       "<table border=\"1\" class=\"dataframe\">\n",
       "  <thead>\n",
       "    <tr style=\"text-align: right;\">\n",
       "      <th></th>\n",
       "      <th>mae_coef_4</th>\n",
       "      <th>mre_coef_4</th>\n",
       "      <th>train_test_shape</th>\n",
       "    </tr>\n",
       "  </thead>\n",
       "  <tbody>\n",
       "    <tr>\n",
       "      <th>Filtering [1, 2, 3], r2&gt;None, Poly_KR</th>\n",
       "      <td>0.117 +/- 0.131</td>\n",
       "      <td>-15.8 +/- 301.3</td>\n",
       "      <td>781 , 202</td>\n",
       "    </tr>\n",
       "    <tr>\n",
       "      <th>Filtering [1, 2, 3], r2&gt;None, RBF_SVR</th>\n",
       "      <td>0.117 +/- 0.134</td>\n",
       "      <td>-17.0 +/- 357.7</td>\n",
       "      <td>781 , 202</td>\n",
       "    </tr>\n",
       "    <tr>\n",
       "      <th>Filtering [1, 2, 3], r2&gt;None, Linear_SVR</th>\n",
       "      <td>0.284 +/- 0.428</td>\n",
       "      <td>-623.9 +/- 2851.4</td>\n",
       "      <td>781 , 202</td>\n",
       "    </tr>\n",
       "    <tr>\n",
       "      <th>Filtering [1, 2, 3], r2&gt;0, Poly_KR</th>\n",
       "      <td>0.117 +/- 0.131</td>\n",
       "      <td>-15.8 +/- 301.3</td>\n",
       "      <td>781 , 202</td>\n",
       "    </tr>\n",
       "    <tr>\n",
       "      <th>Filtering [1, 2, 3], r2&gt;0, RBF_SVR</th>\n",
       "      <td>0.117 +/- 0.134</td>\n",
       "      <td>-17.0 +/- 357.7</td>\n",
       "      <td>781 , 202</td>\n",
       "    </tr>\n",
       "    <tr>\n",
       "      <th>Filtering [1, 2, 3], r2&gt;0, Linear_SVR</th>\n",
       "      <td>0.284 +/- 0.428</td>\n",
       "      <td>-623.9 +/- 2851.4</td>\n",
       "      <td>781 , 202</td>\n",
       "    </tr>\n",
       "    <tr>\n",
       "      <th>Filtering [1, 2, 3], r2&gt;0.9, Poly_KR</th>\n",
       "      <td>0.06 +/- 0.026</td>\n",
       "      <td>-103.0 +/- 225.8</td>\n",
       "      <td>722 , 184</td>\n",
       "    </tr>\n",
       "    <tr>\n",
       "      <th>Filtering [1, 2, 3], r2&gt;0.9, RBF_SVR</th>\n",
       "      <td>0.06 +/- 0.027</td>\n",
       "      <td>-118.6 +/- 315.8</td>\n",
       "      <td>722 , 184</td>\n",
       "    </tr>\n",
       "    <tr>\n",
       "      <th>Filtering [1, 2, 3], r2&gt;0.9, Linear_SVR</th>\n",
       "      <td>0.077 +/- 0.024</td>\n",
       "      <td>-281.2 +/- 947.1</td>\n",
       "      <td>722 , 184</td>\n",
       "    </tr>\n",
       "    <tr>\n",
       "      <th>Filtering [1, 2, 3, 4], r2&gt;None, Poly_KR</th>\n",
       "      <td>0.071 +/- 0.035</td>\n",
       "      <td>-50.1 +/- 743.7</td>\n",
       "      <td>703 , 180</td>\n",
       "    </tr>\n",
       "    <tr>\n",
       "      <th>Filtering [1, 2, 3, 4], r2&gt;None, RBF_SVR</th>\n",
       "      <td>0.072 +/- 0.036</td>\n",
       "      <td>18.7 +/- 606.0</td>\n",
       "      <td>703 , 180</td>\n",
       "    </tr>\n",
       "    <tr>\n",
       "      <th>Filtering [1, 2, 3, 4], r2&gt;None, Linear_SVR</th>\n",
       "      <td>0.106 +/- 0.027</td>\n",
       "      <td>360.6 +/- 1384.4</td>\n",
       "      <td>703 , 180</td>\n",
       "    </tr>\n",
       "    <tr>\n",
       "      <th>Filtering [1, 2, 3, 4], r2&gt;0, Poly_KR</th>\n",
       "      <td>0.071 +/- 0.035</td>\n",
       "      <td>-50.1 +/- 743.7</td>\n",
       "      <td>703 , 180</td>\n",
       "    </tr>\n",
       "    <tr>\n",
       "      <th>Filtering [1, 2, 3, 4], r2&gt;0, RBF_SVR</th>\n",
       "      <td>0.072 +/- 0.036</td>\n",
       "      <td>18.7 +/- 606.0</td>\n",
       "      <td>703 , 180</td>\n",
       "    </tr>\n",
       "    <tr>\n",
       "      <th>Filtering [1, 2, 3, 4], r2&gt;0, Linear_SVR</th>\n",
       "      <td>0.106 +/- 0.027</td>\n",
       "      <td>360.6 +/- 1384.4</td>\n",
       "      <td>703 , 180</td>\n",
       "    </tr>\n",
       "    <tr>\n",
       "      <th>Filtering [1, 2, 3, 4], r2&gt;0.9, Poly_KR</th>\n",
       "      <td>0.068 +/- 0.035</td>\n",
       "      <td>-147.1 +/- 674.8</td>\n",
       "      <td>690 , 177</td>\n",
       "    </tr>\n",
       "    <tr>\n",
       "      <th>Filtering [1, 2, 3, 4], r2&gt;0.9, RBF_SVR</th>\n",
       "      <td>0.068 +/- 0.035</td>\n",
       "      <td>-108.6 +/- 630.2</td>\n",
       "      <td>690 , 177</td>\n",
       "    </tr>\n",
       "    <tr>\n",
       "      <th>Filtering [1, 2, 3, 4], r2&gt;0.9, Linear_SVR</th>\n",
       "      <td>0.081 +/- 0.03</td>\n",
       "      <td>-6.3 +/- 905.7</td>\n",
       "      <td>690 , 177</td>\n",
       "    </tr>\n",
       "  </tbody>\n",
       "</table>\n",
       "</div>"
      ],
      "text/plain": [
       "                                                  mae_coef_4  \\\n",
       "Filtering [1, 2, 3], r2>None, Poly_KR        0.117 +/- 0.131   \n",
       "Filtering [1, 2, 3], r2>None, RBF_SVR        0.117 +/- 0.134   \n",
       "Filtering [1, 2, 3], r2>None, Linear_SVR     0.284 +/- 0.428   \n",
       "Filtering [1, 2, 3], r2>0, Poly_KR           0.117 +/- 0.131   \n",
       "Filtering [1, 2, 3], r2>0, RBF_SVR           0.117 +/- 0.134   \n",
       "Filtering [1, 2, 3], r2>0, Linear_SVR        0.284 +/- 0.428   \n",
       "Filtering [1, 2, 3], r2>0.9, Poly_KR          0.06 +/- 0.026   \n",
       "Filtering [1, 2, 3], r2>0.9, RBF_SVR          0.06 +/- 0.027   \n",
       "Filtering [1, 2, 3], r2>0.9, Linear_SVR      0.077 +/- 0.024   \n",
       "Filtering [1, 2, 3, 4], r2>None, Poly_KR     0.071 +/- 0.035   \n",
       "Filtering [1, 2, 3, 4], r2>None, RBF_SVR     0.072 +/- 0.036   \n",
       "Filtering [1, 2, 3, 4], r2>None, Linear_SVR  0.106 +/- 0.027   \n",
       "Filtering [1, 2, 3, 4], r2>0, Poly_KR        0.071 +/- 0.035   \n",
       "Filtering [1, 2, 3, 4], r2>0, RBF_SVR        0.072 +/- 0.036   \n",
       "Filtering [1, 2, 3, 4], r2>0, Linear_SVR     0.106 +/- 0.027   \n",
       "Filtering [1, 2, 3, 4], r2>0.9, Poly_KR      0.068 +/- 0.035   \n",
       "Filtering [1, 2, 3, 4], r2>0.9, RBF_SVR      0.068 +/- 0.035   \n",
       "Filtering [1, 2, 3, 4], r2>0.9, Linear_SVR    0.081 +/- 0.03   \n",
       "\n",
       "                                                    mre_coef_4  \\\n",
       "Filtering [1, 2, 3], r2>None, Poly_KR          -15.8 +/- 301.3   \n",
       "Filtering [1, 2, 3], r2>None, RBF_SVR          -17.0 +/- 357.7   \n",
       "Filtering [1, 2, 3], r2>None, Linear_SVR     -623.9 +/- 2851.4   \n",
       "Filtering [1, 2, 3], r2>0, Poly_KR             -15.8 +/- 301.3   \n",
       "Filtering [1, 2, 3], r2>0, RBF_SVR             -17.0 +/- 357.7   \n",
       "Filtering [1, 2, 3], r2>0, Linear_SVR        -623.9 +/- 2851.4   \n",
       "Filtering [1, 2, 3], r2>0.9, Poly_KR          -103.0 +/- 225.8   \n",
       "Filtering [1, 2, 3], r2>0.9, RBF_SVR          -118.6 +/- 315.8   \n",
       "Filtering [1, 2, 3], r2>0.9, Linear_SVR       -281.2 +/- 947.1   \n",
       "Filtering [1, 2, 3, 4], r2>None, Poly_KR       -50.1 +/- 743.7   \n",
       "Filtering [1, 2, 3, 4], r2>None, RBF_SVR        18.7 +/- 606.0   \n",
       "Filtering [1, 2, 3, 4], r2>None, Linear_SVR   360.6 +/- 1384.4   \n",
       "Filtering [1, 2, 3, 4], r2>0, Poly_KR          -50.1 +/- 743.7   \n",
       "Filtering [1, 2, 3, 4], r2>0, RBF_SVR           18.7 +/- 606.0   \n",
       "Filtering [1, 2, 3, 4], r2>0, Linear_SVR      360.6 +/- 1384.4   \n",
       "Filtering [1, 2, 3, 4], r2>0.9, Poly_KR       -147.1 +/- 674.8   \n",
       "Filtering [1, 2, 3, 4], r2>0.9, RBF_SVR       -108.6 +/- 630.2   \n",
       "Filtering [1, 2, 3, 4], r2>0.9, Linear_SVR      -6.3 +/- 905.7   \n",
       "\n",
       "                                            train_test_shape  \n",
       "Filtering [1, 2, 3], r2>None, Poly_KR              781 , 202  \n",
       "Filtering [1, 2, 3], r2>None, RBF_SVR              781 , 202  \n",
       "Filtering [1, 2, 3], r2>None, Linear_SVR           781 , 202  \n",
       "Filtering [1, 2, 3], r2>0, Poly_KR                 781 , 202  \n",
       "Filtering [1, 2, 3], r2>0, RBF_SVR                 781 , 202  \n",
       "Filtering [1, 2, 3], r2>0, Linear_SVR              781 , 202  \n",
       "Filtering [1, 2, 3], r2>0.9, Poly_KR               722 , 184  \n",
       "Filtering [1, 2, 3], r2>0.9, RBF_SVR               722 , 184  \n",
       "Filtering [1, 2, 3], r2>0.9, Linear_SVR            722 , 184  \n",
       "Filtering [1, 2, 3, 4], r2>None, Poly_KR           703 , 180  \n",
       "Filtering [1, 2, 3, 4], r2>None, RBF_SVR           703 , 180  \n",
       "Filtering [1, 2, 3, 4], r2>None, Linear_SVR        703 , 180  \n",
       "Filtering [1, 2, 3, 4], r2>0, Poly_KR              703 , 180  \n",
       "Filtering [1, 2, 3, 4], r2>0, RBF_SVR              703 , 180  \n",
       "Filtering [1, 2, 3, 4], r2>0, Linear_SVR           703 , 180  \n",
       "Filtering [1, 2, 3, 4], r2>0.9, Poly_KR            690 , 177  \n",
       "Filtering [1, 2, 3, 4], r2>0.9, RBF_SVR            690 , 177  \n",
       "Filtering [1, 2, 3, 4], r2>0.9, Linear_SVR         690 , 177  "
      ]
     },
     "metadata": {},
     "output_type": "display_data"
    },
    {
     "name": "stderr",
     "output_type": "stream",
     "text": [
      "100%|██████████| 2776/2776 [00:04<00:00, 655.94it/s]\n"
     ]
    },
    {
     "name": "stdout",
     "output_type": "stream",
     "text": [
      "logistic4 Filtering [1, 2, 3], r2>None, Poly_KR\n",
      "\n",
      "MAE: 0.232 +/- 0.301\n",
      "MRE: -49.2 +/- 525.2\n",
      "\n",
      "(783, 1370) (202, 1370)\n"
     ]
    },
    {
     "name": "stderr",
     "output_type": "stream",
     "text": [
      "100%|██████████| 2776/2776 [00:04<00:00, 654.59it/s]\n"
     ]
    },
    {
     "name": "stdout",
     "output_type": "stream",
     "text": [
      "logistic4 Filtering [1, 2, 3], r2>0, Poly_KR\n",
      "\n",
      "MAE: 0.232 +/- 0.301\n",
      "MRE: -49.2 +/- 525.2\n",
      "\n",
      "(783, 1370) (202, 1370)\n"
     ]
    },
    {
     "name": "stderr",
     "output_type": "stream",
     "text": [
      "100%|██████████| 2776/2776 [00:04<00:00, 661.24it/s]\n"
     ]
    },
    {
     "name": "stdout",
     "output_type": "stream",
     "text": [
      "logistic4 Filtering [1, 2, 3], r2>0.9, Poly_KR\n",
      "\n",
      "MAE: 0.088 +/- 0.031\n",
      "MRE: -55.2 +/- 500.5\n",
      "\n",
      "(736, 1370) (189, 1370)\n"
     ]
    },
    {
     "name": "stderr",
     "output_type": "stream",
     "text": [
      "100%|██████████| 2600/2600 [00:03<00:00, 662.82it/s]\n"
     ]
    },
    {
     "name": "stdout",
     "output_type": "stream",
     "text": [
      "logistic4 Filtering [1, 2, 3, 4], r2>None, Poly_KR\n",
      "\n",
      "MAE: 0.096 +/- 0.047\n",
      "MRE: 7807.6 +/- 23517.4\n",
      "\n",
      "(705, 1370) (180, 1370)\n"
     ]
    },
    {
     "name": "stderr",
     "output_type": "stream",
     "text": [
      "100%|██████████| 2600/2600 [00:03<00:00, 659.72it/s]\n"
     ]
    },
    {
     "name": "stdout",
     "output_type": "stream",
     "text": [
      "logistic4 Filtering [1, 2, 3, 4], r2>0, Poly_KR\n",
      "\n",
      "MAE: 0.096 +/- 0.047\n",
      "MRE: 7807.6 +/- 23517.4\n",
      "\n",
      "(705, 1370) (180, 1370)\n"
     ]
    },
    {
     "name": "stderr",
     "output_type": "stream",
     "text": [
      "100%|██████████| 2600/2600 [00:03<00:00, 665.47it/s]\n"
     ]
    },
    {
     "name": "stdout",
     "output_type": "stream",
     "text": [
      "logistic4 Filtering [1, 2, 3, 4], r2>0.9, Poly_KR\n",
      "\n",
      "MAE: 0.092 +/- 0.052\n",
      "MRE: 7760.4 +/- 23532.4\n",
      "\n",
      "(704, 1370) (180, 1370)\n"
     ]
    },
    {
     "name": "stderr",
     "output_type": "stream",
     "text": [
      "100%|██████████| 2776/2776 [00:04<00:00, 654.83it/s]\n"
     ]
    },
    {
     "name": "stdout",
     "output_type": "stream",
     "text": [
      "logistic4 Filtering [1, 2, 3], r2>None, RBF_SVR\n",
      "\n",
      "MAE: 0.218 +/- 0.31\n",
      "MRE: 8.5 +/- 511.9\n",
      "\n",
      "(783, 1370) (202, 1370)\n"
     ]
    },
    {
     "name": "stderr",
     "output_type": "stream",
     "text": [
      "100%|██████████| 2776/2776 [00:04<00:00, 658.86it/s]\n"
     ]
    },
    {
     "name": "stdout",
     "output_type": "stream",
     "text": [
      "logistic4 Filtering [1, 2, 3], r2>0, RBF_SVR\n",
      "\n",
      "MAE: 0.218 +/- 0.31\n",
      "MRE: 8.5 +/- 511.9\n",
      "\n",
      "(783, 1370) (202, 1370)\n"
     ]
    },
    {
     "name": "stderr",
     "output_type": "stream",
     "text": [
      "100%|██████████| 2776/2776 [00:04<00:00, 650.18it/s]\n"
     ]
    },
    {
     "name": "stdout",
     "output_type": "stream",
     "text": [
      "logistic4 Filtering [1, 2, 3], r2>0.9, RBF_SVR\n",
      "\n",
      "MAE: 0.077 +/- 0.029\n",
      "MRE: -28.3 +/- 524.0\n",
      "\n",
      "(736, 1370) (189, 1370)\n"
     ]
    },
    {
     "name": "stderr",
     "output_type": "stream",
     "text": [
      "100%|██████████| 2600/2600 [00:03<00:00, 667.14it/s]\n"
     ]
    },
    {
     "name": "stdout",
     "output_type": "stream",
     "text": [
      "logistic4 Filtering [1, 2, 3, 4], r2>None, RBF_SVR\n",
      "\n",
      "MAE: 0.086 +/- 0.049\n",
      "MRE: 9154.3 +/- 27483.3\n",
      "\n",
      "(705, 1370) (180, 1370)\n"
     ]
    },
    {
     "name": "stderr",
     "output_type": "stream",
     "text": [
      "100%|██████████| 2600/2600 [00:03<00:00, 667.91it/s]\n"
     ]
    },
    {
     "name": "stdout",
     "output_type": "stream",
     "text": [
      "logistic4 Filtering [1, 2, 3, 4], r2>0, RBF_SVR\n",
      "\n",
      "MAE: 0.086 +/- 0.049\n",
      "MRE: 9154.3 +/- 27483.3\n",
      "\n",
      "(705, 1370) (180, 1370)\n"
     ]
    },
    {
     "name": "stderr",
     "output_type": "stream",
     "text": [
      "100%|██████████| 2600/2600 [00:03<00:00, 665.32it/s]\n"
     ]
    },
    {
     "name": "stdout",
     "output_type": "stream",
     "text": [
      "logistic4 Filtering [1, 2, 3, 4], r2>0.9, RBF_SVR\n",
      "\n",
      "MAE: 0.087 +/- 0.049\n",
      "MRE: 9156.0 +/- 27482.8\n",
      "\n",
      "(704, 1370) (180, 1370)\n"
     ]
    },
    {
     "name": "stderr",
     "output_type": "stream",
     "text": [
      "100%|██████████| 2776/2776 [00:04<00:00, 645.98it/s]\n"
     ]
    },
    {
     "name": "stdout",
     "output_type": "stream",
     "text": [
      "logistic4 Filtering [1, 2, 3], r2>None, Linear_SVR\n",
      "\n",
      "MAE: 0.458 +/- 0.555\n",
      "MRE: -1339.7 +/- 4881.8\n",
      "\n",
      "(783, 1370) (202, 1370)\n"
     ]
    },
    {
     "name": "stderr",
     "output_type": "stream",
     "text": [
      "100%|██████████| 2776/2776 [00:04<00:00, 657.42it/s]\n"
     ]
    },
    {
     "name": "stdout",
     "output_type": "stream",
     "text": [
      "logistic4 Filtering [1, 2, 3], r2>0, Linear_SVR\n",
      "\n",
      "MAE: 0.458 +/- 0.555\n",
      "MRE: -1339.7 +/- 4881.8\n",
      "\n",
      "(783, 1370) (202, 1370)\n"
     ]
    },
    {
     "name": "stderr",
     "output_type": "stream",
     "text": [
      "100%|██████████| 2776/2776 [00:04<00:00, 659.10it/s]\n"
     ]
    },
    {
     "name": "stdout",
     "output_type": "stream",
     "text": [
      "logistic4 Filtering [1, 2, 3], r2>0.9, Linear_SVR\n",
      "\n",
      "MAE: 0.16 +/- 0.193\n",
      "MRE: -90.3 +/- 1009.5\n",
      "\n",
      "(736, 1370) (189, 1370)\n"
     ]
    },
    {
     "name": "stderr",
     "output_type": "stream",
     "text": [
      "100%|██████████| 2600/2600 [00:03<00:00, 655.91it/s]\n"
     ]
    },
    {
     "name": "stdout",
     "output_type": "stream",
     "text": [
      "logistic4 Filtering [1, 2, 3, 4], r2>None, Linear_SVR\n",
      "\n",
      "MAE: 0.604 +/- 1.167\n",
      "MRE: 12825.0 +/- 38588.1\n",
      "\n",
      "(705, 1370) (180, 1370)\n"
     ]
    },
    {
     "name": "stderr",
     "output_type": "stream",
     "text": [
      "100%|██████████| 2600/2600 [00:03<00:00, 657.71it/s]\n"
     ]
    },
    {
     "name": "stdout",
     "output_type": "stream",
     "text": [
      "logistic4 Filtering [1, 2, 3, 4], r2>0, Linear_SVR\n",
      "\n",
      "MAE: 0.604 +/- 1.167\n",
      "MRE: 12825.0 +/- 38588.1\n",
      "\n",
      "(705, 1370) (180, 1370)\n"
     ]
    },
    {
     "name": "stderr",
     "output_type": "stream",
     "text": [
      "100%|██████████| 2600/2600 [00:03<00:00, 659.68it/s]\n"
     ]
    },
    {
     "name": "stdout",
     "output_type": "stream",
     "text": [
      "logistic4 Filtering [1, 2, 3, 4], r2>0.9, Linear_SVR\n",
      "\n",
      "MAE: 0.202 +/- 0.231\n",
      "MRE: 10242.8 +/- 38474.3\n",
      "\n",
      "(704, 1370) (180, 1370)\n",
      "\n",
      " logistic4\n"
     ]
    },
    {
     "data": {
      "text/html": [
       "<div>\n",
       "<style scoped>\n",
       "    .dataframe tbody tr th:only-of-type {\n",
       "        vertical-align: middle;\n",
       "    }\n",
       "\n",
       "    .dataframe tbody tr th {\n",
       "        vertical-align: top;\n",
       "    }\n",
       "\n",
       "    .dataframe thead th {\n",
       "        text-align: right;\n",
       "    }\n",
       "</style>\n",
       "<table border=\"1\" class=\"dataframe\">\n",
       "  <thead>\n",
       "    <tr style=\"text-align: right;\">\n",
       "      <th></th>\n",
       "      <th>mae_coef_4</th>\n",
       "      <th>mre_coef_4</th>\n",
       "      <th>train_test_shape</th>\n",
       "    </tr>\n",
       "  </thead>\n",
       "  <tbody>\n",
       "    <tr>\n",
       "      <th>Filtering [1, 2, 3], r2&gt;None, Poly_KR</th>\n",
       "      <td>0.232 +/- 0.301</td>\n",
       "      <td>-49.2 +/- 525.2</td>\n",
       "      <td>783 , 202</td>\n",
       "    </tr>\n",
       "    <tr>\n",
       "      <th>Filtering [1, 2, 3], r2&gt;None, RBF_SVR</th>\n",
       "      <td>0.218 +/- 0.31</td>\n",
       "      <td>8.5 +/- 511.9</td>\n",
       "      <td>783 , 202</td>\n",
       "    </tr>\n",
       "    <tr>\n",
       "      <th>Filtering [1, 2, 3], r2&gt;None, Linear_SVR</th>\n",
       "      <td>0.458 +/- 0.555</td>\n",
       "      <td>-1339.7 +/- 4881.8</td>\n",
       "      <td>783 , 202</td>\n",
       "    </tr>\n",
       "    <tr>\n",
       "      <th>Filtering [1, 2, 3], r2&gt;0, Poly_KR</th>\n",
       "      <td>0.232 +/- 0.301</td>\n",
       "      <td>-49.2 +/- 525.2</td>\n",
       "      <td>783 , 202</td>\n",
       "    </tr>\n",
       "    <tr>\n",
       "      <th>Filtering [1, 2, 3], r2&gt;0, RBF_SVR</th>\n",
       "      <td>0.218 +/- 0.31</td>\n",
       "      <td>8.5 +/- 511.9</td>\n",
       "      <td>783 , 202</td>\n",
       "    </tr>\n",
       "    <tr>\n",
       "      <th>Filtering [1, 2, 3], r2&gt;0, Linear_SVR</th>\n",
       "      <td>0.458 +/- 0.555</td>\n",
       "      <td>-1339.7 +/- 4881.8</td>\n",
       "      <td>783 , 202</td>\n",
       "    </tr>\n",
       "    <tr>\n",
       "      <th>Filtering [1, 2, 3], r2&gt;0.9, Poly_KR</th>\n",
       "      <td>0.088 +/- 0.031</td>\n",
       "      <td>-55.2 +/- 500.5</td>\n",
       "      <td>736 , 189</td>\n",
       "    </tr>\n",
       "    <tr>\n",
       "      <th>Filtering [1, 2, 3], r2&gt;0.9, RBF_SVR</th>\n",
       "      <td>0.077 +/- 0.029</td>\n",
       "      <td>-28.3 +/- 524.0</td>\n",
       "      <td>736 , 189</td>\n",
       "    </tr>\n",
       "    <tr>\n",
       "      <th>Filtering [1, 2, 3], r2&gt;0.9, Linear_SVR</th>\n",
       "      <td>0.16 +/- 0.193</td>\n",
       "      <td>-90.3 +/- 1009.5</td>\n",
       "      <td>736 , 189</td>\n",
       "    </tr>\n",
       "    <tr>\n",
       "      <th>Filtering [1, 2, 3, 4], r2&gt;None, Poly_KR</th>\n",
       "      <td>0.096 +/- 0.047</td>\n",
       "      <td>7807.6 +/- 23517.4</td>\n",
       "      <td>705 , 180</td>\n",
       "    </tr>\n",
       "    <tr>\n",
       "      <th>Filtering [1, 2, 3, 4], r2&gt;None, RBF_SVR</th>\n",
       "      <td>0.086 +/- 0.049</td>\n",
       "      <td>9154.3 +/- 27483.3</td>\n",
       "      <td>705 , 180</td>\n",
       "    </tr>\n",
       "    <tr>\n",
       "      <th>Filtering [1, 2, 3, 4], r2&gt;None, Linear_SVR</th>\n",
       "      <td>0.604 +/- 1.167</td>\n",
       "      <td>12825.0 +/- 38588.1</td>\n",
       "      <td>705 , 180</td>\n",
       "    </tr>\n",
       "    <tr>\n",
       "      <th>Filtering [1, 2, 3, 4], r2&gt;0, Poly_KR</th>\n",
       "      <td>0.096 +/- 0.047</td>\n",
       "      <td>7807.6 +/- 23517.4</td>\n",
       "      <td>705 , 180</td>\n",
       "    </tr>\n",
       "    <tr>\n",
       "      <th>Filtering [1, 2, 3, 4], r2&gt;0, RBF_SVR</th>\n",
       "      <td>0.086 +/- 0.049</td>\n",
       "      <td>9154.3 +/- 27483.3</td>\n",
       "      <td>705 , 180</td>\n",
       "    </tr>\n",
       "    <tr>\n",
       "      <th>Filtering [1, 2, 3, 4], r2&gt;0, Linear_SVR</th>\n",
       "      <td>0.604 +/- 1.167</td>\n",
       "      <td>12825.0 +/- 38588.1</td>\n",
       "      <td>705 , 180</td>\n",
       "    </tr>\n",
       "    <tr>\n",
       "      <th>Filtering [1, 2, 3, 4], r2&gt;0.9, Poly_KR</th>\n",
       "      <td>0.092 +/- 0.052</td>\n",
       "      <td>7760.4 +/- 23532.4</td>\n",
       "      <td>704 , 180</td>\n",
       "    </tr>\n",
       "    <tr>\n",
       "      <th>Filtering [1, 2, 3, 4], r2&gt;0.9, RBF_SVR</th>\n",
       "      <td>0.087 +/- 0.049</td>\n",
       "      <td>9156.0 +/- 27482.8</td>\n",
       "      <td>704 , 180</td>\n",
       "    </tr>\n",
       "    <tr>\n",
       "      <th>Filtering [1, 2, 3, 4], r2&gt;0.9, Linear_SVR</th>\n",
       "      <td>0.202 +/- 0.231</td>\n",
       "      <td>10242.8 +/- 38474.3</td>\n",
       "      <td>704 , 180</td>\n",
       "    </tr>\n",
       "  </tbody>\n",
       "</table>\n",
       "</div>"
      ],
      "text/plain": [
       "                                                  mae_coef_4  \\\n",
       "Filtering [1, 2, 3], r2>None, Poly_KR        0.232 +/- 0.301   \n",
       "Filtering [1, 2, 3], r2>None, RBF_SVR         0.218 +/- 0.31   \n",
       "Filtering [1, 2, 3], r2>None, Linear_SVR     0.458 +/- 0.555   \n",
       "Filtering [1, 2, 3], r2>0, Poly_KR           0.232 +/- 0.301   \n",
       "Filtering [1, 2, 3], r2>0, RBF_SVR            0.218 +/- 0.31   \n",
       "Filtering [1, 2, 3], r2>0, Linear_SVR        0.458 +/- 0.555   \n",
       "Filtering [1, 2, 3], r2>0.9, Poly_KR         0.088 +/- 0.031   \n",
       "Filtering [1, 2, 3], r2>0.9, RBF_SVR         0.077 +/- 0.029   \n",
       "Filtering [1, 2, 3], r2>0.9, Linear_SVR       0.16 +/- 0.193   \n",
       "Filtering [1, 2, 3, 4], r2>None, Poly_KR     0.096 +/- 0.047   \n",
       "Filtering [1, 2, 3, 4], r2>None, RBF_SVR     0.086 +/- 0.049   \n",
       "Filtering [1, 2, 3, 4], r2>None, Linear_SVR  0.604 +/- 1.167   \n",
       "Filtering [1, 2, 3, 4], r2>0, Poly_KR        0.096 +/- 0.047   \n",
       "Filtering [1, 2, 3, 4], r2>0, RBF_SVR        0.086 +/- 0.049   \n",
       "Filtering [1, 2, 3, 4], r2>0, Linear_SVR     0.604 +/- 1.167   \n",
       "Filtering [1, 2, 3, 4], r2>0.9, Poly_KR      0.092 +/- 0.052   \n",
       "Filtering [1, 2, 3, 4], r2>0.9, RBF_SVR      0.087 +/- 0.049   \n",
       "Filtering [1, 2, 3, 4], r2>0.9, Linear_SVR   0.202 +/- 0.231   \n",
       "\n",
       "                                                      mre_coef_4  \\\n",
       "Filtering [1, 2, 3], r2>None, Poly_KR            -49.2 +/- 525.2   \n",
       "Filtering [1, 2, 3], r2>None, RBF_SVR              8.5 +/- 511.9   \n",
       "Filtering [1, 2, 3], r2>None, Linear_SVR      -1339.7 +/- 4881.8   \n",
       "Filtering [1, 2, 3], r2>0, Poly_KR               -49.2 +/- 525.2   \n",
       "Filtering [1, 2, 3], r2>0, RBF_SVR                 8.5 +/- 511.9   \n",
       "Filtering [1, 2, 3], r2>0, Linear_SVR         -1339.7 +/- 4881.8   \n",
       "Filtering [1, 2, 3], r2>0.9, Poly_KR             -55.2 +/- 500.5   \n",
       "Filtering [1, 2, 3], r2>0.9, RBF_SVR             -28.3 +/- 524.0   \n",
       "Filtering [1, 2, 3], r2>0.9, Linear_SVR         -90.3 +/- 1009.5   \n",
       "Filtering [1, 2, 3, 4], r2>None, Poly_KR      7807.6 +/- 23517.4   \n",
       "Filtering [1, 2, 3, 4], r2>None, RBF_SVR      9154.3 +/- 27483.3   \n",
       "Filtering [1, 2, 3, 4], r2>None, Linear_SVR  12825.0 +/- 38588.1   \n",
       "Filtering [1, 2, 3, 4], r2>0, Poly_KR         7807.6 +/- 23517.4   \n",
       "Filtering [1, 2, 3, 4], r2>0, RBF_SVR         9154.3 +/- 27483.3   \n",
       "Filtering [1, 2, 3, 4], r2>0, Linear_SVR     12825.0 +/- 38588.1   \n",
       "Filtering [1, 2, 3, 4], r2>0.9, Poly_KR       7760.4 +/- 23532.4   \n",
       "Filtering [1, 2, 3, 4], r2>0.9, RBF_SVR       9156.0 +/- 27482.8   \n",
       "Filtering [1, 2, 3, 4], r2>0.9, Linear_SVR   10242.8 +/- 38474.3   \n",
       "\n",
       "                                            train_test_shape  \n",
       "Filtering [1, 2, 3], r2>None, Poly_KR              783 , 202  \n",
       "Filtering [1, 2, 3], r2>None, RBF_SVR              783 , 202  \n",
       "Filtering [1, 2, 3], r2>None, Linear_SVR           783 , 202  \n",
       "Filtering [1, 2, 3], r2>0, Poly_KR                 783 , 202  \n",
       "Filtering [1, 2, 3], r2>0, RBF_SVR                 783 , 202  \n",
       "Filtering [1, 2, 3], r2>0, Linear_SVR              783 , 202  \n",
       "Filtering [1, 2, 3], r2>0.9, Poly_KR               736 , 189  \n",
       "Filtering [1, 2, 3], r2>0.9, RBF_SVR               736 , 189  \n",
       "Filtering [1, 2, 3], r2>0.9, Linear_SVR            736 , 189  \n",
       "Filtering [1, 2, 3, 4], r2>None, Poly_KR           705 , 180  \n",
       "Filtering [1, 2, 3, 4], r2>None, RBF_SVR           705 , 180  \n",
       "Filtering [1, 2, 3, 4], r2>None, Linear_SVR        705 , 180  \n",
       "Filtering [1, 2, 3, 4], r2>0, Poly_KR              705 , 180  \n",
       "Filtering [1, 2, 3, 4], r2>0, RBF_SVR              705 , 180  \n",
       "Filtering [1, 2, 3, 4], r2>0, Linear_SVR           705 , 180  \n",
       "Filtering [1, 2, 3, 4], r2>0.9, Poly_KR            704 , 180  \n",
       "Filtering [1, 2, 3, 4], r2>0.9, RBF_SVR            704 , 180  \n",
       "Filtering [1, 2, 3, 4], r2>0.9, Linear_SVR         704 , 180  "
      ]
     },
     "metadata": {},
     "output_type": "display_data"
    },
    {
     "data": {
      "image/png": "[encoded data removed]",
      "text/plain": [
       "<Figure size 288x216 with 1 Axes>"
      ]
     },
     "metadata": {
      "needs_background": "light"
     },
     "output_type": "display_data"
    },
    {
     "data": {
      "image/png": "[encoded data removed]",
      "text/plain": [
       "<Figure size 288x216 with 1 Axes>"
      ]
     },
     "metadata": {
      "needs_background": "light"
     },
     "output_type": "display_data"
    }
   ],
   "source": [
    "coef=4\n",
    "fitting_functions = [\"sigmoid_4_param\", \"logistic4\"]\n",
    "results_4 = CompareTrainingScenariosModels(coef, models_dict, X_columns, _FOLDER, _FOLDER_2, \n",
    "                                           fitting_functions, filtering_scenarios, r2_restrictions,\n",
    "                                           print_progress_info = False)"
   ]
  },
  {
   "cell_type": "code",
   "execution_count": 9,
   "metadata": {},
   "outputs": [
    {
     "data": {
      "text/html": [
       "<div>\n",
       "<style scoped>\n",
       "    .dataframe tbody tr th:only-of-type {\n",
       "        vertical-align: middle;\n",
       "    }\n",
       "\n",
       "    .dataframe tbody tr th {\n",
       "        vertical-align: top;\n",
       "    }\n",
       "\n",
       "    .dataframe thead th {\n",
       "        text-align: right;\n",
       "    }\n",
       "</style>\n",
       "<table border=\"1\" class=\"dataframe\">\n",
       "  <thead>\n",
       "    <tr style=\"text-align: right;\">\n",
       "      <th></th>\n",
       "      <th>mae_coef_1</th>\n",
       "      <th>mre_coef_1</th>\n",
       "      <th>train_test_shape</th>\n",
       "      <th>mae_coef_2</th>\n",
       "      <th>mre_coef_2</th>\n",
       "      <th>train_test_shape</th>\n",
       "      <th>mae_coef_3</th>\n",
       "      <th>mre_coef_3</th>\n",
       "      <th>train_test_shape</th>\n",
       "      <th>mae_coef_4</th>\n",
       "      <th>mre_coef_4</th>\n",
       "      <th>train_test_shape</th>\n",
       "    </tr>\n",
       "  </thead>\n",
       "  <tbody>\n",
       "    <tr>\n",
       "      <th>Filtering [1, 2, 3], r2&gt;None, Poly_KR</th>\n",
       "      <td>0.508 +/- 0.808</td>\n",
       "      <td>64.8 +/- 77.8</td>\n",
       "      <td>781 , 202</td>\n",
       "      <td>0.923 +/- 1.535</td>\n",
       "      <td>41.0 +/- 29.9</td>\n",
       "      <td>781 , 202</td>\n",
       "      <td>11.12 +/- 7.419</td>\n",
       "      <td>-55.1 +/- 23.0</td>\n",
       "      <td>781 , 202</td>\n",
       "      <td>0.117 +/- 0.131</td>\n",
       "      <td>-15.8 +/- 301.3</td>\n",
       "      <td>781 , 202</td>\n",
       "    </tr>\n",
       "    <tr>\n",
       "      <th>Filtering [1, 2, 3], r2&gt;None, RBF_SVR</th>\n",
       "      <td>0.367 +/- 0.698</td>\n",
       "      <td>24.7 +/- 8.4</td>\n",
       "      <td>781 , 202</td>\n",
       "      <td>0.58 +/- 1.402</td>\n",
       "      <td>9.8 +/- 18.7</td>\n",
       "      <td>781 , 202</td>\n",
       "      <td>8.885 +/- 5.418</td>\n",
       "      <td>-43.4 +/- 12.9</td>\n",
       "      <td>781 , 202</td>\n",
       "      <td>0.117 +/- 0.134</td>\n",
       "      <td>-17.0 +/- 357.7</td>\n",
       "      <td>781 , 202</td>\n",
       "    </tr>\n",
       "    <tr>\n",
       "      <th>Filtering [1, 2, 3], r2&gt;None, Linear_SVR</th>\n",
       "      <td>1.363 +/- 1.624</td>\n",
       "      <td>325.8 +/- 410.8</td>\n",
       "      <td>781 , 202</td>\n",
       "      <td>1.416 +/- 2.105</td>\n",
       "      <td>94.5 +/- 100.5</td>\n",
       "      <td>781 , 202</td>\n",
       "      <td>8.845 +/- 5.21</td>\n",
       "      <td>-45.6 +/- 15.7</td>\n",
       "      <td>781 , 202</td>\n",
       "      <td>0.284 +/- 0.428</td>\n",
       "      <td>-623.9 +/- 2851.4</td>\n",
       "      <td>781 , 202</td>\n",
       "    </tr>\n",
       "    <tr>\n",
       "      <th>Filtering [1, 2, 3], r2&gt;0, Poly_KR</th>\n",
       "      <td>0.508 +/- 0.808</td>\n",
       "      <td>64.8 +/- 77.8</td>\n",
       "      <td>781 , 202</td>\n",
       "      <td>0.923 +/- 1.535</td>\n",
       "      <td>41.0 +/- 29.9</td>\n",
       "      <td>781 , 202</td>\n",
       "      <td>11.12 +/- 7.419</td>\n",
       "      <td>-55.1 +/- 23.0</td>\n",
       "      <td>781 , 202</td>\n",
       "      <td>0.117 +/- 0.131</td>\n",
       "      <td>-15.8 +/- 301.3</td>\n",
       "      <td>781 , 202</td>\n",
       "    </tr>\n",
       "    <tr>\n",
       "      <th>Filtering [1, 2, 3], r2&gt;0, RBF_SVR</th>\n",
       "      <td>0.367 +/- 0.698</td>\n",
       "      <td>24.7 +/- 8.4</td>\n",
       "      <td>781 , 202</td>\n",
       "      <td>0.58 +/- 1.402</td>\n",
       "      <td>9.8 +/- 18.7</td>\n",
       "      <td>781 , 202</td>\n",
       "      <td>8.885 +/- 5.418</td>\n",
       "      <td>-43.4 +/- 12.9</td>\n",
       "      <td>781 , 202</td>\n",
       "      <td>0.117 +/- 0.134</td>\n",
       "      <td>-17.0 +/- 357.7</td>\n",
       "      <td>781 , 202</td>\n",
       "    </tr>\n",
       "    <tr>\n",
       "      <th>Filtering [1, 2, 3], r2&gt;0, Linear_SVR</th>\n",
       "      <td>1.363 +/- 1.624</td>\n",
       "      <td>325.8 +/- 410.8</td>\n",
       "      <td>781 , 202</td>\n",
       "      <td>1.416 +/- 2.105</td>\n",
       "      <td>94.5 +/- 100.5</td>\n",
       "      <td>781 , 202</td>\n",
       "      <td>8.845 +/- 5.21</td>\n",
       "      <td>-45.6 +/- 15.7</td>\n",
       "      <td>781 , 202</td>\n",
       "      <td>0.284 +/- 0.428</td>\n",
       "      <td>-623.9 +/- 2851.4</td>\n",
       "      <td>781 , 202</td>\n",
       "    </tr>\n",
       "    <tr>\n",
       "      <th>Filtering [1, 2, 3], r2&gt;0.9, Poly_KR</th>\n",
       "      <td>0.131 +/- 0.082</td>\n",
       "      <td>27.4 +/- 14.0</td>\n",
       "      <td>722 , 184</td>\n",
       "      <td>0.284 +/- 0.184</td>\n",
       "      <td>25.8 +/- 17.8</td>\n",
       "      <td>722 , 184</td>\n",
       "      <td>10.084 +/- 6.305</td>\n",
       "      <td>-45.8 +/- 12.9</td>\n",
       "      <td>722 , 184</td>\n",
       "      <td>0.06 +/- 0.026</td>\n",
       "      <td>-103.0 +/- 225.8</td>\n",
       "      <td>722 , 184</td>\n",
       "    </tr>\n",
       "    <tr>\n",
       "      <th>Filtering [1, 2, 3], r2&gt;0.9, RBF_SVR</th>\n",
       "      <td>0.08 +/- 0.021</td>\n",
       "      <td>19.7 +/- 4.7</td>\n",
       "      <td>722 , 184</td>\n",
       "      <td>0.094 +/- 0.044</td>\n",
       "      <td>8.1 +/- 3.2</td>\n",
       "      <td>722 , 184</td>\n",
       "      <td>8.966 +/- 5.487</td>\n",
       "      <td>-39.9 +/- 9.4</td>\n",
       "      <td>722 , 184</td>\n",
       "      <td>0.06 +/- 0.027</td>\n",
       "      <td>-118.6 +/- 315.8</td>\n",
       "      <td>722 , 184</td>\n",
       "    </tr>\n",
       "    <tr>\n",
       "      <th>Filtering [1, 2, 3], r2&gt;0.9, Linear_SVR</th>\n",
       "      <td>0.09 +/- 0.019</td>\n",
       "      <td>23.7 +/- 6.5</td>\n",
       "      <td>722 , 184</td>\n",
       "      <td>0.136 +/- 0.057</td>\n",
       "      <td>12.8 +/- 5.7</td>\n",
       "      <td>722 , 184</td>\n",
       "      <td>8.942 +/- 5.126</td>\n",
       "      <td>-41.3 +/- 9.0</td>\n",
       "      <td>722 , 184</td>\n",
       "      <td>0.077 +/- 0.024</td>\n",
       "      <td>-281.2 +/- 947.1</td>\n",
       "      <td>722 , 184</td>\n",
       "    </tr>\n",
       "    <tr>\n",
       "      <th>Filtering [1, 2, 3, 4], r2&gt;None, Poly_KR</th>\n",
       "      <td>0.499 +/- 0.75</td>\n",
       "      <td>59.7 +/- 78.7</td>\n",
       "      <td>703 , 180</td>\n",
       "      <td>1.138 +/- 2.088</td>\n",
       "      <td>31.7 +/- 21.4</td>\n",
       "      <td>703 , 180</td>\n",
       "      <td>7.41 +/- 3.608</td>\n",
       "      <td>-44.6 +/- 11.8</td>\n",
       "      <td>703 , 180</td>\n",
       "      <td>0.071 +/- 0.035</td>\n",
       "      <td>-50.1 +/- 743.7</td>\n",
       "      <td>703 , 180</td>\n",
       "    </tr>\n",
       "    <tr>\n",
       "      <th>Filtering [1, 2, 3, 4], r2&gt;None, RBF_SVR</th>\n",
       "      <td>0.386 +/- 0.645</td>\n",
       "      <td>23.9 +/- 9.5</td>\n",
       "      <td>703 , 180</td>\n",
       "      <td>0.875 +/- 1.993</td>\n",
       "      <td>4.9 +/- 8.0</td>\n",
       "      <td>703 , 180</td>\n",
       "      <td>5.768 +/- 2.802</td>\n",
       "      <td>-35.9 +/- 10.0</td>\n",
       "      <td>703 , 180</td>\n",
       "      <td>0.072 +/- 0.036</td>\n",
       "      <td>18.7 +/- 606.0</td>\n",
       "      <td>703 , 180</td>\n",
       "    </tr>\n",
       "    <tr>\n",
       "      <th>Filtering [1, 2, 3, 4], r2&gt;None, Linear_SVR</th>\n",
       "      <td>1.273 +/- 1.757</td>\n",
       "      <td>305.0 +/- 462.1</td>\n",
       "      <td>703 , 180</td>\n",
       "      <td>1.583 +/- 2.701</td>\n",
       "      <td>81.5 +/- 114.5</td>\n",
       "      <td>703 , 180</td>\n",
       "      <td>6.003 +/- 2.937</td>\n",
       "      <td>-39.3 +/- 18.0</td>\n",
       "      <td>703 , 180</td>\n",
       "      <td>0.106 +/- 0.027</td>\n",
       "      <td>360.6 +/- 1384.4</td>\n",
       "      <td>703 , 180</td>\n",
       "    </tr>\n",
       "    <tr>\n",
       "      <th>Filtering [1, 2, 3, 4], r2&gt;0, Poly_KR</th>\n",
       "      <td>0.499 +/- 0.75</td>\n",
       "      <td>59.7 +/- 78.7</td>\n",
       "      <td>703 , 180</td>\n",
       "      <td>1.138 +/- 2.088</td>\n",
       "      <td>31.7 +/- 21.4</td>\n",
       "      <td>703 , 180</td>\n",
       "      <td>7.41 +/- 3.608</td>\n",
       "      <td>-44.6 +/- 11.8</td>\n",
       "      <td>703 , 180</td>\n",
       "      <td>0.071 +/- 0.035</td>\n",
       "      <td>-50.1 +/- 743.7</td>\n",
       "      <td>703 , 180</td>\n",
       "    </tr>\n",
       "    <tr>\n",
       "      <th>Filtering [1, 2, 3, 4], r2&gt;0, RBF_SVR</th>\n",
       "      <td>0.386 +/- 0.645</td>\n",
       "      <td>23.9 +/- 9.5</td>\n",
       "      <td>703 , 180</td>\n",
       "      <td>0.875 +/- 1.993</td>\n",
       "      <td>4.9 +/- 8.0</td>\n",
       "      <td>703 , 180</td>\n",
       "      <td>5.768 +/- 2.802</td>\n",
       "      <td>-35.9 +/- 10.0</td>\n",
       "      <td>703 , 180</td>\n",
       "      <td>0.072 +/- 0.036</td>\n",
       "      <td>18.7 +/- 606.0</td>\n",
       "      <td>703 , 180</td>\n",
       "    </tr>\n",
       "    <tr>\n",
       "      <th>Filtering [1, 2, 3, 4], r2&gt;0, Linear_SVR</th>\n",
       "      <td>1.273 +/- 1.757</td>\n",
       "      <td>305.0 +/- 462.1</td>\n",
       "      <td>703 , 180</td>\n",
       "      <td>1.583 +/- 2.701</td>\n",
       "      <td>81.5 +/- 114.5</td>\n",
       "      <td>703 , 180</td>\n",
       "      <td>6.003 +/- 2.937</td>\n",
       "      <td>-39.3 +/- 18.0</td>\n",
       "      <td>703 , 180</td>\n",
       "      <td>0.106 +/- 0.027</td>\n",
       "      <td>360.6 +/- 1384.4</td>\n",
       "      <td>703 , 180</td>\n",
       "    </tr>\n",
       "    <tr>\n",
       "      <th>Filtering [1, 2, 3, 4], r2&gt;0.9, Poly_KR</th>\n",
       "      <td>0.157 +/- 0.091</td>\n",
       "      <td>30.7 +/- 14.2</td>\n",
       "      <td>690 , 177</td>\n",
       "      <td>0.296 +/- 0.186</td>\n",
       "      <td>26.8 +/- 18.3</td>\n",
       "      <td>690 , 177</td>\n",
       "      <td>7.344 +/- 3.881</td>\n",
       "      <td>-44.6 +/- 12.9</td>\n",
       "      <td>690 , 177</td>\n",
       "      <td>0.068 +/- 0.035</td>\n",
       "      <td>-147.1 +/- 674.8</td>\n",
       "      <td>690 , 177</td>\n",
       "    </tr>\n",
       "    <tr>\n",
       "      <th>Filtering [1, 2, 3, 4], r2&gt;0.9, RBF_SVR</th>\n",
       "      <td>0.095 +/- 0.023</td>\n",
       "      <td>21.7 +/- 5.6</td>\n",
       "      <td>690 , 177</td>\n",
       "      <td>0.096 +/- 0.046</td>\n",
       "      <td>8.3 +/- 3.4</td>\n",
       "      <td>690 , 177</td>\n",
       "      <td>5.85 +/- 2.773</td>\n",
       "      <td>-37.1 +/- 10.4</td>\n",
       "      <td>690 , 177</td>\n",
       "      <td>0.068 +/- 0.035</td>\n",
       "      <td>-108.6 +/- 630.2</td>\n",
       "      <td>690 , 177</td>\n",
       "    </tr>\n",
       "    <tr>\n",
       "      <th>Filtering [1, 2, 3, 4], r2&gt;0.9, Linear_SVR</th>\n",
       "      <td>0.099 +/- 0.021</td>\n",
       "      <td>23.9 +/- 6.2</td>\n",
       "      <td>690 , 177</td>\n",
       "      <td>0.124 +/- 0.065</td>\n",
       "      <td>11.3 +/- 5.9</td>\n",
       "      <td>690 , 177</td>\n",
       "      <td>5.742 +/- 2.608</td>\n",
       "      <td>-37.5 +/- 13.6</td>\n",
       "      <td>690 , 177</td>\n",
       "      <td>0.081 +/- 0.03</td>\n",
       "      <td>-6.3 +/- 905.7</td>\n",
       "      <td>690 , 177</td>\n",
       "    </tr>\n",
       "  </tbody>\n",
       "</table>\n",
       "</div>"
      ],
      "text/plain": [
       "                                                  mae_coef_1       mre_coef_1  \\\n",
       "Filtering [1, 2, 3], r2>None, Poly_KR        0.508 +/- 0.808    64.8 +/- 77.8   \n",
       "Filtering [1, 2, 3], r2>None, RBF_SVR        0.367 +/- 0.698     24.7 +/- 8.4   \n",
       "Filtering [1, 2, 3], r2>None, Linear_SVR     1.363 +/- 1.624  325.8 +/- 410.8   \n",
       "Filtering [1, 2, 3], r2>0, Poly_KR           0.508 +/- 0.808    64.8 +/- 77.8   \n",
       "Filtering [1, 2, 3], r2>0, RBF_SVR           0.367 +/- 0.698     24.7 +/- 8.4   \n",
       "Filtering [1, 2, 3], r2>0, Linear_SVR        1.363 +/- 1.624  325.8 +/- 410.8   \n",
       "Filtering [1, 2, 3], r2>0.9, Poly_KR         0.131 +/- 0.082    27.4 +/- 14.0   \n",
       "Filtering [1, 2, 3], r2>0.9, RBF_SVR          0.08 +/- 0.021     19.7 +/- 4.7   \n",
       "Filtering [1, 2, 3], r2>0.9, Linear_SVR       0.09 +/- 0.019     23.7 +/- 6.5   \n",
       "Filtering [1, 2, 3, 4], r2>None, Poly_KR      0.499 +/- 0.75    59.7 +/- 78.7   \n",
       "Filtering [1, 2, 3, 4], r2>None, RBF_SVR     0.386 +/- 0.645     23.9 +/- 9.5   \n",
       "Filtering [1, 2, 3, 4], r2>None, Linear_SVR  1.273 +/- 1.757  305.0 +/- 462.1   \n",
       "Filtering [1, 2, 3, 4], r2>0, Poly_KR         0.499 +/- 0.75    59.7 +/- 78.7   \n",
       "Filtering [1, 2, 3, 4], r2>0, RBF_SVR        0.386 +/- 0.645     23.9 +/- 9.5   \n",
       "Filtering [1, 2, 3, 4], r2>0, Linear_SVR     1.273 +/- 1.757  305.0 +/- 462.1   \n",
       "Filtering [1, 2, 3, 4], r2>0.9, Poly_KR      0.157 +/- 0.091    30.7 +/- 14.2   \n",
       "Filtering [1, 2, 3, 4], r2>0.9, RBF_SVR      0.095 +/- 0.023     21.7 +/- 5.6   \n",
       "Filtering [1, 2, 3, 4], r2>0.9, Linear_SVR   0.099 +/- 0.021     23.9 +/- 6.2   \n",
       "\n",
       "                                            train_test_shape       mae_coef_2  \\\n",
       "Filtering [1, 2, 3], r2>None, Poly_KR              781 , 202  0.923 +/- 1.535   \n",
       "Filtering [1, 2, 3], r2>None, RBF_SVR              781 , 202   0.58 +/- 1.402   \n",
       "Filtering [1, 2, 3], r2>None, Linear_SVR           781 , 202  1.416 +/- 2.105   \n",
       "Filtering [1, 2, 3], r2>0, Poly_KR                 781 , 202  0.923 +/- 1.535   \n",
       "Filtering [1, 2, 3], r2>0, RBF_SVR                 781 , 202   0.58 +/- 1.402   \n",
       "Filtering [1, 2, 3], r2>0, Linear_SVR              781 , 202  1.416 +/- 2.105   \n",
       "Filtering [1, 2, 3], r2>0.9, Poly_KR               722 , 184  0.284 +/- 0.184   \n",
       "Filtering [1, 2, 3], r2>0.9, RBF_SVR               722 , 184  0.094 +/- 0.044   \n",
       "Filtering [1, 2, 3], r2>0.9, Linear_SVR            722 , 184  0.136 +/- 0.057   \n",
       "Filtering [1, 2, 3, 4], r2>None, Poly_KR           703 , 180  1.138 +/- 2.088   \n",
       "Filtering [1, 2, 3, 4], r2>None, RBF_SVR           703 , 180  0.875 +/- 1.993   \n",
       "Filtering [1, 2, 3, 4], r2>None, Linear_SVR        703 , 180  1.583 +/- 2.701   \n",
       "Filtering [1, 2, 3, 4], r2>0, Poly_KR              703 , 180  1.138 +/- 2.088   \n",
       "Filtering [1, 2, 3, 4], r2>0, RBF_SVR              703 , 180  0.875 +/- 1.993   \n",
       "Filtering [1, 2, 3, 4], r2>0, Linear_SVR           703 , 180  1.583 +/- 2.701   \n",
       "Filtering [1, 2, 3, 4], r2>0.9, Poly_KR            690 , 177  0.296 +/- 0.186   \n",
       "Filtering [1, 2, 3, 4], r2>0.9, RBF_SVR            690 , 177  0.096 +/- 0.046   \n",
       "Filtering [1, 2, 3, 4], r2>0.9, Linear_SVR         690 , 177  0.124 +/- 0.065   \n",
       "\n",
       "                                                 mre_coef_2 train_test_shape  \\\n",
       "Filtering [1, 2, 3], r2>None, Poly_KR         41.0 +/- 29.9        781 , 202   \n",
       "Filtering [1, 2, 3], r2>None, RBF_SVR          9.8 +/- 18.7        781 , 202   \n",
       "Filtering [1, 2, 3], r2>None, Linear_SVR     94.5 +/- 100.5        781 , 202   \n",
       "Filtering [1, 2, 3], r2>0, Poly_KR            41.0 +/- 29.9        781 , 202   \n",
       "Filtering [1, 2, 3], r2>0, RBF_SVR             9.8 +/- 18.7        781 , 202   \n",
       "Filtering [1, 2, 3], r2>0, Linear_SVR        94.5 +/- 100.5        781 , 202   \n",
       "Filtering [1, 2, 3], r2>0.9, Poly_KR          25.8 +/- 17.8        722 , 184   \n",
       "Filtering [1, 2, 3], r2>0.9, RBF_SVR            8.1 +/- 3.2        722 , 184   \n",
       "Filtering [1, 2, 3], r2>0.9, Linear_SVR        12.8 +/- 5.7        722 , 184   \n",
       "Filtering [1, 2, 3, 4], r2>None, Poly_KR      31.7 +/- 21.4        703 , 180   \n",
       "Filtering [1, 2, 3, 4], r2>None, RBF_SVR        4.9 +/- 8.0        703 , 180   \n",
       "Filtering [1, 2, 3, 4], r2>None, Linear_SVR  81.5 +/- 114.5        703 , 180   \n",
       "Filtering [1, 2, 3, 4], r2>0, Poly_KR         31.7 +/- 21.4        703 , 180   \n",
       "Filtering [1, 2, 3, 4], r2>0, RBF_SVR           4.9 +/- 8.0        703 , 180   \n",
       "Filtering [1, 2, 3, 4], r2>0, Linear_SVR     81.5 +/- 114.5        703 , 180   \n",
       "Filtering [1, 2, 3, 4], r2>0.9, Poly_KR       26.8 +/- 18.3        690 , 177   \n",
       "Filtering [1, 2, 3, 4], r2>0.9, RBF_SVR         8.3 +/- 3.4        690 , 177   \n",
       "Filtering [1, 2, 3, 4], r2>0.9, Linear_SVR     11.3 +/- 5.9        690 , 177   \n",
       "\n",
       "                                                   mae_coef_3      mre_coef_3  \\\n",
       "Filtering [1, 2, 3], r2>None, Poly_KR         11.12 +/- 7.419  -55.1 +/- 23.0   \n",
       "Filtering [1, 2, 3], r2>None, RBF_SVR         8.885 +/- 5.418  -43.4 +/- 12.9   \n",
       "Filtering [1, 2, 3], r2>None, Linear_SVR       8.845 +/- 5.21  -45.6 +/- 15.7   \n",
       "Filtering [1, 2, 3], r2>0, Poly_KR            11.12 +/- 7.419  -55.1 +/- 23.0   \n",
       "Filtering [1, 2, 3], r2>0, RBF_SVR            8.885 +/- 5.418  -43.4 +/- 12.9   \n",
       "Filtering [1, 2, 3], r2>0, Linear_SVR          8.845 +/- 5.21  -45.6 +/- 15.7   \n",
       "Filtering [1, 2, 3], r2>0.9, Poly_KR         10.084 +/- 6.305  -45.8 +/- 12.9   \n",
       "Filtering [1, 2, 3], r2>0.9, RBF_SVR          8.966 +/- 5.487   -39.9 +/- 9.4   \n",
       "Filtering [1, 2, 3], r2>0.9, Linear_SVR       8.942 +/- 5.126   -41.3 +/- 9.0   \n",
       "Filtering [1, 2, 3, 4], r2>None, Poly_KR       7.41 +/- 3.608  -44.6 +/- 11.8   \n",
       "Filtering [1, 2, 3, 4], r2>None, RBF_SVR      5.768 +/- 2.802  -35.9 +/- 10.0   \n",
       "Filtering [1, 2, 3, 4], r2>None, Linear_SVR   6.003 +/- 2.937  -39.3 +/- 18.0   \n",
       "Filtering [1, 2, 3, 4], r2>0, Poly_KR          7.41 +/- 3.608  -44.6 +/- 11.8   \n",
       "Filtering [1, 2, 3, 4], r2>0, RBF_SVR         5.768 +/- 2.802  -35.9 +/- 10.0   \n",
       "Filtering [1, 2, 3, 4], r2>0, Linear_SVR      6.003 +/- 2.937  -39.3 +/- 18.0   \n",
       "Filtering [1, 2, 3, 4], r2>0.9, Poly_KR       7.344 +/- 3.881  -44.6 +/- 12.9   \n",
       "Filtering [1, 2, 3, 4], r2>0.9, RBF_SVR        5.85 +/- 2.773  -37.1 +/- 10.4   \n",
       "Filtering [1, 2, 3, 4], r2>0.9, Linear_SVR    5.742 +/- 2.608  -37.5 +/- 13.6   \n",
       "\n",
       "                                            train_test_shape       mae_coef_4  \\\n",
       "Filtering [1, 2, 3], r2>None, Poly_KR              781 , 202  0.117 +/- 0.131   \n",
       "Filtering [1, 2, 3], r2>None, RBF_SVR              781 , 202  0.117 +/- 0.134   \n",
       "Filtering [1, 2, 3], r2>None, Linear_SVR           781 , 202  0.284 +/- 0.428   \n",
       "Filtering [1, 2, 3], r2>0, Poly_KR                 781 , 202  0.117 +/- 0.131   \n",
       "Filtering [1, 2, 3], r2>0, RBF_SVR                 781 , 202  0.117 +/- 0.134   \n",
       "Filtering [1, 2, 3], r2>0, Linear_SVR              781 , 202  0.284 +/- 0.428   \n",
       "Filtering [1, 2, 3], r2>0.9, Poly_KR               722 , 184   0.06 +/- 0.026   \n",
       "Filtering [1, 2, 3], r2>0.9, RBF_SVR               722 , 184   0.06 +/- 0.027   \n",
       "Filtering [1, 2, 3], r2>0.9, Linear_SVR            722 , 184  0.077 +/- 0.024   \n",
       "Filtering [1, 2, 3, 4], r2>None, Poly_KR           703 , 180  0.071 +/- 0.035   \n",
       "Filtering [1, 2, 3, 4], r2>None, RBF_SVR           703 , 180  0.072 +/- 0.036   \n",
       "Filtering [1, 2, 3, 4], r2>None, Linear_SVR        703 , 180  0.106 +/- 0.027   \n",
       "Filtering [1, 2, 3, 4], r2>0, Poly_KR              703 , 180  0.071 +/- 0.035   \n",
       "Filtering [1, 2, 3, 4], r2>0, RBF_SVR              703 , 180  0.072 +/- 0.036   \n",
       "Filtering [1, 2, 3, 4], r2>0, Linear_SVR           703 , 180  0.106 +/- 0.027   \n",
       "Filtering [1, 2, 3, 4], r2>0.9, Poly_KR            690 , 177  0.068 +/- 0.035   \n",
       "Filtering [1, 2, 3, 4], r2>0.9, RBF_SVR            690 , 177  0.068 +/- 0.035   \n",
       "Filtering [1, 2, 3, 4], r2>0.9, Linear_SVR         690 , 177   0.081 +/- 0.03   \n",
       "\n",
       "                                                    mre_coef_4  \\\n",
       "Filtering [1, 2, 3], r2>None, Poly_KR          -15.8 +/- 301.3   \n",
       "Filtering [1, 2, 3], r2>None, RBF_SVR          -17.0 +/- 357.7   \n",
       "Filtering [1, 2, 3], r2>None, Linear_SVR     -623.9 +/- 2851.4   \n",
       "Filtering [1, 2, 3], r2>0, Poly_KR             -15.8 +/- 301.3   \n",
       "Filtering [1, 2, 3], r2>0, RBF_SVR             -17.0 +/- 357.7   \n",
       "Filtering [1, 2, 3], r2>0, Linear_SVR        -623.9 +/- 2851.4   \n",
       "Filtering [1, 2, 3], r2>0.9, Poly_KR          -103.0 +/- 225.8   \n",
       "Filtering [1, 2, 3], r2>0.9, RBF_SVR          -118.6 +/- 315.8   \n",
       "Filtering [1, 2, 3], r2>0.9, Linear_SVR       -281.2 +/- 947.1   \n",
       "Filtering [1, 2, 3, 4], r2>None, Poly_KR       -50.1 +/- 743.7   \n",
       "Filtering [1, 2, 3, 4], r2>None, RBF_SVR        18.7 +/- 606.0   \n",
       "Filtering [1, 2, 3, 4], r2>None, Linear_SVR   360.6 +/- 1384.4   \n",
       "Filtering [1, 2, 3, 4], r2>0, Poly_KR          -50.1 +/- 743.7   \n",
       "Filtering [1, 2, 3, 4], r2>0, RBF_SVR           18.7 +/- 606.0   \n",
       "Filtering [1, 2, 3, 4], r2>0, Linear_SVR      360.6 +/- 1384.4   \n",
       "Filtering [1, 2, 3, 4], r2>0.9, Poly_KR       -147.1 +/- 674.8   \n",
       "Filtering [1, 2, 3, 4], r2>0.9, RBF_SVR       -108.6 +/- 630.2   \n",
       "Filtering [1, 2, 3, 4], r2>0.9, Linear_SVR      -6.3 +/- 905.7   \n",
       "\n",
       "                                            train_test_shape  \n",
       "Filtering [1, 2, 3], r2>None, Poly_KR              781 , 202  \n",
       "Filtering [1, 2, 3], r2>None, RBF_SVR              781 , 202  \n",
       "Filtering [1, 2, 3], r2>None, Linear_SVR           781 , 202  \n",
       "Filtering [1, 2, 3], r2>0, Poly_KR                 781 , 202  \n",
       "Filtering [1, 2, 3], r2>0, RBF_SVR                 781 , 202  \n",
       "Filtering [1, 2, 3], r2>0, Linear_SVR              781 , 202  \n",
       "Filtering [1, 2, 3], r2>0.9, Poly_KR               722 , 184  \n",
       "Filtering [1, 2, 3], r2>0.9, RBF_SVR               722 , 184  \n",
       "Filtering [1, 2, 3], r2>0.9, Linear_SVR            722 , 184  \n",
       "Filtering [1, 2, 3, 4], r2>None, Poly_KR           703 , 180  \n",
       "Filtering [1, 2, 3, 4], r2>None, RBF_SVR           703 , 180  \n",
       "Filtering [1, 2, 3, 4], r2>None, Linear_SVR        703 , 180  \n",
       "Filtering [1, 2, 3, 4], r2>0, Poly_KR              703 , 180  \n",
       "Filtering [1, 2, 3, 4], r2>0, RBF_SVR              703 , 180  \n",
       "Filtering [1, 2, 3, 4], r2>0, Linear_SVR           703 , 180  \n",
       "Filtering [1, 2, 3, 4], r2>0.9, Poly_KR            690 , 177  \n",
       "Filtering [1, 2, 3, 4], r2>0.9, RBF_SVR            690 , 177  \n",
       "Filtering [1, 2, 3, 4], r2>0.9, Linear_SVR         690 , 177  "
      ]
     },
     "execution_count": 9,
     "metadata": {},
     "output_type": "execute_result"
    }
   ],
   "source": [
    "fitting_function = \"sigmoid_4_param\"\n",
    "df1_results = results_1[fitting_function]\n",
    "df1_results = pd.concat([results_1[fitting_function],results_2[fitting_function],\n",
    "                        results_3[fitting_function], results_4[fitting_function]],axis=1)\n",
    "df1_results"
   ]
  },
  {
   "cell_type": "code",
   "execution_count": 10,
   "metadata": {},
   "outputs": [
    {
     "data": {
      "text/html": [
       "<div>\n",
       "<style scoped>\n",
       "    .dataframe tbody tr th:only-of-type {\n",
       "        vertical-align: middle;\n",
       "    }\n",
       "\n",
       "    .dataframe tbody tr th {\n",
       "        vertical-align: top;\n",
       "    }\n",
       "\n",
       "    .dataframe thead th {\n",
       "        text-align: right;\n",
       "    }\n",
       "</style>\n",
       "<table border=\"1\" class=\"dataframe\">\n",
       "  <thead>\n",
       "    <tr style=\"text-align: right;\">\n",
       "      <th></th>\n",
       "      <th>mae_coef_1</th>\n",
       "      <th>mre_coef_1</th>\n",
       "      <th>train_test_shape</th>\n",
       "      <th>mae_coef_2</th>\n",
       "      <th>mre_coef_2</th>\n",
       "      <th>train_test_shape</th>\n",
       "      <th>mae_coef_3</th>\n",
       "      <th>mre_coef_3</th>\n",
       "      <th>train_test_shape</th>\n",
       "      <th>mae_coef_4</th>\n",
       "      <th>mre_coef_4</th>\n",
       "      <th>train_test_shape</th>\n",
       "    </tr>\n",
       "  </thead>\n",
       "  <tbody>\n",
       "    <tr>\n",
       "      <th>Filtering [1, 2, 3], r2&gt;None, Poly_KR</th>\n",
       "      <td>0.3 +/- 0.28</td>\n",
       "      <td>30.9 +/- 29.1</td>\n",
       "      <td>783 , 202</td>\n",
       "      <td>6.991 +/- 4.835</td>\n",
       "      <td>64.3 +/- 24.3</td>\n",
       "      <td>783 , 202</td>\n",
       "      <td>0.223 +/- 0.212</td>\n",
       "      <td>37.8 +/- 23.1</td>\n",
       "      <td>783 , 202</td>\n",
       "      <td>0.232 +/- 0.301</td>\n",
       "      <td>-49.2 +/- 525.2</td>\n",
       "      <td>783 , 202</td>\n",
       "    </tr>\n",
       "    <tr>\n",
       "      <th>Filtering [1, 2, 3], r2&gt;None, RBF_SVR</th>\n",
       "      <td>0.016 +/- 0.003</td>\n",
       "      <td>1.6 +/- 0.3</td>\n",
       "      <td>783 , 202</td>\n",
       "      <td>5.979 +/- 3.865</td>\n",
       "      <td>52.9 +/- 17.2</td>\n",
       "      <td>783 , 202</td>\n",
       "      <td>0.128 +/- 0.08</td>\n",
       "      <td>24.1 +/- 5.7</td>\n",
       "      <td>783 , 202</td>\n",
       "      <td>0.218 +/- 0.31</td>\n",
       "      <td>8.5 +/- 511.9</td>\n",
       "      <td>783 , 202</td>\n",
       "    </tr>\n",
       "    <tr>\n",
       "      <th>Filtering [1, 2, 3], r2&gt;None, Linear_SVR</th>\n",
       "      <td>0.022 +/- 0.01</td>\n",
       "      <td>2.2 +/- 1.0</td>\n",
       "      <td>783 , 202</td>\n",
       "      <td>5.889 +/- 3.831</td>\n",
       "      <td>57.0 +/- 21.0</td>\n",
       "      <td>783 , 202</td>\n",
       "      <td>0.328 +/- 0.423</td>\n",
       "      <td>67.6 +/- 87.8</td>\n",
       "      <td>783 , 202</td>\n",
       "      <td>0.458 +/- 0.555</td>\n",
       "      <td>-1339.7 +/- 4881.8</td>\n",
       "      <td>783 , 202</td>\n",
       "    </tr>\n",
       "    <tr>\n",
       "      <th>Filtering [1, 2, 3], r2&gt;0, Poly_KR</th>\n",
       "      <td>0.3 +/- 0.28</td>\n",
       "      <td>30.9 +/- 29.1</td>\n",
       "      <td>783 , 202</td>\n",
       "      <td>6.991 +/- 4.835</td>\n",
       "      <td>64.3 +/- 24.3</td>\n",
       "      <td>783 , 202</td>\n",
       "      <td>0.223 +/- 0.212</td>\n",
       "      <td>37.8 +/- 23.1</td>\n",
       "      <td>783 , 202</td>\n",
       "      <td>0.232 +/- 0.301</td>\n",
       "      <td>-49.2 +/- 525.2</td>\n",
       "      <td>783 , 202</td>\n",
       "    </tr>\n",
       "    <tr>\n",
       "      <th>Filtering [1, 2, 3], r2&gt;0, RBF_SVR</th>\n",
       "      <td>0.016 +/- 0.003</td>\n",
       "      <td>1.6 +/- 0.3</td>\n",
       "      <td>783 , 202</td>\n",
       "      <td>5.979 +/- 3.865</td>\n",
       "      <td>52.9 +/- 17.2</td>\n",
       "      <td>783 , 202</td>\n",
       "      <td>0.128 +/- 0.08</td>\n",
       "      <td>24.1 +/- 5.7</td>\n",
       "      <td>783 , 202</td>\n",
       "      <td>0.218 +/- 0.31</td>\n",
       "      <td>8.5 +/- 511.9</td>\n",
       "      <td>783 , 202</td>\n",
       "    </tr>\n",
       "    <tr>\n",
       "      <th>Filtering [1, 2, 3], r2&gt;0, Linear_SVR</th>\n",
       "      <td>0.022 +/- 0.01</td>\n",
       "      <td>2.2 +/- 1.0</td>\n",
       "      <td>783 , 202</td>\n",
       "      <td>5.889 +/- 3.831</td>\n",
       "      <td>57.0 +/- 21.0</td>\n",
       "      <td>783 , 202</td>\n",
       "      <td>0.328 +/- 0.423</td>\n",
       "      <td>67.6 +/- 87.8</td>\n",
       "      <td>783 , 202</td>\n",
       "      <td>0.458 +/- 0.555</td>\n",
       "      <td>-1339.7 +/- 4881.8</td>\n",
       "      <td>783 , 202</td>\n",
       "    </tr>\n",
       "    <tr>\n",
       "      <th>Filtering [1, 2, 3], r2&gt;0.9, Poly_KR</th>\n",
       "      <td>0.235 +/- 0.196</td>\n",
       "      <td>24.1 +/- 20.1</td>\n",
       "      <td>736 , 189</td>\n",
       "      <td>5.501 +/- 3.666</td>\n",
       "      <td>59.5 +/- 20.4</td>\n",
       "      <td>736 , 189</td>\n",
       "      <td>0.148 +/- 0.086</td>\n",
       "      <td>31.8 +/- 14.1</td>\n",
       "      <td>736 , 189</td>\n",
       "      <td>0.088 +/- 0.031</td>\n",
       "      <td>-55.2 +/- 500.5</td>\n",
       "      <td>736 , 189</td>\n",
       "    </tr>\n",
       "    <tr>\n",
       "      <th>Filtering [1, 2, 3], r2&gt;0.9, RBF_SVR</th>\n",
       "      <td>0.017 +/- 0.004</td>\n",
       "      <td>1.7 +/- 0.4</td>\n",
       "      <td>736 , 189</td>\n",
       "      <td>4.945 +/- 3.43</td>\n",
       "      <td>49.5 +/- 12.3</td>\n",
       "      <td>736 , 189</td>\n",
       "      <td>0.093 +/- 0.025</td>\n",
       "      <td>24.3 +/- 9.8</td>\n",
       "      <td>736 , 189</td>\n",
       "      <td>0.077 +/- 0.029</td>\n",
       "      <td>-28.3 +/- 524.0</td>\n",
       "      <td>736 , 189</td>\n",
       "    </tr>\n",
       "    <tr>\n",
       "      <th>Filtering [1, 2, 3], r2&gt;0.9, Linear_SVR</th>\n",
       "      <td>0.023 +/- 0.007</td>\n",
       "      <td>2.3 +/- 0.8</td>\n",
       "      <td>736 , 189</td>\n",
       "      <td>4.893 +/- 3.346</td>\n",
       "      <td>54.7 +/- 20.7</td>\n",
       "      <td>736 , 189</td>\n",
       "      <td>0.173 +/- 0.227</td>\n",
       "      <td>44.2 +/- 51.2</td>\n",
       "      <td>736 , 189</td>\n",
       "      <td>0.16 +/- 0.193</td>\n",
       "      <td>-90.3 +/- 1009.5</td>\n",
       "      <td>736 , 189</td>\n",
       "    </tr>\n",
       "    <tr>\n",
       "      <th>Filtering [1, 2, 3, 4], r2&gt;None, Poly_KR</th>\n",
       "      <td>0.241 +/- 0.196</td>\n",
       "      <td>24.8 +/- 20.2</td>\n",
       "      <td>705 , 180</td>\n",
       "      <td>5.521 +/- 2.528</td>\n",
       "      <td>50.9 +/- 17.5</td>\n",
       "      <td>705 , 180</td>\n",
       "      <td>0.157 +/- 0.103</td>\n",
       "      <td>31.8 +/- 15.2</td>\n",
       "      <td>705 , 180</td>\n",
       "      <td>0.096 +/- 0.047</td>\n",
       "      <td>7807.6 +/- 23517.4</td>\n",
       "      <td>705 , 180</td>\n",
       "    </tr>\n",
       "    <tr>\n",
       "      <th>Filtering [1, 2, 3, 4], r2&gt;None, RBF_SVR</th>\n",
       "      <td>0.014 +/- 0.003</td>\n",
       "      <td>1.5 +/- 0.3</td>\n",
       "      <td>705 , 180</td>\n",
       "      <td>4.768 +/- 2.403</td>\n",
       "      <td>41.7 +/- 7.5</td>\n",
       "      <td>705 , 180</td>\n",
       "      <td>0.099 +/- 0.038</td>\n",
       "      <td>23.7 +/- 8.2</td>\n",
       "      <td>705 , 180</td>\n",
       "      <td>0.086 +/- 0.049</td>\n",
       "      <td>9154.3 +/- 27483.3</td>\n",
       "      <td>705 , 180</td>\n",
       "    </tr>\n",
       "    <tr>\n",
       "      <th>Filtering [1, 2, 3, 4], r2&gt;None, Linear_SVR</th>\n",
       "      <td>0.019 +/- 0.006</td>\n",
       "      <td>1.9 +/- 0.6</td>\n",
       "      <td>705 , 180</td>\n",
       "      <td>4.925 +/- 2.213</td>\n",
       "      <td>47.8 +/- 14.7</td>\n",
       "      <td>705 , 180</td>\n",
       "      <td>0.367 +/- 0.582</td>\n",
       "      <td>88.1 +/- 136.0</td>\n",
       "      <td>705 , 180</td>\n",
       "      <td>0.604 +/- 1.167</td>\n",
       "      <td>12825.0 +/- 38588.1</td>\n",
       "      <td>705 , 180</td>\n",
       "    </tr>\n",
       "    <tr>\n",
       "      <th>Filtering [1, 2, 3, 4], r2&gt;0, Poly_KR</th>\n",
       "      <td>0.241 +/- 0.196</td>\n",
       "      <td>24.8 +/- 20.2</td>\n",
       "      <td>705 , 180</td>\n",
       "      <td>5.521 +/- 2.528</td>\n",
       "      <td>50.9 +/- 17.5</td>\n",
       "      <td>705 , 180</td>\n",
       "      <td>0.157 +/- 0.103</td>\n",
       "      <td>31.8 +/- 15.2</td>\n",
       "      <td>705 , 180</td>\n",
       "      <td>0.096 +/- 0.047</td>\n",
       "      <td>7807.6 +/- 23517.4</td>\n",
       "      <td>705 , 180</td>\n",
       "    </tr>\n",
       "    <tr>\n",
       "      <th>Filtering [1, 2, 3, 4], r2&gt;0, RBF_SVR</th>\n",
       "      <td>0.014 +/- 0.003</td>\n",
       "      <td>1.5 +/- 0.3</td>\n",
       "      <td>705 , 180</td>\n",
       "      <td>4.768 +/- 2.403</td>\n",
       "      <td>41.7 +/- 7.5</td>\n",
       "      <td>705 , 180</td>\n",
       "      <td>0.099 +/- 0.038</td>\n",
       "      <td>23.7 +/- 8.2</td>\n",
       "      <td>705 , 180</td>\n",
       "      <td>0.086 +/- 0.049</td>\n",
       "      <td>9154.3 +/- 27483.3</td>\n",
       "      <td>705 , 180</td>\n",
       "    </tr>\n",
       "    <tr>\n",
       "      <th>Filtering [1, 2, 3, 4], r2&gt;0, Linear_SVR</th>\n",
       "      <td>0.019 +/- 0.006</td>\n",
       "      <td>1.9 +/- 0.6</td>\n",
       "      <td>705 , 180</td>\n",
       "      <td>4.925 +/- 2.213</td>\n",
       "      <td>47.8 +/- 14.7</td>\n",
       "      <td>705 , 180</td>\n",
       "      <td>0.367 +/- 0.582</td>\n",
       "      <td>88.1 +/- 136.0</td>\n",
       "      <td>705 , 180</td>\n",
       "      <td>0.604 +/- 1.167</td>\n",
       "      <td>12825.0 +/- 38588.1</td>\n",
       "      <td>705 , 180</td>\n",
       "    </tr>\n",
       "    <tr>\n",
       "      <th>Filtering [1, 2, 3, 4], r2&gt;0.9, Poly_KR</th>\n",
       "      <td>0.241 +/- 0.196</td>\n",
       "      <td>24.8 +/- 20.2</td>\n",
       "      <td>704 , 180</td>\n",
       "      <td>5.52 +/- 2.562</td>\n",
       "      <td>50.7 +/- 17.6</td>\n",
       "      <td>704 , 180</td>\n",
       "      <td>0.162 +/- 0.105</td>\n",
       "      <td>32.7 +/- 15.4</td>\n",
       "      <td>704 , 180</td>\n",
       "      <td>0.092 +/- 0.052</td>\n",
       "      <td>7760.4 +/- 23532.4</td>\n",
       "      <td>704 , 180</td>\n",
       "    </tr>\n",
       "    <tr>\n",
       "      <th>Filtering [1, 2, 3, 4], r2&gt;0.9, RBF_SVR</th>\n",
       "      <td>0.014 +/- 0.002</td>\n",
       "      <td>1.5 +/- 0.3</td>\n",
       "      <td>704 , 180</td>\n",
       "      <td>4.729 +/- 2.386</td>\n",
       "      <td>41.1 +/- 6.9</td>\n",
       "      <td>704 , 180</td>\n",
       "      <td>0.1 +/- 0.038</td>\n",
       "      <td>23.6 +/- 8.1</td>\n",
       "      <td>704 , 180</td>\n",
       "      <td>0.087 +/- 0.049</td>\n",
       "      <td>9156.0 +/- 27482.8</td>\n",
       "      <td>704 , 180</td>\n",
       "    </tr>\n",
       "    <tr>\n",
       "      <th>Filtering [1, 2, 3, 4], r2&gt;0.9, Linear_SVR</th>\n",
       "      <td>0.018 +/- 0.006</td>\n",
       "      <td>1.9 +/- 0.6</td>\n",
       "      <td>704 , 180</td>\n",
       "      <td>4.877 +/- 2.185</td>\n",
       "      <td>47.1 +/- 14.4</td>\n",
       "      <td>704 , 180</td>\n",
       "      <td>0.179 +/- 0.201</td>\n",
       "      <td>43.3 +/- 42.0</td>\n",
       "      <td>704 , 180</td>\n",
       "      <td>0.202 +/- 0.231</td>\n",
       "      <td>10242.8 +/- 38474.3</td>\n",
       "      <td>704 , 180</td>\n",
       "    </tr>\n",
       "  </tbody>\n",
       "</table>\n",
       "</div>"
      ],
      "text/plain": [
       "                                                  mae_coef_1     mre_coef_1  \\\n",
       "Filtering [1, 2, 3], r2>None, Poly_KR           0.3 +/- 0.28  30.9 +/- 29.1   \n",
       "Filtering [1, 2, 3], r2>None, RBF_SVR        0.016 +/- 0.003    1.6 +/- 0.3   \n",
       "Filtering [1, 2, 3], r2>None, Linear_SVR      0.022 +/- 0.01    2.2 +/- 1.0   \n",
       "Filtering [1, 2, 3], r2>0, Poly_KR              0.3 +/- 0.28  30.9 +/- 29.1   \n",
       "Filtering [1, 2, 3], r2>0, RBF_SVR           0.016 +/- 0.003    1.6 +/- 0.3   \n",
       "Filtering [1, 2, 3], r2>0, Linear_SVR         0.022 +/- 0.01    2.2 +/- 1.0   \n",
       "Filtering [1, 2, 3], r2>0.9, Poly_KR         0.235 +/- 0.196  24.1 +/- 20.1   \n",
       "Filtering [1, 2, 3], r2>0.9, RBF_SVR         0.017 +/- 0.004    1.7 +/- 0.4   \n",
       "Filtering [1, 2, 3], r2>0.9, Linear_SVR      0.023 +/- 0.007    2.3 +/- 0.8   \n",
       "Filtering [1, 2, 3, 4], r2>None, Poly_KR     0.241 +/- 0.196  24.8 +/- 20.2   \n",
       "Filtering [1, 2, 3, 4], r2>None, RBF_SVR     0.014 +/- 0.003    1.5 +/- 0.3   \n",
       "Filtering [1, 2, 3, 4], r2>None, Linear_SVR  0.019 +/- 0.006    1.9 +/- 0.6   \n",
       "Filtering [1, 2, 3, 4], r2>0, Poly_KR        0.241 +/- 0.196  24.8 +/- 20.2   \n",
       "Filtering [1, 2, 3, 4], r2>0, RBF_SVR        0.014 +/- 0.003    1.5 +/- 0.3   \n",
       "Filtering [1, 2, 3, 4], r2>0, Linear_SVR     0.019 +/- 0.006    1.9 +/- 0.6   \n",
       "Filtering [1, 2, 3, 4], r2>0.9, Poly_KR      0.241 +/- 0.196  24.8 +/- 20.2   \n",
       "Filtering [1, 2, 3, 4], r2>0.9, RBF_SVR      0.014 +/- 0.002    1.5 +/- 0.3   \n",
       "Filtering [1, 2, 3, 4], r2>0.9, Linear_SVR   0.018 +/- 0.006    1.9 +/- 0.6   \n",
       "\n",
       "                                            train_test_shape       mae_coef_2  \\\n",
       "Filtering [1, 2, 3], r2>None, Poly_KR              783 , 202  6.991 +/- 4.835   \n",
       "Filtering [1, 2, 3], r2>None, RBF_SVR              783 , 202  5.979 +/- 3.865   \n",
       "Filtering [1, 2, 3], r2>None, Linear_SVR           783 , 202  5.889 +/- 3.831   \n",
       "Filtering [1, 2, 3], r2>0, Poly_KR                 783 , 202  6.991 +/- 4.835   \n",
       "Filtering [1, 2, 3], r2>0, RBF_SVR                 783 , 202  5.979 +/- 3.865   \n",
       "Filtering [1, 2, 3], r2>0, Linear_SVR              783 , 202  5.889 +/- 3.831   \n",
       "Filtering [1, 2, 3], r2>0.9, Poly_KR               736 , 189  5.501 +/- 3.666   \n",
       "Filtering [1, 2, 3], r2>0.9, RBF_SVR               736 , 189   4.945 +/- 3.43   \n",
       "Filtering [1, 2, 3], r2>0.9, Linear_SVR            736 , 189  4.893 +/- 3.346   \n",
       "Filtering [1, 2, 3, 4], r2>None, Poly_KR           705 , 180  5.521 +/- 2.528   \n",
       "Filtering [1, 2, 3, 4], r2>None, RBF_SVR           705 , 180  4.768 +/- 2.403   \n",
       "Filtering [1, 2, 3, 4], r2>None, Linear_SVR        705 , 180  4.925 +/- 2.213   \n",
       "Filtering [1, 2, 3, 4], r2>0, Poly_KR              705 , 180  5.521 +/- 2.528   \n",
       "Filtering [1, 2, 3, 4], r2>0, RBF_SVR              705 , 180  4.768 +/- 2.403   \n",
       "Filtering [1, 2, 3, 4], r2>0, Linear_SVR           705 , 180  4.925 +/- 2.213   \n",
       "Filtering [1, 2, 3, 4], r2>0.9, Poly_KR            704 , 180   5.52 +/- 2.562   \n",
       "Filtering [1, 2, 3, 4], r2>0.9, RBF_SVR            704 , 180  4.729 +/- 2.386   \n",
       "Filtering [1, 2, 3, 4], r2>0.9, Linear_SVR         704 , 180  4.877 +/- 2.185   \n",
       "\n",
       "                                                mre_coef_2 train_test_shape  \\\n",
       "Filtering [1, 2, 3], r2>None, Poly_KR        64.3 +/- 24.3        783 , 202   \n",
       "Filtering [1, 2, 3], r2>None, RBF_SVR        52.9 +/- 17.2        783 , 202   \n",
       "Filtering [1, 2, 3], r2>None, Linear_SVR     57.0 +/- 21.0        783 , 202   \n",
       "Filtering [1, 2, 3], r2>0, Poly_KR           64.3 +/- 24.3        783 , 202   \n",
       "Filtering [1, 2, 3], r2>0, RBF_SVR           52.9 +/- 17.2        783 , 202   \n",
       "Filtering [1, 2, 3], r2>0, Linear_SVR        57.0 +/- 21.0        783 , 202   \n",
       "Filtering [1, 2, 3], r2>0.9, Poly_KR         59.5 +/- 20.4        736 , 189   \n",
       "Filtering [1, 2, 3], r2>0.9, RBF_SVR         49.5 +/- 12.3        736 , 189   \n",
       "Filtering [1, 2, 3], r2>0.9, Linear_SVR      54.7 +/- 20.7        736 , 189   \n",
       "Filtering [1, 2, 3, 4], r2>None, Poly_KR     50.9 +/- 17.5        705 , 180   \n",
       "Filtering [1, 2, 3, 4], r2>None, RBF_SVR      41.7 +/- 7.5        705 , 180   \n",
       "Filtering [1, 2, 3, 4], r2>None, Linear_SVR  47.8 +/- 14.7        705 , 180   \n",
       "Filtering [1, 2, 3, 4], r2>0, Poly_KR        50.9 +/- 17.5        705 , 180   \n",
       "Filtering [1, 2, 3, 4], r2>0, RBF_SVR         41.7 +/- 7.5        705 , 180   \n",
       "Filtering [1, 2, 3, 4], r2>0, Linear_SVR     47.8 +/- 14.7        705 , 180   \n",
       "Filtering [1, 2, 3, 4], r2>0.9, Poly_KR      50.7 +/- 17.6        704 , 180   \n",
       "Filtering [1, 2, 3, 4], r2>0.9, RBF_SVR       41.1 +/- 6.9        704 , 180   \n",
       "Filtering [1, 2, 3, 4], r2>0.9, Linear_SVR   47.1 +/- 14.4        704 , 180   \n",
       "\n",
       "                                                  mae_coef_3      mre_coef_3  \\\n",
       "Filtering [1, 2, 3], r2>None, Poly_KR        0.223 +/- 0.212   37.8 +/- 23.1   \n",
       "Filtering [1, 2, 3], r2>None, RBF_SVR         0.128 +/- 0.08    24.1 +/- 5.7   \n",
       "Filtering [1, 2, 3], r2>None, Linear_SVR     0.328 +/- 0.423   67.6 +/- 87.8   \n",
       "Filtering [1, 2, 3], r2>0, Poly_KR           0.223 +/- 0.212   37.8 +/- 23.1   \n",
       "Filtering [1, 2, 3], r2>0, RBF_SVR            0.128 +/- 0.08    24.1 +/- 5.7   \n",
       "Filtering [1, 2, 3], r2>0, Linear_SVR        0.328 +/- 0.423   67.6 +/- 87.8   \n",
       "Filtering [1, 2, 3], r2>0.9, Poly_KR         0.148 +/- 0.086   31.8 +/- 14.1   \n",
       "Filtering [1, 2, 3], r2>0.9, RBF_SVR         0.093 +/- 0.025    24.3 +/- 9.8   \n",
       "Filtering [1, 2, 3], r2>0.9, Linear_SVR      0.173 +/- 0.227   44.2 +/- 51.2   \n",
       "Filtering [1, 2, 3, 4], r2>None, Poly_KR     0.157 +/- 0.103   31.8 +/- 15.2   \n",
       "Filtering [1, 2, 3, 4], r2>None, RBF_SVR     0.099 +/- 0.038    23.7 +/- 8.2   \n",
       "Filtering [1, 2, 3, 4], r2>None, Linear_SVR  0.367 +/- 0.582  88.1 +/- 136.0   \n",
       "Filtering [1, 2, 3, 4], r2>0, Poly_KR        0.157 +/- 0.103   31.8 +/- 15.2   \n",
       "Filtering [1, 2, 3, 4], r2>0, RBF_SVR        0.099 +/- 0.038    23.7 +/- 8.2   \n",
       "Filtering [1, 2, 3, 4], r2>0, Linear_SVR     0.367 +/- 0.582  88.1 +/- 136.0   \n",
       "Filtering [1, 2, 3, 4], r2>0.9, Poly_KR      0.162 +/- 0.105   32.7 +/- 15.4   \n",
       "Filtering [1, 2, 3, 4], r2>0.9, RBF_SVR        0.1 +/- 0.038    23.6 +/- 8.1   \n",
       "Filtering [1, 2, 3, 4], r2>0.9, Linear_SVR   0.179 +/- 0.201   43.3 +/- 42.0   \n",
       "\n",
       "                                            train_test_shape       mae_coef_4  \\\n",
       "Filtering [1, 2, 3], r2>None, Poly_KR              783 , 202  0.232 +/- 0.301   \n",
       "Filtering [1, 2, 3], r2>None, RBF_SVR              783 , 202   0.218 +/- 0.31   \n",
       "Filtering [1, 2, 3], r2>None, Linear_SVR           783 , 202  0.458 +/- 0.555   \n",
       "Filtering [1, 2, 3], r2>0, Poly_KR                 783 , 202  0.232 +/- 0.301   \n",
       "Filtering [1, 2, 3], r2>0, RBF_SVR                 783 , 202   0.218 +/- 0.31   \n",
       "Filtering [1, 2, 3], r2>0, Linear_SVR              783 , 202  0.458 +/- 0.555   \n",
       "Filtering [1, 2, 3], r2>0.9, Poly_KR               736 , 189  0.088 +/- 0.031   \n",
       "Filtering [1, 2, 3], r2>0.9, RBF_SVR               736 , 189  0.077 +/- 0.029   \n",
       "Filtering [1, 2, 3], r2>0.9, Linear_SVR            736 , 189   0.16 +/- 0.193   \n",
       "Filtering [1, 2, 3, 4], r2>None, Poly_KR           705 , 180  0.096 +/- 0.047   \n",
       "Filtering [1, 2, 3, 4], r2>None, RBF_SVR           705 , 180  0.086 +/- 0.049   \n",
       "Filtering [1, 2, 3, 4], r2>None, Linear_SVR        705 , 180  0.604 +/- 1.167   \n",
       "Filtering [1, 2, 3, 4], r2>0, Poly_KR              705 , 180  0.096 +/- 0.047   \n",
       "Filtering [1, 2, 3, 4], r2>0, RBF_SVR              705 , 180  0.086 +/- 0.049   \n",
       "Filtering [1, 2, 3, 4], r2>0, Linear_SVR           705 , 180  0.604 +/- 1.167   \n",
       "Filtering [1, 2, 3, 4], r2>0.9, Poly_KR            704 , 180  0.092 +/- 0.052   \n",
       "Filtering [1, 2, 3, 4], r2>0.9, RBF_SVR            704 , 180  0.087 +/- 0.049   \n",
       "Filtering [1, 2, 3, 4], r2>0.9, Linear_SVR         704 , 180  0.202 +/- 0.231   \n",
       "\n",
       "                                                      mre_coef_4  \\\n",
       "Filtering [1, 2, 3], r2>None, Poly_KR            -49.2 +/- 525.2   \n",
       "Filtering [1, 2, 3], r2>None, RBF_SVR              8.5 +/- 511.9   \n",
       "Filtering [1, 2, 3], r2>None, Linear_SVR      -1339.7 +/- 4881.8   \n",
       "Filtering [1, 2, 3], r2>0, Poly_KR               -49.2 +/- 525.2   \n",
       "Filtering [1, 2, 3], r2>0, RBF_SVR                 8.5 +/- 511.9   \n",
       "Filtering [1, 2, 3], r2>0, Linear_SVR         -1339.7 +/- 4881.8   \n",
       "Filtering [1, 2, 3], r2>0.9, Poly_KR             -55.2 +/- 500.5   \n",
       "Filtering [1, 2, 3], r2>0.9, RBF_SVR             -28.3 +/- 524.0   \n",
       "Filtering [1, 2, 3], r2>0.9, Linear_SVR         -90.3 +/- 1009.5   \n",
       "Filtering [1, 2, 3, 4], r2>None, Poly_KR      7807.6 +/- 23517.4   \n",
       "Filtering [1, 2, 3, 4], r2>None, RBF_SVR      9154.3 +/- 27483.3   \n",
       "Filtering [1, 2, 3, 4], r2>None, Linear_SVR  12825.0 +/- 38588.1   \n",
       "Filtering [1, 2, 3, 4], r2>0, Poly_KR         7807.6 +/- 23517.4   \n",
       "Filtering [1, 2, 3, 4], r2>0, RBF_SVR         9154.3 +/- 27483.3   \n",
       "Filtering [1, 2, 3, 4], r2>0, Linear_SVR     12825.0 +/- 38588.1   \n",
       "Filtering [1, 2, 3, 4], r2>0.9, Poly_KR       7760.4 +/- 23532.4   \n",
       "Filtering [1, 2, 3, 4], r2>0.9, RBF_SVR       9156.0 +/- 27482.8   \n",
       "Filtering [1, 2, 3, 4], r2>0.9, Linear_SVR   10242.8 +/- 38474.3   \n",
       "\n",
       "                                            train_test_shape  \n",
       "Filtering [1, 2, 3], r2>None, Poly_KR              783 , 202  \n",
       "Filtering [1, 2, 3], r2>None, RBF_SVR              783 , 202  \n",
       "Filtering [1, 2, 3], r2>None, Linear_SVR           783 , 202  \n",
       "Filtering [1, 2, 3], r2>0, Poly_KR                 783 , 202  \n",
       "Filtering [1, 2, 3], r2>0, RBF_SVR                 783 , 202  \n",
       "Filtering [1, 2, 3], r2>0, Linear_SVR              783 , 202  \n",
       "Filtering [1, 2, 3], r2>0.9, Poly_KR               736 , 189  \n",
       "Filtering [1, 2, 3], r2>0.9, RBF_SVR               736 , 189  \n",
       "Filtering [1, 2, 3], r2>0.9, Linear_SVR            736 , 189  \n",
       "Filtering [1, 2, 3, 4], r2>None, Poly_KR           705 , 180  \n",
       "Filtering [1, 2, 3, 4], r2>None, RBF_SVR           705 , 180  \n",
       "Filtering [1, 2, 3, 4], r2>None, Linear_SVR        705 , 180  \n",
       "Filtering [1, 2, 3, 4], r2>0, Poly_KR              705 , 180  \n",
       "Filtering [1, 2, 3, 4], r2>0, RBF_SVR              705 , 180  \n",
       "Filtering [1, 2, 3, 4], r2>0, Linear_SVR           705 , 180  \n",
       "Filtering [1, 2, 3, 4], r2>0.9, Poly_KR            704 , 180  \n",
       "Filtering [1, 2, 3, 4], r2>0.9, RBF_SVR            704 , 180  \n",
       "Filtering [1, 2, 3, 4], r2>0.9, Linear_SVR         704 , 180  "
      ]
     },
     "execution_count": 10,
     "metadata": {},
     "output_type": "execute_result"
    }
   ],
   "source": [
    "fitting_function = \"logistic4\"\n",
    "df2_results = results_1[fitting_function]\n",
    "df2_results = pd.concat([results_1[fitting_function],results_2[fitting_function],\n",
    "                        results_3[fitting_function], results_4[fitting_function]],axis=1)\n",
    "df2_results"
   ]
  },
  {
   "cell_type": "code",
   "execution_count": 11,
   "metadata": {},
   "outputs": [
    {
     "data": {
      "text/html": [
       "<div>\n",
       "<style scoped>\n",
       "    .dataframe tbody tr th:only-of-type {\n",
       "        vertical-align: middle;\n",
       "    }\n",
       "\n",
       "    .dataframe tbody tr th {\n",
       "        vertical-align: top;\n",
       "    }\n",
       "\n",
       "    .dataframe thead th {\n",
       "        text-align: right;\n",
       "    }\n",
       "</style>\n",
       "<table border=\"1\" class=\"dataframe\">\n",
       "  <thead>\n",
       "    <tr style=\"text-align: right;\">\n",
       "      <th></th>\n",
       "      <th>mae_coef_1</th>\n",
       "      <th>mre_coef_1</th>\n",
       "      <th>train_test_shape</th>\n",
       "      <th>mae_coef_2</th>\n",
       "      <th>mre_coef_2</th>\n",
       "      <th>train_test_shape</th>\n",
       "      <th>mae_coef_3</th>\n",
       "      <th>mre_coef_3</th>\n",
       "      <th>train_test_shape</th>\n",
       "    </tr>\n",
       "  </thead>\n",
       "  <tbody>\n",
       "    <tr>\n",
       "      <th>Filtering [1, 2, 3], r2&gt;None, Poly_KR</th>\n",
       "      <td>0.132 +/- 0.055</td>\n",
       "      <td>-37.5 +/- 23.6</td>\n",
       "      <td>783 , 202</td>\n",
       "      <td>2.977 +/- 1.52</td>\n",
       "      <td>-48.6 +/- 19.9</td>\n",
       "      <td>783 , 202</td>\n",
       "      <td>0.066 +/- 0.027</td>\n",
       "      <td>278.3 +/- 779.4</td>\n",
       "      <td>783 , 202</td>\n",
       "    </tr>\n",
       "    <tr>\n",
       "      <th>Filtering [1, 2, 3], r2&gt;None, RBF_SVR</th>\n",
       "      <td>0.086 +/- 0.018</td>\n",
       "      <td>-26.1 +/- 8.1</td>\n",
       "      <td>783 , 202</td>\n",
       "      <td>2.437 +/- 1.256</td>\n",
       "      <td>-40.7 +/- 18.5</td>\n",
       "      <td>783 , 202</td>\n",
       "      <td>0.067 +/- 0.026</td>\n",
       "      <td>349.2 +/- 714.2</td>\n",
       "      <td>783 , 202</td>\n",
       "    </tr>\n",
       "    <tr>\n",
       "      <th>Filtering [1, 2, 3], r2&gt;None, Linear_SVR</th>\n",
       "      <td>0.097 +/- 0.027</td>\n",
       "      <td>-33.0 +/- 16.2</td>\n",
       "      <td>783 , 202</td>\n",
       "      <td>2.372 +/- 1.221</td>\n",
       "      <td>-44.2 +/- 20.7</td>\n",
       "      <td>783 , 202</td>\n",
       "      <td>0.092 +/- 0.026</td>\n",
       "      <td>626.5 +/- 1171.6</td>\n",
       "      <td>783 , 202</td>\n",
       "    </tr>\n",
       "    <tr>\n",
       "      <th>Filtering [1, 2, 3], r2&gt;0, Poly_KR</th>\n",
       "      <td>0.132 +/- 0.055</td>\n",
       "      <td>-37.5 +/- 23.6</td>\n",
       "      <td>783 , 202</td>\n",
       "      <td>2.977 +/- 1.52</td>\n",
       "      <td>-48.6 +/- 19.9</td>\n",
       "      <td>783 , 202</td>\n",
       "      <td>0.066 +/- 0.027</td>\n",
       "      <td>278.3 +/- 779.4</td>\n",
       "      <td>783 , 202</td>\n",
       "    </tr>\n",
       "    <tr>\n",
       "      <th>Filtering [1, 2, 3], r2&gt;0, RBF_SVR</th>\n",
       "      <td>0.086 +/- 0.018</td>\n",
       "      <td>-26.1 +/- 8.1</td>\n",
       "      <td>783 , 202</td>\n",
       "      <td>2.437 +/- 1.256</td>\n",
       "      <td>-40.7 +/- 18.5</td>\n",
       "      <td>783 , 202</td>\n",
       "      <td>0.067 +/- 0.026</td>\n",
       "      <td>349.2 +/- 714.2</td>\n",
       "      <td>783 , 202</td>\n",
       "    </tr>\n",
       "    <tr>\n",
       "      <th>Filtering [1, 2, 3], r2&gt;0, Linear_SVR</th>\n",
       "      <td>0.097 +/- 0.027</td>\n",
       "      <td>-33.0 +/- 16.2</td>\n",
       "      <td>783 , 202</td>\n",
       "      <td>2.372 +/- 1.221</td>\n",
       "      <td>-44.2 +/- 20.7</td>\n",
       "      <td>783 , 202</td>\n",
       "      <td>0.092 +/- 0.026</td>\n",
       "      <td>626.5 +/- 1171.6</td>\n",
       "      <td>783 , 202</td>\n",
       "    </tr>\n",
       "    <tr>\n",
       "      <th>Filtering [1, 2, 3], r2&gt;0.9, Poly_KR</th>\n",
       "      <td>0.124 +/- 0.046</td>\n",
       "      <td>-31.6 +/- 12.9</td>\n",
       "      <td>736 , 188</td>\n",
       "      <td>2.708 +/- 1.185</td>\n",
       "      <td>-41.6 +/- 10.9</td>\n",
       "      <td>736 , 188</td>\n",
       "      <td>0.06 +/- 0.027</td>\n",
       "      <td>321.5 +/- 829.9</td>\n",
       "      <td>736 , 188</td>\n",
       "    </tr>\n",
       "    <tr>\n",
       "      <th>Filtering [1, 2, 3], r2&gt;0.9, RBF_SVR</th>\n",
       "      <td>0.089 +/- 0.026</td>\n",
       "      <td>-25.9 +/- 8.6</td>\n",
       "      <td>736 , 188</td>\n",
       "      <td>2.361 +/- 1.22</td>\n",
       "      <td>-36.7 +/- 12.9</td>\n",
       "      <td>736 , 188</td>\n",
       "      <td>0.06 +/- 0.028</td>\n",
       "      <td>315.3 +/- 729.6</td>\n",
       "      <td>736 , 188</td>\n",
       "    </tr>\n",
       "    <tr>\n",
       "      <th>Filtering [1, 2, 3], r2&gt;0.9, Linear_SVR</th>\n",
       "      <td>0.092 +/- 0.025</td>\n",
       "      <td>-28.9 +/- 10.6</td>\n",
       "      <td>736 , 188</td>\n",
       "      <td>2.44 +/- 1.328</td>\n",
       "      <td>-43.4 +/- 17.6</td>\n",
       "      <td>736 , 188</td>\n",
       "      <td>0.091 +/- 0.024</td>\n",
       "      <td>643.6 +/- 1259.8</td>\n",
       "      <td>736 , 188</td>\n",
       "    </tr>\n",
       "    <tr>\n",
       "      <th>Filtering [1, 2, 3, 4], r2&gt;None, Poly_KR</th>\n",
       "      <td>0.122 +/- 0.03</td>\n",
       "      <td>-32.7 +/- 10.8</td>\n",
       "      <td>705 , 180</td>\n",
       "      <td>2.443 +/- 0.788</td>\n",
       "      <td>-38.2 +/- 9.2</td>\n",
       "      <td>705 , 180</td>\n",
       "      <td>0.066 +/- 0.032</td>\n",
       "      <td>424.7 +/- 1014.0</td>\n",
       "      <td>705 , 180</td>\n",
       "    </tr>\n",
       "    <tr>\n",
       "      <th>Filtering [1, 2, 3, 4], r2&gt;None, RBF_SVR</th>\n",
       "      <td>0.089 +/- 0.026</td>\n",
       "      <td>-28.6 +/- 11.6</td>\n",
       "      <td>705 , 180</td>\n",
       "      <td>1.966 +/- 0.904</td>\n",
       "      <td>-30.0 +/- 7.8</td>\n",
       "      <td>705 , 180</td>\n",
       "      <td>0.065 +/- 0.033</td>\n",
       "      <td>412.4 +/- 935.0</td>\n",
       "      <td>705 , 180</td>\n",
       "    </tr>\n",
       "    <tr>\n",
       "      <th>Filtering [1, 2, 3, 4], r2&gt;None, Linear_SVR</th>\n",
       "      <td>0.092 +/- 0.025</td>\n",
       "      <td>-33.2 +/- 16.3</td>\n",
       "      <td>705 , 180</td>\n",
       "      <td>2.145 +/- 1.016</td>\n",
       "      <td>-37.8 +/- 15.7</td>\n",
       "      <td>705 , 180</td>\n",
       "      <td>0.11 +/- 0.026</td>\n",
       "      <td>548.8 +/- 1226.0</td>\n",
       "      <td>705 , 180</td>\n",
       "    </tr>\n",
       "    <tr>\n",
       "      <th>Filtering [1, 2, 3, 4], r2&gt;0, Poly_KR</th>\n",
       "      <td>0.122 +/- 0.03</td>\n",
       "      <td>-32.7 +/- 10.8</td>\n",
       "      <td>705 , 180</td>\n",
       "      <td>2.443 +/- 0.788</td>\n",
       "      <td>-38.2 +/- 9.2</td>\n",
       "      <td>705 , 180</td>\n",
       "      <td>0.066 +/- 0.032</td>\n",
       "      <td>424.7 +/- 1014.0</td>\n",
       "      <td>705 , 180</td>\n",
       "    </tr>\n",
       "    <tr>\n",
       "      <th>Filtering [1, 2, 3, 4], r2&gt;0, RBF_SVR</th>\n",
       "      <td>0.089 +/- 0.026</td>\n",
       "      <td>-28.6 +/- 11.6</td>\n",
       "      <td>705 , 180</td>\n",
       "      <td>1.966 +/- 0.904</td>\n",
       "      <td>-30.0 +/- 7.8</td>\n",
       "      <td>705 , 180</td>\n",
       "      <td>0.065 +/- 0.033</td>\n",
       "      <td>412.4 +/- 935.0</td>\n",
       "      <td>705 , 180</td>\n",
       "    </tr>\n",
       "    <tr>\n",
       "      <th>Filtering [1, 2, 3, 4], r2&gt;0, Linear_SVR</th>\n",
       "      <td>0.092 +/- 0.025</td>\n",
       "      <td>-33.2 +/- 16.3</td>\n",
       "      <td>705 , 180</td>\n",
       "      <td>2.145 +/- 1.016</td>\n",
       "      <td>-37.8 +/- 15.7</td>\n",
       "      <td>705 , 180</td>\n",
       "      <td>0.11 +/- 0.026</td>\n",
       "      <td>548.8 +/- 1226.0</td>\n",
       "      <td>705 , 180</td>\n",
       "    </tr>\n",
       "    <tr>\n",
       "      <th>Filtering [1, 2, 3, 4], r2&gt;0.9, Poly_KR</th>\n",
       "      <td>0.12 +/- 0.029</td>\n",
       "      <td>-33.6 +/- 10.4</td>\n",
       "      <td>704 , 180</td>\n",
       "      <td>2.484 +/- 0.848</td>\n",
       "      <td>-40.7 +/- 11.7</td>\n",
       "      <td>704 , 180</td>\n",
       "      <td>0.068 +/- 0.033</td>\n",
       "      <td>402.9 +/- 1044.2</td>\n",
       "      <td>704 , 180</td>\n",
       "    </tr>\n",
       "    <tr>\n",
       "      <th>Filtering [1, 2, 3, 4], r2&gt;0.9, RBF_SVR</th>\n",
       "      <td>0.091 +/- 0.027</td>\n",
       "      <td>-30.8 +/- 12.1</td>\n",
       "      <td>704 , 180</td>\n",
       "      <td>2.011 +/- 0.988</td>\n",
       "      <td>-31.9 +/- 10.6</td>\n",
       "      <td>704 , 180</td>\n",
       "      <td>0.068 +/- 0.033</td>\n",
       "      <td>392.8 +/- 959.6</td>\n",
       "      <td>704 , 180</td>\n",
       "    </tr>\n",
       "    <tr>\n",
       "      <th>Filtering [1, 2, 3, 4], r2&gt;0.9, Linear_SVR</th>\n",
       "      <td>0.096 +/- 0.03</td>\n",
       "      <td>-36.0 +/- 16.7</td>\n",
       "      <td>704 , 180</td>\n",
       "      <td>2.107 +/- 1.007</td>\n",
       "      <td>-39.8 +/- 19.7</td>\n",
       "      <td>704 , 180</td>\n",
       "      <td>0.109 +/- 0.031</td>\n",
       "      <td>464.4 +/- 1348.4</td>\n",
       "      <td>704 , 180</td>\n",
       "    </tr>\n",
       "  </tbody>\n",
       "</table>\n",
       "</div>"
      ],
      "text/plain": [
       "                                                  mae_coef_1      mre_coef_1  \\\n",
       "Filtering [1, 2, 3], r2>None, Poly_KR        0.132 +/- 0.055  -37.5 +/- 23.6   \n",
       "Filtering [1, 2, 3], r2>None, RBF_SVR        0.086 +/- 0.018   -26.1 +/- 8.1   \n",
       "Filtering [1, 2, 3], r2>None, Linear_SVR     0.097 +/- 0.027  -33.0 +/- 16.2   \n",
       "Filtering [1, 2, 3], r2>0, Poly_KR           0.132 +/- 0.055  -37.5 +/- 23.6   \n",
       "Filtering [1, 2, 3], r2>0, RBF_SVR           0.086 +/- 0.018   -26.1 +/- 8.1   \n",
       "Filtering [1, 2, 3], r2>0, Linear_SVR        0.097 +/- 0.027  -33.0 +/- 16.2   \n",
       "Filtering [1, 2, 3], r2>0.9, Poly_KR         0.124 +/- 0.046  -31.6 +/- 12.9   \n",
       "Filtering [1, 2, 3], r2>0.9, RBF_SVR         0.089 +/- 0.026   -25.9 +/- 8.6   \n",
       "Filtering [1, 2, 3], r2>0.9, Linear_SVR      0.092 +/- 0.025  -28.9 +/- 10.6   \n",
       "Filtering [1, 2, 3, 4], r2>None, Poly_KR      0.122 +/- 0.03  -32.7 +/- 10.8   \n",
       "Filtering [1, 2, 3, 4], r2>None, RBF_SVR     0.089 +/- 0.026  -28.6 +/- 11.6   \n",
       "Filtering [1, 2, 3, 4], r2>None, Linear_SVR  0.092 +/- 0.025  -33.2 +/- 16.3   \n",
       "Filtering [1, 2, 3, 4], r2>0, Poly_KR         0.122 +/- 0.03  -32.7 +/- 10.8   \n",
       "Filtering [1, 2, 3, 4], r2>0, RBF_SVR        0.089 +/- 0.026  -28.6 +/- 11.6   \n",
       "Filtering [1, 2, 3, 4], r2>0, Linear_SVR     0.092 +/- 0.025  -33.2 +/- 16.3   \n",
       "Filtering [1, 2, 3, 4], r2>0.9, Poly_KR       0.12 +/- 0.029  -33.6 +/- 10.4   \n",
       "Filtering [1, 2, 3, 4], r2>0.9, RBF_SVR      0.091 +/- 0.027  -30.8 +/- 12.1   \n",
       "Filtering [1, 2, 3, 4], r2>0.9, Linear_SVR    0.096 +/- 0.03  -36.0 +/- 16.7   \n",
       "\n",
       "                                            train_test_shape       mae_coef_2  \\\n",
       "Filtering [1, 2, 3], r2>None, Poly_KR              783 , 202   2.977 +/- 1.52   \n",
       "Filtering [1, 2, 3], r2>None, RBF_SVR              783 , 202  2.437 +/- 1.256   \n",
       "Filtering [1, 2, 3], r2>None, Linear_SVR           783 , 202  2.372 +/- 1.221   \n",
       "Filtering [1, 2, 3], r2>0, Poly_KR                 783 , 202   2.977 +/- 1.52   \n",
       "Filtering [1, 2, 3], r2>0, RBF_SVR                 783 , 202  2.437 +/- 1.256   \n",
       "Filtering [1, 2, 3], r2>0, Linear_SVR              783 , 202  2.372 +/- 1.221   \n",
       "Filtering [1, 2, 3], r2>0.9, Poly_KR               736 , 188  2.708 +/- 1.185   \n",
       "Filtering [1, 2, 3], r2>0.9, RBF_SVR               736 , 188   2.361 +/- 1.22   \n",
       "Filtering [1, 2, 3], r2>0.9, Linear_SVR            736 , 188   2.44 +/- 1.328   \n",
       "Filtering [1, 2, 3, 4], r2>None, Poly_KR           705 , 180  2.443 +/- 0.788   \n",
       "Filtering [1, 2, 3, 4], r2>None, RBF_SVR           705 , 180  1.966 +/- 0.904   \n",
       "Filtering [1, 2, 3, 4], r2>None, Linear_SVR        705 , 180  2.145 +/- 1.016   \n",
       "Filtering [1, 2, 3, 4], r2>0, Poly_KR              705 , 180  2.443 +/- 0.788   \n",
       "Filtering [1, 2, 3, 4], r2>0, RBF_SVR              705 , 180  1.966 +/- 0.904   \n",
       "Filtering [1, 2, 3, 4], r2>0, Linear_SVR           705 , 180  2.145 +/- 1.016   \n",
       "Filtering [1, 2, 3, 4], r2>0.9, Poly_KR            704 , 180  2.484 +/- 0.848   \n",
       "Filtering [1, 2, 3, 4], r2>0.9, RBF_SVR            704 , 180  2.011 +/- 0.988   \n",
       "Filtering [1, 2, 3, 4], r2>0.9, Linear_SVR         704 , 180  2.107 +/- 1.007   \n",
       "\n",
       "                                                 mre_coef_2 train_test_shape  \\\n",
       "Filtering [1, 2, 3], r2>None, Poly_KR        -48.6 +/- 19.9        783 , 202   \n",
       "Filtering [1, 2, 3], r2>None, RBF_SVR        -40.7 +/- 18.5        783 , 202   \n",
       "Filtering [1, 2, 3], r2>None, Linear_SVR     -44.2 +/- 20.7        783 , 202   \n",
       "Filtering [1, 2, 3], r2>0, Poly_KR           -48.6 +/- 19.9        783 , 202   \n",
       "Filtering [1, 2, 3], r2>0, RBF_SVR           -40.7 +/- 18.5        783 , 202   \n",
       "Filtering [1, 2, 3], r2>0, Linear_SVR        -44.2 +/- 20.7        783 , 202   \n",
       "Filtering [1, 2, 3], r2>0.9, Poly_KR         -41.6 +/- 10.9        736 , 188   \n",
       "Filtering [1, 2, 3], r2>0.9, RBF_SVR         -36.7 +/- 12.9        736 , 188   \n",
       "Filtering [1, 2, 3], r2>0.9, Linear_SVR      -43.4 +/- 17.6        736 , 188   \n",
       "Filtering [1, 2, 3, 4], r2>None, Poly_KR      -38.2 +/- 9.2        705 , 180   \n",
       "Filtering [1, 2, 3, 4], r2>None, RBF_SVR      -30.0 +/- 7.8        705 , 180   \n",
       "Filtering [1, 2, 3, 4], r2>None, Linear_SVR  -37.8 +/- 15.7        705 , 180   \n",
       "Filtering [1, 2, 3, 4], r2>0, Poly_KR         -38.2 +/- 9.2        705 , 180   \n",
       "Filtering [1, 2, 3, 4], r2>0, RBF_SVR         -30.0 +/- 7.8        705 , 180   \n",
       "Filtering [1, 2, 3, 4], r2>0, Linear_SVR     -37.8 +/- 15.7        705 , 180   \n",
       "Filtering [1, 2, 3, 4], r2>0.9, Poly_KR      -40.7 +/- 11.7        704 , 180   \n",
       "Filtering [1, 2, 3, 4], r2>0.9, RBF_SVR      -31.9 +/- 10.6        704 , 180   \n",
       "Filtering [1, 2, 3, 4], r2>0.9, Linear_SVR   -39.8 +/- 19.7        704 , 180   \n",
       "\n",
       "                                                  mae_coef_3  \\\n",
       "Filtering [1, 2, 3], r2>None, Poly_KR        0.066 +/- 0.027   \n",
       "Filtering [1, 2, 3], r2>None, RBF_SVR        0.067 +/- 0.026   \n",
       "Filtering [1, 2, 3], r2>None, Linear_SVR     0.092 +/- 0.026   \n",
       "Filtering [1, 2, 3], r2>0, Poly_KR           0.066 +/- 0.027   \n",
       "Filtering [1, 2, 3], r2>0, RBF_SVR           0.067 +/- 0.026   \n",
       "Filtering [1, 2, 3], r2>0, Linear_SVR        0.092 +/- 0.026   \n",
       "Filtering [1, 2, 3], r2>0.9, Poly_KR          0.06 +/- 0.027   \n",
       "Filtering [1, 2, 3], r2>0.9, RBF_SVR          0.06 +/- 0.028   \n",
       "Filtering [1, 2, 3], r2>0.9, Linear_SVR      0.091 +/- 0.024   \n",
       "Filtering [1, 2, 3, 4], r2>None, Poly_KR     0.066 +/- 0.032   \n",
       "Filtering [1, 2, 3, 4], r2>None, RBF_SVR     0.065 +/- 0.033   \n",
       "Filtering [1, 2, 3, 4], r2>None, Linear_SVR   0.11 +/- 0.026   \n",
       "Filtering [1, 2, 3, 4], r2>0, Poly_KR        0.066 +/- 0.032   \n",
       "Filtering [1, 2, 3, 4], r2>0, RBF_SVR        0.065 +/- 0.033   \n",
       "Filtering [1, 2, 3, 4], r2>0, Linear_SVR      0.11 +/- 0.026   \n",
       "Filtering [1, 2, 3, 4], r2>0.9, Poly_KR      0.068 +/- 0.033   \n",
       "Filtering [1, 2, 3, 4], r2>0.9, RBF_SVR      0.068 +/- 0.033   \n",
       "Filtering [1, 2, 3, 4], r2>0.9, Linear_SVR   0.109 +/- 0.031   \n",
       "\n",
       "                                                   mre_coef_3 train_test_shape  \n",
       "Filtering [1, 2, 3], r2>None, Poly_KR         278.3 +/- 779.4        783 , 202  \n",
       "Filtering [1, 2, 3], r2>None, RBF_SVR         349.2 +/- 714.2        783 , 202  \n",
       "Filtering [1, 2, 3], r2>None, Linear_SVR     626.5 +/- 1171.6        783 , 202  \n",
       "Filtering [1, 2, 3], r2>0, Poly_KR            278.3 +/- 779.4        783 , 202  \n",
       "Filtering [1, 2, 3], r2>0, RBF_SVR            349.2 +/- 714.2        783 , 202  \n",
       "Filtering [1, 2, 3], r2>0, Linear_SVR        626.5 +/- 1171.6        783 , 202  \n",
       "Filtering [1, 2, 3], r2>0.9, Poly_KR          321.5 +/- 829.9        736 , 188  \n",
       "Filtering [1, 2, 3], r2>0.9, RBF_SVR          315.3 +/- 729.6        736 , 188  \n",
       "Filtering [1, 2, 3], r2>0.9, Linear_SVR      643.6 +/- 1259.8        736 , 188  \n",
       "Filtering [1, 2, 3, 4], r2>None, Poly_KR     424.7 +/- 1014.0        705 , 180  \n",
       "Filtering [1, 2, 3, 4], r2>None, RBF_SVR      412.4 +/- 935.0        705 , 180  \n",
       "Filtering [1, 2, 3, 4], r2>None, Linear_SVR  548.8 +/- 1226.0        705 , 180  \n",
       "Filtering [1, 2, 3, 4], r2>0, Poly_KR        424.7 +/- 1014.0        705 , 180  \n",
       "Filtering [1, 2, 3, 4], r2>0, RBF_SVR         412.4 +/- 935.0        705 , 180  \n",
       "Filtering [1, 2, 3, 4], r2>0, Linear_SVR     548.8 +/- 1226.0        705 , 180  \n",
       "Filtering [1, 2, 3, 4], r2>0.9, Poly_KR      402.9 +/- 1044.2        704 , 180  \n",
       "Filtering [1, 2, 3, 4], r2>0.9, RBF_SVR       392.8 +/- 959.6        704 , 180  \n",
       "Filtering [1, 2, 3, 4], r2>0.9, Linear_SVR   464.4 +/- 1348.4        704 , 180  "
      ]
     },
     "execution_count": 11,
     "metadata": {},
     "output_type": "execute_result"
    }
   ],
   "source": [
    "fitting_function = \"logLogistR\"\n",
    "df3_results = results_1[fitting_function]\n",
    "df3_results = pd.concat([results_1[fitting_function],results_2[fitting_function],\n",
    "                        results_3[fitting_function]],axis=1)\n",
    "df3_results"
   ]
  },
  {
   "cell_type": "markdown",
   "metadata": {},
   "source": [
    "## Reconstruction with Algorithm 1 "
   ]
  },
  {
   "cell_type": "code",
   "execution_count": 12,
   "metadata": {},
   "outputs": [
    {
     "name": "stdout",
     "output_type": "stream",
     "text": [
      "Filtering [1,2,3,4], no restriction r2, sigmoid_4_param / previous parameters\n"
     ]
    },
    {
     "name": "stderr",
     "output_type": "stream",
     "text": [
      "100%|██████████| 2600/2600 [00:03<00:00, 666.53it/s]\n"
     ]
    },
    {
     "name": "stdout",
     "output_type": "stream",
     "text": [
      "Coefficient 1\n",
      "\n",
      "MAE: 0.397 +/- 0.653\n",
      "MRE: 25.0 +/- 10.2\n",
      "\n",
      "(703, 1370) (180, 1370)\n",
      "Coefficient 2\n",
      "\n",
      "MAE: 0.875 +/- 1.993\n",
      "MRE: 4.9 +/- 8.0\n",
      "\n",
      "(703, 1370) (180, 1371)\n",
      "Coefficient 3\n",
      "\n",
      "MAE: 6.003 +/- 2.937\n",
      "MRE: -39.3 +/- 18.0\n",
      "\n",
      "(703, 1370) (180, 1372)\n",
      "Coefficient 4\n",
      "\n",
      "MAE: 0.092 +/- 0.053\n",
      "MRE: 69.7 +/- 28.4\n",
      "\n",
      "(703, 1370) (180, 1373)\n"
     ]
    }
   ],
   "source": [
    "ml_scenario = \"Filtering [1,2,3,4], no restriction r2, sigmoid_4_param / previous parameters\"\n",
    "print(ml_scenario)\n",
    "\n",
    "df= DataPreprocessing(folder_with_original_data= _FOLDER, folder_with_results =_FOLDER_2, \n",
    "                      filtering_scenario = [1,2,3,4],\n",
    "                      first_points_lower_limit = 0.8, last_points_upper_limit = 0.4,\n",
    "                      middle_points_limit =-0.1,\n",
    "                     fitting_function = \"sigmoid_4_param\", \n",
    "                      keep_r2_column = True,\n",
    "                     print_progress_info = False)\n",
    "\n",
    "drug_ids_limit, train_df_limit, test_df_limit = TrainTestSplit(df, min_number_drug_profiles =50, train_ratio= 0.8, \n",
    "                                                               r2_restriction = 0, print_progress_info = False)\n",
    "\n",
    "print(\"Coefficient 1\")\n",
    "coef=1\n",
    "hyperparameters = pd.read_csv(_FOLDER_2+\"hyperparameters_coef\"+str(coef)+\"_alg1.csv\").set_index(\"DRUG_ID\")\n",
    "kernel = \"polynomial\"\n",
    "\n",
    "mae, mre, y_pred1, train_shape, test_shape = TrainTest_KR_Alg1(train_df_limit, test_df_limit, target = \"param_1\", \n",
    "                      drug_ids_list =drug_ids_limit, X_columns = X_columns, \n",
    "                      kernel = kernel, hyperparameters= hyperparameters, print_drug_name = False)\n",
    "\n",
    "                      \n",
    "test_df_limit[\"pred_param_1\"] = y_pred1\n",
    "\n",
    "print(\"Coefficient 2\")\n",
    "coef=2\n",
    "hyperparameters = pd.read_csv(_FOLDER_2+\"hyperparameters_coef\"+str(coef)+\"_alg1.csv\").set_index(\"DRUG_ID\")\n",
    "\n",
    "kernel = \"rbf\"\n",
    "\n",
    "mae, mre, y_pred2, train_shape, test_shape = TrainTest_SVR_Alg1(train_df_limit, test_df_limit, target = \"param_2\", \n",
    "                      drug_ids_list =drug_ids_limit, X_columns = X_columns, \n",
    "                      kernel = kernel, hyperparameters= hyperparameters, print_drug_name = False)\n",
    "                   \n",
    "test_df_limit[\"pred_param_2\"] = y_pred2\n",
    "\n",
    "print(\"Coefficient 3\")\n",
    "coef=3\n",
    "hyperparameters = pd.read_csv(_FOLDER_2+\"hyperparameters_coef\"+str(coef)+\"_alg1.csv\").set_index(\"DRUG_ID\")\n",
    "\n",
    "kernel = \"linear\"\n",
    "\n",
    "mae, mre, y_pred3, train_shape, test_shape = TrainTest_SVR_Alg1(train_df_limit, test_df_limit, target = \"param_3\", \n",
    "                      drug_ids_list =drug_ids_limit, X_columns = X_columns, \n",
    "                      kernel = kernel, hyperparameters= hyperparameters, print_drug_name = False)\n",
    "                   \n",
    "test_df_limit[\"pred_param_3\"] = y_pred3\n",
    "\n",
    "print(\"Coefficient 4\")\n",
    "coef=4\n",
    "hyperparameters = pd.read_csv(_FOLDER_2+\"hyperparameters_coef\"+str(coef)+\"_alg1.csv\").set_index(\"DRUG_ID\")\n",
    "kernel = \"polynomial\"\n",
    "\n",
    "mae, mre, y_pred4, train_shape, test_shape = TrainTest_KR_Alg1(train_df_limit, test_df_limit, target = \"param_4\", \n",
    "                      drug_ids_list =drug_ids_limit, X_columns = X_columns, \n",
    "                      kernel = kernel, hyperparameters= hyperparameters, print_drug_name = False)\n",
    "                      \n",
    "test_df_limit[\"pred_param_4\"] = y_pred4\n",
    "\n",
    "conc_columns= [\"fd_num_\"+str(i) for i in range(10)]\n",
    "response_norm = ['norm_cells_'+str(i) for i in range(10)]\n",
    "\n",
    "r2_fitting = r2_score_fitting(df=test_df_limit, x_columns= conc_columns,fitting_function = \"sigmoid_4_param\",\n",
    "                            y_columns=response_norm, param_columns = [\"pred_param_\"+str(i)for i in range(1,5)])\n",
    "mae_reconstruct = mae_score_reconstruct(df=test_df_limit, x_columns= conc_columns, fitting_function = \"sigmoid_4_param\",\n",
    "                                        y_columns=response_norm, param_columns = [\"pred_param_\"+str(i)for i in range(1,5)])\n",
    "        "
   ]
  },
  {
   "cell_type": "code",
   "execution_count": 13,
   "metadata": {},
   "outputs": [
    {
     "name": "stdout",
     "output_type": "stream",
     "text": [
      "Filtering [1,2,3], no restriction r2, sigmoid_4_param / previous parameters\n"
     ]
    },
    {
     "name": "stderr",
     "output_type": "stream",
     "text": [
      "100%|██████████| 2776/2776 [00:04<00:00, 654.32it/s]\n"
     ]
    },
    {
     "name": "stdout",
     "output_type": "stream",
     "text": [
      "Coefficient 1\n",
      "\n",
      "MAE: 0.367 +/- 0.696\n",
      "MRE: 24.3 +/- 9.5\n",
      "\n",
      "(781, 1370) (202, 1370)\n",
      "Coefficient 2\n",
      "\n",
      "MAE: 0.58 +/- 1.402\n",
      "MRE: 9.8 +/- 18.7\n",
      "\n",
      "(781, 1370) (202, 1371)\n",
      "Coefficient 3\n",
      "\n",
      "MAE: 8.845 +/- 5.21\n",
      "MRE: -45.6 +/- 15.7\n",
      "\n",
      "(781, 1370) (202, 1372)\n",
      "Coefficient 4\n",
      "\n",
      "MAE: 0.144 +/- 0.134\n",
      "MRE: 88.7 +/- 74.9\n",
      "\n",
      "(781, 1370) (202, 1373)\n"
     ]
    }
   ],
   "source": [
    "ml_scenario2 = \"Filtering [1,2,3], no restriction r2, sigmoid_4_param / previous parameters\"\n",
    "print(ml_scenario2)\n",
    "\n",
    "df= DataPreprocessing(folder_with_original_data= _FOLDER, folder_with_results =_FOLDER_2, \n",
    "                      filtering_scenario = [1,2,3],\n",
    "                      first_points_lower_limit = 0.8, last_points_upper_limit = 0.4,\n",
    "                      middle_points_limit =-0.1,\n",
    "                     fitting_function = \"sigmoid_4_param\", \n",
    "                      keep_r2_column = True,\n",
    "                     print_progress_info = False)\n",
    "\n",
    "drug_ids_limit, train_df_limit, test_df_limit = TrainTestSplit(df, min_number_drug_profiles =50, train_ratio= 0.8, \n",
    "                                                               r2_restriction = 0, print_progress_info = False)\n",
    "\n",
    "print(\"Coefficient 1\")\n",
    "coef=1\n",
    "hyperparameters = pd.read_csv(_FOLDER_2+\"hyperparameters_coef\"+str(coef)+\"_alg1.csv\").set_index(\"DRUG_ID\")\n",
    "kernel = \"polynomial\"\n",
    "\n",
    "mae, mre, y_pred1, train_shape, test_shape = TrainTest_KR_Alg1(train_df_limit, test_df_limit, target = \"param_1\", \n",
    "                      drug_ids_list =drug_ids_limit, X_columns = X_columns, \n",
    "                      kernel = kernel, hyperparameters= hyperparameters, print_drug_name = False)\n",
    "\n",
    "                      \n",
    "test_df_limit[\"pred_param_1\"] = y_pred1\n",
    "\n",
    "print(\"Coefficient 2\")\n",
    "coef=2\n",
    "hyperparameters = pd.read_csv(_FOLDER_2+\"hyperparameters_coef\"+str(coef)+\"_alg1.csv\").set_index(\"DRUG_ID\")\n",
    "\n",
    "kernel = \"rbf\"\n",
    "\n",
    "mae, mre, y_pred2, train_shape, test_shape = TrainTest_SVR_Alg1(train_df_limit, test_df_limit, target = \"param_2\", \n",
    "                      drug_ids_list =drug_ids_limit, X_columns = X_columns, \n",
    "                      kernel = kernel, hyperparameters= hyperparameters, print_drug_name = False)\n",
    "                   \n",
    "test_df_limit[\"pred_param_2\"] = y_pred2\n",
    "\n",
    "print(\"Coefficient 3\")\n",
    "coef=3\n",
    "hyperparameters = pd.read_csv(_FOLDER_2+\"hyperparameters_coef\"+str(coef)+\"_alg1.csv\").set_index(\"DRUG_ID\")\n",
    "\n",
    "kernel = \"linear\"\n",
    "\n",
    "mae, mre, y_pred3, train_shape, test_shape = TrainTest_SVR_Alg1(train_df_limit, test_df_limit, target = \"param_3\", \n",
    "                      drug_ids_list =drug_ids_limit, X_columns = X_columns, \n",
    "                      kernel = kernel, hyperparameters= hyperparameters, print_drug_name = False)\n",
    "                   \n",
    "test_df_limit[\"pred_param_3\"] = y_pred3\n",
    "\n",
    "print(\"Coefficient 4\")\n",
    "coef=4\n",
    "hyperparameters = pd.read_csv(_FOLDER_2+\"hyperparameters_coef\"+str(coef)+\"_alg1.csv\").set_index(\"DRUG_ID\")\n",
    "kernel = \"polynomial\"\n",
    "\n",
    "mae, mre, y_pred4, train_shape, test_shape = TrainTest_KR_Alg1(train_df_limit, test_df_limit, target = \"param_4\", \n",
    "                      drug_ids_list =drug_ids_limit, X_columns = X_columns, \n",
    "                      kernel = kernel, hyperparameters= hyperparameters, print_drug_name = False)\n",
    "                      \n",
    "test_df_limit[\"pred_param_4\"] = y_pred4\n",
    "\n",
    "conc_columns= [\"fd_num_\"+str(i) for i in range(10)]\n",
    "response_norm = ['norm_cells_'+str(i) for i in range(10)]\n",
    "\n",
    "r2_fitting2 = r2_score_fitting(df=test_df_limit, x_columns= conc_columns,fitting_function = \"sigmoid_4_param\",\n",
    "                            y_columns=response_norm, param_columns = [\"pred_param_\"+str(i)for i in range(1,5)])\n",
    "mae_reconstruct2 = mae_score_reconstruct(df=test_df_limit, x_columns= conc_columns, fitting_function = \"sigmoid_4_param\",\n",
    "                                        y_columns=response_norm, param_columns = [\"pred_param_\"+str(i)for i in range(1,5)])"
   ]
  },
  {
   "cell_type": "code",
   "execution_count": 14,
   "metadata": {},
   "outputs": [
    {
     "name": "stdout",
     "output_type": "stream",
     "text": [
      "-------------------------------------------------------------------\n",
      "Filtering [1,2,3,4], no restriction r2, sigmoid_4_param / previous parameters\n",
      "-------------------------------------------------------------------\n",
      "R2 of fitting of reconstructed curves: 0.577 +/- 0.678\n",
      "MAE of reconstructed curvess: 0.144 +/- 0.092\n",
      "\n",
      "-------------------------------------------------------------------\n",
      "Filtering [1,2,3], no restriction r2, sigmoid_4_param / previous parameters\n",
      "-------------------------------------------------------------------\n",
      "R2 of fitting of reconstructed curves: 0.667 +/- 0.397\n",
      "MAE of reconstructed curvess: 0.133 +/- 0.069\n"
     ]
    }
   ],
   "source": [
    "print(\"-------------------------------------------------------------------\")\n",
    "print(ml_scenario)\n",
    "print(\"-------------------------------------------------------------------\")\n",
    "print(\"R2 of fitting of reconstructed curves: %0.3f +/- %0.3f\" % (r2_fitting.mean(), r2_fitting.std()))\n",
    "print(\"MAE of reconstructed curvess: %0.3f +/- %0.3f\" % (mae_reconstruct.mean(), mae_reconstruct.std()))                                                 \n",
    "print(\"\\n-------------------------------------------------------------------\")\n",
    "print(ml_scenario2)\n",
    "print(\"-------------------------------------------------------------------\")\n",
    "print(\"R2 of fitting of reconstructed curves: %0.3f +/- %0.3f\" % (r2_fitting2.mean(), r2_fitting2.std()))\n",
    "print(\"MAE of reconstructed curvess: %0.3f +/- %0.3f\" % (mae_reconstruct2.mean(), mae_reconstruct2.std()))                                                            "
   ]
  },
  {
   "cell_type": "markdown",
   "metadata": {},
   "source": [
    "### Conclusion: 4 stage filtration is less efficient than 3 stage filtration!!!!"
   ]
  },
  {
   "cell_type": "code",
   "execution_count": null,
   "metadata": {},
   "outputs": [],
   "source": []
  },
  {
   "cell_type": "code",
   "execution_count": null,
   "metadata": {},
   "outputs": [],
   "source": []
  },
  {
   "cell_type": "code",
   "execution_count": null,
   "metadata": {},
   "outputs": [],
   "source": []
  },
  {
   "cell_type": "code",
   "execution_count": 15,
   "metadata": {},
   "outputs": [],
   "source": [
    "#### Draft Results"
   ]
  },
  {
   "cell_type": "code",
   "execution_count": 16,
   "metadata": {},
   "outputs": [
    {
     "ename": "SyntaxError",
     "evalue": "invalid syntax (<ipython-input-16-9890519a2b52>, line 8)",
     "output_type": "error",
     "traceback": [
      "\u001b[0;36m  File \u001b[0;32m\"<ipython-input-16-9890519a2b52>\"\u001b[0;36m, line \u001b[0;32m8\u001b[0m\n\u001b[0;31m    for model in [\"Poly_KR\",\"RBF_SVR\", \"Linear_SVR\",\"Poly_KR\"]\u001b[0m\n\u001b[0m                                                              ^\u001b[0m\n\u001b[0;31mSyntaxError\u001b[0m\u001b[0;31m:\u001b[0m invalid syntax\n"
     ]
    }
   ],
   "source": [
    "# Coefficient 1\n",
    "coef =1 \n",
    "hyperparameters = pd.read_csv(_FOLDER_2+\"hyperparameters_coef\"+str(coef)+\"_alg1.csv\").set_index(\"DRUG_ID\")\n",
    "\n",
    "tested_scenarios = {}\n",
    "\n",
    "for fitting_function in [\"sigmoid_4_param\", \"logistic4\", \"logLogistR\"]:\n",
    "    for model in [\"Poly_KR\",\"RBF_SVR\", \"Linear_SVR\",\"Poly_KR\"]\n",
    "        for filtering in [[1,2,3],[1,2,3,4]]:\n",
    "            for r in [None, 0, 0.9]:\n",
    "                scenario_name = \"Filtering \" + str(filtering)+\", r2>\"+ str(r)+ \", \"  +fitting_function+model\n",
    "                tested_scenarios[scenario_name]={}\n",
    "                tested_scenarios[scenario_name][\"filtering\"] = filtering\n",
    "                tested_scenarios[scenario_name][\"fitting_function\"] = fitting_function\n",
    "                tested_scenarios[scenario_name][\"r2_restriction\"] = r\n",
    "\n",
    "dict_results = {}\n",
    "scenario_short = [[filtering] + [\"r2>\"+ str(r)] for filtering in [[1,2,3],[1,2,3,4]] for r in [None, 0, 0.9]]\n",
    "for fitting_function in [\"sigmoid_4_param\", \"logistic4\", \"logLogistR\"]:\n",
    "    df_results = pd.DataFrame(columns = [x+str(i) for i in range(1,5) for x in [\"mae_coef_\", \"mre_coef_\"]]\n",
    "                              +[\"train_test_shape\"], \n",
    "                              index= np.array(scenario_short))\n",
    "    dict_results[fitting_function]=df_results\n",
    "\n",
    "         \n",
    "print(\"Polynomial KR\")\n",
    "df_results = CompareTrainingScenarios(target_coef =1, tested_scenarios = tested_scenarios, kernel=\"polynomial\", \n",
    "                                      hyperparameters = hyperparameters,  X_columns = X_columns,\n",
    "                                     folder_with_original_data =_FOLDER, folder_with_results=_FOLDER_2,\n",
    "                                     model_type= \"KR_alg1\", print_progress_info = False)\n",
    "\n",
    "# Models as for Coefficient 2 \n",
    "print(\"RBF SVR\")\n",
    "coef= 2\n",
    "hyperparameters = pd.read_csv(_FOLDER_2+\"hyperparameters_coef\"+str(coef)+\"_alg1.csv\").set_index(\"DRUG_ID\")\n",
    "\n",
    "df_results2 = CompareTrainingScenarios(target_coef =1, tested_scenarios = tested_scenarios, kernel=\"rbf\", \n",
    "                                      hyperparameters = hyperparameters,  X_columns = X_columns,\n",
    "                                     folder_with_original_data =_FOLDER, folder_with_results=_FOLDER_2,\n",
    "                                     model_type= \"SVR_alg1\", print_progress_info = False)\n",
    "\n",
    "\n",
    "# Models as for Coefficient 3 \n",
    "print(\"Linear KR\")\n",
    "coef =3 \n",
    "hyperparameters = pd.read_csv(_FOLDER_2+\"hyperparameters_coef\"+str(coef)+\"_alg1.csv\").set_index(\"DRUG_ID\")\n",
    "            \n",
    "df_results3 = CompareTrainingScenarios(target_coef =1, tested_scenarios = tested_scenarios, kernel=\"linear\", \n",
    "                                      hyperparameters = hyperparameters,  X_columns = X_columns,\n",
    "                                     folder_with_original_data =_FOLDER, folder_with_results=_FOLDER_2,\n",
    "                                     model_type= \"SVR_alg1\", print_progress_info = False)\n",
    "\n",
    "# Models as for Coefficient 4 \n",
    "coef =4 \n",
    "hyperparameters = pd.read_csv(_FOLDER_2+\"hyperparameters_coef\"+str(coef)+\"_alg1.csv\").set_index(\"DRUG_ID\")\n",
    "\n",
    "df_results4 = CompareTrainingScenarios(target_coef =1, tested_scenarios = tested_scenarios, kernel=\"rbf\", \n",
    "                                      hyperparameters = hyperparameters,  X_columns = X_columns,\n",
    "                                     folder_with_original_data =_FOLDER, folder_with_results=_FOLDER_2,\n",
    "                                     model_type= \"KR_alg1\", print_progress_info = False)\n",
    "\n",
    "print(\"Results for Coefficient in Algoritm_1 (drug-by-drug) for polynomial KR\")\n",
    "display(df_results)\n",
    "\n",
    "print(\"Results for Coefficient 1 in Algoritm_1 (drug-by-drug) in RBF SVR\")\n",
    "display(df_results2)\n",
    "\n",
    "print(\"Results for Coefficient 1 in Algoritm_1 (drug-by-drug) in Linear SVR\")\n",
    "display(df_results3)\n",
    "\n",
    "print(\"Results for Coefficient 1 in Algoritm_1 (drug-by-drug) in RBF KR\")\n",
    "display(df_results4)"
   ]
  },
  {
   "cell_type": "markdown",
   "metadata": {},
   "source": [
    "### Coefficient 1\n",
    "#### The best variant - Filtering [1, 2, 3, 4], r2>None, logistic4 is RBF SVR (as for coef2):\n",
    "mae = 0.014 +/- 0.003  <br>\n",
    "mre = 1.5 +/- 0.3 <br>\n",
    "train_test = 705 , 180\n",
    "\n",
    "#### Previous best results with sigmoid_4_param: Filtering [1, 2, 3], r2>0.9, sigmoid_4_param\t\n",
    "mae = 0.127 +/- 0.058\t\n",
    "mre = 29.6 +/- 17.6\t\n",
    "train_test = 722 , 184"
   ]
  },
  {
   "cell_type": "code",
   "execution_count": null,
   "metadata": {},
   "outputs": [],
   "source": [
    "# Coefficient 2\n",
    "coef =1 \n",
    "hyperparameters = pd.read_csv(_FOLDER_2+\"hyperparameters_coef\"+str(coef)+\"_alg1.csv\").set_index(\"DRUG_ID\")\n",
    "\n",
    "tested_scenarios = {}\n",
    "for fitting_function in [\"sigmoid_4_param\", \"logistic4\", \"logLogistR\"]:\n",
    "    for filtering in [[1,2,3],[1,2,3,4]]:\n",
    "        for r in [None, 0, 0.9]:\n",
    "            scenario_name = \"Filtering \" + str(filtering)+\", r2>\"+ str(r)+ \", \"  +fitting_function\n",
    "            tested_scenarios[scenario_name]={}\n",
    "            tested_scenarios[scenario_name][\"filtering\"] = filtering\n",
    "            tested_scenarios[scenario_name][\"fitting_function\"] = fitting_function\n",
    "            tested_scenarios[scenario_name][\"r2_restriction\"] = r\n",
    "\n",
    "print(\"Polynomial KR\")\n",
    "# Models as for Coefficient 1\n",
    "df2_results = CompareTrainingScenarios(target_coef =2, tested_scenarios = tested_scenarios, kernel=\"polynomial\", \n",
    "                                      hyperparameters = hyperparameters,  X_columns = X_columns,\n",
    "                                     folder_with_original_data =_FOLDER, folder_with_results=_FOLDER_2,\n",
    "                                     model_type= \"KR_alg1\", print_progress_info = False)\n",
    "\n",
    "# Models as for Coefficient 2 \n",
    "print(\"RBF SVR\")\n",
    "coef= 2\n",
    "hyperparameters = pd.read_csv(_FOLDER_2+\"hyperparameters_coef\"+str(coef)+\"_alg1.csv\").set_index(\"DRUG_ID\")\n",
    "\n",
    "df2_results2 = CompareTrainingScenarios(target_coef =2, tested_scenarios = tested_scenarios, kernel=\"rbf\", \n",
    "                                      hyperparameters = hyperparameters,  X_columns = X_columns,\n",
    "                                     folder_with_original_data =_FOLDER, folder_with_results=_FOLDER_2,\n",
    "                                     model_type= \"SVR_alg1\", print_progress_info = False)\n",
    "\n",
    "\n",
    "# Models as for Coefficient 3 \n",
    "print(\"Linear KR\")\n",
    "coef =3 \n",
    "hyperparameters = pd.read_csv(_FOLDER_2+\"hyperparameters_coef\"+str(coef)+\"_alg1.csv\").set_index(\"DRUG_ID\")\n",
    "            \n",
    "df2_results3 = CompareTrainingScenarios(target_coef =2, tested_scenarios = tested_scenarios, kernel=\"linear\", \n",
    "                                      hyperparameters = hyperparameters,  X_columns = X_columns,\n",
    "                                     folder_with_original_data =_FOLDER, folder_with_results=_FOLDER_2,\n",
    "                                     model_type= \"SVR_alg1\", print_progress_info = False)\n",
    "\n",
    "# Models as for Coefficient 4 \n",
    "coef =4 \n",
    "hyperparameters = pd.read_csv(_FOLDER_2+\"hyperparameters_coef\"+str(coef)+\"_alg1.csv\").set_index(\"DRUG_ID\")\n",
    "\n",
    "df2_results4 = CompareTrainingScenarios(target_coef =2, tested_scenarios = tested_scenarios, kernel=\"rbf\", \n",
    "                                      hyperparameters = hyperparameters,  X_columns = X_columns,\n",
    "                                     folder_with_original_data =_FOLDER, folder_with_results=_FOLDER_2,\n",
    "                                     model_type= \"KR_alg1\", print_progress_info = False)\n",
    "\n",
    "print(\"Results for Coefficient 2 in Algoritm_1 (drug-by-drug) for polynomial KR\")\n",
    "display(df2_results)\n",
    "\n",
    "print(\"Results for Coefficient 2 in Algoritm_1 (drug-by-drug) in RBF SVR\")\n",
    "display(df2_results2)\n",
    "\n",
    "print(\"Results for Coefficient 2 in Algoritm_1 (drug-by-drug) in Linear SVR\")\n",
    "display(df2_results3)\n",
    "\n",
    "print(\"Results for Coefficient 2in Algoritm_1 (drug-by-drug) in RBF KR\")\n",
    "display(df2_results4)"
   ]
  },
  {
   "cell_type": "code",
   "execution_count": null,
   "metadata": {},
   "outputs": [],
   "source": [
    "print(\"Results for Coefficient 2 in Algoritm_1 (drug-by-drug) for polynomial KR\")\n",
    "display(df2_results)\n",
    "\n",
    "print(\"Results for Coefficient 2  in Algoritm_1 (drug-by-drug) in RBF SVR\")\n",
    "display(df2_results2)\n",
    "\n",
    "print(\"Results for Coefficient 2 in Algoritm_1 (drug-by-drug) in Linear SVR\")\n",
    "display(df2_results3)\n",
    "\n",
    "print(\"Results for Coefficient 2 in Algoritm_1 (drug-by-drug) in RBF KR\")\n",
    "display(df2_results4)"
   ]
  },
  {
   "cell_type": "markdown",
   "metadata": {},
   "source": [
    "### Coefficient 2\n",
    "#### The best RBF SVR - Filtering [1, 2, 3, 4], r2>0, logistic4\t\n",
    "\n",
    "mae = 0.099 +/- 0.038 <br>\n",
    "mre = 23.7 +/- 8.2 <br>\n",
    "train_test = 705 , 180 <br>"
   ]
  },
  {
   "cell_type": "code",
   "execution_count": null,
   "metadata": {},
   "outputs": [],
   "source": [
    "# Coefficient 3\n",
    "coef =1 \n",
    "hyperparameters = pd.read_csv(_FOLDER_2+\"hyperparameters_coef\"+str(coef)+\"_alg1.csv\").set_index(\"DRUG_ID\")\n",
    "\n",
    "print(\"Polynomial KR\")\n",
    "# Models as for Coefficient 1\n",
    "df3_results = CompareTrainingScenarios(target_coef =3, tested_scenarios = tested_scenarios, kernel=\"polynomial\", \n",
    "                                      hyperparameters = hyperparameters,  X_columns = X_columns,\n",
    "                                     folder_with_original_data =_FOLDER, folder_with_results=_FOLDER_2,\n",
    "                                     model_type= \"KR_alg1\", print_progress_info = False)\n",
    "\n",
    "# Models as for Coefficient 2 \n",
    "print(\"RBF SVR\")\n",
    "coef= 2\n",
    "hyperparameters = pd.read_csv(_FOLDER_2+\"hyperparameters_coef\"+str(coef)+\"_alg1.csv\").set_index(\"DRUG_ID\")\n",
    "\n",
    "df3_results2 = CompareTrainingScenarios(target_coef =3, tested_scenarios = tested_scenarios, kernel=\"rbf\", \n",
    "                                      hyperparameters = hyperparameters,  X_columns = X_columns,\n",
    "                                     folder_with_original_data =_FOLDER, folder_with_results=_FOLDER_2,\n",
    "                                     model_type= \"SVR_alg1\", print_progress_info = False)\n",
    "\n",
    "\n",
    "# Models as for Coefficient 3 \n",
    "print(\"Linear KR\")\n",
    "coef =3 \n",
    "hyperparameters = pd.read_csv(_FOLDER_2+\"hyperparameters_coef\"+str(coef)+\"_alg1.csv\").set_index(\"DRUG_ID\")\n",
    "            \n",
    "df3_results3 = CompareTrainingScenarios(target_coef =3, tested_scenarios = tested_scenarios, kernel=\"linear\", \n",
    "                                      hyperparameters = hyperparameters,  X_columns = X_columns,\n",
    "                                     folder_with_original_data =_FOLDER, folder_with_results=_FOLDER_2,\n",
    "                                     model_type= \"SVR_alg1\", print_progress_info = False)\n",
    "\n",
    "# Models as for Coefficient 4 \n",
    "coef =4 \n",
    "hyperparameters = pd.read_csv(_FOLDER_2+\"hyperparameters_coef\"+str(coef)+\"_alg1.csv\").set_index(\"DRUG_ID\")\n",
    "\n",
    "df3_results4 = CompareTrainingScenarios(target_coef =3, tested_scenarios = tested_scenarios, kernel=\"rbf\", \n",
    "                                      hyperparameters = hyperparameters,  X_columns = X_columns,\n",
    "                                     folder_with_original_data =_FOLDER, folder_with_results=_FOLDER_2,\n",
    "                                     model_type= \"KR_alg1\", print_progress_info = False)\n",
    "\n",
    "print(\"Results for Coefficient 3in Algoritm_1 (drug-by-drug) for polynomial KR\")\n",
    "display(df3_results)\n",
    "\n",
    "print(\"Results for Coefficient 3 in Algoritm_1 (drug-by-drug) in RBF SVR\")\n",
    "display(df3_results2)\n",
    "\n",
    "print(\"Results for Coefficient 3 in Algoritm_1 (drug-by-drug) in Linear SVR\")\n",
    "display(df3_results3)\n",
    "\n",
    "print(\"Results for Coefficient 3 in Algoritm_1 (drug-by-drug) in RBF KR\")\n",
    "display(df3_results4)"
   ]
  },
  {
   "cell_type": "code",
   "execution_count": null,
   "metadata": {},
   "outputs": [],
   "source": [
    "print(\"Results for Coefficient 3 in Algoritm_1 (drug-by-drug) for polynomial KR\")\n",
    "display(df3_results)\n",
    "\n",
    "print(\"Results for Coefficient 3 in Algoritm_1 (drug-by-drug) in RBF SVR\")\n",
    "display(df3_results2)\n",
    "\n",
    "print(\"Results for Coefficient 3 in Algoritm_1 (drug-by-drug) in Linear SVR\")\n",
    "display(df3_results3)\n",
    "\n",
    "print(\"Results for Coefficient 3 in Algoritm_1 (drug-by-drug) in RBF KR\")\n",
    "display(df3_results4)"
   ]
  },
  {
   "cell_type": "code",
   "execution_count": null,
   "metadata": {},
   "outputs": [],
   "source": [
    "# Coefficient 4 - not relevant for logLogistR. There are ony 3 parameters there.\n",
    "coef =1 \n",
    "hyperparameters = pd.read_csv(_FOLDER_2+\"hyperparameters_coef\"+str(coef)+\"_alg1.csv\").set_index(\"DRUG_ID\")\n",
    "\n",
    "tested_scenarios = {}\n",
    "for fitting_function in [\"sigmoid_4_param\", \"logistic4\"]:\n",
    "    for filtering in [[1,2,3],[1,2,3,4]]:\n",
    "        for r in [None, 0, 0.9]:\n",
    "            scenario_name = \"Filtering \" + str(filtering)+\", r2>\"+ str(r)+ \", \"  +fitting_function\n",
    "            tested_scenarios[scenario_name]={}\n",
    "            tested_scenarios[scenario_name][\"filtering\"] = filtering\n",
    "            tested_scenarios[scenario_name][\"fitting_function\"] = fitting_function\n",
    "            tested_scenarios[scenario_name][\"r2_restriction\"] = r\n",
    "\n",
    "print(\"Polynomial KR\")\n",
    "# Models as for Coefficient 1\n",
    "df4_results = CompareTrainingScenarios(target_coef =4, tested_scenarios = tested_scenarios, kernel=\"polynomial\", \n",
    "                                      hyperparameters = hyperparameters,  X_columns = X_columns,\n",
    "                                     folder_with_original_data =_FOLDER, folder_with_results=_FOLDER_2,\n",
    "                                     model_type= \"KR_alg1\", print_progress_info = False)\n",
    "\n",
    "# Models as for Coefficient 2 \n",
    "print(\"RBF SVR\")\n",
    "coef= 2\n",
    "hyperparameters = pd.read_csv(_FOLDER_2+\"hyperparameters_coef\"+str(coef)+\"_alg1.csv\").set_index(\"DRUG_ID\")\n",
    "\n",
    "df4_results2 = CompareTrainingScenarios(target_coef =4, tested_scenarios = tested_scenarios, kernel=\"rbf\", \n",
    "                                      hyperparameters = hyperparameters,  X_columns = X_columns,\n",
    "                                     folder_with_original_data =_FOLDER, folder_with_results=_FOLDER_2,\n",
    "                                     model_type= \"SVR_alg1\", print_progress_info = False)\n",
    "\n",
    "\n",
    "# Models as for Coefficient 3 \n",
    "print(\"Linear KR\")\n",
    "coef =3 \n",
    "hyperparameters = pd.read_csv(_FOLDER_2+\"hyperparameters_coef\"+str(coef)+\"_alg1.csv\").set_index(\"DRUG_ID\")\n",
    "            \n",
    "df4_results3 = CompareTrainingScenarios(target_coef =4, tested_scenarios = tested_scenarios, kernel=\"linear\", \n",
    "                                      hyperparameters = hyperparameters,  X_columns = X_columns,\n",
    "                                     folder_with_original_data =_FOLDER, folder_with_results=_FOLDER_2,\n",
    "                                     model_type= \"SVR_alg1\", print_progress_info = False)\n",
    "\n",
    "# Models as for Coefficient 4 \n",
    "coef =4 \n",
    "hyperparameters = pd.read_csv(_FOLDER_2+\"hyperparameters_coef\"+str(coef)+\"_alg1.csv\").set_index(\"DRUG_ID\")\n",
    "\n",
    "df4_results4 = CompareTrainingScenarios(target_coef =4, tested_scenarios = tested_scenarios, kernel=\"rbf\", \n",
    "                                      hyperparameters = hyperparameters,  X_columns = X_columns,\n",
    "                                     folder_with_original_data =_FOLDER, folder_with_results=_FOLDER_2,\n",
    "                                     model_type= \"KR_alg1\", print_progress_info = False)\n",
    "\n",
    "print(\"Results for Coefficient in Algoritm_1 (drug-by-drug) for polynomial KR\")\n",
    "display(df4_results)\n",
    "\n",
    "print(\"Results for Coefficient 1 in Algoritm_1 (drug-by-drug) in RBF SVR\")\n",
    "display(df4_results2)\n",
    "\n",
    "print(\"Results for Coefficient 1 in Algoritm_1 (drug-by-drug) in Linear SVR\")\n",
    "display(df4_results3)\n",
    "\n",
    "print(\"Results for Coefficient %d in Algoritm_1 (drug-by-drug):\" % coef)\n",
    "display(df4_results4)"
   ]
  },
  {
   "cell_type": "code",
   "execution_count": null,
   "metadata": {},
   "outputs": [],
   "source": []
  },
  {
   "cell_type": "markdown",
   "metadata": {},
   "source": [
    "## Reconstruction with Algorithm 1 "
   ]
  },
  {
   "cell_type": "code",
   "execution_count": null,
   "metadata": {},
   "outputs": [],
   "source": [
    "ml_scenario = \"Filtering [1,2,3,4], no restriction r2, sigmoid_4_param / previous parameters\"\n",
    "\n",
    "\n",
    "df= DataPreprocessing(folder_with_original_data= _FOLDER, folder_with_results =_FOLDER_2, \n",
    "                      filtering_scenario = [1,2,3,4],\n",
    "                      first_points_lower_limit = 0.8, last_points_upper_limit = 0.4,\n",
    "                      middle_points_limit =-0.1,\n",
    "                     fitting_function = \"sigmoid_4_param\", \n",
    "                      keep_r2_column = True,\n",
    "                     print_progress_info = False)\n",
    "\n",
    "drug_ids_limit, train_df_limit, test_df_limit = TrainTestSplit(df, min_number_drug_profiles =50, train_ratio= 0.8, \n",
    "                                                               r2_restriction = 0, print_progress_info = False)\n",
    "\n",
    "print(\"Coefficient 1\")\n",
    "coef=1\n",
    "hyperparameters = pd.read_csv(_FOLDER_2+\"hyperparameters_coef\"+str(coef)+\"_alg1.csv\").set_index(\"DRUG_ID\")\n",
    "kernel = \"polynomial\"\n",
    "\n",
    "mae, mre, y_pred1, train_shape, test_shape = TrainTest_KR_Alg1(train_df_limit, test_df_limit, target = \"param_1\", \n",
    "                      drug_ids_list =drug_ids_limit, X_columns = X_columns, \n",
    "                      kernel = kernel, hyperparameters= hyperparameters, print_drug_name = False)\n",
    "\n",
    "                      \n",
    "test_df_limit[\"pred_param_1\"] = y_pred1\n",
    "\n",
    "print(\"Coefficient 2\")\n",
    "coef=2\n",
    "hyperparameters = pd.read_csv(_FOLDER_2+\"hyperparameters_coef\"+str(coef)+\"_alg1.csv\").set_index(\"DRUG_ID\")\n",
    "\n",
    "kernel = \"rbf\"\n",
    "\n",
    "mae, mre, y_pred2, train_shape, test_shape = TrainTest_SVR_Alg1(train_df_limit, test_df_limit, target = \"param_2\", \n",
    "                      drug_ids_list =drug_ids_limit, X_columns = X_columns, \n",
    "                      kernel = kernel, hyperparameters= hyperparameters, print_drug_name = False)\n",
    "                   \n",
    "test_df_limit[\"pred_param_2\"] = y_pred2\n",
    "\n",
    "print(\"Coefficient 3\")\n",
    "coef=3\n",
    "hyperparameters = pd.read_csv(_FOLDER_2+\"hyperparameters_coef\"+str(coef)+\"_alg1.csv\").set_index(\"DRUG_ID\")\n",
    "\n",
    "kernel = \"linear\"\n",
    "\n",
    "mae, mre, y_pred3, train_shape, test_shape = TrainTest_SVR_Alg1(train_df_limit, test_df_limit, target = \"param_3\", \n",
    "                      drug_ids_list =drug_ids_limit, X_columns = X_columns, \n",
    "                      kernel = kernel, hyperparameters= hyperparameters, print_drug_name = False)\n",
    "                   \n",
    "test_df_limit[\"pred_param_3\"] = y_pred3\n",
    "\n",
    "print(\"Coefficient 4\")\n",
    "coef=4\n",
    "hyperparameters = pd.read_csv(_FOLDER_2+\"hyperparameters_coef\"+str(coef)+\"_alg1.csv\").set_index(\"DRUG_ID\")\n",
    "kernel = \"polynomial\"\n",
    "\n",
    "mae, mre, y_pred4, train_shape, test_shape = TrainTest_KR_Alg1(train_df_limit, test_df_limit, target = \"param_4\", \n",
    "                      drug_ids_list =drug_ids_limit, X_columns = X_columns, \n",
    "                      kernel = kernel, hyperparameters= hyperparameters, print_drug_name = False)\n",
    "                      \n",
    "test_df_limit[\"pred_param_4\"] = y_pred4\n",
    "\n",
    "conc_columns= [\"fd_num_\"+str(i) for i in range(10)]\n",
    "response_norm = ['norm_cells_'+str(i) for i in range(10)]\n",
    "r2_fitting = r2_score_fitting(df=test_df_limit, x_columns= conc_columns,\n",
    "                                        y_columns=response_norm, param_columns = [\"pred_param_\"+str(i)for i in range(1,5)])\n",
    "mae_reconstruct = mae_score_reconstruct(df=test_df_limit, x_columns= conc_columns,\n",
    "                                        y_columns=response_norm, param_columns = [\"pred_param_\"+str(i)for i in range(1,5)])"
   ]
  },
  {
   "cell_type": "code",
   "execution_count": null,
   "metadata": {},
   "outputs": [],
   "source": []
  }
 ],
 "metadata": {
  "kernelspec": {
   "display_name": "Python 3",
   "language": "python",
   "name": "python3"
  },
  "language_info": {
   "codemirror_mode": {
    "name": "ipython",
    "version": 3
   },
   "file_extension": ".py",
   "mimetype": "text/x-python",
   "name": "python",
   "nbconvert_exporter": "python",
   "pygments_lexer": "ipython3",
   "version": "3.7.9"
  }
 },
 "nbformat": 4,
 "nbformat_minor": 2
}
