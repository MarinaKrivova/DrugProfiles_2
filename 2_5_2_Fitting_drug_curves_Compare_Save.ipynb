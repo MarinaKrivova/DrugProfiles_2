{
 "cells": [
  {
   "cell_type": "markdown",
   "metadata": {},
   "source": [
    "## Fitting drug response curves with sigmoid function"
   ]
  },
  {
   "cell_type": "markdown",
   "metadata": {},
   "source": [
    "Save the dataset after filtering and fitting"
   ]
  },
  {
   "cell_type": "code",
   "execution_count": 1,
   "metadata": {},
   "outputs": [],
   "source": [
    "import pandas as pd\n",
    "import numpy as np\n",
    "\n",
    "import matplotlib.pyplot as plt\n",
    "\n",
    "from scipy.optimize import curve_fit\n",
    "from sklearn.metrics import r2_score\n",
    "\n",
    "from tqdm import tqdm\n",
    "import warnings\n",
    "warnings.filterwarnings(\"ignore\")\n",
    "_FOLDER = \"data/\"\n",
    "_FOLDER_2 = \"results/\""
   ]
  },
  {
   "cell_type": "code",
   "execution_count": 2,
   "metadata": {},
   "outputs": [],
   "source": [
    "def FilteringCurves(df, response_columns, filtering_scenario = [1,2,3], first_columns_to_compare = [1, 2], last_columns_to_compare = [-1, -2],\n",
    "             tolerance=0.05, first_points_lower_limit = 0.8, last_points_upper_limit = 0.4):\n",
    "    \"\"\"\n",
    "    filtering_scenario = [1,2,3]\n",
    "    1. Ensure that all the response are less than 1\n",
    "    \n",
    "    2. Ensure that first and last points form plateus\n",
    "    the minimal number of points are specified in the function arguments\n",
    "    by default, two points for both lpateus are considered\n",
    "    tolerance =0.05 values to ensure the points form a plateu\n",
    "    first_columns_to_compare = [1, 2]  - first two columns for plateu\n",
    "    last_columns_to_compare = [-1, -2] - last two columns for plateu\n",
    "    \n",
    "    3. Specify location of the plateus - first_points_lower_limit and last_points_upper_limit\n",
    "    \n",
    "    \"\"\"\n",
    "    df = df.copy()\n",
    "    print(\"Original dataset:\", df.shape)\n",
    "    \n",
    "    for i in filtering_scenario:\n",
    "        if i ==1:\n",
    "            #1st filtering\n",
    "            index_row_more_than_1 = []\n",
    "            for col in response_columns:\n",
    "                if sum(df[col]>1)>0:\n",
    "                    index_row_more_than_1.extend(df[df[col]>1].index)\n",
    "        \n",
    "            index_row_less_than_1 = set(df.index) - set(index_row_more_than_1)\n",
    "            df = df.loc[index_row_less_than_1, :].copy()\n",
    "            print(\"1st filtration (Ensure that all the response are less than 1): Filtered dataset:\", df.shape)\n",
    "        elif i== 2: \n",
    "            #2nd filtering\n",
    "            df[\"dif_first\"]=abs(df[response_columns[first_columns_to_compare[0]-1]]\\\n",
    "                                     - df[response_columns[first_columns_to_compare[1]-1]])\n",
    "            df[\"dif_last\"]=abs(df[response_columns[last_columns_to_compare[0]]] \\\n",
    "                                        - df[response_columns[last_columns_to_compare[1]]])\n",
    "\n",
    "            df = df[(df[\"dif_first\"]<= tolerance)\n",
    "                           &(df[\"dif_last\"]<= tolerance)]\n",
    "    \n",
    "            print(\"2d filtration (Ensure that first and last points form plateus): Filtered dataset:\", df.shape)\n",
    "        elif i== 3: \n",
    "                #3d filtering\n",
    "                df = df[(df[response_columns[1]]>first_points_lower_limit) \n",
    "                         & (df[response_columns[-1]]<last_points_upper_limit)]\n",
    "                print(\"3d stage filtration (Specified location of the plateus): Filtered dataset:\", df.shape)\n",
    "        else:\n",
    "            print(\"Unknown filtration scenario\")\n",
    "    \n",
    "    return df\n",
    "\n",
    "def sigmoid_Wang(x, p, s):\n",
    "    \"\"\" Sigmoid function from Dennis Wang's paper:\n",
    "    x - dosage [0, 1],\n",
    "    p - position,        default=0.4\n",
    "    s - shape parameter, default=-1\n",
    "    \"\"\"\n",
    "    return ( 1.0 / (1.0 + np.exp((x-p)/s)) )\n",
    "\n",
    "\n",
    "def fsigmoid(x, p, k):\n",
    "    \"\"\" Comparing with Dennis Wang's sigmoid:\n",
    "    x = x  - dosage [0, 1]\n",
    "    p - position [0,1],           default=0.4\n",
    "    k = -1/s (s -shape parameter) default=0.4\n",
    "    \"\"\"\n",
    "    return ( 1.0 / (1.0 + np.exp(-k*(x-p))) )\n",
    "\n",
    "\n",
    "def sigmoid_4_param(x, x0, L, k, d):\n",
    "    \"\"\" Comparing with Dennis Wang's sigmoid:\n",
    "    x0 -  p - position, correlation with IC50 or EC50\n",
    "    L = 1 in Dennis Wang's sigmoid, protect from devision by zero if x is too small \n",
    "    k = -1/s (s -shape parameter)\n",
    "    d - determines the vertical position of the sigmoid - shift on y axis - better fitting then Dennis Wang's sigmoid\n",
    "    \"\"\"\n",
    "    return ( 1/ (L + np.exp(-k*(x-x0))) + d)\n",
    "\n",
    "\n",
    "def sigmoid_3_param(x, x0, k, d):\n",
    "    \"\"\" Comparing with Dennis Wang's sigmoid:\n",
    "    x0 -  p - position, correlation with IC50 or EC50\n",
    "    k = -1/s (s -shape parameter)\n",
    "    d - determines the vertical position of the sigmoid - shift on y axis - better fitting then Dennis Wang's sigmoid\n",
    "        \"\"\"\n",
    "    return ( 1/ (1 + np.exp(-k*(x-x0))) + d )\n",
    "\n",
    "\n",
    "def ll4(x, e, c, b, d):\n",
    "    \"\"\" https://gist.github.com/yannabraham/5f210fed773785d8b638\n",
    "    This function is basically a copy of the LL.4 function from the R drc package with\n",
    "     - b: hill slope\n",
    "     - d: min response - determines the vertical position of the graph\n",
    "     - c: max response\n",
    "     - e: EC50\n",
    "     c-d - difference between max and min responses\n",
    "     np.exp( b* (np.log(x)-np.log(e)) -  np.exp((x-p)/s in Dennis Wang's sigmoid\n",
    "     b- hill slope = 1/s - shape parameter\n",
    "     np.log(x)-np.log(e) == x-p in Dennis Wang's sigmoid\n",
    "     \"\"\"\n",
    "    return ( (c-d)/(1 + np.exp( b*(np.log(x)-np.log(e) ))) + d)\n",
    "\n",
    "\n",
    "def ll4_R(x, e, c, b, d):\n",
    "    \"\"\" LL.4 function from R\n",
    "    https://www.rdocumentation.org/packages/drc/versions/2.5-12/topics/LL.4\n",
    "   \n",
    "    c-d - difference between max and min responses\n",
    "    np.exp( b* np.log(x) - e) -  np.exp((x-p)/s in Dennis Wang's sigmoid\n",
    "    b - hill slope = 1/s - shape parameter\n",
    "    np.log(x)- e/b == x-p in Dennis Wang's sigmoid\n",
    "    \"\"\"\n",
    "    return ( (c-d)/(1+np.exp(b*np.log(x)- e)) + d)\n",
    "\n",
    "\n",
    "def logistic4(x, A, B, C, d):\n",
    "    \"\"\" https://people.duke.edu/~ccc14/pcfb/analysis.html\n",
    "    4PL logistic equation\n",
    "    Dennis Wang's sigmoid: 1.0 / (1.0 + np.exp((x-p)/s)\n",
    "    (A - d) = 1 in Dennis Wang's sigmoid:\n",
    "    (x/C)**B  - corresponds to np.exp((x-p)/s\n",
    "    d - determines the vertical position of the graph\n",
    "    \"\"\"\n",
    "    return ( (A-d)/(1.0+((x/C)**B)) + d )\n",
    "\n",
    "\n",
    "def logLogistR(x, EC50, HS, E_inf):\n",
    "    \"\"\"Python analog for PharmacoGx/R/LogLogisticRegression.R\n",
    "    https://github.com/bhklab/PharmacoGx/blob/master/R/LogLogisticRegression.R\n",
    "    E = E_inf + (1 - E_inf)/(1 + (x/EC50)^HS)\n",
    "    Dennis Wang's sigmoid: 1.0 / (1.0 + np.exp((x-p)/s)\n",
    "    \n",
    "    (A - d) = 1 in Dennis Wang's sigmoid:\n",
    "    (np.log10(x)/EC50)**HS  - (in logistic4 (x/C)**B) corresponds to np.exp((x-p)/s \n",
    "    \n",
    "    E_inf - determines the vertical position of the graph /coefficient d, min response in other functions\n",
    "    \"\"\"\n",
    "    return ((1-E_inf)/(1+(np.log10(x)/EC50)**HS) + E_inf)\n",
    "\n",
    "\n",
    "\n",
    "def FitCurve(fitting_function, x, y, parameters_guess=None, to_plot = False):\n",
    "#     from scipy.optimize import curve_fit\n",
    "\n",
    "    if parameters_guess:\n",
    "        parameters, p_covariance = curve_fit(fitting_function, x, y, parameters_guess)\n",
    "    else: \n",
    "        parameters, p_covariance = curve_fit(fitting_function, x, y)\n",
    "    x2 = np.linspace(0, 1, 10)\n",
    "    y_fit = fitting_function(x, *parameters)\n",
    "    r2 = r2_score(y, y_fit)\n",
    "\n",
    "    if to_plot:\n",
    "        print(\"Fitting parameters:\", *parameters)\n",
    "        plt.scatter(x, y)\n",
    "        x2 = np.linspace(0, 1, 10)\n",
    "        y2 = fitting_function(x2, *parameters)\n",
    "        plt.plot(x2, y2, \"blue\", label = \"R^2= %0.5f\"%r2)   \n",
    "        plt.title('Least-squares fit')\n",
    "        plt.legend();\n",
    "    return r2, parameters\n",
    "\n",
    "\n",
    "def FittingColumn(df, indexes, x_columns, y_columns, fitting_function, parameters_guess=None, default_param = False):\n",
    "    \"\"\"\n",
    "    intial parameter guess [max(y), np.median(x), 1, min(y)]\n",
    "    potentially they can be different for each data row, but as soon as we have scaled and filtered data\n",
    "    we can use by default [1.0, 0.4, 1.0, .0] \n",
    "    \"\"\"\n",
    "    \n",
    "    r2_scores = np.zeros(len(indexes))\n",
    "    X = df.loc[indexes, x_columns].values.astype(np.float32)\n",
    "    Y = df.loc[indexes, y_columns].values.astype(np.float32)\n",
    "    fitting_parameters = [None]*len(indexes)\n",
    "    \n",
    "    \n",
    "    # parameters_guess= [np.median(x), 1, max(y), min(y)]\n",
    "    default_param_model = {\"sigmoid_Wang\": [0.4, 0.1],\n",
    "                       \"fsigmoid\" : [0.4, -10],\n",
    "                       \"sigmoid_4_param\": [0.4, 1.0, 1.0, .0],\n",
    "                       \"sigmoid_3_param\": [0.4, 1.0, .0],\n",
    "                       \"logistic4\": [1.0, 1.0, 1.0, 0.0],\n",
    "                       \"ll4\": [0.4, 1.0, 1.0, 0.0],\n",
    "                       \"ll4_R\": [0.4, 1.0, 1.0, 0.0],\n",
    "                       \"logLogistR\": [-1, -0.1, 0.1]}\n",
    "    \n",
    "    if default_param:\n",
    "        parameters_guess = default_param_model[fitting_function]\n",
    "       \n",
    "    else:\n",
    "        pass\n",
    "    \n",
    "    for i in tqdm(range(len(indexes))):\n",
    "        x = X[i, :]\n",
    "        y = Y[i, :]\n",
    "    \n",
    "        try:\n",
    "            r2_scores[i], fitting_parameters[i] = FitCurve(fitting_function_object, x, y, parameters_guess = parameters_guess)\n",
    "            \n",
    "        except:\n",
    "            try:\n",
    "                functions = {\"fsigmoid\": fsigmoid, \n",
    "                 \"sigmoid_Wang\": sigmoid_Wang, \n",
    "                \"sigmoid_4_param\": sigmoid_4_param,\n",
    "                 \"sigmoid_3_param\": sigmoid_3_param, \n",
    "                 \"logistic4\": logistic4,  \n",
    "                 \"ll4\": ll4, \n",
    "                 \"ll4_R\":ll4_R,\n",
    "                 \"logLogistR\":logLogistR}\n",
    "                fitting_function_object = functions[fitting_function]\n",
    "#                 from fitting_curves.py import fitting_function_object\n",
    "                r2_scores[i], fitting_parameters[i] = FitCurve(fitting_function_object, x, y, parameters_guess = parameters_guess)\n",
    "            except:\n",
    "                r2_scores[i] = 0\n",
    "    return r2_scores, fitting_parameters\n",
    "\n",
    "def FittedData(df, x_columns, y_columns, fitting_function, parameters_guess=[], default_param = True):\n",
    "    \n",
    "    r2, fit_param = FittingColumn(df, df.index, x_columns, y_columns, fitting_function, default_param = True)\n",
    "    df[\"fitting_r2\"] = r2\n",
    "    df[\"fitting_param\"] = fit_param\n",
    "    df= df[df[\"fitting_r2\"]!=0]\n",
    "    return df"
   ]
  },
  {
   "cell_type": "markdown",
   "metadata": {},
   "source": [
    "## Read filtered data"
   ]
  },
  {
   "cell_type": "code",
   "execution_count": 3,
   "metadata": {},
   "outputs": [
    {
     "data": {
      "text/plain": [
       "(2776, 45)"
      ]
     },
     "execution_count": 3,
     "metadata": {},
     "output_type": "execute_result"
    }
   ],
   "source": [
    "drug_df = pd.read_csv(_FOLDER_2+\"/filtered_drug_profiles_123.csv\").drop(['Unnamed: 0', 'Unnamed: 0.1'], axis=1)\n",
    "drug_df.shape"
   ]
  },
  {
   "cell_type": "code",
   "execution_count": 4,
   "metadata": {},
   "outputs": [
    {
     "data": {
      "text/plain": [
       "Index(['CELL_LINE_NAME', 'COSMIC_ID', 'DRUG_ID', 'DRUGID_COSMICID',\n",
       "       'FOLD_DILUTION', 'MAX_CONC', 'fd_num_0', 'fd_num_1', 'fd_num_2',\n",
       "       'fd_num_3', 'fd_num_4', 'fd_num_5', 'fd_num_6', 'fd_num_7', 'fd_num_8',\n",
       "       'fd_num_9', 'norm_cells_0', 'norm_cells_1', 'norm_cells_2',\n",
       "       'norm_cells_3', 'norm_cells_4', 'norm_cells_5', 'norm_cells_6',\n",
       "       'norm_cells_7', 'norm_cells_8', 'norm_cells_9', 'per_slope_change_0',\n",
       "       'per_slope_change_1', 'per_slope_change_2', 'per_slope_change_3',\n",
       "       'per_slope_change_4', 'per_slope_change_5', 'per_slope_change_6',\n",
       "       'per_slope_change_7', 'slope_0', 'slope_1', 'slope_2', 'slope_3',\n",
       "       'slope_4', 'slope_5', 'slope_6', 'slope_7', 'slope_8', 'dif_first',\n",
       "       'dif_last'],\n",
       "      dtype='object')"
      ]
     },
     "execution_count": 4,
     "metadata": {},
     "output_type": "execute_result"
    }
   ],
   "source": [
    "drug_df.columns"
   ]
  },
  {
   "cell_type": "code",
   "execution_count": 5,
   "metadata": {},
   "outputs": [],
   "source": [
    "conc_columns= [\"fd_num_\"+str(i) for i in range(10)]\n",
    "response_norm = ['norm_cells_'+str(i) for i in range(10)]"
   ]
  },
  {
   "cell_type": "markdown",
   "metadata": {},
   "source": [
    "## Fit and save the data"
   ]
  },
  {
   "cell_type": "code",
   "execution_count": 6,
   "metadata": {},
   "outputs": [],
   "source": [
    "def SplitFitParam(df):\n",
    "    \"\"\"Column fitting_param is splitted into separate columns \"\"\"\n",
    "    conc_columns= [\"fd_num_\"+str(i) for i in range(10)]\n",
    "    response_norm = ['norm_cells_'+str(i) for i in range(10)]\n",
    "    param_columns = [\"DRUG_ID\", \"COSMIC_ID\", \"MAX_CONC\"] + conc_columns + response_norm\n",
    "    for i in range(len(df['fitting_param'].values[0])):\n",
    "        param_col = \"param_\"+str(i+1)\n",
    "        param_columns.append(param_col)\n",
    "        df[param_col] = df['fitting_param'].apply(lambda x: x[i])\n",
    "    return df[param_columns]"
   ]
  },
  {
   "cell_type": "markdown",
   "metadata": {},
   "source": [
    "### sigmoid_4_param"
   ]
  },
  {
   "cell_type": "code",
   "execution_count": 17,
   "metadata": {},
   "outputs": [
    {
     "name": "stderr",
     "output_type": "stream",
     "text": [
      "100%|██████████| 2776/2776 [00:04<00:00, 646.34it/s]"
     ]
    },
    {
     "name": "stdout",
     "output_type": "stream",
     "text": [
      "Fitted data with removed unfit (2772, 47)\n"
     ]
    },
    {
     "name": "stderr",
     "output_type": "stream",
     "text": [
      "\n"
     ]
    }
   ],
   "source": [
    "fitting_function = \"sigmoid_4_param\"\n",
    "df1 = FittedData(drug_df, x_columns=conc_columns, y_columns= response_norm, \n",
    "                fitting_function=fitting_function, default_param = True)\n",
    "print(\"Fitted data with removed unfit\", df1.shape)"
   ]
  },
  {
   "cell_type": "code",
   "execution_count": 19,
   "metadata": {},
   "outputs": [
    {
     "data": {
      "text/plain": [
       "True"
      ]
     },
     "execution_count": 19,
     "metadata": {},
     "output_type": "execute_result"
    }
   ],
   "source": [
    "\"fitting_r2\" in df1.columns"
   ]
  },
  {
   "cell_type": "markdown",
   "metadata": {},
   "source": [
    "### logistic4"
   ]
  },
  {
   "cell_type": "code",
   "execution_count": 20,
   "metadata": {},
   "outputs": [
    {
     "name": "stderr",
     "output_type": "stream",
     "text": [
      "100%|██████████| 2776/2776 [00:04<00:00, 680.99it/s]"
     ]
    },
    {
     "name": "stdout",
     "output_type": "stream",
     "text": [
      "Fitted data with removed unfit (2776, 47)\n"
     ]
    },
    {
     "name": "stderr",
     "output_type": "stream",
     "text": [
      "\n"
     ]
    }
   ],
   "source": [
    "fitting_function = \"logistic4\"\n",
    "df2 = FittedData(drug_df, x_columns=conc_columns, y_columns= response_norm, \n",
    "                fitting_function=fitting_function, default_param = True)\n",
    "print(\"Fitted data with removed unfit\", df2.shape)"
   ]
  },
  {
   "cell_type": "code",
   "execution_count": 21,
   "metadata": {},
   "outputs": [
    {
     "data": {
      "text/plain": [
       "True"
      ]
     },
     "execution_count": 21,
     "metadata": {},
     "output_type": "execute_result"
    }
   ],
   "source": [
    "\"fitting_r2\" in df2.columns"
   ]
  },
  {
   "cell_type": "markdown",
   "metadata": {},
   "source": [
    "### logLogistR"
   ]
  },
  {
   "cell_type": "code",
   "execution_count": 22,
   "metadata": {},
   "outputs": [
    {
     "name": "stderr",
     "output_type": "stream",
     "text": [
      "100%|██████████| 2776/2776 [00:04<00:00, 593.60it/s]"
     ]
    },
    {
     "name": "stdout",
     "output_type": "stream",
     "text": [
      "Fitted data with removed unfit (2776, 47)\n"
     ]
    },
    {
     "name": "stderr",
     "output_type": "stream",
     "text": [
      "\n"
     ]
    }
   ],
   "source": [
    "fitting_function = \"logLogistR\"\n",
    "df3 = FittedData(drug_df, x_columns=conc_columns, y_columns= response_norm, \n",
    "                fitting_function=fitting_function, default_param = True)\n",
    "print(\"Fitted data with removed unfit\", df3.shape)"
   ]
  },
  {
   "cell_type": "code",
   "execution_count": 30,
   "metadata": {},
   "outputs": [],
   "source": [
    "models= [\"sigmoid_4_param\", \"logistic4\",\"logLogistR\"]\n",
    "compare_models = pd.DataFrame(index= models, columns= [\"shape\",\"r2_pos\", \"r2_09\"])\n",
    "\n",
    "compare_models.loc['sigmoid_4_param', \"shape\"]= df1.shape[0]\n",
    "compare_models.loc['logistic4', \"shape\"]= df2.shape[0]\n",
    "compare_models.loc['logLogistR', \"shape\"]= df3.shape[0]\n",
    "\n",
    "compare_models.loc['sigmoid_4_param', \"r2_pos\"]= df1[df1[\"fitting_r2\"]>0].shape[0]\n",
    "compare_models.loc['logistic4', \"r2_pos\"]= df2[df2[\"fitting_r2\"]>0].shape[0]\n",
    "compare_models.loc['logLogistR', \"r2_pos\"]= df3[df3[\"fitting_r2\"]>0].shape[0]\n",
    "\n",
    "compare_models.loc['sigmoid_4_param', \"r2_09\"]= df1[df1[\"fitting_r2\"]>0.9].shape[0]\n",
    "compare_models.loc['logistic4', \"r2_09\"]= df2[df2[\"fitting_r2\"]>0.9].shape[0]\n",
    "compare_models.loc['logLogistR', \"r2_09\"]= df3[df3[\"fitting_r2\"]>0.9].shape[0]"
   ]
  },
  {
   "cell_type": "code",
   "execution_count": 31,
   "metadata": {},
   "outputs": [
    {
     "data": {
      "text/html": [
       "<div>\n",
       "<style scoped>\n",
       "    .dataframe tbody tr th:only-of-type {\n",
       "        vertical-align: middle;\n",
       "    }\n",
       "\n",
       "    .dataframe tbody tr th {\n",
       "        vertical-align: top;\n",
       "    }\n",
       "\n",
       "    .dataframe thead th {\n",
       "        text-align: right;\n",
       "    }\n",
       "</style>\n",
       "<table border=\"1\" class=\"dataframe\">\n",
       "  <thead>\n",
       "    <tr style=\"text-align: right;\">\n",
       "      <th></th>\n",
       "      <th>shape</th>\n",
       "      <th>r2_pos</th>\n",
       "      <th>r2_09</th>\n",
       "    </tr>\n",
       "  </thead>\n",
       "  <tbody>\n",
       "    <tr>\n",
       "      <th>sigmoid_4_param</th>\n",
       "      <td>2772</td>\n",
       "      <td>2755</td>\n",
       "      <td>2701</td>\n",
       "    </tr>\n",
       "    <tr>\n",
       "      <th>logistic4</th>\n",
       "      <td>2776</td>\n",
       "      <td>2776</td>\n",
       "      <td>2739</td>\n",
       "    </tr>\n",
       "    <tr>\n",
       "      <th>logLogistR</th>\n",
       "      <td>2776</td>\n",
       "      <td>2776</td>\n",
       "      <td>2734</td>\n",
       "    </tr>\n",
       "  </tbody>\n",
       "</table>\n",
       "</div>"
      ],
      "text/plain": [
       "                 shape  r2_pos  r2_09\n",
       "sigmoid_4_param   2772    2755   2701\n",
       "logistic4         2776    2776   2739\n",
       "logLogistR        2776    2776   2734"
      ]
     },
     "execution_count": 31,
     "metadata": {},
     "output_type": "execute_result"
    }
   ],
   "source": [
    "compare_models"
   ]
  },
  {
   "cell_type": "code",
   "execution_count": null,
   "metadata": {},
   "outputs": [],
   "source": []
  },
  {
   "cell_type": "code",
   "execution_count": null,
   "metadata": {},
   "outputs": [],
   "source": []
  },
  {
   "cell_type": "code",
   "execution_count": 11,
   "metadata": {},
   "outputs": [],
   "source": [
    "df.to_csv(_FOLDER_2+\"fit_filtered_drug_profiles_123.csv\")"
   ]
  }
 ],
 "metadata": {
  "kernelspec": {
   "display_name": "Python 3",
   "language": "python",
   "name": "python3"
  },
  "language_info": {
   "codemirror_mode": {
    "name": "ipython",
    "version": 3
   },
   "file_extension": ".py",
   "mimetype": "text/x-python",
   "name": "python",
   "nbconvert_exporter": "python",
   "pygments_lexer": "ipython3",
   "version": "3.7.1"
  }
 },
 "nbformat": 4,
 "nbformat_minor": 2
}
